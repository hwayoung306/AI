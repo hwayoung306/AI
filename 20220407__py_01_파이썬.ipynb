{
  "nbformat": 4,
  "nbformat_minor": 0,
  "metadata": {
    "colab": {
      "name": "공부_20220407__py_01-파이썬.ipynb",
      "provenance": [],
      "collapsed_sections": [
        "xUDLO9m2I7hu",
        "oRhMNVlM2PZs",
        "Qq0Ybs0hQKRF",
        "_iK_YjN4_4cQ"
      ],
      "include_colab_link": true
    },
    "kernelspec": {
      "name": "python3",
      "display_name": "Python 3"
    }
  },
  "cells": [
    {
      "cell_type": "markdown",
      "metadata": {
        "id": "view-in-github",
        "colab_type": "text"
      },
      "source": [
        "<a href=\"https://colab.research.google.com/github/hwayoung306/AI/blob/main/%EA%B3%B5%EB%B6%80_20220407__py_01_%ED%8C%8C%EC%9D%B4%EC%8D%AC.ipynb\" target=\"_parent\"><img src=\"https://colab.research.google.com/assets/colab-badge.svg\" alt=\"Open In Colab\"/></a>"
      ]
    },
    {
      "cell_type": "markdown",
      "metadata": {
        "id": "pmDFa5Nc-8Kh"
      },
      "source": [
        "# 파이썬 기초\n",
        "\n",
        "## 다루는 내용\n",
        "\n",
        "### 코렙 & 쥬피터 사용법  \n",
        "https://theorydb.github.io/dev/2019/08/23/dev-ml-colab/\n",
        "\n",
        "### 파이썬 기초\n",
        "- 정수(int), 부동소수(float), 문자(strings), 불리언(True/False),  \n",
        "- 리스트(list), 튜풀(tuple), 사전(dictionary)\n",
        "- for문, if문\n",
        "- 함수, 클래스\n",
        "\n",
        "#### 참고 [점프 투 파이썬](https://wikidocs.net/book/1), [파이썬 한글문서](https://docs.python.org/ko/3/contents.html)\n"
      ]
    },
    {
      "cell_type": "markdown",
      "metadata": {
        "id": "6kPkkTNG-8Kr"
      },
      "source": [
        "## 프로그래밍 언어(programming Languages)\n",
        "\n",
        "* 컴퓨터 시스템을 구동 시키는 소프트웨어를 작성하기 위한 형식 언어\n",
        "\n",
        "* ex) C, C++, C#, Java, Kotlin, Python, R 등\n",
        "\n",
        "\n",
        "## 컴퓨팅 사고(Computational Thinking)\n",
        "\n",
        "* 컴퓨터(사람이나 기계)가 효과적으로 수행할 수 있도록 문제를 정의하고 그에 대한 답을 기술하는 것이 포함된 사고\n",
        "\n",
        "* ex) 스케줄\n",
        "\n",
        "* 6개의 공이 있다.\n",
        "1개는 무게가 덜 나간다.\n",
        "최소 몇 번의 저울질로 가벼운 공을 분류 할 수 있을까?\n",
        "\n",
        "\n",
        "<center>\n",
        " <img src=\"https://previews.123rf.com/images/yuliaglam/yuliaglam1202/yuliaglam120200153/12358071-%EC%A0%95%EC%9D%98%EC%9D%98-%EC%A0%80%EC%9A%B8%EC%9D%98-%EB%B2%A1%ED%84%B0-%EC%9D%BC%EB%9F%AC%EC%8A%A4%ED%8A%B8-%EB%A0%88%EC%9D%B4-%EC%85%98.jpg\" alt=\"저울\" width=\"60%\" />\n",
        "\n",
        "  <img src=\"https://previews.123rf.com/images/phonlamaiphoto/phonlamaiphoto1609/phonlamaiphoto160901076/63134139-3d-%EB%A0%8C%EB%8D%94%EB%A7%81-%ED%99%94%EC%9D%B4%ED%8A%B8-%EC%A0%88%EC%97%B0%EC%9D%98-%EB%8B%A4%EC%B1%84%EB%A1%9C%EC%9A%B4-%ED%9C%98%ED%8A%B8%EB%8B%88%EC%8A%A4-%EA%B3%B5-6-%EA%B0%9C.jpg\" alt=\"공6개\" width=\"60%\" />\n",
        "\n",
        "</center>\n",
        "\n",
        "\n",
        "* 다리건너기\n",
        " <center>\n",
        " <img src=\"https://img1.daumcdn.net/thumb/R800x0/?scode=mtistory2&fname=https%3A%2F%2Ft1.daumcdn.net%2Fcfile%2Ftistory%2F99E0D8495D8C644A19\" alt=\"저울\" width=\"60%\" />\n",
        "\n",
        "</center>\n",
        "\n",
        "| 1분 | 2분 | 5분 | 10분 |\n",
        "|-|-|-|-|\n",
        "\n",
        " * 총 4명의 사람이 있습니다. 네 사람들은 다리를 건너는 대 각각 1, 2, 5, 10분이 걸립니다. 손전등을 이용해서 한 번에 2명씩만 이동할 수 있고, 현재 손전등은 하나 입니다.\n",
        " 최대한 빠르게 다리를 건넌다면 몇 분 안에 건널 수 있을까요?\n",
        "\n"
      ]
    },
    {
      "cell_type": "markdown",
      "metadata": {
        "id": "5ZX2k8CS-8Kn"
      },
      "source": [
        "## 코렙 & 쥬피터 사용"
      ]
    },
    {
      "cell_type": "markdown",
      "metadata": {
        "id": "5BmlVPn4-8Kv"
      },
      "source": [
        "## 파이썬 기초"
      ]
    },
    {
      "cell_type": "markdown",
      "metadata": {
        "id": "-o3vP3QvClJV"
      },
      "source": [
        "파이썬 : \n",
        "* 1991년에 귀도 반 로섬(Guido van Rossum)이 개발한 \n",
        "**인터프리터 언어(Interpreter language)**\n"
      ]
    },
    {
      "cell_type": "markdown",
      "metadata": {
        "id": "ZUlEqy7dDTJR"
      },
      "source": [
        "의도적으로 간결하게 만든 언어\n",
        "\n",
        "직관적으로 무엇을 뜻하는지 알 수 있는 언어\n",
        "```\n",
        "if 4 in [1,2,3,4]: print(\"4가 있습니다\")\n",
        "```\n",
        "\n",
        "\"만약 4가 1,2,3,4중에 있으면 \"4가 있습니다\"를 출력한다\"\n"
      ]
    },
    {
      "cell_type": "code",
      "source": [
        ""
      ],
      "metadata": {
        "id": "3hVMwyt_K9pO"
      },
      "execution_count": null,
      "outputs": []
    },
    {
      "cell_type": "markdown",
      "source": [
        "# 자료형종류"
      ],
      "metadata": {
        "id": "gADtJ7tS3esn"
      }
    },
    {
      "cell_type": "code",
      "source": [
        "# 숫자형\n",
        "integer = -1\n",
        "print(integer)\n",
        "# interger = \"hello\"\n",
        "# 숫자형 타입에서 다른 타입으로 변동 가능 !!\n",
        "\n",
        "# 문자열\n",
        "string = '안녕'\n",
        "print(string)\n",
        "\n",
        "# 리스트\n",
        "list = [1,2,3,4]\n",
        "print(list)\n",
        "\n",
        "# 튜플 수정X\n",
        "tuple = (1,2,3)\n",
        "print(tuple)\n",
        "\n",
        "# 딕셔너리\n",
        "dic = {'name' : '홍길동', 'age' : 16}\n",
        "print(dic)\n",
        "\n",
        "# 집합 중복 허용X\n",
        "set({1,2,3,4,1,2,3,4})\n",
        "\n",
        "# Boolean\n",
        "b = True\n",
        "print(True)"
      ],
      "metadata": {
        "colab": {
          "base_uri": "https://localhost:8080/"
        },
        "id": "DVfVzio13jy2",
        "outputId": "c99c27d5-6070-4d8f-ef1c-997ae9d65e7b"
      },
      "execution_count": null,
      "outputs": [
        {
          "output_type": "stream",
          "name": "stdout",
          "text": [
            "-1\n",
            "안녕\n",
            "[1, 2, 3, 4]\n",
            "(1, 2, 3)\n",
            "{'name': '홍길동', 'age': 16}\n",
            "True\n"
          ]
        }
      ]
    },
    {
      "cell_type": "code",
      "source": [
        "a = 1.2\n",
        "b = 10\n",
        "c = 'hello'\n",
        "# 변수의 타입을 알려줌!\n",
        "type(a) "
      ],
      "metadata": {
        "colab": {
          "base_uri": "https://localhost:8080/"
        },
        "id": "ZoQA73OI7R36",
        "outputId": "5f90cac6-6446-443e-df10-f9954fcfd1af"
      },
      "execution_count": null,
      "outputs": [
        {
          "output_type": "execute_result",
          "data": {
            "text/plain": [
              "float"
            ]
          },
          "metadata": {},
          "execution_count": 7
        }
      ]
    },
    {
      "cell_type": "code",
      "source": [
        "str1 = \"'python's\\n 안녕\" # 이스케이프 문자\n",
        "str1\n",
        "print(str1)"
      ],
      "metadata": {
        "colab": {
          "base_uri": "https://localhost:8080/"
        },
        "id": "XANQVVvs8YGr",
        "outputId": "95bdc312-d88d-4480-f70a-38aca4e4f650"
      },
      "execution_count": null,
      "outputs": [
        {
          "output_type": "stream",
          "name": "stdout",
          "text": [
            "'python's\n",
            " 안녕\n"
          ]
        }
      ]
    },
    {
      "cell_type": "code",
      "source": [
        "# 문자열 인덱싱 슬라이싱\n",
        "print(str1[1])"
      ],
      "metadata": {
        "colab": {
          "base_uri": "https://localhost:8080/"
        },
        "id": "JFSFYF4l8-Qc",
        "outputId": "b7897b52-8c50-4899-d1de-79f9dfaec8f6"
      },
      "execution_count": null,
      "outputs": [
        {
          "output_type": "stream",
          "name": "stdout",
          "text": [
            "p\n"
          ]
        }
      ]
    },
    {
      "cell_type": "code",
      "source": [
        "# a에 들어있는 문자열을 연도, 월, 일 날씨로 구분하여 저장\n",
        "a = \"20220407Rainy\"\n",
        "year = a[:4]\n",
        "month = a[4:6]\n",
        "day = a[6:8]\n",
        "wether = a[8:]\n",
        "print(year, month, day, wether)"
      ],
      "metadata": {
        "colab": {
          "base_uri": "https://localhost:8080/"
        },
        "id": "HyXGRvqv_eL1",
        "outputId": "da45fd18-6b1a-442e-9359-56cc9a543507"
      },
      "execution_count": null,
      "outputs": [
        {
          "output_type": "stream",
          "name": "stdout",
          "text": [
            "2022 04 07 Rainy\n"
          ]
        }
      ]
    },
    {
      "cell_type": "markdown",
      "metadata": {
        "id": "4CkrTvLx27L9"
      },
      "source": [
        "<center> 연산자 종류 </center>\n",
        "\n",
        "|연산자|설명|\n",
        "|---|---|\n",
        "|산술연산자|/  %  //  +  - *|\n",
        "|지수연산자|**|\n",
        "|관계(비교)연산자|<  >  <=  >=  ==  !=|\n",
        "|논리연산자|or  and  not|\n",
        "|대입(복합)연산자|=  +=  -=  *=  /=  //=  %=|\n",
        "|삼항연산자|a if condition else b|\n"
      ]
    },
    {
      "cell_type": "markdown",
      "metadata": {
        "id": "R38TM_03vclj"
      },
      "source": [
        "#### 연산자 예제 01\n",
        "\n",
        "다음 코드를 완성하여 다음과 같은 결과를 출력하시오.\n",
        "```\n",
        "num1= 7\n",
        "num2 = 3\n",
        "?\n",
        "```\n",
        "```\n",
        "더하기 결과: 10\n",
        "빼기 결과: 4\n",
        "곱하기 결과: 21\n",
        "나누기 결과: 2.3333333333333335\n",
        "```\n",
        "\n"
      ]
    },
    {
      "cell_type": "code",
      "source": [
        "num1 = 7\n",
        "num2 = 3"
      ],
      "metadata": {
        "id": "o3Lh7nU3G5HO"
      },
      "execution_count": null,
      "outputs": []
    },
    {
      "cell_type": "code",
      "source": [
        "print('더하기 결과 : ', num1+num2)\n",
        "print('빼기 결과 : ', num1-num2)\n",
        "print('곱하기 결과 : ', num1*num2)\n",
        "print('나누기 결과 : ', num1/num2)"
      ],
      "metadata": {
        "colab": {
          "base_uri": "https://localhost:8080/"
        },
        "id": "gzDyphCoG8rn",
        "outputId": "33b32ce3-0e3d-43e7-934d-87b757680295"
      },
      "execution_count": null,
      "outputs": [
        {
          "output_type": "stream",
          "name": "stdout",
          "text": [
            "더하기 결과 :  10\n",
            "빼기 결과 :  4\n",
            "곱하기 결과 :  21\n",
            "나누기 결과 :  2.3333333333333335\n"
          ]
        }
      ]
    },
    {
      "cell_type": "markdown",
      "metadata": {
        "id": "7m37YyqpxJSp"
      },
      "source": [
        "#### 연산자 예제 02\n",
        "변수 num 값 중에서 백의 자리 이하를 버리는 코드이다.\n",
        "만일 변수 num의 값이 456이라며 400이 되고, 111이라면 100이 된다.\n",
        "```\n",
        "num = 456\n",
        "?\n",
        "```\n",
        "```\n",
        "결과 확인: 400\n",
        "```"
      ]
    },
    {
      "cell_type": "code",
      "source": [
        "num = 456\n",
        "print(\"결과확인 : \", (num -(num%100)))"
      ],
      "metadata": {
        "colab": {
          "base_uri": "https://localhost:8080/"
        },
        "id": "wYYMEBLhKqv-",
        "outputId": "86775e8e-80e9-4d42-df43-9b96f36beae3"
      },
      "execution_count": null,
      "outputs": [
        {
          "output_type": "stream",
          "name": "stdout",
          "text": [
            "결과확인 :  400\n"
          ]
        }
      ]
    },
    {
      "cell_type": "markdown",
      "metadata": {
        "id": "FlAL-ZLwz0J8"
      },
      "source": [
        "#### 연산자 예제 03\n",
        "초를 입력 받아 [시, 분, 초] 형태로 출력하세요.\n",
        "```\n",
        "초 입력: 3723\n",
        "1 시 2 분 3 초\n",
        "```"
      ]
    },
    {
      "cell_type": "code",
      "source": [
        "sec = input(\"초 입력 : \")\n",
        "sec = int(sec)\n",
        "s = sec%60\n",
        "m = (sec//60) % 60\n",
        "h = (sec-m) // (60*60)\n",
        "\n",
        "print(\"{}시 {}분 {}초\".format(h,m,s))"
      ],
      "metadata": {
        "colab": {
          "base_uri": "https://localhost:8080/"
        },
        "id": "5YP8xMZhK3GK",
        "outputId": "48811ac0-7ffa-43e6-c855-32072d2faad5"
      },
      "execution_count": null,
      "outputs": [
        {
          "output_type": "stream",
          "name": "stdout",
          "text": [
            "초 입력 : 3723\n",
            "1시 2분 3초\n"
          ]
        }
      ]
    },
    {
      "cell_type": "markdown",
      "metadata": {
        "id": "cV5O4rkO5jxT"
      },
      "source": [
        "#### 연산자 예제 04\n",
        "시급계산기 입니다. 기본시급은 5,000원이고, \n",
        "8시간이 넘을 경우 초과된 시간은 시급의 1.5배를 책정해줍니다.\n",
        "```\n",
        "노동 시간 입력: 11\n",
        "총 임금은 62,500 원 입니다.\n",
        "```"
      ]
    },
    {
      "cell_type": "code",
      "source": [
        "money = 5000\n",
        "time = int(input(\"노동 시간 입력 : \"))\n",
        "total = 0\n",
        "\n",
        "if time > 8 :\n",
        "    total = (money * 8) + ((money*1.5)*(time-8))\n",
        "else :\n",
        "    total = money*8\n",
        "\n",
        "print(\"총 임금은 %d 원 입니다.\" %(total))"
      ],
      "metadata": {
        "colab": {
          "base_uri": "https://localhost:8080/"
        },
        "id": "klX9KgsJmOCd",
        "outputId": "d8fa654c-2e16-4206-d08f-84c40e380175"
      },
      "execution_count": null,
      "outputs": [
        {
          "output_type": "stream",
          "name": "stdout",
          "text": [
            "노동 시간 입력 : 11\n",
            "총 임금은 62500 원 입니다.\n"
          ]
        }
      ]
    },
    {
      "cell_type": "code",
      "source": [
        ""
      ],
      "metadata": {
        "id": "bLTTV1y2nNJ-"
      },
      "execution_count": null,
      "outputs": []
    },
    {
      "cell_type": "markdown",
      "metadata": {
        "id": "xUDLO9m2I7hu"
      },
      "source": [
        "### 복합 자료형\n",
        "|자료형|설명|\n",
        "|---|---|\n",
        "|리스트|[ ], [1, 3, 5, 7, 9]|\n",
        "|튜플|( ), (1, 2, 3)|\n",
        "|딕셔너리|{'name':‘mihee', 'birth': '1118'} |\n",
        "|집합|set([1,2,3]) , set(\"Hello\")|\n"
      ]
    },
    {
      "cell_type": "markdown",
      "metadata": {
        "id": "KuRw5_QD-8NF"
      },
      "source": [
        "### 리스트\n",
        "- 여러 항목의 집합체로 각 항목의 타입은 서로 달라도 된다.\n",
        "- 리스트를 만들려면 대괄호 [ ]를 사용하고 각 항목을 ','로 구분한다"
      ]
    },
    {
      "cell_type": "code",
      "source": [
        ""
      ],
      "metadata": {
        "id": "OBachDoVK1d9"
      },
      "execution_count": null,
      "outputs": []
    },
    {
      "cell_type": "code",
      "source": [
        "items = [1,2,3,4,5,'kim']\n",
        "items"
      ],
      "metadata": {
        "colab": {
          "base_uri": "https://localhost:8080/"
        },
        "id": "BAUTvRkOqh6_",
        "outputId": "cad2f85e-9f74-4b98-d0e6-c6025a777457"
      },
      "execution_count": null,
      "outputs": [
        {
          "output_type": "execute_result",
          "data": {
            "text/plain": [
              "[1, 2, 3, 4, 5, 'kim']"
            ]
          },
          "metadata": {},
          "execution_count": 3
        }
      ]
    },
    {
      "cell_type": "code",
      "source": [
        "# 길이 구하기\n",
        "len(items)"
      ],
      "metadata": {
        "colab": {
          "base_uri": "https://localhost:8080/"
        },
        "id": "smyItNPEqcv8",
        "outputId": "65128f10-120c-45e5-ab85-b959efc2306b"
      },
      "execution_count": null,
      "outputs": [
        {
          "output_type": "execute_result",
          "data": {
            "text/plain": [
              "6"
            ]
          },
          "metadata": {},
          "execution_count": 4
        }
      ]
    },
    {
      "cell_type": "code",
      "source": [
        "# 리스트 인덱싱\n",
        "# 숫자인 내용은 잘 사칙현상이 이루어 지지만 글자와 숫자를 더하면 오류가 난다\n",
        "print(items[2], items[4], items[2]+items[4])"
      ],
      "metadata": {
        "colab": {
          "base_uri": "https://localhost:8080/"
        },
        "id": "W2leRWssqq6y",
        "outputId": "f955d030-717b-4a7c-e44b-30684b979cff"
      },
      "execution_count": null,
      "outputs": [
        {
          "output_type": "stream",
          "name": "stdout",
          "text": [
            "3 5 8\n"
          ]
        }
      ]
    },
    {
      "cell_type": "code",
      "source": [
        "items[2] = 1000\n",
        "items"
      ],
      "metadata": {
        "colab": {
          "base_uri": "https://localhost:8080/"
        },
        "id": "aGp-l51CrinP",
        "outputId": "a77be21a-915c-46c4-e476-b07ffdacca95"
      },
      "execution_count": null,
      "outputs": [
        {
          "output_type": "execute_result",
          "data": {
            "text/plain": [
              "[1, 2, 1000, 4, 5, 'kim']"
            ]
          },
          "metadata": {},
          "execution_count": 6
        }
      ]
    },
    {
      "cell_type": "code",
      "source": [
        "# 슬라이싱 [start:end+1]\n",
        "items[:3]"
      ],
      "metadata": {
        "colab": {
          "base_uri": "https://localhost:8080/"
        },
        "id": "pr4yTYpqq-2P",
        "outputId": "6a1b1447-0eec-48dd-85d3-4bd8cf81b7a7"
      },
      "execution_count": null,
      "outputs": [
        {
          "output_type": "execute_result",
          "data": {
            "text/plain": [
              "[1, 2, 1000]"
            ]
          },
          "metadata": {},
          "execution_count": 7
        }
      ]
    },
    {
      "cell_type": "code",
      "source": [
        "items[3:]"
      ],
      "metadata": {
        "colab": {
          "base_uri": "https://localhost:8080/"
        },
        "id": "SMmfcw-aslXh",
        "outputId": "004e3bde-ce04-47d5-c28a-dadccd348fb4"
      },
      "execution_count": null,
      "outputs": [
        {
          "output_type": "execute_result",
          "data": {
            "text/plain": [
              "[4, 5, 'kim']"
            ]
          },
          "metadata": {},
          "execution_count": 8
        }
      ]
    },
    {
      "cell_type": "code",
      "source": [
        "items[2:4]"
      ],
      "metadata": {
        "colab": {
          "base_uri": "https://localhost:8080/"
        },
        "id": "-tIshmWEssyV",
        "outputId": "008fb492-70b6-4bed-8579-ee9ccbe3a18a"
      },
      "execution_count": null,
      "outputs": [
        {
          "output_type": "execute_result",
          "data": {
            "text/plain": [
              "[1000, 4]"
            ]
          },
          "metadata": {},
          "execution_count": 9
        }
      ]
    },
    {
      "cell_type": "code",
      "source": [
        "# 리스트 복사\n",
        "a = [1,2,3,4]\n",
        "b = a # 같은 곳을 가리킴\n",
        "print(a,b)\n",
        "\n",
        "a[0] = 4\n",
        "print(a,b)\n",
        "\n",
        "print(a is b) # a랑 b랑 같니? 응! 주소값이 같아!\n",
        "print(id(a), id(b)) # 위치(값의 위치의 넘버링)값이 같음 \n",
        "\n",
        "#---------------\n",
        "b = a[:]\n",
        "print(a,b)\n",
        "print(a is b)\n",
        "print(id(a), id(b))\n",
        "\n",
        "# copy 모듈 이용\n",
        "from copy import copy\n",
        "b = copy(a)\n",
        "print(a is b)\n",
        "print(id(a), id(b))"
      ],
      "metadata": {
        "colab": {
          "base_uri": "https://localhost:8080/"
        },
        "id": "vJf1NHKLsuDC",
        "outputId": "dbdcf67b-e921-43d6-ae47-1dd5a67c4665"
      },
      "execution_count": null,
      "outputs": [
        {
          "output_type": "stream",
          "name": "stdout",
          "text": [
            "[1, 2, 3, 4] [1, 2, 3, 4]\n",
            "[4, 2, 3, 4] [4, 2, 3, 4]\n",
            "True\n",
            "140312328132960 140312328132960\n",
            "[4, 2, 3, 4] [4, 2, 3, 4]\n",
            "False\n",
            "140312328132960 140312329071504\n",
            "False\n",
            "140312328132960 140312328533488\n"
          ]
        }
      ]
    },
    {
      "cell_type": "markdown",
      "metadata": {
        "id": "929BW0nY8tBr"
      },
      "source": [
        "※ 메모리란 컴퓨터가 프로그램에서 사용하는 데이터를 기억하는 공간"
      ]
    },
    {
      "cell_type": "code",
      "source": [
        "# 리스트 값 추가, 두 줄을 한 줄로 코딩\n",
        "items.append('park'); items"
      ],
      "metadata": {
        "colab": {
          "base_uri": "https://localhost:8080/"
        },
        "id": "_vxec7akxPJr",
        "outputId": "326e5850-0ebc-4002-9c02-fd8b2fc12f92"
      },
      "execution_count": null,
      "outputs": [
        {
          "output_type": "execute_result",
          "data": {
            "text/plain": [
              "[1, 2, 1000, 4, 5, 'kim', 'park']"
            ]
          },
          "metadata": {},
          "execution_count": 17
        }
      ]
    },
    {
      "cell_type": "code",
      "source": [
        "arr = [1,2,3,4,5]\n",
        "arr[4] = 7 # 값 바꾸는 것\n",
        "arr.index(4) # 값의 위치index값을 구하는 법\n",
        "arr.insert(3, 'my') # (인덱스, 넣을 값) 해당 인덱스에 값을 넣는다\n",
        "print(arr)\n",
        "\n",
        "# 마지막 요소를 가져온 뒤 리스트에서 요소 제거\n",
        "a = arr.pop()\n",
        "print(arr,a)\n",
        "\n",
        "b = arr.pop(3) # ()안에 인덱스 번호를 넣으면 해당 인덱스 번호의 값이 제거된다\n",
        "print(arr,b)"
      ],
      "metadata": {
        "colab": {
          "base_uri": "https://localhost:8080/"
        },
        "id": "6lmZxgo6xg80",
        "outputId": "54e03c67-e4a7-40b0-dd1b-e974dc3acf9e"
      },
      "execution_count": null,
      "outputs": [
        {
          "output_type": "stream",
          "name": "stdout",
          "text": [
            "[1, 2, 3, 'my', 4, 7]\n",
            "[1, 2, 3, 'my', 4] 7\n",
            "[1, 2, 3, 4] my\n"
          ]
        }
      ]
    },
    {
      "cell_type": "code",
      "source": [
        "# 리스트 요소 삭제\n",
        "arr = [1,2,3,4,5]\n",
        "arr[1:3] = [] # [] 사용해서 리스트 요소 삭제하기\n",
        "print(arr)\n",
        "\n",
        "del arr[1] # del 함수 사용해서 리스트 요소 삭제 _ 인덱스 1번째 요소 삭제\n",
        "print(arr)\n",
        "\n",
        "arr.remove(5) # 해당 값을 삭제\n",
        "print(arr)"
      ],
      "metadata": {
        "colab": {
          "base_uri": "https://localhost:8080/"
        },
        "id": "_lvyxI2KzWTD",
        "outputId": "1ca2e745-1e96-424f-e44b-2919e7ae0e9d"
      },
      "execution_count": null,
      "outputs": [
        {
          "output_type": "stream",
          "name": "stdout",
          "text": [
            "[1, 4, 5]\n",
            "[1, 5]\n",
            "[1]\n"
          ]
        }
      ]
    },
    {
      "cell_type": "code",
      "source": [
        "# 리스트 더하기\n",
        "a = [1,2,3]\n",
        "b = [4,5,6]\n",
        "a+b"
      ],
      "metadata": {
        "colab": {
          "base_uri": "https://localhost:8080/"
        },
        "id": "7mSh9RlE0qEj",
        "outputId": "176fe73c-0312-4da6-e0a6-e0c6a2b88736"
      },
      "execution_count": null,
      "outputs": [
        {
          "output_type": "execute_result",
          "data": {
            "text/plain": [
              "[1, 2, 3, 4, 5, 6]"
            ]
          },
          "metadata": {},
          "execution_count": 31
        }
      ]
    },
    {
      "cell_type": "code",
      "source": [
        "# 정렬\n",
        "arr = [1,2,3,4,5]\n",
        "arr.reverse() # arr 자체가 거꾸로 바뀌어짐\n",
        "print(arr)\n",
        "\n",
        "a= sorted(arr) # arr 자체가 바뀌지 않고 정렬하여 내용을 넘김\n",
        "print(a, arr)\n"
      ],
      "metadata": {
        "colab": {
          "base_uri": "https://localhost:8080/"
        },
        "id": "Wvlr9Auf0yzw",
        "outputId": "a15a8215-f8f8-4887-beea-aca76c2cbe9a"
      },
      "execution_count": null,
      "outputs": [
        {
          "output_type": "stream",
          "name": "stdout",
          "text": [
            "[5, 4, 3, 2, 1]\n",
            "[1, 2, 3, 4, 5] [5, 4, 3, 2, 1]\n"
          ]
        }
      ]
    },
    {
      "cell_type": "code",
      "source": [
        "# 범위 함수 5를 넣으면 0~5까지\n",
        "arr = range(5)\n",
        "type(arr)\n",
        "print(arr)"
      ],
      "metadata": {
        "colab": {
          "base_uri": "https://localhost:8080/"
        },
        "id": "1Ntk03E-1uU8",
        "outputId": "21ed69f0-b56c-45b5-ceb6-7547096497a6"
      },
      "execution_count": null,
      "outputs": [
        {
          "output_type": "stream",
          "name": "stdout",
          "text": [
            "range(0, 5)\n"
          ]
        }
      ]
    },
    {
      "cell_type": "code",
      "source": [
        "# 리스트 표기법\n",
        "# 0~4까지의 리스트를 만듦\n",
        "arr  = [x for x in range(5)]\n",
        "print(arr)\n",
        "# 10의 배수의 리스틀를 만듦\n",
        "arr  = [x*10 for x in range(5)]\n",
        "print(arr)"
      ],
      "metadata": {
        "colab": {
          "base_uri": "https://localhost:8080/"
        },
        "id": "7Jb3o55H17Tm",
        "outputId": "730270a4-6c57-47be-8e8f-6124e9569c5a"
      },
      "execution_count": null,
      "outputs": [
        {
          "output_type": "stream",
          "name": "stdout",
          "text": [
            "[0, 1, 2, 3, 4]\n",
            "[0, 10, 20, 30, 40]\n"
          ]
        }
      ]
    },
    {
      "cell_type": "markdown",
      "metadata": {
        "id": "HpXpRMuDL_7_"
      },
      "source": [
        "#### 리스트 예제 01\n",
        "```\n",
        "array = [1, 2, 3, 4, 5]\n",
        "```\n",
        "리스트 array에 숫자 5를 7으로 바꾸시오.\n",
        "\n",
        "리스트 array에 숫자 2를  리스트[‘a’,’b’,’c’]로 바꾸시오.\n",
        "\n",
        "리스트 array에 4,7를  ‘d’, ‘e’, ‘f’, ‘g’로 바꾸시오.\n",
        "```\n",
        "[1, 2, 3, 4, 7]\n",
        "[1, ['a', 'b', 'c'], 3, 4, 7]\n",
        "[1, ['a', 'b', 'c'], 3, 'd', 'e', 'f', 'g']\n",
        "```"
      ]
    },
    {
      "cell_type": "code",
      "source": [
        "array = [1, 2, 3, 4, 5]\n",
        "array[-1] = 7\n",
        "print(array)\n",
        "array[1] = ['a','b','c']\n",
        "print(array)\n",
        "array.pop()\n",
        "array.pop()\n",
        "array += ['d','e','f','g']\n",
        "print(array)"
      ],
      "metadata": {
        "colab": {
          "base_uri": "https://localhost:8080/"
        },
        "id": "q-a0IKjm2XWu",
        "outputId": "653f660f-d131-4bee-b983-3fd59a950d1e"
      },
      "execution_count": null,
      "outputs": [
        {
          "output_type": "stream",
          "name": "stdout",
          "text": [
            "[1, 2, 3, 4, 7]\n",
            "[1, ['a', 'b', 'c'], 3, 4, 7]\n",
            "[1, ['a', 'b', 'c'], 3, 'd', 'e', 'f', 'g']\n"
          ]
        }
      ]
    },
    {
      "cell_type": "markdown",
      "metadata": {
        "id": "L77iw-Ml-8P8"
      },
      "source": [
        "### 튜플 (tuple)\n",
        "- 튜플은 리스트처럼 여러 항목의 집합을 담을 수 있는데 리스트와 달리 튜플의 내용은 '상수'로 취급되어 값을 바꿀 수 없다\n",
        "- 튜플을 만들려면 소괄호( )를 사용하여 만들거나 , 로 구분하여 나열한다."
      ]
    },
    {
      "cell_type": "code",
      "source": [
        "# 튜플명 = (요소1, 요소2, 요소3...)\n",
        "# 리스트와 비슷하지만 값을 바꿀 수 없다! 근데 요소가 리스트면 리스트는 변경 가능하다\n",
        "a =() # 빈 리스트\n",
        "b = (1,2,3)\n",
        "c = (1,)"
      ],
      "metadata": {
        "id": "roiFHnGuK0Gl"
      },
      "execution_count": null,
      "outputs": []
    },
    {
      "cell_type": "code",
      "source": [
        "# 괄호가 없어도 됨\n",
        "t1 = 1, 2, 4\n",
        "t2 = (3,4,5)\n",
        "t3 = t1+t2\n",
        "\n",
        "print(t3)\n",
        "t1, t2, t3 # 이것도 괄호 없이 리스트가 됨"
      ],
      "metadata": {
        "colab": {
          "base_uri": "https://localhost:8080/"
        },
        "id": "sl0wP96o5dsL",
        "outputId": "344ed787-1a40-44f2-a35d-fad911665c45"
      },
      "execution_count": null,
      "outputs": [
        {
          "output_type": "stream",
          "name": "stdout",
          "text": [
            "(1, 2, 4, 3, 4, 5)\n"
          ]
        },
        {
          "output_type": "execute_result",
          "data": {
            "text/plain": [
              "((1, 2, 4), (3, 4, 5), (1, 2, 4, 3, 4, 5))"
            ]
          },
          "metadata": {},
          "execution_count": 45
        }
      ]
    },
    {
      "cell_type": "code",
      "source": [
        "# 튜플에서 값 분리\n",
        "t = 1, 2, 3\n",
        "a, b, c = t\n",
        "print(a,b,c)\n",
        "\n",
        "# 불필요한 변수: 필요 없는 값을 무시 (*rest)\n",
        "a, *_ = t\n",
        "print(a)\n",
        "\n",
        "# 두 변수의 값 교체\n",
        "a,b = 1,2\n",
        "a,b = b,a\n",
        "print(a, b)"
      ],
      "metadata": {
        "colab": {
          "base_uri": "https://localhost:8080/"
        },
        "id": "pTXjwnE1_Huy",
        "outputId": "0e2e3b39-fdd1-4ab0-e3b8-a12582a75779"
      },
      "execution_count": null,
      "outputs": [
        {
          "output_type": "stream",
          "name": "stdout",
          "text": [
            "1 2 3\n",
            "1\n",
            "2 1\n"
          ]
        }
      ]
    },
    {
      "cell_type": "code",
      "source": [
        "# in, not in\n",
        "if ('x' in 'xyz') :\n",
        "    print(\"hello\")\n",
        "\n",
        "'x' in ('x', 'y', 'z')"
      ],
      "metadata": {
        "colab": {
          "base_uri": "https://localhost:8080/"
        },
        "id": "9lC0LHfzAfu1",
        "outputId": "911cd2ee-32b9-4d49-d1dc-18f7ec23717e"
      },
      "execution_count": null,
      "outputs": [
        {
          "output_type": "stream",
          "name": "stdout",
          "text": [
            "hello\n"
          ]
        },
        {
          "output_type": "execute_result",
          "data": {
            "text/plain": [
              "True"
            ]
          },
          "metadata": {},
          "execution_count": 51
        }
      ]
    },
    {
      "cell_type": "code",
      "source": [
        "'a' not in ['x', 'y', 'z']"
      ],
      "metadata": {
        "colab": {
          "base_uri": "https://localhost:8080/"
        },
        "id": "99_-aoMlAxid",
        "outputId": "6988dfff-600e-47ab-8046-322ff53a5038"
      },
      "execution_count": null,
      "outputs": [
        {
          "output_type": "execute_result",
          "data": {
            "text/plain": [
              "True"
            ]
          },
          "metadata": {},
          "execution_count": 52
        }
      ]
    },
    {
      "cell_type": "markdown",
      "metadata": {
        "id": "lCrzK-qv-8QN"
      },
      "source": [
        "### 딕셔너리 (Dictionaries)\n",
        "- 딕셔너리로 키-값 조합 형태의 리스트를 만들 수 있다. \n",
        "- 딕셔너리에서는 항목을 찾을 때 키를 사용한다\n",
        "- 딕셔너너리에서 저장된 순서는 중요시하지 않는다.\n",
        "- 딕셔너리는 중괄호 {  } 로 만든다."
      ]
    },
    {
      "cell_type": "code",
      "source": [
        "dict1 = {'name' : 'kim', 'age' : 21, 'grade':3, 0 : 4}\n",
        "print(dict1['age'])\n",
        "print(dict1.keys())\n",
        "print(dict1.values())\n",
        "print(dict1.items())\n",
        "dict1['name'] = 'lee'\n",
        "dict1"
      ],
      "metadata": {
        "id": "au44d4xjLBFm",
        "colab": {
          "base_uri": "https://localhost:8080/"
        },
        "outputId": "fa48dd79-c5ad-4775-99d3-9a0ef6dd322b"
      },
      "execution_count": null,
      "outputs": [
        {
          "output_type": "stream",
          "name": "stdout",
          "text": [
            "21\n",
            "dict_keys(['name', 'age', 'grade', 0])\n",
            "dict_values(['kim', 21, 3, 4])\n",
            "dict_items([('name', 'kim'), ('age', 21), ('grade', 3), (0, 4)])\n"
          ]
        },
        {
          "output_type": "execute_result",
          "data": {
            "text/plain": [
              "{0: 4, 'age': 21, 'grade': 3, 'name': 'lee'}"
            ]
          },
          "metadata": {},
          "execution_count": 54
        }
      ]
    },
    {
      "cell_type": "code",
      "source": [
        "dict1[0], type(dict1)"
      ],
      "metadata": {
        "colab": {
          "base_uri": "https://localhost:8080/"
        },
        "id": "pzSA6qBBCCyU",
        "outputId": "6c9fdc50-e418-4209-a300-5afa0a147c53"
      },
      "execution_count": null,
      "outputs": [
        {
          "output_type": "execute_result",
          "data": {
            "text/plain": [
              "(4, dict)"
            ]
          },
          "metadata": {},
          "execution_count": 55
        }
      ]
    },
    {
      "cell_type": "code",
      "source": [
        "# items 함수를 통해 key 값을 가져오는건데 여기서 k,v는 변수\n",
        "for k,v in dict1.items() :\n",
        "    print(k,v)"
      ],
      "metadata": {
        "colab": {
          "base_uri": "https://localhost:8080/"
        },
        "id": "b2FBksFwCIiE",
        "outputId": "77f31ad3-0151-4245-cdf4-394a7aa9fd97"
      },
      "execution_count": null,
      "outputs": [
        {
          "output_type": "stream",
          "name": "stdout",
          "text": [
            "name lee\n",
            "age 21\n",
            "grade 3\n",
            "0 4\n"
          ]
        }
      ]
    },
    {
      "cell_type": "markdown",
      "metadata": {
        "id": "nUG-XDa58cTo"
      },
      "source": [
        "#### 카운트\n",
        "\n",
        "dict는 딕셔너리이므로 키와 값 쌍으로 입력됩니다.\n",
        "\n",
        "해당하는 키가 없을 경우에는 에러가 발생하므로 처음 추가되는 키에는 '+=' 을 사용할 수 없습니다.\n",
        "\n",
        "때문에 if 문으로 키값 여부를 체크하고 있습니다.\n",
        "키가 없을 경우에는 대입연산자'='를 사용하여 키를 추가하고 있습니다."
      ]
    },
    {
      "cell_type": "code",
      "source": [
        "dic = {}\n",
        "# 값 추가\n",
        "dic['1'] = 1\n",
        "print(dic)\n",
        "\n",
        "# 값 변경\n",
        "dic['1'] = 2;\n",
        "print(dic)\n",
        "\n",
        "# +=, -=, %=... 을 통해 값 변경. 이것은 값이 존재하는 곳에 사용해야함\n",
        "dic['1'] += 1;\n",
        "print(dic)\n",
        "\n",
        "# 오류\n",
        "# dic['2'] += 2"
      ],
      "metadata": {
        "id": "QR87FlfuLD80",
        "colab": {
          "base_uri": "https://localhost:8080/"
        },
        "outputId": "52da8080-4ec2-457a-b103-b2aac2d55840"
      },
      "execution_count": null,
      "outputs": [
        {
          "output_type": "stream",
          "name": "stdout",
          "text": [
            "{'1': 1}\n",
            "{'1': 2}\n",
            "{'1': 3}\n"
          ]
        }
      ]
    },
    {
      "cell_type": "markdown",
      "metadata": {
        "id": "8KLbtWbIIG37"
      },
      "source": [
        "### 집합(set)\n",
        "- 중복을 허용하지 않는다.\n",
        "- 순서가 없다(Unordered). 순서가 없는 자료형이라 인덱싱을 지원하지 않는다.\n",
        "\n",
        "※ 중복을 허용하지 않는 set의 특징은 자료형의 중복을 제거하기 위한 필터 역할로 종종 사용하기도 한다.\n"
      ]
    },
    {
      "cell_type": "code",
      "source": [
        "t = (1,2,3,3)\n",
        "s1 = set(t)\n",
        "s1"
      ],
      "metadata": {
        "id": "Uk05dh1uLGDj",
        "colab": {
          "base_uri": "https://localhost:8080/"
        },
        "outputId": "35003488-399e-41e9-b26c-a0b51437c0fe"
      },
      "execution_count": null,
      "outputs": [
        {
          "output_type": "execute_result",
          "data": {
            "text/plain": [
              "{1, 2, 3}"
            ]
          },
          "metadata": {},
          "execution_count": 62
        }
      ]
    },
    {
      "cell_type": "code",
      "source": [
        "# 교집합, 합집합, 차집합\n",
        "s1 = set([1,2,3,4,5,6])\n",
        "s2 = set([4,5,6])\n",
        "\n",
        "print(s1&s2) # 교집합\n",
        "print(s1|s2) # 합집합\n",
        "print(s1-s2) # 차집합 s1에서 교집합 빼기!\n",
        "print(s2-s1) # 차집합 -> 빈 집합이 나옴"
      ],
      "metadata": {
        "colab": {
          "base_uri": "https://localhost:8080/"
        },
        "id": "sWScfoA2EvVj",
        "outputId": "fe6c7dde-c4e7-40be-ec4d-5239fb5aaacd"
      },
      "execution_count": null,
      "outputs": [
        {
          "output_type": "stream",
          "name": "stdout",
          "text": [
            "{4, 5, 6}\n",
            "{1, 2, 3, 4, 5, 6}\n",
            "{1, 2, 3}\n",
            "set()\n"
          ]
        }
      ]
    },
    {
      "cell_type": "code",
      "source": [
        "# 추가, 갱신, 삭제\n",
        "s1 = set([1,2,3])\n",
        "s1.add(4);\n",
        "print(s1)\n",
        "\n",
        "s1.update([4,5,6,7,800])\n",
        "print(s2)\n",
        "\n",
        "s1.remove(2)\n",
        "print(s1)"
      ],
      "metadata": {
        "colab": {
          "base_uri": "https://localhost:8080/"
        },
        "id": "ITg9pcOoGasL",
        "outputId": "52dfd292-5024-4c51-c427-fcde6aaae636"
      },
      "execution_count": null,
      "outputs": [
        {
          "output_type": "stream",
          "name": "stdout",
          "text": [
            "{1, 2, 3, 4}\n",
            "{4, 5, 6}\n",
            "{800, 1, 3, 4, 5, 6, 7}\n"
          ]
        }
      ]
    },
    {
      "cell_type": "code",
      "source": [
        "# 집합을 리스트로 변경하기\n",
        "list(s1)"
      ],
      "metadata": {
        "colab": {
          "base_uri": "https://localhost:8080/"
        },
        "id": "hZIJecrqGw3w",
        "outputId": "37b1abfd-5d76-4dbc-caf8-7dd7981d909f"
      },
      "execution_count": null,
      "outputs": [
        {
          "output_type": "execute_result",
          "data": {
            "text/plain": [
              "[800, 1, 3, 4, 5, 6, 7]"
            ]
          },
          "metadata": {},
          "execution_count": 72
        }
      ]
    },
    {
      "cell_type": "markdown",
      "metadata": {
        "id": "O1qFMPti-8RY"
      },
      "source": [
        "### if 조건문"
      ]
    },
    {
      "cell_type": "code",
      "source": [
        "x= 7\n",
        "if x > 10 :\n",
        "    print(\"10보다 큽니다.\")\n",
        "elif x > 5 :\n",
        "    print(\"5보다 큽습니다.\")\n",
        "else :\n",
        "    print(\"5보다 작습니다.\")"
      ],
      "metadata": {
        "id": "dqorNK3MLKp8",
        "colab": {
          "base_uri": "https://localhost:8080/"
        },
        "outputId": "5cc290b6-ed07-4ccc-8d24-581d12398c1a"
      },
      "execution_count": null,
      "outputs": [
        {
          "output_type": "stream",
          "name": "stdout",
          "text": [
            "5보다 큽습니다.\n"
          ]
        }
      ]
    },
    {
      "cell_type": "markdown",
      "metadata": {
        "id": "_I_MjlFvE73Z"
      },
      "source": [
        "#### 조건문 예제 01\n",
        "변수 num를 선언하고 키보드로 값을 입력받으세요.\n",
        "만약 num이 3의 배수이면서 5의 배수라면 “3과 5의 배수입니다”라고 출력하는 프로그램을 만들어보세요.\n"
      ]
    },
    {
      "cell_type": "code",
      "source": [
        "num = int(input(\"값을 입력해주세요 : \"))\n",
        "\n",
        "if (num %3 == 0) & (num % 5 == 0) :\n",
        "    print(\"3과 5의 배수입니다.\")"
      ],
      "metadata": {
        "id": "LryaTVClLMfz",
        "colab": {
          "base_uri": "https://localhost:8080/"
        },
        "outputId": "2b639f25-46c3-4d67-b111-9366630af189"
      },
      "execution_count": null,
      "outputs": [
        {
          "output_type": "stream",
          "name": "stdout",
          "text": [
            "값을 입력해주세요 : 15\n",
            "3과 5의 배수입닌다.\n"
          ]
        }
      ]
    },
    {
      "cell_type": "markdown",
      "metadata": {
        "id": "s7jSX_zZF7aF"
      },
      "source": [
        "#### 조건문 예제 02\n",
        "정수를 입력 받아  양수, 음수, 0을 판별하여 다음과 같이 출력하시오.\n",
        "```\n",
        "정수입력: 5\n",
        "5 양수입니다.\n",
        "\n",
        "정수입력: -7\n",
        "-7 음수입니다.\n",
        "\n",
        "정수입력: 0\n",
        "0입니다.\n",
        "```"
      ]
    },
    {
      "cell_type": "code",
      "metadata": {
        "id": "eVHMjB1PGAAV",
        "colab": {
          "base_uri": "https://localhost:8080/"
        },
        "outputId": "dbfb9e15-7702-47ed-8f4e-eb4412ff1af1"
      },
      "source": [
        "d = int(input(\"정수입력 : \"))\n",
        "if d > 0 :\n",
        "    print(\"{} 양수입니다.\".format(d))\n",
        "elif d < 0 :\n",
        "    print(\"{} 음수입니다.\".format(d))\n",
        "else :\n",
        "    print(\"0입니다.\")"
      ],
      "execution_count": null,
      "outputs": [
        {
          "output_type": "stream",
          "name": "stdout",
          "text": [
            "정수입력 : 0\n",
            "0입니다.\n"
          ]
        }
      ]
    },
    {
      "cell_type": "markdown",
      "metadata": {
        "id": "TaA-lQITxT7p"
      },
      "source": [
        "### while 반복문\n",
        "\n",
        "- 동작을 반복할 때 while 루프를 사용한다\n",
        "- while 문장의 끝에는 ':'가 있어야 하며 while 문이 적용되는 블록(block)은 반드시 들여쓰기 (indentation)을 해야 한다.\n",
        "\n",
        "while문의 기본 구조\n",
        "```\n",
        "while <조건문>:\n",
        "    <수행할 문장1>\n",
        "    <수행할 문장2>\n",
        "    <수행할 문장3>\n",
        "    ...\n",
        "```"
      ]
    },
    {
      "cell_type": "code",
      "source": [
        "i = 0\n",
        "while i < 10 :\n",
        "    print(i)\n",
        "    i += 1\n"
      ],
      "metadata": {
        "id": "XRVWJSLILR4D",
        "colab": {
          "base_uri": "https://localhost:8080/"
        },
        "outputId": "b5083262-3634-4629-9ca5-64e2727bbbb2"
      },
      "execution_count": null,
      "outputs": [
        {
          "output_type": "stream",
          "name": "stdout",
          "text": [
            "0\n",
            "1\n",
            "2\n",
            "3\n",
            "4\n",
            "5\n",
            "6\n",
            "7\n",
            "8\n",
            "9\n"
          ]
        }
      ]
    },
    {
      "cell_type": "markdown",
      "metadata": {
        "id": "n-kiZqid-8Q-"
      },
      "source": [
        "### for 반복문\n",
        "\n",
        "- 동작을 반복할 때 for 루프를 사용한다\n",
        "- for 문장의 끝에는 ':'가 있어야 하며 for 문이 적용되는 블록(block)은 반드시 들여쓰기 (indentation)을 해야 한다. \n",
        "\n",
        "for문의 기본 구조\n",
        "```\n",
        "for 변수 in 리스트(또는 튜플, 문자열):\n",
        "    수행할 문장1\n",
        "    수행할 문장2\n",
        "    ...\n",
        "```\n",
        "```\n",
        "for 변수 in range(시작값, 종료값, 증가):\n",
        "    수행할 문장1\n",
        "    수행할 문장2\n",
        "    ...\n",
        "```"
      ]
    },
    {
      "cell_type": "code",
      "source": [
        "list( range(1,10))"
      ],
      "metadata": {
        "id": "jb4MS6KLLVl7",
        "colab": {
          "base_uri": "https://localhost:8080/"
        },
        "outputId": "5ef240c1-71ac-417a-bba7-ac569948eb92"
      },
      "execution_count": null,
      "outputs": [
        {
          "output_type": "execute_result",
          "data": {
            "text/plain": [
              "[1, 2, 3, 4, 5, 6, 7, 8, 9]"
            ]
          },
          "metadata": {},
          "execution_count": 81
        }
      ]
    },
    {
      "cell_type": "code",
      "source": [
        "list( range(1,10,2))"
      ],
      "metadata": {
        "colab": {
          "base_uri": "https://localhost:8080/"
        },
        "id": "hXzXc-ClQCsw",
        "outputId": "759092f1-9aaf-4ca6-8acf-330662c3665d"
      },
      "execution_count": null,
      "outputs": [
        {
          "output_type": "execute_result",
          "data": {
            "text/plain": [
              "[1, 3, 5, 7, 9]"
            ]
          },
          "metadata": {},
          "execution_count": 82
        }
      ]
    },
    {
      "cell_type": "code",
      "source": [
        "list(range(0,11,2)) # 종료값보다 작을 때까지"
      ],
      "metadata": {
        "colab": {
          "base_uri": "https://localhost:8080/"
        },
        "id": "kkKECGYtQHGT",
        "outputId": "ba4e1301-278a-4d47-b8fb-403c030b969e"
      },
      "execution_count": null,
      "outputs": [
        {
          "output_type": "execute_result",
          "data": {
            "text/plain": [
              "[0, 2, 4, 6, 8, 10]"
            ]
          },
          "metadata": {},
          "execution_count": 85
        }
      ]
    },
    {
      "cell_type": "code",
      "source": [
        "10 in range(0,10) # 종료값은 포함하지 않는다"
      ],
      "metadata": {
        "colab": {
          "base_uri": "https://localhost:8080/"
        },
        "id": "cE_OP50-QQyJ",
        "outputId": "21f68604-6058-40c5-d577-45be0ea986a9"
      },
      "execution_count": null,
      "outputs": [
        {
          "output_type": "execute_result",
          "data": {
            "text/plain": [
              "False"
            ]
          },
          "metadata": {},
          "execution_count": 86
        }
      ]
    },
    {
      "cell_type": "code",
      "source": [
        "arr = ['one', 'two', 'three']\n",
        "for a in arr : # arr안에 있는 요소들을 출력\n",
        "    print(a)"
      ],
      "metadata": {
        "colab": {
          "base_uri": "https://localhost:8080/"
        },
        "id": "G_0_OhRqQVR1",
        "outputId": "6864eb47-cfee-413a-fdf0-66b470291d24"
      },
      "execution_count": null,
      "outputs": [
        {
          "output_type": "stream",
          "name": "stdout",
          "text": [
            "one\n",
            "two\n",
            "three\n"
          ]
        }
      ]
    },
    {
      "cell_type": "code",
      "source": [
        "for a in ('one', 'two','three') :\n",
        "    print(a)"
      ],
      "metadata": {
        "colab": {
          "base_uri": "https://localhost:8080/"
        },
        "id": "APM8sNQsQkhY",
        "outputId": "83f2e125-04e4-4acb-88f1-48f73a268ec9"
      },
      "execution_count": null,
      "outputs": [
        {
          "output_type": "stream",
          "name": "stdout",
          "text": [
            "one\n",
            "two\n",
            "three\n"
          ]
        }
      ]
    },
    {
      "cell_type": "code",
      "source": [
        "arr = [[1,2],\n",
        "       [3,4],\n",
        "       [5,6]]\n",
        "for a in arr :\n",
        "    print(a)\n",
        "    for b in a :\n",
        "        print(b)"
      ],
      "metadata": {
        "colab": {
          "base_uri": "https://localhost:8080/"
        },
        "id": "fpjsmx5vQsHe",
        "outputId": "536ae40d-b0aa-4f21-dc41-2bacbe7f6862"
      },
      "execution_count": null,
      "outputs": [
        {
          "output_type": "stream",
          "name": "stdout",
          "text": [
            "[1, 2]\n",
            "1\n",
            "2\n",
            "[3, 4]\n",
            "3\n",
            "4\n",
            "[5, 6]\n",
            "5\n",
            "6\n"
          ]
        }
      ]
    },
    {
      "cell_type": "code",
      "source": [
        "# 2차원 배열 출력 가능함\n",
        "for [a,b] in arr:\n",
        "    print(a,b)"
      ],
      "metadata": {
        "colab": {
          "base_uri": "https://localhost:8080/"
        },
        "id": "DhSIPoTuRhvg",
        "outputId": "5b1e68df-a0ea-4d8b-ccef-922db9a07dac"
      },
      "execution_count": null,
      "outputs": [
        {
          "output_type": "stream",
          "name": "stdout",
          "text": [
            "1 2\n",
            "3 4\n",
            "5 6\n"
          ]
        }
      ]
    },
    {
      "cell_type": "code",
      "source": [
        "# 1부터 10까지 반복!\n",
        "for i in range(0,10+1) :\n",
        "    print(i)"
      ],
      "metadata": {
        "colab": {
          "base_uri": "https://localhost:8080/"
        },
        "id": "nKkZzDcHSBPw",
        "outputId": "113e3b83-93b2-40ef-d6bf-5393dd1ec6f2"
      },
      "execution_count": null,
      "outputs": [
        {
          "output_type": "stream",
          "name": "stdout",
          "text": [
            "0\n",
            "1\n",
            "2\n",
            "3\n",
            "4\n",
            "5\n",
            "6\n",
            "7\n",
            "8\n",
            "9\n",
            "10\n"
          ]
        }
      ]
    },
    {
      "cell_type": "markdown",
      "metadata": {
        "id": "cUafm1yq0vij"
      },
      "source": [
        "#### 반복문 예제 01\n",
        "array에 들어있는 데이터를 다음과 같이 하나씩 출력하시오.\n",
        "```\n",
        "array = [ [1, 2], [3, 4], [5, 6] ]\n",
        "```\n",
        "```\n",
        "1\n",
        "2\n",
        "3\n",
        "4\n",
        "5\n",
        "6\n",
        "```\n"
      ]
    },
    {
      "cell_type": "code",
      "source": [
        "array = [ [1, 2], [3, 4], [5, 6] ]\n",
        "for a,b in array :\n",
        "    print(a)\n",
        "    print(b)"
      ],
      "metadata": {
        "id": "Fk1aBfliLXK3",
        "colab": {
          "base_uri": "https://localhost:8080/"
        },
        "outputId": "b30c34b1-0472-4b02-9241-3342a495b0ec"
      },
      "execution_count": null,
      "outputs": [
        {
          "output_type": "stream",
          "name": "stdout",
          "text": [
            "1\n",
            "2\n",
            "3\n",
            "4\n",
            "5\n",
            "6\n"
          ]
        }
      ]
    },
    {
      "cell_type": "markdown",
      "metadata": {
        "id": "d5Glmf4H1tSk"
      },
      "source": [
        "#### 반복문 예제 02\n",
        "0부터 10까지 다음과 같이 출력하시오.\n",
        "```\n",
        "0 1 2 3 4 5 6 7 8 9 10\n",
        "```\n"
      ]
    },
    {
      "cell_type": "code",
      "source": [
        "for a in range(0,11) :\n",
        "    print(a, end = ' ')"
      ],
      "metadata": {
        "id": "xhDhvVENLY_D",
        "colab": {
          "base_uri": "https://localhost:8080/"
        },
        "outputId": "c59a561a-3043-46c2-b5cb-019855a92974"
      },
      "execution_count": null,
      "outputs": [
        {
          "output_type": "stream",
          "name": "stdout",
          "text": [
            "0 1 2 3 4 5 6 7 8 9 10 "
          ]
        }
      ]
    },
    {
      "cell_type": "markdown",
      "metadata": {
        "id": "oRhMNVlM2PZs"
      },
      "source": [
        "#### 반복문 예제 03\n",
        "\n",
        "* for문을 사용하여 96에서 53까지 출력하시오.\n",
        "* for문을 사용하여 21에서 57까지의 수 중 홀수만 출력하시오.\n",
        "* 정수를 입력 받아 1부터 입력 받은 정수까지 차례대로 출력하는 프로그램을 \n",
        "작성하시오.\n",
        "```\n",
        "정수입력: 10\n",
        "1 2 3 4 5 6 7 8 9 10\n",
        "```\n",
        "* 한 개의 자연수를 입력 받아 그 수의 배수를 차례로 10개 출력하는 프로그램을 작성하시오.\n",
        "```\n",
        "정수입력: 5\n",
        "5 10 15 20 25 30 35 40 45 50\n",
        "```\n",
        "* 1~100까지 3의 배수의 합을 출력하세요. (1683)\n"
      ]
    },
    {
      "cell_type": "markdown",
      "metadata": {
        "id": "rb-b0YbQ3evT"
      },
      "source": [
        "#### 반복문 예제 04\n",
        "다음과 같이 별 모양을 출력하시오.\n",
        "\n",
        "```\n",
        "*\n",
        "**\n",
        "***\n",
        "****\n",
        "*****\n",
        "```"
      ]
    },
    {
      "cell_type": "code",
      "source": [
        "for i in range(5):\n",
        "    print(\"*\" * (i+1))"
      ],
      "metadata": {
        "id": "jpJQhOe1LeNL",
        "colab": {
          "base_uri": "https://localhost:8080/"
        },
        "outputId": "afc94f15-290d-4fdd-e25b-554b04c0a329"
      },
      "execution_count": null,
      "outputs": [
        {
          "output_type": "stream",
          "name": "stdout",
          "text": [
            "*\n",
            "**\n",
            "***\n",
            "****\n",
            "*****\n"
          ]
        }
      ]
    },
    {
      "cell_type": "markdown",
      "metadata": {
        "id": "efXKpSgP9bTE"
      },
      "source": [
        "### 함수\n",
        "입력값을 가지고 어떤 일을 수행한 다음에 그 결과물을 내어놓는 것\n",
        "> 입력값 ---> 함수 ----> 결과값\n",
        "\n",
        "* 똑같은 내용을 반복해서 작성하고 있는 자신을 발견할 때, \n",
        "* \"반복적으로 사용되는 가치 있는 부분\"을 한 뭉치로 묶어서 \n",
        "* \"어떤 입력값을 주었을 때 어떤 결괏값을 돌려준다\"라는 식의 함수로 작성하는 것\n",
        "\n",
        "파이썬 함수의 구조\n",
        "```\n",
        "def 함수명(매개변수):\n",
        "    <수행할 문장1>\n",
        "    <수행할 문장2>\n",
        "    ...\n",
        "```\n",
        "```\n",
        "def 함수명(매개변수):\n",
        "    <수행할 문장1>\n",
        "    <수행할 문장2>\n",
        "    ...\n",
        "    return 결과값\n",
        "```\n",
        "```\n",
        "def 함수명():\n",
        "    <수행할 문장1>\n",
        "    <수행할 문장2>\n",
        "    ...\n",
        "    return 결과값\n",
        "```\n",
        "```\n",
        "def 함수명():\n",
        "    <수행할 문장1>\n",
        "    <수행할 문장2>\n",
        "    ...\n",
        "```"
      ]
    },
    {
      "cell_type": "code",
      "source": [
        "def add(x,y) :\n",
        "    sum = x+y\n",
        "    return sum\n",
        "\n",
        "add(1,2)"
      ],
      "metadata": {
        "colab": {
          "base_uri": "https://localhost:8080/"
        },
        "id": "_rZeFfd-WJpw",
        "outputId": "bce0b8ca-2610-4ba6-f7e4-2acda8a2c1c8"
      },
      "execution_count": null,
      "outputs": [
        {
          "output_type": "execute_result",
          "data": {
            "text/plain": [
              "3"
            ]
          },
          "metadata": {},
          "execution_count": 99
        }
      ]
    },
    {
      "cell_type": "markdown",
      "metadata": {
        "id": "oKB-W4CcBVw4"
      },
      "source": [
        "매개변수와 인수\n",
        "\n",
        "매개변수(parameter)와 인수(arguments)는 혼용해서 사용되는 헷갈리는 용어이므로 잘 기억해 두자. 매개변수는 함수에 입력으로 전달된 값을 받는 변수를 의미하고 인수는 함수를 호출할 때 전달하는 입력값을 의미한다."
      ]
    },
    {
      "cell_type": "code",
      "source": [
        "# 매개변수 저장하여 호출\n",
        "add(y = 1, x =2)"
      ],
      "metadata": {
        "id": "DKz_Qr1zLmSK",
        "colab": {
          "base_uri": "https://localhost:8080/"
        },
        "outputId": "f2aaae47-cb74-4a39-c297-274e01a72c26"
      },
      "execution_count": null,
      "outputs": [
        {
          "output_type": "execute_result",
          "data": {
            "text/plain": [
              "3"
            ]
          },
          "metadata": {},
          "execution_count": 100
        }
      ]
    },
    {
      "cell_type": "code",
      "source": [
        "# 목록을 넣기 위해서는 *을 사용한다.\n",
        "\n",
        "def add_many(*a) :\n",
        "    print(type(a))\n",
        "    sum = 0\n",
        "    for i in a :\n",
        "        sum += i\n",
        "    return sum\n",
        "\n",
        "e = add_many(1,2,3,4,5,6,7,8,9,10)\n",
        "print(e)"
      ],
      "metadata": {
        "colab": {
          "base_uri": "https://localhost:8080/"
        },
        "id": "QWaCD9ZXWUWV",
        "outputId": "81bb07f5-e3fb-401f-ac03-84421d961ff8"
      },
      "execution_count": null,
      "outputs": [
        {
          "output_type": "stream",
          "name": "stdout",
          "text": [
            "<class 'tuple'>\n",
            "55\n"
          ]
        }
      ]
    },
    {
      "cell_type": "code",
      "source": [
        "# 딕셔너리를 넣으려면 ** 2개 사용하면 가능\n",
        "def print_kwarges(**args) :\n",
        "    print(args)\n",
        "\n",
        "print_kwarges(a=1)"
      ],
      "metadata": {
        "colab": {
          "base_uri": "https://localhost:8080/"
        },
        "id": "QeQVsmGQXPBb",
        "outputId": "bdddbec5-3ad1-4136-9904-fa2026661e03"
      },
      "execution_count": null,
      "outputs": [
        {
          "output_type": "stream",
          "name": "stdout",
          "text": [
            "{'a': 1}\n"
          ]
        }
      ]
    },
    {
      "cell_type": "code",
      "source": [
        "# 함수의 결과값은 언제나 하나\n",
        "def add_and_mul(a,b) : \n",
        "    return a+b, a*b\n",
        "\n",
        "# 튜블로 결과 값 반환됨\n",
        "add_and_mul(3,4)\n",
        "\n",
        "a,b = add_and_mul(3,4)\n",
        "a,b"
      ],
      "metadata": {
        "colab": {
          "base_uri": "https://localhost:8080/"
        },
        "id": "O1XEsCLsFFoM",
        "outputId": "e4168ff6-939b-4832-861e-9349db1115d8"
      },
      "execution_count": null,
      "outputs": [
        {
          "output_type": "execute_result",
          "data": {
            "text/plain": [
              "(7, 12)"
            ]
          },
          "metadata": {},
          "execution_count": 6
        }
      ]
    },
    {
      "cell_type": "code",
      "source": [
        "# 변수의 효력 범위 (스코프)\n",
        "a = 1\n",
        "\n",
        "def vartest(a) :\n",
        "    a = a+1\n",
        "    return a\n",
        "\n",
        "\n",
        "c = vartest(a)\n",
        "print(c)\n",
        "print(a)"
      ],
      "metadata": {
        "colab": {
          "base_uri": "https://localhost:8080/"
        },
        "id": "gYlFTc8SF51e",
        "outputId": "7e5fe89c-91c3-484c-f98b-64021b1d8df2"
      },
      "execution_count": null,
      "outputs": [
        {
          "output_type": "stream",
          "name": "stdout",
          "text": [
            "2\n",
            "1\n"
          ]
        }
      ]
    },
    {
      "cell_type": "code",
      "source": [
        "# lambda 매개변수1, 매개변수2, ...... : 매개변수를 이용한 표현식\n",
        "add = lambda a, b : a+b\n",
        "\n",
        "add(1,2)"
      ],
      "metadata": {
        "colab": {
          "base_uri": "https://localhost:8080/"
        },
        "id": "Vx5ztBRoH5Qc",
        "outputId": "cfe2ac66-d22a-427a-bfa5-198a685b5c69"
      },
      "execution_count": null,
      "outputs": [
        {
          "output_type": "execute_result",
          "data": {
            "text/plain": [
              "3"
            ]
          },
          "metadata": {},
          "execution_count": 12
        }
      ]
    },
    {
      "cell_type": "markdown",
      "metadata": {
        "id": "Qq0Ybs0hQKRF"
      },
      "source": [
        "#### lambda\n",
        "보통 함수를 한줄로 간결하게 만들 때 사용한다. \n",
        "\n",
        "우리말로는 \"람다\"라고 읽고 def를 사용해야 할 정도로 복잡하지 않거나 def를 사용할 수 없는 곳에 주로 사용한다.\n",
        "\n",
        "※ lambda 예약어로 만든 함수는 return 명령어가 없어도 결괏값을 돌려준다."
      ]
    },
    {
      "cell_type": "markdown",
      "metadata": {
        "id": "Otp6aE2CFqLO"
      },
      "source": [
        "#### 함수 예제 01\n",
        "두 개의 정수를 입력 인수로 받아 더 큰 수를 반환하는 함수 LargerNumber를 만들어 다음과 같은 결과를 출력하시오.\n",
        "```\n",
        "num1 = int(input(\"첫 번째 정수 입력: \"))\n",
        "num2 = int(input(\"두 번째 정수 입력: \"))\n",
        "result = LagerNumber(num1, num2)\n",
        "print(\"큰 수 확인:\", result)\n",
        "```\n",
        "```\n",
        "첫 번째 정수 입력: 8\n",
        "두 번째 정수 입력: 6\n",
        "큰 수 확인: 8\n",
        "\n",
        "첫 번째 정수 입력: 4\n",
        "두 번째 정수 입력: 8\n",
        "큰 수 확인: 8\n",
        "\n",
        "첫 번째 정수 입력: 5\n",
        "두 번째 정수 입력: 5\n",
        "큰 수 확인: 0\n",
        "```\n"
      ]
    },
    {
      "cell_type": "code",
      "source": [
        "def large_number(num1, num2) :\n",
        "    if num1 > num2 :\n",
        "        return num1\n",
        "    elif num1 < num2 :\n",
        "        return num2\n",
        "\n",
        "num1 = int(input(\"첫 번째 정수 입력: \"))\n",
        "num2 = int(input(\"두 번째 정수 입력: \"))\n",
        "result = large_number(num1, num2)\n",
        "print(\"큰 수 확인:\", result)"
      ],
      "metadata": {
        "id": "V5Z11bPPLqkx",
        "colab": {
          "base_uri": "https://localhost:8080/"
        },
        "outputId": "b54ece00-8e94-4cc6-a5e5-77b49bdd80c7"
      },
      "execution_count": null,
      "outputs": [
        {
          "output_type": "stream",
          "name": "stdout",
          "text": [
            "첫 번째 정수 입력: 4\n",
            "두 번째 정수 입력: 8\n",
            "큰 수 확인: 8\n"
          ]
        }
      ]
    },
    {
      "cell_type": "markdown",
      "metadata": {
        "id": "jxlCAWPVHbtZ"
      },
      "source": [
        "#### 함수 예제 02\n",
        "2개의 정수를 받아 2개의 숫자 중 10에 더 가까운 수를 \n",
        "반환하는 함수 close10을 만들어 다음과 같은 결과를 출력하시오.\n",
        "(만약 두 숫자 모두 10과의 차이가 같다면 첫 번째 수를 반환)\n",
        "```\n",
        "num1 = int(input(\"첫 번째 정수 입력: \"))\n",
        "num2 = int(input(\"두 번째 정수 입력: \"))\n",
        "result = close10(num1, num2)\n",
        "print(\"10에 가까운 수:\", result)\n",
        "```\n",
        "```\n",
        "첫 번째 정수 입력: 2\n",
        "두 번째 정수 입력: 7\n",
        "10에 가까운 수: 7\n",
        "\n",
        "첫 번째 정수 입력: 8\n",
        "두 번째 정수 입력: 5\n",
        "10에 가까운 수: 8\n",
        "\n",
        "첫 번째 정수 입력: 2\n",
        "두 번째 정수 입력: 13\n",
        "10에 가까운 수: 13\n",
        "```"
      ]
    },
    {
      "cell_type": "code",
      "source": [
        ""
      ],
      "metadata": {
        "id": "vaknW4egLsOK"
      },
      "execution_count": null,
      "outputs": []
    },
    {
      "cell_type": "markdown",
      "metadata": {
        "id": "vlCFuTYkKZKE"
      },
      "source": [
        "#### 함수 예제 03 - 1\n",
        "num2가 num1의 약수인지 확인하여 True또는 False를 반환하는 isDivisor()메소드를 구현하시오. -> 함수 안에서 함수 사용 가능\n",
        "```\n",
        "num1 = int(input(\"첫 번째 정수 입력: \"))\n",
        "num2 = int(input(\"두 번째 정수 입력: \"))\n",
        "result = isDivisor(num1, num2)\n",
        "print(result)\n",
        "```\n",
        "```\n",
        "첫 번째 정수 입력: 5\n",
        "두 번째 정수 입력: 10\n",
        "True\n",
        "\n",
        "첫 번째 정수 입력: 3\n",
        "두 번째 정수 입력: 10\n",
        "False\n",
        "\n",
        "첫 번째 정수 입력: 0\n",
        "두 번째 정수 입력: 10\n",
        "False\n",
        "```"
      ]
    },
    {
      "cell_type": "code",
      "source": [
        "def isDivisor(num1, num2) :\n",
        "    if num1 % num2  == 0:\n",
        "        return True\n",
        "    else : \n",
        "        return False\n",
        "\n",
        "\n",
        "num1 = int(input(\"첫 번째 정수 입력: \"))\n",
        "num2 = int(input(\"두 번째 정수 입력: \"))\n",
        "result = isDivisor(num1, num2)\n",
        "print(result)"
      ],
      "metadata": {
        "id": "kRL8Dm27Lulb",
        "colab": {
          "base_uri": "https://localhost:8080/"
        },
        "outputId": "89fea302-a833-49be-d3d7-0a683d52f415"
      },
      "execution_count": null,
      "outputs": [
        {
          "output_type": "stream",
          "name": "stdout",
          "text": [
            "첫 번째 정수 입력: 5\n",
            "두 번째 정수 입력: 10\n",
            "False\n"
          ]
        }
      ]
    },
    {
      "cell_type": "markdown",
      "metadata": {
        "id": "m8puIV8aMKP_"
      },
      "source": [
        "#### 함수 예제 03 - 2\n",
        "약수들을 구하는 getDivisor() 함수를 구현하시오.\n",
        "```\n",
        "getDivisor(10)\n",
        "getDivisor(16)\n",
        "getDivisor(24)\n",
        "```\n",
        "```\n",
        "10의 약수: 1 2 5 10\n",
        "16의 약수: 1 2 4 8 16\n",
        "24의 약수: 1 2 3 4 6 8 12 24\n",
        "```"
      ]
    },
    {
      "cell_type": "code",
      "source": [
        "def getDivisor(a) :\n",
        "    print(\"{}의 약수 : \".format(a), end = ' ')\n",
        "    for i in range(1,a+1) :\n",
        "        if isDivisor(a, i):\n",
        "            print(i, end =' ')\n",
        "    print()   \n",
        "\n",
        "getDivisor(10)\n",
        "getDivisor(16)\n",
        "getDivisor(24)"
      ],
      "metadata": {
        "id": "D3tbOYKDLwXs",
        "colab": {
          "base_uri": "https://localhost:8080/"
        },
        "outputId": "88d7207c-3d71-44f7-fb2c-660752ceb3c3"
      },
      "execution_count": null,
      "outputs": [
        {
          "output_type": "stream",
          "name": "stdout",
          "text": [
            "10의 약수 :  1 2 5 10 \n",
            "16의 약수 :  1 2 4 8 16 \n",
            "24의 약수 :  1 2 3 4 6 8 12 24 \n"
          ]
        }
      ]
    },
    {
      "cell_type": "code",
      "source": [
        "def getDivisor(a) :\n",
        "    result = []\n",
        "    for i in range(1,a) :\n",
        "        if isDivisor(a,i) :\n",
        "            result.append(i)\n",
        "\n",
        "    result.append(a)\n",
        "    return result\n",
        "\n",
        "def printDivisor(a) :\n",
        "    print(\"%d의 약수 : \"%a, end = ' ')\n",
        "    print(getDivisor(a));\n",
        "\n",
        "printDivisor(10)\n",
        "printDivisor(12)"
      ],
      "metadata": {
        "colab": {
          "base_uri": "https://localhost:8080/"
        },
        "id": "7fCFiHB7Qlly",
        "outputId": "ed244b86-9ce3-4b59-a4c4-374ec668e482"
      },
      "execution_count": null,
      "outputs": [
        {
          "output_type": "stream",
          "name": "stdout",
          "text": [
            "10의 약수 :  [1, 2, 5, 10]\n",
            "12의 약수 :  [1, 2, 3, 4, 6, 12]\n"
          ]
        }
      ]
    },
    {
      "cell_type": "markdown",
      "metadata": {
        "id": "_104pH-MOG5e"
      },
      "source": [
        "#### 함수 예제 03 - 3\n",
        "start 부터 end 까지의 약수를 구하는 getDivisorRange() 함수를 구현하시오.\n",
        "```\n",
        "getDivisorRange(10, 16)\n",
        "```\n",
        "```\n",
        "10의 약수: 1 2 5 10\n",
        "11의 약수: 1 11\n",
        "12의 약수: 1 2 3 4 6 12\n",
        "13의 약수: 1 13\n",
        "14의 약수: 1 2 7 14\n",
        "15의 약수: 1 3 5 15\n",
        "16의 약수: 1 2 4 8 16\n",
        "```"
      ]
    },
    {
      "cell_type": "code",
      "source": [
        ""
      ],
      "metadata": {
        "id": "Xic0PI9ILyAa"
      },
      "execution_count": null,
      "outputs": []
    },
    {
      "cell_type": "markdown",
      "metadata": {
        "id": "rEe4mN8Cb1qJ"
      },
      "source": [
        "### 클래스\n",
        "클래스, 객체, 인스턴스\n",
        "\n",
        "* 클래스(class)란 똑같은 무엇인가를 계속해서 만들어 낼 수 있는 설계 도면(과자 틀)\n",
        "* 객체(object)란 클래스로 만든 피조물(과자 틀을 사용해 만든 과자)\n",
        "* 클래스로 만든 객체를 인스턴스라고도 한다. \n",
        "\n",
        "객체와 인스턴스의 차이는\n",
        "> 인스턴스라는 말은 특정 객체(a)가 어떤 클래스(Cookie)의 객체인지를 관계 위주로 설명할 때 사용한다. \"a는 인스턴스\"보다는 \"a는 객체\"라는 표현이 어울리며 \"a는 Cookie의 객체\"보다는 \"a는 Cookie의 인스턴스\"라는 표현이 훨씬 잘 어울린다. (점프 투 파이썬)\n",
        "\n",
        "\n",
        "파이썬 클래스의 구조\n",
        "```\n",
        "class 클래스명:\n",
        "    def __init__(self, param):\n",
        "        .......\n",
        "```\n",
        "```\n",
        "class 클래스명:\n",
        "    def __new__(cls):\n",
        "        .......\n",
        "    def __init__(self, param):\n",
        "        .......\n",
        "    def 메소드명(self, param):\n",
        "        .......\n",
        "```\n",
        "\n",
        "* 클래스는 복잡한 문제를 다루기 쉽도록 만듭니다.\n",
        "* 클래스는 객체의 구조와 행동을 정의합니다.\n",
        "* 객체의 클래스는 초기화를 통해 제어합니다."
      ]
    },
    {
      "cell_type": "code",
      "source": [
        "class Flight :\n",
        "    pass"
      ],
      "metadata": {
        "id": "L8dwkAA3L59K"
      },
      "execution_count": null,
      "outputs": []
    },
    {
      "cell_type": "code",
      "source": [
        "class Flight :\n",
        "    def __init__(self) : # 데이터 정의 하는 것\n",
        "        print('init') # 만들자 마자 실행 된다\n",
        "        self._name = \"비행기\"\n",
        "        self._hp = 100\n",
        "\n",
        "    def getName(self) : # class 안의 def ()안에 self를 넣어줘야 된다.\n",
        "        return self._name\n",
        "\n",
        "f = Flight()\n",
        "f._name, f.getName(), type(f)"
      ],
      "metadata": {
        "colab": {
          "base_uri": "https://localhost:8080/"
        },
        "id": "XtamBVEWUEou",
        "outputId": "871a4f2b-a629-415a-f0d0-43d249831e03"
      },
      "execution_count": null,
      "outputs": [
        {
          "output_type": "stream",
          "name": "stdout",
          "text": [
            "init\n"
          ]
        },
        {
          "output_type": "execute_result",
          "data": {
            "text/plain": [
              "('비행기', '비행기', __main__.Flight)"
            ]
          },
          "metadata": {},
          "execution_count": 35
        }
      ]
    },
    {
      "cell_type": "markdown",
      "metadata": {
        "id": "9KH-vkrDhMUs"
      },
      "source": [
        "생성자로 객체생성을 호출받으면 먼저 __new__ 를 호출하여 객체를 생성할당하고, __new__ 메소드가 __init__메소드를 호출하여 객체에서 사용할 초기값들을 초기화하게됩니다."
      ]
    },
    {
      "cell_type": "markdown",
      "metadata": {
        "id": "9GGavJXSi52t"
      },
      "source": [
        "주의! 파이썬은 메소드 오버로딩이 없다.\n",
        "\n",
        "> 메소드 오버로딩이란? : 하나의 클래스 내부에서 메소드 명칭은 똑같고, 인자를 다르게하는 형태를 허용하는 것"
      ]
    },
    {
      "cell_type": "markdown",
      "metadata": {
        "id": "_iK_YjN4_4cQ"
      },
      "source": [
        "### 파이썬 머신러닝을 위한 모듈(라이브러리)\n",
        "\n",
        "* 머신러닝 라이브러리\n",
        " * 사이킷런(Scikit-Learn)\n",
        "* 행렬/선형대수/통계 라이브러리\n",
        "  * 넘파이(NumPy): 고성능 과학계산을 위한 데이터 분석(행렬, 선형대수)\n",
        "  * 사이파이(SciPy): 자연과학, 통계\n",
        "* 데이터 핸들링\n",
        " * 판다스(Pandas): 행과 열로 구성된 표 형식의 데이터(2차원 데이터 처리)\n",
        "* 시각화\n",
        " * 맷플롯립(Matplotlib): 2D 그래프로 시각화\n",
        " * 시본(Seaborn): 다양한 색상 테마로 시각화"
      ]
    }
  ]
}
