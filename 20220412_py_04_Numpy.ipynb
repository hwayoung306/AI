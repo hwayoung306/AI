{
  "nbformat": 4,
  "nbformat_minor": 0,
  "metadata": {
    "colab": {
      "name": "20220412_py_04-Numpy.ipynb",
      "provenance": [],
      "collapsed_sections": [],
      "include_colab_link": true
    },
    "kernelspec": {
      "name": "python3",
      "display_name": "Python 3"
    }
  },
  "cells": [
    {
      "cell_type": "markdown",
      "metadata": {
        "id": "view-in-github",
        "colab_type": "text"
      },
      "source": [
        "<a href=\"https://colab.research.google.com/github/hwayoung306/AI/blob/main/20220412_py_04_Numpy.ipynb\" target=\"_parent\"><img src=\"https://colab.research.google.com/assets/colab-badge.svg\" alt=\"Open In Colab\"/></a>"
      ]
    },
    {
      "cell_type": "markdown",
      "metadata": {
        "id": "_r0l51R-X1FV"
      },
      "source": [
        "### 구글드라이브 연동\n",
        "\n"
      ]
    },
    {
      "cell_type": "code",
      "metadata": {
        "id": "GQk2rKa8HLiG",
        "colab": {
          "base_uri": "https://localhost:8080/"
        },
        "outputId": "493330b6-62d9-420a-e76d-2447d7ff6950"
      },
      "source": [
        "# 구글드라이브 연동\n",
        "from google.colab import drive\n",
        "drive.mount('/gdrive', force_remount=True)\n",
        "\n",
        "# 구글 드라이브 파일 확인\n",
        "!ls '/gdrive/My Drive/temp/'\n",
        "\n",
        "# 반복되는 드라이브 경로 변수화\n",
        "drive_path = '/gdrive/My Drive/temp/'"
      ],
      "execution_count": 1,
      "outputs": [
        {
          "output_type": "stream",
          "name": "stdout",
          "text": [
            "Mounted at /gdrive\n",
            "demo.docx\t  little-char.png  sample.docx\n",
            "hello_world.xlsx  sample1.pdf\t   sample.xlsx\n"
          ]
        }
      ]
    },
    {
      "cell_type": "markdown",
      "metadata": {
        "id": "eLakI-RDZZjX"
      },
      "source": [
        "### 파이썬 머신러닝을 위한 모듈(라이브러리)\n"
      ]
    },
    {
      "cell_type": "markdown",
      "metadata": {
        "id": "K9CLJpX8ZeZK"
      },
      "source": [
        "* 머신러닝 라이브러리\n",
        " * 사이킷런(Scikit-Learn)\n",
        "* 행렬/선형대수/통계 라이브러리\n",
        "  * **넘파이(NumPy): 고성능 과학계산을 위한 데이터 분석**(행렬, 선형대수)\n",
        "  * 사이파이(SciPy): 자연과학, 통계\n",
        "* 데이터 핸들링\n",
        " * 판다스(Pandas): 행과 열로 구성된 표 형식의 데이터(2차원 데이터 처리)\n",
        "* 시각화\n",
        " * 맷플롯립(Matplotlib): 2D 그래프로 시각화\n",
        " * 시본(Seaborn): 다양한 색상 테마로 시각화"
      ]
    },
    {
      "cell_type": "markdown",
      "metadata": {
        "collapsed": true,
        "id": "4VbNtUCVa9hn"
      },
      "source": [
        "# Numpy (Numerical Python)\n",
        "- 벡터 및 행렬 연산에 있어서 매우 편리한 기능을 제공\n",
        "- 빠르고 효율적인 벡터 산술연산을 제공하는 n 차원 배열 (ndarray)\n",
        "- 반복문 없이 전체 데이터 배열 연산이 가능한 표준 수학 함수 (sum(), sqrt(), mean())\n",
        "- 선형대수, 난수 생성, 푸리에 변환"
      ]
    },
    {
      "cell_type": "markdown",
      "metadata": {
        "id": "PKEIAPgaaYjK"
      },
      "source": [
        "## Numpy 기초\n"
      ]
    },
    {
      "cell_type": "code",
      "metadata": {
        "id": "yRpo3bf_aiy2"
      },
      "source": [
        "# Numpy 모듈(라이브러리)를 import하고 np 라는 이름으로 부르는 것이 관례\n",
        "import numpy as np"
      ],
      "execution_count": 2,
      "outputs": []
    },
    {
      "cell_type": "code",
      "metadata": {
        "id": "XD9kSl4cbKnv"
      },
      "source": [
        "np.__version__"
      ],
      "execution_count": null,
      "outputs": []
    },
    {
      "cell_type": "markdown",
      "metadata": {
        "id": "EwbbaXIkbKMy"
      },
      "source": [
        "numpy.ndarray\n",
        "\n",
        "- 동일한 자료형을 가지는 값들이 배열 형태로 존재함\n",
        "- N 차원 형태로 구성이 가능하다.\n",
        "- 각 값들은 양의 정수로 색인(index)가 부여되어 있다.\n",
        "- Numpy에서 차원(Dimension)을 rank, axis라고 부르기도 한다.\n",
        "- ndarray를 줄여서 array로 표현한다.\n",
        "- ndarray -> 차원이 있는 array\n"
      ]
    },
    {
      "cell_type": "code",
      "metadata": {
        "id": "73ewlJKG-FLg",
        "colab": {
          "base_uri": "https://localhost:8080/"
        },
        "outputId": "f9f0582d-04e3-4c58-925b-0d4f0623e0f5"
      },
      "source": [
        "list1 = [1,2,3]\n",
        "array1 = np.array(list1)\n",
        "print(type(array1))\n",
        "print( array1.shape) # 배열의 크기 확인\n",
        "\n",
        "array2 = np.array( [[1,2,3],\n",
        "                  [4,5,6]])\n",
        "\n",
        "print( type(array2))\n",
        "print( array2.shape)\n",
        "\n",
        "array3 = np.array([[1,2,3]])\n",
        "print( type(array3))\n",
        "print( array3.shape)"
      ],
      "execution_count": 27,
      "outputs": [
        {
          "output_type": "stream",
          "name": "stdout",
          "text": [
            "<class 'numpy.ndarray'>\n",
            "(3,)\n",
            "<class 'numpy.ndarray'>\n",
            "(2, 3)\n",
            "<class 'numpy.ndarray'>\n",
            "(1, 3)\n"
          ]
        }
      ]
    },
    {
      "cell_type": "code",
      "source": [
        "# Numpy 배열과 파이썬 리스트 성능 비교\n",
        "# 백만개의 정수를 저장\n",
        "import numpy as np\n",
        "arr1 = np.arange(1000000)\n",
        "list1 = list(range(1000000))\n",
        "\n",
        "%time for _ in range(10) : arr2 = arr1 * 2\n",
        "%time for _ in range(10) : list2 = [x*2 for x in list1]"
      ],
      "metadata": {
        "colab": {
          "base_uri": "https://localhost:8080/"
        },
        "id": "UBr4sLLtq2lD",
        "outputId": "4aa2015c-faea-4646-a7e6-196fe43601ed"
      },
      "execution_count": 8,
      "outputs": [
        {
          "output_type": "stream",
          "name": "stdout",
          "text": [
            "CPU times: user 23.8 ms, sys: 10.4 ms, total: 34.1 ms\n",
            "Wall time: 33.8 ms\n",
            "CPU times: user 791 ms, sys: 185 ms, total: 976 ms\n",
            "Wall time: 980 ms\n"
          ]
        }
      ]
    },
    {
      "cell_type": "markdown",
      "metadata": {
        "id": "I2T6p8UydKPf"
      },
      "source": [
        "ndarray.shape\n",
        "\n",
        "해당 array의 크기를 알 수 있다.\n",
        "\n",
        "- ndarray의 차원과 크기를 튜플(tuple) 형태로 출력\n",
        "\n",
        "- shape 을 확인함으로써 몇 개의 데이터가 있는지, 몇 차원으로 존재하는지 등을 확인할 수 있다.\n",
        "\n",
        "- 위에서 array1.shape의 결과는 (3,) 으로써, 1차원의 데이터이며 총 3라는 크기를 갖고 있음을 알 수 있다.\n",
        "\n",
        "- array2.shape의 결과는 (2,3) 으로써, 2차원의 데이터이며 2 * 3 크기를 갖고 있는 array 이다.\n"
      ]
    },
    {
      "cell_type": "code",
      "metadata": {
        "id": "IsCuGZgA-HOH",
        "colab": {
          "base_uri": "https://localhost:8080/"
        },
        "outputId": "0a9e9099-4e24-4bfa-82bb-13e71fdd9d88"
      },
      "source": [
        "# array 차원 확인\n",
        "array1.ndim, array2.ndim, array3.ndim"
      ],
      "execution_count": 28,
      "outputs": [
        {
          "output_type": "execute_result",
          "data": {
            "text/plain": [
              "(1, 2, 2)"
            ]
          },
          "metadata": {},
          "execution_count": 28
        }
      ]
    },
    {
      "cell_type": "code",
      "source": [
        "# array의 전체 요소 개수 확인\n",
        "array1.size, array2.size, array3.size"
      ],
      "metadata": {
        "colab": {
          "base_uri": "https://localhost:8080/"
        },
        "id": "pMFaOvzNzODZ",
        "outputId": "be67fa57-6c96-4481-ba46-a728c4fb20b9"
      },
      "execution_count": 29,
      "outputs": [
        {
          "output_type": "execute_result",
          "data": {
            "text/plain": [
              "(3, 6, 3)"
            ]
          },
          "metadata": {},
          "execution_count": 29
        }
      ]
    },
    {
      "cell_type": "markdown",
      "metadata": {
        "id": "J6Cp3YuUe4Pe"
      },
      "source": [
        "numpy에서 사용되는 자료형\n",
        "\n",
        "- 부호가 있는 정수 int(8, 16, 32, 64)\n",
        "- 부호가 없는 정수 uint(8 ,16, 32, 54)\n",
        "- 실수 float(16, 32, 64, 128)\n",
        "- 복소수 complex(64, 128, 256)\n",
        "- 불리언 bool\n",
        "- 문자열 string_\n",
        "- 파이썬 오프젝트 object\n",
        "- 유니코드 unicode_\n"
      ]
    },
    {
      "cell_type": "code",
      "metadata": {
        "id": "hsBT6cYS-Kz_",
        "colab": {
          "base_uri": "https://localhost:8080/"
        },
        "outputId": "fb84cff5-8df1-49c5-ba59-ffab247d52b6"
      },
      "source": [
        "list1 = [1,2,3]\n",
        "array1 = np.array(list1)\n",
        "print(type(array1))\n",
        "print(array1)\n",
        "print(array1.dtype)"
      ],
      "execution_count": 10,
      "outputs": [
        {
          "output_type": "stream",
          "name": "stdout",
          "text": [
            "<class 'numpy.ndarray'>\n",
            "[1 2 3]\n",
            "int64\n"
          ]
        }
      ]
    },
    {
      "cell_type": "code",
      "source": [
        "# 서로 다른 데이터 타입을 갖는 리스트일 때\n",
        "list2 = [1,2, 'test']\n",
        "print('list2', type(list2))\n",
        "\n",
        "array2 = np.array(list2)\n",
        "print('array2', array2.dtype, array2)\n",
        "\n",
        "list3 = [1,2,3.1]\n",
        "array3 = np.array(list3)\n",
        "print('array3', array3.dtype, array3)"
      ],
      "metadata": {
        "colab": {
          "base_uri": "https://localhost:8080/"
        },
        "id": "mLhKJ-57tTX8",
        "outputId": "45fec113-5504-483f-9344-495b41cace1a"
      },
      "execution_count": 13,
      "outputs": [
        {
          "output_type": "stream",
          "name": "stdout",
          "text": [
            "list2 <class 'list'>\n",
            "array2 <U21 ['1' '2' 'test']\n",
            "array3 float64 [1.  2.  3.1]\n"
          ]
        }
      ]
    },
    {
      "cell_type": "markdown",
      "metadata": {
        "id": "puoGBh3phGZK"
      },
      "source": [
        "- 리스트와 다르게 ndarray는 같은 데이터 타입만 가능.\n",
        "- 서로 다른 데이터 타입이 섞여 있을 경우 큰 데이터 타입으로 형 변환을 일괄 적용"
      ]
    },
    {
      "cell_type": "code",
      "metadata": {
        "id": "lY6uJC2R-MuW",
        "colab": {
          "base_uri": "https://localhost:8080/"
        },
        "outputId": "2c1088b1-d25a-4c13-ffe1-0df675a54486"
      },
      "source": [
        "# 데이터 타입 변경하기(강제)\n",
        "array_int = np.array( [1,2,3] )\n",
        "print( array_int, array_int.dtype )\n",
        "\n",
        "array_float = array_int.astype('float64')\n",
        "print( array_float, array_float.dtype )\n",
        "\n",
        "array_int32 = array_int.astype(np.int32)\n",
        "print( array_int32, array_int32.dtype )\n",
        "\n",
        "array_float2 = np.array( [1.1, 2.2, 3.3 ] )\n",
        "array_int2 = array_float2.astype('int32')\n",
        "print( array_int2, array_int2.dtype )"
      ],
      "execution_count": 21,
      "outputs": [
        {
          "output_type": "stream",
          "name": "stdout",
          "text": [
            "[1 2 3] int64\n",
            "[1. 2. 3.] float64\n",
            "[1 2 3] int32\n",
            "[1 2 3] int32\n"
          ]
        }
      ]
    },
    {
      "cell_type": "code",
      "source": [
        ""
      ],
      "metadata": {
        "id": "kndc6cLSw19i"
      },
      "execution_count": null,
      "outputs": []
    },
    {
      "cell_type": "code",
      "source": [
        "arr = np.array([1.1,2.2,3.3], dtype=np.int32)\n",
        "arr"
      ],
      "metadata": {
        "colab": {
          "base_uri": "https://localhost:8080/"
        },
        "id": "spitYT0Evdzz",
        "outputId": "05c67e75-6d3c-43b0-a000-312fbd0778cc"
      },
      "execution_count": 24,
      "outputs": [
        {
          "output_type": "execute_result",
          "data": {
            "text/plain": [
              "array([1, 2, 3], dtype=int32)"
            ]
          },
          "metadata": {},
          "execution_count": 24
        }
      ]
    },
    {
      "cell_type": "markdown",
      "metadata": {
        "id": "g1hWpxYolBGe"
      },
      "source": [
        "#### Numpy 예제 01\n",
        "Numpy를 이용해 다음과 같은 3차원 배열을 만들고 배열의 크기, 차원, 전체 요소 개수을 확인해보자 \n",
        "```\n",
        "array([[[1,2],\n",
        "        [3,4]],\n",
        "        \n",
        "       [[5,6],\n",
        "        [7,8]]])\n",
        "```\n",
        "```\n",
        "배열의 크기: (2, 2, 2)\n",
        "배열의 차원: 3\n",
        "배열의 개수: 8\n",
        "```\n"
      ]
    },
    {
      "cell_type": "code",
      "metadata": {
        "id": "9tbuaoVE-OSO",
        "colab": {
          "base_uri": "https://localhost:8080/"
        },
        "outputId": "21c68a16-df4a-4e29-da0b-51373af90fa6"
      },
      "source": [
        "array4 = np.array([[[1,2],[3,4]],[[5,6],[7,8]]])\n",
        "\n",
        "print(array4.shape)\n",
        "print(array4.ndim)\n",
        "print(array4.size)\n"
      ],
      "execution_count": 35,
      "outputs": [
        {
          "output_type": "stream",
          "name": "stdout",
          "text": [
            "(2, 2, 2)\n",
            "3\n",
            "8\n"
          ]
        }
      ]
    },
    {
      "cell_type": "markdown",
      "metadata": {
        "id": "tE_voqsBmuHl"
      },
      "source": [
        "### ndarray 생성"
      ]
    },
    {
      "cell_type": "code",
      "metadata": {
        "id": "Ga3KNSi1-WpG",
        "colab": {
          "base_uri": "https://localhost:8080/"
        },
        "outputId": "29cf96b5-03e7-44e1-cc9e-684d7b725b9e"
      },
      "source": [
        "# 연속 값으로 생성\n",
        "seq_array = np.arange(10)\n",
        "seq_array, seq_array.dtype, seq_array.shape"
      ],
      "execution_count": 36,
      "outputs": [
        {
          "output_type": "execute_result",
          "data": {
            "text/plain": [
              "(array([0, 1, 2, 3, 4, 5, 6, 7, 8, 9]), dtype('int64'), (10,))"
            ]
          },
          "metadata": {},
          "execution_count": 36
        }
      ]
    },
    {
      "cell_type": "code",
      "source": [
        "# 초기화 0으로 채워진 배열 생성\n",
        "zero_array = np.zeros((3,2), dtype = 'int32')\n",
        "zero_array, zero_array.dtype, zero_array.shape"
      ],
      "metadata": {
        "colab": {
          "base_uri": "https://localhost:8080/"
        },
        "id": "uwrel9IW0hOD",
        "outputId": "3c044025-546e-4b0d-a94a-211d15d42642"
      },
      "execution_count": 38,
      "outputs": [
        {
          "output_type": "execute_result",
          "data": {
            "text/plain": [
              "(array([[0, 0],\n",
              "        [0, 0],\n",
              "        [0, 0]], dtype=int32), dtype('int32'), (3, 2))"
            ]
          },
          "metadata": {},
          "execution_count": 38
        }
      ]
    },
    {
      "cell_type": "code",
      "source": [
        "# 1로 초기화 시키기\n",
        "np.ones((3, 2))"
      ],
      "metadata": {
        "colab": {
          "base_uri": "https://localhost:8080/"
        },
        "id": "DsfRCB5Y1CM9",
        "outputId": "1f74e06d-d7b7-4105-dc8f-34daf68a9e92"
      },
      "execution_count": 40,
      "outputs": [
        {
          "output_type": "execute_result",
          "data": {
            "text/plain": [
              "array([[1., 1.],\n",
              "       [1., 1.],\n",
              "       [1., 1.]])"
            ]
          },
          "metadata": {},
          "execution_count": 40
        }
      ]
    },
    {
      "cell_type": "code",
      "source": [
        "# np.full( (행, 열), 넣을 데이터 값)\n",
        "np.full( (5,5), 7)"
      ],
      "metadata": {
        "colab": {
          "base_uri": "https://localhost:8080/"
        },
        "id": "CE-6qLUU1QfF",
        "outputId": "5fd7004c-27c7-4649-fb09-a72b53db0244"
      },
      "execution_count": 41,
      "outputs": [
        {
          "output_type": "execute_result",
          "data": {
            "text/plain": [
              "array([[7, 7, 7, 7, 7],\n",
              "       [7, 7, 7, 7, 7],\n",
              "       [7, 7, 7, 7, 7],\n",
              "       [7, 7, 7, 7, 7],\n",
              "       [7, 7, 7, 7, 7]])"
            ]
          },
          "metadata": {},
          "execution_count": 41
        }
      ]
    },
    {
      "cell_type": "code",
      "source": [
        "# 랜덤 값으로 초기화 \n",
        "np.random.seed(10) # 시드 값이 있으면 매번 같은 랜덤 값이 들어감\n",
        "np.random.rand(2,3) # 2행 3열 데이터 삽입"
      ],
      "metadata": {
        "colab": {
          "base_uri": "https://localhost:8080/"
        },
        "id": "6R94lZEt1Z6H",
        "outputId": "ff147b18-fea1-4b3c-be09-6667594ad513"
      },
      "execution_count": 44,
      "outputs": [
        {
          "output_type": "execute_result",
          "data": {
            "text/plain": [
              "array([[0.75658709, 0.73002532, 0.17503925],\n",
              "       [0.37531852, 0.06871881, 0.11886116]])"
            ]
          },
          "metadata": {},
          "execution_count": 44
        }
      ]
    },
    {
      "cell_type": "code",
      "source": [
        "# 랜덤 값의 범위 지정 \n",
        "np.random.randint(2,10,size = (2,3)) # 숫자로 (2부터, 10까지, 크기는 2행 3열)"
      ],
      "metadata": {
        "colab": {
          "base_uri": "https://localhost:8080/"
        },
        "id": "jC1U4Dks2maw",
        "outputId": "02bae411-5124-466c-c843-2324e7c2f3d5"
      },
      "execution_count": 46,
      "outputs": [
        {
          "output_type": "execute_result",
          "data": {
            "text/plain": [
              "array([[2, 2, 7],\n",
              "       [5, 7, 4]])"
            ]
          },
          "metadata": {},
          "execution_count": 46
        }
      ]
    },
    {
      "cell_type": "code",
      "metadata": {
        "id": "bm3kKxiv-Rks"
      },
      "source": [
        ""
      ],
      "execution_count": null,
      "outputs": []
    },
    {
      "cell_type": "markdown",
      "metadata": {
        "id": "uwkaaf-8dLud"
      },
      "source": [
        "#### Numpy 예제 02\n",
        "1,2,3,....,50 이 담긴 배열을 생성하시오."
      ]
    },
    {
      "cell_type": "code",
      "metadata": {
        "id": "i7Hpj1la-ULj",
        "colab": {
          "base_uri": "https://localhost:8080/"
        },
        "outputId": "8b5e8bf5-717a-4f44-aabb-ee04d19a2554"
      },
      "source": [
        "np.arange(1,51)"
      ],
      "execution_count": 48,
      "outputs": [
        {
          "output_type": "execute_result",
          "data": {
            "text/plain": [
              "array([ 1,  2,  3,  4,  5,  6,  7,  8,  9, 10, 11, 12, 13, 14, 15, 16, 17,\n",
              "       18, 19, 20, 21, 22, 23, 24, 25, 26, 27, 28, 29, 30, 31, 32, 33, 34,\n",
              "       35, 36, 37, 38, 39, 40, 41, 42, 43, 44, 45, 46, 47, 48, 49, 50])"
            ]
          },
          "metadata": {},
          "execution_count": 48
        }
      ]
    },
    {
      "cell_type": "markdown",
      "metadata": {
        "id": "Jck1YMkXeYPB"
      },
      "source": [
        "### ndarray 차원과 크기 변경\n",
        "- 차원 변경 되는 것이 있고 안되는 것도 있음"
      ]
    },
    {
      "cell_type": "code",
      "source": [
        "array1 = np.arange(10)\n",
        "print(array1)\n",
        "\n",
        "array2 = array1.reshape((2,5))\n",
        "print(array2)\n",
        "\n",
        "array3 = array1.reshape((5,2)) \n",
        "print(array3)"
      ],
      "metadata": {
        "colab": {
          "base_uri": "https://localhost:8080/"
        },
        "id": "Kl-ElpxS3irM",
        "outputId": "a89168b0-dc2a-4d56-d01b-5d8d5852199c"
      },
      "execution_count": 51,
      "outputs": [
        {
          "output_type": "stream",
          "name": "stdout",
          "text": [
            "[0 1 2 3 4 5 6 7 8 9]\n",
            "[[0 1 2 3 4]\n",
            " [5 6 7 8 9]]\n",
            "[[0 1]\n",
            " [2 3]\n",
            " [4 5]\n",
            " [6 7]\n",
            " [8 9]]\n"
          ]
        }
      ]
    },
    {
      "cell_type": "code",
      "source": [
        "# size가 동일? 하지 않음 - > 오류가 남\n",
        "# array1은 10인데 9에 넣으려면 안들어가짐\n",
        "\n",
        "array1.reshape( (3,3) )"
      ],
      "metadata": {
        "id": "Yc_dGUHh4bqb"
      },
      "execution_count": null,
      "outputs": []
    },
    {
      "cell_type": "code",
      "source": [
        "# 자동변환 헹 열을 알수 없을 때 -1을 해주면 알아서 찾아줌\n",
        "\n",
        "array1 = np.arange(10)\n",
        "print(array1)\n",
        "\n",
        "array2 = array1.reshape((2,-1))\n",
        "print(array2)\n",
        "\n",
        "array3 = array1.reshape((-1,2))\n",
        "print(array3)"
      ],
      "metadata": {
        "colab": {
          "base_uri": "https://localhost:8080/"
        },
        "id": "d89YtTLc4bjc",
        "outputId": "a2fca7af-ea0a-4f3c-aaef-fc3a172592cb"
      },
      "execution_count": 56,
      "outputs": [
        {
          "output_type": "stream",
          "name": "stdout",
          "text": [
            "[0 1 2 3 4 5 6 7 8 9]\n",
            "[[0 1 2 3 4]\n",
            " [5 6 7 8 9]]\n",
            "[[0 1]\n",
            " [2 3]\n",
            " [4 5]\n",
            " [6 7]\n",
            " [8 9]]\n"
          ]
        }
      ]
    },
    {
      "cell_type": "code",
      "source": [
        "# ndarray 형태 동일 -> list로 변환\n",
        "array1 = np.arange(8)\n",
        "array3d = array1.reshape(2,2,2)\n",
        "print(array3d.tolist())\n",
        "\n",
        "# 차원 변경하기 크기가 같으면 차원 변경 가능 함\n",
        "array5 = array3d.reshape(-1,1) # 8행 1열자리가 만들어짐\n",
        "print(array5.tolist(), array5.shape)\n",
        "\n",
        "array6 = array1.reshape(-1,1)\n",
        "print(array6.tolist(), array6.shape)"
      ],
      "metadata": {
        "colab": {
          "base_uri": "https://localhost:8080/"
        },
        "id": "xGwIWjhD5Pte",
        "outputId": "5d918ac0-05b1-4503-e80f-df2cb5065136"
      },
      "execution_count": 65,
      "outputs": [
        {
          "output_type": "stream",
          "name": "stdout",
          "text": [
            "[[[0, 1], [2, 3]], [[4, 5], [6, 7]]]\n",
            "[[0], [1], [2], [3], [4], [5], [6], [7]] (8, 1)\n",
            "[[0], [1], [2], [3], [4], [5], [6], [7]] (8, 1)\n"
          ]
        }
      ]
    },
    {
      "cell_type": "code",
      "source": [
        ""
      ],
      "metadata": {
        "id": "Gx-1H8R25Pkk"
      },
      "execution_count": null,
      "outputs": []
    },
    {
      "cell_type": "markdown",
      "metadata": {
        "id": "8aB0WahjrMEf"
      },
      "source": [
        "### ndarray 인덱싱 & 슬라이싱\n",
        "- 특정 데이터 추출\n",
        "- 슬라이싱(Slicing) : 연속된 데이터 추출\n",
        "- 팬시 인덱싱(Fancy Indexing) : 리스트 또는 ndarray 형태의 인덱싱 집합을 이용하여 여러 데이터를 추출\n",
        "- 불린 인덱싱(Boolean Indexing) : True/False 값 인덱싱 집합을 이용하여 해당 인덱스 위치에 있는 데이터를 추출"
      ]
    },
    {
      "cell_type": "code",
      "metadata": {
        "id": "uu1Lzh6r-Zed",
        "colab": {
          "base_uri": "https://localhost:8080/"
        },
        "outputId": "a7ff6ea3-3a0a-4523-9701-dadb1a86d3a5"
      },
      "source": [
        "array7 = np.arange(1,10)\n",
        "print(array7)\n",
        "\n",
        "v = array7[2]\n",
        "print(v, type(v))"
      ],
      "execution_count": 80,
      "outputs": [
        {
          "output_type": "stream",
          "name": "stdout",
          "text": [
            "[1 2 3 4 5 6 7 8 9]\n",
            "3 <class 'numpy.int64'>\n"
          ]
        }
      ]
    },
    {
      "cell_type": "code",
      "source": [
        "# 9 8 4 1\n",
        "array7[-1], array7[-2], array7[3], array7[0]"
      ],
      "metadata": {
        "colab": {
          "base_uri": "https://localhost:8080/"
        },
        "id": "MDKuBs7j7wYR",
        "outputId": "d5f1e181-de2e-44b6-fe82-e7df2ed57eaa"
      },
      "execution_count": 69,
      "outputs": [
        {
          "output_type": "execute_result",
          "data": {
            "text/plain": [
              "(9, 8, 4, 1)"
            ]
          },
          "metadata": {},
          "execution_count": 69
        }
      ]
    },
    {
      "cell_type": "code",
      "source": [
        "for i in array"
      ],
      "metadata": {
        "id": "nwx_Oy449tNk"
      },
      "execution_count": null,
      "outputs": []
    },
    {
      "cell_type": "code",
      "source": [
        "# 인덱스를 이용한 데이터 수정\n",
        "array7[0] = 9\n",
        "array7[8] = 0\n",
        "array7"
      ],
      "metadata": {
        "colab": {
          "base_uri": "https://localhost:8080/"
        },
        "id": "elD71siz8sY4",
        "outputId": "7ca06f76-d202-4288-b1e9-3e3cc8c0fdd1"
      },
      "execution_count": 83,
      "outputs": [
        {
          "output_type": "execute_result",
          "data": {
            "text/plain": [
              "array([9, 2, 3, 4, 5, 6, 7, 8, 0])"
            ]
          },
          "metadata": {},
          "execution_count": 83
        }
      ]
    },
    {
      "cell_type": "markdown",
      "metadata": {
        "id": "7wJD8jMM2ZJa"
      },
      "source": [
        "슬라이싱\n",
        "- ':' 기호 앞에 시작 인덱스를 생략하면 맨 처음 인덱스인 0으로 간주\n",
        "- ':' 기호 뒤에 종료 인덱스를 생략하면 맨 마지막 인덱스로 간주\n",
        "- ':' 기호 앞/뒤에 시작/종료 인덱스를 생략하면 맨 처음/마지막 인덱스로 간주\n",
        "\n"
      ]
    },
    {
      "cell_type": "code",
      "metadata": {
        "id": "H4B6fC3E-dUh"
      },
      "source": [
        ""
      ],
      "execution_count": null,
      "outputs": []
    },
    {
      "cell_type": "markdown",
      "metadata": {
        "id": "xZy_t6sQHWzM"
      },
      "source": [
        "#### Numpy 예제 03 \n",
        "\n",
        "BMI 구하기\n",
        "\n",
        "10명에 대한 키와 몸무게가 들어있는 파일 ‘height_weight.txt’을 읽어 각 사람별 BMI 지수를 구하시오.\n",
        "```\n",
        "data = np.loadtxt(drive_path + \"height_weight.txt\", delimiter = \",\") # delimiter : 구분자\n",
        "data\n",
        "```\n",
        "  \\\\( BMI지수=\\frac { 몸무게(kg) }{ 키(m) \\times 키(m) } \\\\)\n",
        "```\n",
        "# 제곱 계산\n",
        "# **2 or np.square()\n",
        "```"
      ]
    },
    {
      "cell_type": "code",
      "metadata": {
        "id": "9OBevrBV-gq9"
      },
      "source": [
        ""
      ],
      "execution_count": null,
      "outputs": []
    },
    {
      "cell_type": "markdown",
      "metadata": {
        "id": "7nozJyiiQo1I"
      },
      "source": [
        "### 행렬의 정렬\n",
        "- sort() : 정렬\n",
        "- argsort() : 정렬된 행렬의 원본 행렬 원소에 대한 인덱스를 반환"
      ]
    },
    {
      "cell_type": "code",
      "metadata": {
        "id": "a-lSRMRD-lPl"
      },
      "source": [
        ""
      ],
      "execution_count": null,
      "outputs": []
    },
    {
      "cell_type": "markdown",
      "metadata": {
        "id": "QBO6DurIejVc"
      },
      "source": [
        "### ndarray 연산\n",
        "- 일반연산 : 산술연산, 비교연산 ...\n",
        "- 선형대수 연산 : 행렬 내적과 전치 행렬"
      ]
    },
    {
      "cell_type": "code",
      "metadata": {
        "id": "fymYlKLH-oZA"
      },
      "source": [
        ""
      ],
      "execution_count": null,
      "outputs": []
    },
    {
      "cell_type": "markdown",
      "metadata": {
        "id": "iJ8ZGnMWaF_t"
      },
      "source": [
        "### Universal 함수\n",
        "- sin(), cos()다양한 수학함수를 제공\n",
        "- 스칼라값을 입력으로 하는 math 패키지와 달리 배열에 대해 요소별로 적용"
      ]
    },
    {
      "cell_type": "code",
      "metadata": {
        "id": "UbAo9wHL-qOO"
      },
      "source": [
        ""
      ],
      "execution_count": null,
      "outputs": []
    },
    {
      "cell_type": "markdown",
      "metadata": {
        "id": "KvMs00LYdYeH"
      },
      "source": [
        "#### Numpy 예제 04\n",
        "\n",
        "영화평점 데이터 분석"
      ]
    },
    {
      "cell_type": "code",
      "metadata": {
        "id": "vIYsPAMb-raO"
      },
      "source": [
        ""
      ],
      "execution_count": null,
      "outputs": []
    },
    {
      "cell_type": "markdown",
      "metadata": {
        "id": "0u4drffYV294"
      },
      "source": [
        "##### 데이터 분석하기\n",
        "```\n",
        "print(data.ndim)\n",
        "print(data.shape)\n",
        "print(data.size)\n",
        "```"
      ]
    },
    {
      "cell_type": "markdown",
      "metadata": {
        "id": "4555yr6wV-qB"
      },
      "source": [
        "##### 전체 평점 평균 구하기\n",
        "1. 평점 데이터만 추출 (인덱싱, 슬라이싱)\n",
        "2. 평균 구하기 (mean)"
      ]
    },
    {
      "cell_type": "code",
      "metadata": {
        "id": "bsI6QnTw-w2N"
      },
      "source": [
        ""
      ],
      "execution_count": null,
      "outputs": []
    },
    {
      "cell_type": "markdown",
      "metadata": {
        "id": "NyWvFfFpWhXF"
      },
      "source": [
        "##### 각 사용자별 평점 평균 구하기\n",
        "1번 사용자의 평균 평점 구하기\n",
        "1. 1번 사용자의 데이터만 Boolean Indexing 추출\n",
        "2. 1번 사용자의 데이터에서 평점만 추출 (인덱싱, 슬라이싱)\n",
        "3. 평균 구하기\n",
        "\n",
        "참고\n",
        "```\n",
        "# 중복된 성분을 제외한 array를 반환\n",
        "np.unique( ndarray )\n",
        "```"
      ]
    },
    {
      "cell_type": "code",
      "metadata": {
        "id": "CFGxQIME-z_s"
      },
      "source": [
        ""
      ],
      "execution_count": null,
      "outputs": []
    },
    {
      "cell_type": "markdown",
      "metadata": {
        "id": "Ewew5imqcJhc"
      },
      "source": [
        "##### 각 사용자 별 평균 평점이 4점 이상인 사용자 구하기\n",
        "- 리스트는 Boolean Indexing이 안되니 배열로 변환해야 인덱싱, 슬라이싱 가능"
      ]
    },
    {
      "cell_type": "code",
      "metadata": {
        "id": "xFK75MPR-1xk"
      },
      "source": [
        ""
      ],
      "execution_count": null,
      "outputs": []
    },
    {
      "cell_type": "markdown",
      "metadata": {
        "id": "5eaan4N6asRb"
      },
      "source": [
        "###### 질문\n",
        "\n",
        "평점 4점이 넘는 사용자만 구하려면,\n",
        "user_rate_avg의 결과 값을 리스트로 모은 후 ndarray 형식으로 바꾸는 방법밖에 없나요?"
      ]
    },
    {
      "cell_type": "code",
      "metadata": {
        "id": "fW8OiNDR-4c9"
      },
      "source": [
        ""
      ],
      "execution_count": null,
      "outputs": []
    },
    {
      "cell_type": "markdown",
      "metadata": {
        "id": "JGFR9J-ZeGfH"
      },
      "source": [
        "##### CSV 파일로 저장\n",
        "- np.savetxt() 이용"
      ]
    },
    {
      "cell_type": "code",
      "metadata": {
        "id": "-DTvy_Mo-5a2"
      },
      "source": [
        ""
      ],
      "execution_count": null,
      "outputs": []
    },
    {
      "cell_type": "markdown",
      "metadata": {
        "id": "h2jB8C-SaUSt"
      },
      "source": [
        "## Numpy 요약"
      ]
    },
    {
      "cell_type": "code",
      "metadata": {
        "id": "shHIpx0va9hq"
      },
      "source": [
        "import numpy as np"
      ],
      "execution_count": null,
      "outputs": []
    },
    {
      "cell_type": "code",
      "metadata": {
        "id": "onmh2IdB_B8U"
      },
      "source": [
        ""
      ],
      "execution_count": null,
      "outputs": []
    }
  ]
}