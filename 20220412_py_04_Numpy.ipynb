{
  "nbformat": 4,
  "nbformat_minor": 0,
  "metadata": {
    "colab": {
      "name": "20220412_py_04-Numpy.ipynb",
      "provenance": [],
      "collapsed_sections": [],
      "include_colab_link": true
    },
    "kernelspec": {
      "name": "python3",
      "display_name": "Python 3"
    }
  },
  "cells": [
    {
      "cell_type": "markdown",
      "metadata": {
        "id": "view-in-github",
        "colab_type": "text"
      },
      "source": [
        "<a href=\"https://colab.research.google.com/github/hwayoung306/AI/blob/main/20220412_py_04_Numpy.ipynb\" target=\"_parent\"><img src=\"https://colab.research.google.com/assets/colab-badge.svg\" alt=\"Open In Colab\"/></a>"
      ]
    },
    {
      "cell_type": "markdown",
      "metadata": {
        "id": "_r0l51R-X1FV"
      },
      "source": [
        "### 구글드라이브 연동\n",
        "\n"
      ]
    },
    {
      "cell_type": "code",
      "metadata": {
        "id": "GQk2rKa8HLiG",
        "colab": {
          "base_uri": "https://localhost:8080/"
        },
        "outputId": "ce4d8dfc-ca98-44a8-e2e9-e4e8f8955c91"
      },
      "source": [
        "# 구글드라이브 연동\n",
        "from google.colab import drive\n",
        "drive.mount('/gdrive', force_remount=True)\n",
        "\n",
        "# 구글 드라이브 파일 확인\n",
        "!ls '/gdrive/My Drive/temp/'\n",
        "\n",
        "# 반복되는 드라이브 경로 변수화\n",
        "drive_path = '/gdrive/My Drive/temp/'"
      ],
      "execution_count": 1,
      "outputs": [
        {
          "output_type": "stream",
          "name": "stdout",
          "text": [
            "Mounted at /gdrive\n",
            " 매수종목1.txt\t\t\t        sample.docx\n",
            "'2. 영화평점, 날짜별 영화평점 시각화'   sample_merge.pdf\n",
            " 매수종목2.txt\t\t\t        sample.xlsx\n",
            " auto-mpg.csv\t\t\t        score.csv\n",
            " bmi_500.csv\t\t\t        seoul.html\n",
            " 매수종목.csv\t\t\t       'stock price (1).xlsx'\n",
            " data_studentlist_en.csv\t       'stock price.xlsx'\n",
            "'demo (1).docx'\t\t\t        stock_px.csv\n",
            " demo.docx\t\t\t       'stock valuation.xlsx'\n",
            " example.docx\t\t\t        test.db.db\n",
            " height_weight.txt\t\t        test.txt\n",
            " hello_world.xlsx\t\t        Titanic배포용\n",
            " HelloWorld.xlsx\t\t        titanic_test.csv\n",
            "'little-char (1).png'\t\t        titanic_train.csv\n",
            " little-char.png\t\t        titanic.xls\n",
            " population_number.csv\t\t        Traffic_Accident_2017.csv\n",
            " ram_price.csv\t\t\t        train.csv\n",
            " ratings_small.txt\t\t        user_id_mean.csv\n",
            "'sample1 (1).pdf'\t\t        wine.csv\n",
            " sample1.pdf\t\t\t        주가데이터.xlsx\n",
            "'sample (1).xlsx'\t\t        남북한발전전력량.xlsx\n",
            " sample2.pdf\n"
          ]
        }
      ]
    },
    {
      "cell_type": "markdown",
      "metadata": {
        "id": "eLakI-RDZZjX"
      },
      "source": [
        "### 파이썬 머신러닝을 위한 모듈(라이브러리)\n"
      ]
    },
    {
      "cell_type": "markdown",
      "metadata": {
        "id": "K9CLJpX8ZeZK"
      },
      "source": [
        "* 머신러닝 라이브러리\n",
        " * 사이킷런(Scikit-Learn)\n",
        "* 행렬/선형대수/통계 라이브러리\n",
        "  * **넘파이(NumPy): 고성능 과학계산을 위한 데이터 분석**(행렬, 선형대수)\n",
        "  * 사이파이(SciPy): 자연과학, 통계\n",
        "* 데이터 핸들링\n",
        " * 판다스(Pandas): 행과 열로 구성된 표 형식의 데이터(2차원 데이터 처리)\n",
        "* 시각화\n",
        " * 맷플롯립(Matplotlib): 2D 그래프로 시각화\n",
        " * 시본(Seaborn): 다양한 색상 테마로 시각화"
      ]
    },
    {
      "cell_type": "markdown",
      "metadata": {
        "collapsed": true,
        "id": "4VbNtUCVa9hn"
      },
      "source": [
        "# Numpy (Numerical Python)\n",
        "- 벡터 및 행렬 연산에 있어서 매우 편리한 기능을 제공\n",
        "- 빠르고 효율적인 벡터 산술연산을 제공하는 n 차원 배열 (ndarray)\n",
        "- 반복문 없이 전체 데이터 배열 연산이 가능한 표준 수학 함수 (sum(), sqrt(), mean())\n",
        "- 선형대수, 난수 생성, 푸리에 변환"
      ]
    },
    {
      "cell_type": "markdown",
      "metadata": {
        "id": "PKEIAPgaaYjK"
      },
      "source": [
        "## Numpy 기초\n"
      ]
    },
    {
      "cell_type": "code",
      "metadata": {
        "id": "yRpo3bf_aiy2"
      },
      "source": [
        "# Numpy 모듈(라이브러리)를 import하고 np 라는 이름으로 부르는 것이 관례\n",
        "import numpy as np"
      ],
      "execution_count": 2,
      "outputs": []
    },
    {
      "cell_type": "code",
      "metadata": {
        "id": "XD9kSl4cbKnv"
      },
      "source": [
        "np.__version__"
      ],
      "execution_count": null,
      "outputs": []
    },
    {
      "cell_type": "markdown",
      "metadata": {
        "id": "EwbbaXIkbKMy"
      },
      "source": [
        "numpy.ndarray\n",
        "\n",
        "- 동일한 자료형을 가지는 값들이 배열 형태로 존재함\n",
        "- N 차원 형태로 구성이 가능하다.\n",
        "- 각 값들은 양의 정수로 색인(index)가 부여되어 있다.\n",
        "- Numpy에서 차원(Dimension)을 rank, axis라고 부르기도 한다.\n",
        "- ndarray를 줄여서 array로 표현한다.\n",
        "- ndarray -> 차원이 있는 array\n"
      ]
    },
    {
      "cell_type": "code",
      "metadata": {
        "id": "73ewlJKG-FLg",
        "colab": {
          "base_uri": "https://localhost:8080/"
        },
        "outputId": "f9f0582d-04e3-4c58-925b-0d4f0623e0f5"
      },
      "source": [
        "list1 = [1,2,3]\n",
        "array1 = np.array(list1)\n",
        "print(type(array1))\n",
        "print( array1.shape) # 배열의 크기 확인\n",
        "\n",
        "array2 = np.array( [[1,2,3],\n",
        "                  [4,5,6]])\n",
        "\n",
        "print( type(array2))\n",
        "print( array2.shape)\n",
        "\n",
        "array3 = np.array([[1,2,3]])\n",
        "print( type(array3))\n",
        "print( array3.shape)"
      ],
      "execution_count": null,
      "outputs": [
        {
          "output_type": "stream",
          "name": "stdout",
          "text": [
            "<class 'numpy.ndarray'>\n",
            "(3,)\n",
            "<class 'numpy.ndarray'>\n",
            "(2, 3)\n",
            "<class 'numpy.ndarray'>\n",
            "(1, 3)\n"
          ]
        }
      ]
    },
    {
      "cell_type": "code",
      "source": [
        "# Numpy 배열과 파이썬 리스트 성능 비교\n",
        "# 백만개의 정수를 저장\n",
        "import numpy as np\n",
        "arr1 = np.arange(1000000)\n",
        "list1 = list(range(1000000))\n",
        "\n",
        "%time for _ in range(10) : arr2 = arr1 * 2\n",
        "%time for _ in range(10) : list2 = [x*2 for x in list1]"
      ],
      "metadata": {
        "colab": {
          "base_uri": "https://localhost:8080/"
        },
        "id": "UBr4sLLtq2lD",
        "outputId": "41326db0-2dcb-4c3f-a967-9e0546848a9d"
      },
      "execution_count": null,
      "outputs": [
        {
          "output_type": "stream",
          "name": "stdout",
          "text": [
            "CPU times: user 14.8 ms, sys: 4.24 ms, total: 19.1 ms\n",
            "Wall time: 23.3 ms\n",
            "CPU times: user 758 ms, sys: 204 ms, total: 962 ms\n",
            "Wall time: 962 ms\n"
          ]
        }
      ]
    },
    {
      "cell_type": "markdown",
      "metadata": {
        "id": "I2T6p8UydKPf"
      },
      "source": [
        "ndarray.shape\n",
        "\n",
        "해당 array의 크기를 알 수 있다.\n",
        "\n",
        "- ndarray의 차원과 크기를 튜플(tuple) 형태로 출력\n",
        "\n",
        "- shape 을 확인함으로써 몇 개의 데이터가 있는지, 몇 차원으로 존재하는지 등을 확인할 수 있다.\n",
        "\n",
        "- 위에서 array1.shape의 결과는 (3,) 으로써, 1차원의 데이터이며 총 3라는 크기를 갖고 있음을 알 수 있다.\n",
        "\n",
        "- array2.shape의 결과는 (2,3) 으로써, 2차원의 데이터이며 2 * 3 크기를 갖고 있는 array 이다.\n"
      ]
    },
    {
      "cell_type": "code",
      "metadata": {
        "id": "IsCuGZgA-HOH",
        "colab": {
          "base_uri": "https://localhost:8080/"
        },
        "outputId": "0a9e9099-4e24-4bfa-82bb-13e71fdd9d88"
      },
      "source": [
        "# array 차원 확인\n",
        "array1.ndim, array2.ndim, array3.ndim"
      ],
      "execution_count": null,
      "outputs": [
        {
          "output_type": "execute_result",
          "data": {
            "text/plain": [
              "(1, 2, 2)"
            ]
          },
          "metadata": {},
          "execution_count": 28
        }
      ]
    },
    {
      "cell_type": "code",
      "source": [
        "# array의 전체 요소 개수 확인\n",
        "array1.size, array2.size, array3.size"
      ],
      "metadata": {
        "colab": {
          "base_uri": "https://localhost:8080/"
        },
        "id": "pMFaOvzNzODZ",
        "outputId": "be67fa57-6c96-4481-ba46-a728c4fb20b9"
      },
      "execution_count": null,
      "outputs": [
        {
          "output_type": "execute_result",
          "data": {
            "text/plain": [
              "(3, 6, 3)"
            ]
          },
          "metadata": {},
          "execution_count": 29
        }
      ]
    },
    {
      "cell_type": "markdown",
      "metadata": {
        "id": "J6Cp3YuUe4Pe"
      },
      "source": [
        "numpy에서 사용되는 자료형\n",
        "\n",
        "- 부호가 있는 정수 int(8, 16, 32, 64)\n",
        "- 부호가 없는 정수 uint(8 ,16, 32, 54)\n",
        "- 실수 float(16, 32, 64, 128)\n",
        "- 복소수 complex(64, 128, 256)\n",
        "- 불리언 bool\n",
        "- 문자열 string_ -> 파이썬 내부에서 쓰는 코드\n",
        "- 파이썬 오프젝트 object\n",
        "- 유니코드 unicode_ -> 세계적으로  통용되는 체계\n"
      ]
    },
    {
      "cell_type": "code",
      "metadata": {
        "id": "hsBT6cYS-Kz_",
        "colab": {
          "base_uri": "https://localhost:8080/"
        },
        "outputId": "fb84cff5-8df1-49c5-ba59-ffab247d52b6"
      },
      "source": [
        "list1 = [1,2,3]\n",
        "array1 = np.array(list1)\n",
        "print(type(array1))\n",
        "print(array1)\n",
        "print(array1.dtype)"
      ],
      "execution_count": null,
      "outputs": [
        {
          "output_type": "stream",
          "name": "stdout",
          "text": [
            "<class 'numpy.ndarray'>\n",
            "[1 2 3]\n",
            "int64\n"
          ]
        }
      ]
    },
    {
      "cell_type": "code",
      "source": [
        "# 서로 다른 데이터 타입을 갖는 리스트일 때\n",
        "list2 = [1,2, 'test']\n",
        "print('list2', type(list2))\n",
        "\n",
        "array2 = np.array(list2)\n",
        "print('array2', array2.dtype, array2)\n",
        "\n",
        "list3 = [1,2,3.1]\n",
        "array3 = np.array(list3)\n",
        "print('array3', array3.dtype, array3)"
      ],
      "metadata": {
        "colab": {
          "base_uri": "https://localhost:8080/"
        },
        "id": "mLhKJ-57tTX8",
        "outputId": "45fec113-5504-483f-9344-495b41cace1a"
      },
      "execution_count": null,
      "outputs": [
        {
          "output_type": "stream",
          "name": "stdout",
          "text": [
            "list2 <class 'list'>\n",
            "array2 <U21 ['1' '2' 'test']\n",
            "array3 float64 [1.  2.  3.1]\n"
          ]
        }
      ]
    },
    {
      "cell_type": "markdown",
      "metadata": {
        "id": "puoGBh3phGZK"
      },
      "source": [
        "- 리스트와 다르게 ndarray는 같은 데이터 타입만 가능.\n",
        "- 서로 다른 데이터 타입이 섞여 있을 경우 큰 데이터 타입으로 형 변환을 일괄 적용"
      ]
    },
    {
      "cell_type": "code",
      "metadata": {
        "id": "lY6uJC2R-MuW",
        "colab": {
          "base_uri": "https://localhost:8080/"
        },
        "outputId": "2c1088b1-d25a-4c13-ffe1-0df675a54486"
      },
      "source": [
        "# 데이터 타입 변경하기(강제) .astype(변경할 타입)\n",
        "array_int = np.array( [1,2,3] )\n",
        "print( array_int, array_int.dtype )\n",
        "\n",
        "array_float = array_int.astype('float64')\n",
        "print( array_float, array_float.dtype )\n",
        "\n",
        "array_int32 = array_int.astype(np.int32)\n",
        "print( array_int32, array_int32.dtype )\n",
        "\n",
        "array_float2 = np.array( [1.1, 2.2, 3.3 ] )\n",
        "array_int2 = array_float2.astype('int32')\n",
        "print( array_int2, array_int2.dtype )"
      ],
      "execution_count": null,
      "outputs": [
        {
          "output_type": "stream",
          "name": "stdout",
          "text": [
            "[1 2 3] int64\n",
            "[1. 2. 3.] float64\n",
            "[1 2 3] int32\n",
            "[1 2 3] int32\n"
          ]
        }
      ]
    },
    {
      "cell_type": "code",
      "source": [
        "arr = np.array([1.1,2.2,3.3], dtype=np.int32)\n",
        "arr"
      ],
      "metadata": {
        "colab": {
          "base_uri": "https://localhost:8080/"
        },
        "id": "spitYT0Evdzz",
        "outputId": "05c67e75-6d3c-43b0-a000-312fbd0778cc"
      },
      "execution_count": null,
      "outputs": [
        {
          "output_type": "execute_result",
          "data": {
            "text/plain": [
              "array([1, 2, 3], dtype=int32)"
            ]
          },
          "metadata": {},
          "execution_count": 24
        }
      ]
    },
    {
      "cell_type": "markdown",
      "metadata": {
        "id": "g1hWpxYolBGe"
      },
      "source": [
        "#### Numpy 예제 01\n",
        "Numpy를 이용해 다음과 같은 3차원 배열을 만들고 배열의 크기, 차원, 전체 요소 개수을 확인해보자 \n",
        "```\n",
        "array([[[1,2],\n",
        "        [3,4]],\n",
        "        \n",
        "       [[5,6],\n",
        "        [7,8]]])\n",
        "```\n",
        "```\n",
        "배열의 모양: (2, 2, 2)\n",
        "배열의 차원: 3\n",
        "배열의 개수: 8\n",
        "```\n"
      ]
    },
    {
      "cell_type": "code",
      "metadata": {
        "id": "9tbuaoVE-OSO",
        "colab": {
          "base_uri": "https://localhost:8080/"
        },
        "outputId": "21c68a16-df4a-4e29-da0b-51373af90fa6"
      },
      "source": [
        "array4 = np.array([[[1,2],[3,4]],[[5,6],[7,8]]])\n",
        "\n",
        "print(array4.shape)\n",
        "print(array4.ndim)\n",
        "print(array4.size)\n"
      ],
      "execution_count": null,
      "outputs": [
        {
          "output_type": "stream",
          "name": "stdout",
          "text": [
            "(2, 2, 2)\n",
            "3\n",
            "8\n"
          ]
        }
      ]
    },
    {
      "cell_type": "markdown",
      "metadata": {
        "id": "tE_voqsBmuHl"
      },
      "source": [
        "### ndarray 생성"
      ]
    },
    {
      "cell_type": "code",
      "metadata": {
        "id": "Ga3KNSi1-WpG",
        "colab": {
          "base_uri": "https://localhost:8080/"
        },
        "outputId": "29cf96b5-03e7-44e1-cc9e-684d7b725b9e"
      },
      "source": [
        "# 연속 값으로 생성\n",
        "seq_array = np.arange(10)\n",
        "seq_array, seq_array.dtype, seq_array.shape"
      ],
      "execution_count": null,
      "outputs": [
        {
          "output_type": "execute_result",
          "data": {
            "text/plain": [
              "(array([0, 1, 2, 3, 4, 5, 6, 7, 8, 9]), dtype('int64'), (10,))"
            ]
          },
          "metadata": {},
          "execution_count": 36
        }
      ]
    },
    {
      "cell_type": "code",
      "source": [
        "# 초기화 0으로 채워진 배열 생성 zeros(크기, 데이터타입)\n",
        "zero_array = np.zeros((3,2), dtype = 'int32')\n",
        "zero_array, zero_array.dtype, zero_array.shape"
      ],
      "metadata": {
        "colab": {
          "base_uri": "https://localhost:8080/"
        },
        "id": "uwrel9IW0hOD",
        "outputId": "3c044025-546e-4b0d-a94a-211d15d42642"
      },
      "execution_count": null,
      "outputs": [
        {
          "output_type": "execute_result",
          "data": {
            "text/plain": [
              "(array([[0, 0],\n",
              "        [0, 0],\n",
              "        [0, 0]], dtype=int32), dtype('int32'), (3, 2))"
            ]
          },
          "metadata": {},
          "execution_count": 38
        }
      ]
    },
    {
      "cell_type": "code",
      "source": [
        "# 1로 초기화 시키기 ones(크기)\n",
        "np.ones((3, 2))"
      ],
      "metadata": {
        "colab": {
          "base_uri": "https://localhost:8080/"
        },
        "id": "DsfRCB5Y1CM9",
        "outputId": "1f74e06d-d7b7-4105-dc8f-34daf68a9e92"
      },
      "execution_count": null,
      "outputs": [
        {
          "output_type": "execute_result",
          "data": {
            "text/plain": [
              "array([[1., 1.],\n",
              "       [1., 1.],\n",
              "       [1., 1.]])"
            ]
          },
          "metadata": {},
          "execution_count": 40
        }
      ]
    },
    {
      "cell_type": "code",
      "source": [
        "# np.full( (행, 열), 넣을 데이터 값)\n",
        "np.full( (5,5), 7)"
      ],
      "metadata": {
        "colab": {
          "base_uri": "https://localhost:8080/"
        },
        "id": "CE-6qLUU1QfF",
        "outputId": "5fd7004c-27c7-4649-fb09-a72b53db0244"
      },
      "execution_count": null,
      "outputs": [
        {
          "output_type": "execute_result",
          "data": {
            "text/plain": [
              "array([[7, 7, 7, 7, 7],\n",
              "       [7, 7, 7, 7, 7],\n",
              "       [7, 7, 7, 7, 7],\n",
              "       [7, 7, 7, 7, 7],\n",
              "       [7, 7, 7, 7, 7]])"
            ]
          },
          "metadata": {},
          "execution_count": 41
        }
      ]
    },
    {
      "cell_type": "code",
      "source": [
        "# 랜덤 값으로 초기화 \n",
        "np.random.seed(10) # 시드 값이 있으면 매번 같은 랜덤 값이 들어감\n",
        "np.random.rand(2,3) # 2행 3열 데이터 삽입"
      ],
      "metadata": {
        "colab": {
          "base_uri": "https://localhost:8080/"
        },
        "id": "6R94lZEt1Z6H",
        "outputId": "ff147b18-fea1-4b3c-be09-6667594ad513"
      },
      "execution_count": null,
      "outputs": [
        {
          "output_type": "execute_result",
          "data": {
            "text/plain": [
              "array([[0.75658709, 0.73002532, 0.17503925],\n",
              "       [0.37531852, 0.06871881, 0.11886116]])"
            ]
          },
          "metadata": {},
          "execution_count": 44
        }
      ]
    },
    {
      "cell_type": "code",
      "source": [
        "# 랜덤 값의 범위 지정 \n",
        "np.random.randint(2,10,size = (2,3)) # 숫자로 (2부터, 10까지, 크기는 2행 3열)"
      ],
      "metadata": {
        "colab": {
          "base_uri": "https://localhost:8080/"
        },
        "id": "jC1U4Dks2maw",
        "outputId": "02bae411-5124-466c-c843-2324e7c2f3d5"
      },
      "execution_count": null,
      "outputs": [
        {
          "output_type": "execute_result",
          "data": {
            "text/plain": [
              "array([[2, 2, 7],\n",
              "       [5, 7, 4]])"
            ]
          },
          "metadata": {},
          "execution_count": 46
        }
      ]
    },
    {
      "cell_type": "markdown",
      "metadata": {
        "id": "uwkaaf-8dLud"
      },
      "source": [
        "#### Numpy 예제 02\n",
        "1,2,3,....,50 이 담긴 배열을 생성하시오."
      ]
    },
    {
      "cell_type": "code",
      "metadata": {
        "id": "i7Hpj1la-ULj",
        "colab": {
          "base_uri": "https://localhost:8080/"
        },
        "outputId": "fc7ef91b-57ff-436c-ab18-251d64388409"
      },
      "source": [
        "arr = np.arange(1,51)\n",
        "arr"
      ],
      "execution_count": null,
      "outputs": [
        {
          "output_type": "execute_result",
          "data": {
            "text/plain": [
              "array([ 1,  2,  3,  4,  5,  6,  7,  8,  9, 10, 11, 12, 13, 14, 15, 16, 17,\n",
              "       18, 19, 20, 21, 22, 23, 24, 25, 26, 27, 28, 29, 30, 31, 32, 33, 34,\n",
              "       35, 36, 37, 38, 39, 40, 41, 42, 43, 44, 45, 46, 47, 48, 49, 50])"
            ]
          },
          "metadata": {},
          "execution_count": 6
        }
      ]
    },
    {
      "cell_type": "markdown",
      "metadata": {
        "id": "Jck1YMkXeYPB"
      },
      "source": [
        "### ndarray 차원과 크기 변경\n",
        "- 차원 변경 되는 것이 있고 안되는 것도 있음"
      ]
    },
    {
      "cell_type": "code",
      "source": [
        "# 내용의 사이즈 (크기)가 같아야 변환이 가능하다.\n",
        "array1 = np.arange(10)\n",
        "print(array1)\n",
        "\n",
        "array2 = array1.reshape((2,5))\n",
        "print(array2)\n",
        "\n",
        "array3 = array1.reshape((5,2)) \n",
        "print(array3)"
      ],
      "metadata": {
        "colab": {
          "base_uri": "https://localhost:8080/"
        },
        "id": "Kl-ElpxS3irM",
        "outputId": "a89168b0-dc2a-4d56-d01b-5d8d5852199c"
      },
      "execution_count": null,
      "outputs": [
        {
          "output_type": "stream",
          "name": "stdout",
          "text": [
            "[0 1 2 3 4 5 6 7 8 9]\n",
            "[[0 1 2 3 4]\n",
            " [5 6 7 8 9]]\n",
            "[[0 1]\n",
            " [2 3]\n",
            " [4 5]\n",
            " [6 7]\n",
            " [8 9]]\n"
          ]
        }
      ]
    },
    {
      "cell_type": "code",
      "source": [
        "# size가 동일? 하지 않음 - > 오류가 남\n",
        "# array1은 10인데 9에 넣으려면 안들어가짐\n",
        "\n",
        "# 오류남 : array1.reshape( (3,3) )"
      ],
      "metadata": {
        "id": "Yc_dGUHh4bqb"
      },
      "execution_count": null,
      "outputs": []
    },
    {
      "cell_type": "code",
      "source": [
        "# 자동변환 헹 열을 알수 없을 때 -1을 해주면 알아서 찾아줌\n",
        "\n",
        "array1 = np.arange(10)\n",
        "print(array1)\n",
        "\n",
        "array2 = array1.reshape((2,-1))\n",
        "print(array2)\n",
        "\n",
        "array3 = array1.reshape((-1,2))\n",
        "print(array3)"
      ],
      "metadata": {
        "colab": {
          "base_uri": "https://localhost:8080/"
        },
        "id": "d89YtTLc4bjc",
        "outputId": "a2fca7af-ea0a-4f3c-aaef-fc3a172592cb"
      },
      "execution_count": null,
      "outputs": [
        {
          "output_type": "stream",
          "name": "stdout",
          "text": [
            "[0 1 2 3 4 5 6 7 8 9]\n",
            "[[0 1 2 3 4]\n",
            " [5 6 7 8 9]]\n",
            "[[0 1]\n",
            " [2 3]\n",
            " [4 5]\n",
            " [6 7]\n",
            " [8 9]]\n"
          ]
        }
      ]
    },
    {
      "cell_type": "code",
      "source": [
        "# ndarray 형태 동일 (응용) -> list로 변환\n",
        "array1 = np.arange(8)\n",
        "array3d = array1.reshape(2,2,2)\n",
        "print(array3d.tolist())\n",
        "\n",
        "# 차원 변경하기 크기가 같으면 차원 변경 가능 함\n",
        "array5 = array3d.reshape(-1,1) # 8행 1열자리가 만들어짐\n",
        "print(array5.tolist(), array5.shape)\n",
        "\n",
        "array6 = array1.reshape(-1,1)\n",
        "print(array6.tolist(), array6.shape)"
      ],
      "metadata": {
        "colab": {
          "base_uri": "https://localhost:8080/"
        },
        "id": "xGwIWjhD5Pte",
        "outputId": "5d918ac0-05b1-4503-e80f-df2cb5065136"
      },
      "execution_count": null,
      "outputs": [
        {
          "output_type": "stream",
          "name": "stdout",
          "text": [
            "[[[0, 1], [2, 3]], [[4, 5], [6, 7]]]\n",
            "[[0], [1], [2], [3], [4], [5], [6], [7]] (8, 1)\n",
            "[[0], [1], [2], [3], [4], [5], [6], [7]] (8, 1)\n"
          ]
        }
      ]
    },
    {
      "cell_type": "markdown",
      "metadata": {
        "id": "8aB0WahjrMEf"
      },
      "source": [
        "### ndarray 인덱싱 & 슬라이싱\n",
        "- 특정 데이터 추출\n",
        "- 슬라이싱(Slicing) : 연속된 데이터 추출\n",
        "- 팬시 인덱싱(Fancy Indexing) : 리스트 또는 ndarray 형태의 인덱싱 집합을 이용하여 여러 데이터를 추출\n",
        "- 불린 인덱싱(Boolean Indexing) : True/False 값 인덱싱 집합을 이용하여 해당 인덱스 위치에 있는 데이터를 추출"
      ]
    },
    {
      "cell_type": "code",
      "metadata": {
        "id": "uu1Lzh6r-Zed",
        "colab": {
          "base_uri": "https://localhost:8080/"
        },
        "outputId": "ff37bfb4-4eb7-4db1-8fa9-a1792b7c7752"
      },
      "source": [
        "array7 = np.arange(1,10)\n",
        "print(array7)\n",
        "\n",
        "v = array7[2]\n",
        "print(v, type(v))"
      ],
      "execution_count": null,
      "outputs": [
        {
          "output_type": "stream",
          "name": "stdout",
          "text": [
            "[1 2 3 4 5 6 7 8 9]\n",
            "3 <class 'numpy.int64'>\n"
          ]
        }
      ]
    },
    {
      "cell_type": "code",
      "source": [
        "# 9 8 4 1\n",
        "array7[-1], array7[-2], array7[3], array7[0]"
      ],
      "metadata": {
        "colab": {
          "base_uri": "https://localhost:8080/"
        },
        "id": "MDKuBs7j7wYR",
        "outputId": "d84a8dde-c0ad-45ba-ce22-bbdc1109ae77"
      },
      "execution_count": null,
      "outputs": [
        {
          "output_type": "execute_result",
          "data": {
            "text/plain": [
              "(9, 8, 4, 1)"
            ]
          },
          "metadata": {},
          "execution_count": 8
        }
      ]
    },
    {
      "cell_type": "code",
      "source": [
        "# 인덱스를 이용한 데이터 수정\n",
        "array7[0] = 9\n",
        "array7[8] = 0\n",
        "array7"
      ],
      "metadata": {
        "colab": {
          "base_uri": "https://localhost:8080/"
        },
        "id": "elD71siz8sY4",
        "outputId": "d91501b1-a202-48a4-a244-1a7a9f644124"
      },
      "execution_count": null,
      "outputs": [
        {
          "output_type": "execute_result",
          "data": {
            "text/plain": [
              "array([9, 2, 3, 4, 5, 6, 7, 8, 0])"
            ]
          },
          "metadata": {},
          "execution_count": 10
        }
      ]
    },
    {
      "cell_type": "code",
      "source": [
        "array7[0], array7[8] = array7[8], array7[0]"
      ],
      "metadata": {
        "id": "gg0OTisled5f"
      },
      "execution_count": null,
      "outputs": []
    },
    {
      "cell_type": "code",
      "source": [
        "array = np.arange(1, 7).reshape(2, 3)\n",
        "\n",
        "display( array )\n",
        "print(array[0])\n",
        "print(array[0][0])\n",
        "print(array[0,0])"
      ],
      "metadata": {
        "colab": {
          "base_uri": "https://localhost:8080/",
          "height": 108
        },
        "id": "VD3n3Mc6hObs",
        "outputId": "9a59d8d0-5bb0-4d63-afe4-c15be58427a9"
      },
      "execution_count": null,
      "outputs": [
        {
          "output_type": "display_data",
          "data": {
            "text/plain": [
              "array([[1, 2, 3],\n",
              "       [4, 5, 6]])"
            ]
          },
          "metadata": {}
        },
        {
          "output_type": "stream",
          "name": "stdout",
          "text": [
            "[1 2 3]\n",
            "1\n",
            "1\n"
          ]
        }
      ]
    },
    {
      "cell_type": "code",
      "source": [
        "array1d = np.arange(1, 10)\n",
        "array2d = array1d.reshape(3,3)\n",
        "\n",
        "print(array2d)\n",
        "print('row=0', 'col=0', array2d[0,0])\n",
        "print('row=0', 'col=1', array2d[0,1])\n",
        "print('row=1', 'col=0', array2d[1,0])\n",
        "print('row=2', 'col=2', array2d[2,2])\n",
        "print('row=2', 'col=1', array2d[2,1])"
      ],
      "metadata": {
        "colab": {
          "base_uri": "https://localhost:8080/"
        },
        "id": "55OagASqhuvD",
        "outputId": "952cd3f0-0e0b-4263-8cd0-0c0b1d6c0428"
      },
      "execution_count": 4,
      "outputs": [
        {
          "output_type": "stream",
          "name": "stdout",
          "text": [
            "[[1 2 3]\n",
            " [4 5 6]\n",
            " [7 8 9]]\n",
            "row=0 col=0 1\n",
            "row=0 col=1 2\n",
            "row=1 col=0 4\n",
            "row=2 col=2 9\n",
            "row=2 col=1 8\n"
          ]
        }
      ]
    },
    {
      "cell_type": "markdown",
      "metadata": {
        "id": "7wJD8jMM2ZJa"
      },
      "source": [
        "슬라이싱\n",
        "- ':' 기호 앞에 시작 인덱스를 생략하면 맨 처음 인덱스인 0으로 간주\n",
        "- ':' 기호 뒤에 종료 인덱스를 생략하면 맨 마지막 인덱스로 간주\n",
        "- ':' 기호 앞/뒤에 시작/종료 인덱스를 생략하면 맨 처음/마지막 인덱스로 간주\n",
        "\n"
      ]
    },
    {
      "cell_type": "code",
      "metadata": {
        "id": "H4B6fC3E-dUh",
        "colab": {
          "base_uri": "https://localhost:8080/"
        },
        "outputId": "081b1493-e825-466b-c606-ded152d1a94c"
      },
      "source": [
        "# 1차원 슬라이싱\n",
        "arr = np.arange(1, 10)\n",
        "print(arr)\n",
        "print(arr[0:3])\n",
        "print(arr[:3])\n",
        "print(arr[3:])\n",
        "print(arr[:])"
      ],
      "execution_count": null,
      "outputs": [
        {
          "output_type": "stream",
          "name": "stdout",
          "text": [
            "[1 2 3 4 5 6 7 8 9]\n",
            "[1 2 3]\n",
            "[1 2 3]\n",
            "[4 5 6 7 8 9]\n",
            "[1 2 3 4 5 6 7 8 9]\n"
          ]
        }
      ]
    },
    {
      "cell_type": "code",
      "source": [
        "# 2차원 슬라이싱\n",
        "array = np.arange(1,10).reshape(3,3)\n",
        "array"
      ],
      "metadata": {
        "colab": {
          "base_uri": "https://localhost:8080/"
        },
        "id": "dgZ7uOvUivxT",
        "outputId": "7c3ae0ec-fbb3-43d0-cab8-855e5a9915bf"
      },
      "execution_count": null,
      "outputs": [
        {
          "output_type": "execute_result",
          "data": {
            "text/plain": [
              "array([[1, 2, 3],\n",
              "       [4, 5, 6],\n",
              "       [7, 8, 9]])"
            ]
          },
          "metadata": {},
          "execution_count": 20
        }
      ]
    },
    {
      "cell_type": "code",
      "source": [
        "# array[행,열]\n",
        "print(array[0:2,0:2])"
      ],
      "metadata": {
        "colab": {
          "base_uri": "https://localhost:8080/"
        },
        "id": "izVLk2Sai4YC",
        "outputId": "8fad6e27-69f2-4a0b-b6e4-42fc3ed89d35"
      },
      "execution_count": null,
      "outputs": [
        {
          "output_type": "stream",
          "name": "stdout",
          "text": [
            "[[1 2]\n",
            " [4 5]]\n"
          ]
        }
      ]
    },
    {
      "cell_type": "code",
      "source": [
        "array[1:3,0:3]\n",
        "array[1:,:]"
      ],
      "metadata": {
        "colab": {
          "base_uri": "https://localhost:8080/"
        },
        "id": "mXectad0jl_l",
        "outputId": "59ddb544-3e28-4da2-f8e6-dbc5a7b650fd"
      },
      "execution_count": null,
      "outputs": [
        {
          "output_type": "execute_result",
          "data": {
            "text/plain": [
              "array([[4, 5, 6],\n",
              "       [7, 8, 9]])"
            ]
          },
          "metadata": {},
          "execution_count": 23
        }
      ]
    },
    {
      "cell_type": "code",
      "source": [
        "array[1:,1:2]"
      ],
      "metadata": {
        "colab": {
          "base_uri": "https://localhost:8080/"
        },
        "id": "ImtIonVfjyN7",
        "outputId": "f7dfb4b1-0f0a-4342-e09c-a0d350b6f5f0"
      },
      "execution_count": null,
      "outputs": [
        {
          "output_type": "execute_result",
          "data": {
            "text/plain": [
              "array([[5],\n",
              "       [8]])"
            ]
          },
          "metadata": {},
          "execution_count": 25
        }
      ]
    },
    {
      "cell_type": "code",
      "source": [
        "array[:,:]"
      ],
      "metadata": {
        "id": "yNfls5mukbih"
      },
      "execution_count": null,
      "outputs": []
    },
    {
      "cell_type": "markdown",
      "source": [
        "팬시 인덱싱 : 리스트 또는 ndarray 형태의 인덱싱 집합을 이용하여 여러 데이터를 추출"
      ],
      "metadata": {
        "id": "DHA_ynNVlLMv"
      }
    },
    {
      "cell_type": "code",
      "source": [
        "# 어떤 조건에 따라서 바꾸고 싶을 때 사용\n",
        "# 1차원\n",
        "arr = np.arange(1,10)\n",
        "print( arr )\n",
        "pindex = [2,4,7]\n",
        "arr[ pindex ]"
      ],
      "metadata": {
        "colab": {
          "base_uri": "https://localhost:8080/"
        },
        "id": "WUzV8sNulOHp",
        "outputId": "13e19b88-725d-401a-c61e-1b105039015c"
      },
      "execution_count": 5,
      "outputs": [
        {
          "output_type": "stream",
          "name": "stdout",
          "text": [
            "[1 2 3 4 5 6 7 8 9]\n"
          ]
        },
        {
          "output_type": "execute_result",
          "data": {
            "text/plain": [
              "array([3, 5, 8])"
            ]
          },
          "metadata": {},
          "execution_count": 5
        }
      ]
    },
    {
      "cell_type": "code",
      "source": [
        "# 2차원\n",
        "arr = np.arange(1,10).reshape(3,3)\n",
        "print(arr) ; print()\n",
        "\n",
        "# 행 : 팬시인덱싱, 열 : 슬라이싱 인덱싱 \n",
        "# arr[ [0,2], 2 ] : 행이 0행이고 2행인 값 중에서 2번째 열에 있는 값\n",
        "print( arr[ [0,2], 2] )  ; print() # [3, 9] \n",
        "print( arr[ [0,2], 0:2 ] ) ; print() # [[1,2], [7,8]]\n",
        "print( arr[ [0,2] ] ) ; print()# [[1, 2, 3],[7,8,9]]\n",
        "print( arr[ [0,2], :] )"
      ],
      "metadata": {
        "colab": {
          "base_uri": "https://localhost:8080/"
        },
        "id": "VQBLATcClZ-H",
        "outputId": "a9fb8b07-7700-4bce-c311-4a51f5d8fd05"
      },
      "execution_count": 7,
      "outputs": [
        {
          "output_type": "stream",
          "name": "stdout",
          "text": [
            "[[1 2 3]\n",
            " [4 5 6]\n",
            " [7 8 9]]\n",
            "\n",
            "[3 9]\n",
            "\n",
            "[[1 2]\n",
            " [7 8]]\n",
            "\n",
            "[[1 2 3]\n",
            " [7 8 9]]\n",
            "\n",
            "[[1 2 3]\n",
            " [7 8 9]]\n"
          ]
        }
      ]
    },
    {
      "cell_type": "markdown",
      "source": [
        "불린 인덱싱 : True/False 값 인덱싱 집합을 이용하여 해당 인덱스 위치에 있는 데이터를 추출"
      ],
      "metadata": {
        "id": "RRA0k-mtnacp"
      }
    },
    {
      "cell_type": "code",
      "source": [
        "# 1차원\n",
        "# 필터링과 검색이 동시에 가능하다\n",
        "arr = np.arange(1,10)\n",
        "print( arr )\n",
        "print(arr>5)\n",
        "bool_index = arr > 5\n",
        "print(bool_index)\n",
        "print(arr[bool_index]) # True인 부분만 나온다\n",
        "arr[ arr > 5] # ndarray에 조건식 대입"
      ],
      "metadata": {
        "colab": {
          "base_uri": "https://localhost:8080/"
        },
        "id": "4HUqWKhPnZGx",
        "outputId": "41c29031-64f1-44a2-ad23-9490d30d54fc"
      },
      "execution_count": 8,
      "outputs": [
        {
          "output_type": "stream",
          "name": "stdout",
          "text": [
            "[1 2 3 4 5 6 7 8 9]\n",
            "[False False False False False  True  True  True  True]\n",
            "[False False False False False  True  True  True  True]\n",
            "[6 7 8 9]\n"
          ]
        },
        {
          "output_type": "execute_result",
          "data": {
            "text/plain": [
              "array([6, 7, 8, 9])"
            ]
          },
          "metadata": {},
          "execution_count": 8
        }
      ]
    },
    {
      "cell_type": "code",
      "source": [
        "# 불린 인덱싱으로 필터링을 가능하게 함\n",
        "bool_index = [False,True, False,False,False,True,True,True,True]\n",
        "arr[bool_index]"
      ],
      "metadata": {
        "colab": {
          "base_uri": "https://localhost:8080/"
        },
        "id": "nWRwnCisoYvH",
        "outputId": "031db0b3-865d-4102-86be-4a4937c352ca"
      },
      "execution_count": null,
      "outputs": [
        {
          "output_type": "execute_result",
          "data": {
            "text/plain": [
              "array([2, 6, 7, 8, 9])"
            ]
          },
          "metadata": {},
          "execution_count": 48
        }
      ]
    },
    {
      "cell_type": "code",
      "source": [
        "# 불린 인덱싱 응용\n",
        "names = np.array(['홍길동', '박철수', '이영희', '김영원', '변사또'])\n",
        "scores = np.array([[60,60],[70,70],[80,80],[90,90],[100,100]])\n",
        "\n",
        "names.shape, scores.shape"
      ],
      "metadata": {
        "colab": {
          "base_uri": "https://localhost:8080/"
        },
        "id": "Wj8zkkHCopvH",
        "outputId": "8d173d1e-3326-4268-aea3-b9896cb2b7d1"
      },
      "execution_count": null,
      "outputs": [
        {
          "output_type": "execute_result",
          "data": {
            "text/plain": [
              "((5,), (5, 2))"
            ]
          },
          "metadata": {},
          "execution_count": 49
        }
      ]
    },
    {
      "cell_type": "code",
      "source": [
        "print(names == '홍길동')\n",
        "scores[names == '홍길동']"
      ],
      "metadata": {
        "colab": {
          "base_uri": "https://localhost:8080/"
        },
        "id": "0vIuk4mZpP07",
        "outputId": "0ad3beeb-819e-4cf1-f4b3-5778c7894980"
      },
      "execution_count": null,
      "outputs": [
        {
          "output_type": "stream",
          "name": "stdout",
          "text": [
            "[ True False False False False]\n"
          ]
        },
        {
          "output_type": "execute_result",
          "data": {
            "text/plain": [
              "array([[60, 60]])"
            ]
          },
          "metadata": {},
          "execution_count": 51
        }
      ]
    },
    {
      "cell_type": "markdown",
      "metadata": {
        "id": "xZy_t6sQHWzM"
      },
      "source": [
        "#### Numpy 예제 03 \n",
        "\n",
        "BMI 구하기\n",
        "\n",
        "10명에 대한 키와 몸무게가 들어있는 파일 ‘height_weight.txt’을 읽어 각 사람별 BMI 지수를 구하시오.\n",
        "```\n",
        "data = np.loadtxt(drive_path + \"height_weight.txt\", delimiter = \",\") # delimiter : 구분자\n",
        "data\n",
        "```\n",
        "  \\\\( BMI지수=\\frac { 몸무게(kg) }{ 키(m) \\times 키(m) } \\\\)\n",
        "```\n",
        "# 제곱 계산\n",
        "# **2 or np.square()\n",
        "```"
      ]
    },
    {
      "cell_type": "code",
      "metadata": {
        "id": "9OBevrBV-gq9",
        "colab": {
          "base_uri": "https://localhost:8080/"
        },
        "outputId": "d89fbc9e-8f58-44fd-9959-2e0988594d11"
      },
      "source": [
        "# 가져올 텍스트의 위치, 데이터들을 구분하는 요소(,나 공백, 텝 등)\n",
        "data = np.loadtxt(drive_path + 'height_weight.txt', delimiter=\",\")\n",
        "data"
      ],
      "execution_count": null,
      "outputs": [
        {
          "output_type": "execute_result",
          "data": {
            "text/plain": [
              "array([[175.2, 180.3, 175. , 169.2, 185.2, 188. , 177.6, 178.2, 177. ,\n",
              "        179. ],\n",
              "       [ 65.6,  88. ,  79.2,  69.3,  55. ,  71.2,  73. ,  68.9,  74. ,\n",
              "         82. ]])"
            ]
          },
          "metadata": {},
          "execution_count": 54
        }
      ]
    },
    {
      "cell_type": "code",
      "source": [
        "data_array = data[1]/(data[0] / 100)**2\n",
        "data_array"
      ],
      "metadata": {
        "colab": {
          "base_uri": "https://localhost:8080/"
        },
        "id": "jGN88pTYqjmx",
        "outputId": "6891154d-92a1-46b1-d633-f9ac34ea911b"
      },
      "execution_count": null,
      "outputs": [
        {
          "output_type": "execute_result",
          "data": {
            "text/plain": [
              "array([21.37153104, 27.07018468, 25.86122449, 24.20652885, 16.03543423,\n",
              "       20.14486193, 23.14392095, 21.69720651, 23.62028791, 25.59220998])"
            ]
          },
          "metadata": {},
          "execution_count": 59
        }
      ]
    },
    {
      "cell_type": "code",
      "source": [
        "bmi = []\n",
        "for i in range(10) :\n",
        "    bmi.append(data[1,0] / (data[0,i] / 100)**2)\n",
        "bmi"
      ],
      "metadata": {
        "colab": {
          "base_uri": "https://localhost:8080/"
        },
        "id": "Qrvda-JRuiW8",
        "outputId": "ac8552ea-8d6d-4ca5-90c0-9efd0e30f475"
      },
      "execution_count": null,
      "outputs": [
        {
          "output_type": "execute_result",
          "data": {
            "text/plain": [
              "[21.371531035633122,\n",
              " 20.179592218429313,\n",
              " 21.420408163265304,\n",
              " 22.914116772574598,\n",
              " 19.12589973363686,\n",
              " 18.560434585785423,\n",
              " 20.797824851878904,\n",
              " 20.658007938217445,\n",
              " 20.93906604104823,\n",
              " 20.473767984769513]"
            ]
          },
          "metadata": {},
          "execution_count": 61
        }
      ]
    },
    {
      "cell_type": "code",
      "source": [
        "bmi = [ data[1, i] / (data[0, i] / 100)**2  for i in range(10) ]\n",
        "bmi"
      ],
      "metadata": {
        "id": "4PjtxwrThRYt"
      },
      "execution_count": null,
      "outputs": []
    },
    {
      "cell_type": "code",
      "source": [
        "height = data[0] / 100\n",
        "weight = data[1]\n",
        "\n",
        "bmi = weight / height**2\n",
        "bmi"
      ],
      "metadata": {
        "id": "xhH-oyTchhVS"
      },
      "execution_count": null,
      "outputs": []
    },
    {
      "cell_type": "markdown",
      "metadata": {
        "id": "7nozJyiiQo1I"
      },
      "source": [
        "### 행렬의 정렬\n",
        "- sort() : 정렬\n",
        "- argsort() : 정렬된 행렬의 원본 행렬 원소에 대한 인덱스를 반환"
      ]
    },
    {
      "cell_type": "code",
      "metadata": {
        "id": "a-lSRMRD-lPl",
        "colab": {
          "base_uri": "https://localhost:8080/"
        },
        "outputId": "367c1070-53aa-4060-821c-7cde7d9da38d"
      },
      "source": [
        "org_array = np.array([3,1,8,5])\n",
        "sort_array = np.sort(org_array) # 원본이 바뀌지 않음\n",
        "print( org_array )\n",
        "print( sort_array )"
      ],
      "execution_count": 13,
      "outputs": [
        {
          "output_type": "stream",
          "name": "stdout",
          "text": [
            "[3 1 8 5]\n",
            "[1 3 5 8]\n"
          ]
        }
      ]
    },
    {
      "cell_type": "code",
      "source": [
        "sort_array = org_array.sort() # 원본을 바꿈"
      ],
      "metadata": {
        "id": "cOKUHFrExYAR"
      },
      "execution_count": 15,
      "outputs": []
    },
    {
      "cell_type": "code",
      "source": [
        "print( org_array)\n",
        "print( sort_array) # 원본이 바뀌어서 사라짐"
      ],
      "metadata": {
        "colab": {
          "base_uri": "https://localhost:8080/"
        },
        "id": "TfWw_31XxcE6",
        "outputId": "6123434e-3064-4071-f196-963ba39a05dc"
      },
      "execution_count": 16,
      "outputs": [
        {
          "output_type": "stream",
          "name": "stdout",
          "text": [
            "[1 3 5 8]\n",
            "None\n"
          ]
        }
      ]
    },
    {
      "cell_type": "code",
      "source": [
        "org_array[::-1] # 전부를 거꾸로 출력하기"
      ],
      "metadata": {
        "colab": {
          "base_uri": "https://localhost:8080/"
        },
        "id": "lvFZRGyOxiDI",
        "outputId": "02b578b4-2ab4-4fbb-e94c-35c9e3d4327e"
      },
      "execution_count": null,
      "outputs": [
        {
          "output_type": "execute_result",
          "data": {
            "text/plain": [
              "array([8, 5, 3, 1])"
            ]
          },
          "metadata": {},
          "execution_count": 65
        }
      ]
    },
    {
      "cell_type": "code",
      "source": [
        "# 내림차순\n",
        "org_array = np.array([3,1,8,5])\n",
        "np.sort(org_array)[::-1]"
      ],
      "metadata": {
        "colab": {
          "base_uri": "https://localhost:8080/"
        },
        "id": "opuKpvZlxlnt",
        "outputId": "013c4b95-76e9-4592-99ee-08dd7000644e"
      },
      "execution_count": null,
      "outputs": [
        {
          "output_type": "execute_result",
          "data": {
            "text/plain": [
              "array([8, 5, 3, 1])"
            ]
          },
          "metadata": {},
          "execution_count": 67
        }
      ]
    },
    {
      "cell_type": "code",
      "source": [
        "# 2차원 정렬\n",
        "array = np.array([[8,12],\n",
        "                  [7,1]])\n",
        "np.sort(array, axis =0)"
      ],
      "metadata": {
        "colab": {
          "base_uri": "https://localhost:8080/"
        },
        "id": "pWOvLSMix-15",
        "outputId": "d883ca20-4bcc-4b53-db15-bb9c5493f8ad"
      },
      "execution_count": null,
      "outputs": [
        {
          "output_type": "execute_result",
          "data": {
            "text/plain": [
              "array([[ 7,  1],\n",
              "       [ 8, 12]])"
            ]
          },
          "metadata": {},
          "execution_count": 69
        }
      ]
    },
    {
      "cell_type": "code",
      "source": [
        "np.sort(array, axis = 1)"
      ],
      "metadata": {
        "colab": {
          "base_uri": "https://localhost:8080/"
        },
        "id": "bql6pmfsymUo",
        "outputId": "e59b06c1-4821-4d44-c70a-708c876fab13"
      },
      "execution_count": null,
      "outputs": [
        {
          "output_type": "execute_result",
          "data": {
            "text/plain": [
              "array([[ 8, 12],\n",
              "       [ 1,  7]])"
            ]
          },
          "metadata": {},
          "execution_count": 70
        }
      ]
    },
    {
      "cell_type": "code",
      "source": [
        "# argsort : 원래 행렬의 값을 정렬이 된다면~ 몇번째 인덱스일꺼야!를 반환 (정렬된 행렬의 인덱스를 반환)\n",
        "org_array = np.array([3,1,8,5])\n",
        "sort_index = np.argsort( org_array )\n",
        "sort_index"
      ],
      "metadata": {
        "colab": {
          "base_uri": "https://localhost:8080/"
        },
        "id": "3h8ikMYfyqZ2",
        "outputId": "b28ba864-bc8e-4192-83ed-ef0f16180941"
      },
      "execution_count": null,
      "outputs": [
        {
          "output_type": "execute_result",
          "data": {
            "text/plain": [
              "array([1, 0, 3, 2])"
            ]
          },
          "metadata": {},
          "execution_count": 72
        }
      ]
    },
    {
      "cell_type": "code",
      "source": [
        "org_array[ sort_index ] # 정렬이 된다면~ 몇번째 인덱스 일꺼야~를 팬시인덱스처럼 넣으면 정렬된 형태로 나옴"
      ],
      "metadata": {
        "colab": {
          "base_uri": "https://localhost:8080/"
        },
        "id": "41IjjfQBzMTS",
        "outputId": "d32c27b4-f5a9-46b5-af76-5906516edd6f"
      },
      "execution_count": null,
      "outputs": [
        {
          "output_type": "execute_result",
          "data": {
            "text/plain": [
              "array([1, 3, 5, 8])"
            ]
          },
          "metadata": {},
          "execution_count": 73
        }
      ]
    },
    {
      "cell_type": "code",
      "source": [
        "# argsort 활용 - 팬시 인덱스로 적용\n",
        "names = np.array(['홍길동', '박철수', '이영희', '김영원', '변사또'])\n",
        "scores = np.array([78, 95, 84, 98, 88])\n",
        "\n",
        "sort_index_asc = np.argsort(scores)\n",
        "names[sort_index_asc][::-1]"
      ],
      "metadata": {
        "colab": {
          "base_uri": "https://localhost:8080/"
        },
        "id": "Y-MNM1K_zovk",
        "outputId": "e3981cea-fd20-48f7-c1d1-b4c449c46b84"
      },
      "execution_count": null,
      "outputs": [
        {
          "output_type": "execute_result",
          "data": {
            "text/plain": [
              "array(['김영원', '박철수', '변사또', '이영희', '홍길동'], dtype='<U3')"
            ]
          },
          "metadata": {},
          "execution_count": 75
        }
      ]
    },
    {
      "cell_type": "markdown",
      "metadata": {
        "id": "QBO6DurIejVc"
      },
      "source": [
        "### ndarray 연산\n",
        "- 일반연산 : 산술연산, 비교연산 ... -> 요소 전부에 적용됨\n",
        "- 선형대수 연산 : 행렬 내적과 전치 행렬"
      ]
    },
    {
      "cell_type": "code",
      "metadata": {
        "id": "fymYlKLH-oZA",
        "colab": {
          "base_uri": "https://localhost:8080/"
        },
        "outputId": "7fb7a1ed-4663-4eac-efd8-700dd1f97bd8"
      },
      "source": [
        "array = np.array([1,2,3])\n",
        "array + 100"
      ],
      "execution_count": null,
      "outputs": [
        {
          "output_type": "execute_result",
          "data": {
            "text/plain": [
              "array([101, 102, 103])"
            ]
          },
          "metadata": {},
          "execution_count": 76
        }
      ]
    },
    {
      "cell_type": "code",
      "source": [
        "array * 100"
      ],
      "metadata": {
        "colab": {
          "base_uri": "https://localhost:8080/"
        },
        "id": "ilbCgiXO1CFZ",
        "outputId": "2786ed2c-c9bb-4b5c-f9c1-97208ae33ce5"
      },
      "execution_count": null,
      "outputs": [
        {
          "output_type": "execute_result",
          "data": {
            "text/plain": [
              "array([100, 200, 300])"
            ]
          },
          "metadata": {},
          "execution_count": 77
        }
      ]
    },
    {
      "cell_type": "code",
      "source": [
        "# [1,2,3]  1*1, 2*2, 3*3\n",
        "array * array"
      ],
      "metadata": {
        "colab": {
          "base_uri": "https://localhost:8080/"
        },
        "id": "KcZqigE61LX9",
        "outputId": "af1bb7dd-93f8-4657-c538-0ea13b56a56a"
      },
      "execution_count": null,
      "outputs": [
        {
          "output_type": "execute_result",
          "data": {
            "text/plain": [
              "array([1, 4, 9])"
            ]
          },
          "metadata": {},
          "execution_count": 79
        }
      ]
    },
    {
      "cell_type": "code",
      "source": [
        "# 행열끼리 연산을 하면 행끼리 연산을 함\n",
        "array - array"
      ],
      "metadata": {
        "colab": {
          "base_uri": "https://localhost:8080/"
        },
        "id": "UApMedi11Vxa",
        "outputId": "a4559c89-f0d6-4993-d7b3-ae666759bb25"
      },
      "execution_count": null,
      "outputs": [
        {
          "output_type": "execute_result",
          "data": {
            "text/plain": [
              "array([0, 0, 0])"
            ]
          },
          "metadata": {},
          "execution_count": 80
        }
      ]
    },
    {
      "cell_type": "code",
      "source": [
        "array == 1"
      ],
      "metadata": {
        "colab": {
          "base_uri": "https://localhost:8080/"
        },
        "id": "yeIKgqBw1ok2",
        "outputId": "9e098faa-cb03-4564-afb0-a0de01a3878a"
      },
      "execution_count": null,
      "outputs": [
        {
          "output_type": "execute_result",
          "data": {
            "text/plain": [
              "array([ True, False, False])"
            ]
          },
          "metadata": {},
          "execution_count": 81
        }
      ]
    },
    {
      "cell_type": "code",
      "source": [
        "# 행렬과 행렬의 비교는 인덱스가 같은 것 끼리 비교함\n",
        "array == array"
      ],
      "metadata": {
        "colab": {
          "base_uri": "https://localhost:8080/"
        },
        "id": "y7_POfQF1uI2",
        "outputId": "f94426f4-e779-4378-84f2-1e8d08bceb8f"
      },
      "execution_count": null,
      "outputs": [
        {
          "output_type": "execute_result",
          "data": {
            "text/plain": [
              "array([ True,  True,  True])"
            ]
          },
          "metadata": {},
          "execution_count": 82
        }
      ]
    },
    {
      "cell_type": "code",
      "source": [
        "array > array"
      ],
      "metadata": {
        "colab": {
          "base_uri": "https://localhost:8080/"
        },
        "id": "OF5fKpz712hS",
        "outputId": "54272a4f-3086-4e2b-f88b-2e26d6834c95"
      },
      "execution_count": null,
      "outputs": [
        {
          "output_type": "execute_result",
          "data": {
            "text/plain": [
              "array([False, False, False])"
            ]
          },
          "metadata": {},
          "execution_count": 84
        }
      ]
    },
    {
      "cell_type": "code",
      "source": [
        "# array*array 요소의 합 - 1차원일 때\n",
        "np.dot(array, array)"
      ],
      "metadata": {
        "colab": {
          "base_uri": "https://localhost:8080/"
        },
        "id": "KZlcYk9j1_0N",
        "outputId": "1bb5388b-2b0a-4db9-b85e-3f31ada8ebde"
      },
      "execution_count": null,
      "outputs": [
        {
          "output_type": "execute_result",
          "data": {
            "text/plain": [
              "14"
            ]
          },
          "metadata": {},
          "execution_count": 86
        }
      ]
    },
    {
      "cell_type": "code",
      "source": [
        "a = np.arange(1,7).reshape(2,3)\n",
        "b = np.arange(7, 13).reshape(3,2)\n",
        "\n",
        "print(a)\n",
        "print()\n",
        "print(b)\n",
        "print()\n",
        "print(np.dot(a,b))"
      ],
      "metadata": {
        "colab": {
          "base_uri": "https://localhost:8080/"
        },
        "id": "XgPGRBZI2_G8",
        "outputId": "c1ec5f9b-ce5e-4ce3-e6a3-94855f5ba0c7"
      },
      "execution_count": null,
      "outputs": [
        {
          "output_type": "stream",
          "name": "stdout",
          "text": [
            "[[1 2 3]\n",
            " [4 5 6]]\n",
            "\n",
            "[[ 7  8]\n",
            " [ 9 10]\n",
            " [11 12]]\n",
            "\n",
            "[[ 58  64]\n",
            " [139 154]]\n"
          ]
        }
      ]
    },
    {
      "cell_type": "code",
      "source": [
        "# 전치 행렬 : 가로 세로를 바꿔서\n",
        "# 행과 열의 위치를 교환한 행렬\n",
        "a = np.arange(1,7).reshape(2,3)\n",
        "\n",
        "print( a )\n",
        "print()\n",
        "mat = np.transpose(a)\n",
        "print(mat) # transpose로 가로 세로 바꾼것\n",
        "a.T # T로 원래것을 가로 세로 바꾼것"
      ],
      "metadata": {
        "colab": {
          "base_uri": "https://localhost:8080/"
        },
        "id": "8qQp4ZA84aix",
        "outputId": "17789cf4-6521-44b1-d8c2-13b13a3b0d52"
      },
      "execution_count": null,
      "outputs": [
        {
          "output_type": "stream",
          "name": "stdout",
          "text": [
            "[[1 2 3]\n",
            " [4 5 6]]\n",
            "\n",
            "[[1 4]\n",
            " [2 5]\n",
            " [3 6]]\n"
          ]
        },
        {
          "output_type": "execute_result",
          "data": {
            "text/plain": [
              "array([[1, 4],\n",
              "       [2, 5],\n",
              "       [3, 6]])"
            ]
          },
          "metadata": {},
          "execution_count": 98
        }
      ]
    },
    {
      "cell_type": "markdown",
      "metadata": {
        "id": "iJ8ZGnMWaF_t"
      },
      "source": [
        "### Universal 함수\n",
        "- sin(), cos()다양한 수학함수를 제공\n",
        "- 스칼라값을 입력으로 하는 math 패키지와 달리 배열에 대해 요소별로 적용"
      ]
    },
    {
      "cell_type": "code",
      "metadata": {
        "id": "UbAo9wHL-qOO",
        "colab": {
          "base_uri": "https://localhost:8080/"
        },
        "outputId": "89c8fe81-0719-4a9e-c614-b89c52cfa241"
      },
      "source": [
        "# 합계를 구하는 방법 -> 요소 전부 더하기\n",
        "array = np.arange(1,11)\n",
        "array.sum()"
      ],
      "execution_count": null,
      "outputs": [
        {
          "output_type": "execute_result",
          "data": {
            "text/plain": [
              "55"
            ]
          },
          "metadata": {},
          "execution_count": 99
        }
      ]
    },
    {
      "cell_type": "code",
      "source": [
        "# 평균을 구하는 방법 -> 요소의 평균\n",
        "array.mean()"
      ],
      "metadata": {
        "colab": {
          "base_uri": "https://localhost:8080/"
        },
        "id": "1t3Iy8w98wuq",
        "outputId": "1587166e-2621-464e-f93f-afb2dd26f08f"
      },
      "execution_count": null,
      "outputs": [
        {
          "output_type": "execute_result",
          "data": {
            "text/plain": [
              "5.5"
            ]
          },
          "metadata": {},
          "execution_count": 100
        }
      ]
    },
    {
      "cell_type": "code",
      "source": [
        "# 표준편차 -> 요소들의 표준편차\n",
        "array.std()"
      ],
      "metadata": {
        "colab": {
          "base_uri": "https://localhost:8080/"
        },
        "id": "nOVrEAc-83n2",
        "outputId": "78b77f0d-7b8f-46e6-cfbb-c861a0868d1f"
      },
      "execution_count": null,
      "outputs": [
        {
          "output_type": "execute_result",
          "data": {
            "text/plain": [
              "2.8722813232690143"
            ]
          },
          "metadata": {},
          "execution_count": 101
        }
      ]
    },
    {
      "cell_type": "code",
      "source": [
        "# 음수를 양수로 바꾸어주는 !!\n",
        "array = np.array([-1, -2, 3, 4, -5])\n",
        "np.abs(array)"
      ],
      "metadata": {
        "colab": {
          "base_uri": "https://localhost:8080/"
        },
        "id": "HITeiQLO9FDx",
        "outputId": "4ae7e4a7-ab4a-43fd-929e-10bdea3b4503"
      },
      "execution_count": null,
      "outputs": [
        {
          "output_type": "execute_result",
          "data": {
            "text/plain": [
              "array([1, 2, 3, 4, 5])"
            ]
          },
          "metadata": {},
          "execution_count": 102
        }
      ]
    },
    {
      "cell_type": "code",
      "source": [
        "# 제곱근 -> 요소들 각각의 제곱근 구해서\n",
        "array = np.arange(5)\n",
        "np.sqrt( array )"
      ],
      "metadata": {
        "colab": {
          "base_uri": "https://localhost:8080/"
        },
        "id": "Ewn5otIb9mJY",
        "outputId": "93a791cb-8a8e-4a40-bd42-6d6230318c80"
      },
      "execution_count": null,
      "outputs": [
        {
          "output_type": "execute_result",
          "data": {
            "text/plain": [
              "array([0.        , 1.        , 1.41421356, 1.73205081, 2.        ])"
            ]
          },
          "metadata": {},
          "execution_count": 103
        }
      ]
    },
    {
      "cell_type": "markdown",
      "metadata": {
        "id": "KvMs00LYdYeH"
      },
      "source": [
        "#### Numpy 예제 04\n",
        "\n",
        "영화평점 데이터 분석"
      ]
    },
    {
      "cell_type": "code",
      "metadata": {
        "id": "vIYsPAMb-raO",
        "colab": {
          "base_uri": "https://localhost:8080/"
        },
        "outputId": "538223d9-da8b-47ce-d0b8-554c8d8b62af"
      },
      "source": [
        "data = np.loadtxt(drive_path + 'ratings_small.txt', delimiter = '::', dtype = np.int64)\n",
        "data.dtype"
      ],
      "execution_count": null,
      "outputs": [
        {
          "output_type": "execute_result",
          "data": {
            "text/plain": [
              "dtype('int64')"
            ]
          },
          "metadata": {},
          "execution_count": 11
        }
      ]
    },
    {
      "cell_type": "code",
      "source": [
        "data"
      ],
      "metadata": {
        "colab": {
          "base_uri": "https://localhost:8080/"
        },
        "id": "IiZ3hiLy_IdS",
        "outputId": "f73ff087-84ba-45eb-c770-bbf8f00ea6b4"
      },
      "execution_count": null,
      "outputs": [
        {
          "output_type": "execute_result",
          "data": {
            "text/plain": [
              "array([[        1,      1193,         5, 978300760],\n",
              "       [        1,       661,         3, 978302109],\n",
              "       [        1,       914,         3, 978301968],\n",
              "       ...,\n",
              "       [     1779,      2502,         4, 998699749],\n",
              "       [     1779,      3160,         5, 977032398],\n",
              "       [     1779,      3168,         4, 977033232]])"
            ]
          },
          "metadata": {},
          "execution_count": 107
        }
      ]
    },
    {
      "cell_type": "markdown",
      "metadata": {
        "id": "0u4drffYV294"
      },
      "source": [
        "##### 데이터 분석하기\n",
        "```\n",
        "print(data.ndim) -> 차원\n",
        "print(data.shape) -> 모양 (행, 열)\n",
        "print(data.size) -> 데이터 개수\n",
        "```"
      ]
    },
    {
      "cell_type": "code",
      "source": [
        "# 행 (평점 작성 갯수) 300001개, 열 (데이터의 종류) 4개\n",
        "# 300001 * 4 = 1200004\n",
        "print(data.ndim) \n",
        "print(data.shape)\n",
        "print(data.size) "
      ],
      "metadata": {
        "colab": {
          "base_uri": "https://localhost:8080/"
        },
        "id": "q9gr8EwH_nof",
        "outputId": "17a05075-ce00-423b-cc9b-dedc4d04e522"
      },
      "execution_count": null,
      "outputs": [
        {
          "output_type": "stream",
          "name": "stdout",
          "text": [
            "2\n",
            "(300001, 4)\n",
            "1200004\n"
          ]
        }
      ]
    },
    {
      "cell_type": "markdown",
      "metadata": {
        "id": "4555yr6wV-qB"
      },
      "source": [
        "##### 전체 평점 평균 구하기\n",
        "1. 평점 데이터만 추출 (인덱싱, 슬라이싱)\n",
        "2. 평균 구하기 (mean)"
      ]
    },
    {
      "cell_type": "code",
      "metadata": {
        "id": "bsI6QnTw-w2N",
        "colab": {
          "base_uri": "https://localhost:8080/"
        },
        "outputId": "d1fab3f4-1d4f-42b2-d0eb-c652007f0d83"
      },
      "source": [
        "# 전체 평점 평균\n",
        "print(data[:,2].mean())\n",
        "\n",
        "# 분해\n",
        "rating_all = data[:, 2]\n",
        "rating_all.mean()\n",
        "\n",
        "print(np.mean(data[:,2]))"
      ],
      "execution_count": null,
      "outputs": [
        {
          "output_type": "stream",
          "name": "stdout",
          "text": [
            "3.5613081289729034\n",
            "3.5613081289729034\n"
          ]
        }
      ]
    },
    {
      "cell_type": "markdown",
      "metadata": {
        "id": "NyWvFfFpWhXF"
      },
      "source": [
        "##### 각 사용자별 평점 평균 구하기\n",
        "1번 사용자의 평균 평점 구하기\n",
        "1. 1번 사용자의 데이터만 Boolean Indexing 추출\n",
        "2. 1번 사용자의 데이터에서 평점만 추출 (인덱싱, 슬라이싱)\n",
        "3. 평균 구하기\n",
        "\n",
        "참고\n",
        "```\n",
        "# 중복된 성분을 제외한 array를 반환\n",
        "np.unique( ndarray )\n",
        "```"
      ]
    },
    {
      "cell_type": "code",
      "metadata": {
        "id": "CFGxQIME-z_s",
        "colab": {
          "base_uri": "https://localhost:8080/"
        },
        "outputId": "c6841b40-de3b-4832-e9fb-fabed1dcaaa1"
      },
      "source": [
        "data[:, 0]\n",
        "user_id_all = np.unique(data[:, 0]) # 총 사용자에서 중복값 제거\n",
        "user_id_all.shape # 총 사용자의 수"
      ],
      "execution_count": null,
      "outputs": [
        {
          "output_type": "execute_result",
          "data": {
            "text/plain": [
              "(1779,)"
            ]
          },
          "metadata": {},
          "execution_count": 13
        }
      ]
    },
    {
      "cell_type": "code",
      "source": [
        "# 1번 사용자의 데이터만 가져오는 방법 Boolean Indexing 추출\n",
        "\n",
        "bool_index_id = data[:, 0] == 1\n",
        "user_1 = data[bool_index_id]"
      ],
      "metadata": {
        "id": "VLZIwkitBM5B"
      },
      "execution_count": null,
      "outputs": []
    },
    {
      "cell_type": "code",
      "source": [
        "# 1번 사용자의 데이터에서 평점만 추출 (인덱싱, 슬라이싱)\n",
        "# 1번 사용자의 평균 구하기\n",
        "user_1[:, 2].mean()"
      ],
      "metadata": {
        "colab": {
          "base_uri": "https://localhost:8080/"
        },
        "id": "KhkYvn9RB20O",
        "outputId": "a498b598-d245-4748-b975-7793fd3a7a99"
      },
      "execution_count": null,
      "outputs": [
        {
          "output_type": "execute_result",
          "data": {
            "text/plain": [
              "4.188679245283019"
            ]
          },
          "metadata": {},
          "execution_count": 120
        }
      ]
    },
    {
      "cell_type": "code",
      "source": [
        "# 또는 1번 사용자의 평균 구하기 (축약표현)\n",
        "data[ data[:,0] == 1 ][:,2].mean()"
      ],
      "metadata": {
        "colab": {
          "base_uri": "https://localhost:8080/"
        },
        "id": "JDv8RyGSCZSY",
        "outputId": "899b3fb0-b8f4-482e-aca0-cae31f7fa81d"
      },
      "execution_count": null,
      "outputs": [
        {
          "output_type": "execute_result",
          "data": {
            "text/plain": [
              "4.188679245283019"
            ]
          },
          "metadata": {},
          "execution_count": 121
        }
      ]
    },
    {
      "cell_type": "code",
      "source": [
        "# 각 사용자별 평점 평균\n",
        "score_mean = []\n",
        "\n",
        "for i in range(1779+1) :\n",
        "    score_mean.append([i,data[ data[:,0] == i ][:,2].mean()])\n",
        "\n",
        "score_mean"
      ],
      "metadata": {
        "id": "-MARH00cDU_4"
      },
      "execution_count": null,
      "outputs": []
    },
    {
      "cell_type": "code",
      "source": [
        "scores = [ [i,data[ data[:,0] == i ][:,2].mean()] for i in user_id_all]\n",
        "scores"
      ],
      "metadata": {
        "id": "MhNlLXnOkyUB"
      },
      "execution_count": null,
      "outputs": []
    },
    {
      "cell_type": "markdown",
      "metadata": {
        "id": "Ewew5imqcJhc"
      },
      "source": [
        "##### 각 사용자 별 평균 평점이 4점 이상인 사용자 구하기\n",
        "- 리스트는 Boolean Indexing이 안되니 배열로 변환해야 인덱싱, 슬라이싱 가능"
      ]
    },
    {
      "cell_type": "code",
      "metadata": {
        "id": "xFK75MPR-1xk",
        "colab": {
          "base_uri": "https://localhost:8080/"
        },
        "outputId": "ec9dd864-7c01-4ccf-d79e-159a247fb234"
      },
      "source": [
        "score = np.array( score_mean)\n",
        "\n",
        "boolean_index = score[:, 1] >= 4\n",
        "# print(score[ boolean_index ])\n",
        "print(score[ boolean_index ]. shape)\n"
      ],
      "execution_count": null,
      "outputs": [
        {
          "output_type": "stream",
          "name": "stdout",
          "text": [
            "(448, 2)\n"
          ]
        }
      ]
    },
    {
      "cell_type": "code",
      "source": [
        "score = np.array( score_mean )\n",
        "boolean_index = score[:, 1] >= 4\n",
        "user_rating_4 = score[ boolean_index ]\n",
        "mat = user_rating_4[:,0].astype(np.int64)\n",
        "mat.size\n",
        "\n",
        "# 같은 방법\n",
        "# score[ score[:,1] >= 4][:, 0].astype(np.int64)"
      ],
      "metadata": {
        "id": "mODjG8RjmdlY"
      },
      "execution_count": null,
      "outputs": []
    },
    {
      "cell_type": "markdown",
      "metadata": {
        "id": "5eaan4N6asRb"
      },
      "source": [
        "###### 질문\n",
        "\n",
        "평점 4점이 넘는 사용자만 구하려면,\n",
        "user_rate_avg의 결과 값을 리스트로 모은 후 ndarray 형식으로 바꾸는 방법밖에 없나요?"
      ]
    },
    {
      "cell_type": "code",
      "metadata": {
        "id": "fW8OiNDR-4c9",
        "colab": {
          "base_uri": "https://localhost:8080/",
          "height": 455
        },
        "outputId": "37beb9f1-f9ae-46a5-fe94-5f0a77875944"
      },
      "source": [
        "import pandas as pd\n",
        "\n",
        "df = pd.DataFrame(data)\n",
        "df_mean = df[ [0,2] ].groupby(0).mean()\n",
        "df_mean[df_mean[2] >= 4]"
      ],
      "execution_count": null,
      "outputs": [
        {
          "output_type": "execute_result",
          "data": {
            "text/plain": [
              "             2\n",
              "0             \n",
              "1     4.188679\n",
              "4     4.190476\n",
              "7     4.322581\n",
              "10    4.114713\n",
              "17    4.075829\n",
              "...        ...\n",
              "1744  4.064286\n",
              "1746  4.404908\n",
              "1751  4.428571\n",
              "1764  4.091354\n",
              "1771  4.333333\n",
              "\n",
              "[448 rows x 1 columns]"
            ],
            "text/html": [
              "\n",
              "  <div id=\"df-50ee1456-8b02-48c5-83d7-1df82ce835cc\">\n",
              "    <div class=\"colab-df-container\">\n",
              "      <div>\n",
              "<style scoped>\n",
              "    .dataframe tbody tr th:only-of-type {\n",
              "        vertical-align: middle;\n",
              "    }\n",
              "\n",
              "    .dataframe tbody tr th {\n",
              "        vertical-align: top;\n",
              "    }\n",
              "\n",
              "    .dataframe thead th {\n",
              "        text-align: right;\n",
              "    }\n",
              "</style>\n",
              "<table border=\"1\" class=\"dataframe\">\n",
              "  <thead>\n",
              "    <tr style=\"text-align: right;\">\n",
              "      <th></th>\n",
              "      <th>2</th>\n",
              "    </tr>\n",
              "    <tr>\n",
              "      <th>0</th>\n",
              "      <th></th>\n",
              "    </tr>\n",
              "  </thead>\n",
              "  <tbody>\n",
              "    <tr>\n",
              "      <th>1</th>\n",
              "      <td>4.188679</td>\n",
              "    </tr>\n",
              "    <tr>\n",
              "      <th>4</th>\n",
              "      <td>4.190476</td>\n",
              "    </tr>\n",
              "    <tr>\n",
              "      <th>7</th>\n",
              "      <td>4.322581</td>\n",
              "    </tr>\n",
              "    <tr>\n",
              "      <th>10</th>\n",
              "      <td>4.114713</td>\n",
              "    </tr>\n",
              "    <tr>\n",
              "      <th>17</th>\n",
              "      <td>4.075829</td>\n",
              "    </tr>\n",
              "    <tr>\n",
              "      <th>...</th>\n",
              "      <td>...</td>\n",
              "    </tr>\n",
              "    <tr>\n",
              "      <th>1744</th>\n",
              "      <td>4.064286</td>\n",
              "    </tr>\n",
              "    <tr>\n",
              "      <th>1746</th>\n",
              "      <td>4.404908</td>\n",
              "    </tr>\n",
              "    <tr>\n",
              "      <th>1751</th>\n",
              "      <td>4.428571</td>\n",
              "    </tr>\n",
              "    <tr>\n",
              "      <th>1764</th>\n",
              "      <td>4.091354</td>\n",
              "    </tr>\n",
              "    <tr>\n",
              "      <th>1771</th>\n",
              "      <td>4.333333</td>\n",
              "    </tr>\n",
              "  </tbody>\n",
              "</table>\n",
              "<p>448 rows × 1 columns</p>\n",
              "</div>\n",
              "      <button class=\"colab-df-convert\" onclick=\"convertToInteractive('df-50ee1456-8b02-48c5-83d7-1df82ce835cc')\"\n",
              "              title=\"Convert this dataframe to an interactive table.\"\n",
              "              style=\"display:none;\">\n",
              "        \n",
              "  <svg xmlns=\"http://www.w3.org/2000/svg\" height=\"24px\"viewBox=\"0 0 24 24\"\n",
              "       width=\"24px\">\n",
              "    <path d=\"M0 0h24v24H0V0z\" fill=\"none\"/>\n",
              "    <path d=\"M18.56 5.44l.94 2.06.94-2.06 2.06-.94-2.06-.94-.94-2.06-.94 2.06-2.06.94zm-11 1L8.5 8.5l.94-2.06 2.06-.94-2.06-.94L8.5 2.5l-.94 2.06-2.06.94zm10 10l.94 2.06.94-2.06 2.06-.94-2.06-.94-.94-2.06-.94 2.06-2.06.94z\"/><path d=\"M17.41 7.96l-1.37-1.37c-.4-.4-.92-.59-1.43-.59-.52 0-1.04.2-1.43.59L10.3 9.45l-7.72 7.72c-.78.78-.78 2.05 0 2.83L4 21.41c.39.39.9.59 1.41.59.51 0 1.02-.2 1.41-.59l7.78-7.78 2.81-2.81c.8-.78.8-2.07 0-2.86zM5.41 20L4 18.59l7.72-7.72 1.47 1.35L5.41 20z\"/>\n",
              "  </svg>\n",
              "      </button>\n",
              "      \n",
              "  <style>\n",
              "    .colab-df-container {\n",
              "      display:flex;\n",
              "      flex-wrap:wrap;\n",
              "      gap: 12px;\n",
              "    }\n",
              "\n",
              "    .colab-df-convert {\n",
              "      background-color: #E8F0FE;\n",
              "      border: none;\n",
              "      border-radius: 50%;\n",
              "      cursor: pointer;\n",
              "      display: none;\n",
              "      fill: #1967D2;\n",
              "      height: 32px;\n",
              "      padding: 0 0 0 0;\n",
              "      width: 32px;\n",
              "    }\n",
              "\n",
              "    .colab-df-convert:hover {\n",
              "      background-color: #E2EBFA;\n",
              "      box-shadow: 0px 1px 2px rgba(60, 64, 67, 0.3), 0px 1px 3px 1px rgba(60, 64, 67, 0.15);\n",
              "      fill: #174EA6;\n",
              "    }\n",
              "\n",
              "    [theme=dark] .colab-df-convert {\n",
              "      background-color: #3B4455;\n",
              "      fill: #D2E3FC;\n",
              "    }\n",
              "\n",
              "    [theme=dark] .colab-df-convert:hover {\n",
              "      background-color: #434B5C;\n",
              "      box-shadow: 0px 1px 3px 1px rgba(0, 0, 0, 0.15);\n",
              "      filter: drop-shadow(0px 1px 2px rgba(0, 0, 0, 0.3));\n",
              "      fill: #FFFFFF;\n",
              "    }\n",
              "  </style>\n",
              "\n",
              "      <script>\n",
              "        const buttonEl =\n",
              "          document.querySelector('#df-50ee1456-8b02-48c5-83d7-1df82ce835cc button.colab-df-convert');\n",
              "        buttonEl.style.display =\n",
              "          google.colab.kernel.accessAllowed ? 'block' : 'none';\n",
              "\n",
              "        async function convertToInteractive(key) {\n",
              "          const element = document.querySelector('#df-50ee1456-8b02-48c5-83d7-1df82ce835cc');\n",
              "          const dataTable =\n",
              "            await google.colab.kernel.invokeFunction('convertToInteractive',\n",
              "                                                     [key], {});\n",
              "          if (!dataTable) return;\n",
              "\n",
              "          const docLinkHtml = 'Like what you see? Visit the ' +\n",
              "            '<a target=\"_blank\" href=https://colab.research.google.com/notebooks/data_table.ipynb>data table notebook</a>'\n",
              "            + ' to learn more about interactive tables.';\n",
              "          element.innerHTML = '';\n",
              "          dataTable['output_type'] = 'display_data';\n",
              "          await google.colab.output.renderOutput(dataTable, element);\n",
              "          const docLink = document.createElement('div');\n",
              "          docLink.innerHTML = docLinkHtml;\n",
              "          element.appendChild(docLink);\n",
              "        }\n",
              "      </script>\n",
              "    </div>\n",
              "  </div>\n",
              "  "
            ]
          },
          "metadata": {},
          "execution_count": 26
        }
      ]
    },
    {
      "cell_type": "markdown",
      "metadata": {
        "id": "JGFR9J-ZeGfH"
      },
      "source": [
        "##### CSV 파일로 저장\n",
        "- np.savetxt() 이용"
      ]
    },
    {
      "cell_type": "code",
      "metadata": {
        "id": "-DTvy_Mo-5a2"
      },
      "source": [
        "# 저장위치+파일이름, 저장할 데이터, drlimiter(구분자) = \"\", fmt(포매팅)\n",
        "np.savetxt(drive_path + 'user_id_mean.csv', \n",
        "           score_mean, delimiter=', ', fmt='%.3f')"
      ],
      "execution_count": null,
      "outputs": []
    },
    {
      "cell_type": "markdown",
      "metadata": {
        "id": "h2jB8C-SaUSt"
      },
      "source": [
        "## Numpy 요약"
      ]
    },
    {
      "cell_type": "code",
      "metadata": {
        "id": "shHIpx0va9hq"
      },
      "source": [
        "import numpy as np"
      ],
      "execution_count": null,
      "outputs": []
    },
    {
      "cell_type": "code",
      "metadata": {
        "id": "onmh2IdB_B8U",
        "colab": {
          "base_uri": "https://localhost:8080/"
        },
        "outputId": "c7252a53-d007-457e-98d8-8293e79e70e9"
      },
      "source": [
        "# 리스트 * 3 을 하면 3번 반복이지만\n",
        "ll = [1, 2, 10]\n",
        "print (ll * 3)\n",
        "\n",
        "# 각 요소에 3씩 곱해짐\n",
        "arr = np.array( ll )\n",
        "print(arr * 3) "
      ],
      "execution_count": null,
      "outputs": [
        {
          "output_type": "stream",
          "name": "stdout",
          "text": [
            "[1, 2, 10, 1, 2, 10, 1, 2, 10]\n",
            "[ 3  6 30]\n"
          ]
        }
      ]
    },
    {
      "cell_type": "code",
      "source": [
        "x = np.array( [[8,4,11,5],\n",
        "              [2,10,7,3],\n",
        "              [9,12,1,6]] )\n",
        "\n",
        "print(x)\n",
        "print()\n",
        "x.sort() # 기본 촉 값이 1 (행기준)\n",
        "print(x)"
      ],
      "metadata": {
        "colab": {
          "base_uri": "https://localhost:8080/"
        },
        "id": "I1upuCeQsibC",
        "outputId": "02cc0bda-5366-4471-bda0-18f43737db61"
      },
      "execution_count": null,
      "outputs": [
        {
          "output_type": "stream",
          "name": "stdout",
          "text": [
            "[[ 8  4 11  5]\n",
            " [ 2 10  7  3]\n",
            " [ 9 12  1  6]]\n",
            "\n",
            "[[ 4  5  8 11]\n",
            " [ 2  3  7 10]\n",
            " [ 1  6  9 12]]\n"
          ]
        }
      ]
    },
    {
      "cell_type": "code",
      "source": [
        "x = np.array( [[8,4,11,5],\n",
        "              [2,10,7,3],\n",
        "              [9,12,1,6]] )\n",
        "\n",
        "print(x)\n",
        "print()\n",
        "x.sort(0) # 축을 0으로 바꿈 (열기준)\n",
        "print(x)"
      ],
      "metadata": {
        "colab": {
          "base_uri": "https://localhost:8080/"
        },
        "id": "HQAwTTXmtVHt",
        "outputId": "0931b374-3377-4a7e-a130-971394c59fa6"
      },
      "execution_count": null,
      "outputs": [
        {
          "output_type": "stream",
          "name": "stdout",
          "text": [
            "[[ 8  4 11  5]\n",
            " [ 2 10  7  3]\n",
            " [ 9 12  1  6]]\n",
            "\n",
            "[[ 2  4  1  3]\n",
            " [ 8 10  7  5]\n",
            " [ 9 12 11  6]]\n"
          ]
        }
      ]
    },
    {
      "cell_type": "code",
      "source": [
        "# 순서를 랜덤으로 배꾸는 방법\n",
        "x = np.arange(10)\n",
        "print(x)\n",
        "z = np.random.permutation(x)\n",
        "print(z)"
      ],
      "metadata": {
        "colab": {
          "base_uri": "https://localhost:8080/"
        },
        "id": "vLeRgLIGtgwf",
        "outputId": "1aded7f3-0ebf-4090-a1db-b6207a20ab83"
      },
      "execution_count": null,
      "outputs": [
        {
          "output_type": "stream",
          "name": "stdout",
          "text": [
            "[0 1 2 3 4 5 6 7 8 9]\n",
            "[6 0 1 9 3 5 4 2 7 8]\n"
          ]
        }
      ]
    },
    {
      "cell_type": "markdown",
      "source": [
        "### 배열의 차원 확장\n",
        "\n",
        "array 1차원을 -> array 2차원으로 확장"
      ],
      "metadata": {
        "id": "pkLbhRt3upUd"
      }
    },
    {
      "cell_type": "code",
      "source": [
        "x = np.arange(10)\n",
        "print(x)\n",
        "\n",
        "# 배열 확장 extand\n",
        "# 열로 확장 (세로)\n",
        "arr1 = np.expand_dims(x, 1)\n",
        "print( arr1.shape )\n",
        "print( arr1 )\n",
        "\n",
        "# 행으로 확장 (가로)\n",
        "arr2 = np.expand_dims(x, 0)\n",
        "print( arr2.shape )\n",
        "print( arr2 )"
      ],
      "metadata": {
        "colab": {
          "base_uri": "https://localhost:8080/"
        },
        "id": "GLLstzUouxiB",
        "outputId": "f60c9087-a9d9-4d71-9c31-1cc535783f76"
      },
      "execution_count": null,
      "outputs": [
        {
          "output_type": "stream",
          "name": "stdout",
          "text": [
            "[0 1 2 3 4 5 6 7 8 9]\n",
            "(10, 1)\n",
            "[[0]\n",
            " [1]\n",
            " [2]\n",
            " [3]\n",
            " [4]\n",
            " [5]\n",
            " [6]\n",
            " [7]\n",
            " [8]\n",
            " [9]]\n",
            "(1, 10)\n",
            "[[0 1 2 3 4 5 6 7 8 9]]\n"
          ]
        }
      ]
    },
    {
      "cell_type": "code",
      "source": [
        "arr3 = np.expand_dims(x, axis = (0,1)) # tuple을 축으로 사용할 수 있다.\n",
        "arr3.shape"
      ],
      "metadata": {
        "colab": {
          "base_uri": "https://localhost:8080/"
        },
        "id": "yAiEHjn4wVtX",
        "outputId": "d0a48eca-fa5e-4142-82ef-7d63ed30eaea"
      },
      "execution_count": null,
      "outputs": [
        {
          "output_type": "execute_result",
          "data": {
            "text/plain": [
              "(1, 1, 10)"
            ]
          },
          "metadata": {},
          "execution_count": 46
        }
      ]
    },
    {
      "cell_type": "code",
      "source": [
        "print(arr)\n",
        "arr[:, np.newaxis]"
      ],
      "metadata": {
        "colab": {
          "base_uri": "https://localhost:8080/"
        },
        "id": "l1TUzVZgxNJ9",
        "outputId": "2e4dcbe4-7beb-499d-c94d-958ed8a6e11b"
      },
      "execution_count": null,
      "outputs": [
        {
          "output_type": "stream",
          "name": "stdout",
          "text": [
            "[[[0 1 2 3 4 5 6 7 8 9]]]\n"
          ]
        },
        {
          "output_type": "execute_result",
          "data": {
            "text/plain": [
              "array([[[[0, 1, 2, 3, 4, 5, 6, 7, 8, 9]]]])"
            ]
          },
          "metadata": {},
          "execution_count": 49
        }
      ]
    },
    {
      "cell_type": "markdown",
      "source": [
        "기존 데이터에서 배열 생성"
      ],
      "metadata": {
        "id": "OR0dKYarxWsh"
      }
    },
    {
      "cell_type": "code",
      "source": [
        "# np.vstack(), np.hstack(), np.vsplit(). np.hsplit()\n",
        "arr1 = np.arange(1,5).reshape(2,2)\n",
        "arr2 = np.arange(5,9).reshape(2,2)\n",
        "\n",
        "print(arr1)\n",
        "print()\n",
        "print(arr2)\n",
        "print()\n",
        "\n",
        "# np.vstack(), np.hstack()\n",
        "print( np.hstack( (arr1, arr2) ) ) # 가로\n",
        "print()\n",
        "print( np.vstack( (arr1, arr2) ) ) # 세로\n",
        "print()\n",
        "\n",
        "# np.vsplit(), np.hsplit\n",
        "print( np.vsplit( arr1, 2 ))\n",
        "print()\n",
        "print( np.hsplit( arr1, 2 ))\n",
        "print()"
      ],
      "metadata": {
        "colab": {
          "base_uri": "https://localhost:8080/"
        },
        "id": "RxGgQXnSxcDH",
        "outputId": "6cdc6eea-1160-4d8d-88d2-d44b54db8a87"
      },
      "execution_count": null,
      "outputs": [
        {
          "output_type": "stream",
          "name": "stdout",
          "text": [
            "[[1 2]\n",
            " [3 4]]\n",
            "\n",
            "[[5 6]\n",
            " [7 8]]\n",
            "\n",
            "[[1 2 5 6]\n",
            " [3 4 7 8]]\n",
            "\n",
            "[[1 2]\n",
            " [3 4]\n",
            " [5 6]\n",
            " [7 8]]\n",
            "\n",
            "[array([[1, 2]]), array([[3, 4]])]\n",
            "\n",
            "[array([[1],\n",
            "       [3]]), array([[2],\n",
            "       [4]])]\n",
            "\n"
          ]
        }
      ]
    },
    {
      "cell_type": "code",
      "source": [
        "# 깊은 복사\n",
        "arr3 = arr1.copy()\n",
        "arr3"
      ],
      "metadata": {
        "colab": {
          "base_uri": "https://localhost:8080/"
        },
        "id": "pKNMvOgxzfqb",
        "outputId": "7bdb8885-c45f-42c9-d960-11e569cdd116"
      },
      "execution_count": null,
      "outputs": [
        {
          "output_type": "execute_result",
          "data": {
            "text/plain": [
              "array([[1, 2],\n",
              "       [3, 4]])"
            ]
          },
          "metadata": {},
          "execution_count": 59
        }
      ]
    }
  ]
}