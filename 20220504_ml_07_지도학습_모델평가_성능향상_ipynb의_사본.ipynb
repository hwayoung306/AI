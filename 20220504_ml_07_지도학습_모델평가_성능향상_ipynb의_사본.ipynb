{
  "nbformat": 4,
  "nbformat_minor": 0,
  "metadata": {
    "colab": {
      "name": "20220504_ml_07_지도학습_모델평가_성능향상.ipynb의 사본",
      "provenance": [],
      "collapsed_sections": [],
      "include_colab_link": true
    },
    "kernelspec": {
      "name": "python3",
      "display_name": "Python 3"
    }
  },
  "cells": [
    {
      "cell_type": "markdown",
      "metadata": {
        "id": "view-in-github",
        "colab_type": "text"
      },
      "source": [
        "<a href=\"https://colab.research.google.com/github/hwayoung306/AI/blob/main/20220504_ml_07_%EC%A7%80%EB%8F%84%ED%95%99%EC%8A%B5_%EB%AA%A8%EB%8D%B8%ED%8F%89%EA%B0%80_%EC%84%B1%EB%8A%A5%ED%96%A5%EC%83%81_ipynb%EC%9D%98_%EC%82%AC%EB%B3%B8.ipynb\" target=\"_parent\"><img src=\"https://colab.research.google.com/assets/colab-badge.svg\" alt=\"Open In Colab\"/></a>"
      ]
    },
    {
      "cell_type": "code",
      "metadata": {
        "id": "zKw2mtVdVeZs",
        "colab": {
          "base_uri": "https://localhost:8080/"
        },
        "outputId": "70aa7ac9-0e77-4543-8adb-00d9af17cadc"
      },
      "source": [
        "!pip install mglearn"
      ],
      "execution_count": 1,
      "outputs": [
        {
          "output_type": "stream",
          "name": "stdout",
          "text": [
            "Collecting mglearn\n",
            "  Downloading mglearn-0.1.9.tar.gz (540 kB)\n",
            "\u001b[?25l\r\u001b[K     |▋                               | 10 kB 19.6 MB/s eta 0:00:01\r\u001b[K     |█▏                              | 20 kB 24.9 MB/s eta 0:00:01\r\u001b[K     |█▉                              | 30 kB 29.4 MB/s eta 0:00:01\r\u001b[K     |██▍                             | 40 kB 20.4 MB/s eta 0:00:01\r\u001b[K     |███                             | 51 kB 16.5 MB/s eta 0:00:01\r\u001b[K     |███▋                            | 61 kB 18.5 MB/s eta 0:00:01\r\u001b[K     |████▎                           | 71 kB 18.9 MB/s eta 0:00:01\r\u001b[K     |████▉                           | 81 kB 20.0 MB/s eta 0:00:01\r\u001b[K     |█████▌                          | 92 kB 21.4 MB/s eta 0:00:01\r\u001b[K     |██████                          | 102 kB 19.2 MB/s eta 0:00:01\r\u001b[K     |██████▊                         | 112 kB 19.2 MB/s eta 0:00:01\r\u001b[K     |███████▎                        | 122 kB 19.2 MB/s eta 0:00:01\r\u001b[K     |███████▉                        | 133 kB 19.2 MB/s eta 0:00:01\r\u001b[K     |████████▌                       | 143 kB 19.2 MB/s eta 0:00:01\r\u001b[K     |█████████                       | 153 kB 19.2 MB/s eta 0:00:01\r\u001b[K     |█████████▊                      | 163 kB 19.2 MB/s eta 0:00:01\r\u001b[K     |██████████▎                     | 174 kB 19.2 MB/s eta 0:00:01\r\u001b[K     |███████████                     | 184 kB 19.2 MB/s eta 0:00:01\r\u001b[K     |███████████▌                    | 194 kB 19.2 MB/s eta 0:00:01\r\u001b[K     |████████████▏                   | 204 kB 19.2 MB/s eta 0:00:01\r\u001b[K     |████████████▊                   | 215 kB 19.2 MB/s eta 0:00:01\r\u001b[K     |█████████████▍                  | 225 kB 19.2 MB/s eta 0:00:01\r\u001b[K     |██████████████                  | 235 kB 19.2 MB/s eta 0:00:01\r\u001b[K     |██████████████▋                 | 245 kB 19.2 MB/s eta 0:00:01\r\u001b[K     |███████████████▏                | 256 kB 19.2 MB/s eta 0:00:01\r\u001b[K     |███████████████▊                | 266 kB 19.2 MB/s eta 0:00:01\r\u001b[K     |████████████████▍               | 276 kB 19.2 MB/s eta 0:00:01\r\u001b[K     |█████████████████               | 286 kB 19.2 MB/s eta 0:00:01\r\u001b[K     |█████████████████▋              | 296 kB 19.2 MB/s eta 0:00:01\r\u001b[K     |██████████████████▏             | 307 kB 19.2 MB/s eta 0:00:01\r\u001b[K     |██████████████████▉             | 317 kB 19.2 MB/s eta 0:00:01\r\u001b[K     |███████████████████▍            | 327 kB 19.2 MB/s eta 0:00:01\r\u001b[K     |████████████████████            | 337 kB 19.2 MB/s eta 0:00:01\r\u001b[K     |████████████████████▋           | 348 kB 19.2 MB/s eta 0:00:01\r\u001b[K     |█████████████████████▎          | 358 kB 19.2 MB/s eta 0:00:01\r\u001b[K     |█████████████████████▉          | 368 kB 19.2 MB/s eta 0:00:01\r\u001b[K     |██████████████████████▌         | 378 kB 19.2 MB/s eta 0:00:01\r\u001b[K     |███████████████████████         | 389 kB 19.2 MB/s eta 0:00:01\r\u001b[K     |███████████████████████▋        | 399 kB 19.2 MB/s eta 0:00:01\r\u001b[K     |████████████████████████▎       | 409 kB 19.2 MB/s eta 0:00:01\r\u001b[K     |████████████████████████▉       | 419 kB 19.2 MB/s eta 0:00:01\r\u001b[K     |█████████████████████████▌      | 430 kB 19.2 MB/s eta 0:00:01\r\u001b[K     |██████████████████████████      | 440 kB 19.2 MB/s eta 0:00:01\r\u001b[K     |██████████████████████████▊     | 450 kB 19.2 MB/s eta 0:00:01\r\u001b[K     |███████████████████████████▎    | 460 kB 19.2 MB/s eta 0:00:01\r\u001b[K     |████████████████████████████    | 471 kB 19.2 MB/s eta 0:00:01\r\u001b[K     |████████████████████████████▌   | 481 kB 19.2 MB/s eta 0:00:01\r\u001b[K     |█████████████████████████████▏  | 491 kB 19.2 MB/s eta 0:00:01\r\u001b[K     |█████████████████████████████▊  | 501 kB 19.2 MB/s eta 0:00:01\r\u001b[K     |██████████████████████████████▍ | 512 kB 19.2 MB/s eta 0:00:01\r\u001b[K     |███████████████████████████████ | 522 kB 19.2 MB/s eta 0:00:01\r\u001b[K     |███████████████████████████████▌| 532 kB 19.2 MB/s eta 0:00:01\r\u001b[K     |████████████████████████████████| 540 kB 19.2 MB/s \n",
            "\u001b[?25hRequirement already satisfied: numpy in /usr/local/lib/python3.7/dist-packages (from mglearn) (1.21.6)\n",
            "Requirement already satisfied: matplotlib in /usr/local/lib/python3.7/dist-packages (from mglearn) (3.2.2)\n",
            "Requirement already satisfied: scikit-learn in /usr/local/lib/python3.7/dist-packages (from mglearn) (1.0.2)\n",
            "Requirement already satisfied: pandas in /usr/local/lib/python3.7/dist-packages (from mglearn) (1.3.5)\n",
            "Requirement already satisfied: pillow in /usr/local/lib/python3.7/dist-packages (from mglearn) (7.1.2)\n",
            "Requirement already satisfied: cycler in /usr/local/lib/python3.7/dist-packages (from mglearn) (0.11.0)\n",
            "Requirement already satisfied: imageio in /usr/local/lib/python3.7/dist-packages (from mglearn) (2.4.1)\n",
            "Requirement already satisfied: joblib in /usr/local/lib/python3.7/dist-packages (from mglearn) (1.1.0)\n",
            "Requirement already satisfied: kiwisolver>=1.0.1 in /usr/local/lib/python3.7/dist-packages (from matplotlib->mglearn) (1.4.2)\n",
            "Requirement already satisfied: python-dateutil>=2.1 in /usr/local/lib/python3.7/dist-packages (from matplotlib->mglearn) (2.8.2)\n",
            "Requirement already satisfied: pyparsing!=2.0.4,!=2.1.2,!=2.1.6,>=2.0.1 in /usr/local/lib/python3.7/dist-packages (from matplotlib->mglearn) (3.0.8)\n",
            "Requirement already satisfied: typing-extensions in /usr/local/lib/python3.7/dist-packages (from kiwisolver>=1.0.1->matplotlib->mglearn) (4.2.0)\n",
            "Requirement already satisfied: six>=1.5 in /usr/local/lib/python3.7/dist-packages (from python-dateutil>=2.1->matplotlib->mglearn) (1.15.0)\n",
            "Requirement already satisfied: pytz>=2017.3 in /usr/local/lib/python3.7/dist-packages (from pandas->mglearn) (2022.1)\n",
            "Requirement already satisfied: threadpoolctl>=2.0.0 in /usr/local/lib/python3.7/dist-packages (from scikit-learn->mglearn) (3.1.0)\n",
            "Requirement already satisfied: scipy>=1.1.0 in /usr/local/lib/python3.7/dist-packages (from scikit-learn->mglearn) (1.4.1)\n",
            "Building wheels for collected packages: mglearn\n",
            "  Building wheel for mglearn (setup.py) ... \u001b[?25l\u001b[?25hdone\n",
            "  Created wheel for mglearn: filename=mglearn-0.1.9-py2.py3-none-any.whl size=582639 sha256=d333988999c90d5e071bdc4321f073d558fff299f4d8b907e968b085e00beb55\n",
            "  Stored in directory: /root/.cache/pip/wheels/f1/17/e1/1720d6dcd70187b6b6c3750cb3508798f2b1d57c9d3214b08b\n",
            "Successfully built mglearn\n",
            "Installing collected packages: mglearn\n",
            "Successfully installed mglearn-0.1.9\n"
          ]
        }
      ]
    },
    {
      "cell_type": "code",
      "metadata": {
        "id": "h2tOMNexVWbP"
      },
      "source": [
        "# 경고메시지 무시\n",
        "import warnings\n",
        "warnings.filterwarnings(\"ignore\")"
      ],
      "execution_count": 2,
      "outputs": []
    },
    {
      "cell_type": "markdown",
      "metadata": {
        "id": "g19tsMWUNpCx"
      },
      "source": [
        "### 구글드라이브 연동"
      ]
    },
    {
      "cell_type": "code",
      "metadata": {
        "id": "Ijyjm-4FNqNx",
        "colab": {
          "base_uri": "https://localhost:8080/"
        },
        "outputId": "3d41755d-838e-4e80-d6ea-a79410f47a6f"
      },
      "source": [
        "# 구글드라이브 연동\n",
        "from google.colab import drive\n",
        "drive.mount('/gdrive', force_remount=True)\n",
        "\n",
        "# 구글 드라이브 파일 확인\n",
        "!ls '/gdrive/My Drive/temp/'\n",
        "\n",
        "# 반복되는 드라이브 경로 변수화\n",
        "drive_path = '/gdrive/My Drive/temp/'"
      ],
      "execution_count": 3,
      "outputs": [
        {
          "output_type": "stream",
          "name": "stdout",
          "text": [
            "Mounted at /gdrive\n",
            " 매수종목1.txt\t\t\t        sample.docx\n",
            "'2. 영화평점, 날짜별 영화평점 시각화'   sample_merge.pdf\n",
            " 매수종목2.txt\t\t\t        sample.xlsx\n",
            " auto-mpg.csv\t\t\t        score.csv\n",
            " bmi_500.csv\t\t\t        seoul.html\n",
            " 매수종목.csv\t\t\t       'stock price (1).xlsx'\n",
            " data_studentlist_en.csv\t       'stock price.xlsx'\n",
            "'demo (1).docx'\t\t\t        stock_px.csv\n",
            " demo.docx\t\t\t       'stock valuation.xlsx'\n",
            " example.docx\t\t\t        test.db.db\n",
            " heart_disease.csv\t\t        test.txt\n",
            " height_weight.txt\t\t        Titanic배포용\n",
            " hello_world.xlsx\t\t        titanic_test.csv\n",
            " HelloWorld.xlsx\t\t        titanic_train.csv\n",
            "'little-char (1).png'\t\t        titanic.xls\n",
            " little-char.png\t\t        titanic.xlsx\n",
            " population_number.csv\t\t        Traffic_Accident_2017.csv\n",
            " ram_price.csv\t\t\t        train.csv\n",
            " ratings_small.txt\t\t        user_id_mean.csv\n",
            "'sample1 (1).pdf'\t\t        wine.csv\n",
            " sample1.pdf\t\t\t        주가데이터.xlsx\n",
            "'sample (1).xlsx'\t\t        남북한발전전력량.xlsx\n",
            " sample2.pdf\n"
          ]
        }
      ]
    },
    {
      "cell_type": "markdown",
      "metadata": {
        "id": "6mKrVfIB3ZVe"
      },
      "source": [
        "## 학습목표\n",
        "\n",
        "머신러닝 모델의 성능을 평가하고, 올바른 매개변수를 선택하는 방법을 이해한다."
      ]
    },
    {
      "cell_type": "markdown",
      "metadata": {
        "id": "YFmluV8FL6Mu"
      },
      "source": [
        "1. 모델의 일반화 성능을 평가(측정)하는 법\n",
        "\n",
        "- 교차 검증 : 안정적인 일반화 성능 측정 방법\n",
        "\n",
        "- 평가 지표\n",
        " - 이진/다중 분류의 평가 지표\n",
        " > 정확도, 오차 행렬, 분류 리포트,  <br>\n",
        " > 정밀도, 재현율, f1_score, 정밀도-재현율 곡선(ROC), AUC\n",
        "\n",
        " - 회귀의 평가 지표\n",
        " > \\\\( R^2 \\\\) , 평균제곱오차, 평균절대값오차\n"
      ]
    },
    {
      "cell_type": "markdown",
      "metadata": {
        "id": "41MMOpDSTq7t"
      },
      "source": [
        "2. 매개변수를 튜닝하여 일반화 성능을 개선\n",
        "\n",
        "- 그리드 서치(grid search) : 관심 있는 매개변수들을 대상으로 가능한 모든 조합을 시도\n",
        "- 매개변수를 조정하기 전에 그 매개변수의 의미를 이해하는 것이 중요"
      ]
    },
    {
      "cell_type": "markdown",
      "metadata": {
        "id": "mCwh81V8QfZ5"
      },
      "source": [
        "## 학습/테스트 데이터 세트 분리\n",
        "\n",
        "- 테스트 데이터 세트를 이용하지 않고 학습 데이터 세트로만 학습하고 예측하면 예측 정확도 100% 가 됨\n",
        "= 학습을 위한 데이터의 양을 일정 수준 이상으로 보장하는 것이 중요\n",
        "- 학습된 모델에 대해 다양한 데이터를 기반으로 예측 성능을 평가해 보는 것도 매우 중요"
      ]
    },
    {
      "cell_type": "markdown",
      "metadata": {
        "id": "Hgtf_aQXwQX8"
      },
      "source": [
        "[train_test_split()](https://scikit-learn.org/stable/modules/generated/sklearn.model_selection.train_test_split.html)\n",
        "```\n",
        "train_test_split(arrays, test_size, train_size, random_state, shuffle, stratify)\n",
        "```\n",
        "Parameter\n",
        "\n",
        "- arrays : 분할시킬 데이터를 입력 (Python list, Numpy array, Pandas dataframe 등..)\n",
        "\n",
        "- test_size : 테스트 데이터셋의 비율(float)이나 갯수(int) (default = 0.25) <br>\n",
        "(전체 데이터에서 테스트 데이터 세트 크기를 얼마로 샘플링할 것인가를 결정)\n",
        "\n",
        "- train_size : 학습 데이터셋의 비율(float)이나 갯수(int) (default = test_size의 나머지) <br>\n",
        "(test_size 를 통상적으로 사용하기 때문에 잘 사용되지 않음)\n",
        "\n",
        "- random_state : 데이터 분할시 셔플이 이루어지는데 이를 위한 시드값 (int나 RandomState로 입력) <br>\n",
        "(호출할 때마다 동일한 학습/테스트용 데이터 세트를 생성하기 위해 주어지는 난수 값. 지정하지 않으면 호출 시 무작위로 데이터를 분리하므로 수행할 때마다 다른 학습/테스트용 데이터를 생성)\n",
        "\n",
        "- shuffle : 셔플여부설정 (default = True) <br>\n",
        "(데이터를 분리하기 전에 미리 섞을지를 결정. 데이터를 분산시켜서 좀 더 효율적인 학습 및 테스트 데이터 세트를 만드는 데 사용)\n",
        "\n",
        "- stratify : 지정한 Data의 비율을 유지한다. 예를 들어, Label Set인 Y가 25%의 0과 75%의 1로 이루어진 Binary Set일 때, stratify=Y로 설정하면 나누어진 데이터셋들도 0과 1을 각각 25%, 75%로 유지한 채 분할된다.\n",
        "\n",
        "Return\n",
        "\n",
        "- X_train, X_test, y_train, y_test : arrays에 데이터와 레이블을 둘 다 넣었을 경우의 반환이며, 데이터와 레이블의 순서쌍은 유지된다.\n",
        "- X_train, X_test : arrays에 레이블(y) 없이 데이터만 넣었을 경우의 반환\n"
      ]
    },
    {
      "cell_type": "markdown",
      "metadata": {
        "id": "Da3ujSlIV20l"
      },
      "source": [
        "# 교차 검증 (Cross Validation)\n",
        "\n",
        "- 교차검증 : 일반화 성능 향상을 위해 훈련 세트와 테스트 세트로 한 번 나누는 것보다 더 안정적이고 뛰어난 평가 방법\n",
        " - 데이터 편중을 막기 위함\n",
        " - 별도의 여러 세트로 구성된 학습 데이터 세트와 검증 데이터 세트에서 학습과 평가를 수행\n",
        "\n",
        "- k-겹 교차검증 : 데이터를 폴드(fold)라는 거의 비슷한 크기의 부분집합을 k개로 분리하고 각 부분집합의 정확도를 측정\n",
        "\n",
        "- scikit-learn에서 교차 검증은 model_selection 모듈의 cross_val_score 함수로 구현\n"
      ]
    },
    {
      "cell_type": "markdown",
      "metadata": {
        "id": "BakyK-bGeOf4"
      },
      "source": [
        "[cross_val_score()](https://scikit-learn.org/stable/modules/generated/sklearn.model_selection.cross_val_score.html)\n",
        "\n",
        "```\n",
        "cross_val_score(estimator, X, y=None, *, groups=None, scoring=None, cv=None, n_jobs=None, verbose=0, fit_params=None, pre_dispatch='2*n_jobs', error_score=nan)\n",
        "```\n",
        "Parameter\n",
        "\n",
        "- estimator : 평가하려는 모델\n",
        "- X : 훈련 데이터\n",
        "- y : 타깃 레이블\n",
        "- cv : 교차 검증 분할 수(k)\n",
        "\n",
        "Return\n",
        "- 교차 검증 결과 정확도 점수의 배열"
      ]
    },
    {
      "cell_type": "code",
      "metadata": {
        "id": "HrPZVQh_VvqM",
        "colab": {
          "base_uri": "https://localhost:8080/",
          "height": 187
        },
        "outputId": "a5af5ae7-ccc4-43a8-fb3f-e8f266582962"
      },
      "source": [
        "import mglearn\n",
        "# 5-겹 교차 검증에서의 데이터 분할\n",
        "mglearn.plots.plot_cross_validation()"
      ],
      "execution_count": 4,
      "outputs": [
        {
          "output_type": "display_data",
          "data": {
            "text/plain": [
              "<Figure size 864x144 with 1 Axes>"
            ],
            "image/png": "[encoded data removed]"
          },
          "metadata": {
            "needs_background": "light"
          }
        }
      ]
    },
    {
      "cell_type": "code",
      "metadata": {
        "id": "meftj5V8Wpx6",
        "colab": {
          "base_uri": "https://localhost:8080/"
        },
        "outputId": "eca78da7-e68e-4087-9052-c87f7106aa74"
      },
      "source": [
        "# 교차 검증을 간편하게\n",
        "from sklearn.model_selection import cross_val_score\n",
        "from sklearn.datasets import load_iris\n",
        "from sklearn.linear_model import LogisticRegression\n",
        "from sklearn.tree import DecisionTreeClassifier\n",
        "\n",
        "iris = load_iris()\n",
        "X = iris.data\n",
        "y = iris.target\n",
        "\n",
        "model_lr = LogisticRegression()\n",
        "model_tree = DecisionTreeClassifier(random_state=0)\n",
        "\n",
        "scores = cross_val_score(model_lr, X, y, cv =5)\n",
        "print( 'lr : ', scores, scores.mean() )\n",
        "\n",
        "scores = cross_val_score(model_tree, X, y, cv =5)\n",
        "print( 'tree : ', scores, scores.mean() )"
      ],
      "execution_count": 5,
      "outputs": [
        {
          "output_type": "stream",
          "name": "stdout",
          "text": [
            "lr :  [0.96666667 1.         0.93333333 0.96666667 1.        ] 0.9733333333333334\n",
            "tree :  [0.96666667 0.96666667 0.9        0.96666667 1.        ] 0.9600000000000002\n"
          ]
        }
      ]
    },
    {
      "cell_type": "markdown",
      "metadata": {
        "id": "0_xf0QxKXVJq"
      },
      "source": [
        "- cross_val_score의 기본값은 5-겹 교차 검증이므로 정확도 값이 5개가 반환 <br>\n",
        "(scikit-learn 0.22 부터 기본값은 5-겹, 기존 기본값 3-겹)\n",
        "\n",
        "- 폴드의 수는 cv 매개변수를 사용해서 바꿀 수 있음\n",
        "\n"
      ]
    },
    {
      "cell_type": "code",
      "metadata": {
        "id": "jVlJqwU_o-uD",
        "colab": {
          "base_uri": "https://localhost:8080/"
        },
        "outputId": "53c08621-35ed-4360-d76d-1e1b9d423ae9"
      },
      "source": [
        "scores = cross_val_score(model_lr,X,y,cv=3)\n",
        "print( 'lr : ', scores)"
      ],
      "execution_count": null,
      "outputs": [
        {
          "output_type": "stream",
          "name": "stdout",
          "text": [
            "lr :  [0.98 0.96 0.98]\n"
          ]
        }
      ]
    },
    {
      "cell_type": "markdown",
      "metadata": {
        "id": "IHLyRRfgXfaR"
      },
      "source": [
        "- 보통 교차 검증의 정확도를 간단하게 나타내려면 평균을 사용"
      ]
    },
    {
      "cell_type": "code",
      "metadata": {
        "id": "OOrkMMh6pA9K",
        "colab": {
          "base_uri": "https://localhost:8080/"
        },
        "outputId": "eae2b96e-d203-44b0-d097-741680022aa6"
      },
      "source": [
        "scores = cross_val_score(model_lr, X, y, cv=3)\n",
        "print( 'lr:', scores.mean() )"
      ],
      "execution_count": null,
      "outputs": [
        {
          "output_type": "stream",
          "name": "stdout",
          "text": [
            "lr: 0.9733333333333333\n"
          ]
        }
      ]
    },
    {
      "cell_type": "markdown",
      "metadata": {
        "id": "DW_73TV-gPUX"
      },
      "source": [
        "여러 개의 평가 지표 반환 교차 검증 함수\n",
        "\n",
        "[cross_validate()](https://scikit-learn.org/stable/modules/generated/sklearn.model_selection.cross_validate.html)\n",
        "\n",
        "```\n",
        "cross_validate(estimator, X, y=None, *, groups=None, scoring=None, cv=None, n_jobs=None, verbose=0, fit_params=None, pre_dispatch='2*n_jobs', return_train_score=False, return_estimator=False, error_score=nan)\n",
        "```\n",
        "Parameter\n",
        "\n",
        "- estimator : 평가하려는 모델\n",
        "- X : 훈련 데이터\n",
        "- y : 타깃 레이블\n",
        "- cv : 교차 검증 분할 수(k)\n",
        "- return_train_score : 훈련 점수 포함 여부\n",
        "\n",
        "Return\n",
        "- 교차 검증 결과 정확도 점수의 배열"
      ]
    },
    {
      "cell_type": "code",
      "metadata": {
        "id": "jTVdwdfpY-70",
        "colab": {
          "base_uri": "https://localhost:8080/"
        },
        "outputId": "29602c25-7c44-46c2-fcb1-862c09f5094c"
      },
      "source": [
        "# 분할마다 훈련과 테스트에 걸린 시간을 담은 여러 개의 평가 지표 딕셔너리를 반환\n",
        "from sklearn.model_selection import cross_validate\n",
        "\n",
        "res = cross_validate(model_tree, X, y, return_train_score=True)\n",
        "res"
      ],
      "execution_count": 6,
      "outputs": [
        {
          "output_type": "execute_result",
          "data": {
            "text/plain": [
              "{'fit_time': array([0.00289989, 0.00138688, 0.00143385, 0.00086427, 0.00086498]),\n",
              " 'score_time': array([0.00053239, 0.00047159, 0.00045657, 0.00028539, 0.00027227]),\n",
              " 'test_score': array([0.96666667, 0.96666667, 0.9       , 0.96666667, 1.        ]),\n",
              " 'train_score': array([1., 1., 1., 1., 1.])}"
            ]
          },
          "metadata": {},
          "execution_count": 6
        }
      ]
    },
    {
      "cell_type": "code",
      "metadata": {
        "id": "3nWxzuoIb8NY",
        "colab": {
          "base_uri": "https://localhost:8080/",
          "height": 315
        },
        "outputId": "4d07bece-f10c-4051-9c13-c4284dbfffe9"
      },
      "source": [
        "# 판다스를 사용하여 결과값을 출력하고 평균을 계산\n",
        "import pandas as pd\n",
        "\n",
        "df = pd.DataFrame(res)\n",
        "display( df ); print()\n",
        "df.mean()"
      ],
      "execution_count": 7,
      "outputs": [
        {
          "output_type": "display_data",
          "data": {
            "text/plain": [
              "   fit_time  score_time  test_score  train_score\n",
              "0  0.002900    0.000532    0.966667          1.0\n",
              "1  0.001387    0.000472    0.966667          1.0\n",
              "2  0.001434    0.000457    0.900000          1.0\n",
              "3  0.000864    0.000285    0.966667          1.0\n",
              "4  0.000865    0.000272    1.000000          1.0"
            ],
            "text/html": [
              "\n",
              "  <div id=\"df-f5e06665-307b-4394-ad00-91e8f4bb1745\">\n",
              "    <div class=\"colab-df-container\">\n",
              "      <div>\n",
              "<style scoped>\n",
              "    .dataframe tbody tr th:only-of-type {\n",
              "        vertical-align: middle;\n",
              "    }\n",
              "\n",
              "    .dataframe tbody tr th {\n",
              "        vertical-align: top;\n",
              "    }\n",
              "\n",
              "    .dataframe thead th {\n",
              "        text-align: right;\n",
              "    }\n",
              "</style>\n",
              "<table border=\"1\" class=\"dataframe\">\n",
              "  <thead>\n",
              "    <tr style=\"text-align: right;\">\n",
              "      <th></th>\n",
              "      <th>fit_time</th>\n",
              "      <th>score_time</th>\n",
              "      <th>test_score</th>\n",
              "      <th>train_score</th>\n",
              "    </tr>\n",
              "  </thead>\n",
              "  <tbody>\n",
              "    <tr>\n",
              "      <th>0</th>\n",
              "      <td>0.002900</td>\n",
              "      <td>0.000532</td>\n",
              "      <td>0.966667</td>\n",
              "      <td>1.0</td>\n",
              "    </tr>\n",
              "    <tr>\n",
              "      <th>1</th>\n",
              "      <td>0.001387</td>\n",
              "      <td>0.000472</td>\n",
              "      <td>0.966667</td>\n",
              "      <td>1.0</td>\n",
              "    </tr>\n",
              "    <tr>\n",
              "      <th>2</th>\n",
              "      <td>0.001434</td>\n",
              "      <td>0.000457</td>\n",
              "      <td>0.900000</td>\n",
              "      <td>1.0</td>\n",
              "    </tr>\n",
              "    <tr>\n",
              "      <th>3</th>\n",
              "      <td>0.000864</td>\n",
              "      <td>0.000285</td>\n",
              "      <td>0.966667</td>\n",
              "      <td>1.0</td>\n",
              "    </tr>\n",
              "    <tr>\n",
              "      <th>4</th>\n",
              "      <td>0.000865</td>\n",
              "      <td>0.000272</td>\n",
              "      <td>1.000000</td>\n",
              "      <td>1.0</td>\n",
              "    </tr>\n",
              "  </tbody>\n",
              "</table>\n",
              "</div>\n",
              "      <button class=\"colab-df-convert\" onclick=\"convertToInteractive('df-f5e06665-307b-4394-ad00-91e8f4bb1745')\"\n",
              "              title=\"Convert this dataframe to an interactive table.\"\n",
              "              style=\"display:none;\">\n",
              "        \n",
              "  <svg xmlns=\"http://www.w3.org/2000/svg\" height=\"24px\"viewBox=\"0 0 24 24\"\n",
              "       width=\"24px\">\n",
              "    <path d=\"M0 0h24v24H0V0z\" fill=\"none\"/>\n",
              "    <path d=\"M18.56 5.44l.94 2.06.94-2.06 2.06-.94-2.06-.94-.94-2.06-.94 2.06-2.06.94zm-11 1L8.5 8.5l.94-2.06 2.06-.94-2.06-.94L8.5 2.5l-.94 2.06-2.06.94zm10 10l.94 2.06.94-2.06 2.06-.94-2.06-.94-.94-2.06-.94 2.06-2.06.94z\"/><path d=\"M17.41 7.96l-1.37-1.37c-.4-.4-.92-.59-1.43-.59-.52 0-1.04.2-1.43.59L10.3 9.45l-7.72 7.72c-.78.78-.78 2.05 0 2.83L4 21.41c.39.39.9.59 1.41.59.51 0 1.02-.2 1.41-.59l7.78-7.78 2.81-2.81c.8-.78.8-2.07 0-2.86zM5.41 20L4 18.59l7.72-7.72 1.47 1.35L5.41 20z\"/>\n",
              "  </svg>\n",
              "      </button>\n",
              "      \n",
              "  <style>\n",
              "    .colab-df-container {\n",
              "      display:flex;\n",
              "      flex-wrap:wrap;\n",
              "      gap: 12px;\n",
              "    }\n",
              "\n",
              "    .colab-df-convert {\n",
              "      background-color: #E8F0FE;\n",
              "      border: none;\n",
              "      border-radius: 50%;\n",
              "      cursor: pointer;\n",
              "      display: none;\n",
              "      fill: #1967D2;\n",
              "      height: 32px;\n",
              "      padding: 0 0 0 0;\n",
              "      width: 32px;\n",
              "    }\n",
              "\n",
              "    .colab-df-convert:hover {\n",
              "      background-color: #E2EBFA;\n",
              "      box-shadow: 0px 1px 2px rgba(60, 64, 67, 0.3), 0px 1px 3px 1px rgba(60, 64, 67, 0.15);\n",
              "      fill: #174EA6;\n",
              "    }\n",
              "\n",
              "    [theme=dark] .colab-df-convert {\n",
              "      background-color: #3B4455;\n",
              "      fill: #D2E3FC;\n",
              "    }\n",
              "\n",
              "    [theme=dark] .colab-df-convert:hover {\n",
              "      background-color: #434B5C;\n",
              "      box-shadow: 0px 1px 3px 1px rgba(0, 0, 0, 0.15);\n",
              "      filter: drop-shadow(0px 1px 2px rgba(0, 0, 0, 0.3));\n",
              "      fill: #FFFFFF;\n",
              "    }\n",
              "  </style>\n",
              "\n",
              "      <script>\n",
              "        const buttonEl =\n",
              "          document.querySelector('#df-f5e06665-307b-4394-ad00-91e8f4bb1745 button.colab-df-convert');\n",
              "        buttonEl.style.display =\n",
              "          google.colab.kernel.accessAllowed ? 'block' : 'none';\n",
              "\n",
              "        async function convertToInteractive(key) {\n",
              "          const element = document.querySelector('#df-f5e06665-307b-4394-ad00-91e8f4bb1745');\n",
              "          const dataTable =\n",
              "            await google.colab.kernel.invokeFunction('convertToInteractive',\n",
              "                                                     [key], {});\n",
              "          if (!dataTable) return;\n",
              "\n",
              "          const docLinkHtml = 'Like what you see? Visit the ' +\n",
              "            '<a target=\"_blank\" href=https://colab.research.google.com/notebooks/data_table.ipynb>data table notebook</a>'\n",
              "            + ' to learn more about interactive tables.';\n",
              "          element.innerHTML = '';\n",
              "          dataTable['output_type'] = 'display_data';\n",
              "          await google.colab.output.renderOutput(dataTable, element);\n",
              "          const docLink = document.createElement('div');\n",
              "          docLink.innerHTML = docLinkHtml;\n",
              "          element.appendChild(docLink);\n",
              "        }\n",
              "      </script>\n",
              "    </div>\n",
              "  </div>\n",
              "  "
            ]
          },
          "metadata": {}
        },
        {
          "output_type": "stream",
          "name": "stdout",
          "text": [
            "\n"
          ]
        },
        {
          "output_type": "execute_result",
          "data": {
            "text/plain": [
              "fit_time       0.001490\n",
              "score_time     0.000404\n",
              "test_score     0.960000\n",
              "train_score    1.000000\n",
              "dtype: float64"
            ]
          },
          "metadata": {},
          "execution_count": 7
        }
      ]
    },
    {
      "cell_type": "markdown",
      "metadata": {
        "id": "QoibUnddho-0"
      },
      "source": [
        "#### 교차 검증 장단점\n",
        "\n",
        "- 테스트 세트에 골고루 각 샘플이 정확하게 한 번씩 들어감\n",
        "- 교차 검증의 점수가 높으면 데이터셋에 있는 모든 샘플에 대해 모델이 잘 일반화됨\n",
        "- 모델이 훈련 데이터에 얼마나 민감한지 알 수 있음\n",
        "- 분할을 한 번 했을 때보다 데이터를 더 효과적으로 사용\n",
        "> 5-겹의 경우 매 반복에서 4/5 (80%)의 데이터를 모델 학습에 사용. <br> \n",
        "> 10-겹의 경우 90%를 사용\n",
        "\n",
        "- 연산 비용이 늘어나는 단점이 있음 (k배 더 느림)\n"
      ]
    },
    {
      "cell_type": "markdown",
      "metadata": {
        "id": "S-6iOBaqXlIj"
      },
      "source": [
        "### 계층별 k-겹 교차 검증 \n",
        "\n",
        "- 데이터셋을 나열 순서대로 k개의 폴드로 나누는 것은 항상 좋지는 않음"
      ]
    },
    {
      "cell_type": "code",
      "metadata": {
        "id": "27rZg8vyX2-U",
        "colab": {
          "base_uri": "https://localhost:8080/"
        },
        "outputId": "e00b9906-a179-4ba6-c029-292965a0c715"
      },
      "source": [
        "from sklearn.datasets import load_iris\n",
        "\n",
        "iris = load_iris()\n",
        "iris.target"
      ],
      "execution_count": 8,
      "outputs": [
        {
          "output_type": "execute_result",
          "data": {
            "text/plain": [
              "array([0, 0, 0, 0, 0, 0, 0, 0, 0, 0, 0, 0, 0, 0, 0, 0, 0, 0, 0, 0, 0, 0,\n",
              "       0, 0, 0, 0, 0, 0, 0, 0, 0, 0, 0, 0, 0, 0, 0, 0, 0, 0, 0, 0, 0, 0,\n",
              "       0, 0, 0, 0, 0, 0, 1, 1, 1, 1, 1, 1, 1, 1, 1, 1, 1, 1, 1, 1, 1, 1,\n",
              "       1, 1, 1, 1, 1, 1, 1, 1, 1, 1, 1, 1, 1, 1, 1, 1, 1, 1, 1, 1, 1, 1,\n",
              "       1, 1, 1, 1, 1, 1, 1, 1, 1, 1, 1, 1, 2, 2, 2, 2, 2, 2, 2, 2, 2, 2,\n",
              "       2, 2, 2, 2, 2, 2, 2, 2, 2, 2, 2, 2, 2, 2, 2, 2, 2, 2, 2, 2, 2, 2,\n",
              "       2, 2, 2, 2, 2, 2, 2, 2, 2, 2, 2, 2, 2, 2, 2, 2, 2, 2])"
            ]
          },
          "metadata": {},
          "execution_count": 8
        }
      ]
    },
    {
      "cell_type": "markdown",
      "metadata": {
        "id": "Olu7hbugX5uG"
      },
      "source": [
        "- 결과에서 볼 수 있듯이 1/3은 클래스 0, 1/3은 클래스 1, 1/3은 클래스 2이다.\n",
        "\n",
        "- 이 데이터에 3-겹 교차 검증을 적용한다면 첫 번째 폴드는 클래스 0만 가지고 있으므로 정확도는 0이 됨\n",
        "\n",
        "- 두 번째, 세 번째도 같은 방법으로 정확도는 0이 됨 \n",
        "\n",
        "- 단순한 k-겹 교차 검증에는 문제가 있으니, scikit-learn은 분류일 경우 이 방법 대신 계층별 k-겹 교차 검증을 사용"
      ]
    },
    {
      "cell_type": "code",
      "metadata": {
        "id": "rdjIRp9IjOfG",
        "colab": {
          "base_uri": "https://localhost:8080/",
          "height": 283
        },
        "outputId": "5b95523e-2fe8-4e04-8744-f1a3445e79b3"
      },
      "source": [
        "# 폴드 안의 클래스 비율이 전체 데이터셋의 클래스 비율과 같도록 데이터를 나눔\n",
        "mglearn.plots.plot_stratified_cross_validation()"
      ],
      "execution_count": null,
      "outputs": [
        {
          "output_type": "display_data",
          "data": {
            "text/plain": [
              "<Figure size 864x360 with 2 Axes>"
            ],
            "image/png": "[encoded data removed]"
          },
          "metadata": {
            "needs_background": "light"
          }
        }
      ]
    },
    {
      "cell_type": "markdown",
      "metadata": {
        "id": "RsifPnh4j2-b"
      },
      "source": [
        "- 대부분 회귀에서는 k-겹 교차 검증\n",
        "- 분류에서는 계층별 k-겹 교차 검증의 기본값이 잘 작동"
      ]
    },
    {
      "cell_type": "markdown",
      "source": [
        "![image.png](data:image/png;base64,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)"
      ],
      "metadata": {
        "id": "xb9GZhj2vOp1"
      }
    },
    {
      "cell_type": "code",
      "source": [
        "from sklearn.model_selection import StratifiedKFold\n",
        "\n",
        "# 셔플하지 않은 데이터 ( 셔플을 하지 않아도 알아서 cross로 그림을 그려줌 )\n",
        "kfold = StratifiedKFold(n_splits=3)\n",
        "cross_val_score(model_tree, X, y, cv=kfold)"
      ],
      "metadata": {
        "colab": {
          "base_uri": "https://localhost:8080/"
        },
        "id": "QV9HLwW6teGQ",
        "outputId": "a8b77868-34b6-4054-ef57-800039791dc6"
      },
      "execution_count": 9,
      "outputs": [
        {
          "output_type": "execute_result",
          "data": {
            "text/plain": [
              "array([0.98, 0.94, 0.98])"
            ]
          },
          "metadata": {},
          "execution_count": 9
        }
      ]
    },
    {
      "cell_type": "code",
      "source": [
        "# 셔플을 한 데이터\n",
        "kford = StratifiedKFold(n_splits=3, shuffle=True, random_state=0)\n",
        "scores = cross_val_score(model_tree, X, y, cv=kfold)\n",
        "print( 'tree : ', scores, scores.mean() )"
      ],
      "metadata": {
        "colab": {
          "base_uri": "https://localhost:8080/"
        },
        "id": "cfK-pn5cuQVY",
        "outputId": "73c575a4-dd0e-473b-ddc7-2936e070f6b1"
      },
      "execution_count": null,
      "outputs": [
        {
          "output_type": "stream",
          "name": "stdout",
          "text": [
            "tree :  [0.98 0.94 0.98] 0.9666666666666667\n"
          ]
        }
      ]
    },
    {
      "cell_type": "markdown",
      "source": [
        "![image.png](data:image/png;base64,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)"
      ],
      "metadata": {
        "id": "hTGTEQ5OvIib"
      }
    },
    {
      "cell_type": "code",
      "metadata": {
        "id": "DgebXberkhGM",
        "colab": {
          "base_uri": "https://localhost:8080/"
        },
        "outputId": "f9001059-d6b7-4bc7-df22-23861a0aaff5"
      },
      "source": [
        "# cv 매개변수에 교차 검증 분할기 cross-validation splitter를 사용하여 \n",
        "# 데이터를 분할할 때 세밀하게 제어\n",
        "# * 회귀모델에 사용하면 좋음\n",
        "from sklearn.model_selection import KFold\n",
        "\n",
        "kfold = KFold(n_splits=3)\n",
        "scores = cross_val_score(model_tree, X, y, cv = kfold)\n",
        "print( 'tree : ', scores, scores.mean() )"
      ],
      "execution_count": 10,
      "outputs": [
        {
          "output_type": "stream",
          "name": "stdout",
          "text": [
            "tree :  [0. 0. 0.] 0.0\n"
          ]
        }
      ]
    },
    {
      "cell_type": "code",
      "metadata": {
        "id": "sJ3S1RPqm7Ua",
        "colab": {
          "base_uri": "https://localhost:8080/"
        },
        "outputId": "5cce0b39-ac5e-45cc-b0a2-ce55fe1f54c4"
      },
      "source": [
        "# 데이터를 분할하기 전에 섞어주면 결과가 향상\n",
        "kfold = KFold(n_splits=3, shuffle=True, random_state=0)\n",
        "scores = cross_val_score(model_tree, X, y, cv = kfold)\n",
        "print( 'tree : ', scores, scores.mean() )"
      ],
      "execution_count": null,
      "outputs": [
        {
          "output_type": "stream",
          "name": "stdout",
          "text": [
            "tree :  [0.98 0.98 0.96] 0.9733333333333333\n"
          ]
        }
      ]
    },
    {
      "cell_type": "markdown",
      "metadata": {
        "id": "K_jtX_Rvn-A1"
      },
      "source": [
        "### 임의 분할 교차 검증 (shuffle-split cross-validation)\n",
        "\n",
        "- 반복 횟수를 훈련 세트나 테스트 세트의 크기와 독립적으로 조절해야 할 때 유용\n",
        "- train_size와 test_size의 합을 전체와 다르게 함으로써 전체 데이터의 일부만 사용 가능\n",
        "- 데이터 부분 샘플링(subsampling)하는 방식은 **대규모 데이터셋**으로 작업할 때 도움이 됨\n",
        "\n"
      ]
    },
    {
      "cell_type": "markdown",
      "metadata": {
        "id": "ZYVty6J4ooo2"
      },
      "source": [
        "[ShuffleSplit()](https://scikit-learn.org/stable/modules/generated/sklearn.model_selection.ShuffleSplit.html)\n",
        "\n",
        "```\n",
        "ShuffleSplit(n_splits=10, *, test_size=None, train_size=None, random_state=None)\n",
        "```\n",
        "- train_size 만큼의 포인트로 훈련 세트를 만들고, test_size만큼의 (훈련 세트와 중첩되지 않은) 포인트로 테스트 세트를 만들도록 분할\n",
        "\n",
        "- n_splits 횟수만큼 반복"
      ]
    },
    {
      "cell_type": "code",
      "metadata": {
        "id": "uggw5EEFpEKS",
        "colab": {
          "base_uri": "https://localhost:8080/",
          "height": 138
        },
        "outputId": "1a3679b3-a899-4546-81f2-68066e20c78e"
      },
      "source": [
        "# 10개의 데이터 포인트에 train_size=0.5, test_size=0.2, n_splits=4를 적용한 ShuffleSplit\n",
        "mglearn.plots.plot_shuffle_split()"
      ],
      "execution_count": null,
      "outputs": [
        {
          "output_type": "display_data",
          "data": {
            "image/png": "[encoded data removed]",
            "text/plain": [
              "<Figure size 720x144 with 1 Axes>"
            ]
          },
          "metadata": {
            "tags": [],
            "needs_background": "light"
          }
        }
      ]
    },
    {
      "cell_type": "code",
      "metadata": {
        "id": "voONNTbdpNFx",
        "colab": {
          "base_uri": "https://localhost:8080/"
        },
        "outputId": "c0251b15-c69f-4234-e637-df262b020884"
      },
      "source": [
        "from sklearn.model_selection import ShuffleSplit\n",
        "                # 돌리는 횟수\n",
        "ss = ShuffleSplit(n_splits=10, train_size=0.5, test_size = 0.2, random_state=0)\n",
        "scores = cross_val_score(model_tree, X, y, cv = ss)\n",
        "print( 'tree : ', scores, scores.mean() )"
      ],
      "execution_count": 11,
      "outputs": [
        {
          "output_type": "stream",
          "name": "stdout",
          "text": [
            "tree :  [1.         0.93333333 0.93333333 0.86666667 1.         0.93333333\n",
            " 1.         1.         0.96666667 0.96666667] 0.96\n"
          ]
        }
      ]
    },
    {
      "cell_type": "markdown",
      "metadata": {
        "id": "iBOIaQfws4Fj"
      },
      "source": [
        "### 그룹별 교차 검증 (groups cross-validation)\n",
        "\n",
        "- 데이터 안에 매우 연관된 그룹이 있을 때\n",
        "- 예: 같은 환자로부터 얻은 여러 샘플을 가지고 새로운 환자에게 일반화하는 의료 애플리케이션\n",
        "\n",
        "- groups 배열은 훈련 세트와 테스트 세트를 만들 때 분리되지 않아야 할 그룹을 지정하는 것으로 클래스 레이블과 혼동해서는 안됨"
      ]
    },
    {
      "cell_type": "markdown",
      "metadata": {
        "id": "e_4sivXeuFm6"
      },
      "source": [
        "[GroupKFold()](https://scikit-learn.org/stable/modules/generated/sklearn.model_selection.GroupKFold.html)\n",
        "\n",
        "```\n",
        "GroupKFold(n_splits=5)\n",
        "```\n",
        "- n_splits : 폴드 수 (2 이상)\n"
      ]
    },
    {
      "cell_type": "code",
      "metadata": {
        "id": "q41m10w1vCgM",
        "colab": {
          "base_uri": "https://localhost:8080/",
          "height": 138
        },
        "outputId": "dcb74def-0148-441a-cf8c-7937a23a59b5"
      },
      "source": [
        "# 레이블에 기반한 GroupKFold 분할\n",
        "mglearn.plots.plot_group_kfold()"
      ],
      "execution_count": null,
      "outputs": [
        {
          "output_type": "display_data",
          "data": {
            "image/png": "[encoded data removed]",
            "text/plain": [
              "<Figure size 720x144 with 1 Axes>"
            ]
          },
          "metadata": {
            "tags": [],
            "needs_background": "light"
          }
        }
      ]
    },
    {
      "cell_type": "code",
      "metadata": {
        "id": "mAgpEA_YuGWp",
        "colab": {
          "base_uri": "https://localhost:8080/"
        },
        "outputId": "1fe61664-374d-4e8d-da3a-8d84144db2b2"
      },
      "source": [
        "from sklearn.model_selection import GroupKFold\n",
        "from sklearn.datasets import make_blobs\n",
        "\n",
        "# 인위적 데이터셋 생성\n",
        "X, y = make_blobs(n_samples=12, random_state=0)\n",
        "# 처음 세 개의 샘플은 같은 그룹에 속하고\n",
        "# 다음은 네 개의 샘플이 같음\n",
        "groups = [0,0,0,1,1,1,1,2,2,3,3,3]\n",
        "\n",
        "gkf = GroupKFold(n_splits=3)\n",
        "scores = cross_val_score(model_tree, X, y, cv=gkf, groups = groups)\n",
        "print('tree : ', scores, scores.mean() )"
      ],
      "execution_count": 12,
      "outputs": [
        {
          "output_type": "stream",
          "name": "stdout",
          "text": [
            "tree :  [0.75       0.4        0.66666667] 0.6055555555555555\n"
          ]
        }
      ]
    },
    {
      "cell_type": "markdown",
      "metadata": {
        "id": "uAWePMURwRtK"
      },
      "source": [
        "### 반복 교차 검증\n",
        "\n",
        "- 데이터셋의 크기가 크지 않을 경우 안정된 검증 점수를 얻기 위해 교차 검증을 반복하여 여러 번 수행\n",
        "\n",
        "- RepeatedKFold : 회귀에 사용\n",
        "- RepeatedStratifiedKFold : 분류에 사용"
      ]
    },
    {
      "cell_type": "code",
      "metadata": {
        "id": "rD3_YWpbwyZ2",
        "colab": {
          "base_uri": "https://localhost:8080/"
        },
        "outputId": "e492231a-dcb4-4e4b-afb8-7df17deb4f00"
      },
      "source": [
        "from sklearn.model_selection import RepeatedStratifiedKFold\n",
        "\n",
        "X = iris.data\n",
        "y = iris.target\n",
        "\n",
        "rskfold = RepeatedStratifiedKFold(n_splits=5, n_repeats=10, random_state=0)\n",
        "\n",
        "scores = cross_val_score(model_tree, X, y, cv=rskfold)\n",
        "print( 'tree:', scores, scores.mean() )"
      ],
      "execution_count": 13,
      "outputs": [
        {
          "output_type": "stream",
          "name": "stdout",
          "text": [
            "tree: [0.96666667 0.96666667 0.86666667 0.96666667 0.9        1.\n",
            " 0.86666667 0.96666667 0.96666667 1.         0.93333333 1.\n",
            " 0.96666667 0.93333333 0.96666667 1.         0.9        1.\n",
            " 0.83333333 0.96666667 1.         0.93333333 0.96666667 0.9\n",
            " 0.93333333 0.9        1.         1.         0.93333333 0.93333333\n",
            " 0.93333333 0.93333333 1.         0.93333333 0.93333333 0.93333333\n",
            " 0.96666667 0.9        0.96666667 1.         1.         0.96666667\n",
            " 0.9        0.96666667 0.96666667 0.93333333 0.96666667 0.9\n",
            " 0.96666667 1.        ] 0.9506666666666668\n"
          ]
        }
      ]
    },
    {
      "cell_type": "markdown",
      "metadata": {
        "id": "2D-Ti8MPxqx3"
      },
      "source": [
        "- 전체 검증 점수는 n_splits * n_repeats 개수만큼 만들어짐"
      ]
    },
    {
      "cell_type": "markdown",
      "metadata": {
        "id": "NSNLVJVzY2iC"
      },
      "source": [
        "# 그리드 서치 (Grid Search)\n",
        "\n",
        "- 매개변수을 선택하는 것은 머신러닝에서 중요한 일\n",
        "\n",
        "- GRID_SEARCH : 관심 있는 매개변수들을 대상으로 가능한 모든 조합 시도하는 것"
      ]
    },
    {
      "cell_type": "markdown",
      "metadata": {
        "id": "5ptTkiFJ0GU3"
      },
      "source": [
        "### 검증 세트\n",
        "\n",
        "- 매개변수를 조정하기 위해 테스트 세트를 사용하면 모델이 얼마나 좋은지 평가하는 것에 더 이상 사용할 수 없음\n",
        "- 평가를 위해 모델을 만들 때 사용하지 않은 독립된 데이터셋이 필요\n",
        "\n",
        "- 데이터를 세 개의 세트로 만들어 이 문제를 해결\n",
        " - 훈련 세트로는 모델을 작성\n",
        " - 검증 (또는 개발) 세트로는 모델의 매개변수를 선택\n",
        " - 테스트 세트로는 선택된 매개변수의 성능을 평가"
      ]
    },
    {
      "cell_type": "code",
      "metadata": {
        "id": "oaVHmNlRzo3i",
        "colab": {
          "base_uri": "https://localhost:8080/",
          "height": 96
        },
        "outputId": "956772e0-cb0f-4824-8f28-765413e16247"
      },
      "source": [
        "mglearn.plots.plot_threefold_split()"
      ],
      "execution_count": null,
      "outputs": [
        {
          "output_type": "display_data",
          "data": {
            "image/png": "[encoded data removed]",
            "text/plain": [
              "<Figure size 1080x72 with 1 Axes>"
            ]
          },
          "metadata": {
            "tags": [],
            "needs_background": "light"
          }
        }
      ]
    },
    {
      "cell_type": "code",
      "metadata": {
        "id": "x6b_77z6Zecj",
        "colab": {
          "base_uri": "https://localhost:8080/"
        },
        "outputId": "949f6938-2cb9-4a8a-b64e-2994b9e08dce"
      },
      "source": [
        "from sklearn.model_selection import train_test_split\n",
        "from sklearn.svm import SVC\n",
        "\n",
        "# 데이터를 훈련+검증 세트 그리고 테스트 세트로 분할\n",
        "X_trainval, X_test, y_trainval, y_test = train_test_split(X, y, random_state = 0)\n",
        "\n",
        "# 훈련+검증 세트를 훈련 세트와 검증 세트로 분할\n",
        "X_train, X_val, y_train, y_val = train_test_split(X_trainval, y_trainval, random_state = 0)\n",
        "\n",
        "print(X_trainval.shape, X_test.shape)\n",
        "print( X_train.shape, X_val.shape)\n",
        "\n",
        "# 그리드 서치\n",
        "best_score = 0\n",
        "for gamma in [0.001, 0.01, 0.1, 1, 10, 100] :\n",
        "    for C in [0.001, 0.01, 0.1, 1, 10, 100] :\n",
        "        model = SVC(gamma=gamma, C=C).fit(X_train, y_train)\n",
        "        score = model.score(X_val, y_val) # 검증 평가\n",
        "        if score > best_score :\n",
        "            best_score = score\n",
        "            best_params = {'C' : C, 'gamma' : gamma}\n",
        "\n",
        "\n",
        "best_score, best_params"
      ],
      "execution_count": 14,
      "outputs": [
        {
          "output_type": "stream",
          "name": "stdout",
          "text": [
            "(112, 4) (38, 4)\n",
            "(84, 4) (28, 4)\n"
          ]
        },
        {
          "output_type": "execute_result",
          "data": {
            "text/plain": [
              "(1.0, {'C': 100, 'gamma': 0.001})"
            ]
          },
          "metadata": {},
          "execution_count": 14
        }
      ]
    },
    {
      "cell_type": "code",
      "source": [
        "# 훈련 세트와 검증 세트를 합쳐 모델을 다시 만든 후\n",
        "# 테스트 세트를 사용해 평가\n",
        "model = SVC(**best_params).fit(X_trainval, y_trainval)\n",
        "model.score(X_test, y_test)"
      ],
      "metadata": {
        "colab": {
          "base_uri": "https://localhost:8080/"
        },
        "id": "2InPxSz-0xMy",
        "outputId": "c1d0894b-c49d-4179-b3f2-a9c7a0fd25b0"
      },
      "execution_count": null,
      "outputs": [
        {
          "output_type": "execute_result",
          "data": {
            "text/plain": [
              "0.9736842105263158"
            ]
          },
          "metadata": {},
          "execution_count": 44
        }
      ]
    },
    {
      "cell_type": "markdown",
      "metadata": {
        "id": "gWBnbgZtZ298"
      },
      "source": [
        "## 교차 검증을 사용한 그리드 서치"
      ]
    },
    {
      "cell_type": "code",
      "metadata": {
        "id": "JwbeAekiZ5uj",
        "colab": {
          "base_uri": "https://localhost:8080/"
        },
        "outputId": "2bef4752-56ed-4893-b403-3da441d4c7d1"
      },
      "source": [
        "# 훈련 세트와 검증 세트를 합쳐 모델을 다시 만듬\n",
        "best_score = 0\n",
        "for gamma in [0.001, 0.01, 0.1, 1, 10, 100] :\n",
        "    for C in [0.001, 0.01, 0.1, 1, 10, 100] :\n",
        "        svm= SVC(gamma=gamma, C=C)\n",
        "        scores = cross_val_score(svm, X_trainval, y_trainval, cv =5)\n",
        "        score = scores.mean()\n",
        "        if score > best_score :\n",
        "            best_score = score\n",
        "            best_params = {'C' : C, 'gamma' : gamma}\n",
        "\n",
        "best_score, best_params"
      ],
      "execution_count": 15,
      "outputs": [
        {
          "output_type": "execute_result",
          "data": {
            "text/plain": [
              "(0.9731225296442687, {'C': 10, 'gamma': 0.1})"
            ]
          },
          "metadata": {},
          "execution_count": 15
        }
      ]
    },
    {
      "cell_type": "code",
      "source": [
        "model = SVC(**best_params).fit(X_trainval, y_trainval)\n",
        "model.score(X_test, y_test)"
      ],
      "metadata": {
        "colab": {
          "base_uri": "https://localhost:8080/"
        },
        "id": "goHMAixI5Q6N",
        "outputId": "fa2e3b34-3f34-4c28-fbe7-6fe80e0faf10"
      },
      "execution_count": 18,
      "outputs": [
        {
          "output_type": "execute_result",
          "data": {
            "text/plain": [
              "0.9736842105263158"
            ]
          },
          "metadata": {},
          "execution_count": 18
        }
      ]
    },
    {
      "cell_type": "markdown",
      "metadata": {
        "id": "o6HYJoZ51fZd"
      },
      "source": [
        "- 5-겹 교차 검증으로 C와 gamma 설정에 대한 SVM 정확도를 평가하려면 36 x 5 = 180 개의 모델이 필요"
      ]
    },
    {
      "cell_type": "code",
      "metadata": {
        "id": "glEPjgEh1uJH",
        "colab": {
          "base_uri": "https://localhost:8080/",
          "height": 335
        },
        "outputId": "3f04751f-88df-425b-e36a-12107fa8c1e8"
      },
      "source": [
        "# 최적의 매개변수를 선택하는 방법\n",
        "# 교차 검증 정확도 평균이 가장 높은 매개변수를 동그라미로 표시\n",
        "mglearn.plots.plot_cross_val_selection()"
      ],
      "execution_count": 19,
      "outputs": [
        {
          "output_type": "display_data",
          "data": {
            "text/plain": [
              "<Figure size 720x216 with 1 Axes>"
            ],
            "image/png": "[encoded data removed]"
          },
          "metadata": {
            "needs_background": "light"
          }
        }
      ]
    },
    {
      "cell_type": "code",
      "metadata": {
        "id": "YD10RXP-2Kcc",
        "colab": {
          "base_uri": "https://localhost:8080/",
          "height": 440
        },
        "outputId": "eae26bca-0589-4c09-adb7-ad2342b2dfb5"
      },
      "source": [
        "# 교차 검증과 그리드 서치를 사용한 매개변수 선택과 모델 평가의 작업 흐름\n",
        "mglearn.plots.plot_grid_search_overview()"
      ],
      "execution_count": 20,
      "outputs": [
        {
          "output_type": "display_data",
          "data": {
            "text/plain": [
              "<Figure size 700x210 with 1 Axes>"
            ],
            "image/png": "[encoded data removed]"
          },
          "metadata": {
            "needs_background": "light"
          }
        }
      ]
    },
    {
      "cell_type": "markdown",
      "metadata": {
        "id": "CQhNYEqHaRcU"
      },
      "source": [
        "## GridSearchCV 메소드를 이용한 그리드서치"
      ]
    },
    {
      "cell_type": "code",
      "metadata": {
        "id": "8alJXc2jaQvk"
      },
      "source": [
        "# param_grid\n",
        "param_grid = {'C' : [0.001, 0.01, 0.1, 1, 10, 100],\n",
        "              'gamma' : [0.001, 0.01, 0.1, 1, 10, 100]}\n",
        "              "
      ],
      "execution_count": 21,
      "outputs": []
    },
    {
      "cell_type": "code",
      "metadata": {
        "id": "Hk8otxS9ab0c",
        "colab": {
          "base_uri": "https://localhost:8080/"
        },
        "outputId": "966f4df2-d9ea-48ce-eab4-7492c6e2a506"
      },
      "source": [
        "from sklearn.model_selection import GridSearchCV\n",
        "from sklearn.svm import SVC\n",
        "\n",
        "gs = GridSearchCV( SVC(), param_grid=param_grid, cv= 5, return_train_score=True)\n",
        "gs"
      ],
      "execution_count": 22,
      "outputs": [
        {
          "output_type": "execute_result",
          "data": {
            "text/plain": [
              "GridSearchCV(cv=5, estimator=SVC(),\n",
              "             param_grid={'C': [0.001, 0.01, 0.1, 1, 10, 100],\n",
              "                         'gamma': [0.001, 0.01, 0.1, 1, 10, 100]},\n",
              "             return_train_score=True)"
            ]
          },
          "metadata": {},
          "execution_count": 22
        }
      ]
    },
    {
      "cell_type": "code",
      "source": [
        "X_train, X_test, y_train, y_test = train_test_split(X, y, random_state=0)\n",
        "gs.fit(X_train, y_train)"
      ],
      "metadata": {
        "colab": {
          "base_uri": "https://localhost:8080/"
        },
        "id": "DZNz5B9f6yC2",
        "outputId": "044767e1-0708-4799-8291-67204a92e2ec"
      },
      "execution_count": 23,
      "outputs": [
        {
          "output_type": "execute_result",
          "data": {
            "text/plain": [
              "GridSearchCV(cv=5, estimator=SVC(),\n",
              "             param_grid={'C': [0.001, 0.01, 0.1, 1, 10, 100],\n",
              "                         'gamma': [0.001, 0.01, 0.1, 1, 10, 100]},\n",
              "             return_train_score=True)"
            ]
          },
          "metadata": {},
          "execution_count": 23
        }
      ]
    },
    {
      "cell_type": "markdown",
      "metadata": {
        "id": "tIAo7oxEatkV"
      },
      "source": [
        "- GridSearchCV 객체에 fit() 매서드는 최적의 매개변수를 찾는 일 뿐만 아니라 교차 검증 성능이 가장 좋은 매개변수로 전체 훈련 데이터 세트에 대해 새로운 모델을 자동을 만듬\n",
        "\n",
        "- GridSearchCV는 전체 데이터로 학습한 모델에 접근할 수 있도록 predict()와 score() 메서드 제공\n",
        "\n",
        "- GridSearchCV 분류 : StratifiedKFold 회귀 : KFold\n",
        "\n",
        "- 사용에 따라서는 predict_proba, decision_function도 제공"
      ]
    },
    {
      "cell_type": "code",
      "metadata": {
        "id": "TPOnpDujqmbW",
        "colab": {
          "base_uri": "https://localhost:8080/"
        },
        "outputId": "a54f73d9-841c-4033-f7ee-939f03d24158"
      },
      "source": [
        "gs.score(X_test, y_test)"
      ],
      "execution_count": 24,
      "outputs": [
        {
          "output_type": "execute_result",
          "data": {
            "text/plain": [
              "0.9736842105263158"
            ]
          },
          "metadata": {},
          "execution_count": 24
        }
      ]
    },
    {
      "cell_type": "code",
      "source": [
        "gs.best_score_, gs.best_params_"
      ],
      "metadata": {
        "colab": {
          "base_uri": "https://localhost:8080/"
        },
        "id": "T270agur7WPn",
        "outputId": "0d64952b-2825-4444-af3a-7fa99cad6712"
      },
      "execution_count": 25,
      "outputs": [
        {
          "output_type": "execute_result",
          "data": {
            "text/plain": [
              "(0.9731225296442687, {'C': 10, 'gamma': 0.1})"
            ]
          },
          "metadata": {},
          "execution_count": 25
        }
      ]
    },
    {
      "cell_type": "markdown",
      "metadata": {
        "id": "U3LXIYJNbV02"
      },
      "source": [
        "- bast_score_ 속성에는 훈련 세트에서 수행한 교차 검증의 평균 정확도가 저장\n",
        "\n",
        "- 최적 매개 변수에서 전체 훈련 세트를 사용하여 학습한 모델은 best_estimator_\n",
        "\n",
        "- grid_search 객체가 predict와 score 메서드를 가지고 있으므로 예측이나 모델을 평가하기 위해 best_estimator_ 속성을 사용할 필요가 없음\n"
      ]
    },
    {
      "cell_type": "code",
      "source": [
        "gs.best_estimator_"
      ],
      "metadata": {
        "colab": {
          "base_uri": "https://localhost:8080/"
        },
        "id": "ADu__LbQ72I7",
        "outputId": "7fbbb145-bfb2-48d0-8946-765a0838f1b5"
      },
      "execution_count": 26,
      "outputs": [
        {
          "output_type": "execute_result",
          "data": {
            "text/plain": [
              "SVC(C=10, gamma=0.1)"
            ]
          },
          "metadata": {},
          "execution_count": 26
        }
      ]
    },
    {
      "cell_type": "markdown",
      "metadata": {
        "id": "JWUU8nFabk5O"
      },
      "source": [
        "## 교차 검증 결과 분석\n",
        "\n",
        "- 교차 검증의 결과를 시각화하면 검색 대상 매개변수가 모델의 일반화에 영향을 얼마나 주는지 이해하는 데 도움이 됨"
      ]
    },
    {
      "cell_type": "code",
      "metadata": {
        "id": "xzSs_HdicV5q",
        "colab": {
          "base_uri": "https://localhost:8080/",
          "height": 739
        },
        "outputId": "7e9a457a-c9be-44cf-c1c5-2f3ffcbfee0b"
      },
      "source": [
        "import pandas as pd\n",
        "import numpy as np\n",
        "\n",
        "df = pd.DataFrame(gs.cv_results_)\n",
        "df.head().T"
      ],
      "execution_count": 27,
      "outputs": [
        {
          "output_type": "execute_result",
          "data": {
            "text/plain": [
              "                                               0                            1  \\\n",
              "mean_fit_time                           0.001548                     0.001079   \n",
              "std_fit_time                            0.000256                     0.000014   \n",
              "mean_score_time                         0.000628                      0.00044   \n",
              "std_score_time                          0.000113                      0.00001   \n",
              "param_C                                    0.001                        0.001   \n",
              "param_gamma                                0.001                         0.01   \n",
              "params              {'C': 0.001, 'gamma': 0.001}  {'C': 0.001, 'gamma': 0.01}   \n",
              "split0_test_score                       0.347826                     0.347826   \n",
              "split1_test_score                       0.347826                     0.347826   \n",
              "split2_test_score                       0.363636                     0.363636   \n",
              "split3_test_score                       0.363636                     0.363636   \n",
              "split4_test_score                       0.409091                     0.409091   \n",
              "mean_test_score                         0.366403                     0.366403   \n",
              "std_test_score                          0.022485                     0.022485   \n",
              "rank_test_score                               22                           22   \n",
              "split0_train_score                      0.370787                     0.370787   \n",
              "split1_train_score                      0.370787                     0.370787   \n",
              "split2_train_score                      0.366667                     0.366667   \n",
              "split3_train_score                      0.366667                     0.366667   \n",
              "split4_train_score                      0.355556                     0.355556   \n",
              "mean_train_score                        0.366092                     0.366092   \n",
              "std_train_score                         0.005581                     0.005581   \n",
              "\n",
              "                                             2                         3  \\\n",
              "mean_fit_time                         0.001067                  0.001031   \n",
              "std_fit_time                          0.000017                  0.000004   \n",
              "mean_score_time                       0.000425                  0.000426   \n",
              "std_score_time                        0.000011                  0.000015   \n",
              "param_C                                  0.001                     0.001   \n",
              "param_gamma                                0.1                         1   \n",
              "params              {'C': 0.001, 'gamma': 0.1}  {'C': 0.001, 'gamma': 1}   \n",
              "split0_test_score                     0.347826                  0.347826   \n",
              "split1_test_score                     0.347826                  0.347826   \n",
              "split2_test_score                     0.363636                  0.363636   \n",
              "split3_test_score                     0.363636                  0.363636   \n",
              "split4_test_score                     0.409091                  0.409091   \n",
              "mean_test_score                       0.366403                  0.366403   \n",
              "std_test_score                        0.022485                  0.022485   \n",
              "rank_test_score                             22                        22   \n",
              "split0_train_score                    0.370787                  0.370787   \n",
              "split1_train_score                    0.370787                  0.370787   \n",
              "split2_train_score                    0.366667                  0.366667   \n",
              "split3_train_score                    0.366667                  0.366667   \n",
              "split4_train_score                    0.355556                  0.355556   \n",
              "mean_train_score                      0.366092                  0.366092   \n",
              "std_train_score                       0.005581                  0.005581   \n",
              "\n",
              "                                            4  \n",
              "mean_fit_time                        0.001085  \n",
              "std_fit_time                         0.000065  \n",
              "mean_score_time                      0.000446  \n",
              "std_score_time                        0.00003  \n",
              "param_C                                 0.001  \n",
              "param_gamma                                10  \n",
              "params              {'C': 0.001, 'gamma': 10}  \n",
              "split0_test_score                    0.347826  \n",
              "split1_test_score                    0.347826  \n",
              "split2_test_score                    0.363636  \n",
              "split3_test_score                    0.363636  \n",
              "split4_test_score                    0.409091  \n",
              "mean_test_score                      0.366403  \n",
              "std_test_score                       0.022485  \n",
              "rank_test_score                            22  \n",
              "split0_train_score                   0.370787  \n",
              "split1_train_score                   0.370787  \n",
              "split2_train_score                   0.366667  \n",
              "split3_train_score                   0.366667  \n",
              "split4_train_score                   0.355556  \n",
              "mean_train_score                     0.366092  \n",
              "std_train_score                      0.005581  "
            ],
            "text/html": [
              "\n",
              "  <div id=\"df-ac1614c8-b40b-4039-9c89-1c2fbd1b989f\">\n",
              "    <div class=\"colab-df-container\">\n",
              "      <div>\n",
              "<style scoped>\n",
              "    .dataframe tbody tr th:only-of-type {\n",
              "        vertical-align: middle;\n",
              "    }\n",
              "\n",
              "    .dataframe tbody tr th {\n",
              "        vertical-align: top;\n",
              "    }\n",
              "\n",
              "    .dataframe thead th {\n",
              "        text-align: right;\n",
              "    }\n",
              "</style>\n",
              "<table border=\"1\" class=\"dataframe\">\n",
              "  <thead>\n",
              "    <tr style=\"text-align: right;\">\n",
              "      <th></th>\n",
              "      <th>0</th>\n",
              "      <th>1</th>\n",
              "      <th>2</th>\n",
              "      <th>3</th>\n",
              "      <th>4</th>\n",
              "    </tr>\n",
              "  </thead>\n",
              "  <tbody>\n",
              "    <tr>\n",
              "      <th>mean_fit_time</th>\n",
              "      <td>0.001548</td>\n",
              "      <td>0.001079</td>\n",
              "      <td>0.001067</td>\n",
              "      <td>0.001031</td>\n",
              "      <td>0.001085</td>\n",
              "    </tr>\n",
              "    <tr>\n",
              "      <th>std_fit_time</th>\n",
              "      <td>0.000256</td>\n",
              "      <td>0.000014</td>\n",
              "      <td>0.000017</td>\n",
              "      <td>0.000004</td>\n",
              "      <td>0.000065</td>\n",
              "    </tr>\n",
              "    <tr>\n",
              "      <th>mean_score_time</th>\n",
              "      <td>0.000628</td>\n",
              "      <td>0.00044</td>\n",
              "      <td>0.000425</td>\n",
              "      <td>0.000426</td>\n",
              "      <td>0.000446</td>\n",
              "    </tr>\n",
              "    <tr>\n",
              "      <th>std_score_time</th>\n",
              "      <td>0.000113</td>\n",
              "      <td>0.00001</td>\n",
              "      <td>0.000011</td>\n",
              "      <td>0.000015</td>\n",
              "      <td>0.00003</td>\n",
              "    </tr>\n",
              "    <tr>\n",
              "      <th>param_C</th>\n",
              "      <td>0.001</td>\n",
              "      <td>0.001</td>\n",
              "      <td>0.001</td>\n",
              "      <td>0.001</td>\n",
              "      <td>0.001</td>\n",
              "    </tr>\n",
              "    <tr>\n",
              "      <th>param_gamma</th>\n",
              "      <td>0.001</td>\n",
              "      <td>0.01</td>\n",
              "      <td>0.1</td>\n",
              "      <td>1</td>\n",
              "      <td>10</td>\n",
              "    </tr>\n",
              "    <tr>\n",
              "      <th>params</th>\n",
              "      <td>{'C': 0.001, 'gamma': 0.001}</td>\n",
              "      <td>{'C': 0.001, 'gamma': 0.01}</td>\n",
              "      <td>{'C': 0.001, 'gamma': 0.1}</td>\n",
              "      <td>{'C': 0.001, 'gamma': 1}</td>\n",
              "      <td>{'C': 0.001, 'gamma': 10}</td>\n",
              "    </tr>\n",
              "    <tr>\n",
              "      <th>split0_test_score</th>\n",
              "      <td>0.347826</td>\n",
              "      <td>0.347826</td>\n",
              "      <td>0.347826</td>\n",
              "      <td>0.347826</td>\n",
              "      <td>0.347826</td>\n",
              "    </tr>\n",
              "    <tr>\n",
              "      <th>split1_test_score</th>\n",
              "      <td>0.347826</td>\n",
              "      <td>0.347826</td>\n",
              "      <td>0.347826</td>\n",
              "      <td>0.347826</td>\n",
              "      <td>0.347826</td>\n",
              "    </tr>\n",
              "    <tr>\n",
              "      <th>split2_test_score</th>\n",
              "      <td>0.363636</td>\n",
              "      <td>0.363636</td>\n",
              "      <td>0.363636</td>\n",
              "      <td>0.363636</td>\n",
              "      <td>0.363636</td>\n",
              "    </tr>\n",
              "    <tr>\n",
              "      <th>split3_test_score</th>\n",
              "      <td>0.363636</td>\n",
              "      <td>0.363636</td>\n",
              "      <td>0.363636</td>\n",
              "      <td>0.363636</td>\n",
              "      <td>0.363636</td>\n",
              "    </tr>\n",
              "    <tr>\n",
              "      <th>split4_test_score</th>\n",
              "      <td>0.409091</td>\n",
              "      <td>0.409091</td>\n",
              "      <td>0.409091</td>\n",
              "      <td>0.409091</td>\n",
              "      <td>0.409091</td>\n",
              "    </tr>\n",
              "    <tr>\n",
              "      <th>mean_test_score</th>\n",
              "      <td>0.366403</td>\n",
              "      <td>0.366403</td>\n",
              "      <td>0.366403</td>\n",
              "      <td>0.366403</td>\n",
              "      <td>0.366403</td>\n",
              "    </tr>\n",
              "    <tr>\n",
              "      <th>std_test_score</th>\n",
              "      <td>0.022485</td>\n",
              "      <td>0.022485</td>\n",
              "      <td>0.022485</td>\n",
              "      <td>0.022485</td>\n",
              "      <td>0.022485</td>\n",
              "    </tr>\n",
              "    <tr>\n",
              "      <th>rank_test_score</th>\n",
              "      <td>22</td>\n",
              "      <td>22</td>\n",
              "      <td>22</td>\n",
              "      <td>22</td>\n",
              "      <td>22</td>\n",
              "    </tr>\n",
              "    <tr>\n",
              "      <th>split0_train_score</th>\n",
              "      <td>0.370787</td>\n",
              "      <td>0.370787</td>\n",
              "      <td>0.370787</td>\n",
              "      <td>0.370787</td>\n",
              "      <td>0.370787</td>\n",
              "    </tr>\n",
              "    <tr>\n",
              "      <th>split1_train_score</th>\n",
              "      <td>0.370787</td>\n",
              "      <td>0.370787</td>\n",
              "      <td>0.370787</td>\n",
              "      <td>0.370787</td>\n",
              "      <td>0.370787</td>\n",
              "    </tr>\n",
              "    <tr>\n",
              "      <th>split2_train_score</th>\n",
              "      <td>0.366667</td>\n",
              "      <td>0.366667</td>\n",
              "      <td>0.366667</td>\n",
              "      <td>0.366667</td>\n",
              "      <td>0.366667</td>\n",
              "    </tr>\n",
              "    <tr>\n",
              "      <th>split3_train_score</th>\n",
              "      <td>0.366667</td>\n",
              "      <td>0.366667</td>\n",
              "      <td>0.366667</td>\n",
              "      <td>0.366667</td>\n",
              "      <td>0.366667</td>\n",
              "    </tr>\n",
              "    <tr>\n",
              "      <th>split4_train_score</th>\n",
              "      <td>0.355556</td>\n",
              "      <td>0.355556</td>\n",
              "      <td>0.355556</td>\n",
              "      <td>0.355556</td>\n",
              "      <td>0.355556</td>\n",
              "    </tr>\n",
              "    <tr>\n",
              "      <th>mean_train_score</th>\n",
              "      <td>0.366092</td>\n",
              "      <td>0.366092</td>\n",
              "      <td>0.366092</td>\n",
              "      <td>0.366092</td>\n",
              "      <td>0.366092</td>\n",
              "    </tr>\n",
              "    <tr>\n",
              "      <th>std_train_score</th>\n",
              "      <td>0.005581</td>\n",
              "      <td>0.005581</td>\n",
              "      <td>0.005581</td>\n",
              "      <td>0.005581</td>\n",
              "      <td>0.005581</td>\n",
              "    </tr>\n",
              "  </tbody>\n",
              "</table>\n",
              "</div>\n",
              "      <button class=\"colab-df-convert\" onclick=\"convertToInteractive('df-ac1614c8-b40b-4039-9c89-1c2fbd1b989f')\"\n",
              "              title=\"Convert this dataframe to an interactive table.\"\n",
              "              style=\"display:none;\">\n",
              "        \n",
              "  <svg xmlns=\"http://www.w3.org/2000/svg\" height=\"24px\"viewBox=\"0 0 24 24\"\n",
              "       width=\"24px\">\n",
              "    <path d=\"M0 0h24v24H0V0z\" fill=\"none\"/>\n",
              "    <path d=\"M18.56 5.44l.94 2.06.94-2.06 2.06-.94-2.06-.94-.94-2.06-.94 2.06-2.06.94zm-11 1L8.5 8.5l.94-2.06 2.06-.94-2.06-.94L8.5 2.5l-.94 2.06-2.06.94zm10 10l.94 2.06.94-2.06 2.06-.94-2.06-.94-.94-2.06-.94 2.06-2.06.94z\"/><path d=\"M17.41 7.96l-1.37-1.37c-.4-.4-.92-.59-1.43-.59-.52 0-1.04.2-1.43.59L10.3 9.45l-7.72 7.72c-.78.78-.78 2.05 0 2.83L4 21.41c.39.39.9.59 1.41.59.51 0 1.02-.2 1.41-.59l7.78-7.78 2.81-2.81c.8-.78.8-2.07 0-2.86zM5.41 20L4 18.59l7.72-7.72 1.47 1.35L5.41 20z\"/>\n",
              "  </svg>\n",
              "      </button>\n",
              "      \n",
              "  <style>\n",
              "    .colab-df-container {\n",
              "      display:flex;\n",
              "      flex-wrap:wrap;\n",
              "      gap: 12px;\n",
              "    }\n",
              "\n",
              "    .colab-df-convert {\n",
              "      background-color: #E8F0FE;\n",
              "      border: none;\n",
              "      border-radius: 50%;\n",
              "      cursor: pointer;\n",
              "      display: none;\n",
              "      fill: #1967D2;\n",
              "      height: 32px;\n",
              "      padding: 0 0 0 0;\n",
              "      width: 32px;\n",
              "    }\n",
              "\n",
              "    .colab-df-convert:hover {\n",
              "      background-color: #E2EBFA;\n",
              "      box-shadow: 0px 1px 2px rgba(60, 64, 67, 0.3), 0px 1px 3px 1px rgba(60, 64, 67, 0.15);\n",
              "      fill: #174EA6;\n",
              "    }\n",
              "\n",
              "    [theme=dark] .colab-df-convert {\n",
              "      background-color: #3B4455;\n",
              "      fill: #D2E3FC;\n",
              "    }\n",
              "\n",
              "    [theme=dark] .colab-df-convert:hover {\n",
              "      background-color: #434B5C;\n",
              "      box-shadow: 0px 1px 3px 1px rgba(0, 0, 0, 0.15);\n",
              "      filter: drop-shadow(0px 1px 2px rgba(0, 0, 0, 0.3));\n",
              "      fill: #FFFFFF;\n",
              "    }\n",
              "  </style>\n",
              "\n",
              "      <script>\n",
              "        const buttonEl =\n",
              "          document.querySelector('#df-ac1614c8-b40b-4039-9c89-1c2fbd1b989f button.colab-df-convert');\n",
              "        buttonEl.style.display =\n",
              "          google.colab.kernel.accessAllowed ? 'block' : 'none';\n",
              "\n",
              "        async function convertToInteractive(key) {\n",
              "          const element = document.querySelector('#df-ac1614c8-b40b-4039-9c89-1c2fbd1b989f');\n",
              "          const dataTable =\n",
              "            await google.colab.kernel.invokeFunction('convertToInteractive',\n",
              "                                                     [key], {});\n",
              "          if (!dataTable) return;\n",
              "\n",
              "          const docLinkHtml = 'Like what you see? Visit the ' +\n",
              "            '<a target=\"_blank\" href=https://colab.research.google.com/notebooks/data_table.ipynb>data table notebook</a>'\n",
              "            + ' to learn more about interactive tables.';\n",
              "          element.innerHTML = '';\n",
              "          dataTable['output_type'] = 'display_data';\n",
              "          await google.colab.output.renderOutput(dataTable, element);\n",
              "          const docLink = document.createElement('div');\n",
              "          docLink.innerHTML = docLinkHtml;\n",
              "          element.appendChild(docLink);\n",
              "        }\n",
              "      </script>\n",
              "    </div>\n",
              "  </div>\n",
              "  "
            ]
          },
          "metadata": {},
          "execution_count": 27
        }
      ]
    },
    {
      "cell_type": "markdown",
      "metadata": {
        "id": "yqNbSStBck4V"
      },
      "source": [
        "### C와 gamma 시각화\n",
        "\n",
        " "
      ]
    },
    {
      "cell_type": "code",
      "metadata": {
        "id": "1n1od7iJcmcG",
        "colab": {
          "base_uri": "https://localhost:8080/",
          "height": 297
        },
        "outputId": "388a8921-7498-4962-f65b-537a2610651a"
      },
      "source": [
        "import mglearn\n",
        "\n",
        "# 교차 검증 평균 점수 히트맵 그래프\n",
        "scores = np.array(df.mean_test_score).reshape(6, 6)\n",
        "mglearn.tools.heatmap(scores, xlabel = 'gamma',xticklabels=param_grid['gamma'] ,\n",
        "                      ylabel = 'C', yticklabels=param_grid['C'])"
      ],
      "execution_count": 28,
      "outputs": [
        {
          "output_type": "execute_result",
          "data": {
            "text/plain": [
              "<matplotlib.collections.PolyCollection at 0x7fd73cf44450>"
            ]
          },
          "metadata": {},
          "execution_count": 28
        },
        {
          "output_type": "display_data",
          "data": {
            "text/plain": [
              "<Figure size 432x288 with 1 Axes>"
            ],
            "image/png": "[encoded data removed]"
          },
          "metadata": {
            "needs_background": "light"
          }
        }
      ]
    },
    {
      "cell_type": "markdown",
      "metadata": {
        "id": "wpfsIdDXdMbP"
      },
      "source": [
        "### 바람직하지 못한 예\n",
        "\n",
        "- 검색 범위가 적절하게 선택되지 않은 경우"
      ]
    },
    {
      "cell_type": "code",
      "metadata": {
        "id": "33StzRe8dKNl"
      },
      "source": [
        "import matplotlib.pyplot as plt\n"
      ],
      "execution_count": 29,
      "outputs": []
    },
    {
      "cell_type": "markdown",
      "source": [
        "## 랜덤 서치 (RandomizedSearchCV)\n",
        "\n",
        "- 기본적으로 10개의 하이퍼파라미터 조합을 선택\n",
        "- GridSearchCV가 탐색할 하이퍼파라미터 조합이 너무 많아 적용하기 힘들 때 사용"
      ],
      "metadata": {
        "id": "6dd8X-xsX5sP"
      }
    },
    {
      "cell_type": "code",
      "source": [
        "# 심장 질환 데이터셋\n",
        "import pandas as pd\n",
        "df = pd.read_csv(drive_path + 'heart_disease.csv')\n",
        "df.head(3)"
      ],
      "metadata": {
        "id": "YaWOcCg0X8gc",
        "colab": {
          "base_uri": "https://localhost:8080/",
          "height": 143
        },
        "outputId": "f421b2f4-4ca6-4b32-883b-f4ed8e263756"
      },
      "execution_count": 30,
      "outputs": [
        {
          "output_type": "execute_result",
          "data": {
            "text/plain": [
              "   age  sex  cp  trestbps  chol  fbs  restecg  thalach  exang  oldpeak  slope  \\\n",
              "0   63    1   3       145   233    1        0      150      0      2.3      0   \n",
              "1   37    1   2       130   250    0        1      187      0      3.5      0   \n",
              "2   41    0   1       130   204    0        0      172      0      1.4      2   \n",
              "\n",
              "   ca  thal  target  \n",
              "0   0     1       1  \n",
              "1   0     2       1  \n",
              "2   0     2       1  "
            ],
            "text/html": [
              "\n",
              "  <div id=\"df-13d48cf3-ca6d-43e5-87f4-cca87d3acfc3\">\n",
              "    <div class=\"colab-df-container\">\n",
              "      <div>\n",
              "<style scoped>\n",
              "    .dataframe tbody tr th:only-of-type {\n",
              "        vertical-align: middle;\n",
              "    }\n",
              "\n",
              "    .dataframe tbody tr th {\n",
              "        vertical-align: top;\n",
              "    }\n",
              "\n",
              "    .dataframe thead th {\n",
              "        text-align: right;\n",
              "    }\n",
              "</style>\n",
              "<table border=\"1\" class=\"dataframe\">\n",
              "  <thead>\n",
              "    <tr style=\"text-align: right;\">\n",
              "      <th></th>\n",
              "      <th>age</th>\n",
              "      <th>sex</th>\n",
              "      <th>cp</th>\n",
              "      <th>trestbps</th>\n",
              "      <th>chol</th>\n",
              "      <th>fbs</th>\n",
              "      <th>restecg</th>\n",
              "      <th>thalach</th>\n",
              "      <th>exang</th>\n",
              "      <th>oldpeak</th>\n",
              "      <th>slope</th>\n",
              "      <th>ca</th>\n",
              "      <th>thal</th>\n",
              "      <th>target</th>\n",
              "    </tr>\n",
              "  </thead>\n",
              "  <tbody>\n",
              "    <tr>\n",
              "      <th>0</th>\n",
              "      <td>63</td>\n",
              "      <td>1</td>\n",
              "      <td>3</td>\n",
              "      <td>145</td>\n",
              "      <td>233</td>\n",
              "      <td>1</td>\n",
              "      <td>0</td>\n",
              "      <td>150</td>\n",
              "      <td>0</td>\n",
              "      <td>2.3</td>\n",
              "      <td>0</td>\n",
              "      <td>0</td>\n",
              "      <td>1</td>\n",
              "      <td>1</td>\n",
              "    </tr>\n",
              "    <tr>\n",
              "      <th>1</th>\n",
              "      <td>37</td>\n",
              "      <td>1</td>\n",
              "      <td>2</td>\n",
              "      <td>130</td>\n",
              "      <td>250</td>\n",
              "      <td>0</td>\n",
              "      <td>1</td>\n",
              "      <td>187</td>\n",
              "      <td>0</td>\n",
              "      <td>3.5</td>\n",
              "      <td>0</td>\n",
              "      <td>0</td>\n",
              "      <td>2</td>\n",
              "      <td>1</td>\n",
              "    </tr>\n",
              "    <tr>\n",
              "      <th>2</th>\n",
              "      <td>41</td>\n",
              "      <td>0</td>\n",
              "      <td>1</td>\n",
              "      <td>130</td>\n",
              "      <td>204</td>\n",
              "      <td>0</td>\n",
              "      <td>0</td>\n",
              "      <td>172</td>\n",
              "      <td>0</td>\n",
              "      <td>1.4</td>\n",
              "      <td>2</td>\n",
              "      <td>0</td>\n",
              "      <td>2</td>\n",
              "      <td>1</td>\n",
              "    </tr>\n",
              "  </tbody>\n",
              "</table>\n",
              "</div>\n",
              "      <button class=\"colab-df-convert\" onclick=\"convertToInteractive('df-13d48cf3-ca6d-43e5-87f4-cca87d3acfc3')\"\n",
              "              title=\"Convert this dataframe to an interactive table.\"\n",
              "              style=\"display:none;\">\n",
              "        \n",
              "  <svg xmlns=\"http://www.w3.org/2000/svg\" height=\"24px\"viewBox=\"0 0 24 24\"\n",
              "       width=\"24px\">\n",
              "    <path d=\"M0 0h24v24H0V0z\" fill=\"none\"/>\n",
              "    <path d=\"M18.56 5.44l.94 2.06.94-2.06 2.06-.94-2.06-.94-.94-2.06-.94 2.06-2.06.94zm-11 1L8.5 8.5l.94-2.06 2.06-.94-2.06-.94L8.5 2.5l-.94 2.06-2.06.94zm10 10l.94 2.06.94-2.06 2.06-.94-2.06-.94-.94-2.06-.94 2.06-2.06.94z\"/><path d=\"M17.41 7.96l-1.37-1.37c-.4-.4-.92-.59-1.43-.59-.52 0-1.04.2-1.43.59L10.3 9.45l-7.72 7.72c-.78.78-.78 2.05 0 2.83L4 21.41c.39.39.9.59 1.41.59.51 0 1.02-.2 1.41-.59l7.78-7.78 2.81-2.81c.8-.78.8-2.07 0-2.86zM5.41 20L4 18.59l7.72-7.72 1.47 1.35L5.41 20z\"/>\n",
              "  </svg>\n",
              "      </button>\n",
              "      \n",
              "  <style>\n",
              "    .colab-df-container {\n",
              "      display:flex;\n",
              "      flex-wrap:wrap;\n",
              "      gap: 12px;\n",
              "    }\n",
              "\n",
              "    .colab-df-convert {\n",
              "      background-color: #E8F0FE;\n",
              "      border: none;\n",
              "      border-radius: 50%;\n",
              "      cursor: pointer;\n",
              "      display: none;\n",
              "      fill: #1967D2;\n",
              "      height: 32px;\n",
              "      padding: 0 0 0 0;\n",
              "      width: 32px;\n",
              "    }\n",
              "\n",
              "    .colab-df-convert:hover {\n",
              "      background-color: #E2EBFA;\n",
              "      box-shadow: 0px 1px 2px rgba(60, 64, 67, 0.3), 0px 1px 3px 1px rgba(60, 64, 67, 0.15);\n",
              "      fill: #174EA6;\n",
              "    }\n",
              "\n",
              "    [theme=dark] .colab-df-convert {\n",
              "      background-color: #3B4455;\n",
              "      fill: #D2E3FC;\n",
              "    }\n",
              "\n",
              "    [theme=dark] .colab-df-convert:hover {\n",
              "      background-color: #434B5C;\n",
              "      box-shadow: 0px 1px 3px 1px rgba(0, 0, 0, 0.15);\n",
              "      filter: drop-shadow(0px 1px 2px rgba(0, 0, 0, 0.3));\n",
              "      fill: #FFFFFF;\n",
              "    }\n",
              "  </style>\n",
              "\n",
              "      <script>\n",
              "        const buttonEl =\n",
              "          document.querySelector('#df-13d48cf3-ca6d-43e5-87f4-cca87d3acfc3 button.colab-df-convert');\n",
              "        buttonEl.style.display =\n",
              "          google.colab.kernel.accessAllowed ? 'block' : 'none';\n",
              "\n",
              "        async function convertToInteractive(key) {\n",
              "          const element = document.querySelector('#df-13d48cf3-ca6d-43e5-87f4-cca87d3acfc3');\n",
              "          const dataTable =\n",
              "            await google.colab.kernel.invokeFunction('convertToInteractive',\n",
              "                                                     [key], {});\n",
              "          if (!dataTable) return;\n",
              "\n",
              "          const docLinkHtml = 'Like what you see? Visit the ' +\n",
              "            '<a target=\"_blank\" href=https://colab.research.google.com/notebooks/data_table.ipynb>data table notebook</a>'\n",
              "            + ' to learn more about interactive tables.';\n",
              "          element.innerHTML = '';\n",
              "          dataTable['output_type'] = 'display_data';\n",
              "          await google.colab.output.renderOutput(dataTable, element);\n",
              "          const docLink = document.createElement('div');\n",
              "          docLink.innerHTML = docLinkHtml;\n",
              "          element.appendChild(docLink);\n",
              "        }\n",
              "      </script>\n",
              "    </div>\n",
              "  </div>\n",
              "  "
            ]
          },
          "metadata": {},
          "execution_count": 30
        }
      ]
    },
    {
      "cell_type": "code",
      "source": [
        "df.info()"
      ],
      "metadata": {
        "id": "dU8A3388X_RS",
        "colab": {
          "base_uri": "https://localhost:8080/"
        },
        "outputId": "4d7faf94-fdfe-443f-e9a0-3fba5d437861"
      },
      "execution_count": 31,
      "outputs": [
        {
          "output_type": "stream",
          "name": "stdout",
          "text": [
            "<class 'pandas.core.frame.DataFrame'>\n",
            "RangeIndex: 303 entries, 0 to 302\n",
            "Data columns (total 14 columns):\n",
            " #   Column    Non-Null Count  Dtype  \n",
            "---  ------    --------------  -----  \n",
            " 0   age       303 non-null    int64  \n",
            " 1   sex       303 non-null    int64  \n",
            " 2   cp        303 non-null    int64  \n",
            " 3   trestbps  303 non-null    int64  \n",
            " 4   chol      303 non-null    int64  \n",
            " 5   fbs       303 non-null    int64  \n",
            " 6   restecg   303 non-null    int64  \n",
            " 7   thalach   303 non-null    int64  \n",
            " 8   exang     303 non-null    int64  \n",
            " 9   oldpeak   303 non-null    float64\n",
            " 10  slope     303 non-null    int64  \n",
            " 11  ca        303 non-null    int64  \n",
            " 12  thal      303 non-null    int64  \n",
            " 13  target    303 non-null    int64  \n",
            "dtypes: float64(1), int64(13)\n",
            "memory usage: 33.3 KB\n"
          ]
        }
      ]
    },
    {
      "cell_type": "code",
      "source": [
        "X = df.iloc[:, :-1]\n",
        "y = df.iloc[:, -1]\n",
        "X.shape, y.shape"
      ],
      "metadata": {
        "colab": {
          "base_uri": "https://localhost:8080/"
        },
        "id": "K1lyTm_m-VwA",
        "outputId": "119460f5-7af4-4741-a65a-fee024c86197"
      },
      "execution_count": 32,
      "outputs": [
        {
          "output_type": "execute_result",
          "data": {
            "text/plain": [
              "((303, 13), (303,))"
            ]
          },
          "metadata": {},
          "execution_count": 32
        }
      ]
    },
    {
      "cell_type": "code",
      "source": [
        "from xgboost import XGBClassifier\n",
        "from sklearn.model_selection import GridSearchCV, RandomizedSearchCV\n",
        "\n",
        "xgb = XGBClassifier(randmo_state =0, verbosity=0)\n",
        "\n",
        "kfold = StratifiedKFold(n_splits=5, shuffle=True, random_state=0)"
      ],
      "metadata": {
        "id": "6C4vTxtT-hfw"
      },
      "execution_count": 33,
      "outputs": []
    },
    {
      "cell_type": "code",
      "source": [
        "params = {'n_estimators' : [ 100, 200, 400, 800] }"
      ],
      "metadata": {
        "id": "f5eJqfvC_Xzz"
      },
      "execution_count": null,
      "outputs": []
    },
    {
      "cell_type": "code",
      "source": [
        "# RandomizedSearchCV\n",
        "grid = RandomizedSearchCV(xgb, params, cv=kfold,n_iter=20, random_state=0)\n",
        "\n",
        "grid.fit(X,y) # X와 y에서 하이퍼파라미터 튜닝을 수행\n",
        "print( '최상의 매개변수 : ',  grid.best_params_)\n",
        "print('최상의 점수 : ', np.round(grid.best_score_,5) )"
      ],
      "metadata": {
        "colab": {
          "base_uri": "https://localhost:8080/"
        },
        "id": "yE0clMwz_eLb",
        "outputId": "3bd5f5dd-6d7f-4483-d842-ba7034839a13"
      },
      "execution_count": null,
      "outputs": [
        {
          "output_type": "stream",
          "name": "stdout",
          "text": [
            "최상의 매개변수 :  {'n_estimators': 100}\n",
            "최상의 점수 :  0.79885\n"
          ]
        }
      ]
    },
    {
      "cell_type": "code",
      "source": [
        "# GridSearchCV\n",
        "grid = GridSearchCV(xgb, params, cv=kfold)\n",
        "\n",
        "grid.fit(X,y) # X와 y에서 하이퍼파라미터 튜닝을 수행\n",
        "print( '최상의 매개변수 : ',  grid.best_params_)\n",
        "print('최상의 점수 : ',  np.round(grid.best_score_,5))"
      ],
      "metadata": {
        "colab": {
          "base_uri": "https://localhost:8080/"
        },
        "id": "56mn8YMHAYp_",
        "outputId": "f8e97784-f3ad-430b-bf08-d12719d8db53"
      },
      "execution_count": null,
      "outputs": [
        {
          "output_type": "stream",
          "name": "stdout",
          "text": [
            "최상의 매개변수 :  {'n_estimators': 100}\n",
            "최상의 점수 :  0.79885\n"
          ]
        }
      ]
    },
    {
      "cell_type": "code",
      "source": [
        "def grid_search(params, random=False):\n",
        "  xgb = XGBClassifier(random_state=0, verbosity=0)\n",
        "  kfold = StratifiedKFold(n_splits=5, shuffle=True, random_state=0)\n",
        "  if random:\n",
        "    grid = RandomizedSearchCV(xgb, params, cv=kfold, n_iter=20, random_state=0)\n",
        "  else:\n",
        "    grid = GridSearchCV(xgb, params, cv=kfold)\n",
        "\n",
        "  grid.fit(X, y)     # X와 y에서 하이퍼파라미터 튜닝을 수행\n",
        "  print('최상의 매개변수:', grid.best_params_ )\n",
        "  print('최상의 점수:', np.round(grid.best_score_, 5))"
      ],
      "metadata": {
        "id": "HXda7icFA55K"
      },
      "execution_count": null,
      "outputs": []
    },
    {
      "cell_type": "markdown",
      "source": [
        "XGBoost 하이퍼파라미터 튜닝"
      ],
      "metadata": {
        "id": "FLUjgfSnYAP6"
      }
    },
    {
      "cell_type": "code",
      "source": [
        "grid_search(params={'n_estimators': [100, 200, 400, 800] })"
      ],
      "metadata": {
        "id": "SvIDDt5jYA1y",
        "colab": {
          "base_uri": "https://localhost:8080/"
        },
        "outputId": "928e9581-16d9-4151-d4b8-8b5770fbc37a"
      },
      "execution_count": null,
      "outputs": [
        {
          "output_type": "stream",
          "name": "stdout",
          "text": [
            "최상의 매개변수: {'n_estimators': 100}\n",
            "최상의 점수: 0.79885\n"
          ]
        }
      ]
    },
    {
      "cell_type": "code",
      "source": [
        "grid_search(params={'learning_rate': [0.007, 0.01, 0.05, 0.1, 0.2, 0.3, 0.4, 0.5] })"
      ],
      "metadata": {
        "colab": {
          "base_uri": "https://localhost:8080/"
        },
        "id": "wBxnNEoZCC-Z",
        "outputId": "3e30b350-ce1a-4054-eb71-c910c87bc102"
      },
      "execution_count": null,
      "outputs": [
        {
          "output_type": "stream",
          "name": "stdout",
          "text": [
            "최상의 매개변수: {'learning_rate': 0.01}\n",
            "최상의 점수: 0.81514\n"
          ]
        }
      ]
    },
    {
      "cell_type": "code",
      "source": [
        "grid_search(params={'max_depth': [1, 2, 3, 5, 6, 8] })"
      ],
      "metadata": {
        "colab": {
          "base_uri": "https://localhost:8080/"
        },
        "id": "kh2eax9UCPRK",
        "outputId": "e923c908-1dbd-441b-e8f1-8e883cd241a2"
      },
      "execution_count": null,
      "outputs": [
        {
          "output_type": "stream",
          "name": "stdout",
          "text": [
            "최상의 매개변수: {'max_depth': 1}\n",
            "최상의 점수: 0.82492\n"
          ]
        }
      ]
    },
    {
      "cell_type": "code",
      "source": [
        "grid_search(params={'gamma': [0, 0.01, 0.1, 0.5, 1, 2, 3, 4] })"
      ],
      "metadata": {
        "colab": {
          "base_uri": "https://localhost:8080/"
        },
        "id": "5R_nyRqCCbxK",
        "outputId": "f104dc7e-3360-48ff-bd75-47966ae9e40b"
      },
      "execution_count": null,
      "outputs": [
        {
          "output_type": "stream",
          "name": "stdout",
          "text": [
            "최상의 매개변수: {'gamma': 4}\n",
            "최상의 점수: 0.81514\n"
          ]
        }
      ]
    },
    {
      "cell_type": "code",
      "source": [
        "grid_search(params={'subsample': [0.5, 0.6, 0.7, 0.8, 0.9, 1] })"
      ],
      "metadata": {
        "colab": {
          "base_uri": "https://localhost:8080/"
        },
        "id": "x4JYOvD1CnVm",
        "outputId": "6307dd33-55a0-43b0-e964-61522dcd0fbb"
      },
      "execution_count": null,
      "outputs": [
        {
          "output_type": "stream",
          "name": "stdout",
          "text": [
            "최상의 매개변수: {'subsample': 0.8}\n",
            "최상의 점수: 0.82842\n"
          ]
        }
      ]
    },
    {
      "cell_type": "markdown",
      "source": [
        "최종 (조기종료 적용)"
      ],
      "metadata": {
        "id": "JucLxLKnYCxJ"
      }
    },
    {
      "cell_type": "code",
      "source": [
        "grid_search(params={'n_estimators': [100, 200, 400, 800],\n",
        "                    'learning_rate': [0.007, 0.01, 0.05, 0.1, 0.2, 0.3, 0.4, 0.5] ,\n",
        "                    'max_depth': [1, 2, 3, 5, 6, 8],\n",
        "                    'gamma': [0, 0.01, 0.1, 0.5, 1, 2, 3, 4] ,\n",
        "                    'subsample': [0.5, 0.6, 0.7, 0.8, 0.9, 1]\n",
        "                    }, random = True)"
      ],
      "metadata": {
        "id": "bio4EIPsYDJJ",
        "colab": {
          "base_uri": "https://localhost:8080/"
        },
        "outputId": "b994271d-390e-45be-9398-edd2383489dd"
      },
      "execution_count": null,
      "outputs": [
        {
          "output_type": "stream",
          "name": "stdout",
          "text": [
            "최상의 매개변수: {'subsample': 0.5, 'n_estimators': 800, 'max_depth': 6, 'learning_rate': 0.007, 'gamma': 2}\n",
            "최상의 점수: 0.83497\n"
          ]
        }
      ]
    },
    {
      "cell_type": "code",
      "source": [
        "params = {'subsample': 0.5, 'n_estimators': 800, 'max_depth': 6, \n",
        "          'learning_rate': 0.007, 'gamma': 2}"
      ],
      "metadata": {
        "id": "J3Fhwui5F5nf"
      },
      "execution_count": 35,
      "outputs": []
    },
    {
      "cell_type": "code",
      "source": [
        "from sklearn.metrics import accuracy_score\n",
        "\n",
        "X_train, X_test, y_train, y_test = train_test_split(X,y,random_state=0)\n",
        "\n",
        "model = XGBClassifier(params=params)\n",
        "\n",
        "eval_set = [ (X_test, y_test) ]\n",
        "model.fit(X_train, y_train,\n",
        "          eval_set = eval_set,\n",
        "          eval_metric = 'error' )\n",
        "\n",
        "y_pred = model.predict(X_test)\n",
        "acc = accuracy_score(y_test, y_pred)\n",
        "print( '정확도 : ', acc)\n",
        "\n",
        "model.score(X_test, y_test)"
      ],
      "metadata": {
        "colab": {
          "base_uri": "https://localhost:8080/"
        },
        "id": "O7Ug0aYPF_aX",
        "outputId": "6beede09-174e-4b14-df44-570f6f5a9c7a"
      },
      "execution_count": 36,
      "outputs": [
        {
          "output_type": "stream",
          "name": "stdout",
          "text": [
            "[0]\tvalidation_0-error:0.171053\n",
            "[1]\tvalidation_0-error:0.171053\n",
            "[2]\tvalidation_0-error:0.171053\n",
            "[3]\tvalidation_0-error:0.171053\n",
            "[4]\tvalidation_0-error:0.171053\n",
            "[5]\tvalidation_0-error:0.171053\n",
            "[6]\tvalidation_0-error:0.184211\n",
            "[7]\tvalidation_0-error:0.171053\n",
            "[8]\tvalidation_0-error:0.171053\n",
            "[9]\tvalidation_0-error:0.171053\n",
            "[10]\tvalidation_0-error:0.184211\n",
            "[11]\tvalidation_0-error:0.184211\n",
            "[12]\tvalidation_0-error:0.184211\n",
            "[13]\tvalidation_0-error:0.184211\n",
            "[14]\tvalidation_0-error:0.184211\n",
            "[15]\tvalidation_0-error:0.184211\n",
            "[16]\tvalidation_0-error:0.184211\n",
            "[17]\tvalidation_0-error:0.184211\n",
            "[18]\tvalidation_0-error:0.197368\n",
            "[19]\tvalidation_0-error:0.197368\n",
            "[20]\tvalidation_0-error:0.184211\n",
            "[21]\tvalidation_0-error:0.197368\n",
            "[22]\tvalidation_0-error:0.197368\n",
            "[23]\tvalidation_0-error:0.184211\n",
            "[24]\tvalidation_0-error:0.184211\n",
            "[25]\tvalidation_0-error:0.184211\n",
            "[26]\tvalidation_0-error:0.197368\n",
            "[27]\tvalidation_0-error:0.197368\n",
            "[28]\tvalidation_0-error:0.197368\n",
            "[29]\tvalidation_0-error:0.197368\n",
            "[30]\tvalidation_0-error:0.197368\n",
            "[31]\tvalidation_0-error:0.197368\n",
            "[32]\tvalidation_0-error:0.197368\n",
            "[33]\tvalidation_0-error:0.197368\n",
            "[34]\tvalidation_0-error:0.197368\n",
            "[35]\tvalidation_0-error:0.197368\n",
            "[36]\tvalidation_0-error:0.184211\n",
            "[37]\tvalidation_0-error:0.184211\n",
            "[38]\tvalidation_0-error:0.184211\n",
            "[39]\tvalidation_0-error:0.184211\n",
            "[40]\tvalidation_0-error:0.184211\n",
            "[41]\tvalidation_0-error:0.184211\n",
            "[42]\tvalidation_0-error:0.184211\n",
            "[43]\tvalidation_0-error:0.184211\n",
            "[44]\tvalidation_0-error:0.184211\n",
            "[45]\tvalidation_0-error:0.184211\n",
            "[46]\tvalidation_0-error:0.184211\n",
            "[47]\tvalidation_0-error:0.184211\n",
            "[48]\tvalidation_0-error:0.171053\n",
            "[49]\tvalidation_0-error:0.171053\n",
            "[50]\tvalidation_0-error:0.171053\n",
            "[51]\tvalidation_0-error:0.171053\n",
            "[52]\tvalidation_0-error:0.171053\n",
            "[53]\tvalidation_0-error:0.171053\n",
            "[54]\tvalidation_0-error:0.171053\n",
            "[55]\tvalidation_0-error:0.184211\n",
            "[56]\tvalidation_0-error:0.184211\n",
            "[57]\tvalidation_0-error:0.171053\n",
            "[58]\tvalidation_0-error:0.171053\n",
            "[59]\tvalidation_0-error:0.171053\n",
            "[60]\tvalidation_0-error:0.171053\n",
            "[61]\tvalidation_0-error:0.171053\n",
            "[62]\tvalidation_0-error:0.171053\n",
            "[63]\tvalidation_0-error:0.171053\n",
            "[64]\tvalidation_0-error:0.171053\n",
            "[65]\tvalidation_0-error:0.171053\n",
            "[66]\tvalidation_0-error:0.171053\n",
            "[67]\tvalidation_0-error:0.171053\n",
            "[68]\tvalidation_0-error:0.171053\n",
            "[69]\tvalidation_0-error:0.171053\n",
            "[70]\tvalidation_0-error:0.171053\n",
            "[71]\tvalidation_0-error:0.171053\n",
            "[72]\tvalidation_0-error:0.171053\n",
            "[73]\tvalidation_0-error:0.171053\n",
            "[74]\tvalidation_0-error:0.171053\n",
            "[75]\tvalidation_0-error:0.171053\n",
            "[76]\tvalidation_0-error:0.171053\n",
            "[77]\tvalidation_0-error:0.171053\n",
            "[78]\tvalidation_0-error:0.171053\n",
            "[79]\tvalidation_0-error:0.171053\n",
            "[80]\tvalidation_0-error:0.171053\n",
            "[81]\tvalidation_0-error:0.171053\n",
            "[82]\tvalidation_0-error:0.171053\n",
            "[83]\tvalidation_0-error:0.171053\n",
            "[84]\tvalidation_0-error:0.171053\n",
            "[85]\tvalidation_0-error:0.171053\n",
            "[86]\tvalidation_0-error:0.171053\n",
            "[87]\tvalidation_0-error:0.171053\n",
            "[88]\tvalidation_0-error:0.171053\n",
            "[89]\tvalidation_0-error:0.171053\n",
            "[90]\tvalidation_0-error:0.171053\n",
            "[91]\tvalidation_0-error:0.171053\n",
            "[92]\tvalidation_0-error:0.171053\n",
            "[93]\tvalidation_0-error:0.171053\n",
            "[94]\tvalidation_0-error:0.171053\n",
            "[95]\tvalidation_0-error:0.171053\n",
            "[96]\tvalidation_0-error:0.171053\n",
            "[97]\tvalidation_0-error:0.171053\n",
            "[98]\tvalidation_0-error:0.171053\n",
            "[99]\tvalidation_0-error:0.171053\n",
            "정확도 :  0.8289473684210527\n"
          ]
        },
        {
          "output_type": "execute_result",
          "data": {
            "text/plain": [
              "0.8289473684210527"
            ]
          },
          "metadata": {},
          "execution_count": 36
        }
      ]
    },
    {
      "cell_type": "markdown",
      "metadata": {
        "id": "7CJVo-SFPKa5"
      },
      "source": [
        "# 모델 평가"
      ]
    },
    {
      "cell_type": "markdown",
      "metadata": {
        "id": "0s854FoWqV1Q"
      },
      "source": [
        "분류의 평가 지표\n",
        "\n",
        "정확도, 오차 행렬, 분류 리포트,\n",
        "정밀도, 재현율, f1_score, 정밀도-재현율 곡선(ROC), AUC"
      ]
    },
    {
      "cell_type": "markdown",
      "metadata": {
        "id": "nR-y7KSxrUf2"
      },
      "source": [
        "## 정확도 (Accuracy)\n",
        "\n",
        "- 실제 데이터에서 에측 데이터가 얼마나 같은지를 판단하는 지표\n",
        "\n",
        " > \\begin{equation}\n",
        "\\text{정확도(Accuracy)} = \\frac{\\text{예측결과가동일한데이터건수}}{\\text{전체예측데이터건수}}\n",
        "\\end{equation}\n",
        "\n",
        "- 직관적으로 모델 예측 성능을 나타내는 평가 지표"
      ]
    },
    {
      "cell_type": "markdown",
      "metadata": {
        "id": "iOLN1FZSshZ8"
      },
      "source": [
        "## 오차행렬 (Confusion Matrix)\n",
        "\n",
        "- 학습된 분류 모델이 예측을 수행하면서 얼마나 혼란스러워(confused) 하고 있는지 함께 보여주는 지표\n",
        "- 예측 오류가 얼마인지와 더불어 어떠한 유형의 예측 오류가 발생하고 있는지를 함께 나타내는 지표\n"
      ]
    },
    {
      "cell_type": "code",
      "metadata": {
        "id": "AP6k09m2yVcZ",
        "colab": {
          "base_uri": "https://localhost:8080/",
          "height": 270
        },
        "outputId": "dcd50db6-4617-408a-b08f-e0fdb821ceb4"
      },
      "source": [
        "mglearn.plots.plot_binary_confusion_matrix()"
      ],
      "execution_count": 37,
      "outputs": [
        {
          "output_type": "display_data",
          "data": {
            "text/plain": [
              "<Figure size 432x288 with 1 Axes>"
            ],
            "image/png": "[encoded data removed]"
          },
          "metadata": {
            "needs_background": "light"
          }
        }
      ]
    },
    {
      "cell_type": "markdown",
      "metadata": {
        "id": "f2jC8ie3yb5s"
      },
      "source": [
        "- True / False : 예측값과 실제값이 같은가 /틀린가\n",
        "- Negative / Positive : 예측 결과 값이 부정(0) / 긍정(1)\n",
        "\n",
        "- TN : 예측값을 Negative 값 0으로 예측했고 실제 값은 역시 Negative 값 0\n",
        "- FP : 예측값을 Positive 값 1로 예측 했는데 실제 값은 Negative 값 0\n",
        "- FN : 예측값을 Negative 값 0으로 예측했는데, 실제 값은 Positive 값 1\n",
        "- TP : 예측값을 Positive 값 1로 예측했는데 실제 값 역시 Positive 값 1"
      ]
    },
    {
      "cell_type": "markdown",
      "metadata": {
        "id": "Xiuk4OEhywPg"
      },
      "source": [
        "[confusion_matrix()](https://scikit-learn.org/stable/modules/generated/sklearn.metrics.confusion_matrix.html)\n",
        "```\n",
        "confusion_matrix(y_true, y_pred, *, labels=None, sample_weight=None, normalize=None)\n",
        "```\n",
        "- y_true : 정답\n",
        "- y_pred : 예측 결과"
      ]
    },
    {
      "cell_type": "code",
      "metadata": {
        "id": "G8ld4MrGvLlL"
      },
      "source": [
        "from sklearn.datasets import load_digits\n",
        "\n",
        "# 손글씨 데이터\n",
        "digits = load_digits()\n",
        "digits.keys()\n",
        "digits.target_names\n",
        "\n",
        "# 불균형 데이터셋 생성\n",
        "y = digits.target == 9\n",
        "X = digits.data\n",
        "\n",
        "X.shape, y.shape\n",
        "\n",
        "\n",
        "X_train, X_test, y_train, y_test = train_test_split(X, y, random_state = 0)"
      ],
      "execution_count": 38,
      "outputs": []
    },
    {
      "cell_type": "code",
      "source": [
        "model_lr = LogisticRegression(C=0.1).fit(X_train, y_train)\n",
        "model_lr.score(X_test, y_test)"
      ],
      "metadata": {
        "colab": {
          "base_uri": "https://localhost:8080/"
        },
        "id": "rb-1v9ZwJ2kY",
        "outputId": "82953157-130b-4f17-8fa2-9117fd3b4a33"
      },
      "execution_count": 39,
      "outputs": [
        {
          "output_type": "execute_result",
          "data": {
            "text/plain": [
              "0.9844444444444445"
            ]
          },
          "metadata": {},
          "execution_count": 39
        }
      ]
    },
    {
      "cell_type": "code",
      "source": [
        "from sklearn.metrics import confusion_matrix\n",
        "\n",
        "pred_lr = model_lr.predict(X_test)\n",
        "confusion_matrix(y_test, pred_lr)"
      ],
      "metadata": {
        "colab": {
          "base_uri": "https://localhost:8080/"
        },
        "id": "vd7VnWoOKI91",
        "outputId": "ac11f430-f762-4da8-f6f1-9e2e816e912f"
      },
      "execution_count": 40,
      "outputs": [
        {
          "output_type": "execute_result",
          "data": {
            "text/plain": [
              "array([[402,   1],\n",
              "       [  6,  41]])"
            ]
          },
          "metadata": {},
          "execution_count": 40
        }
      ]
    },
    {
      "cell_type": "code",
      "source": [
        "from sklearn.metrics import ConfusionMatrixDisplay\n",
        "\n",
        "ConfusionMatrixDisplay.from_estimator(model_lr, X_test, y_test,\n",
        "                                      display_labels = ['9 NO', '9 OK'])\n",
        "plt.show()"
      ],
      "metadata": {
        "colab": {
          "base_uri": "https://localhost:8080/",
          "height": 282
        },
        "id": "GYH2IMuT03vl",
        "outputId": "30129459-6df9-4046-e3d5-65a788271661"
      },
      "execution_count": 44,
      "outputs": [
        {
          "output_type": "display_data",
          "data": {
            "text/plain": [
              "<Figure size 432x288 with 2 Axes>"
            ],
            "image/png": "[encoded data removed]"
          },
          "metadata": {
            "needs_background": "light"
          }
        }
      ]
    },
    {
      "cell_type": "code",
      "source": [
        "ConfusionMatrixDisplay.from_predictions( y_test, pred_lr,\n",
        "                                      display_labels = ['9 NO', '9 OK'])\n",
        "plt.show()"
      ],
      "metadata": {
        "colab": {
          "base_uri": "https://localhost:8080/",
          "height": 282
        },
        "id": "XtJwZJqP1cca",
        "outputId": "c988a832-899f-4ab4-a775-9e74677e9669"
      },
      "execution_count": 45,
      "outputs": [
        {
          "output_type": "display_data",
          "data": {
            "text/plain": [
              "<Figure size 432x288 with 2 Axes>"
            ],
            "image/png": "[encoded data removed]"
          },
          "metadata": {
            "needs_background": "light"
          }
        }
      ]
    },
    {
      "cell_type": "markdown",
      "metadata": {
        "id": "yQE1th1b1Oli"
      },
      "source": [
        "- TN FP\n",
        "- FN TP\n"
      ]
    },
    {
      "cell_type": "code",
      "metadata": {
        "id": "uQg40Exjrznw",
        "colab": {
          "base_uri": "https://localhost:8080/"
        },
        "outputId": "d2d3fb16-08f1-43c5-fa0e-9baef3ea02ba"
      },
      "source": [
        "model_tree = DecisionTreeClassifier(random_state=0).fit(X_train, y_train)\n",
        "model_tree.score(X_test, y_test)"
      ],
      "execution_count": 41,
      "outputs": [
        {
          "output_type": "execute_result",
          "data": {
            "text/plain": [
              "0.9533333333333334"
            ]
          },
          "metadata": {},
          "execution_count": 41
        }
      ]
    },
    {
      "cell_type": "code",
      "source": [
        "pred_tree = model_tree.predict(X_test)\n",
        "confusion_matrix(y_test, pred_tree)"
      ],
      "metadata": {
        "colab": {
          "base_uri": "https://localhost:8080/"
        },
        "id": "qlBUFrL5K4O5",
        "outputId": "ff4023c1-1972-4b15-9a02-a2a1652dcc7f"
      },
      "execution_count": 42,
      "outputs": [
        {
          "output_type": "execute_result",
          "data": {
            "text/plain": [
              "array([[394,   9],\n",
              "       [ 12,  35]])"
            ]
          },
          "metadata": {},
          "execution_count": 42
        }
      ]
    },
    {
      "cell_type": "markdown",
      "metadata": {
        "id": "Ev8bnJYx-enD"
      },
      "source": [
        "오차 행렬에서 정확도 재정의\n",
        "\n",
        "> \\begin{equation}\n",
        "\\text{Accuracy} = \\frac{\\text{예측결과가동일한데이터건수}}{\\text{전체예측데이터건수}}\n",
        "= \\frac{\\text{TP} + \\text{TN}}{\\text{TP} + \\text{TN} + \\text{FP} + \\text{FN}}\n",
        "\\end{equation}"
      ]
    },
    {
      "cell_type": "markdown",
      "metadata": {
        "id": "kj7okP2w2m3T"
      },
      "source": [
        "## 정밀도(Precision)와 재현율(Recall)\n",
        "\n",
        " > \\begin{equation}\n",
        "\\text{정밀도} = \\frac{\\text{TP}}{\\text{TP} + \\text{FP}}\n",
        "\\end{equation} <br>\n",
        " > \\begin{equation}\n",
        "\\text{재현율} = \\frac{\\text{TP}}{\\text{TP} + \\text{FN}}\n",
        "\\end{equation}\n",
        "\n",
        "정밀도\n",
        " - 예측을 Positive로 한 대상 중에 예측과 실제 값이 Positive로 일치한 데이터의 비율\n",
        " - 거짓양성(FP)의 수를 줄이는 것이 목표일 때 성능 지표로 사용\n",
        " - 양성 예측도(PPV) 라고도 함\n",
        "\n",
        "재현율\n",
        " - 실제 값이 Positive인 대상 중에 예측과 실제 값이 Positive로 일치한 데이터의 비율\n",
        " - 모든 양성 샘플을 식별해야 할 때 성능 지표로 사용\n",
        " - 거짓 음성(FN)을 피하는 것이 중요할 때\n",
        " - 민감도(sensitivity), 적중률(hit rate), 진짜 양성 비율(TPR) 이라고도 함"
      ]
    },
    {
      "cell_type": "markdown",
      "metadata": {
        "id": "E71Qd5lu5M7v"
      },
      "source": [
        "- 정밀도가 상대적으로 더 중요한 지표인 경우\n",
        " - 실제 Negative 음성인 데이터 예측을 Positive 양성으로 잘못 판단하게 되면 업무상 큰 영향이 발생하는 경우\n",
        " - 스팸 메일 판단 모델 : 실제 Negative인 일반 메일을 Positive인 스팸 메일로 분류하면 메일을 아예 받지 못하게 됨\n",
        "\n",
        "- 재현율이 상대적으로 더 중요한 지표인 경우\n",
        " - 실제 Positive 양성인 데이터 예측을 Negative로 잘못 판단하게 되면 업무상 큰 영향이 발생하는 경우\n",
        " - 암 판단 모델 : 실제 Positive인 암 환자를 Negative 음성으로 잘못 판단했을 경우 생명이 위험\n",
        " - 보험/금융 사기 적발 모델 : 실제 사기인 Positive 건을 Negative로 잘못 판단하면 회사에 손해가 큼"
      ]
    },
    {
      "cell_type": "markdown",
      "metadata": {
        "id": "Tq9rK6mk73yu"
      },
      "source": [
        "## F1 스코어\n",
        "\n",
        "> \\begin{equation}\n",
        "\\text{F} = 2 \\cdot \\frac{\\text{정밀도} \\cdot \\text{재현율}}{\\text{정밀도} + \\text{재현율}}\n",
        "\\end{equation}\n",
        "\n",
        "- 정밀도와 재현율을 결합한 지표\n",
        "- 어느 한 쪽으로 치우치지 않는 수치를 나타낼 때 높은 값을 갖음"
      ]
    },
    {
      "cell_type": "code",
      "metadata": {
        "id": "w8sySVn6_qs-",
        "colab": {
          "base_uri": "https://localhost:8080/"
        },
        "outputId": "5aba23ed-3ce5-4631-b96d-51f962ae1e96"
      },
      "source": [
        "from sklearn.metrics import f1_score\n",
        "\n",
        "f1_score(y_test, pred_lr), f1_score(y_test, pred_tree)"
      ],
      "execution_count": 46,
      "outputs": [
        {
          "output_type": "execute_result",
          "data": {
            "text/plain": [
              "(0.9213483146067415, 0.7692307692307692)"
            ]
          },
          "metadata": {},
          "execution_count": 46
        }
      ]
    },
    {
      "cell_type": "markdown",
      "metadata": {
        "id": "icXJcKFi9ZBh"
      },
      "source": [
        "## 분류 리포트\n",
        "\n",
        "[classification_report()](https://scikit-learn.org/stable/modules/generated/sklearn.metrics.classification_report.html)\n",
        "\n",
        "- 정밀도, 재현율, f1-스코어 모두를 한 번에 깔끔하게 출력"
      ]
    },
    {
      "cell_type": "markdown",
      "source": [
        "- 대부분의 문제는 재현율에 focus인 경우가 많기 때문에 그에 집중할 것"
      ],
      "metadata": {
        "id": "FnZHJeuJ2dIt"
      }
    },
    {
      "cell_type": "code",
      "metadata": {
        "id": "fvQT1MjtAIry",
        "colab": {
          "base_uri": "https://localhost:8080/"
        },
        "outputId": "d97537ab-9abc-47e7-edcd-24b35cede579"
      },
      "source": [
        "from sklearn.metrics import classification_report\n",
        "\n",
        "print( classification_report(y_test, pred_lr, target_names=['9아님', '9맞음']))"
      ],
      "execution_count": 47,
      "outputs": [
        {
          "output_type": "stream",
          "name": "stdout",
          "text": [
            "              precision    recall  f1-score   support\n",
            "\n",
            "         9아님       0.99      1.00      0.99       403\n",
            "         9맞음       0.98      0.87      0.92        47\n",
            "\n",
            "    accuracy                           0.98       450\n",
            "   macro avg       0.98      0.93      0.96       450\n",
            "weighted avg       0.98      0.98      0.98       450\n",
            "\n"
          ]
        }
      ]
    },
    {
      "cell_type": "code",
      "source": [
        "print( classification_report(y_test, pred_tree, target_names=['9아님', '9맞음']))"
      ],
      "metadata": {
        "colab": {
          "base_uri": "https://localhost:8080/"
        },
        "id": "APwf_ruoOSMQ",
        "outputId": "8780ebba-db2c-440b-ba65-bf1fe2960307"
      },
      "execution_count": 48,
      "outputs": [
        {
          "output_type": "stream",
          "name": "stdout",
          "text": [
            "              precision    recall  f1-score   support\n",
            "\n",
            "         9아님       0.97      0.98      0.97       403\n",
            "         9맞음       0.80      0.74      0.77        47\n",
            "\n",
            "    accuracy                           0.95       450\n",
            "   macro avg       0.88      0.86      0.87       450\n",
            "weighted avg       0.95      0.95      0.95       450\n",
            "\n"
          ]
        }
      ]
    },
    {
      "cell_type": "markdown",
      "metadata": {
        "id": "6ARordl6Q3Rv"
      },
      "source": [
        "## ROC, AUC\n",
        "\n",
        "\n",
        "ROC(Receiver Operating Characteristic) : 여러 임계값에서 분류기의 특성을 분석하는데 널리 사용되는 도구\n",
        "- ROC 곡선은 분류기의 모든 임계값을 고려하지만 정밀도와 재현율 대신에 거짓 양성 비율 (FPR)이 변할 때 진짜 양성 비율 (TPR)이 어떻게 변하는지를 나타내는 곡선\n",
        "\n",
        "> \\begin{equation}\n",
        "\\text{FPR} = \\frac{\\text{FP}}{\\text{FP} + \\text{TN}}\n",
        "\\end{equation}\n",
        "\n",
        "- 진짜 양성비율 : 재현율\n",
        "- 가짜 양성비율 : 전체 음성 샘플 중에서 거짓 양성으로 잘못 분류한 비율\n",
        "\n",
        "AUC(Area Under the Curve) : ROC 곡선 아래의 면적값\n",
        "\n"
      ]
    },
    {
      "cell_type": "markdown",
      "metadata": {
        "id": "u1X-FFgvIKF4"
      },
      "source": [
        "[roc_curve()](https://scikit-learn.org/stable/modules/generated/sklearn.metrics.roc_curve.html) : ROC 곡선을 그리는 메소드\n",
        "\n",
        "Parameters\n",
        "- y_true : 실재 클래스 값 array (array shape = [데이터 건수])\n",
        "- y_score : predict_proba()의 반환 값 array에서 Positive 컬럼의 예측 확뉼이 보통 사용됨. array, shape = [n_samples]\n",
        "\n",
        "Returns\n",
        "- fpr : FPR (거짓 양성 비율)\n",
        "- tpr : TPR (진짜 양성 비율, 재현율, 민감도)\n",
        "- thresholds : fpr 및 tpr을 계산하는 데 사용되는 결정 함수의 임계값\n"
      ]
    },
    {
      "cell_type": "markdown",
      "metadata": {
        "id": "04eGdyKVMt4p"
      },
      "source": [
        "- [roc_auc_score()](https://scikit-learn.org/stable/modules/generated/sklearn.metrics.roc_auc_score.html) : AUC 계산 메소드"
      ]
    },
    {
      "cell_type": "markdown",
      "metadata": {
        "id": "HI30qrGX85wj"
      },
      "source": [
        "decision_function\n",
        "\n",
        "분류모델 예측의 불확실성을 추정할 수 있는 기능으로 결정함수(decision_function)와 예측확률(predict_proba)이 있습니다. 보통 2가지를 제공하는데 모델에 따라 1가지만 제공하는 경우가 있습니다.\n",
        "\n",
        "결정함수(decision_function)의 값은 1차원으로 데이터 포인트가 양성 클래인 클래스 1에 속한다고 믿는 정도를 나타냅니다.\n",
        "양수 값은 양성 클래스를 의미하며 음수 값은 음성 클래스를 의미합니다."
      ]
    },
    {
      "cell_type": "code",
      "metadata": {
        "id": "QNYU-MDcGOOw",
        "colab": {
          "base_uri": "https://localhost:8080/",
          "height": 303
        },
        "outputId": "020f326f-8d9b-4c0d-dc83-6857286c356e"
      },
      "source": [
        "# 데이터 포인트\n",
        "from sklearn.datasets import make_blobs\n",
        "\n",
        "X, y = make_blobs(n_samples=[4000, 500], cluster_std=[7.0, 2.0], random_state=0)\n",
        "X.shape, y.shape\n",
        "mglearn.discrete_scatter(X[:, 0], X[:, 1], y)"
      ],
      "execution_count": 52,
      "outputs": [
        {
          "output_type": "execute_result",
          "data": {
            "text/plain": [
              "[<matplotlib.lines.Line2D at 0x7fd72dc7bd50>,\n",
              " <matplotlib.lines.Line2D at 0x7fd72dc90410>]"
            ]
          },
          "metadata": {},
          "execution_count": 52
        },
        {
          "output_type": "display_data",
          "data": {
            "text/plain": [
              "<Figure size 432x288 with 1 Axes>"
            ],
            "image/png": "[encoded data removed]"
          },
          "metadata": {
            "needs_background": "light"
          }
        }
      ]
    },
    {
      "cell_type": "code",
      "source": [
        "X_train, X_test, y_train, y_test = train_test_split(X, y , random_state = 0)\n",
        "X_train.shape, X_test.shape"
      ],
      "metadata": {
        "colab": {
          "base_uri": "https://localhost:8080/"
        },
        "id": "op9sKhXR41H9",
        "outputId": "b0bd60fa-3891-402b-ea9c-1443108cd65a"
      },
      "execution_count": 60,
      "outputs": [
        {
          "output_type": "execute_result",
          "data": {
            "text/plain": [
              "((3375, 2), (1125, 2))"
            ]
          },
          "metadata": {},
          "execution_count": 60
        }
      ]
    },
    {
      "cell_type": "code",
      "source": [
        "from sklearn.svm import SVC\n",
        "model_svc = SVC().fit(X_train, y_train)"
      ],
      "metadata": {
        "id": "JCRQNSZg5FRb"
      },
      "execution_count": 61,
      "outputs": []
    },
    {
      "cell_type": "code",
      "metadata": {
        "id": "kEN6GSnnFzua",
        "colab": {
          "base_uri": "https://localhost:8080/",
          "height": 279
        },
        "outputId": "72cca7f5-1299-488f-d4eb-ec8fec82c795"
      },
      "source": [
        "# ROC 곡선 그리기\n",
        "from sklearn.metrics import roc_curve\n",
        "\n",
        "# FPR : 거짓양성비율\n",
        "# TPR : 진짜 양성 비율, 재현율\n",
        "# thresholds : 임계값\n",
        "fpr, tpr, th = roc_curve( y_test, model_svc.decision_function(X_test) )\n",
        "fpr.shape, tpr.shape, th.shape\n",
        "\n",
        "plt.plot(fpr, tpr)\n",
        "plt.xlabel('FPR')\n",
        "plt.ylabel('TPR')\n",
        "\n",
        "# 임계갑\n",
        "# zero_index = np.argmin(np.abs(th))\n",
        "# plt.plot(fpr[zero_index], tpr[zero_index], 'o')\n",
        "plt.show()"
      ],
      "execution_count": 74,
      "outputs": [
        {
          "output_type": "display_data",
          "data": {
            "text/plain": [
              "<Figure size 432x288 with 1 Axes>"
            ],
            "image/png": "[encoded data removed]"
          },
          "metadata": {
            "needs_background": "light"
          }
        }
      ]
    },
    {
      "cell_type": "markdown",
      "metadata": {
        "id": "1Q90hwSzGVAY"
      },
      "source": [
        "- ROC 곡선은 왼쪽 위에 가까울수록 이상적\n",
        "- 거짓 양성 비율(FPR)이 낮게 유지되면서 재현율이 높은 분류기가 좋은 것"
      ]
    },
    {
      "cell_type": "code",
      "source": [
        "np.argmin(np.abs(th))\n",
        "fpr[0], tpr[0]"
      ],
      "metadata": {
        "colab": {
          "base_uri": "https://localhost:8080/"
        },
        "id": "FkKVU7qT-Qs5",
        "outputId": "646c590d-7098-48a0-d998-4c855b38cca9"
      },
      "execution_count": 72,
      "outputs": [
        {
          "output_type": "execute_result",
          "data": {
            "text/plain": [
              "(0.0, 0.0)"
            ]
          },
          "metadata": {},
          "execution_count": 72
        }
      ]
    },
    {
      "cell_type": "code",
      "metadata": {
        "id": "plLziCUkGsHg",
        "colab": {
          "base_uri": "https://localhost:8080/",
          "height": 279
        },
        "outputId": "dff0e522-eef5-40a9-b796-e7fa897f9a62"
      },
      "source": [
        "# 랜덤 포레스트와 SVM의 ROC 곡선 비교\n",
        "from sklearn.ensemble import RandomForestClassifier\n",
        "\n",
        "model_rf = RandomForestClassifier(random_state=0).fit(X_train, y_train)\n",
        "\n",
        "fpr_rf, tpr_rf, th_rf = roc_curve(y_test, model_rf.predict_proba(X_test)[:, 1] )\n",
        "\n",
        "plt.plot(fpr_rf, tpr_rf, label = 'RandomForest')\n",
        "plt.plot(fpr, tpr, label='SVC')\n",
        "\n",
        "plt.xlabel('FPR')\n",
        "plt.ylabel('TPR')\n",
        "plt.legend()\n",
        "plt.show()"
      ],
      "execution_count": 78,
      "outputs": [
        {
          "output_type": "display_data",
          "data": {
            "text/plain": [
              "<Figure size 432x288 with 1 Axes>"
            ],
            "image/png": "[encoded data removed]"
          },
          "metadata": {
            "needs_background": "light"
          }
        }
      ]
    },
    {
      "cell_type": "code",
      "metadata": {
        "id": "f-Uf9VQnR6A6",
        "colab": {
          "base_uri": "https://localhost:8080/"
        },
        "outputId": "99643914-8b04-4822-9422-d3d2ae9fc10e"
      },
      "source": [
        "# AUC\n",
        "from sklearn.metrics import roc_auc_score\n",
        "\n",
        "auc_rf = roc_auc_score(y_test, model_rf.predict_proba(X_test)[:,1])\n",
        "auc_svc = roc_auc_score(y_test, model_svc.decision_function(X_test) )\n",
        "auc_rf, auc_svc"
      ],
      "execution_count": 85,
      "outputs": [
        {
          "output_type": "execute_result",
          "data": {
            "text/plain": [
              "(0.8956257845146735, 0.8942196164418387)"
            ]
          },
          "metadata": {},
          "execution_count": 85
        }
      ]
    },
    {
      "cell_type": "code",
      "source": [
        "from sklearn.metrics import RocCurveDisplay\n",
        "\n",
        "fix, axes = plt.subplots()\n",
        "RocCurveDisplay.from_estimator(model_svc, X_test, y_test, ax= axes)\n",
        "RocCurveDisplay.from_estimator(model_rf, X_test, y_test, ax= axes)\n",
        "plt.show()"
      ],
      "metadata": {
        "colab": {
          "base_uri": "https://localhost:8080/",
          "height": 279
        },
        "id": "5EuHqYMLBWPo",
        "outputId": "0213678f-4066-4c9d-8159-becf1106e45e"
      },
      "execution_count": 86,
      "outputs": [
        {
          "output_type": "display_data",
          "data": {
            "text/plain": [
              "<Figure size 432x288 with 1 Axes>"
            ],
            "image/png": "[encoded data removed]"
          },
          "metadata": {
            "needs_background": "light"
          }
        }
      ]
    },
    {
      "cell_type": "code",
      "source": [
        "model_svc.decision_function(X_test).shape, model_rf.predict_proba(X_test).shape"
      ],
      "metadata": {
        "colab": {
          "base_uri": "https://localhost:8080/"
        },
        "id": "h-dPzSH_DcjN",
        "outputId": "5f123849-ae2c-4da4-b3bb-5e62c735e329"
      },
      "execution_count": 87,
      "outputs": [
        {
          "output_type": "execute_result",
          "data": {
            "text/plain": [
              "((1125,), (1125, 2))"
            ]
          },
          "metadata": {},
          "execution_count": 87
        }
      ]
    },
    {
      "cell_type": "code",
      "source": [
        "fig, axes = plt.subplots()\n",
        "RocCurveDisplay.from_predictions(y_test, model_rf.predict_proba(X_test)[:,1], ax = axes)\n",
        "RocCurveDisplay.from_predictions(y_test, model_svc.decision_function(X_test), ax = axes)"
      ],
      "metadata": {
        "colab": {
          "base_uri": "https://localhost:8080/",
          "height": 297
        },
        "id": "KXvgXvXhDF6m",
        "outputId": "63047eb6-65e7-419a-8a5f-aaeb815754f6"
      },
      "execution_count": 88,
      "outputs": [
        {
          "output_type": "execute_result",
          "data": {
            "text/plain": [
              "<sklearn.metrics._plot.roc_curve.RocCurveDisplay at 0x7fd72d2a32d0>"
            ]
          },
          "metadata": {},
          "execution_count": 88
        },
        {
          "output_type": "display_data",
          "data": {
            "text/plain": [
              "<Figure size 432x288 with 1 Axes>"
            ],
            "image/png": "[encoded data removed]"
          },
          "metadata": {
            "needs_background": "light"
          }
        }
      ]
    },
    {
      "cell_type": "markdown",
      "source": [
        "## 다중 분류의 평가지표\n",
        "\n",
        "- 일반적으로 다중 분류의 결과는 이진 분류 결과보다 이해가 어려움\n",
        "- 정확도 외에 이진 분류에서 사용한 오차행렬과 분류 리포트 등을 일반적으로 사용"
      ],
      "metadata": {
        "id": "9NyIleqZEG-I"
      }
    },
    {
      "cell_type": "code",
      "source": [
        "from sklearn.datasets import load_digits\n",
        "\n",
        "digits = load_digits()\n",
        "\n",
        "X = digits.data\n",
        "y = digits.target\n",
        "X_train, X_test, y_train, y_test = train_test_split(X, y, random_state=0)"
      ],
      "metadata": {
        "id": "BYZ4v2MTG2Gq"
      },
      "execution_count": 96,
      "outputs": []
    },
    {
      "cell_type": "code",
      "source": [
        "model = RandomForestClassifier().fit(X_train, y_train)\n",
        "y_pred = model.predict(X_test)\n",
        "\n",
        "print( '정확도' , accuracy_score(y_test, y_pred) )\n",
        "print( '오차행렬 : \\n', confusion_matrix(y_test, y_pred) )"
      ],
      "metadata": {
        "colab": {
          "base_uri": "https://localhost:8080/"
        },
        "id": "en3V_bE6EcBN",
        "outputId": "5780084a-64a6-4e85-8aa2-359c55f8427f"
      },
      "execution_count": 97,
      "outputs": [
        {
          "output_type": "stream",
          "name": "stdout",
          "text": [
            "정확도 0.9822222222222222\n",
            "오차행렬 : \n",
            " [[37  0  0  0  0  0  0  0  0  0]\n",
            " [ 0 42  0  0  0  1  0  0  0  0]\n",
            " [ 1  0 42  1  0  0  0  0  0  0]\n",
            " [ 0  0  0 45  0  0  0  0  0  0]\n",
            " [ 0  0  0  0 37  0  0  1  0  0]\n",
            " [ 0  0  0  0  0 47  0  0  0  1]\n",
            " [ 0  0  0  0  0  0 52  0  0  0]\n",
            " [ 0  0  0  0  0  0  0 48  0  0]\n",
            " [ 0  1  0  1  0  0  0  0 46  0]\n",
            " [ 0  0  0  1  0  0  0  0  0 46]]\n"
          ]
        }
      ]
    },
    {
      "cell_type": "code",
      "source": [
        "# 오차행렬 그래프\n",
        "ConfusionMatrixDisplay.from_estimator(model, X_test, y_test)\n",
        "plt.show()"
      ],
      "metadata": {
        "colab": {
          "base_uri": "https://localhost:8080/",
          "height": 279
        },
        "id": "qVKY5mlMFimC",
        "outputId": "ab515eca-6f93-4fc5-bf9b-c46f15c9ca99"
      },
      "execution_count": 98,
      "outputs": [
        {
          "output_type": "display_data",
          "data": {
            "text/plain": [
              "<Figure size 432x288 with 2 Axes>"
            ],
            "image/png": "[encoded data removed]"
          },
          "metadata": {
            "needs_background": "light"
          }
        }
      ]
    },
    {
      "cell_type": "code",
      "source": [
        "print( classification_report(y_test, y_pred ) )"
      ],
      "metadata": {
        "colab": {
          "base_uri": "https://localhost:8080/"
        },
        "id": "r7QdNzQbF4gR",
        "outputId": "344a3754-9b8e-4e29-844f-ec21b4025727"
      },
      "execution_count": 99,
      "outputs": [
        {
          "output_type": "stream",
          "name": "stdout",
          "text": [
            "              precision    recall  f1-score   support\n",
            "\n",
            "           0       0.97      1.00      0.99        37\n",
            "           1       0.98      0.98      0.98        43\n",
            "           2       1.00      0.95      0.98        44\n",
            "           3       0.94      1.00      0.97        45\n",
            "           4       1.00      0.97      0.99        38\n",
            "           5       0.98      0.98      0.98        48\n",
            "           6       1.00      1.00      1.00        52\n",
            "           7       0.98      1.00      0.99        48\n",
            "           8       1.00      0.96      0.98        48\n",
            "           9       0.98      0.98      0.98        47\n",
            "\n",
            "    accuracy                           0.98       450\n",
            "   macro avg       0.98      0.98      0.98       450\n",
            "weighted avg       0.98      0.98      0.98       450\n",
            "\n"
          ]
        }
      ]
    },
    {
      "cell_type": "markdown",
      "metadata": {
        "id": "uPq7XiUtI8qw"
      },
      "source": [
        "## 모델평가 실습 01\n"
      ]
    },
    {
      "cell_type": "code",
      "metadata": {
        "id": "4MnlHPw0PJyc",
        "colab": {
          "base_uri": "https://localhost:8080/"
        },
        "outputId": "08e852e6-2f23-49e5-a111-b0bcc669d0f7"
      },
      "source": [
        "from sklearn.datasets import load_breast_cancer\n",
        "\n",
        "cancer =load_breast_cancer()\n",
        "\n",
        "X = cancer.data\n",
        "y = cancer.target\n",
        "\n",
        "cancer.target_names"
      ],
      "execution_count": 102,
      "outputs": [
        {
          "output_type": "execute_result",
          "data": {
            "text/plain": [
              "array(['malignant', 'benign'], dtype='<U9')"
            ]
          },
          "metadata": {},
          "execution_count": 102
        }
      ]
    },
    {
      "cell_type": "code",
      "metadata": {
        "id": "DUF90O47RHUR",
        "colab": {
          "base_uri": "https://localhost:8080/"
        },
        "outputId": "7d75e8cc-58eb-420e-cbf6-79f4bafa554b"
      },
      "source": [
        "from sklearn.linear_model import LogisticRegression\n",
        "from sklearn.model_selection import train_test_split\n",
        "\n",
        "X_train, X_test, y_train, y_test = train_test_split(X, y, \n",
        "                                                    stratify=y,\n",
        "                                                    random_state=0)\n",
        "\n",
        "model_lr = LogisticRegression().fit(X_train, y_train)\n",
        "model_lr.score(X_train, y_train), model_lr.score(X_test, y_test)"
      ],
      "execution_count": 103,
      "outputs": [
        {
          "output_type": "execute_result",
          "data": {
            "text/plain": [
              "(0.9577464788732394, 0.9230769230769231)"
            ]
          },
          "metadata": {},
          "execution_count": 103
        }
      ]
    },
    {
      "cell_type": "markdown",
      "metadata": {
        "id": "Gr5CiplMRSrq"
      },
      "source": [
        "### confusion matrix\n",
        "\n",
        "- 0,0 진짜 악성, 예측 악성\n",
        "- 0,1 진짜 악성, 예측 양성\n",
        "- 1,0 진짜 양성, 예측 악성\n",
        "- 1,1 진짜 양성, 예측 양성"
      ]
    },
    {
      "cell_type": "code",
      "metadata": {
        "id": "aCfF9ehTRVNZ",
        "colab": {
          "base_uri": "https://localhost:8080/"
        },
        "outputId": "2ce91ae2-08db-41be-d51f-02446fdb041f"
      },
      "source": [
        "from sklearn import metrics\n",
        "\n",
        "pred_lr = model_lr.predict(X_test)\n",
        "print( classification_report(y_test, pred_lr) )"
      ],
      "execution_count": 104,
      "outputs": [
        {
          "output_type": "stream",
          "name": "stdout",
          "text": [
            "              precision    recall  f1-score   support\n",
            "\n",
            "           0       0.90      0.89      0.90        53\n",
            "           1       0.93      0.94      0.94        90\n",
            "\n",
            "    accuracy                           0.92       143\n",
            "   macro avg       0.92      0.92      0.92       143\n",
            "weighted avg       0.92      0.92      0.92       143\n",
            "\n"
          ]
        }
      ]
    },
    {
      "cell_type": "code",
      "source": [
        "confusion_matrix(y_test, pred_lr)"
      ],
      "metadata": {
        "colab": {
          "base_uri": "https://localhost:8080/"
        },
        "id": "UivSWDEZIDNq",
        "outputId": "d7de383b-2b65-4848-eb78-b608b3801a96"
      },
      "execution_count": 105,
      "outputs": [
        {
          "output_type": "execute_result",
          "data": {
            "text/plain": [
              "array([[47,  6],\n",
              "       [ 5, 85]])"
            ]
          },
          "metadata": {},
          "execution_count": 105
        }
      ]
    },
    {
      "cell_type": "markdown",
      "metadata": {
        "id": "1eBhOnUfRsMq"
      },
      "source": [
        "### ROC 곡선 그리기"
      ]
    },
    {
      "cell_type": "code",
      "metadata": {
        "id": "ThHpsHbHRuHf",
        "colab": {
          "base_uri": "https://localhost:8080/",
          "height": 279
        },
        "outputId": "a5bc259e-9e60-4331-94ba-ade129a42f98"
      },
      "source": [
        "from sklearn.metrics import RocCurveDisplay\n",
        "\n",
        "fix, axes = plt.subplots()\n",
        "RocCurveDisplay.from_estimator(model_lr, X_test, y_test, ax=axes)\n",
        "plt.show()"
      ],
      "execution_count": 106,
      "outputs": [
        {
          "output_type": "display_data",
          "data": {
            "text/plain": [
              "<Figure size 432x288 with 1 Axes>"
            ],
            "image/png": "[encoded data removed]"
          },
          "metadata": {
            "needs_background": "light"
          }
        }
      ]
    },
    {
      "cell_type": "code",
      "source": [
        "from sklearn.metrics import roc_curve\n",
        "import matplotlib.pyplot as plt\n",
        "\n",
        "# 결정함수\n"
      ],
      "metadata": {
        "id": "yyv7CRy-JPVb"
      },
      "execution_count": null,
      "outputs": []
    },
    {
      "cell_type": "markdown",
      "metadata": {
        "id": "EWD8H1OFRz3L"
      },
      "source": [
        "### C값 조정(모델 하이퍼파라메터 조정)"
      ]
    },
    {
      "cell_type": "code",
      "metadata": {
        "id": "9nnvdjH_Tqbh",
        "colab": {
          "base_uri": "https://localhost:8080/"
        },
        "outputId": "f69df234-115e-4adb-b8e9-7c2190d0a9a9"
      },
      "source": [
        "from  sklearn.model_selection import GridSearchCV\n",
        "# GridSearchCV\n",
        "# param_grid = {'C': [0.0001, 0.001, 0.01, 0.1, 1, 10, 100, 1000] }\n",
        "# 분류리포트 1의 경우 f1-score 는? \n",
        "\n",
        "param_grid = {'C' : [ 0.0001, 0.001, 0.1, 1, 10, 100, 1000] }\n",
        "\n",
        "gs = GridSearchCV(LogisticRegression(), param_grid= param_grid, cv= 5,\n",
        "                  return_train_score = True)\n",
        "gs.fit(X_train, y_train)"
      ],
      "execution_count": 112,
      "outputs": [
        {
          "output_type": "execute_result",
          "data": {
            "text/plain": [
              "GridSearchCV(cv=5, estimator=LogisticRegression(),\n",
              "             param_grid={'C': [0.0001, 0.001, 0.1, 1, 10, 100, 1000]},\n",
              "             return_train_score=True)"
            ]
          },
          "metadata": {},
          "execution_count": 112
        }
      ]
    },
    {
      "cell_type": "code",
      "source": [
        "pred_gs = gs.predict(X_test)\n",
        "print( classification_report(y_test, pred_gs) )"
      ],
      "metadata": {
        "colab": {
          "base_uri": "https://localhost:8080/"
        },
        "id": "dmKDmDeiM01b",
        "outputId": "3ba3315d-ad14-4747-a712-74312ef68cd2"
      },
      "execution_count": 113,
      "outputs": [
        {
          "output_type": "stream",
          "name": "stdout",
          "text": [
            "              precision    recall  f1-score   support\n",
            "\n",
            "           0       0.91      0.91      0.91        53\n",
            "           1       0.94      0.94      0.94        90\n",
            "\n",
            "    accuracy                           0.93       143\n",
            "   macro avg       0.93      0.93      0.93       143\n",
            "weighted avg       0.93      0.93      0.93       143\n",
            "\n"
          ]
        }
      ]
    },
    {
      "cell_type": "code",
      "source": [
        "gs.best_params_"
      ],
      "metadata": {
        "colab": {
          "base_uri": "https://localhost:8080/"
        },
        "id": "1Mr0kSoSNF0G",
        "outputId": "c66a70c8-3007-4db5-e0f8-560f588824af"
      },
      "execution_count": 110,
      "outputs": [
        {
          "output_type": "execute_result",
          "data": {
            "text/plain": [
              "{'C': 10}"
            ]
          },
          "metadata": {},
          "execution_count": 110
        }
      ]
    },
    {
      "cell_type": "code",
      "source": [
        "ConfusionMatrixDisplay.from_estimator(gs, X_test, y_test)"
      ],
      "metadata": {
        "colab": {
          "base_uri": "https://localhost:8080/",
          "height": 297
        },
        "id": "YHeV3BHpNJ1c",
        "outputId": "d70667f2-0067-49e3-c21b-dc0125a50b68"
      },
      "execution_count": 111,
      "outputs": [
        {
          "output_type": "execute_result",
          "data": {
            "text/plain": [
              "<sklearn.metrics._plot.confusion_matrix.ConfusionMatrixDisplay at 0x7fd72d0730d0>"
            ]
          },
          "metadata": {},
          "execution_count": 111
        },
        {
          "output_type": "display_data",
          "data": {
            "text/plain": [
              "<Figure size 432x288 with 2 Axes>"
            ],
            "image/png": "[encoded data removed]"
          },
          "metadata": {
            "needs_background": "light"
          }
        }
      ]
    },
    {
      "cell_type": "markdown",
      "metadata": {
        "id": "b5q0IERaR9q6"
      },
      "source": [
        "### ROC 곡선 비교"
      ]
    },
    {
      "cell_type": "code",
      "metadata": {
        "id": "iRLZwwpts4hl",
        "colab": {
          "base_uri": "https://localhost:8080/",
          "height": 279
        },
        "outputId": "23916209-23ea-4a1f-b1ca-e01928f7bb78"
      },
      "source": [
        "fix, axes = plt.subplots()\n",
        "\n",
        "RocCurveDisplay.from_estimator(model_lr, X_test, y_test, ax=axes)\n",
        "RocCurveDisplay.from_estimator(gs, X_test, y_test, ax=axes)\n",
        "plt.show()"
      ],
      "execution_count": 114,
      "outputs": [
        {
          "output_type": "display_data",
          "data": {
            "text/plain": [
              "<Figure size 432x288 with 1 Axes>"
            ],
            "image/png": "[encoded data removed]"
          },
          "metadata": {
            "needs_background": "light"
          }
        }
      ]
    },
    {
      "cell_type": "code",
      "source": [
        "auc_lr = roc_auc_score(y_test, model_lr.decision_function(X_test))\n",
        "auc_gs = roc_auc_score(y_test, gs.decision_function(X_test))\n",
        "auc_lr, auc_gs"
      ],
      "metadata": {
        "colab": {
          "base_uri": "https://localhost:8080/"
        },
        "id": "rCyUj4zpN154",
        "outputId": "5b60aff2-d589-4e88-e797-24bd0617baf7"
      },
      "execution_count": 115,
      "outputs": [
        {
          "output_type": "execute_result",
          "data": {
            "text/plain": [
              "(0.9909853249475892, 0.9905660377358492)"
            ]
          },
          "metadata": {},
          "execution_count": 115
        }
      ]
    },
    {
      "cell_type": "markdown",
      "metadata": {
        "id": "mWmyGYzISG7Q"
      },
      "source": [
        "### scoring을 이용한 ROC 교차검증\n",
        "\n",
        "- scoring은 성능검증에 사용할 함수이름"
      ]
    },
    {
      "cell_type": "code",
      "source": [
        "param_grid = {'C' : [ 0.0001, 0.001, 0.1, 1, 10, 100, 1000] }\n",
        "\n",
        "gs = GridSearchCV(LogisticRegression(), param_grid= param_grid, cv= 5,\n",
        "                  scoring = 'roc_auc',\n",
        "                  return_train_score = True)\n",
        "gs.fit(X_train, y_train)"
      ],
      "metadata": {
        "colab": {
          "base_uri": "https://localhost:8080/"
        },
        "id": "ucCSLEloOfhW",
        "outputId": "0e746f9e-509c-4fcc-9398-3dcf81bb8b79"
      },
      "execution_count": 116,
      "outputs": [
        {
          "output_type": "execute_result",
          "data": {
            "text/plain": [
              "GridSearchCV(cv=5, estimator=LogisticRegression(),\n",
              "             param_grid={'C': [0.0001, 0.001, 0.1, 1, 10, 100, 1000]},\n",
              "             return_train_score=True, scoring='roc_auc')"
            ]
          },
          "metadata": {},
          "execution_count": 116
        }
      ]
    },
    {
      "cell_type": "code",
      "source": [
        "gs.best_params_"
      ],
      "metadata": {
        "colab": {
          "base_uri": "https://localhost:8080/"
        },
        "id": "lEWy-ecNOp5F",
        "outputId": "f543cf6f-353f-4cce-9e08-55e3a9518e38"
      },
      "execution_count": 118,
      "outputs": [
        {
          "output_type": "execute_result",
          "data": {
            "text/plain": [
              "{'C': 1000}"
            ]
          },
          "metadata": {},
          "execution_count": 118
        }
      ]
    },
    {
      "cell_type": "code",
      "metadata": {
        "id": "k53STqUXSLAP"
      },
      "source": [
        "# from sklearn.model_selection import cross_val_score\n",
        "\n",
        "# C_list = [0.001,0.01,0.1,1,10,100,1000]"
      ],
      "execution_count": null,
      "outputs": []
    },
    {
      "cell_type": "code",
      "source": [
        "pred_gs = gs.predict(X_test)\n",
        "print( classification_report(y_test, pred_gs) )"
      ],
      "metadata": {
        "colab": {
          "base_uri": "https://localhost:8080/"
        },
        "id": "5RBkm1lAPRPs",
        "outputId": "39f56e13-42f8-4d57-eb3b-5b9e6e65e59b"
      },
      "execution_count": 119,
      "outputs": [
        {
          "output_type": "stream",
          "name": "stdout",
          "text": [
            "              precision    recall  f1-score   support\n",
            "\n",
            "           0       0.89      0.92      0.91        53\n",
            "           1       0.95      0.93      0.94        90\n",
            "\n",
            "    accuracy                           0.93       143\n",
            "   macro avg       0.92      0.93      0.93       143\n",
            "weighted avg       0.93      0.93      0.93       143\n",
            "\n"
          ]
        }
      ]
    },
    {
      "cell_type": "markdown",
      "metadata": {
        "id": "05ELJHZOs9YB"
      },
      "source": [
        "## 회귀의 평가 지표\n",
        "\n",
        " > MSE (평균제곱오차) : 실제 값과 예측값의 차이를 제곱해 평균한 것\n",
        "\n",
        " > MAE (평균절대값오차) : 실제 값과 예측값의 차이를 절댓값으로 변환해 평균한 것\n",
        "\n",
        " > $ \\\\ R^2 \\\\ $ : 실제 값의 분산 대비 예측값의 분산 비율을 지표로 하며, 1에 가까울수록 예측 정확도가 높음\n",
        "\n",
        " > RMSE ( $ \\\\ \\sqrt{ MSE } \\\\ $ ) : MSE에 루트를 씌워 MSE의 실제 오류 평균보다 더 커지는 특성을 줄임\n",
        "\n",
        " > MSLE (Mean Squared Log Error) : MSE에 로그를 적용\n",
        "\n",
        " > RMSLE (Root Mean Squared Log Error) : RMSE에 로그를 적용"
      ]
    },
    {
      "cell_type": "markdown",
      "metadata": {
        "id": "0zY4YFpVvaCK"
      },
      "source": [
        "## 모델평가 실습 02\n",
        "\n",
        "보스턴 주택 가격"
      ]
    },
    {
      "cell_type": "code",
      "metadata": {
        "id": "5dEO8WKvvmhn",
        "colab": {
          "base_uri": "https://localhost:8080/"
        },
        "outputId": "702df2a2-f07b-48f8-9b6e-7418a3786723"
      },
      "source": [
        "from sklearn.datasets import load_boston\n",
        "\n",
        "boston = load_boston()\n",
        "boston.keys()\n",
        "print( boston.DESCR )"
      ],
      "execution_count": 123,
      "outputs": [
        {
          "output_type": "stream",
          "name": "stdout",
          "text": [
            ".. _boston_dataset:\n",
            "\n",
            "Boston house prices dataset\n",
            "---------------------------\n",
            "\n",
            "**Data Set Characteristics:**  \n",
            "\n",
            "    :Number of Instances: 506 \n",
            "\n",
            "    :Number of Attributes: 13 numeric/categorical predictive. Median Value (attribute 14) is usually the target.\n",
            "\n",
            "    :Attribute Information (in order):\n",
            "        - CRIM     per capita crime rate by town\n",
            "        - ZN       proportion of residential land zoned for lots over 25,000 sq.ft.\n",
            "        - INDUS    proportion of non-retail business acres per town\n",
            "        - CHAS     Charles River dummy variable (= 1 if tract bounds river; 0 otherwise)\n",
            "        - NOX      nitric oxides concentration (parts per 10 million)\n",
            "        - RM       average number of rooms per dwelling\n",
            "        - AGE      proportion of owner-occupied units built prior to 1940\n",
            "        - DIS      weighted distances to five Boston employment centres\n",
            "        - RAD      index of accessibility to radial highways\n",
            "        - TAX      full-value property-tax rate per $10,000\n",
            "        - PTRATIO  pupil-teacher ratio by town\n",
            "        - B        1000(Bk - 0.63)^2 where Bk is the proportion of black people by town\n",
            "        - LSTAT    % lower status of the population\n",
            "        - MEDV     Median value of owner-occupied homes in $1000's\n",
            "\n",
            "    :Missing Attribute Values: None\n",
            "\n",
            "    :Creator: Harrison, D. and Rubinfeld, D.L.\n",
            "\n",
            "This is a copy of UCI ML housing dataset.\n",
            "https://archive.ics.uci.edu/ml/machine-learning-databases/housing/\n",
            "\n",
            "\n",
            "This dataset was taken from the StatLib library which is maintained at Carnegie Mellon University.\n",
            "\n",
            "The Boston house-price data of Harrison, D. and Rubinfeld, D.L. 'Hedonic\n",
            "prices and the demand for clean air', J. Environ. Economics & Management,\n",
            "vol.5, 81-102, 1978.   Used in Belsley, Kuh & Welsch, 'Regression diagnostics\n",
            "...', Wiley, 1980.   N.B. Various transformations are used in the table on\n",
            "pages 244-261 of the latter.\n",
            "\n",
            "The Boston house-price data has been used in many machine learning papers that address regression\n",
            "problems.   \n",
            "     \n",
            ".. topic:: References\n",
            "\n",
            "   - Belsley, Kuh & Welsch, 'Regression diagnostics: Identifying Influential Data and Sources of Collinearity', Wiley, 1980. 244-261.\n",
            "   - Quinlan,R. (1993). Combining Instance-Based and Model-Based Learning. In Proceedings on the Tenth International Conference of Machine Learning, 236-243, University of Massachusetts, Amherst. Morgan Kaufmann.\n",
            "\n"
          ]
        }
      ]
    },
    {
      "cell_type": "code",
      "source": [
        ""
      ],
      "metadata": {
        "id": "Giy8FXcURyy_"
      },
      "execution_count": 122,
      "outputs": []
    },
    {
      "cell_type": "code",
      "metadata": {
        "id": "KPCxD6zuv52J",
        "colab": {
          "base_uri": "https://localhost:8080/"
        },
        "outputId": "347a48b3-3759-4d24-c0cc-8896754a07cb"
      },
      "source": [
        "import numpy as np\n",
        "from sklearn.linear_model import Ridge\n",
        "from sklearn.linear_model import Lasso\n",
        "from sklearn.model_selection import train_test_split\n",
        "from sklearn.metrics import mean_squared_error, r2_score\n",
        "from sklearn.model_selection import cross_val_score\n",
        "from sklearn.model_selection import GridSearchCV\n",
        "\n",
        "X_train, X_test, y_train, y_test = train_test_split(boston.data, \n",
        "                                                    boston.target, \n",
        "                                                    random_state=0)\n",
        "\n",
        "param_grid = {'alpha' :np.logspace(-4, 0, 200) }\n",
        "gs_ridge = GridSearchCV(Ridge(), param_grid=param_grid,\n",
        "             scoring = 'neg_mean_squared_error', cv=5).fit(X_train, y_train)\n",
        "\n",
        "gs_ridge.best_score_, gs_ridge.best_params_"
      ],
      "execution_count": 125,
      "outputs": [
        {
          "output_type": "execute_result",
          "data": {
            "text/plain": [
              "(-22.33762516415822, {'alpha': 0.0001})"
            ]
          },
          "metadata": {},
          "execution_count": 125
        }
      ]
    },
    {
      "cell_type": "markdown",
      "metadata": {
        "id": "bHqOwZ2A1W88"
      },
      "source": [
        "- 교차검증에서 MSE를 스코어로 사용하고 싶으면  scoring='neg_mean_squared_error' 옵션을 이용\n",
        "\n",
        "- 사이킷런의 scoring 함수를 호출하면 모델에서 계산된 MSE 값에 -1을 곱해서 반환\n",
        "\n",
        "- 반환된 값에 다시 -1을 곱해야 양의 값이 원래 모델에서 계산된 MSE 값이 됨\n",
        "\n",
        "- 일반적으로 회귀는 MSE 값이 낮을수록 좋은 회귀 모델 (오차값이 낮을 수록)"
      ]
    },
    {
      "cell_type": "code",
      "metadata": {
        "id": "EpS1oal2tHEq",
        "colab": {
          "base_uri": "https://localhost:8080/"
        },
        "outputId": "7b47cbf7-4add-4cda-b7de-57dc4bd75d65"
      },
      "source": [
        "rmse = np.sqrt( -gs_ridge.best_score_ )\n",
        "rmse"
      ],
      "execution_count": 126,
      "outputs": [
        {
          "output_type": "execute_result",
          "data": {
            "text/plain": [
              "4.72626968804767"
            ]
          },
          "metadata": {},
          "execution_count": 126
        }
      ]
    },
    {
      "cell_type": "markdown",
      "metadata": {
        "id": "P4Tf6Z0B4Y4r"
      },
      "source": [
        "# 정리\n",
        "\n",
        "1. 교차 검증을 해야 한다.\n",
        "> 데이터를 분리해서 사용. 간단하게 한 번만 분리하는 대신 교차 검증으로 분할을 반복\n",
        " - 모델 학습에는 훈련 데이터\n",
        " - 모델과 매개변수 선택에는 검증 데이터\n",
        " - 모델 평가에는 테스트 데이터\n",
        " \n",
        " > 훈련 세트와 테스트 세트로 분할하고 모델과 모델 매개변수 선택을 위해 훈련 세트에 교차 검증을 적용\n",
        "\n",
        "\n",
        "2. 모델 선택과 평가에 사용하는 평가 지표와 방법이 중요하다.\n",
        "> 모델을 평가하고 선택하기 위한 지표가 이 모델이 실제로 사용되는 상황을 잘 대변해야 함\n",
        " - 실전에서는 분류 문제에 균형 잡힌 클래스를 가진 경우가 거의 없음\n",
        " - 거짓 양성(FP)과 거짓 음성(FN)이 매우 큰 영향을 미침"
      ]
    }
  ]
}