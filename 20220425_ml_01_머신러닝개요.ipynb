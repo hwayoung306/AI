{
  "nbformat": 4,
  "nbformat_minor": 0,
  "metadata": {
    "colab": {
      "name": "20220425_ml_01_머신러닝개요.ipynb",
      "provenance": [],
      "collapsed_sections": [],
      "include_colab_link": true
    },
    "kernelspec": {
      "name": "python3",
      "display_name": "Python 3"
    }
  },
  "cells": [
    {
      "cell_type": "markdown",
      "metadata": {
        "id": "view-in-github",
        "colab_type": "text"
      },
      "source": [
        "<a href=\"https://colab.research.google.com/github/hwayoung306/AI/blob/main/20220425_ml_01_%EB%A8%B8%EC%8B%A0%EB%9F%AC%EB%8B%9D%EA%B0%9C%EC%9A%94.ipynb\" target=\"_parent\"><img src=\"https://colab.research.google.com/assets/colab-badge.svg\" alt=\"Open In Colab\"/></a>"
      ]
    },
    {
      "cell_type": "markdown",
      "metadata": {
        "id": "Hv85-XvEcKaa"
      },
      "source": [
        "### 구글드라이브 연동"
      ]
    },
    {
      "cell_type": "code",
      "metadata": {
        "id": "pmqLJy7icJ4g",
        "colab": {
          "base_uri": "https://localhost:8080/"
        },
        "outputId": "ec083ae3-f9d7-4f84-d690-37861e5feef6"
      },
      "source": [
        "# 구글드라이브 연동\n",
        "from google.colab import drive\n",
        "drive.mount('/gdrive', force_remount=True)\n",
        "\n",
        "# 구글 드라이브 파일 확인\n",
        "!ls '/gdrive/My Drive/temp/'\n",
        "\n",
        "# 반복되는 드라이브 경로 변수화\n",
        "drive_path = '/gdrive/My Drive/temp/'"
      ],
      "execution_count": 1,
      "outputs": [
        {
          "output_type": "stream",
          "name": "stdout",
          "text": [
            "Mounted at /gdrive\n",
            " 매수종목1.txt\t\t\t        sample.docx\n",
            "'2. 영화평점, 날짜별 영화평점 시각화'   sample_merge.pdf\n",
            " 매수종목2.txt\t\t\t        sample.xlsx\n",
            " auto-mpg.csv\t\t\t        score.csv\n",
            " bmi_500.csv\t\t\t        seoul.html\n",
            " 매수종목.csv\t\t\t       'stock price (1).xlsx'\n",
            " data_studentlist_en.csv\t       'stock price.xlsx'\n",
            "'demo (1).docx'\t\t\t        stock_px.csv\n",
            " demo.docx\t\t\t       'stock valuation.xlsx'\n",
            " example.docx\t\t\t        test.db.db\n",
            " height_weight.txt\t\t        test.txt\n",
            " hello_world.xlsx\t\t        Titanic배포용\n",
            " HelloWorld.xlsx\t\t        titanic_test.csv\n",
            "'little-char (1).png'\t\t        titanic_train.csv\n",
            " little-char.png\t\t        titanic.xls\n",
            " population_number.csv\t\t        Traffic_Accident_2017.csv\n",
            " ram_price.csv\t\t\t        train.csv\n",
            " ratings_small.txt\t\t        user_id_mean.csv\n",
            "'sample1 (1).pdf'\t\t        wine.csv\n",
            " sample1.pdf\t\t\t        주가데이터.xlsx\n",
            "'sample (1).xlsx'\t\t        남북한발전전력량.xlsx\n",
            " sample2.pdf\n"
          ]
        }
      ]
    },
    {
      "cell_type": "markdown",
      "source": [
        "### 머신러닝\n",
        "\n",
        "머신러닝은 데이터에서 학습하는 모델을 구축하는 프로세스\n",
        "\n",
        "- 기존의 프로그래밍은 프로그램의 동작 방식을 알려주는 명시적인 규칙을 작성\n",
        "- 머신러닝 모델은 데이터에서 패턴을 학습하는 알고리즘"
      ],
      "metadata": {
        "id": "1zNWoKpuBCdY"
      }
    },
    {
      "cell_type": "markdown",
      "source": [
        "- 머신러닝 모델은 근본적으로 수학적 함수이므로 수치 소프트웨어 패키지를 사용하면 밑바닥 부터 구현이 가능\n",
        "- 그러나 업계의 ML 엔지니어는 보통 모델 구축을 위한 직관적인 API를 제공하는 여러 오픈소스 프레임워크 중 하나를 사용하는 편"
      ],
      "metadata": {
        "id": "EnGpeErEBcZ5"
      }
    },
    {
      "cell_type": "markdown",
      "metadata": {
        "id": "83-BXRyoTPQv"
      },
      "source": [
        "### 머신러닝(Machine Learning) 종류\n",
        "\n",
        "- 지도학습 (Supervised Learning)\n",
        " > 준지도학습 (Semi-Supervised Learnig)\n",
        "- 비지도학습 (Unsupervised Learning)\n",
        " > 자기지도학습 (Self_Supervised Learning)\n",
        "- 강화학습 (Reinforcement Learning) -> 별도\n"
      ]
    },
    {
      "cell_type": "markdown",
      "metadata": {
        "id": "UFEBkpUCToVw"
      },
      "source": [
        "지도학습 (Supervised Learning)\n",
        "\n",
        "- 데이터에 대한 Label(명시적인 답)이 주어진 상태에서 컴퓨터를 학습시키는 방법. \n",
        "\n",
        "- 분류(Classification)와 회귀(Regression)(연속된 값)로 나뉘어진다.\n",
        "> (ex. 스팸 메일 분류, 집 가격 예측, 손글씨 숫자 판별, 신용카드 의심거래 감지, 의료영상 이미지기반 종양판단) - > 추천데이터\n"
      ]
    },
    {
      "cell_type": "markdown",
      "metadata": {
        "id": "lVyfBjNjT8Xt"
      },
      "source": [
        "비지도학습 (Unsupervised Learning) -> 데이터 분석힐때 주로 사용함\n",
        "\n",
        "- 데이터에 대한 Label(명시적인 답)이 없는 상태에서 컴퓨터를 학습시키는 방법.\n",
        "\n",
        "- 데이터의 숨겨진 특징, 구조, 패턴 파악.\n",
        "\n",
        "- 데이터를 비슷한 특성끼리 묶는 클러스터링(Clustering)과 차원축소(Dimensionality Reduction)등이 있다.\n",
        "> (ex. 블로그 글 주제구분, 고객 취향별 그룹화, 웹사이트 비정상 접근 탐지, 이미지 감색 처리, 소비자 그룹 마케팅)\n",
        "\n",
        "좋은 입력 데이터를 만들어내는 방법 -> 특성추출(특성공학) - 좋은 특성을 찾는것\n"
      ]
    },
    {
      "cell_type": "markdown",
      "metadata": {
        "id": "kcXUmDjUUTjO"
      },
      "source": [
        "강화학습 (Reinforcement Learning)\n",
        "\n",
        "- 지도학습과 비슷하지만 완전한 답(Label)을 제공하지 않는 특징이 있다.\n",
        "- 미리 준비된 데이터가 필요 없음\n",
        "- 대신 어떤 행동을 했을 때 거기에 대한 보상값을 받는 과정을 반복하면서 경험을 통해 학습\n",
        "- 학습 후 특정 목표를 달성하기 위해 어떤 행동들을 단계별로 해야 하는지 알 수 있음\n",
        "- 기계는 더 많은 보상을 얻을 수 있는 방향으로 행동을 학습\n",
        "\n",
        "> (ex. 게임이나 로봇 학습) -> 자율주행\n"
      ]
    },
    {
      "cell_type": "markdown",
      "metadata": {
        "id": "EiJ3i6uloi8c"
      },
      "source": [
        "머신러닝 vs 딥러닝\n",
        "\n",
        "|구분| Machine Learning| Deep Learning|\n",
        "|---|---|---|\n",
        "|훈련 데이터 크기| 작음| 큼|\n",
        "|시스템 성능| 저 사양| 고 사양|\n",
        "|feature 선택(컬럼)| 전문가 (사람) |알고리즘|\n",
        "|feature 수| 많음 |적음|\n",
        "|문제 해결 접근법| 문제를 분리 -> 각각 답을 얻음 -> 결과 통합| end-to-end (결과를 바로 얻음)|\n",
        "|실행 시간| 짧음 |김|\n",
        "|해석력 |해석 가능| 해석 어려움|"
      ]
    },
    {
      "cell_type": "markdown",
      "metadata": {
        "id": "Wf4lQ1hzUmsx"
      },
      "source": [
        "### [scikit-learn](https://scikit-learn.org/stable/index.html)\n",
        "\n",
        "- 파이썬에 머신러닝 프레임워크 라이브러리\n",
        "\n",
        "- 회귀, 분류, 군집, 차원축소, 특성공학, 전처리, 교차검증, 파이프라인 등 머신러닝에 필요한 기능 제공\n",
        "\n",
        "- 학습을 위한 샘플 데이터 제공\n"
      ]
    },
    {
      "cell_type": "markdown",
      "metadata": {
        "id": "1jePDfQLiMJM"
      },
      "source": [
        "#### scikit-learn으로 XOR 연산 학습해보기\n",
        "\n",
        "XOR연산?\n",
        "\n",
        "- 두값이 서로 같으면 0, 다르면 1  (배타적 논리 합)\n",
        "\n",
        "|P(입력)| Q(입력)| R(출력)|\n",
        "|---|---|---|\n",
        "| 0| 0| 0|\n",
        "| 0| 1| 1|\n",
        "| 1| 0| 1|\n",
        "| 1| 1| 0|\n"
      ]
    },
    {
      "cell_type": "code",
      "metadata": {
        "id": "2xAnNAbTTLo_",
        "colab": {
          "base_uri": "https://localhost:8080/"
        },
        "outputId": "1c8387ca-13d3-4b69-b614-2f91ba8fb57a"
      },
      "source": [
        "from sklearn import svm\n",
        "\n",
        "# XOR의 계산 결과 데이터 ( P,Q : 학습데이터 / R : 결과데이터 )\n",
        "xor_input = [\n",
        "             # P Q R\n",
        "             [0, 0, 0],\n",
        "             [0, 1, 1],\n",
        "             [1, 0, 1],\n",
        "             [1, 1, 0]\n",
        "]\n",
        "\n",
        "# 학습을 위해 데이터와 레이블 분리하기 --- (※1)\n",
        "xor_data = [] # 문제\n",
        "xor_label = [] # 답\n",
        "for p, q, r in xor_input : \n",
        "    xor_data.append( [p, q] ) # 학습데이터는 2차원\n",
        "    xor_label.append( r ) # 결과는 1차원\n",
        "\n",
        "# 데이터 학습시키기 --- (※2)\n",
        "model = svm.SVC()\n",
        "model.fit(xor_data, xor_label)\n",
        "\n",
        "# 데이터 예측하기 --- (※3)\n",
        "pre = model.predict(xor_data)\n",
        "print('예측데이터 : ', xor_data)\n",
        "print('예측결과 : ', pre)\n",
        "\n",
        "# 결과 확인하기 --- (※4)\n",
        "ok = 0\n",
        "for idx, answer in enumerate(xor_label):\n",
        "    p = pre[idx]\n",
        "    if p == answer :\n",
        "        ok += 1;\n",
        "\n",
        "print('정답률', ok, '/', 4, '=', ok/4)"
      ],
      "execution_count": 5,
      "outputs": [
        {
          "output_type": "stream",
          "name": "stdout",
          "text": [
            "예측데이터 :  [[0, 0], [0, 1], [1, 0], [1, 1]]\n",
            "예측결과 :  [0 1 1 0]\n",
            "정답률 4 / 4 = 1.0\n"
          ]
        }
      ]
    },
    {
      "cell_type": "code",
      "metadata": {
        "id": "b5tr1SAwlhJe",
        "colab": {
          "base_uri": "https://localhost:8080/"
        },
        "outputId": "929551d3-bd20-448d-c356-6a8507a7ad91"
      },
      "source": [
        "# pandas 라이브러리를 사용하여 코드 간략화\n",
        "import pandas as pd\n",
        "from sklearn import svm, metrics\n",
        "\n",
        "# XOR 연산\n",
        "xor_input = [\n",
        "             # P Q R\n",
        "             [0, 0, 0],\n",
        "             [0, 1, 1],\n",
        "             [1, 0, 1],\n",
        "             [1, 1, 0]\n",
        "]\n",
        "# 입력을 학습 전용 데이터와 테스트 전용 데이터로 분류하기 --- (※1)\n",
        "xor_df = pd.DataFrame(xor_input)\n",
        "xor_data = xor_df.iloc[:, :2]\n",
        "xor_label = xor_df.iloc[:, -1]\n",
        "\n",
        "# 데이터 학습과 예측하기 --- (※2)\n",
        "model = svm.SVC()\n",
        "model.fit(xor_data, xor_label)\n",
        "pre = model.predict(xor_data)\n",
        "\n",
        "# 정답률 구하기 --- (※3)\n",
        "metrics.accuracy_score(xor_label, pre)"
      ],
      "execution_count": 29,
      "outputs": [
        {
          "output_type": "execute_result",
          "data": {
            "text/plain": [
              "1.0"
            ]
          },
          "metadata": {},
          "execution_count": 29
        }
      ]
    },
    {
      "cell_type": "code",
      "metadata": {
        "id": "u_RAOvk1pZsd",
        "colab": {
          "base_uri": "https://localhost:8080/"
        },
        "outputId": "1961f84c-ae8a-487b-e588-e0dd1b0b520a"
      },
      "source": [
        "# KNN 분류 모델을 이용\n",
        "import pandas as pd\n",
        "from sklearn.neighbors import KNeighborsClassifier\n",
        "\n",
        "model = KNeighborsClassifier(n_neighbors=1)\n",
        "model.fit(xor_data, xor_label)\n",
        "pre = model.predict(xor_data)\n",
        "\n",
        "print( metrics.accuracy_score(xor_label, pre) )\n",
        "\n",
        "print(     model.predict( [ [0, 1] ] )     ) #??"
      ],
      "execution_count": 31,
      "outputs": [
        {
          "output_type": "stream",
          "name": "stdout",
          "text": [
            "1.0\n",
            "[1]\n"
          ]
        }
      ]
    },
    {
      "cell_type": "markdown",
      "metadata": {
        "id": "Bz0d-Lj4qovy"
      },
      "source": [
        "진행순서\n",
        "\n",
        ">1. clf = 머신러닝모델 생성  # svm.SVC() or KNeighborsClassifier(n_neighbors=1) \n",
        "1. clf.fit(문제 , 답)\n",
        "1. 예측결과 = clf.predict(값을 얻고 싶은 데이터 )\n",
        "1. ac_score = metrics.accuracy_score(실제답, 예측결과)\n",
        "\n",
        "clf (classifier) - scikit-learn 에서 [Estimator](https://en.wikipedia.org/wiki/Estimator) 인스턴스인 분류기를 지칭\n"
      ]
    },
    {
      "cell_type": "markdown",
      "metadata": {
        "id": "AfJQYJV5u_8R"
      },
      "source": [
        "[머신러닝 용어집](https://developers.google.com/machine-learning/glossary)"
      ]
    },
    {
      "cell_type": "markdown",
      "metadata": {
        "id": "Q_kZVFHf1SxC"
      },
      "source": [
        "#### 모델 저장과 불러오기 - pickle"
      ]
    },
    {
      "cell_type": "code",
      "metadata": {
        "id": "-AGaQ43_1PXw"
      },
      "source": [
        "import pickle\n",
        "\n",
        "with open('xor_model.pkl', 'wb') as f :\n",
        "    pickle.dump(model, f)"
      ],
      "execution_count": 32,
      "outputs": []
    },
    {
      "cell_type": "code",
      "source": [
        "import pickle\n",
        "\n",
        "with open('xor_model.pkl', 'rb') as f :\n",
        "    model = pickle.load(f)\n",
        "\n",
        "X_test = [ [0,0], [1,0] ]\n",
        "model.predict(X_test)"
      ],
      "metadata": {
        "colab": {
          "base_uri": "https://localhost:8080/"
        },
        "id": "A5K7XLjinyLV",
        "outputId": "a8809bf9-956f-4458-9874-ace04a3e971f"
      },
      "execution_count": 34,
      "outputs": [
        {
          "output_type": "execute_result",
          "data": {
            "text/plain": [
              "array([0, 1])"
            ]
          },
          "metadata": {},
          "execution_count": 34
        }
      ]
    },
    {
      "cell_type": "markdown",
      "metadata": {
        "id": "9kBBb96z3egM"
      },
      "source": [
        "#### 모델 저장과 불러오기 - joblib"
      ]
    },
    {
      "cell_type": "code",
      "metadata": {
        "id": "abR36aP63BvO"
      },
      "source": [
        "from sklearn.externals import joblib\n"
      ],
      "execution_count": null,
      "outputs": []
    },
    {
      "cell_type": "markdown",
      "metadata": {
        "id": "l12FSyxUw0IX"
      },
      "source": [
        "#### scikit-learn 연습 01\n",
        "\n",
        "AND 연산 모델 작성\n",
        "\n",
        "AND연산?\n",
        "\n",
        "- 두값이 서로 참이면 1, 아니면 0 \n",
        "\n",
        "|P(입력)| Q(입력)| R(출력)|\n",
        "|---|---|---|\n",
        "| 0| 0| 0|\n",
        "| 0| 1| 0|\n",
        "| 1| 0| 0|\n",
        "| 1| 1| 1|"
      ]
    },
    {
      "cell_type": "code",
      "metadata": {
        "id": "fI8JO2JWalgC",
        "colab": {
          "base_uri": "https://localhost:8080/"
        },
        "outputId": "921bef0f-664d-4b07-ae9f-c46db45c9dde"
      },
      "source": [
        "# KNN 분류 모델을 이용\n",
        "import pandas as pd\n",
        "from sklearn import svm, metrics\n",
        "from sklearn.neighbors import KNeighborsClassifier\n",
        "\n",
        "# AND 연산\n",
        "and_input = [ [0,0,0],\n",
        "             [0,1,0],\n",
        "             [1,0,0],\n",
        "             [1,1,1]]\n",
        "\n",
        "# 입력을 학습 전용 데이터와 테스트 전용 데이터로 분류하기 --- (※1)\n",
        "and_df = pd.DataFrame(and_input)\n",
        "and_data = and_df.iloc[:, :2]\n",
        "and_label = and_df.iloc[:, -1]\n",
        "\n",
        "# 데이터 학습과 예측하기 --- (※2)\n",
        "model = KNeighborsClassifier(n_neighbors=1)\n",
        "model.fit(and_data, and_label)\n",
        "pre = model.predict(and_data)\n",
        "\n",
        "# 정답률 구하기 --- (※3)\n",
        "ac_score = metrics.accuracy_score(and_label, pre)\n",
        "print( ac_score )\n",
        "\n",
        "ok = 0\n",
        "for idx, answer in enumerate(and_label):\n",
        "    p = pre[idx]\n",
        "    if p == answer :\n",
        "        ok += 1;\n",
        "\n",
        "print('정답률', ok, '/', 4, '=', ok/4)"
      ],
      "execution_count": 40,
      "outputs": [
        {
          "output_type": "stream",
          "name": "stdout",
          "text": [
            "1.0\n",
            "정답률 4 / 4 = 1.0\n"
          ]
        }
      ]
    },
    {
      "cell_type": "markdown",
      "metadata": {
        "id": "UohtQMQOkFGS"
      },
      "source": [
        "#### 분류? 회귀?\n",
        "\n",
        "- 같은 종류의 꽃(붓꽃)을 세 품종 중 하나로 예측하는 것\n",
        "- 이메일에서 스팸 메일을 예측하는 것\n",
        "- 웹사이트의 글로부터 어떤 언어의 웹사이트인지 예측하는 것\n",
        "- 어떤 사람의 교육수준, 나이, 주거지를 바탕으로 연간 소득을 예측하는 것\n",
        "- 옥수수 농장에서 전년도 수확량과 날씨, 고용 인원수 등으로 올해 수확량을 예측하는 것\n",
        "- 다음 학기 성적 점수를 예측하는 것\n",
        "- 키와 몸무게를 가지고 비만도를 예측하는 것"
      ]
    },
    {
      "cell_type": "markdown",
      "metadata": {
        "id": "ulNYSJJHbeXU"
      },
      "source": [
        "#### scikit-learn 연습 02\n",
        "\n",
        "비만도 데이터 학습\n",
        "\n",
        "- 500명의 키와 몸무게, 비만도 라벨을 이용해 비만을 판단하는 모델을 만들어보자."
      ]
    },
    {
      "cell_type": "code",
      "metadata": {
        "id": "3LOS1fxAcD8Z",
        "colab": {
          "base_uri": "https://localhost:8080/",
          "height": 238
        },
        "outputId": "08c88fe1-ec9f-4bc2-db0a-f8b574192655"
      },
      "source": [
        "import pandas as pd\n",
        "import matplotlib.pyplot as plt\n",
        "from sklearn.neighbors import KNeighborsClassifier\n",
        "from sklearn import metrics # 평가를 위한 모듈\n",
        "\n",
        "df = pd.read_csv(drive_path + 'bmi_500.csv', index_col = 'Label')\n",
        "df.head()\n",
        "\n",
        "# 문제 : 키랑 몸무게\n",
        "# 답은 : label"
      ],
      "execution_count": 50,
      "outputs": [
        {
          "output_type": "execute_result",
          "data": {
            "text/plain": [
              "            Gender  Height  Weight\n",
              "Label                             \n",
              "Obesity       Male     174      96\n",
              "Normal        Male     189      87\n",
              "Obesity     Female     185     110\n",
              "Overweight  Female     195     104\n",
              "Overweight    Male     149      61"
            ],
            "text/html": [
              "\n",
              "  <div id=\"df-060df035-7ae4-477b-8305-6d2668dcb820\">\n",
              "    <div class=\"colab-df-container\">\n",
              "      <div>\n",
              "<style scoped>\n",
              "    .dataframe tbody tr th:only-of-type {\n",
              "        vertical-align: middle;\n",
              "    }\n",
              "\n",
              "    .dataframe tbody tr th {\n",
              "        vertical-align: top;\n",
              "    }\n",
              "\n",
              "    .dataframe thead th {\n",
              "        text-align: right;\n",
              "    }\n",
              "</style>\n",
              "<table border=\"1\" class=\"dataframe\">\n",
              "  <thead>\n",
              "    <tr style=\"text-align: right;\">\n",
              "      <th></th>\n",
              "      <th>Gender</th>\n",
              "      <th>Height</th>\n",
              "      <th>Weight</th>\n",
              "    </tr>\n",
              "    <tr>\n",
              "      <th>Label</th>\n",
              "      <th></th>\n",
              "      <th></th>\n",
              "      <th></th>\n",
              "    </tr>\n",
              "  </thead>\n",
              "  <tbody>\n",
              "    <tr>\n",
              "      <th>Obesity</th>\n",
              "      <td>Male</td>\n",
              "      <td>174</td>\n",
              "      <td>96</td>\n",
              "    </tr>\n",
              "    <tr>\n",
              "      <th>Normal</th>\n",
              "      <td>Male</td>\n",
              "      <td>189</td>\n",
              "      <td>87</td>\n",
              "    </tr>\n",
              "    <tr>\n",
              "      <th>Obesity</th>\n",
              "      <td>Female</td>\n",
              "      <td>185</td>\n",
              "      <td>110</td>\n",
              "    </tr>\n",
              "    <tr>\n",
              "      <th>Overweight</th>\n",
              "      <td>Female</td>\n",
              "      <td>195</td>\n",
              "      <td>104</td>\n",
              "    </tr>\n",
              "    <tr>\n",
              "      <th>Overweight</th>\n",
              "      <td>Male</td>\n",
              "      <td>149</td>\n",
              "      <td>61</td>\n",
              "    </tr>\n",
              "  </tbody>\n",
              "</table>\n",
              "</div>\n",
              "      <button class=\"colab-df-convert\" onclick=\"convertToInteractive('df-060df035-7ae4-477b-8305-6d2668dcb820')\"\n",
              "              title=\"Convert this dataframe to an interactive table.\"\n",
              "              style=\"display:none;\">\n",
              "        \n",
              "  <svg xmlns=\"http://www.w3.org/2000/svg\" height=\"24px\"viewBox=\"0 0 24 24\"\n",
              "       width=\"24px\">\n",
              "    <path d=\"M0 0h24v24H0V0z\" fill=\"none\"/>\n",
              "    <path d=\"M18.56 5.44l.94 2.06.94-2.06 2.06-.94-2.06-.94-.94-2.06-.94 2.06-2.06.94zm-11 1L8.5 8.5l.94-2.06 2.06-.94-2.06-.94L8.5 2.5l-.94 2.06-2.06.94zm10 10l.94 2.06.94-2.06 2.06-.94-2.06-.94-.94-2.06-.94 2.06-2.06.94z\"/><path d=\"M17.41 7.96l-1.37-1.37c-.4-.4-.92-.59-1.43-.59-.52 0-1.04.2-1.43.59L10.3 9.45l-7.72 7.72c-.78.78-.78 2.05 0 2.83L4 21.41c.39.39.9.59 1.41.59.51 0 1.02-.2 1.41-.59l7.78-7.78 2.81-2.81c.8-.78.8-2.07 0-2.86zM5.41 20L4 18.59l7.72-7.72 1.47 1.35L5.41 20z\"/>\n",
              "  </svg>\n",
              "      </button>\n",
              "      \n",
              "  <style>\n",
              "    .colab-df-container {\n",
              "      display:flex;\n",
              "      flex-wrap:wrap;\n",
              "      gap: 12px;\n",
              "    }\n",
              "\n",
              "    .colab-df-convert {\n",
              "      background-color: #E8F0FE;\n",
              "      border: none;\n",
              "      border-radius: 50%;\n",
              "      cursor: pointer;\n",
              "      display: none;\n",
              "      fill: #1967D2;\n",
              "      height: 32px;\n",
              "      padding: 0 0 0 0;\n",
              "      width: 32px;\n",
              "    }\n",
              "\n",
              "    .colab-df-convert:hover {\n",
              "      background-color: #E2EBFA;\n",
              "      box-shadow: 0px 1px 2px rgba(60, 64, 67, 0.3), 0px 1px 3px 1px rgba(60, 64, 67, 0.15);\n",
              "      fill: #174EA6;\n",
              "    }\n",
              "\n",
              "    [theme=dark] .colab-df-convert {\n",
              "      background-color: #3B4455;\n",
              "      fill: #D2E3FC;\n",
              "    }\n",
              "\n",
              "    [theme=dark] .colab-df-convert:hover {\n",
              "      background-color: #434B5C;\n",
              "      box-shadow: 0px 1px 3px 1px rgba(0, 0, 0, 0.15);\n",
              "      filter: drop-shadow(0px 1px 2px rgba(0, 0, 0, 0.3));\n",
              "      fill: #FFFFFF;\n",
              "    }\n",
              "  </style>\n",
              "\n",
              "      <script>\n",
              "        const buttonEl =\n",
              "          document.querySelector('#df-060df035-7ae4-477b-8305-6d2668dcb820 button.colab-df-convert');\n",
              "        buttonEl.style.display =\n",
              "          google.colab.kernel.accessAllowed ? 'block' : 'none';\n",
              "\n",
              "        async function convertToInteractive(key) {\n",
              "          const element = document.querySelector('#df-060df035-7ae4-477b-8305-6d2668dcb820');\n",
              "          const dataTable =\n",
              "            await google.colab.kernel.invokeFunction('convertToInteractive',\n",
              "                                                     [key], {});\n",
              "          if (!dataTable) return;\n",
              "\n",
              "          const docLinkHtml = 'Like what you see? Visit the ' +\n",
              "            '<a target=\"_blank\" href=https://colab.research.google.com/notebooks/data_table.ipynb>data table notebook</a>'\n",
              "            + ' to learn more about interactive tables.';\n",
              "          element.innerHTML = '';\n",
              "          dataTable['output_type'] = 'display_data';\n",
              "          await google.colab.output.renderOutput(dataTable, element);\n",
              "          const docLink = document.createElement('div');\n",
              "          docLink.innerHTML = docLinkHtml;\n",
              "          element.appendChild(docLink);\n",
              "        }\n",
              "      </script>\n",
              "    </div>\n",
              "  </div>\n",
              "  "
            ]
          },
          "metadata": {},
          "execution_count": 50
        }
      ]
    },
    {
      "cell_type": "code",
      "source": [
        "df.info()"
      ],
      "metadata": {
        "colab": {
          "base_uri": "https://localhost:8080/"
        },
        "id": "D0dIpTTPskV7",
        "outputId": "5bdae69e-f084-47e0-a282-cef90411376c"
      },
      "execution_count": 51,
      "outputs": [
        {
          "output_type": "stream",
          "name": "stdout",
          "text": [
            "<class 'pandas.core.frame.DataFrame'>\n",
            "Index: 500 entries, Obesity to Extreme Obesity\n",
            "Data columns (total 3 columns):\n",
            " #   Column  Non-Null Count  Dtype \n",
            "---  ------  --------------  ----- \n",
            " 0   Gender  500 non-null    object\n",
            " 1   Height  500 non-null    int64 \n",
            " 2   Weight  500 non-null    int64 \n",
            "dtypes: int64(2), object(1)\n",
            "memory usage: 15.6+ KB\n"
          ]
        }
      ]
    },
    {
      "cell_type": "code",
      "source": [
        "# 인덱스에서 중복을 없앤것 즉, 인덱스의 종류\n",
        "df.index.unique()"
      ],
      "metadata": {
        "colab": {
          "base_uri": "https://localhost:8080/"
        },
        "id": "KcbGcgD_v_Cl",
        "outputId": "0c900b6e-6fa8-45bb-8ce2-42d914ecee53"
      },
      "execution_count": 53,
      "outputs": [
        {
          "output_type": "execute_result",
          "data": {
            "text/plain": [
              "Index(['Obesity', 'Normal', 'Overweight', 'Extreme Obesity', 'Weak',\n",
              "       'Extremely Weak'],\n",
              "      dtype='object', name='Label')"
            ]
          },
          "metadata": {},
          "execution_count": 53
        }
      ]
    },
    {
      "cell_type": "code",
      "source": [
        "# x는 몸무게 y는 키로 바꾸기\n",
        "# scatter(x,y) : 산점도\n",
        "plt.scatter(df['Weight'], df['Height'])"
      ],
      "metadata": {
        "colab": {
          "base_uri": "https://localhost:8080/",
          "height": 283
        },
        "id": "Yx1jR7rGwXqG",
        "outputId": "0486325e-201a-4ba8-c6f8-2e76c53ebbdf"
      },
      "execution_count": 55,
      "outputs": [
        {
          "output_type": "execute_result",
          "data": {
            "text/plain": [
              "<matplotlib.collections.PathCollection at 0x7f01c3221c50>"
            ]
          },
          "metadata": {},
          "execution_count": 55
        },
        {
          "output_type": "display_data",
          "data": {
            "text/plain": [
              "<Figure size 432x288 with 1 Axes>"
            ],
            "image/png": "[encoded data removed]"
          },
          "metadata": {
            "needs_background": "light"
          }
        }
      ]
    },
    {
      "cell_type": "code",
      "source": [
        "# 인덱스가 Obesity인 사람의 몸무게와 키 -> 몸무게 키는 팬시 인덱스로 가져옴\n",
        "df.loc['Obesity', ['Weight', 'Height']]"
      ],
      "metadata": {
        "id": "s9CMt7rOwvAM"
      },
      "execution_count": null,
      "outputs": []
    },
    {
      "cell_type": "code",
      "source": [
        "t = df.loc['Extreme Obesity']\n",
        "plt.scatter( t['Weight'], t['Height'], color = 'r', label='Extreme Obesity')\n",
        "\n",
        "t = df.loc['Obesity']\n",
        "plt.scatter( t['Weight'], t['Height'], color = 'orange', label='Obesity')\n",
        "\n",
        "t = df.loc['Overweight']\n",
        "plt.scatter( t['Weight'], t['Height'], color = 'y', label='Overweight')\n",
        "\n",
        "plt.legend()"
      ],
      "metadata": {
        "colab": {
          "base_uri": "https://localhost:8080/",
          "height": 283
        },
        "id": "4WL2JLQ_xRt7",
        "outputId": "34bc6442-2cce-44b6-ced7-a16bf86fe130"
      },
      "execution_count": 65,
      "outputs": [
        {
          "output_type": "execute_result",
          "data": {
            "text/plain": [
              "<matplotlib.legend.Legend at 0x7f01c28d15d0>"
            ]
          },
          "metadata": {},
          "execution_count": 65
        },
        {
          "output_type": "display_data",
          "data": {
            "text/plain": [
              "<Figure size 432x288 with 1 Axes>"
            ],
            "image/png": "[encoded data removed]"
          },
          "metadata": {
            "needs_background": "light"
          }
        }
      ]
    },
    {
      "cell_type": "code",
      "source": [
        "label = ['Extreme Obesity', 'Obesity', 'Overweight', 'Normal', 'Weak',\n",
        "       'Extremely Weak']\n",
        "color = ['red', 'orange', 'yellow', 'green','blue','purple']\n",
        "\n",
        "def easy_scatter(label, color) :\n",
        "    t = df.loc[label]\n",
        "    plt.scatter( t['Weight'], t['Height'], color = color, label= label)\n",
        "\n",
        "easy_scatter('Extreme Obesity','red')\n",
        "easy_scatter('Obesity','orange')\n",
        "easy_scatter('Overweight','yellow')\n",
        "easy_scatter('Normal','green')\n",
        "easy_scatter('Weak','blue')\n",
        "easy_scatter('Extremely Weak','purple')\n",
        "\n",
        "plt.legend()"
      ],
      "metadata": {
        "colab": {
          "base_uri": "https://localhost:8080/",
          "height": 283
        },
        "id": "WEdsNSpbyW0M",
        "outputId": "6248aeba-5d87-491e-94ad-69faed2ec361"
      },
      "execution_count": 71,
      "outputs": [
        {
          "output_type": "execute_result",
          "data": {
            "text/plain": [
              "<matplotlib.legend.Legend at 0x7f01c287df50>"
            ]
          },
          "metadata": {},
          "execution_count": 71
        },
        {
          "output_type": "display_data",
          "data": {
            "text/plain": [
              "<Figure size 432x288 with 1 Axes>"
            ],
            "image/png": "[encoded data removed]"
          },
          "metadata": {
            "needs_background": "light"
          }
        }
      ]
    },
    {
      "cell_type": "markdown",
      "metadata": {
        "id": "C7ty2IjNe6vu"
      },
      "source": [
        "모델링\n",
        "\n",
        "1. 문제와 답으로 분리\n",
        "\n",
        "2. 훈련셋과 평가셋으로 분리\n",
        "\n",
        "3. 모델생성 및 하이퍼파라미터 조정\n",
        "\n",
        "4. 학습 및 평가"
      ]
    },
    {
      "cell_type": "code",
      "source": [
        "data = pd.read_csv(drive_path + 'bmi_500.csv')\n",
        "data.head()\n",
        "\n",
        "X = data.loc[:, 'Height':'Weight']\n",
        "y = data.loc[:, 'Label']\n",
        "\n",
        "print(X.shape)\n",
        "print(y.shape)\n",
        "\n",
        "X_train = X.iloc[:350, :]\n",
        "X_test = X.iloc[350:, :]\n",
        "y_train = y.iloc[:350]\n",
        "y_test = y.iloc[350:]\n",
        "\n",
        "# 가까운 애들 몇명을 그룹으로 볼꺼니? (기본은 5)\n",
        "bmi_model = KNeighborsClassifier(n_neighbors=10)\n",
        "bmi_model.fit(X_train, y_train)\n",
        "pre = bmi_model.predict(X_test)\n",
        "\n",
        "# 정답과 testX값을 넣은 값을 비교함\n",
        "metrics.accuracy_score(y_test, pre)"
      ],
      "metadata": {
        "colab": {
          "base_uri": "https://localhost:8080/"
        },
        "id": "jNi_Uj9u0PIv",
        "outputId": "9f77995f-db74-47a5-d3ee-e0ba49a4b320"
      },
      "execution_count": 93,
      "outputs": [
        {
          "output_type": "stream",
          "name": "stdout",
          "text": [
            "(500, 2)\n",
            "(500,)\n"
          ]
        },
        {
          "output_type": "execute_result",
          "data": {
            "text/plain": [
              "0.9266666666666666"
            ]
          },
          "metadata": {},
          "execution_count": 93
        }
      ]
    },
    {
      "cell_type": "code",
      "source": [
        "bmi_model.predict( [ [185, 43],\n",
        "                        [100, 20]] )"
      ],
      "metadata": {
        "colab": {
          "base_uri": "https://localhost:8080/"
        },
        "id": "j_ltjokl20mA",
        "outputId": "170d5dc9-7859-4d6d-a82c-a2d63d6214cd"
      },
      "execution_count": 95,
      "outputs": [
        {
          "output_type": "stream",
          "name": "stderr",
          "text": [
            "/usr/local/lib/python3.7/dist-packages/sklearn/base.py:451: UserWarning: X does not have valid feature names, but KNeighborsClassifier was fitted with feature names\n",
            "  \"X does not have valid feature names, but\"\n"
          ]
        },
        {
          "output_type": "execute_result",
          "data": {
            "text/plain": [
              "array(['Extremely Weak', 'Normal'], dtype=object)"
            ]
          },
          "metadata": {},
          "execution_count": 95
        }
      ]
    },
    {
      "cell_type": "markdown",
      "metadata": {
        "id": "78ukD-195M_p"
      },
      "source": [
        "### 머신러닝(Machine Learning) 진행 과정\n",
        "\n",
        "1. ProblemIdentification (문제정의)\n",
        "2. Data Collect(데이터 수집)\n",
        "3. Data Preprocessing(데이터 전처리)\n",
        "4. EDA(탐색적 데이터분석)\n",
        "5. Model 선택, Hyper Parameter 조정\n",
        "6. 학습\n",
        "7. 모델 Evaluation(평가)\n"
      ]
    },
    {
      "cell_type": "markdown",
      "metadata": {
        "id": "-I4zA6pOMk9Z"
      },
      "source": [
        "1. 문제정의\n",
        " - 지도학습 : 분류, 회귀\n",
        " - 비지도학습 : 군집, 차원축소\n",
        " - 강화학습\n",
        "\n",
        "2. 데이터 수집\n",
        " - File Data, Database, 공공데이터, kaggle\n",
        " - Web Crawler (뉴스, SNS, 블로그)\n",
        " - IoT 센서를 통한 수집\n",
        "\n",
        "3. 데이터 전처리\n",
        " - 결측치, 이상치 수정\n",
        " - Encoding : Categorical Data를 수치 데이터로 변경, 원핫인코딩\n",
        " - Feature Engineering (특성공학) : 단위 변환, 새로운 속성 추가 (MinMaxScaler, StandardScaler, RobustScaler)\n",
        "\n",
        "4. EDA\n",
        " - 시각화를 통해 특성 선택 : (scatterplot, pairplot, boxplot, heatmap)\n",
        " - 사용할 Feature 선택 : 전처리 전략수립\n",
        "\n",
        "5. Model 선택, Hyper Parameter 조정\n",
        " - 목적에 맞는 적절한 모델 선택\n",
        "  - 지도학습\n",
        "\t - 분류 : knn, Logistic Regression, SVM, Decision Tree, RandomForest, GradientBoosting\n",
        "\t - 회귀 : knn, Linear Regression, Lasso, Ridge, Decision Tree, RandomForest, GradientBoosting\n",
        " - 하이퍼파라미터 튜닝\n",
        "\n",
        "6. 학습\n",
        " - model.fit(X_train, y_train) : train 데이터와 test 데이터를 7:3 정도로 나눔 (train_test_split)\n",
        " - model.predict(X_test) :  (cross_val_score)\n",
        "\n",
        "7. 평가\n",
        " -\t지도학습\n",
        "\t - 분류 : 정확도, 정밀도, 재현율, f1-score\n",
        "\t - 회귀 : R^2, MSE, RMSE\n",
        "\n",
        " -\t비지도학습\n",
        "\t- ARI 값"
      ]
    }
  ]
}