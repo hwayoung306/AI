{
  "cells": [
    {
      "cell_type": "markdown",
      "metadata": {
        "id": "view-in-github",
        "colab_type": "text"
      },
      "source": [
        "<a href=\"https://colab.research.google.com/github/hwayoung306/AI/blob/main/Pytorch%EB%A5%BC_%ED%99%9C%EC%9A%A9%ED%95%9C_%EC%88%98%ED%99%94_%EC%9D%B4%EB%AF%B8%EC%A7%80_%EB%B6%84%EB%A5%98.ipynb\" target=\"_parent\"><img src=\"https://colab.research.google.com/assets/colab-badge.svg\" alt=\"Open In Colab\"/></a>"
      ]
    },
    {
      "cell_type": "code",
      "execution_count": null,
      "metadata": {
        "colab": {
          "base_uri": "https://localhost:8080/"
        },
        "id": "lpGD1duDcY_I",
        "outputId": "fe271e01-9c15-43a9-fab1-791249793cca"
      },
      "outputs": [
        {
          "name": "stdout",
          "output_type": "stream",
          "text": [
            "Mounted at /content/drive\n"
          ]
        }
      ],
      "source": [
        "from google.colab import drive\n",
        "drive.mount('/content/drive')"
      ],
      "id": "lpGD1duDcY_I"
    },
    {
      "cell_type": "markdown",
      "metadata": {
        "id": "5d2596aa-e4f7-4bef-8d14-847ce76638e5"
      },
      "source": [
        "## 환경 설정 및 데이터 로드"
      ],
      "id": "5d2596aa-e4f7-4bef-8d14-847ce76638e5"
    },
    {
      "cell_type": "code",
      "execution_count": null,
      "metadata": {
        "id": "910728fe-552e-49e7-a506-f348cbd6a139"
      },
      "outputs": [],
      "source": [
        "import os\n",
        "import torch\n",
        "device = torch.device('cuda') if torch.cuda.is_available() else torch.device('cpu') #GPU 할당"
      ],
      "id": "910728fe-552e-49e7-a506-f348cbd6a139"
    },
    {
      "cell_type": "code",
      "execution_count": null,
      "metadata": {
        "id": "39ca54cf-89b3-4aea-9227-f34c0de160f2"
      },
      "outputs": [],
      "source": [
        "#하이퍼 파라미터 튜닝\n",
        "\n",
        "CFG = {\n",
        "    'IMG_SIZE':32, #이미지 사이즈\n",
        "    'EPOCHS':50, #에포크 : 학습 횟수\n",
        "    'LEARNING_RATE':1e-3, #학습률\n",
        "    'BATCH_SIZE':12, #배치사이즈 : 몇 개의 샘플로 가중치를 갱신할 것인지 설정\n",
        "    'SEED':41, #시드\n",
        "}"
      ],
      "id": "39ca54cf-89b3-4aea-9227-f34c0de160f2"
    },
    {
      "cell_type": "code",
      "execution_count": null,
      "metadata": {
        "id": "a6422473-9876-43f9-8bd0-4ef94e8ce3a1"
      },
      "outputs": [],
      "source": [
        "# Seed 고정\n",
        "import random\n",
        "import numpy as np\n",
        "\n",
        "def seed_everything(seed):\n",
        "    random.seed(seed)\n",
        "    os.environ['PYTHONHASHSEED'] = str(seed)\n",
        "    np.random.seed(seed)\n",
        "    torch.manual_seed(seed)\n",
        "    torch.cuda.manual_seed(seed)\n",
        "    torch.backends.cudnn.deterministic = True\n",
        "    torch.backends.cudnn.benchmark = True\n",
        "\n",
        "seed_everything(CFG['SEED']) # 하이퍼파라미터 5번 셀 정의 SEED = 41"
      ],
      "id": "a6422473-9876-43f9-8bd0-4ef94e8ce3a1"
    },
    {
      "cell_type": "markdown",
      "metadata": {
        "id": "qVVgG4dn-LTm"
      },
      "source": [
        "## 데이터 불러오기"
      ],
      "id": "qVVgG4dn-LTm"
    },
    {
      "cell_type": "code",
      "execution_count": null,
      "metadata": {
        "colab": {
          "base_uri": "https://localhost:8080/",
          "height": 206
        },
        "id": "ebc00966-da82-4cfd-85f5-60f8d18003b3",
        "outputId": "bc3f72fc-e703-4df5-c531-caeac6be907e"
      },
      "outputs": [
        {
          "data": {
            "text/html": [
              "\n",
              "  <div id=\"df-be5346df-980f-45ce-83a8-e4b7d50f37f2\">\n",
              "    <div class=\"colab-df-container\">\n",
              "      <div>\n",
              "<style scoped>\n",
              "    .dataframe tbody tr th:only-of-type {\n",
              "        vertical-align: middle;\n",
              "    }\n",
              "\n",
              "    .dataframe tbody tr th {\n",
              "        vertical-align: top;\n",
              "    }\n",
              "\n",
              "    .dataframe thead th {\n",
              "        text-align: right;\n",
              "    }\n",
              "</style>\n",
              "<table border=\"1\" class=\"dataframe\">\n",
              "  <thead>\n",
              "    <tr style=\"text-align: right;\">\n",
              "      <th></th>\n",
              "      <th>file_name</th>\n",
              "      <th>label</th>\n",
              "    </tr>\n",
              "  </thead>\n",
              "  <tbody>\n",
              "    <tr>\n",
              "      <th>0</th>\n",
              "      <td>001.png</td>\n",
              "      <td>10-2</td>\n",
              "    </tr>\n",
              "    <tr>\n",
              "      <th>1</th>\n",
              "      <td>002.png</td>\n",
              "      <td>10-1</td>\n",
              "    </tr>\n",
              "    <tr>\n",
              "      <th>2</th>\n",
              "      <td>003.png</td>\n",
              "      <td>3</td>\n",
              "    </tr>\n",
              "    <tr>\n",
              "      <th>3</th>\n",
              "      <td>004.png</td>\n",
              "      <td>8</td>\n",
              "    </tr>\n",
              "    <tr>\n",
              "      <th>4</th>\n",
              "      <td>005.png</td>\n",
              "      <td>9</td>\n",
              "    </tr>\n",
              "  </tbody>\n",
              "</table>\n",
              "</div>\n",
              "      <button class=\"colab-df-convert\" onclick=\"convertToInteractive('df-be5346df-980f-45ce-83a8-e4b7d50f37f2')\"\n",
              "              title=\"Convert this dataframe to an interactive table.\"\n",
              "              style=\"display:none;\">\n",
              "        \n",
              "  <svg xmlns=\"http://www.w3.org/2000/svg\" height=\"24px\"viewBox=\"0 0 24 24\"\n",
              "       width=\"24px\">\n",
              "    <path d=\"M0 0h24v24H0V0z\" fill=\"none\"/>\n",
              "    <path d=\"M18.56 5.44l.94 2.06.94-2.06 2.06-.94-2.06-.94-.94-2.06-.94 2.06-2.06.94zm-11 1L8.5 8.5l.94-2.06 2.06-.94-2.06-.94L8.5 2.5l-.94 2.06-2.06.94zm10 10l.94 2.06.94-2.06 2.06-.94-2.06-.94-.94-2.06-.94 2.06-2.06.94z\"/><path d=\"M17.41 7.96l-1.37-1.37c-.4-.4-.92-.59-1.43-.59-.52 0-1.04.2-1.43.59L10.3 9.45l-7.72 7.72c-.78.78-.78 2.05 0 2.83L4 21.41c.39.39.9.59 1.41.59.51 0 1.02-.2 1.41-.59l7.78-7.78 2.81-2.81c.8-.78.8-2.07 0-2.86zM5.41 20L4 18.59l7.72-7.72 1.47 1.35L5.41 20z\"/>\n",
              "  </svg>\n",
              "      </button>\n",
              "      \n",
              "  <style>\n",
              "    .colab-df-container {\n",
              "      display:flex;\n",
              "      flex-wrap:wrap;\n",
              "      gap: 12px;\n",
              "    }\n",
              "\n",
              "    .colab-df-convert {\n",
              "      background-color: #E8F0FE;\n",
              "      border: none;\n",
              "      border-radius: 50%;\n",
              "      cursor: pointer;\n",
              "      display: none;\n",
              "      fill: #1967D2;\n",
              "      height: 32px;\n",
              "      padding: 0 0 0 0;\n",
              "      width: 32px;\n",
              "    }\n",
              "\n",
              "    .colab-df-convert:hover {\n",
              "      background-color: #E2EBFA;\n",
              "      box-shadow: 0px 1px 2px rgba(60, 64, 67, 0.3), 0px 1px 3px 1px rgba(60, 64, 67, 0.15);\n",
              "      fill: #174EA6;\n",
              "    }\n",
              "\n",
              "    [theme=dark] .colab-df-convert {\n",
              "      background-color: #3B4455;\n",
              "      fill: #D2E3FC;\n",
              "    }\n",
              "\n",
              "    [theme=dark] .colab-df-convert:hover {\n",
              "      background-color: #434B5C;\n",
              "      box-shadow: 0px 1px 3px 1px rgba(0, 0, 0, 0.15);\n",
              "      filter: drop-shadow(0px 1px 2px rgba(0, 0, 0, 0.3));\n",
              "      fill: #FFFFFF;\n",
              "    }\n",
              "  </style>\n",
              "\n",
              "      <script>\n",
              "        const buttonEl =\n",
              "          document.querySelector('#df-be5346df-980f-45ce-83a8-e4b7d50f37f2 button.colab-df-convert');\n",
              "        buttonEl.style.display =\n",
              "          google.colab.kernel.accessAllowed ? 'block' : 'none';\n",
              "\n",
              "        async function convertToInteractive(key) {\n",
              "          const element = document.querySelector('#df-be5346df-980f-45ce-83a8-e4b7d50f37f2');\n",
              "          const dataTable =\n",
              "            await google.colab.kernel.invokeFunction('convertToInteractive',\n",
              "                                                     [key], {});\n",
              "          if (!dataTable) return;\n",
              "\n",
              "          const docLinkHtml = 'Like what you see? Visit the ' +\n",
              "            '<a target=\"_blank\" href=https://colab.research.google.com/notebooks/data_table.ipynb>data table notebook</a>'\n",
              "            + ' to learn more about interactive tables.';\n",
              "          element.innerHTML = '';\n",
              "          dataTable['output_type'] = 'display_data';\n",
              "          await google.colab.output.renderOutput(dataTable, element);\n",
              "          const docLink = document.createElement('div');\n",
              "          docLink.innerHTML = docLinkHtml;\n",
              "          element.appendChild(docLink);\n",
              "        }\n",
              "      </script>\n",
              "    </div>\n",
              "  </div>\n",
              "  "
            ],
            "text/plain": [
              "  file_name label\n",
              "0   001.png  10-2\n",
              "1   002.png  10-1\n",
              "2   003.png     3\n",
              "3   004.png     8\n",
              "4   005.png     9"
            ]
          },
          "execution_count": 5,
          "metadata": {},
          "output_type": "execute_result"
        }
      ],
      "source": [
        "import pandas as pd\n",
        "label_df = pd.read_csv('/content/drive/MyDrive/Colab Notebooks/user_data/train.csv')\n",
        "label_df.head()"
      ],
      "id": "ebc00966-da82-4cfd-85f5-60f8d18003b3"
    },
    {
      "cell_type": "code",
      "execution_count": null,
      "metadata": {
        "colab": {
          "base_uri": "https://localhost:8080/"
        },
        "id": "1nhYAIn9MZL7",
        "outputId": "d34e46f3-dbe5-47ea-a738-01f189401266"
      },
      "outputs": [
        {
          "name": "stdout",
          "output_type": "stream",
          "text": [
            "<class 'pandas.core.frame.DataFrame'>\n",
            "RangeIndex: 1707 entries, 0 to 1706\n",
            "Data columns (total 2 columns):\n",
            " #   Column     Non-Null Count  Dtype \n",
            "---  ------     --------------  ----- \n",
            " 0   file_name  1707 non-null   object\n",
            " 1   label      1707 non-null   object\n",
            "dtypes: object(2)\n",
            "memory usage: 26.8+ KB\n"
          ]
        }
      ],
      "source": [
        "label_df.info()"
      ],
      "id": "1nhYAIn9MZL7"
    },
    {
      "cell_type": "markdown",
      "metadata": {
        "id": "1d6417ae-d0c8-48d1-958d-345697e82873"
      },
      "source": [
        "## 데이터 전처리"
      ],
      "id": "1d6417ae-d0c8-48d1-958d-345697e82873"
    },
    {
      "cell_type": "code",
      "execution_count": null,
      "metadata": {
        "id": "iowxgYXHNsP5"
      },
      "outputs": [],
      "source": [
        "label_df['label'][label_df['label'] == '10-1'] = 10 ## label : 10-1 -> 10\n",
        "label_df['label'][label_df['label'] == '10-2'] = 0 ## Label : 10-2 -> 0\n",
        "label_df['label'] = label_df['label'].astype(int) ## type을 object에서 int로 변경"
      ],
      "id": "iowxgYXHNsP5"
    },
    {
      "cell_type": "code",
      "execution_count": null,
      "metadata": {
        "colab": {
          "base_uri": "https://localhost:8080/",
          "height": 206
        },
        "id": "a827ee94-09b8-47f0-84d8-aee463907f63",
        "outputId": "e17d5927-c1ba-4ed4-8c73-13e49f4360dc"
      },
      "outputs": [
        {
          "data": {
            "text/html": [
              "\n",
              "  <div id=\"df-464d4dd1-580a-4aaa-8cf1-cf23ec3b1967\">\n",
              "    <div class=\"colab-df-container\">\n",
              "      <div>\n",
              "<style scoped>\n",
              "    .dataframe tbody tr th:only-of-type {\n",
              "        vertical-align: middle;\n",
              "    }\n",
              "\n",
              "    .dataframe tbody tr th {\n",
              "        vertical-align: top;\n",
              "    }\n",
              "\n",
              "    .dataframe thead th {\n",
              "        text-align: right;\n",
              "    }\n",
              "</style>\n",
              "<table border=\"1\" class=\"dataframe\">\n",
              "  <thead>\n",
              "    <tr style=\"text-align: right;\">\n",
              "      <th></th>\n",
              "      <th>file_name</th>\n",
              "      <th>label</th>\n",
              "    </tr>\n",
              "  </thead>\n",
              "  <tbody>\n",
              "    <tr>\n",
              "      <th>0</th>\n",
              "      <td>001.png</td>\n",
              "      <td>0</td>\n",
              "    </tr>\n",
              "    <tr>\n",
              "      <th>1</th>\n",
              "      <td>002.png</td>\n",
              "      <td>10</td>\n",
              "    </tr>\n",
              "    <tr>\n",
              "      <th>2</th>\n",
              "      <td>003.png</td>\n",
              "      <td>3</td>\n",
              "    </tr>\n",
              "    <tr>\n",
              "      <th>3</th>\n",
              "      <td>004.png</td>\n",
              "      <td>8</td>\n",
              "    </tr>\n",
              "    <tr>\n",
              "      <th>4</th>\n",
              "      <td>005.png</td>\n",
              "      <td>9</td>\n",
              "    </tr>\n",
              "  </tbody>\n",
              "</table>\n",
              "</div>\n",
              "      <button class=\"colab-df-convert\" onclick=\"convertToInteractive('df-464d4dd1-580a-4aaa-8cf1-cf23ec3b1967')\"\n",
              "              title=\"Convert this dataframe to an interactive table.\"\n",
              "              style=\"display:none;\">\n",
              "        \n",
              "  <svg xmlns=\"http://www.w3.org/2000/svg\" height=\"24px\"viewBox=\"0 0 24 24\"\n",
              "       width=\"24px\">\n",
              "    <path d=\"M0 0h24v24H0V0z\" fill=\"none\"/>\n",
              "    <path d=\"M18.56 5.44l.94 2.06.94-2.06 2.06-.94-2.06-.94-.94-2.06-.94 2.06-2.06.94zm-11 1L8.5 8.5l.94-2.06 2.06-.94-2.06-.94L8.5 2.5l-.94 2.06-2.06.94zm10 10l.94 2.06.94-2.06 2.06-.94-2.06-.94-.94-2.06-.94 2.06-2.06.94z\"/><path d=\"M17.41 7.96l-1.37-1.37c-.4-.4-.92-.59-1.43-.59-.52 0-1.04.2-1.43.59L10.3 9.45l-7.72 7.72c-.78.78-.78 2.05 0 2.83L4 21.41c.39.39.9.59 1.41.59.51 0 1.02-.2 1.41-.59l7.78-7.78 2.81-2.81c.8-.78.8-2.07 0-2.86zM5.41 20L4 18.59l7.72-7.72 1.47 1.35L5.41 20z\"/>\n",
              "  </svg>\n",
              "      </button>\n",
              "      \n",
              "  <style>\n",
              "    .colab-df-container {\n",
              "      display:flex;\n",
              "      flex-wrap:wrap;\n",
              "      gap: 12px;\n",
              "    }\n",
              "\n",
              "    .colab-df-convert {\n",
              "      background-color: #E8F0FE;\n",
              "      border: none;\n",
              "      border-radius: 50%;\n",
              "      cursor: pointer;\n",
              "      display: none;\n",
              "      fill: #1967D2;\n",
              "      height: 32px;\n",
              "      padding: 0 0 0 0;\n",
              "      width: 32px;\n",
              "    }\n",
              "\n",
              "    .colab-df-convert:hover {\n",
              "      background-color: #E2EBFA;\n",
              "      box-shadow: 0px 1px 2px rgba(60, 64, 67, 0.3), 0px 1px 3px 1px rgba(60, 64, 67, 0.15);\n",
              "      fill: #174EA6;\n",
              "    }\n",
              "\n",
              "    [theme=dark] .colab-df-convert {\n",
              "      background-color: #3B4455;\n",
              "      fill: #D2E3FC;\n",
              "    }\n",
              "\n",
              "    [theme=dark] .colab-df-convert:hover {\n",
              "      background-color: #434B5C;\n",
              "      box-shadow: 0px 1px 3px 1px rgba(0, 0, 0, 0.15);\n",
              "      filter: drop-shadow(0px 1px 2px rgba(0, 0, 0, 0.3));\n",
              "      fill: #FFFFFF;\n",
              "    }\n",
              "  </style>\n",
              "\n",
              "      <script>\n",
              "        const buttonEl =\n",
              "          document.querySelector('#df-464d4dd1-580a-4aaa-8cf1-cf23ec3b1967 button.colab-df-convert');\n",
              "        buttonEl.style.display =\n",
              "          google.colab.kernel.accessAllowed ? 'block' : 'none';\n",
              "\n",
              "        async function convertToInteractive(key) {\n",
              "          const element = document.querySelector('#df-464d4dd1-580a-4aaa-8cf1-cf23ec3b1967');\n",
              "          const dataTable =\n",
              "            await google.colab.kernel.invokeFunction('convertToInteractive',\n",
              "                                                     [key], {});\n",
              "          if (!dataTable) return;\n",
              "\n",
              "          const docLinkHtml = 'Like what you see? Visit the ' +\n",
              "            '<a target=\"_blank\" href=https://colab.research.google.com/notebooks/data_table.ipynb>data table notebook</a>'\n",
              "            + ' to learn more about interactive tables.';\n",
              "          element.innerHTML = '';\n",
              "          dataTable['output_type'] = 'display_data';\n",
              "          await google.colab.output.renderOutput(dataTable, element);\n",
              "          const docLink = document.createElement('div');\n",
              "          docLink.innerHTML = docLinkHtml;\n",
              "          element.appendChild(docLink);\n",
              "        }\n",
              "      </script>\n",
              "    </div>\n",
              "  </div>\n",
              "  "
            ],
            "text/plain": [
              "  file_name  label\n",
              "0   001.png      0\n",
              "1   002.png     10\n",
              "2   003.png      3\n",
              "3   004.png      8\n",
              "4   005.png      9"
            ]
          },
          "execution_count": 8,
          "metadata": {},
          "output_type": "execute_result"
        }
      ],
      "source": [
        "label_df.head()"
      ],
      "id": "a827ee94-09b8-47f0-84d8-aee463907f63"
    },
    {
      "cell_type": "code",
      "execution_count": null,
      "metadata": {
        "colab": {
          "base_uri": "https://localhost:8080/"
        },
        "id": "1f92fa75-b270-4476-8380-a1ba5d8f9ede",
        "outputId": "74cde999-06aa-4559-d809-a06b2eabca03"
      },
      "outputs": [
        {
          "name": "stdout",
          "output_type": "stream",
          "text": [
            "<class 'pandas.core.frame.DataFrame'>\n",
            "RangeIndex: 1707 entries, 0 to 1706\n",
            "Data columns (total 2 columns):\n",
            " #   Column     Non-Null Count  Dtype \n",
            "---  ------     --------------  ----- \n",
            " 0   file_name  1707 non-null   object\n",
            " 1   label      1707 non-null   int64 \n",
            "dtypes: int64(1), object(1)\n",
            "memory usage: 26.8+ KB\n"
          ]
        }
      ],
      "source": [
        "label_df.info()"
      ],
      "id": "1f92fa75-b270-4476-8380-a1ba5d8f9ede"
    },
    {
      "cell_type": "markdown",
      "metadata": {
        "id": "Lswrpeud-Qo4"
      },
      "source": [
        "## 새로운 데이터 list에 넣기"
      ],
      "id": "Lswrpeud-Qo4"
    },
    {
      "cell_type": "code",
      "execution_count": null,
      "metadata": {
        "id": "A6YtXn0YQzvg"
      },
      "outputs": [],
      "source": [
        "# x = '/content/drive/MyDrive/Colab Notebooks/user_data/train/006.png'"
      ],
      "id": "A6YtXn0YQzvg"
    },
    {
      "cell_type": "code",
      "execution_count": null,
      "metadata": {
        "id": "Wlt8iEYtnYEt"
      },
      "outputs": [],
      "source": [
        "# # 이미지의 local adress가 어떻게 분류되는지 확인\n",
        "# print( x.split('/')[-1] ) # 파일 명만 가져오기\n",
        "# print( x.split('/')[-1].split('.')[0] ) # 파일 명에서 확장자 빼고 사진 이름(숫자)만 가져오기"
      ],
      "id": "Wlt8iEYtnYEt"
    },
    {
      "cell_type": "code",
      "execution_count": null,
      "metadata": {
        "id": "PvvqA8tun2aT"
      },
      "outputs": [],
      "source": [
        "# label_df['label'] # 사진에 담긴 수화의 값"
      ],
      "id": "PvvqA8tun2aT"
    },
    {
      "cell_type": "code",
      "execution_count": null,
      "metadata": {
        "id": "o27fexBLMksH"
      },
      "outputs": [],
      "source": [
        "from glob import glob\n",
        "\n",
        "def get_train_data(data_dir):\n",
        "    img_path_list = []\n",
        "    label_list = []\n",
        "    \n",
        "    # get image path\n",
        "    img_path_list.extend(glob(os.path.join(data_dir, '*.png')))\n",
        "    img_path_list.sort(key=lambda x:int(x.split('/')[-1].split('.')[0]))\n",
        "        \n",
        "    # get label\n",
        "    #label_df = pd.read_csv(data_dir+'/train.csv')\n",
        "    label_list.extend(label_df['label'])\n",
        "                \n",
        "    return img_path_list, label_list\n",
        "\n",
        "def get_test_data(data_dir):\n",
        "    img_path_list = []\n",
        "    \n",
        "    # get image path\n",
        "    img_path_list.extend(glob(os.path.join(data_dir, '*.png')))\n",
        "    img_path_list.sort(key=lambda x:int(x.split('/')[-1].split('.')[0]))\n",
        "\n",
        "    \n",
        "    return img_path_list"
      ],
      "id": "o27fexBLMksH"
    },
    {
      "cell_type": "code",
      "execution_count": null,
      "metadata": {
        "id": "d1ebd199-a743-43b2-8acd-a21c2479766f"
      },
      "outputs": [],
      "source": [
        "# 학습 데이터 중 전체 이미지 데이터, 전체 답\n",
        "all_img_path, all_label = get_train_data('/content/drive/MyDrive/Colab Notebooks/user_data/train')"
      ],
      "id": "d1ebd199-a743-43b2-8acd-a21c2479766f"
    },
    {
      "cell_type": "code",
      "execution_count": null,
      "metadata": {
        "id": "E3-qMSFG5Gcx"
      },
      "outputs": [],
      "source": [
        "# 테스트 데이터 중 전체 이미지 데이터(답이 없음)\n",
        "test_img_path  = get_test_data('/content/drive/MyDrive/Colab Notebooks/user_data/test') "
      ],
      "id": "E3-qMSFG5Gcx"
    },
    {
      "cell_type": "code",
      "execution_count": null,
      "metadata": {
        "colab": {
          "base_uri": "https://localhost:8080/"
        },
        "id": "6uTmO-irShBW",
        "outputId": "b4aadc2d-7685-4d4c-deb0-c7fb9a266385"
      },
      "outputs": [
        {
          "name": "stdout",
          "output_type": "stream",
          "text": [
            "['/content/drive/MyDrive/Colab Notebooks/user_data/train/001.png', '/content/drive/MyDrive/Colab Notebooks/user_data/train/002.png']\n",
            "\n",
            "[0, 10, 3, 8, 9]\n",
            "\n",
            "['/content/drive/MyDrive/Colab Notebooks/user_data/test/001.png', '/content/drive/MyDrive/Colab Notebooks/user_data/test/002.png']\n",
            "\n"
          ]
        }
      ],
      "source": [
        "print( all_img_path[0:2] )      ; print() # 이미지 경로를 이미지 번호에 따라 오름차순 \n",
        "print( all_label[0:5] )         ; print() # 이미지에 따른 라벨\n",
        "print( test_img_path[0:2] )     ; print()  # 테스트 이미지 경로"
      ],
      "id": "6uTmO-irShBW"
    },
    {
      "cell_type": "markdown",
      "metadata": {
        "id": "66945185-5309-49db-905c-9c1940b6ae7d"
      },
      "source": [
        "## CustomDataset\n",
        "\n",
        "전체 dataset을 구성하는 단계입니다.  "
      ],
      "id": "66945185-5309-49db-905c-9c1940b6ae7d"
    },
    {
      "cell_type": "code",
      "execution_count": null,
      "metadata": {
        "id": "7c734df1-539b-4a77-9fb5-fb98cdf96d24"
      },
      "outputs": [],
      "source": [
        "import torchvision.datasets as datasets # 이미지 데이터셋 집합체\n",
        "import torchvision.transforms as transforms # 이미지 변환 툴\n",
        "\n",
        "from torch.utils.data import DataLoader # 학습 및 배치로 모델에 넣어주기 위한 툴\n",
        "from torch.utils.data import DataLoader, Dataset\n",
        "\n",
        "class CustomDataset(Dataset):\n",
        "    def __init__(self, img_path_list, label_list, train_mode=True, transforms=None): #필요한 변수들을 선언\n",
        "        self.transforms = transforms\n",
        "        self.train_mode = train_mode\n",
        "        self.img_path_list = img_path_list\n",
        "        self.label_list = label_list\n",
        "\n",
        "    def __getitem__(self, index): #index번째 data를 return\n",
        "        img_path = self.img_path_list[index]\n",
        "        # Get image data\n",
        "        image = cv2.imread(img_path)\n",
        "        if self.transforms is not None: # 변환하는 법을 지정했다면~!\n",
        "            image = self.transforms(image)\n",
        "\n",
        "        if self.train_mode: # train_mode가 true라면 -> 학습 데이터라면?\n",
        "            label = self.label_list[index]\n",
        "            return image, label # index번째 사진과 label을 return\n",
        "        else:\n",
        "            return image        # 아니면 image만 리턴\n",
        "    \n",
        "    def __len__(self): #길이 return\n",
        "        return len(self.img_path_list) # 이미지가 몇개 있는지 return하는 듯"
      ],
      "id": "7c734df1-539b-4a77-9fb5-fb98cdf96d24"
    },
    {
      "cell_type": "markdown",
      "metadata": {
        "id": "fc647014-94ac-4b98-9246-fcddbb8ed99a"
      },
      "source": [
        "#### Train / Validation Split\n",
        "\n",
        "그럼 학습시킬 데이터 셋과 검증할 데이터 셋을 분리해주도록 하겠습니다."
      ],
      "id": "fc647014-94ac-4b98-9246-fcddbb8ed99a"
    },
    {
      "cell_type": "code",
      "execution_count": null,
      "metadata": {
        "id": "SE9B0LW0QJ8j"
      },
      "outputs": [],
      "source": [
        "before_path = all_img_path[:1657]\n",
        "before_label = all_label[:1657]\n",
        "\n",
        "after_path = all_img_path[1657:]\n",
        "after_label =  all_label[1657:]"
      ],
      "id": "SE9B0LW0QJ8j"
    },
    {
      "cell_type": "code",
      "execution_count": null,
      "metadata": {
        "colab": {
          "base_uri": "https://localhost:8080/"
        },
        "id": "n8CFWzzPRj1O",
        "outputId": "c452026e-57c9-4a30-858f-6e696eb27030"
      },
      "outputs": [
        {
          "data": {
            "text/plain": [
              "(1707, 1657, 50)"
            ]
          },
          "execution_count": 29,
          "metadata": {},
          "output_type": "execute_result"
        }
      ],
      "source": [
        "len(all_img_path) , len(before_path), len(after_path)"
      ],
      "id": "n8CFWzzPRj1O"
    },
    {
      "cell_type": "code",
      "execution_count": null,
      "metadata": {
        "id": "ioXnv71VRHnd"
      },
      "outputs": [],
      "source": [
        "before_len = int(len(before_path)*0.75)\n",
        "after_len = int(len(after_path)*0.75)"
      ],
      "id": "ioXnv71VRHnd"
    },
    {
      "cell_type": "code",
      "execution_count": null,
      "metadata": {
        "colab": {
          "base_uri": "https://localhost:8080/"
        },
        "id": "uExUD3EvR-JY",
        "outputId": "a64b5407-a165-40ff-e5e7-23b1bacf7e4b"
      },
      "outputs": [
        {
          "data": {
            "text/plain": [
              "(1242, 37)"
            ]
          },
          "execution_count": 34,
          "metadata": {},
          "output_type": "execute_result"
        }
      ],
      "source": [
        "before_len, after_len"
      ],
      "id": "uExUD3EvR-JY"
    },
    {
      "cell_type": "code",
      "execution_count": null,
      "metadata": {
        "id": "j0ADAjgERVhA"
      },
      "outputs": [],
      "source": [
        "train_img_path = before_path[:before_len] + after_path[:after_len]\n",
        "train_label = before_label[:before_len] + before_label[:after_len]\n",
        "\n",
        "vali_img_path = before_path[before_len:] + after_path[after_len:]\n",
        "vali_label = before_label[before_len:] + before_label[after_len:] # 검증 답"
      ],
      "id": "j0ADAjgERVhA"
    },
    {
      "cell_type": "code",
      "execution_count": null,
      "metadata": {
        "colab": {
          "base_uri": "https://localhost:8080/"
        },
        "id": "693b0790-be52-4163-9a47-64d74cacf458",
        "outputId": "f4dd62ef-8fc1-40d3-9c45-0c24518a6c24"
      },
      "outputs": [
        {
          "name": "stdout",
          "output_type": "stream",
          "text": [
            "데이터 총 길이 :  1707\n",
            "train set 길이 :  1279\n",
            "vaildation set 길이 :  428\n",
            "학습 + 확인 :  1707\n"
          ]
        }
      ],
      "source": [
        "print( '데이터 총 길이 : ', len(all_img_path) )\n",
        "print( 'train set 길이 : ', len(train_img_path) )\n",
        "print( 'vaildation set 길이 : ', len(vali_img_path) )\n",
        "print( '학습 + 확인 : ',  len(train_img_path) + len(vali_img_path) )"
      ],
      "id": "693b0790-be52-4163-9a47-64d74cacf458"
    },
    {
      "cell_type": "code",
      "execution_count": null,
      "metadata": {
        "id": "3eb4d8e3-2404-4ae5-8caa-61c63b3422e7"
      },
      "outputs": [],
      "source": [
        "# 이렇게 변형 하겠다고 정의 함\n",
        "train_transform = transforms.Compose([\n",
        "                    transforms.ToPILImage(), #Numpy배열에서 PIL이미지로\n",
        "                    transforms.Resize([CFG['IMG_SIZE'], CFG['IMG_SIZE']]), #이미지 사이즈 변형\n",
        "                    transforms.ToTensor(), #이미지 데이터를 tensor\n",
        "                    transforms.Normalize(mean=(0.5, 0.5, 0.5), std=(0.5, 0.5, 0.5)) #이미지 정규화\n",
        "                    \n",
        "                    ])\n",
        "\n",
        "test_transform = transforms.Compose([\n",
        "                    transforms.ToPILImage(),\n",
        "                    transforms.Resize([CFG['IMG_SIZE'], CFG['IMG_SIZE']]),\n",
        "                    transforms.ToTensor(),\n",
        "                    transforms.Normalize(mean=(0.5, 0.5, 0.5), std=(0.5, 0.5, 0.5))\n",
        "                    ])"
      ],
      "id": "3eb4d8e3-2404-4ae5-8caa-61c63b3422e7"
    },
    {
      "cell_type": "markdown",
      "metadata": {
        "id": "ad381ec7-5d5b-4fca-b853-01d27c767b4e"
      },
      "source": [
        "## Dataloader\n",
        "Dataloader class는 batch(한번에 처리하는 샘플 사이즈)기반의 딥러닝모델 학습을 위해서 mini batch를 만들어주는 역할을 합니다. \n",
        "\n",
        "dataloader를 통해 dataset의 전체 데이터가 batch size로 나뉘게 됩니다. \n",
        "\n",
        "만들었던 dataset을 input으로 넣어주면 여러 옵션(데이터 묶기, 섞기, 알아서 병렬처리)을 통해 batch를 만들어 내는 것입니다."
      ],
      "id": "ad381ec7-5d5b-4fca-b853-01d27c767b4e"
    },
    {
      "cell_type": "markdown",
      "metadata": {
        "id": "8ZIh0sevvgJF"
      },
      "source": [
        "* Train data를 DataLoader에 적용해 batch만들기"
      ],
      "id": "8ZIh0sevvgJF"
    },
    {
      "cell_type": "code",
      "execution_count": null,
      "metadata": {
        "id": "47a89e66-3e90-4eb1-9f3a-42b67cf7f01e"
      },
      "outputs": [],
      "source": [
        "# Get Dataloader\n",
        "#CustomDataset class[ 25번째 셀 ] 를 통하여 train dataset생성\n",
        "train_dataset = CustomDataset(train_img_path, train_label, train_mode=True, transforms=train_transform)"
      ],
      "id": "47a89e66-3e90-4eb1-9f3a-42b67cf7f01e"
    },
    {
      "cell_type": "markdown",
      "metadata": {
        "id": "qBJJyf1svr2i"
      },
      "source": [
        "* Vaildation을 DataLoader에 적용해 batch만들기"
      ],
      "id": "qBJJyf1svr2i"
    },
    {
      "cell_type": "code",
      "execution_count": null,
      "metadata": {
        "id": "QGF83vSpvay1"
      },
      "outputs": [],
      "source": [
        "# vaildation 에서도 적용\n",
        "vali_dataset = CustomDataset(vali_img_path, vali_label, train_mode=True, transforms=test_transform)"
      ],
      "id": "QGF83vSpvay1"
    },
    {
      "cell_type": "code",
      "execution_count": null,
      "metadata": {
        "id": "9gPz6IG_8wkv"
      },
      "outputs": [],
      "source": [
        "for i in range(5): ## 데이터 수 10배 증가 (100배로 증가시키고나서 진행해봤지만 성능은 더 안좋아졌습니다. 0.78정도)\n",
        "    train_dataset+= CustomDataset(train_img_path, train_label, train_mode=True, transforms=train_transform)\n",
        "    vali_dataset += CustomDataset(vali_img_path, vali_label, train_mode=True, transforms=test_transform)"
      ],
      "id": "9gPz6IG_8wkv"
    },
    {
      "cell_type": "code",
      "execution_count": null,
      "metadata": {
        "id": "6kxTwPlK8mD1"
      },
      "outputs": [],
      "source": [
        "# 만든 train dataset를 DataLoader에 넣어 batch 만들기\n",
        "train_loader = DataLoader(train_dataset, batch_size = CFG['BATCH_SIZE'], shuffle=True, num_workers=0) #BATCH_SIZE : 12\n",
        "vali_loader = DataLoader(vali_dataset, batch_size = CFG['BATCH_SIZE'], shuffle=False, num_workers=0)"
      ],
      "id": "6kxTwPlK8mD1"
    },
    {
      "cell_type": "code",
      "execution_count": null,
      "metadata": {
        "colab": {
          "base_uri": "https://localhost:8080/"
        },
        "id": "91923a3c-cd7a-467b-83ca-c28cd2aca897",
        "outputId": "253466ee-c787-4283-c199-7a2a00774e7f"
      },
      "outputs": [
        {
          "name": "stdout",
          "output_type": "stream",
          "text": [
            "total train imgs : 1279 / total train batches : 640\n",
            "total valid imgs : 428 / total valid batches : 214\n"
          ]
        }
      ],
      "source": [
        "train_batches = len(train_loader)\n",
        "vali_batches = len(vali_loader)\n",
        "\n",
        "print('total train imgs :', len(train_img_path),'/ total train batches :', train_batches)\n",
        "print('total valid imgs :', len(vali_img_path), '/ total valid batches :', vali_batches)"
      ],
      "id": "91923a3c-cd7a-467b-83ca-c28cd2aca897"
    },
    {
      "cell_type": "markdown",
      "metadata": {
        "id": "5a1db1a3-6407-4d2f-9ada-275d3b739095"
      },
      "source": [
        "## 이미지 및 shape 확인\n",
        "\n",
        "Dataloader를 통해서 이미지가 잘 넣어졌는지 확인해보도록 해보겠습니다.    \n"
      ],
      "id": "5a1db1a3-6407-4d2f-9ada-275d3b739095"
    },
    {
      "cell_type": "code",
      "execution_count": null,
      "metadata": {
        "id": "ebe290b9-7ad5-4f00-8ed4-585ccad79fd3"
      },
      "outputs": [],
      "source": [
        "import cv2\n",
        "import matplotlib.pyplot as plt\n",
        "\n",
        "train_features, train_labels = next(iter(train_loader)) # iter는 반복 가능한 객체에서 이터레이터를 반환하고, \n",
        "# 특성          라벨=정답                               # next는 이터레이터에서 값을 차례대로 꺼냅니다. \n",
        "# 12개로 묶어서 12개씩 들어있음"
      ],
      "id": "ebe290b9-7ad5-4f00-8ed4-585ccad79fd3"
    },
    {
      "cell_type": "code",
      "execution_count": null,
      "metadata": {
        "colab": {
          "base_uri": "https://localhost:8080/"
        },
        "id": "xsGRYcooxTJj",
        "outputId": "a29c2dab-ebc5-42a0-c4f4-0806054df6a6"
      },
      "outputs": [
        {
          "data": {
            "text/plain": [
              "tensor([ 8,  7,  2,  2,  8,  4, 10,  1,  3,  1, 10,  5])"
            ]
          },
          "execution_count": 45,
          "metadata": {},
          "output_type": "execute_result"
        }
      ],
      "source": [
        "train_labels"
      ],
      "id": "xsGRYcooxTJj"
    },
    {
      "cell_type": "code",
      "execution_count": null,
      "metadata": {
        "colab": {
          "base_uri": "https://localhost:8080/",
          "height": 284
        },
        "id": "kD7ox5KdxC5v",
        "outputId": "b5f18668-a7d3-4149-8e2e-ae5d491b4e35"
      },
      "outputs": [
        {
          "data": {
            "image/png": "[encoded data removed]",
            "text/plain": [
              "<Figure size 432x288 with 1 Axes>"
            ]
          },
          "metadata": {},
          "output_type": "display_data"
        },
        {
          "name": "stdout",
          "output_type": "stream",
          "text": [
            "Label: 8\n"
          ]
        }
      ],
      "source": [
        "img = train_features[0] # \n",
        "label = train_labels[0]\n",
        "plt.imshow(img[0], cmap=\"gray\")\n",
        "plt.show()\n",
        "print(f\"Label: {label}\")"
      ],
      "id": "kD7ox5KdxC5v"
    },
    {
      "cell_type": "markdown",
      "metadata": {
        "id": "427339b3-0b40-4e26-8aad-b824b5e1a0c2"
      },
      "source": [
        "이미지와 라벨이 정상적으로 출력된 것을 확인했습니다.\n",
        "\n",
        "그럼 torch의 shape가 옳바르게 입력이 되었는지 확인해보도록 하겠습니다."
      ],
      "id": "427339b3-0b40-4e26-8aad-b824b5e1a0c2"
    },
    {
      "cell_type": "code",
      "execution_count": null,
      "metadata": {
        "colab": {
          "base_uri": "https://localhost:8080/"
        },
        "id": "0cedcdb1-8052-4d4b-a655-8f04dadbb172",
        "outputId": "0d592372-e2b9-4a4c-ffdc-37bdfc8c3453"
      },
      "outputs": [
        {
          "name": "stdout",
          "output_type": "stream",
          "text": [
            "Feature batch shape: torch.Size([12, 3, 32, 32])\n",
            "Batch Labels shape: tensor([ 8,  7,  2,  2,  8,  4, 10,  1,  3,  1, 10,  5])\n"
          ]
        }
      ],
      "source": [
        "print(f\"Feature batch shape: {train_features.size()}\")\n",
        "print(f\"Batch Labels shape: {train_labels}\")"
      ],
      "id": "0cedcdb1-8052-4d4b-a655-8f04dadbb172"
    },
    {
      "cell_type": "markdown",
      "metadata": {
        "id": "8454eacb-69c7-4bc8-9e43-d05f10bad445"
      },
      "source": [
        "torch.Size([12, 3, 128, 128])는 (batch_size, channels, high, width)를 의미합니다.   \n",
        "Label의 shape를 보면 정상적으로 배치사이즈(12)만큼 나오는 것을 확인할 수 있습니다."
      ],
      "id": "8454eacb-69c7-4bc8-9e43-d05f10bad445"
    },
    {
      "cell_type": "markdown",
      "metadata": {
        "id": "2f23af3a-3761-4f08-9139-fd9a82c4368a"
      },
      "source": [
        "## 모델 구조 정의\n",
        "\n",
        "이제 CNN 모델을 학습시키기 위한 데이터가 준비되었다면   \n",
        "모델 구조를 설정하는 단계로 넘어가겠습니다."
      ],
      "id": "2f23af3a-3761-4f08-9139-fd9a82c4368a"
    },
    {
      "cell_type": "code",
      "execution_count": null,
      "metadata": {
        "id": "Pp9dobAE_E7i"
      },
      "outputs": [],
      "source": [
        "from tqdm.auto import tqdm\n",
        "import torch.nn as nn # 신경망들이 포함됨\n",
        "#import torch.nn.init as init # 텐서에 초기값을 줌\n",
        "\n",
        "class CNNclassification(torch.nn.Module):\n",
        "    def __init__(self):\n",
        "        super(CNNclassification, self).__init__()\n",
        "        self.keep_prob = 0.5 ## dropout에서 쓰임\n",
        "        self.layer1 = torch.nn.Sequential(\n",
        "            ##채널=1\n",
        "            torch.nn.Conv2d(3, 32, kernel_size=3, stride=1, padding=1),\n",
        "            torch.nn.BatchNorm2d(32),\n",
        "            torch.nn.ReLU(),\n",
        "            torch.nn.MaxPool2d(kernel_size=2, stride=2)) ## 절반으로 줄어듬\n",
        "        \n",
        "        \n",
        "        self.layer2 = torch.nn.Sequential(\n",
        "            torch.nn.Conv2d(32, 64, kernel_size=3, stride=1, padding=1),\n",
        "            torch.nn.BatchNorm2d(64),\n",
        "            torch.nn.ReLU(),\n",
        "            torch.nn.MaxPool2d(kernel_size=2, stride=2))\n",
        "        \n",
        "        \n",
        "        self.layer3 = torch.nn.Sequential(\n",
        "            torch.nn.Conv2d(64, 128, kernel_size=3, stride=1, padding=1),\n",
        "            torch.nn.BatchNorm2d(128),\n",
        "            torch.nn.ReLU(),\n",
        "            torch.nn.MaxPool2d(kernel_size=2, stride=2))\n",
        "\n",
        "        \n",
        "        self.fc1 = torch.nn.Linear(4 * 4 * 128, 363, bias=True)\n",
        "        # torch.nn.init.kaiming_normal_(self.fc1.weight, mode='fan_in', nonlinearity='relu')\n",
        "        \n",
        "        self.layer4 = torch.nn.Sequential(\n",
        "            self.fc1,\n",
        "            torch.nn.ReLU(), ##ReLU Sigmoid\n",
        "            torch.nn.Dropout(p=1 - self.keep_prob))\n",
        "        \n",
        "        self.fc2 = torch.nn.Linear(363, 11, bias=True)\n",
        "        torch.nn.init.xavier_uniform_(self.fc2.weight)\n",
        "        \n",
        "        \n",
        "        \n",
        "    def forward(self, x):\n",
        "        out = self.layer1(x)\n",
        "        out = self.layer2(out)\n",
        "        out = self.layer3(out)\n",
        "        out = out.view(out.size(0), -1)\n",
        "        out = self.layer4(out)\n",
        "        out = self.fc2(out)\n",
        "        return out"
      ],
      "id": "Pp9dobAE_E7i"
    },
    {
      "cell_type": "markdown",
      "metadata": {
        "id": "2550bf21-4ab0-4ab3-8fdd-b9667c9fb026"
      },
      "source": [
        "## 모델 학습\n",
        "\n",
        "이제 모델 학습을 하기 위해 매개변수를 정의해보도록 하겠습니다."
      ],
      "id": "2550bf21-4ab0-4ab3-8fdd-b9667c9fb026"
    },
    {
      "cell_type": "code",
      "execution_count": null,
      "metadata": {
        "id": "f7a74888-75cd-4743-abc8-d81908201cd0"
      },
      "outputs": [],
      "source": [
        "import torch.optim as optim # 최적화 알고리즘들이 포함힘\n",
        "\n",
        "model = CNNclassification().to(device)  # device = gpu\n",
        "criterion = torch.nn.CrossEntropyLoss()\n",
        "optimizer = torch.optim.Adam(params = model.parameters(), lr = CFG[\"LEARNING_RATE\"]) # LEARNING_RATE : 2e-2 = 학습률\n",
        "scheduler = None"
      ],
      "id": "f7a74888-75cd-4743-abc8-d81908201cd0"
    },
    {
      "cell_type": "code",
      "execution_count": null,
      "metadata": {
        "id": "E7Eun74L_VOR"
      },
      "outputs": [],
      "source": [
        "def train(model, optimizer, train_loader, scheduler, device): \n",
        "    model.to(device)\n",
        "    n = len(train_loader)\n",
        "    \n",
        "    #Loss Function 정의\n",
        "    criterion = nn.CrossEntropyLoss().to(device)\n",
        "    best_acc = 0\n",
        "    \n",
        "    for epoch in range(1,CFG[\"EPOCHS\"]+1): #에포크 설정\n",
        "        model.train() #모델 학습\n",
        "        running_loss = 0.0\n",
        "            \n",
        "        for img, label in iter(train_loader): # tqdm\n",
        "            img, label = img.to(device), label.to(device) #배치 데이터\n",
        "            optimizer.zero_grad() #배치마다 optimizer 초기화\n",
        "        \n",
        "            # Data -> Model -> Output\n",
        "            logit = model(img) #예측값 산출\n",
        "            loss = criterion(logit, label) #손실함수 계산\n",
        "            \n",
        "            # 역전파\n",
        "            loss.backward() #손실함수 기준 역전파 \n",
        "            optimizer.step() #가중치 최적화\n",
        "            running_loss += loss.item()\n",
        "              \n",
        "        print('[%d] Train loss: %.10f' %(epoch, running_loss / len(train_loader)))\n",
        "        \n",
        "        if scheduler is not None:\n",
        "            scheduler.step()\n",
        "            \n",
        "        #Validation set 평가\n",
        "        model.eval() #evaluation 과정에서 사용하지 않아야 하는 layer들을 알아서 off 시키도록 하는 함수\n",
        "        vali_loss = 0.0\n",
        "        correct = 0\n",
        "        with torch.no_grad(): #파라미터 업데이트 안하기 때문에 no_grad 사용\n",
        "            for img, label in iter(vali_loader): # tqdm\n",
        "                img, label = img.to(device), label.to(device)\n",
        "\n",
        "                logit = model(img)\n",
        "                vali_loss += criterion(logit, label)\n",
        "                pred = logit.argmax(dim=1, keepdim=True)  #11개의 class중 가장 값이 높은 것을 예측 label로 추출\n",
        "                correct += pred.eq(label.view_as(pred)).sum().item() #예측값과 실제값이 맞으면 1 아니면 0으로 합산\n",
        "        vali_acc = 100 * correct / len(vali_loader.dataset)\n",
        "        print('Vail set: Loss: {:.4f}, Accuracy: {}/{} ( {:.0f}%)\\n'.format(vali_loss / len(vali_loader), correct, len(vali_loader.dataset), 100 * correct / len(vali_loader.dataset))) \n",
        "        \n",
        "        #베스트 모델 저장\n",
        "        if best_acc < vali_acc:\n",
        "            best_acc = vali_acc\n",
        "            torch.save(model.state_dict(), '/content/drive/MyDrive/Colab Notebooks/best_model.pth') #이 디렉토리에 best_model.pth을 저장\n",
        "            # print('Model Saved.')"
      ],
      "id": "E7Eun74L_VOR"
    },
    {
      "cell_type": "code",
      "execution_count": 67,
      "metadata": {
        "colab": {
          "base_uri": "https://localhost:8080/"
        },
        "id": "1CLc92IBV_Tq",
        "outputId": "afb62046-7c7a-48a4-cd8d-9e3cbf907958"
      },
      "outputs": [
        {
          "output_type": "stream",
          "name": "stdout",
          "text": [
            "vail set: 손실 : 손실 / 배치 사이즈, accuracy : 맞은예측합계 / 데이터의 전체길이 (예측률%)\n"
          ]
        }
      ],
      "source": [
        "print('vail set: 손실 : 손실 / 배치 사이즈, accuracy : 맞은예측합계 / 데이터의 전체길이 (예측률%)')"
      ],
      "id": "1CLc92IBV_Tq"
    },
    {
      "cell_type": "code",
      "execution_count": null,
      "metadata": {
        "colab": {
          "background_save": true,
          "base_uri": "https://localhost:8080/"
        },
        "id": "5ab989d9-1668-4811-a4d9-706dd0f68c99",
        "outputId": "bd1d1298-dc39-4309-c7a6-569bad28c2af"
      },
      "outputs": [
        {
          "name": "stdout",
          "output_type": "stream",
          "text": [
            "[1] Train loss: 1.2806649042\n",
            "Vail set: Loss: 1.3627, Accuracy: 1524/2568 ( 59%)\n",
            "\n",
            "[2] Train loss: 0.9555801152\n",
            "Vail set: Loss: 1.2164, Accuracy: 1524/2568 ( 59%)\n",
            "\n",
            "[3] Train loss: 0.7286733186\n",
            "Vail set: Loss: 1.0981, Accuracy: 1734/2568 ( 68%)\n",
            "\n",
            "[4] Train loss: 0.5663212875\n",
            "Vail set: Loss: 1.1853, Accuracy: 1728/2568 ( 67%)\n",
            "\n",
            "[5] Train loss: 0.4556273000\n",
            "Vail set: Loss: 0.9432, Accuracy: 1980/2568 ( 77%)\n",
            "\n",
            "[6] Train loss: 0.3904794297\n",
            "Vail set: Loss: 1.2176, Accuracy: 1752/2568 ( 68%)\n",
            "\n",
            "[7] Train loss: 0.3203723254\n",
            "Vail set: Loss: 1.1441, Accuracy: 1944/2568 ( 76%)\n",
            "\n",
            "[8] Train loss: 0.2671954488\n",
            "Vail set: Loss: 1.1490, Accuracy: 1986/2568 ( 77%)\n",
            "\n",
            "[9] Train loss: 0.2499059309\n",
            "Vail set: Loss: 1.4188, Accuracy: 1902/2568 ( 74%)\n",
            "\n",
            "[10] Train loss: 0.2214160930\n",
            "Vail set: Loss: 1.3568, Accuracy: 1944/2568 ( 76%)\n",
            "\n",
            "[11] Train loss: 0.1996104461\n",
            "Vail set: Loss: 1.2105, Accuracy: 1932/2568 ( 75%)\n",
            "\n",
            "[12] Train loss: 0.1864487728\n",
            "Vail set: Loss: 1.4806, Accuracy: 1902/2568 ( 74%)\n",
            "\n",
            "[13] Train loss: 0.2040226640\n",
            "Vail set: Loss: 1.4431, Accuracy: 1956/2568 ( 76%)\n",
            "\n",
            "[14] Train loss: 0.1653235671\n",
            "Vail set: Loss: 1.9288, Accuracy: 1788/2568 ( 70%)\n",
            "\n",
            "[15] Train loss: 0.1655962085\n",
            "Vail set: Loss: 1.4322, Accuracy: 1962/2568 ( 76%)\n",
            "\n",
            "[16] Train loss: 0.1488769288\n",
            "Vail set: Loss: 1.6617, Accuracy: 2016/2568 ( 79%)\n",
            "\n",
            "[17] Train loss: 0.1539931623\n",
            "Vail set: Loss: 1.6222, Accuracy: 1902/2568 ( 74%)\n",
            "\n",
            "[18] Train loss: 0.1538253711\n",
            "Vail set: Loss: 1.5837, Accuracy: 1938/2568 ( 75%)\n",
            "\n",
            "[19] Train loss: 0.1503057190\n",
            "Vail set: Loss: 2.0991, Accuracy: 1890/2568 ( 74%)\n",
            "\n",
            "[20] Train loss: 0.1373523423\n",
            "Vail set: Loss: 1.6472, Accuracy: 1980/2568 ( 77%)\n",
            "\n",
            "[21] Train loss: 0.1400122188\n",
            "Vail set: Loss: 1.7909, Accuracy: 1848/2568 ( 72%)\n",
            "\n",
            "[22] Train loss: 0.1230444926\n",
            "Vail set: Loss: 1.7809, Accuracy: 1992/2568 ( 78%)\n",
            "\n",
            "[23] Train loss: 0.1133367752\n",
            "Vail set: Loss: 2.2040, Accuracy: 1950/2568 ( 76%)\n",
            "\n",
            "[24] Train loss: 0.1125910946\n",
            "Vail set: Loss: 2.0905, Accuracy: 1944/2568 ( 76%)\n",
            "\n",
            "[25] Train loss: 0.1215454259\n",
            "Vail set: Loss: 2.1187, Accuracy: 1914/2568 ( 75%)\n",
            "\n",
            "[26] Train loss: 0.1100408091\n",
            "Vail set: Loss: 2.0610, Accuracy: 1938/2568 ( 75%)\n",
            "\n",
            "[27] Train loss: 0.0838538885\n",
            "Vail set: Loss: 2.1045, Accuracy: 1968/2568 ( 77%)\n",
            "\n",
            "[28] Train loss: 0.0976655513\n",
            "Vail set: Loss: 1.7389, Accuracy: 1962/2568 ( 76%)\n",
            "\n",
            "[29] Train loss: 0.0927593318\n",
            "Vail set: Loss: 2.1066, Accuracy: 1914/2568 ( 75%)\n",
            "\n",
            "[30] Train loss: 0.0838220221\n",
            "Vail set: Loss: 1.9078, Accuracy: 1956/2568 ( 76%)\n",
            "\n",
            "[31] Train loss: 0.0762094602\n",
            "Vail set: Loss: 2.2734, Accuracy: 1968/2568 ( 77%)\n",
            "\n",
            "[32] Train loss: 0.0749877310\n",
            "Vail set: Loss: 2.0881, Accuracy: 1908/2568 ( 74%)\n",
            "\n",
            "[33] Train loss: 0.0707852343\n",
            "Vail set: Loss: 2.1411, Accuracy: 1944/2568 ( 76%)\n",
            "\n",
            "[34] Train loss: 0.0546382767\n",
            "Vail set: Loss: 1.9865, Accuracy: 1992/2568 ( 78%)\n",
            "\n",
            "[35] Train loss: 0.0648655492\n",
            "Vail set: Loss: 2.0738, Accuracy: 1926/2568 ( 75%)\n",
            "\n",
            "[36] Train loss: 0.0644138488\n",
            "Vail set: Loss: 2.1433, Accuracy: 1968/2568 ( 77%)\n",
            "\n",
            "[37] Train loss: 0.0737338434\n",
            "Vail set: Loss: 2.1234, Accuracy: 1962/2568 ( 76%)\n",
            "\n",
            "[38] Train loss: 0.0495191412\n",
            "Vail set: Loss: 2.4217, Accuracy: 1926/2568 ( 75%)\n",
            "\n",
            "[39] Train loss: 0.0573466911\n",
            "Vail set: Loss: 2.0576, Accuracy: 1950/2568 ( 76%)\n",
            "\n",
            "[40] Train loss: 0.0391301402\n",
            "Vail set: Loss: 2.2489, Accuracy: 1938/2568 ( 75%)\n",
            "\n",
            "[41] Train loss: 0.0507956724\n",
            "Vail set: Loss: 2.3381, Accuracy: 1926/2568 ( 75%)\n",
            "\n",
            "[42] Train loss: 0.0529764285\n",
            "Vail set: Loss: 2.2948, Accuracy: 1980/2568 ( 77%)\n",
            "\n",
            "[43] Train loss: 0.0503547654\n",
            "Vail set: Loss: 2.3794, Accuracy: 1974/2568 ( 77%)\n",
            "\n",
            "[44] Train loss: 0.0342471406\n",
            "Vail set: Loss: 2.3290, Accuracy: 1956/2568 ( 76%)\n",
            "\n",
            "[45] Train loss: 0.0516901962\n",
            "Vail set: Loss: 2.2719, Accuracy: 2010/2568 ( 78%)\n",
            "\n",
            "[46] Train loss: 0.0316562983\n",
            "Vail set: Loss: 2.3682, Accuracy: 1992/2568 ( 78%)\n",
            "\n",
            "[47] Train loss: 0.0325665654\n",
            "Vail set: Loss: 2.2247, Accuracy: 2016/2568 ( 79%)\n",
            "\n",
            "[48] Train loss: 0.0358226662\n",
            "Vail set: Loss: 2.3071, Accuracy: 1980/2568 ( 77%)\n",
            "\n",
            "[49] Train loss: 0.0401180248\n",
            "Vail set: Loss: 2.2081, Accuracy: 1992/2568 ( 78%)\n",
            "\n",
            "[50] Train loss: 0.0428483633\n",
            "Vail set: Loss: 2.2343, Accuracy: 2004/2568 ( 78%)\n",
            "\n"
          ]
        }
      ],
      "source": [
        "train(model, optimizer, train_loader, scheduler, device)"
      ],
      "id": "5ab989d9-1668-4811-a4d9-706dd0f68c99"
    },
    {
      "cell_type": "markdown",
      "metadata": {
        "id": "b6e93f5d-b668-444a-8dd2-260d34f7aa82"
      },
      "source": [
        "에포크가 36일때 Vaildation Accuracy가 64%로 best_model에 선정되어 저장되었습니다."
      ],
      "id": "b6e93f5d-b668-444a-8dd2-260d34f7aa82"
    },
    {
      "cell_type": "markdown",
      "metadata": {
        "id": "be3c5e96-11f5-4b85-9f5b-e6bfa0cc7580"
      },
      "source": [
        "## 추론하기\n",
        "\n",
        "이제 학습된 best_model을 가지고 test 셋의 라벨을 추론해보도록 하겠습니다."
      ],
      "id": "be3c5e96-11f5-4b85-9f5b-e6bfa0cc7580"
    },
    {
      "cell_type": "code",
      "execution_count": 68,
      "metadata": {
        "id": "795e77b3-2ea3-4eaa-9db2-3c6c48353dfa"
      },
      "outputs": [],
      "source": [
        "def predict(model, test_loader, device):\n",
        "    model.eval()\n",
        "    model_pred = []\n",
        "    with torch.no_grad():\n",
        "        for img in iter(test_loader):\n",
        "            img = img.to(device)\n",
        "\n",
        "            pred_logit = model(img)\n",
        "            pred_logit = pred_logit.argmax(dim=1, keepdim=True).squeeze(1)\n",
        "\n",
        "            model_pred.extend(pred_logit.tolist())\n",
        "    return model_pred"
      ],
      "id": "795e77b3-2ea3-4eaa-9db2-3c6c48353dfa"
    },
    {
      "cell_type": "code",
      "execution_count": 69,
      "metadata": {
        "colab": {
          "base_uri": "https://localhost:8080/"
        },
        "id": "6QyD9DNJw8qX",
        "outputId": "34d9dd7c-684c-405c-fac0-12bba85dba57"
      },
      "outputs": [
        {
          "output_type": "execute_result",
          "data": {
            "text/plain": [
              "[1, 2, 1, 6, 8]"
            ]
          },
          "metadata": {},
          "execution_count": 69
        }
      ],
      "source": [
        "import cv2\n",
        "test_dataset = CustomDataset(test_img_path, None ,train_mode=False, transforms=test_transform)\n",
        "test_loader = DataLoader(test_dataset, batch_size = CFG['BATCH_SIZE'], shuffle=False, num_workers=0)\n",
        "\n",
        "# Validation Accuracy가 가장 뛰어난 모델을 불러옵니다.\n",
        "checkpoint = torch.load('/content/drive/MyDrive/Colab Notebooks/best_model.pth')\n",
        "model = CNNclassification().to(device)\n",
        "model.load_state_dict(checkpoint)\n",
        "\n",
        "# Inference\n",
        "preds = predict(model, test_loader, device)\n",
        "preds[0:5]"
      ],
      "id": "6QyD9DNJw8qX"
    },
    {
      "cell_type": "markdown",
      "metadata": {
        "id": "5f37bb50-23d8-4426-bd95-ebea543c5dd6"
      },
      "source": [
        "값이 배열안에 정상적으로 잘 들어간 것을 확인할 수 있습니다."
      ],
      "id": "5f37bb50-23d8-4426-bd95-ebea543c5dd6"
    },
    {
      "cell_type": "markdown",
      "metadata": {
        "id": "26f0871d-f0a5-45b0-9577-d6387a656008"
      },
      "source": [
        "## 제출하기"
      ],
      "id": "26f0871d-f0a5-45b0-9577-d6387a656008"
    },
    {
      "cell_type": "markdown",
      "metadata": {
        "id": "0e627a7d-e435-474e-bffd-a00a6bd54e5e"
      },
      "source": [
        "submission에 예측한 값 preds를 넣어줍시다"
      ],
      "id": "0e627a7d-e435-474e-bffd-a00a6bd54e5e"
    },
    {
      "cell_type": "code",
      "execution_count": 70,
      "metadata": {
        "id": "53c2aa28-0420-403a-ac72-6137a0b2cbdd"
      },
      "outputs": [],
      "source": [
        "submission = pd.read_csv('/content/drive/MyDrive/Colab Notebooks/user_data/sample_submission.csv')\n",
        "submission['label'] = preds"
      ],
      "id": "53c2aa28-0420-403a-ac72-6137a0b2cbdd"
    },
    {
      "cell_type": "markdown",
      "metadata": {
        "id": "c3ca21c9-80cc-4176-8671-ab1f65c27a4b"
      },
      "source": [
        "이제 제출을 위해 라벨을 다시 복원 시켜 줍니다.\n",
        "\n",
        "앞서 10-1을 10으로, 10-2를 0으로 바꿔주었던 값을 다시 원래의 값으로 바꿔주겠습니다.\n",
        "\n",
        "또한 label 열의 타입을 int에서 object로 수정해 주겠습니다."
      ],
      "id": "c3ca21c9-80cc-4176-8671-ab1f65c27a4b"
    },
    {
      "cell_type": "code",
      "execution_count": 71,
      "metadata": {
        "colab": {
          "base_uri": "https://localhost:8080/"
        },
        "id": "f4182c5c-7c77-4626-b960-54d841b3f212",
        "outputId": "85080c69-bafb-464f-ebc9-a361131cf901"
      },
      "outputs": [
        {
          "output_type": "stream",
          "name": "stderr",
          "text": [
            "/usr/local/lib/python3.7/dist-packages/ipykernel_launcher.py:1: SettingWithCopyWarning: \n",
            "A value is trying to be set on a copy of a slice from a DataFrame\n",
            "\n",
            "See the caveats in the documentation: https://pandas.pydata.org/pandas-docs/stable/user_guide/indexing.html#returning-a-view-versus-a-copy\n",
            "  \"\"\"Entry point for launching an IPython kernel.\n"
          ]
        }
      ],
      "source": [
        "submission['label'][submission['label'] == 10] = '10-1' ## label : 10 -> '10-1'\n",
        "submission['label'][submission['label'] == 0] = '10-2' ## Label : 0 -> '10-2'\n",
        "submission['label'] = submission['label'].apply(lambda x : str(x)) ## Dtype : int -> object"
      ],
      "id": "f4182c5c-7c77-4626-b960-54d841b3f212"
    },
    {
      "cell_type": "code",
      "execution_count": 72,
      "metadata": {
        "colab": {
          "base_uri": "https://localhost:8080/",
          "height": 363
        },
        "id": "82456b3b-7288-4759-8539-cbd3cf69079f",
        "outputId": "fba16634-fd75-4252-dc23-f1d50143e054"
      },
      "outputs": [
        {
          "output_type": "execute_result",
          "data": {
            "text/plain": [
              "  file_name label\n",
              "0   001.png     1\n",
              "1   002.png     2\n",
              "2   003.png     1\n",
              "3   004.png     6\n",
              "4   005.png     8\n",
              "5   006.png  10-1\n",
              "6   007.png  10-1\n",
              "7   008.png     2\n",
              "8   009.png     4\n",
              "9   010.png     4"
            ],
            "text/html": [
              "\n",
              "  <div id=\"df-fa63419d-7a85-490e-b56a-37366aab313f\">\n",
              "    <div class=\"colab-df-container\">\n",
              "      <div>\n",
              "<style scoped>\n",
              "    .dataframe tbody tr th:only-of-type {\n",
              "        vertical-align: middle;\n",
              "    }\n",
              "\n",
              "    .dataframe tbody tr th {\n",
              "        vertical-align: top;\n",
              "    }\n",
              "\n",
              "    .dataframe thead th {\n",
              "        text-align: right;\n",
              "    }\n",
              "</style>\n",
              "<table border=\"1\" class=\"dataframe\">\n",
              "  <thead>\n",
              "    <tr style=\"text-align: right;\">\n",
              "      <th></th>\n",
              "      <th>file_name</th>\n",
              "      <th>label</th>\n",
              "    </tr>\n",
              "  </thead>\n",
              "  <tbody>\n",
              "    <tr>\n",
              "      <th>0</th>\n",
              "      <td>001.png</td>\n",
              "      <td>1</td>\n",
              "    </tr>\n",
              "    <tr>\n",
              "      <th>1</th>\n",
              "      <td>002.png</td>\n",
              "      <td>2</td>\n",
              "    </tr>\n",
              "    <tr>\n",
              "      <th>2</th>\n",
              "      <td>003.png</td>\n",
              "      <td>1</td>\n",
              "    </tr>\n",
              "    <tr>\n",
              "      <th>3</th>\n",
              "      <td>004.png</td>\n",
              "      <td>6</td>\n",
              "    </tr>\n",
              "    <tr>\n",
              "      <th>4</th>\n",
              "      <td>005.png</td>\n",
              "      <td>8</td>\n",
              "    </tr>\n",
              "    <tr>\n",
              "      <th>5</th>\n",
              "      <td>006.png</td>\n",
              "      <td>10-1</td>\n",
              "    </tr>\n",
              "    <tr>\n",
              "      <th>6</th>\n",
              "      <td>007.png</td>\n",
              "      <td>10-1</td>\n",
              "    </tr>\n",
              "    <tr>\n",
              "      <th>7</th>\n",
              "      <td>008.png</td>\n",
              "      <td>2</td>\n",
              "    </tr>\n",
              "    <tr>\n",
              "      <th>8</th>\n",
              "      <td>009.png</td>\n",
              "      <td>4</td>\n",
              "    </tr>\n",
              "    <tr>\n",
              "      <th>9</th>\n",
              "      <td>010.png</td>\n",
              "      <td>4</td>\n",
              "    </tr>\n",
              "  </tbody>\n",
              "</table>\n",
              "</div>\n",
              "      <button class=\"colab-df-convert\" onclick=\"convertToInteractive('df-fa63419d-7a85-490e-b56a-37366aab313f')\"\n",
              "              title=\"Convert this dataframe to an interactive table.\"\n",
              "              style=\"display:none;\">\n",
              "        \n",
              "  <svg xmlns=\"http://www.w3.org/2000/svg\" height=\"24px\"viewBox=\"0 0 24 24\"\n",
              "       width=\"24px\">\n",
              "    <path d=\"M0 0h24v24H0V0z\" fill=\"none\"/>\n",
              "    <path d=\"M18.56 5.44l.94 2.06.94-2.06 2.06-.94-2.06-.94-.94-2.06-.94 2.06-2.06.94zm-11 1L8.5 8.5l.94-2.06 2.06-.94-2.06-.94L8.5 2.5l-.94 2.06-2.06.94zm10 10l.94 2.06.94-2.06 2.06-.94-2.06-.94-.94-2.06-.94 2.06-2.06.94z\"/><path d=\"M17.41 7.96l-1.37-1.37c-.4-.4-.92-.59-1.43-.59-.52 0-1.04.2-1.43.59L10.3 9.45l-7.72 7.72c-.78.78-.78 2.05 0 2.83L4 21.41c.39.39.9.59 1.41.59.51 0 1.02-.2 1.41-.59l7.78-7.78 2.81-2.81c.8-.78.8-2.07 0-2.86zM5.41 20L4 18.59l7.72-7.72 1.47 1.35L5.41 20z\"/>\n",
              "  </svg>\n",
              "      </button>\n",
              "      \n",
              "  <style>\n",
              "    .colab-df-container {\n",
              "      display:flex;\n",
              "      flex-wrap:wrap;\n",
              "      gap: 12px;\n",
              "    }\n",
              "\n",
              "    .colab-df-convert {\n",
              "      background-color: #E8F0FE;\n",
              "      border: none;\n",
              "      border-radius: 50%;\n",
              "      cursor: pointer;\n",
              "      display: none;\n",
              "      fill: #1967D2;\n",
              "      height: 32px;\n",
              "      padding: 0 0 0 0;\n",
              "      width: 32px;\n",
              "    }\n",
              "\n",
              "    .colab-df-convert:hover {\n",
              "      background-color: #E2EBFA;\n",
              "      box-shadow: 0px 1px 2px rgba(60, 64, 67, 0.3), 0px 1px 3px 1px rgba(60, 64, 67, 0.15);\n",
              "      fill: #174EA6;\n",
              "    }\n",
              "\n",
              "    [theme=dark] .colab-df-convert {\n",
              "      background-color: #3B4455;\n",
              "      fill: #D2E3FC;\n",
              "    }\n",
              "\n",
              "    [theme=dark] .colab-df-convert:hover {\n",
              "      background-color: #434B5C;\n",
              "      box-shadow: 0px 1px 3px 1px rgba(0, 0, 0, 0.15);\n",
              "      filter: drop-shadow(0px 1px 2px rgba(0, 0, 0, 0.3));\n",
              "      fill: #FFFFFF;\n",
              "    }\n",
              "  </style>\n",
              "\n",
              "      <script>\n",
              "        const buttonEl =\n",
              "          document.querySelector('#df-fa63419d-7a85-490e-b56a-37366aab313f button.colab-df-convert');\n",
              "        buttonEl.style.display =\n",
              "          google.colab.kernel.accessAllowed ? 'block' : 'none';\n",
              "\n",
              "        async function convertToInteractive(key) {\n",
              "          const element = document.querySelector('#df-fa63419d-7a85-490e-b56a-37366aab313f');\n",
              "          const dataTable =\n",
              "            await google.colab.kernel.invokeFunction('convertToInteractive',\n",
              "                                                     [key], {});\n",
              "          if (!dataTable) return;\n",
              "\n",
              "          const docLinkHtml = 'Like what you see? Visit the ' +\n",
              "            '<a target=\"_blank\" href=https://colab.research.google.com/notebooks/data_table.ipynb>data table notebook</a>'\n",
              "            + ' to learn more about interactive tables.';\n",
              "          element.innerHTML = '';\n",
              "          dataTable['output_type'] = 'display_data';\n",
              "          await google.colab.output.renderOutput(dataTable, element);\n",
              "          const docLink = document.createElement('div');\n",
              "          docLink.innerHTML = docLinkHtml;\n",
              "          element.appendChild(docLink);\n",
              "        }\n",
              "      </script>\n",
              "    </div>\n",
              "  </div>\n",
              "  "
            ]
          },
          "metadata": {},
          "execution_count": 72
        }
      ],
      "source": [
        "submission.head(10)"
      ],
      "id": "82456b3b-7288-4759-8539-cbd3cf69079f"
    },
    {
      "cell_type": "markdown",
      "metadata": {
        "id": "e4890e01-35a4-45ad-b89f-85f52560fb2f"
      },
      "source": [
        "submission을 csv 파일로 저장합니다.   \n",
        "\n",
        "index=False란 추가적인 id를 부여할 필요가 없다는 뜻입니다.   \n",
        "\n",
        "정확한 채점을 위해 꼭 index=False를 넣어주세요."
      ],
      "id": "e4890e01-35a4-45ad-b89f-85f52560fb2f"
    },
    {
      "cell_type": "code",
      "execution_count": 73,
      "metadata": {
        "id": "f1b1f36f-d1b2-43b7-8acf-1cff3f3be8bb"
      },
      "outputs": [],
      "source": [
        "submission.to_csv('/content/drive/MyDrive/Colab Notebooks/submit.csv', index=False)"
      ],
      "id": "f1b1f36f-d1b2-43b7-8acf-1cff3f3be8bb"
    },
    {
      "cell_type": "markdown",
      "metadata": {
        "id": "7e5d6fd9-e984-49d2-8547-d337186dbe7c"
      },
      "source": [
        "이렇게 생성된 submission.csv 파일을 데이콘 대회 페이지에 업로드 & 제출하여 결과를 확인해보세요!\n",
        "\n",
        "문제를 해결하기 위한 여러분의 방법을 코드 공유 게시판에 공유해주세요\n",
        "\n",
        "좋아요와 댓글을 합산하여 가장 높은 점수를 얻으신 분께 데이콘 후드가 제공됩니다!"
      ],
      "id": "7e5d6fd9-e984-49d2-8547-d337186dbe7c"
    }
  ],
  "metadata": {
    "colab": {
      "collapsed_sections": [
        "ac43ecaf-a641-40f6-8a86-f4239c00b201"
      ],
      "name": " Pytorch를 활용한 수화 이미지 분류.ipynb",
      "provenance": [],
      "include_colab_link": true
    },
    "kernelspec": {
      "display_name": "world",
      "language": "python",
      "name": "world"
    },
    "language_info": {
      "codemirror_mode": {
        "name": "ipython",
        "version": 3
      },
      "file_extension": ".py",
      "mimetype": "text/x-python",
      "name": "python",
      "nbconvert_exporter": "python",
      "pygments_lexer": "ipython3",
      "version": "3.8.13"
    }
  },
  "nbformat": 4,
  "nbformat_minor": 5
}