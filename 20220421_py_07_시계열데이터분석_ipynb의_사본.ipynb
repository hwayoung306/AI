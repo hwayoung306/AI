{
  "nbformat": 4,
  "nbformat_minor": 0,
  "metadata": {
    "colab": {
      "name": "20220421_py_07-시계열데이터분석.ipynb의 사본",
      "provenance": [],
      "collapsed_sections": [],
      "include_colab_link": true
    },
    "kernelspec": {
      "name": "python3",
      "display_name": "Python 3"
    }
  },
  "cells": [
    {
      "cell_type": "markdown",
      "metadata": {
        "id": "view-in-github",
        "colab_type": "text"
      },
      "source": [
        "<a href=\"https://colab.research.google.com/github/hwayoung306/AI/blob/main/20220421_py_07_%EC%8B%9C%EA%B3%84%EC%97%B4%EB%8D%B0%EC%9D%B4%ED%84%B0%EB%B6%84%EC%84%9D_ipynb%EC%9D%98_%EC%82%AC%EB%B3%B8.ipynb\" target=\"_parent\"><img src=\"https://colab.research.google.com/assets/colab-badge.svg\" alt=\"Open In Colab\"/></a>"
      ]
    },
    {
      "cell_type": "markdown",
      "metadata": {
        "id": "GXZ4JnLa1W96"
      },
      "source": [
        "### 구글드라이브 연동"
      ]
    },
    {
      "cell_type": "code",
      "metadata": {
        "id": "Xnt3wt321U6D",
        "colab": {
          "base_uri": "https://localhost:8080/"
        },
        "outputId": "f9e99537-1bb0-474c-a3c2-1fc97068c21e"
      },
      "source": [
        "# 구글드라이브 연동\n",
        "from google.colab import drive\n",
        "drive.mount('/gdrive', force_remount=True)\n",
        "\n",
        "# 구글 드라이브 파일 확인\n",
        "!ls '/gdrive/My Drive/temp/'\n",
        "\n",
        "# 반복되는 드라이브 경로 변수화\n",
        "drive_path = '/gdrive/My Drive/temp/'"
      ],
      "execution_count": 1,
      "outputs": [
        {
          "output_type": "stream",
          "name": "stdout",
          "text": [
            "Mounted at /gdrive\n",
            " 매수종목1.txt\t\t\t        sample2.pdf\n",
            "'2. 영화평점, 날짜별 영화평점 시각화'   sample.docx\n",
            " 매수종목2.txt\t\t\t        sample_merge.pdf\n",
            " auto-mpg.csv\t\t\t        sample.xlsx\n",
            " bmi_500.csv\t\t\t        score.csv\n",
            " 매수종목.csv\t\t\t        seoul.html\n",
            " data_studentlist_en.csv\t       'stock price.xlsx'\n",
            "'demo (1).docx'\t\t\t       'stock valuation.xlsx'\n",
            " demo.docx\t\t\t        test.db.db\n",
            " example.docx\t\t\t        test.txt\n",
            " height_weight.txt\t\t        Titanic배포용\n",
            " hello_world.xlsx\t\t        titanic_test.csv\n",
            " HelloWorld.xlsx\t\t        titanic_train.csv\n",
            "'little-char (1).png'\t\t        titanic.xls\n",
            " little-char.png\t\t        Traffic_Accident_2017.csv\n",
            " population_number.csv\t\t        train.csv\n",
            " ram_price.csv\t\t\t        user_id_mean.csv\n",
            " ratings_small.txt\t\t        wine.csv\n",
            "'sample1 (1).pdf'\t\t        주가데이터.xlsx\n",
            " sample1.pdf\t\t\t        남북한발전전력량.xlsx\n",
            "'sample (1).xlsx'\n"
          ]
        }
      ]
    },
    {
      "cell_type": "markdown",
      "metadata": {
        "id": "qLyEsKEPAki_"
      },
      "source": [
        "# 시계열 데이터 분석\n",
        "\n",
        "- 시간상의 여러 지점을 관측하거나 측정할 수 있는 모든 것\n"
      ]
    },
    {
      "cell_type": "markdown",
      "source": [
        "시계열 데이터 유형\n",
        "\n",
        "- 시간내에서 특정 순간의 타임스탬프\n",
        "- 2020년 4월이나 2020년 전체 같은 고정된 기간\n",
        "- 시작과 끝 타임스탬프로 표시되는 시간 간격 (기간은 시간 간격의 특수한 경우)\n",
        "- 경과시간. 특정 시작 시간에 상대적인 시간의 측정값"
      ],
      "metadata": {
        "id": "OI5fY9oJ4XCG"
      }
    },
    {
      "cell_type": "markdown",
      "source": [
        "pandas 는 표준 시계열 도구와 데이터 알고리즘을 제공\n",
        "\n",
        "- 금융이나 경제관련 또는 서버 로그 데이터 분석에 유용"
      ],
      "metadata": {
        "id": "2QbYI9fG5Bwn"
      }
    },
    {
      "cell_type": "code",
      "metadata": {
        "id": "45wdJ2e5AkjA"
      },
      "source": [
        "import numpy as np\n",
        "import matplotlib.pyplot as plt\n",
        "import pandas as pd\n",
        "from pandas import DataFrame, Series\n",
        "from numpy.random import randn\n",
        "\n",
        "# 사용자 편의를 위해 Magic 키워드 를 지원 %, %%\n",
        "# 주피터 노트북의 대화형 시각화 기능을 활성화\n",
        "%matplotlib inline\n",
        "# 그래프를 더 높은 해상도로 출력\n",
        "%config InlineBackend.figure_format = 'retina'"
      ],
      "execution_count": 2,
      "outputs": []
    },
    {
      "cell_type": "markdown",
      "source": [
        "## 날짜, 시간 자료형"
      ],
      "metadata": {
        "id": "5PvOKyc-4Vnf"
      }
    },
    {
      "cell_type": "code",
      "source": [
        "from datetime import datetime\n",
        "\n",
        "now= datetime.now()\n",
        "now\n",
        "\n",
        "now.year, now.month, now.day, now.microsecond"
      ],
      "metadata": {
        "id": "VSN6S-VrUP_3",
        "colab": {
          "base_uri": "https://localhost:8080/"
        },
        "outputId": "25c45c32-aa36-40bb-c7e3-29ff22150e98"
      },
      "execution_count": 4,
      "outputs": [
        {
          "output_type": "execute_result",
          "data": {
            "text/plain": [
              "(2022, 4, 20, 536025)"
            ]
          },
          "metadata": {},
          "execution_count": 4
        }
      ]
    },
    {
      "cell_type": "code",
      "source": [
        "# 두 datetime 객체 간의 시간적인  차이를 표현\n",
        "# datetime.timedelta\n",
        "delta = datetime(2022,4,20) - datetime(2018,6,24,9,10)\n",
        "delta\n",
        "delta.days, delta.seconds, delta.microseconds"
      ],
      "metadata": {
        "colab": {
          "base_uri": "https://localhost:8080/"
        },
        "id": "YIG4hnFxEDtb",
        "outputId": "3f0c12c5-d789-415a-dcc1-3c4f87c51bec"
      },
      "execution_count": 6,
      "outputs": [
        {
          "output_type": "execute_result",
          "data": {
            "text/plain": [
              "(1395, 53400, 0)"
            ]
          },
          "metadata": {},
          "execution_count": 6
        }
      ]
    },
    {
      "cell_type": "code",
      "source": [
        "from datetime import timedelta\n",
        "\n",
        "start = datetime(2022, 4, 20)\n",
        "start - timedelta(7)\n",
        "start + timedelta(7)\n",
        "\n",
        "start - ( 2 * timedelta(7) )"
      ],
      "metadata": {
        "colab": {
          "base_uri": "https://localhost:8080/"
        },
        "id": "ZQNE7c5WFQtl",
        "outputId": "9951510d-b341-49cd-9aaf-c74d851ae776"
      },
      "execution_count": 12,
      "outputs": [
        {
          "output_type": "execute_result",
          "data": {
            "text/plain": [
              "datetime.datetime(2022, 4, 6, 0, 0)"
            ]
          },
          "metadata": {},
          "execution_count": 12
        }
      ]
    },
    {
      "cell_type": "code",
      "source": [
        "# datetime을 문자열로 변환\n",
        "stamp = datetime(2022, 4, 20)\n",
        "a = str(stamp)\n",
        "\n",
        "# ftime은 포매팅을 통해서 바꾸는 것\n",
        "# 연도는 %Y는 4자리 연도, %y는 2자리 연도, %M은 분, %m은 달, %s는 초\n",
        "# %h는 시간\n",
        "\n",
        "stamp.strftime('%y-%m-%d')"
      ],
      "metadata": {
        "colab": {
          "base_uri": "https://localhost:8080/",
          "height": 35
        },
        "id": "CuE6YBWvGOQP",
        "outputId": "a80efe60-0a20-4ff7-f393-db73882e7435"
      },
      "execution_count": 19,
      "outputs": [
        {
          "output_type": "execute_result",
          "data": {
            "text/plain": [
              "'22-04-20'"
            ],
            "application/vnd.google.colaboratory.intrinsic+json": {
              "type": "string"
            }
          },
          "metadata": {},
          "execution_count": 19
        }
      ]
    },
    {
      "cell_type": "code",
      "source": [
        "# 문자열을 datetime으로 변환\n",
        "value = '2022-04-20'\n",
        "datetime.strptime(value, '%Y-%m-%d')\n",
        "\n",
        "dates = ['7/6/2022','8/6/2022']\n",
        "for date in dates :\n",
        "    [datetime.strptime(date, '%m/%d/%Y')]\n",
        "\n",
        "# for문으로 리스트 만들기\n",
        "[datetime.strptime(date, '%m/%d/%Y') for x in dates]\n"
      ],
      "metadata": {
        "colab": {
          "base_uri": "https://localhost:8080/"
        },
        "id": "FQNrjc3qHJfN",
        "outputId": "97f35068-f5c9-45ad-b82a-1ce204acc220"
      },
      "execution_count": 27,
      "outputs": [
        {
          "output_type": "execute_result",
          "data": {
            "text/plain": [
              "[datetime.datetime(2022, 8, 6, 0, 0), datetime.datetime(2022, 8, 6, 0, 0)]"
            ]
          },
          "metadata": {},
          "execution_count": 27
        }
      ]
    },
    {
      "cell_type": "code",
      "source": [
        "# pandas와 함께 자동 설치 됨\n",
        "# 대부분 사람이 인지하는 날짜 형식을 자동 파싱\n",
        "from dateutil.parser import parse\n",
        "\n",
        "parse('2022-04-20')\n",
        "parse('04-20-2022')\n",
        "parse('04/20/2022')\n",
        "parse('2022.04.20')\n",
        "parse('20220420')\n",
        "parse('2022-04-20 3:04:20')"
      ],
      "metadata": {
        "colab": {
          "base_uri": "https://localhost:8080/"
        },
        "id": "QM9x2ziLIZZW",
        "outputId": "b07812db-ac5e-40e7-834f-8e32cbe82e87"
      },
      "execution_count": 32,
      "outputs": [
        {
          "output_type": "execute_result",
          "data": {
            "text/plain": [
              "datetime.datetime(2022, 4, 20, 3, 4, 20)"
            ]
          },
          "metadata": {},
          "execution_count": 32
        }
      ]
    },
    {
      "cell_type": "code",
      "source": [
        "dates = ['7/6/2022', '8/6/2022']\n",
        "pd.to_datetime(dates) # datetimeindex가 2개 만들어진다\n",
        "\n",
        "# 누락값(결측치) 처리, NaT(not & time) 누락된 타임스탬츠 데이터\n",
        "dates + [None] # 리스트 더하기 리스트\n",
        "df = pd.to_datetime( dates + [None]) # NaT 주입 -> 시간인데 빈데이터\n",
        "df.isnull() # 2개 같은 내용\n",
        "pd.isnull(df)"
      ],
      "metadata": {
        "colab": {
          "base_uri": "https://localhost:8080/"
        },
        "id": "sZi5dK2ZJZz8",
        "outputId": "738b55e7-46c0-447f-c73b-3f2b62b8e31e"
      },
      "execution_count": 39,
      "outputs": [
        {
          "output_type": "execute_result",
          "data": {
            "text/plain": [
              "array([False, False,  True])"
            ]
          },
          "metadata": {},
          "execution_count": 39
        }
      ]
    },
    {
      "cell_type": "markdown",
      "source": [
        "## 시계열 기초\n",
        "\n",
        "- TimeSerise"
      ],
      "metadata": {
        "id": "aEnW_oSJMGlB"
      }
    },
    {
      "cell_type": "markdown",
      "source": [
        ""
      ],
      "metadata": {
        "id": "Dbi_4dvkFdSc"
      }
    },
    {
      "cell_type": "code",
      "source": [
        ""
      ],
      "metadata": {
        "id": "_PZUvWauUVkd"
      },
      "execution_count": null,
      "outputs": []
    },
    {
      "cell_type": "markdown",
      "source": [
        "- 색인과 선택"
      ],
      "metadata": {
        "id": "PvNg2PlzOSgs"
      }
    },
    {
      "cell_type": "code",
      "source": [
        ""
      ],
      "metadata": {
        "id": "Xhcs8ZwgUYuE"
      },
      "execution_count": null,
      "outputs": []
    },
    {
      "cell_type": "markdown",
      "source": [
        "## 날짜 범위와 빈도"
      ],
      "metadata": {
        "id": "Ko8UOHIVSrwI"
      }
    },
    {
      "cell_type": "code",
      "source": [
        ""
      ],
      "metadata": {
        "id": "PBcHRRjpSwTR"
      },
      "execution_count": null,
      "outputs": []
    },
    {
      "cell_type": "markdown",
      "source": [
        "## 기간 (Period)"
      ],
      "metadata": {
        "id": "hgx-y8uLS-SX"
      }
    },
    {
      "cell_type": "code",
      "source": [
        ""
      ],
      "metadata": {
        "id": "KMSDpnroTJLo"
      },
      "execution_count": null,
      "outputs": []
    },
    {
      "cell_type": "markdown",
      "source": [
        "## 시계열의 빈도 변환 (리샘플링)"
      ],
      "metadata": {
        "id": "oyM-5f0FTanf"
      }
    },
    {
      "cell_type": "code",
      "source": [
        ""
      ],
      "metadata": {
        "id": "XzsnRhQvTeJa"
      },
      "execution_count": null,
      "outputs": []
    },
    {
      "cell_type": "markdown",
      "source": [
        "## 이동창 함수 (moving window function)"
      ],
      "metadata": {
        "id": "a22W5xHKTfA-"
      }
    },
    {
      "cell_type": "code",
      "source": [
        ""
      ],
      "metadata": {
        "id": "qbhs8KQfTp5_"
      },
      "execution_count": null,
      "outputs": []
    }
  ]
}