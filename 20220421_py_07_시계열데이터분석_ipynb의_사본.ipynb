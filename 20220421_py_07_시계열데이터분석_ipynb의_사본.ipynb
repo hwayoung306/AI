{
  "nbformat": 4,
  "nbformat_minor": 0,
  "metadata": {
    "colab": {
      "name": "20220421_py_07-시계열데이터분석.ipynb의 사본",
      "provenance": [],
      "collapsed_sections": [],
      "include_colab_link": true
    },
    "kernelspec": {
      "name": "python3",
      "display_name": "Python 3"
    }
  },
  "cells": [
    {
      "cell_type": "markdown",
      "metadata": {
        "id": "view-in-github",
        "colab_type": "text"
      },
      "source": [
        "<a href=\"https://colab.research.google.com/github/hwayoung306/AI/blob/main/20220421_py_07_%EC%8B%9C%EA%B3%84%EC%97%B4%EB%8D%B0%EC%9D%B4%ED%84%B0%EB%B6%84%EC%84%9D_ipynb%EC%9D%98_%EC%82%AC%EB%B3%B8.ipynb\" target=\"_parent\"><img src=\"https://colab.research.google.com/assets/colab-badge.svg\" alt=\"Open In Colab\"/></a>"
      ]
    },
    {
      "cell_type": "markdown",
      "metadata": {
        "id": "GXZ4JnLa1W96"
      },
      "source": [
        "### 구글드라이브 연동"
      ]
    },
    {
      "cell_type": "code",
      "metadata": {
        "id": "Xnt3wt321U6D",
        "colab": {
          "base_uri": "https://localhost:8080/"
        },
        "outputId": "029f04ce-8958-44d8-d69b-155f22ea0a55"
      },
      "source": [
        "# 구글드라이브 연동\n",
        "from google.colab import drive\n",
        "drive.mount('/gdrive', force_remount=True)\n",
        "\n",
        "# 구글 드라이브 파일 확인\n",
        "!ls '/gdrive/My Drive/temp/'\n",
        "\n",
        "# 반복되는 드라이브 경로 변수화\n",
        "drive_path = '/gdrive/My Drive/temp/'"
      ],
      "execution_count": 1,
      "outputs": [
        {
          "output_type": "stream",
          "name": "stdout",
          "text": [
            "Mounted at /gdrive\n",
            " 매수종목1.txt\t\t\t        sample2.pdf\n",
            "'2. 영화평점, 날짜별 영화평점 시각화'   sample.docx\n",
            " 매수종목2.txt\t\t\t        sample_merge.pdf\n",
            " auto-mpg.csv\t\t\t        sample.xlsx\n",
            " bmi_500.csv\t\t\t        score.csv\n",
            " 매수종목.csv\t\t\t        seoul.html\n",
            " data_studentlist_en.csv\t       'stock price.xlsx'\n",
            "'demo (1).docx'\t\t\t       'stock valuation.xlsx'\n",
            " demo.docx\t\t\t        test.db.db\n",
            " example.docx\t\t\t        test.txt\n",
            " height_weight.txt\t\t        Titanic배포용\n",
            " hello_world.xlsx\t\t        titanic_test.csv\n",
            " HelloWorld.xlsx\t\t        titanic_train.csv\n",
            "'little-char (1).png'\t\t        titanic.xls\n",
            " little-char.png\t\t        Traffic_Accident_2017.csv\n",
            " population_number.csv\t\t        train.csv\n",
            " ram_price.csv\t\t\t        user_id_mean.csv\n",
            " ratings_small.txt\t\t        wine.csv\n",
            "'sample1 (1).pdf'\t\t        주가데이터.xlsx\n",
            " sample1.pdf\t\t\t        남북한발전전력량.xlsx\n",
            "'sample (1).xlsx'\n"
          ]
        }
      ]
    },
    {
      "cell_type": "markdown",
      "metadata": {
        "id": "qLyEsKEPAki_"
      },
      "source": [
        "# 시계열 데이터 분석\n",
        "\n",
        "- 시간상의 여러 지점을 관측하거나 측정할 수 있는 모든 것\n"
      ]
    },
    {
      "cell_type": "markdown",
      "source": [
        "시계열 데이터 유형\n",
        "\n",
        "- 시간내에서 특정 순간의 타임스탬프\n",
        "- 2020년 4월이나 2020년 전체 같은 고정된 기간\n",
        "- 시작과 끝 타임스탬프로 표시되는 시간 간격 (기간은 시간 간격의 특수한 경우)\n",
        "- 경과시간. 특정 시작 시간에 상대적인 시간의 측정값"
      ],
      "metadata": {
        "id": "OI5fY9oJ4XCG"
      }
    },
    {
      "cell_type": "markdown",
      "source": [
        "pandas 는 표준 시계열 도구와 데이터 알고리즘을 제공\n",
        "\n",
        "- 금융이나 경제관련 또는 서버 로그 데이터 분석에 유용"
      ],
      "metadata": {
        "id": "2QbYI9fG5Bwn"
      }
    },
    {
      "cell_type": "code",
      "metadata": {
        "id": "45wdJ2e5AkjA"
      },
      "source": [
        "import numpy as np\n",
        "import matplotlib.pyplot as plt\n",
        "import pandas as pd\n",
        "from pandas import DataFrame, Series\n",
        "from numpy.random import randn\n",
        "\n",
        "# 사용자 편의를 위해 Magic 키워드 를 지원 %, %%\n",
        "# 주피터 노트북의 대화형 시각화 기능을 활성화\n",
        "%matplotlib inline\n",
        "# 그래프를 더 높은 해상도로 출력\n",
        "%config InlineBackend.figure_format = 'retina'"
      ],
      "execution_count": 2,
      "outputs": []
    },
    {
      "cell_type": "markdown",
      "source": [
        "## 날짜, 시간 자료형"
      ],
      "metadata": {
        "id": "5PvOKyc-4Vnf"
      }
    },
    {
      "cell_type": "code",
      "source": [
        "from datetime import datetime\n",
        "\n",
        "now= datetime.now()\n",
        "now\n",
        "\n",
        "now.year, now.month, now.day, now.microsecond"
      ],
      "metadata": {
        "id": "VSN6S-VrUP_3",
        "colab": {
          "base_uri": "https://localhost:8080/"
        },
        "outputId": "25c45c32-aa36-40bb-c7e3-29ff22150e98"
      },
      "execution_count": null,
      "outputs": [
        {
          "output_type": "execute_result",
          "data": {
            "text/plain": [
              "(2022, 4, 20, 536025)"
            ]
          },
          "metadata": {},
          "execution_count": 4
        }
      ]
    },
    {
      "cell_type": "code",
      "source": [
        "# 두 datetime 객체 간의 시간적인  차이를 표현\n",
        "# datetime.timedelta\n",
        "delta = datetime(2022,4,20) - datetime(2018,6,24,9,10)\n",
        "delta\n",
        "delta.days, delta.seconds, delta.microseconds"
      ],
      "metadata": {
        "colab": {
          "base_uri": "https://localhost:8080/"
        },
        "id": "YIG4hnFxEDtb",
        "outputId": "3f0c12c5-d789-415a-dcc1-3c4f87c51bec"
      },
      "execution_count": null,
      "outputs": [
        {
          "output_type": "execute_result",
          "data": {
            "text/plain": [
              "(1395, 53400, 0)"
            ]
          },
          "metadata": {},
          "execution_count": 6
        }
      ]
    },
    {
      "cell_type": "code",
      "source": [
        "from datetime import timedelta\n",
        "\n",
        "start = datetime(2022, 4, 20)\n",
        "start - timedelta(7)\n",
        "start + timedelta(7)\n",
        "\n",
        "start - ( 2 * timedelta(7) )"
      ],
      "metadata": {
        "colab": {
          "base_uri": "https://localhost:8080/"
        },
        "id": "ZQNE7c5WFQtl",
        "outputId": "9951510d-b341-49cd-9aaf-c74d851ae776"
      },
      "execution_count": null,
      "outputs": [
        {
          "output_type": "execute_result",
          "data": {
            "text/plain": [
              "datetime.datetime(2022, 4, 6, 0, 0)"
            ]
          },
          "metadata": {},
          "execution_count": 12
        }
      ]
    },
    {
      "cell_type": "code",
      "source": [
        "# datetime을 문자열로 변환\n",
        "stamp = datetime(2022, 4, 20)\n",
        "a = str(stamp)\n",
        "\n",
        "# ftime은 포매팅을 통해서 바꾸는 것\n",
        "# 연도는 %Y는 4자리 연도, %y는 2자리 연도, %M은 분, %m은 달, %s는 초\n",
        "# %h는 시간\n",
        "\n",
        "stamp.strftime('%y-%m-%d')"
      ],
      "metadata": {
        "colab": {
          "base_uri": "https://localhost:8080/",
          "height": 35
        },
        "id": "CuE6YBWvGOQP",
        "outputId": "a80efe60-0a20-4ff7-f393-db73882e7435"
      },
      "execution_count": null,
      "outputs": [
        {
          "output_type": "execute_result",
          "data": {
            "text/plain": [
              "'22-04-20'"
            ],
            "application/vnd.google.colaboratory.intrinsic+json": {
              "type": "string"
            }
          },
          "metadata": {},
          "execution_count": 19
        }
      ]
    },
    {
      "cell_type": "code",
      "source": [
        "# 문자열을 datetime으로 변환\n",
        "value = '2022-04-20'\n",
        "datetime.strptime(value, '%Y-%m-%d')\n",
        "\n",
        "dates = ['7/6/2022','8/6/2022']\n",
        "for date in dates :\n",
        "    [datetime.strptime(date, '%m/%d/%Y')]\n",
        "\n",
        "# for문으로 리스트 만들기\n",
        "[datetime.strptime(date, '%m/%d/%Y') for x in dates]\n"
      ],
      "metadata": {
        "colab": {
          "base_uri": "https://localhost:8080/"
        },
        "id": "FQNrjc3qHJfN",
        "outputId": "97f35068-f5c9-45ad-b82a-1ce204acc220"
      },
      "execution_count": null,
      "outputs": [
        {
          "output_type": "execute_result",
          "data": {
            "text/plain": [
              "[datetime.datetime(2022, 8, 6, 0, 0), datetime.datetime(2022, 8, 6, 0, 0)]"
            ]
          },
          "metadata": {},
          "execution_count": 27
        }
      ]
    },
    {
      "cell_type": "code",
      "source": [
        "# pandas와 함께 자동 설치 됨\n",
        "# 대부분 사람이 인지하는 날짜 형식을 자동 파싱\n",
        "from dateutil.parser import parse\n",
        "\n",
        "parse('2022-04-20')\n",
        "parse('04-20-2022')\n",
        "parse('04/20/2022')\n",
        "parse('2022.04.20')\n",
        "parse('20220420')\n",
        "parse('2022-04-20 3:04:20')"
      ],
      "metadata": {
        "colab": {
          "base_uri": "https://localhost:8080/"
        },
        "id": "QM9x2ziLIZZW",
        "outputId": "b07812db-ac5e-40e7-834f-8e32cbe82e87"
      },
      "execution_count": null,
      "outputs": [
        {
          "output_type": "execute_result",
          "data": {
            "text/plain": [
              "datetime.datetime(2022, 4, 20, 3, 4, 20)"
            ]
          },
          "metadata": {},
          "execution_count": 32
        }
      ]
    },
    {
      "cell_type": "code",
      "source": [
        "dates = ['7/6/2022', '8/6/2022']\n",
        "pd.to_datetime(dates) # datetimeindex가 2개 만들어진다\n",
        "\n",
        "# 누락값(결측치) 처리, NaT(not & time) 누락된 타임스탬츠 데이터\n",
        "dates + [None] # 리스트 더하기 리스트\n",
        "df = pd.to_datetime( dates + [None]) # NaT 주입 -> 시간인데 빈데이터\n",
        "df.isnull() # 2개 같은 내용\n",
        "pd.isnull(df)"
      ],
      "metadata": {
        "colab": {
          "base_uri": "https://localhost:8080/"
        },
        "id": "sZi5dK2ZJZz8",
        "outputId": "738b55e7-46c0-447f-c73b-3f2b62b8e31e"
      },
      "execution_count": null,
      "outputs": [
        {
          "output_type": "execute_result",
          "data": {
            "text/plain": [
              "array([False, False,  True])"
            ]
          },
          "metadata": {},
          "execution_count": 39
        }
      ]
    },
    {
      "cell_type": "markdown",
      "source": [
        "## 시계열 기초\n",
        "\n",
        "- TimeSerise"
      ],
      "metadata": {
        "id": "aEnW_oSJMGlB"
      }
    },
    {
      "cell_type": "code",
      "source": [
        "from datetime import datetime\n",
        "\n",
        "dates = [ \n",
        "         datetime(2022, 1, 2), datetime(2022, 1, 5),\n",
        "         datetime(2022, 1, 7), datetime(2022, 1, 8),\n",
        "         datetime(2022, 1, 10), datetime(2022, 1, 12),\n",
        "]\n",
        "\n",
        "# time이 인덱스인 Serise = ts\n",
        "ts = pd.Series( np.random.randn(6), index=dates)\n",
        "ts"
      ],
      "metadata": {
        "id": "_PZUvWauUVkd",
        "colab": {
          "base_uri": "https://localhost:8080/"
        },
        "outputId": "b8785b85-67b5-4ee2-de85-c23b72ca56f4"
      },
      "execution_count": 12,
      "outputs": [
        {
          "output_type": "execute_result",
          "data": {
            "text/plain": [
              "2022-01-02   -0.820555\n",
              "2022-01-05    1.313916\n",
              "2022-01-07    2.089493\n",
              "2022-01-08   -1.962235\n",
              "2022-01-10    0.726894\n",
              "2022-01-12    0.821634\n",
              "dtype: float64"
            ]
          },
          "metadata": {},
          "execution_count": 12
        }
      ]
    },
    {
      "cell_type": "code",
      "source": [
        "ts.index.year"
      ],
      "metadata": {
        "colab": {
          "base_uri": "https://localhost:8080/"
        },
        "id": "lBqVzYwho7qG",
        "outputId": "621e6e5f-863b-4a83-a423-27787f091ef5"
      },
      "execution_count": 6,
      "outputs": [
        {
          "output_type": "execute_result",
          "data": {
            "text/plain": [
              "Int64Index([2022, 2022, 2022, 2022, 2022, 2022], dtype='int64')"
            ]
          },
          "metadata": {},
          "execution_count": 6
        }
      ]
    },
    {
      "cell_type": "code",
      "source": [
        "display( ts. index)\n",
        "ts.index.year"
      ],
      "metadata": {
        "colab": {
          "base_uri": "https://localhost:8080/",
          "height": 89
        },
        "id": "E9WfSdhcpsDJ",
        "outputId": "55b1fa2e-0eda-4698-e00c-4f44d3ac389e"
      },
      "execution_count": 8,
      "outputs": [
        {
          "output_type": "display_data",
          "data": {
            "text/plain": [
              "DatetimeIndex(['2022-01-02', '2022-01-05', '2022-01-07', '2022-01-08',\n",
              "               '2022-01-10', '2022-01-12'],\n",
              "              dtype='datetime64[ns]', freq=None)"
            ]
          },
          "metadata": {}
        },
        {
          "output_type": "execute_result",
          "data": {
            "text/plain": [
              "Int64Index([2022, 2022, 2022, 2022, 2022, 2022], dtype='int64')"
            ]
          },
          "metadata": {},
          "execution_count": 8
        }
      ]
    },
    {
      "cell_type": "code",
      "source": [
        "# 시계열 객체간의 산술 연산\n",
        "ts[::2]\n",
        "ts - ts[::2]"
      ],
      "metadata": {
        "colab": {
          "base_uri": "https://localhost:8080/"
        },
        "id": "Mr2jHQMepxcW",
        "outputId": "c955dcf1-b8b7-4243-f822-f4a8207feab4"
      },
      "execution_count": 13,
      "outputs": [
        {
          "output_type": "execute_result",
          "data": {
            "text/plain": [
              "2022-01-02    0.0\n",
              "2022-01-05    NaN\n",
              "2022-01-07    0.0\n",
              "2022-01-08    NaN\n",
              "2022-01-10    0.0\n",
              "2022-01-12    NaN\n",
              "dtype: float64"
            ]
          },
          "metadata": {},
          "execution_count": 13
        }
      ]
    },
    {
      "cell_type": "code",
      "source": [
        "ts.index.dtype"
      ],
      "metadata": {
        "colab": {
          "base_uri": "https://localhost:8080/"
        },
        "id": "QBrISK6EqD1u",
        "outputId": "5ff74ad8-e153-45fa-b0b0-9713d3a744dd"
      },
      "execution_count": 14,
      "outputs": [
        {
          "output_type": "execute_result",
          "data": {
            "text/plain": [
              "dtype('<M8[ns]')"
            ]
          },
          "metadata": {},
          "execution_count": 14
        }
      ]
    },
    {
      "cell_type": "code",
      "source": [
        "# DatatimeIndex의 스칼라 값은 판다스의 timestamp 객체\n",
        "# 스칼라 : 한번에 하나의 값만 보유할 수 있는 원자량 (= 변수)\n",
        "ts.index[0]"
      ],
      "metadata": {
        "colab": {
          "base_uri": "https://localhost:8080/"
        },
        "id": "ClxJ_RSOqGg1",
        "outputId": "8a411506-6290-4825-eb42-fa775a892db6"
      },
      "execution_count": 18,
      "outputs": [
        {
          "output_type": "execute_result",
          "data": {
            "text/plain": [
              "Timestamp('2022-01-02 00:00:00')"
            ]
          },
          "metadata": {},
          "execution_count": 18
        }
      ]
    },
    {
      "cell_type": "markdown",
      "source": [
        "\n",
        "- 색인과 선택"
      ],
      "metadata": {
        "id": "PvNg2PlzOSgs"
      }
    },
    {
      "cell_type": "code",
      "source": [
        "# 시계열 라벨에 기반해서 데이터를 선택 index와 값을 가져오는 것\n",
        "ts.index[2], ts[2]\n",
        "tindex = ts.index[2]\n",
        "tindex\n",
        "ts[tindex]"
      ],
      "metadata": {
        "colab": {
          "base_uri": "https://localhost:8080/"
        },
        "id": "CtSqUGvNqitS",
        "outputId": "03aeec4b-ff01-423b-f2c4-9d9ea20acbf0"
      },
      "execution_count": 23,
      "outputs": [
        {
          "output_type": "execute_result",
          "data": {
            "text/plain": [
              "2.089493021737755"
            ]
          },
          "metadata": {},
          "execution_count": 23
        }
      ]
    },
    {
      "cell_type": "code",
      "source": [
        "ts"
      ],
      "metadata": {
        "colab": {
          "base_uri": "https://localhost:8080/"
        },
        "id": "4AwNOtd7rQrs",
        "outputId": "688ddb19-2d13-4ef5-bba3-7363ab8efd07"
      },
      "execution_count": 25,
      "outputs": [
        {
          "output_type": "execute_result",
          "data": {
            "text/plain": [
              "2022-01-02   -0.820555\n",
              "2022-01-05    1.313916\n",
              "2022-01-07    2.089493\n",
              "2022-01-08   -1.962235\n",
              "2022-01-10    0.726894\n",
              "2022-01-12    0.821634\n",
              "dtype: float64"
            ]
          },
          "metadata": {},
          "execution_count": 25
        }
      ]
    },
    {
      "cell_type": "code",
      "source": [
        "# 날짜 문자열을 이용\n",
        "ts['2022-01-02']\n",
        "ts['2022/01/02']\n",
        "ts['20220102']"
      ],
      "metadata": {
        "id": "Xhcs8ZwgUYuE",
        "colab": {
          "base_uri": "https://localhost:8080/"
        },
        "outputId": "673b4935-c1d8-4549-fc0e-1d02b3ecb9c5"
      },
      "execution_count": 27,
      "outputs": [
        {
          "output_type": "execute_result",
          "data": {
            "text/plain": [
              "-0.8205551792563258"
            ]
          },
          "metadata": {},
          "execution_count": 27
        }
      ]
    },
    {
      "cell_type": "markdown",
      "source": [
        "* 데이트다임을 인덱스로 한 시리즈 만들기"
      ],
      "metadata": {
        "id": "DAz37oBiyT5Y"
      }
    },
    {
      "cell_type": "code",
      "source": [
        "# 긴 시계열에서 연 또는 월 구간으로 선택\n",
        "from os import pread\n",
        "\n",
        "# 자동으로 날짜데이터 만들기 (시작, periods = 갯수, freq = 단위(월,일,주..) / 없으면 일단위 )\n",
        "rng = pd.date_range('2022/1/1', periods=1000)\n",
        "rng\n",
        "print( len(rng) ) # 갯수\n",
        "\n",
        "# Serise(데이터, 인덱스)\n",
        "long_ts = pd.Series(np.random.randn( len(rng) ), index = rng)\n",
        "long_ts"
      ],
      "metadata": {
        "colab": {
          "base_uri": "https://localhost:8080/"
        },
        "id": "Uet1K_mkt9e6",
        "outputId": "529b3c12-cf2a-4c43-e5e0-802daf3ef83b"
      },
      "execution_count": 37,
      "outputs": [
        {
          "output_type": "stream",
          "name": "stdout",
          "text": [
            "1000\n"
          ]
        },
        {
          "output_type": "execute_result",
          "data": {
            "text/plain": [
              "2022-01-01    0.133014\n",
              "2022-01-02   -0.829949\n",
              "2022-01-03   -1.179548\n",
              "2022-01-04    1.145948\n",
              "2022-01-05   -0.169419\n",
              "                ...   \n",
              "2024-09-22    1.154737\n",
              "2024-09-23    0.157577\n",
              "2024-09-24    0.296996\n",
              "2024-09-25    0.055569\n",
              "2024-09-26    1.218518\n",
              "Freq: D, Length: 1000, dtype: float64"
            ]
          },
          "metadata": {},
          "execution_count": 37
        }
      ]
    },
    {
      "cell_type": "code",
      "source": [
        "long_ts['2022']"
      ],
      "metadata": {
        "colab": {
          "base_uri": "https://localhost:8080/"
        },
        "id": "jGoFJH3rvkWA",
        "outputId": "2940fd6d-dec4-4bed-ea49-c467c6fef40b"
      },
      "execution_count": 35,
      "outputs": [
        {
          "output_type": "execute_result",
          "data": {
            "text/plain": [
              "2022-01-01   -0.720520\n",
              "2022-01-02   -0.476812\n",
              "2022-01-03    1.192609\n",
              "2022-01-04    0.318489\n",
              "2022-01-05    0.891122\n",
              "                ...   \n",
              "2022-12-27    0.696306\n",
              "2022-12-28    0.116757\n",
              "2022-12-29   -0.258360\n",
              "2022-12-30   -0.688654\n",
              "2022-12-31    0.399621\n",
              "Freq: D, Length: 365, dtype: float64"
            ]
          },
          "metadata": {},
          "execution_count": 35
        }
      ]
    },
    {
      "cell_type": "code",
      "source": [
        "long_ts['2022-04'].head()"
      ],
      "metadata": {
        "colab": {
          "base_uri": "https://localhost:8080/"
        },
        "id": "6I-6dabkvoYw",
        "outputId": "4759651c-0749-48e4-ff4d-cf46dd3c1d7f"
      },
      "execution_count": 36,
      "outputs": [
        {
          "output_type": "execute_result",
          "data": {
            "text/plain": [
              "2022-04-01    1.895805\n",
              "2022-04-02   -0.625007\n",
              "2022-04-03   -2.253548\n",
              "2022-04-04    0.620642\n",
              "2022-04-05    1.479616\n",
              "Freq: D, dtype: float64"
            ]
          },
          "metadata": {},
          "execution_count": 36
        }
      ]
    },
    {
      "cell_type": "code",
      "source": [
        "# 슬라이싱 (범위 선택)\n",
        "long_ts[ '2024-01-01' : ] # 문자열\n",
        "long_ts[ datetime(2024, 9, 1) : ] # 숫자 -> 프로그래밍 할 때 좋음\n",
        "long_ts[ '2022.04.1' : '2022.4.15'].count()"
      ],
      "metadata": {
        "colab": {
          "base_uri": "https://localhost:8080/"
        },
        "id": "IciUYnMuv0px",
        "outputId": "7fdadabc-1ad9-4cf7-fd99-f5b46740698e"
      },
      "execution_count": 43,
      "outputs": [
        {
          "output_type": "execute_result",
          "data": {
            "text/plain": [
              "15"
            ]
          },
          "metadata": {},
          "execution_count": 43
        }
      ]
    },
    {
      "cell_type": "code",
      "source": [
        "# 데이터 분리 (날짜 나누기) 이 날짜 뒤의 날은 날리기\n",
        "long_ts.truncate(after='2024.1.1')"
      ],
      "metadata": {
        "colab": {
          "base_uri": "https://localhost:8080/"
        },
        "id": "klo1PvM8w6nY",
        "outputId": "44e8be3d-a991-4777-d08e-fd3e75f63b88"
      },
      "execution_count": 44,
      "outputs": [
        {
          "output_type": "execute_result",
          "data": {
            "text/plain": [
              "2022-01-01    0.133014\n",
              "2022-01-02   -0.829949\n",
              "2022-01-03   -1.179548\n",
              "2022-01-04    1.145948\n",
              "2022-01-05   -0.169419\n",
              "                ...   \n",
              "2023-12-28   -0.076105\n",
              "2023-12-29   -0.046280\n",
              "2023-12-30    0.143955\n",
              "2023-12-31   -0.509784\n",
              "2024-01-01    1.616787\n",
              "Freq: D, Length: 731, dtype: float64"
            ]
          },
          "metadata": {},
          "execution_count": 44
        }
      ]
    },
    {
      "cell_type": "markdown",
      "source": [
        "* 데이트타임을 인덱스로 한 데이터프레임 만들기"
      ],
      "metadata": {
        "id": "NlxIE-P8yaqq"
      }
    },
    {
      "cell_type": "code",
      "source": [
        "# DataFrame 적용\n",
        "rng = pd.date_range('2022.1.1', periods=100, freq='w-WED')\n",
        "rng\n",
        "\n",
        "long_df = pd.DataFrame(np.random.randn(100, 4),\n",
        "                       index = rng,\n",
        "                       columns = ['서울', '광주', '부산', '대구'])\n",
        "long_df.head()\n",
        "long_df.loc['2022-5']"
      ],
      "metadata": {
        "colab": {
          "base_uri": "https://localhost:8080/",
          "height": 174
        },
        "id": "3YiWdOGOxHW1",
        "outputId": "82f80ee7-cf53-4322-cea2-89dbe279a56e"
      },
      "execution_count": 48,
      "outputs": [
        {
          "output_type": "execute_result",
          "data": {
            "text/plain": [
              "                  서울        광주        부산        대구\n",
              "2022-05-04 -0.251097 -0.091971  1.066981 -1.966896\n",
              "2022-05-11 -1.162713 -0.239276 -0.504320 -2.020130\n",
              "2022-05-18  1.537604  1.654641  0.863931  1.599796\n",
              "2022-05-25 -0.816546  0.122076  0.048014  0.598744"
            ],
            "text/html": [
              "\n",
              "  <div id=\"df-9a86fbb5-9ad9-4efe-85d3-006e10194ec0\">\n",
              "    <div class=\"colab-df-container\">\n",
              "      <div>\n",
              "<style scoped>\n",
              "    .dataframe tbody tr th:only-of-type {\n",
              "        vertical-align: middle;\n",
              "    }\n",
              "\n",
              "    .dataframe tbody tr th {\n",
              "        vertical-align: top;\n",
              "    }\n",
              "\n",
              "    .dataframe thead th {\n",
              "        text-align: right;\n",
              "    }\n",
              "</style>\n",
              "<table border=\"1\" class=\"dataframe\">\n",
              "  <thead>\n",
              "    <tr style=\"text-align: right;\">\n",
              "      <th></th>\n",
              "      <th>서울</th>\n",
              "      <th>광주</th>\n",
              "      <th>부산</th>\n",
              "      <th>대구</th>\n",
              "    </tr>\n",
              "  </thead>\n",
              "  <tbody>\n",
              "    <tr>\n",
              "      <th>2022-05-04</th>\n",
              "      <td>-0.251097</td>\n",
              "      <td>-0.091971</td>\n",
              "      <td>1.066981</td>\n",
              "      <td>-1.966896</td>\n",
              "    </tr>\n",
              "    <tr>\n",
              "      <th>2022-05-11</th>\n",
              "      <td>-1.162713</td>\n",
              "      <td>-0.239276</td>\n",
              "      <td>-0.504320</td>\n",
              "      <td>-2.020130</td>\n",
              "    </tr>\n",
              "    <tr>\n",
              "      <th>2022-05-18</th>\n",
              "      <td>1.537604</td>\n",
              "      <td>1.654641</td>\n",
              "      <td>0.863931</td>\n",
              "      <td>1.599796</td>\n",
              "    </tr>\n",
              "    <tr>\n",
              "      <th>2022-05-25</th>\n",
              "      <td>-0.816546</td>\n",
              "      <td>0.122076</td>\n",
              "      <td>0.048014</td>\n",
              "      <td>0.598744</td>\n",
              "    </tr>\n",
              "  </tbody>\n",
              "</table>\n",
              "</div>\n",
              "      <button class=\"colab-df-convert\" onclick=\"convertToInteractive('df-9a86fbb5-9ad9-4efe-85d3-006e10194ec0')\"\n",
              "              title=\"Convert this dataframe to an interactive table.\"\n",
              "              style=\"display:none;\">\n",
              "        \n",
              "  <svg xmlns=\"http://www.w3.org/2000/svg\" height=\"24px\"viewBox=\"0 0 24 24\"\n",
              "       width=\"24px\">\n",
              "    <path d=\"M0 0h24v24H0V0z\" fill=\"none\"/>\n",
              "    <path d=\"M18.56 5.44l.94 2.06.94-2.06 2.06-.94-2.06-.94-.94-2.06-.94 2.06-2.06.94zm-11 1L8.5 8.5l.94-2.06 2.06-.94-2.06-.94L8.5 2.5l-.94 2.06-2.06.94zm10 10l.94 2.06.94-2.06 2.06-.94-2.06-.94-.94-2.06-.94 2.06-2.06.94z\"/><path d=\"M17.41 7.96l-1.37-1.37c-.4-.4-.92-.59-1.43-.59-.52 0-1.04.2-1.43.59L10.3 9.45l-7.72 7.72c-.78.78-.78 2.05 0 2.83L4 21.41c.39.39.9.59 1.41.59.51 0 1.02-.2 1.41-.59l7.78-7.78 2.81-2.81c.8-.78.8-2.07 0-2.86zM5.41 20L4 18.59l7.72-7.72 1.47 1.35L5.41 20z\"/>\n",
              "  </svg>\n",
              "      </button>\n",
              "      \n",
              "  <style>\n",
              "    .colab-df-container {\n",
              "      display:flex;\n",
              "      flex-wrap:wrap;\n",
              "      gap: 12px;\n",
              "    }\n",
              "\n",
              "    .colab-df-convert {\n",
              "      background-color: #E8F0FE;\n",
              "      border: none;\n",
              "      border-radius: 50%;\n",
              "      cursor: pointer;\n",
              "      display: none;\n",
              "      fill: #1967D2;\n",
              "      height: 32px;\n",
              "      padding: 0 0 0 0;\n",
              "      width: 32px;\n",
              "    }\n",
              "\n",
              "    .colab-df-convert:hover {\n",
              "      background-color: #E2EBFA;\n",
              "      box-shadow: 0px 1px 2px rgba(60, 64, 67, 0.3), 0px 1px 3px 1px rgba(60, 64, 67, 0.15);\n",
              "      fill: #174EA6;\n",
              "    }\n",
              "\n",
              "    [theme=dark] .colab-df-convert {\n",
              "      background-color: #3B4455;\n",
              "      fill: #D2E3FC;\n",
              "    }\n",
              "\n",
              "    [theme=dark] .colab-df-convert:hover {\n",
              "      background-color: #434B5C;\n",
              "      box-shadow: 0px 1px 3px 1px rgba(0, 0, 0, 0.15);\n",
              "      filter: drop-shadow(0px 1px 2px rgba(0, 0, 0, 0.3));\n",
              "      fill: #FFFFFF;\n",
              "    }\n",
              "  </style>\n",
              "\n",
              "      <script>\n",
              "        const buttonEl =\n",
              "          document.querySelector('#df-9a86fbb5-9ad9-4efe-85d3-006e10194ec0 button.colab-df-convert');\n",
              "        buttonEl.style.display =\n",
              "          google.colab.kernel.accessAllowed ? 'block' : 'none';\n",
              "\n",
              "        async function convertToInteractive(key) {\n",
              "          const element = document.querySelector('#df-9a86fbb5-9ad9-4efe-85d3-006e10194ec0');\n",
              "          const dataTable =\n",
              "            await google.colab.kernel.invokeFunction('convertToInteractive',\n",
              "                                                     [key], {});\n",
              "          if (!dataTable) return;\n",
              "\n",
              "          const docLinkHtml = 'Like what you see? Visit the ' +\n",
              "            '<a target=\"_blank\" href=https://colab.research.google.com/notebooks/data_table.ipynb>data table notebook</a>'\n",
              "            + ' to learn more about interactive tables.';\n",
              "          element.innerHTML = '';\n",
              "          dataTable['output_type'] = 'display_data';\n",
              "          await google.colab.output.renderOutput(dataTable, element);\n",
              "          const docLink = document.createElement('div');\n",
              "          docLink.innerHTML = docLinkHtml;\n",
              "          element.appendChild(docLink);\n",
              "        }\n",
              "      </script>\n",
              "    </div>\n",
              "  </div>\n",
              "  "
            ]
          },
          "metadata": {},
          "execution_count": 48
        }
      ]
    },
    {
      "cell_type": "code",
      "source": [
        "# 시계열 중복 확인\n",
        "dates = pd.DatetimeIndex( ['2022.1.1', '2022.1.2','2022.1.2',\n",
        "                           '2022.1.2', '2022.1.3'])\n",
        "dup_ts = pd.Series( np.arange( 5 ), index=dates )\n",
        "dup_ts"
      ],
      "metadata": {
        "colab": {
          "base_uri": "https://localhost:8080/"
        },
        "id": "2K67QV6ByeYY",
        "outputId": "7adf1d89-9979-4cfb-be9e-72e363d2a982"
      },
      "execution_count": 60,
      "outputs": [
        {
          "output_type": "execute_result",
          "data": {
            "text/plain": [
              "2022-01-01    0\n",
              "2022-01-02    1\n",
              "2022-01-02    2\n",
              "2022-01-02    3\n",
              "2022-01-03    4\n",
              "dtype: int64"
            ]
          },
          "metadata": {},
          "execution_count": 60
        }
      ]
    },
    {
      "cell_type": "code",
      "source": [
        "# 인덱스 중복 여부 확인\n",
        "# (true -> 유니크 하다 중복 없다. false -> 중복이다! 중복이 있다!!)\n",
        "dup_ts.index.is_unique"
      ],
      "metadata": {
        "colab": {
          "base_uri": "https://localhost:8080/"
        },
        "id": "HFHPa_g4zFIl",
        "outputId": "b049f6e9-c32b-4e10-e5cb-a58e93c5e922"
      },
      "execution_count": 61,
      "outputs": [
        {
          "output_type": "execute_result",
          "data": {
            "text/plain": [
              "False"
            ]
          },
          "metadata": {},
          "execution_count": 61
        }
      ]
    },
    {
      "cell_type": "code",
      "source": [
        "# 중복되지 않을 경우 -> 스칼라 데이터로 가져옴( 값이 1개! )\n",
        "dup_ts['2022-01-01']"
      ],
      "metadata": {
        "colab": {
          "base_uri": "https://localhost:8080/"
        },
        "id": "KOnwwBnmzNQd",
        "outputId": "ece1ac30-6d0c-48dd-b2f0-74e0a52291af"
      },
      "execution_count": 53,
      "outputs": [
        {
          "output_type": "execute_result",
          "data": {
            "text/plain": [
              "0"
            ]
          },
          "metadata": {},
          "execution_count": 53
        }
      ]
    },
    {
      "cell_type": "code",
      "source": [
        "# 중복되는 경우 -> 시리즈 형식으로 가져옴\n",
        "dup_ts['2022-01-02']"
      ],
      "metadata": {
        "colab": {
          "base_uri": "https://localhost:8080/"
        },
        "id": "8vTXh0RIzX7l",
        "outputId": "3c706c58-39e7-4be9-eda6-dd5c386d254d"
      },
      "execution_count": 54,
      "outputs": [
        {
          "output_type": "execute_result",
          "data": {
            "text/plain": [
              "2022-01-02    1\n",
              "2022-01-02    2\n",
              "2022-01-02    3\n",
              "dtype: int64"
            ]
          },
          "metadata": {},
          "execution_count": 54
        }
      ]
    },
    {
      "cell_type": "code",
      "source": [
        "# 중복 색인 해결\n",
        "g = dup_ts.groupby(level=0)\n",
        "display( g.mean() ); print() # 그룹화 한 값의 평균\n",
        "display( g.count() ) # 그룹화한 값의 갯수 count"
      ],
      "metadata": {
        "colab": {
          "base_uri": "https://localhost:8080/",
          "height": 180
        },
        "id": "LUN7rCpQ0DDD",
        "outputId": "ef47dc63-7e16-4fbf-a292-2045cd694ddb"
      },
      "execution_count": 64,
      "outputs": [
        {
          "output_type": "display_data",
          "data": {
            "text/plain": [
              "2022-01-01    0.0\n",
              "2022-01-02    2.0\n",
              "2022-01-03    4.0\n",
              "dtype: float64"
            ]
          },
          "metadata": {}
        },
        {
          "output_type": "stream",
          "name": "stdout",
          "text": [
            "\n"
          ]
        },
        {
          "output_type": "display_data",
          "data": {
            "text/plain": [
              "2022-01-01    1\n",
              "2022-01-02    3\n",
              "2022-01-03    1\n",
              "dtype: int64"
            ]
          },
          "metadata": {}
        }
      ]
    },
    {
      "cell_type": "markdown",
      "source": [
        "## 날짜 범위와 빈도"
      ],
      "metadata": {
        "id": "Ko8UOHIVSrwI"
      }
    },
    {
      "cell_type": "code",
      "source": [
        "# 일별 타임스템프 생성\n",
        "# 앞에서 부터! 뒤에까지! 둘다 포함함\n",
        "a = pd.date_range('2022-4-1', '2022-6-1')\n",
        "# 5개만 보기\n",
        "a[:5]"
      ],
      "metadata": {
        "id": "PBcHRRjpSwTR",
        "colab": {
          "base_uri": "https://localhost:8080/"
        },
        "outputId": "1e82dda4-7553-4a1b-e4d1-1c9ef33fdfef"
      },
      "execution_count": 67,
      "outputs": [
        {
          "output_type": "execute_result",
          "data": {
            "text/plain": [
              "DatetimeIndex(['2022-04-01', '2022-04-02', '2022-04-03', '2022-04-04',\n",
              "               '2022-04-05'],\n",
              "              dtype='datetime64[ns]', freq='D')"
            ]
          },
          "metadata": {},
          "execution_count": 67
        }
      ]
    },
    {
      "cell_type": "code",
      "source": [
        "# 기간을 이용한 생성 : 시작일 또는 종료일만 전달\n",
        "# start를 기준으로 뒤로 생성\n",
        "pd.date_range(start='2022.4.1', periods=30)"
      ],
      "metadata": {
        "colab": {
          "base_uri": "https://localhost:8080/"
        },
        "id": "asWfpNoa1h3T",
        "outputId": "5ca6aeee-fb80-487a-c66a-0ef5c430934c"
      },
      "execution_count": 68,
      "outputs": [
        {
          "output_type": "execute_result",
          "data": {
            "text/plain": [
              "DatetimeIndex(['2022-04-01', '2022-04-02', '2022-04-03', '2022-04-04',\n",
              "               '2022-04-05', '2022-04-06', '2022-04-07', '2022-04-08',\n",
              "               '2022-04-09', '2022-04-10', '2022-04-11', '2022-04-12',\n",
              "               '2022-04-13', '2022-04-14', '2022-04-15', '2022-04-16',\n",
              "               '2022-04-17', '2022-04-18', '2022-04-19', '2022-04-20',\n",
              "               '2022-04-21', '2022-04-22', '2022-04-23', '2022-04-24',\n",
              "               '2022-04-25', '2022-04-26', '2022-04-27', '2022-04-28',\n",
              "               '2022-04-29', '2022-04-30'],\n",
              "              dtype='datetime64[ns]', freq='D')"
            ]
          },
          "metadata": {},
          "execution_count": 68
        }
      ]
    },
    {
      "cell_type": "code",
      "source": [
        "# end를 기준으로 앞으로 만듦\n",
        "pd.date_range(end='2022.4.1', periods=30)"
      ],
      "metadata": {
        "colab": {
          "base_uri": "https://localhost:8080/"
        },
        "id": "-oHc6buG14WF",
        "outputId": "dd7c86f3-5c82-49e3-dd6a-aa58716018ed"
      },
      "execution_count": 70,
      "outputs": [
        {
          "output_type": "execute_result",
          "data": {
            "text/plain": [
              "DatetimeIndex(['2022-03-03', '2022-03-04', '2022-03-05', '2022-03-06',\n",
              "               '2022-03-07', '2022-03-08', '2022-03-09', '2022-03-10',\n",
              "               '2022-03-11', '2022-03-12', '2022-03-13', '2022-03-14',\n",
              "               '2022-03-15', '2022-03-16', '2022-03-17', '2022-03-18',\n",
              "               '2022-03-19', '2022-03-20', '2022-03-21', '2022-03-22',\n",
              "               '2022-03-23', '2022-03-24', '2022-03-25', '2022-03-26',\n",
              "               '2022-03-27', '2022-03-28', '2022-03-29', '2022-03-30',\n",
              "               '2022-03-31', '2022-04-01'],\n",
              "              dtype='datetime64[ns]', freq='D')"
            ]
          },
          "metadata": {},
          "execution_count": 70
        }
      ]
    },
    {
      "cell_type": "code",
      "source": [
        "# 빈도값을 이용 / BM은 비즈니스별 월별 영업 마감일\n",
        "pd.date_range('2022.4.1', '2022.6.1', freq ='BM')"
      ],
      "metadata": {
        "colab": {
          "base_uri": "https://localhost:8080/"
        },
        "id": "3TImO6bJ2BlF",
        "outputId": "a2bc3803-556b-40bc-b82e-c3751dc25e57"
      },
      "execution_count": 71,
      "outputs": [
        {
          "output_type": "execute_result",
          "data": {
            "text/plain": [
              "DatetimeIndex(['2022-04-29', '2022-05-31'], dtype='datetime64[ns]', freq='BM')"
            ]
          },
          "metadata": {},
          "execution_count": 71
        }
      ]
    },
    {
      "cell_type": "markdown",
      "source": [
        "시계열 빈도 오프셋 별칭\n",
        "\n",
        "https://pandas.pydata.org/docs/user_guide/timeseries.html#timeseries-offset-aliases"
      ],
      "metadata": {
        "id": "MObQtzmE49Jt"
      }
    },
    {
      "cell_type": "code",
      "source": [
        "# 시간별 빈도\n",
        "from pandas.tseries.offsets import Hour, Minute\n",
        "Hour(), Minute()\n",
        "\n",
        "four_hour = Hour(4)\n",
        "pd.date_range('2022-4-1', '2022-4-3 23:59', freq=four_hour)"
      ],
      "metadata": {
        "colab": {
          "base_uri": "https://localhost:8080/"
        },
        "id": "NFGg9Yj_3TLa",
        "outputId": "ce505a7c-7014-4767-d30a-b223a693d403"
      },
      "execution_count": 75,
      "outputs": [
        {
          "output_type": "execute_result",
          "data": {
            "text/plain": [
              "DatetimeIndex(['2022-04-01 00:00:00', '2022-04-01 04:00:00',\n",
              "               '2022-04-01 08:00:00', '2022-04-01 12:00:00',\n",
              "               '2022-04-01 16:00:00', '2022-04-01 20:00:00',\n",
              "               '2022-04-02 00:00:00', '2022-04-02 04:00:00',\n",
              "               '2022-04-02 08:00:00', '2022-04-02 12:00:00',\n",
              "               '2022-04-02 16:00:00', '2022-04-02 20:00:00',\n",
              "               '2022-04-03 00:00:00', '2022-04-03 04:00:00',\n",
              "               '2022-04-03 08:00:00', '2022-04-03 12:00:00',\n",
              "               '2022-04-03 16:00:00', '2022-04-03 20:00:00'],\n",
              "              dtype='datetime64[ns]', freq='4H')"
            ]
          },
          "metadata": {},
          "execution_count": 75
        }
      ]
    },
    {
      "cell_type": "code",
      "source": [
        "# 단위를 통일해서 계산함\n",
        "two_hour_thirty_minutes = Hour(2) + Minute(30)\n",
        "pd.date_range('2022-04-01', periods = 10,freq = two_hour_thirty_minutes )\n",
        "# 2시간 30분 간격으로 생성"
      ],
      "metadata": {
        "colab": {
          "base_uri": "https://localhost:8080/"
        },
        "id": "8tyyEg5K3_Jp",
        "outputId": "9341e59b-3963-4d9c-e04d-6c2d93421259"
      },
      "execution_count": 82,
      "outputs": [
        {
          "output_type": "execute_result",
          "data": {
            "text/plain": [
              "DatetimeIndex(['2022-04-01 00:00:00', '2022-04-01 02:30:00',\n",
              "               '2022-04-01 05:00:00', '2022-04-01 07:30:00',\n",
              "               '2022-04-01 10:00:00', '2022-04-01 12:30:00',\n",
              "               '2022-04-01 15:00:00', '2022-04-01 17:30:00',\n",
              "               '2022-04-01 20:00:00', '2022-04-01 22:30:00'],\n",
              "              dtype='datetime64[ns]', freq='150T')"
            ]
          },
          "metadata": {},
          "execution_count": 82
        }
      ]
    },
    {
      "cell_type": "code",
      "source": [
        "# 문자열로 표현하면\n",
        "pd.date_range('2022-4-1', '2022-4-3 23:59', freq='4h')\n",
        "pd.date_range('2022-4-1', periods=10, freq='2h30min')"
      ],
      "metadata": {
        "colab": {
          "base_uri": "https://localhost:8080/"
        },
        "id": "o96N8dh64hrN",
        "outputId": "da6eaf9c-d006-4b50-8a28-0cf92c55e438"
      },
      "execution_count": 83,
      "outputs": [
        {
          "output_type": "execute_result",
          "data": {
            "text/plain": [
              "DatetimeIndex(['2022-04-01 00:00:00', '2022-04-01 02:30:00',\n",
              "               '2022-04-01 05:00:00', '2022-04-01 07:30:00',\n",
              "               '2022-04-01 10:00:00', '2022-04-01 12:30:00',\n",
              "               '2022-04-01 15:00:00', '2022-04-01 17:30:00',\n",
              "               '2022-04-01 20:00:00', '2022-04-01 22:30:00'],\n",
              "              dtype='datetime64[ns]', freq='150T')"
            ]
          },
          "metadata": {},
          "execution_count": 83
        }
      ]
    },
    {
      "cell_type": "code",
      "source": [
        "# 월별 주차 (매월 3째주 금요일)\n",
        "pd.date_range('2022.1.1', '2022.5.31', freq ='WOM-3FRI').to_list()"
      ],
      "metadata": {
        "colab": {
          "base_uri": "https://localhost:8080/"
        },
        "id": "ncZILAqw9TkU",
        "outputId": "e82eacee-2da8-43c3-cddb-0f907069b4e0"
      },
      "execution_count": 85,
      "outputs": [
        {
          "output_type": "execute_result",
          "data": {
            "text/plain": [
              "[Timestamp('2022-01-21 00:00:00', freq='WOM-3FRI'),\n",
              " Timestamp('2022-02-18 00:00:00', freq='WOM-3FRI'),\n",
              " Timestamp('2022-03-18 00:00:00', freq='WOM-3FRI'),\n",
              " Timestamp('2022-04-15 00:00:00', freq='WOM-3FRI'),\n",
              " Timestamp('2022-05-20 00:00:00', freq='WOM-3FRI')]"
            ]
          },
          "metadata": {},
          "execution_count": 85
        }
      ]
    },
    {
      "cell_type": "code",
      "source": [
        "# 시작 또는 종료 날짜의 타임 스캠프가 보존됨 (기본)\n",
        "pd.date_range('2022.4.1 16:11:30', periods=5)"
      ],
      "metadata": {
        "colab": {
          "base_uri": "https://localhost:8080/"
        },
        "id": "M5jEZ_5j9pXL",
        "outputId": "04a045d1-5d0c-48fa-9f1c-57236b13ad9a"
      },
      "execution_count": 86,
      "outputs": [
        {
          "output_type": "execute_result",
          "data": {
            "text/plain": [
              "DatetimeIndex(['2022-04-01 16:11:30', '2022-04-02 16:11:30',\n",
              "               '2022-04-03 16:11:30', '2022-04-04 16:11:30',\n",
              "               '2022-04-05 16:11:30'],\n",
              "              dtype='datetime64[ns]', freq='D')"
            ]
          },
          "metadata": {},
          "execution_count": 86
        }
      ]
    },
    {
      "cell_type": "code",
      "source": [
        "# 타임스탬프 정규화 : 자정에 맞추기\n",
        "pd.date_range('2022.4.1 16:11:30', periods=5, normalize=True)"
      ],
      "metadata": {
        "colab": {
          "base_uri": "https://localhost:8080/"
        },
        "id": "Cd8pHxAI973m",
        "outputId": "cb4fabd0-f941-4812-d1c5-e0807f11bba3"
      },
      "execution_count": 87,
      "outputs": [
        {
          "output_type": "execute_result",
          "data": {
            "text/plain": [
              "DatetimeIndex(['2022-04-01', '2022-04-02', '2022-04-03', '2022-04-04',\n",
              "               '2022-04-05'],\n",
              "              dtype='datetime64[ns]', freq='D')"
            ]
          },
          "metadata": {},
          "execution_count": 87
        }
      ]
    },
    {
      "cell_type": "code",
      "source": [
        "# 시간 데이터 이동\n",
        "# 시계열의 시작이나 끝에 결측치가 발생함\n",
        "rng = pd.date_range('2022.1.1', periods=4, freq='M')\n",
        "ts = pd.Series( np.random.randn( len( rng )), index=rng)\n",
        "display(ts) ; print()\n",
        "display( ts.shift(2) ); print()\n",
        "display( ts.shift(-2) ); print()"
      ],
      "metadata": {
        "colab": {
          "base_uri": "https://localhost:8080/",
          "height": 342
        },
        "id": "1t-MV0Sj-zoa",
        "outputId": "92f1f85e-7143-417c-d249-4f554655b619"
      },
      "execution_count": 88,
      "outputs": [
        {
          "output_type": "display_data",
          "data": {
            "text/plain": [
              "2022-01-31    0.059156\n",
              "2022-02-28    1.146432\n",
              "2022-03-31   -0.805095\n",
              "2022-04-30    0.001326\n",
              "Freq: M, dtype: float64"
            ]
          },
          "metadata": {}
        },
        {
          "output_type": "stream",
          "name": "stdout",
          "text": [
            "\n"
          ]
        },
        {
          "output_type": "display_data",
          "data": {
            "text/plain": [
              "2022-01-31         NaN\n",
              "2022-02-28         NaN\n",
              "2022-03-31    0.059156\n",
              "2022-04-30    1.146432\n",
              "Freq: M, dtype: float64"
            ]
          },
          "metadata": {}
        },
        {
          "output_type": "stream",
          "name": "stdout",
          "text": [
            "\n"
          ]
        },
        {
          "output_type": "display_data",
          "data": {
            "text/plain": [
              "2022-01-31   -0.805095\n",
              "2022-02-28    0.001326\n",
              "2022-03-31         NaN\n",
              "2022-04-30         NaN\n",
              "Freq: M, dtype: float64"
            ]
          },
          "metadata": {}
        },
        {
          "output_type": "stream",
          "name": "stdout",
          "text": [
            "\n"
          ]
        }
      ]
    },
    {
      "cell_type": "code",
      "source": [
        "# 빈도를 알고있는 경우 타임스탬프 확장 가능\n",
        "display( ts.shift(2, freq='M') ) ; print()\n",
        "display( ts.shift(2, freq='D') ) ; print()\n",
        "display( ts.shift(3, freq='90T') ) ; print()"
      ],
      "metadata": {
        "colab": {
          "base_uri": "https://localhost:8080/",
          "height": 342
        },
        "id": "dvlU23Gc_q6i",
        "outputId": "27c08947-1242-4fd2-d298-d7d5f370432a"
      },
      "execution_count": 93,
      "outputs": [
        {
          "output_type": "display_data",
          "data": {
            "text/plain": [
              "2022-03-31    0.059156\n",
              "2022-04-30    1.146432\n",
              "2022-05-31   -0.805095\n",
              "2022-06-30    0.001326\n",
              "Freq: M, dtype: float64"
            ]
          },
          "metadata": {}
        },
        {
          "output_type": "stream",
          "name": "stdout",
          "text": [
            "\n"
          ]
        },
        {
          "output_type": "display_data",
          "data": {
            "text/plain": [
              "2022-02-02    0.059156\n",
              "2022-03-02    1.146432\n",
              "2022-04-02   -0.805095\n",
              "2022-05-02    0.001326\n",
              "dtype: float64"
            ]
          },
          "metadata": {}
        },
        {
          "output_type": "stream",
          "name": "stdout",
          "text": [
            "\n"
          ]
        },
        {
          "output_type": "display_data",
          "data": {
            "text/plain": [
              "2022-01-31 04:30:00    0.059156\n",
              "2022-02-28 04:30:00    1.146432\n",
              "2022-03-31 04:30:00   -0.805095\n",
              "2022-04-30 04:30:00    0.001326\n",
              "dtype: float64"
            ]
          },
          "metadata": {}
        },
        {
          "output_type": "stream",
          "name": "stdout",
          "text": [
            "\n"
          ]
        }
      ]
    },
    {
      "cell_type": "code",
      "source": [
        "# UTC : 국제표준시\n",
        "rng = pd.date_range('2022.1.1', periods=5)\n",
        "ts = pd.Series( np.random.randn( len( rng )), index=rng)\n",
        "\n",
        "display( ts ); print()\n",
        "display( ts.tz_localize('UTC')) ; print()"
      ],
      "metadata": {
        "colab": {
          "base_uri": "https://localhost:8080/",
          "height": 270
        },
        "id": "gmy5C6LoAfKT",
        "outputId": "e457af72-ce04-4307-f7fe-61962c3a93cc"
      },
      "execution_count": 95,
      "outputs": [
        {
          "output_type": "display_data",
          "data": {
            "text/plain": [
              "2022-01-01   -0.400488\n",
              "2022-01-02    0.226526\n",
              "2022-01-03    1.273233\n",
              "2022-01-04    0.641751\n",
              "2022-01-05   -0.992585\n",
              "Freq: D, dtype: float64"
            ]
          },
          "metadata": {}
        },
        {
          "output_type": "stream",
          "name": "stdout",
          "text": [
            "\n"
          ]
        },
        {
          "output_type": "display_data",
          "data": {
            "text/plain": [
              "2022-01-01 00:00:00+00:00   -0.400488\n",
              "2022-01-02 00:00:00+00:00    0.226526\n",
              "2022-01-03 00:00:00+00:00    1.273233\n",
              "2022-01-04 00:00:00+00:00    0.641751\n",
              "2022-01-05 00:00:00+00:00   -0.992585\n",
              "Freq: D, dtype: float64"
            ]
          },
          "metadata": {}
        },
        {
          "output_type": "stream",
          "name": "stdout",
          "text": [
            "\n"
          ]
        }
      ]
    },
    {
      "cell_type": "markdown",
      "source": [
        "## 기간 (Period)"
      ],
      "metadata": {
        "id": "hgx-y8uLS-SX"
      }
    },
    {
      "cell_type": "code",
      "source": [
        "# 2020년 1월 1일부터 12월 31일 까지 기간을 표현\n",
        "p = pd.Period(2020, freq ='A-DEC')\n",
        "p"
      ],
      "metadata": {
        "id": "KMSDpnroTJLo",
        "colab": {
          "base_uri": "https://localhost:8080/"
        },
        "outputId": "fce88967-1f71-4407-b46c-dd7ad0335803"
      },
      "execution_count": 96,
      "outputs": [
        {
          "output_type": "execute_result",
          "data": {
            "text/plain": [
              "Period('2020', 'A-DEC')"
            ]
          },
          "metadata": {},
          "execution_count": 96
        }
      ]
    },
    {
      "cell_type": "code",
      "source": [
        "# 기간 이동\n",
        "p+2, p-2"
      ],
      "metadata": {
        "colab": {
          "base_uri": "https://localhost:8080/"
        },
        "id": "NZzIvHyoDPO1",
        "outputId": "a2a8c3d2-5d0f-4ac4-8849-7df9f412aa52"
      },
      "execution_count": 97,
      "outputs": [
        {
          "output_type": "execute_result",
          "data": {
            "text/plain": [
              "(Period('2022', 'A-DEC'), Period('2018', 'A-DEC'))"
            ]
          },
          "metadata": {},
          "execution_count": 97
        }
      ]
    },
    {
      "cell_type": "code",
      "source": [
        ""
      ],
      "metadata": {
        "id": "8rIPBcMqGuGZ"
      },
      "execution_count": null,
      "outputs": []
    },
    {
      "cell_type": "code",
      "source": [
        "pd.Period(2022, freq='A-DEC') - p"
      ],
      "metadata": {
        "colab": {
          "base_uri": "https://localhost:8080/"
        },
        "id": "s21K0AzLDUPg",
        "outputId": "f891ad05-18e2-45a6-c2e5-c28ec01dcb04"
      },
      "execution_count": 98,
      "outputs": [
        {
          "output_type": "execute_result",
          "data": {
            "text/plain": [
              "<2 * YearEnds: month=12>"
            ]
          },
          "metadata": {},
          "execution_count": 98
        }
      ]
    },
    {
      "cell_type": "code",
      "source": [
        "# 기간 범위\n",
        "# PeriodIndex : 순차적인 기간을 저장\n",
        "rng = pd.period_range('2022.1.1', '2022.6.30', freq = 'M')\n",
        "rng"
      ],
      "metadata": {
        "colab": {
          "base_uri": "https://localhost:8080/"
        },
        "id": "E7ds8PJcDbaH",
        "outputId": "1a9c08d0-4956-4f4e-92fe-c4d5a2e36096"
      },
      "execution_count": 99,
      "outputs": [
        {
          "output_type": "execute_result",
          "data": {
            "text/plain": [
              "PeriodIndex(['2022-01', '2022-02', '2022-03', '2022-04', '2022-05', '2022-06'], dtype='period[M]')"
            ]
          },
          "metadata": {},
          "execution_count": 99
        }
      ]
    },
    {
      "cell_type": "code",
      "source": [
        "ts = pd.Series( np.random.randn( len(rng) ), index = rng)\n",
        "ts.index # 타입이 PeriodIndex임"
      ],
      "metadata": {
        "colab": {
          "base_uri": "https://localhost:8080/"
        },
        "id": "aFmrMpxUDoai",
        "outputId": "caa714ff-5514-43cb-c0d5-7bb416808d1c"
      },
      "execution_count": 102,
      "outputs": [
        {
          "output_type": "execute_result",
          "data": {
            "text/plain": [
              "PeriodIndex(['2022-01', '2022-02', '2022-03', '2022-04', '2022-05', '2022-06'], dtype='period[M]')"
            ]
          },
          "metadata": {},
          "execution_count": 102
        }
      ]
    },
    {
      "cell_type": "code",
      "source": [
        "# 분기별로 넣는 것\n",
        "\n",
        "pd.PeriodIndex( ['2022Q3', '2022Q2', '2022Q1'], freq ='Q-DEC')"
      ],
      "metadata": {
        "colab": {
          "base_uri": "https://localhost:8080/"
        },
        "id": "-7dzy7bMD4H7",
        "outputId": "37b5b23e-f6c4-41bf-f3b2-8472038100ff"
      },
      "execution_count": 105,
      "outputs": [
        {
          "output_type": "execute_result",
          "data": {
            "text/plain": [
              "PeriodIndex(['2022Q3', '2022Q2', '2022Q1'], dtype='period[Q-DEC]')"
            ]
          },
          "metadata": {},
          "execution_count": 105
        }
      ]
    },
    {
      "cell_type": "code",
      "source": [
        "# Period 빈도 변환\n",
        "# 연단위 데이터\n",
        "p = pd.Period('2022', freq = 'A-DEC')\n",
        "display( p )\n",
        "# 월단위로 변환\n",
        "display( p.asfreq('M',how ='end') )\n",
        "display( p.asfreq('M',how ='start') )"
      ],
      "metadata": {
        "colab": {
          "base_uri": "https://localhost:8080/",
          "height": 71
        },
        "id": "y6nOuexmEuG3",
        "outputId": "b11dc57a-2533-4c98-fb78-20b224eb7fb4"
      },
      "execution_count": 108,
      "outputs": [
        {
          "output_type": "display_data",
          "data": {
            "text/plain": [
              "Period('2022', 'A-DEC')"
            ]
          },
          "metadata": {}
        },
        {
          "output_type": "display_data",
          "data": {
            "text/plain": [
              "Period('2022-12', 'M')"
            ]
          },
          "metadata": {}
        },
        {
          "output_type": "display_data",
          "data": {
            "text/plain": [
              "Period('2022-01', 'M')"
            ]
          },
          "metadata": {}
        }
      ]
    },
    {
      "cell_type": "code",
      "source": [
        "# 회계연도 마강이 12월이 아닌 6월인 경우 월간 빈도\n",
        "p = pd.Period('2022', freq = 'A-JUN')\n",
        "display( p )\n",
        "display( p.asfreq('M',how ='end') )\n",
        "display( p.asfreq('M',how ='start') )"
      ],
      "metadata": {
        "colab": {
          "base_uri": "https://localhost:8080/",
          "height": 71
        },
        "id": "6OxUxFf8FgEq",
        "outputId": "15018681-06c8-48e9-e940-4f47a55a3ebd"
      },
      "execution_count": 109,
      "outputs": [
        {
          "output_type": "display_data",
          "data": {
            "text/plain": [
              "Period('2022', 'A-JUN')"
            ]
          },
          "metadata": {}
        },
        {
          "output_type": "display_data",
          "data": {
            "text/plain": [
              "Period('2022-06', 'M')"
            ]
          },
          "metadata": {}
        },
        {
          "output_type": "display_data",
          "data": {
            "text/plain": [
              "Period('2021-07', 'M')"
            ]
          },
          "metadata": {}
        }
      ]
    },
    {
      "cell_type": "code",
      "source": [
        "# 시리즈에 적용\n",
        "# 2020-2022, 회계연도 12월 말\n",
        "rng = pd.period_range('2020', '2022', freq = 'A-DEC')\n",
        "ts = pd.Series( np.random.randn( len( rng )), index=rng)\n",
        "ts\n",
        "display( ts )   ; print()\n",
        "display( ts.asfreq('M',how ='end') )     ; print()\n",
        "display( ts.asfreq('M',how ='start') )  ; print()"
      ],
      "metadata": {
        "colab": {
          "base_uri": "https://localhost:8080/",
          "height": 288
        },
        "id": "ZJ_6Mpb_GOxM",
        "outputId": "32b2711e-79a0-40f5-a2d3-bbc90a10cb4a"
      },
      "execution_count": 110,
      "outputs": [
        {
          "output_type": "display_data",
          "data": {
            "text/plain": [
              "2020    0.454446\n",
              "2021    0.064637\n",
              "2022   -1.203563\n",
              "Freq: A-DEC, dtype: float64"
            ]
          },
          "metadata": {}
        },
        {
          "output_type": "stream",
          "name": "stdout",
          "text": [
            "\n"
          ]
        },
        {
          "output_type": "display_data",
          "data": {
            "text/plain": [
              "2020-12    0.454446\n",
              "2021-12    0.064637\n",
              "2022-12   -1.203563\n",
              "Freq: M, dtype: float64"
            ]
          },
          "metadata": {}
        },
        {
          "output_type": "stream",
          "name": "stdout",
          "text": [
            "\n"
          ]
        },
        {
          "output_type": "display_data",
          "data": {
            "text/plain": [
              "2020-01    0.454446\n",
              "2021-01    0.064637\n",
              "2022-01   -1.203563\n",
              "Freq: M, dtype: float64"
            ]
          },
          "metadata": {}
        },
        {
          "output_type": "stream",
          "name": "stdout",
          "text": [
            "\n"
          ]
        }
      ]
    },
    {
      "cell_type": "code",
      "source": [
        "# '90T' == '90min'"
      ],
      "metadata": {
        "id": "ZNv74R4ZKT4R"
      },
      "execution_count": null,
      "outputs": []
    },
    {
      "cell_type": "markdown",
      "source": [
        "분기(Period) 빈도\n",
        "\n",
        "- 분기 데이터는 재정, 금융 등의 여러 분야에서 표준으로 사용\n",
        "- 대체로 회계연도 끝인 12월의 마지막 날이나 마지막 업무일을 기준으로 보고\n",
        "- pandas 분기 빈도는 Q-JUN 에서 Q-DEC 까지 12가지 모든 경우의 수를 지원"
      ],
      "metadata": {
        "id": "XkTgJSqcKcjr"
      }
    },
    {
      "cell_type": "code",
      "source": [
        "# 분기 빈도\n",
        "p = pd.Period('2022Q4', freq = 'Q-JAN')\n",
        "display( p )\n",
        "\n",
        "# 분기 빈도 변환\n",
        "display( p.asfreq('D', how ='start') )\n",
        "display( p.asfreq('D', how ='end'))"
      ],
      "metadata": {
        "colab": {
          "base_uri": "https://localhost:8080/",
          "height": 71
        },
        "id": "JjUcB9fgLcgD",
        "outputId": "fd63a386-1b2e-4f48-8f5b-0742ece61491"
      },
      "execution_count": 113,
      "outputs": [
        {
          "output_type": "display_data",
          "data": {
            "text/plain": [
              "Period('2022Q4', 'Q-JAN')"
            ]
          },
          "metadata": {}
        },
        {
          "output_type": "display_data",
          "data": {
            "text/plain": [
              "Period('2021-11-01', 'D')"
            ]
          },
          "metadata": {}
        },
        {
          "output_type": "display_data",
          "data": {
            "text/plain": [
              "Period('2022-01-31', 'D')"
            ]
          },
          "metadata": {}
        }
      ]
    },
    {
      "cell_type": "code",
      "source": [
        "# 기간 연산\n",
        "# 분기 영업마감일의 오후 4시를 가리키는  타임스탬프\n",
        "p = pd.Period('2022Q4', freq = 'Q-JAN')\n",
        "display( p )\n",
        "display( p.asfreq('B', 'e'))\n",
        "# p.asfreq('B', 'e').asfreq('min', 's') + 16 * 60\n",
        "p4pm = (p.asfreq('B', 'e')-1).asfreq('h', 's') + 16\n",
        "p4pm.to_timestamp()"
      ],
      "metadata": {
        "colab": {
          "base_uri": "https://localhost:8080/",
          "height": 71
        },
        "id": "Yo6ex9VWL8mW",
        "outputId": "3d928d89-b51e-4aea-f8af-b49f0865bbbd"
      },
      "execution_count": 127,
      "outputs": [
        {
          "output_type": "display_data",
          "data": {
            "text/plain": [
              "Period('2022Q4', 'Q-JAN')"
            ]
          },
          "metadata": {}
        },
        {
          "output_type": "display_data",
          "data": {
            "text/plain": [
              "Period('2022-01-31', 'B')"
            ]
          },
          "metadata": {}
        },
        {
          "output_type": "execute_result",
          "data": {
            "text/plain": [
              "Timestamp('2022-01-28 16:00:00')"
            ]
          },
          "metadata": {},
          "execution_count": 127
        }
      ]
    },
    {
      "cell_type": "code",
      "source": [
        "# 분기 범위 연산\n",
        "rng = pd.period_range('2021Q1', '2022Q2', freq = 'Q-JAN')\n",
        "ts = pd.Series(np.arange( len(rng)), index = rng)\n",
        "display(ts) ; print()\n",
        "\n",
        "new_rng = (rng.asfreq('B', 'e')-1).asfreq('h', 's') + 16\n",
        "ts.index = new_rng.to_timestamp()\n",
        "display( ts )"
      ],
      "metadata": {
        "colab": {
          "base_uri": "https://localhost:8080/",
          "height": 288
        },
        "id": "cOF-TWovODRd",
        "outputId": "90d4cbb2-97f3-40f6-a103-230686d6de95"
      },
      "execution_count": 135,
      "outputs": [
        {
          "output_type": "display_data",
          "data": {
            "text/plain": [
              "2021Q1    0\n",
              "2021Q2    1\n",
              "2021Q3    2\n",
              "2021Q4    3\n",
              "2022Q1    4\n",
              "2022Q2    5\n",
              "Freq: Q-JAN, dtype: int64"
            ]
          },
          "metadata": {}
        },
        {
          "output_type": "stream",
          "name": "stdout",
          "text": [
            "\n"
          ]
        },
        {
          "output_type": "display_data",
          "data": {
            "text/plain": [
              "2020-04-29 16:00:00    0\n",
              "2020-07-30 16:00:00    1\n",
              "2020-10-29 16:00:00    2\n",
              "2021-01-28 16:00:00    3\n",
              "2021-04-29 16:00:00    4\n",
              "2021-07-29 16:00:00    5\n",
              "dtype: int64"
            ]
          },
          "metadata": {}
        }
      ]
    },
    {
      "cell_type": "code",
      "source": [
        "# 타임 스탬프를 기간으로 변환\n",
        "rng = pd.date_range('2022-01-01', periods =3, freq = 'M')\n",
        "ts = pd.Series( np.arange( len(rng) ), index = rng)\n",
        "display( ts ) ; print()\n",
        "display(ts.to_period()) # 월단위 기간으로 바뀜"
      ],
      "metadata": {
        "colab": {
          "base_uri": "https://localhost:8080/",
          "height": 180
        },
        "id": "1m-HwowIPYCu",
        "outputId": "72d8c022-69ef-43f1-f3b1-c91f751a8d16"
      },
      "execution_count": 139,
      "outputs": [
        {
          "output_type": "display_data",
          "data": {
            "text/plain": [
              "2022-01-31    0\n",
              "2022-02-28    1\n",
              "2022-03-31    2\n",
              "Freq: M, dtype: int64"
            ]
          },
          "metadata": {}
        },
        {
          "output_type": "stream",
          "name": "stdout",
          "text": [
            "\n"
          ]
        },
        {
          "output_type": "display_data",
          "data": {
            "text/plain": [
              "2022-01    0\n",
              "2022-02    1\n",
              "2022-03    2\n",
              "Freq: M, dtype: int64"
            ]
          },
          "metadata": {}
        }
      ]
    },
    {
      "cell_type": "code",
      "source": [
        "# 빈도에 따라 기간은 중복 될 수 있음\n",
        "ng = pd.date_range('2022-01-01', periods = 6, freq = 'D')\n",
        "ts = pd.Series( np.arange( len(rng) ), index = rng)\n",
        "display( ts ) ; print()\n",
        "display(ts.to_period('M')) "
      ],
      "metadata": {
        "colab": {
          "base_uri": "https://localhost:8080/",
          "height": 288
        },
        "id": "PE3qkc26Qe1m",
        "outputId": "8352cbf5-6cb2-4f8b-efb1-45566a53286a"
      },
      "execution_count": 140,
      "outputs": [
        {
          "output_type": "display_data",
          "data": {
            "text/plain": [
              "2022-01-01    0\n",
              "2022-01-02    1\n",
              "2022-01-03    2\n",
              "2022-01-04    3\n",
              "2022-01-05    4\n",
              "2022-01-06    5\n",
              "Freq: D, dtype: int64"
            ]
          },
          "metadata": {}
        },
        {
          "output_type": "stream",
          "name": "stdout",
          "text": [
            "\n"
          ]
        },
        {
          "output_type": "display_data",
          "data": {
            "text/plain": [
              "2022-01    0\n",
              "2022-01    1\n",
              "2022-01    2\n",
              "2022-01    3\n",
              "2022-01    4\n",
              "2022-01    5\n",
              "Freq: M, dtype: int64"
            ]
          },
          "metadata": {}
        }
      ]
    },
    {
      "cell_type": "code",
      "source": [
        "# 기간을 타임스탬프로 변환\n",
        "pts = ts.to_period()\n",
        "display( pts ); print()\n",
        "display( pts.to_timestamp(how='end') )"
      ],
      "metadata": {
        "colab": {
          "base_uri": "https://localhost:8080/",
          "height": 288
        },
        "id": "7yaR2L3rQv4N",
        "outputId": "1dd00c3f-f25f-4908-d2a3-0195a74fecec"
      },
      "execution_count": 143,
      "outputs": [
        {
          "output_type": "display_data",
          "data": {
            "text/plain": [
              "2022-01-01    0\n",
              "2022-01-02    1\n",
              "2022-01-03    2\n",
              "2022-01-04    3\n",
              "2022-01-05    4\n",
              "2022-01-06    5\n",
              "Freq: D, dtype: int64"
            ]
          },
          "metadata": {}
        },
        {
          "output_type": "stream",
          "name": "stdout",
          "text": [
            "\n"
          ]
        },
        {
          "output_type": "display_data",
          "data": {
            "text/plain": [
              "2022-01-01 23:59:59.999999999    0\n",
              "2022-01-02 23:59:59.999999999    1\n",
              "2022-01-03 23:59:59.999999999    2\n",
              "2022-01-04 23:59:59.999999999    3\n",
              "2022-01-05 23:59:59.999999999    4\n",
              "2022-01-06 23:59:59.999999999    5\n",
              "Freq: D, dtype: int64"
            ]
          },
          "metadata": {}
        }
      ]
    },
    {
      "cell_type": "markdown",
      "source": [
        "## 시계열의 빈도 변환 (리샘플링)"
      ],
      "metadata": {
        "id": "oyM-5f0FTanf"
      }
    },
    {
      "cell_type": "code",
      "source": [
        ""
      ],
      "metadata": {
        "id": "XzsnRhQvTeJa"
      },
      "execution_count": null,
      "outputs": []
    },
    {
      "cell_type": "markdown",
      "source": [
        "## 이동창 함수 (moving window function)"
      ],
      "metadata": {
        "id": "a22W5xHKTfA-"
      }
    },
    {
      "cell_type": "code",
      "source": [
        ""
      ],
      "metadata": {
        "id": "qbhs8KQfTp5_"
      },
      "execution_count": null,
      "outputs": []
    }
  ]
}