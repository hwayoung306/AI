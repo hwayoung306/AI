{
  "nbformat": 4,
  "nbformat_minor": 0,
  "metadata": {
    "colab": {
      "name": "20220421_py_07-시계열데이터분석.ipynb의 사본",
      "provenance": [],
      "collapsed_sections": [],
      "include_colab_link": true
    },
    "kernelspec": {
      "name": "python3",
      "display_name": "Python 3"
    }
  },
  "cells": [
    {
      "cell_type": "markdown",
      "metadata": {
        "id": "view-in-github",
        "colab_type": "text"
      },
      "source": [
        "<a href=\"https://colab.research.google.com/github/hwayoung306/AI/blob/main/20220421_py_07_%EC%8B%9C%EA%B3%84%EC%97%B4%EB%8D%B0%EC%9D%B4%ED%84%B0%EB%B6%84%EC%84%9D_ipynb%EC%9D%98_%EC%82%AC%EB%B3%B8.ipynb\" target=\"_parent\"><img src=\"https://colab.research.google.com/assets/colab-badge.svg\" alt=\"Open In Colab\"/></a>"
      ]
    },
    {
      "cell_type": "markdown",
      "metadata": {
        "id": "GXZ4JnLa1W96"
      },
      "source": [
        "### 구글드라이브 연동"
      ]
    },
    {
      "cell_type": "code",
      "metadata": {
        "id": "Xnt3wt321U6D",
        "colab": {
          "base_uri": "https://localhost:8080/"
        },
        "outputId": "9f12487d-9ae0-4253-9ab5-1431a5c6b373"
      },
      "source": [
        "# 구글드라이브 연동\n",
        "from google.colab import drive\n",
        "drive.mount('/gdrive', force_remount=True)\n",
        "\n",
        "# 구글 드라이브 파일 확인\n",
        "!ls '/gdrive/My Drive/temp/'\n",
        "\n",
        "# 반복되는 드라이브 경로 변수화\n",
        "drive_path = '/gdrive/My Drive/temp/'"
      ],
      "execution_count": 76,
      "outputs": [
        {
          "output_type": "stream",
          "name": "stdout",
          "text": [
            "Mounted at /gdrive\n",
            " 매수종목1.txt\t\t\t        sample.docx\n",
            "'2. 영화평점, 날짜별 영화평점 시각화'   sample_merge.pdf\n",
            " 매수종목2.txt\t\t\t        sample.xlsx\n",
            " auto-mpg.csv\t\t\t        score.csv\n",
            " bmi_500.csv\t\t\t        seoul.html\n",
            " 매수종목.csv\t\t\t       'stock price (1).xlsx'\n",
            " data_studentlist_en.csv\t       'stock price.xlsx'\n",
            "'demo (1).docx'\t\t\t        stock_px.csv\n",
            " demo.docx\t\t\t       'stock valuation.xlsx'\n",
            " example.docx\t\t\t        test.db.db\n",
            " height_weight.txt\t\t        test.txt\n",
            " hello_world.xlsx\t\t        Titanic배포용\n",
            " HelloWorld.xlsx\t\t        titanic_test.csv\n",
            "'little-char (1).png'\t\t        titanic_train.csv\n",
            " little-char.png\t\t        titanic.xls\n",
            " population_number.csv\t\t        Traffic_Accident_2017.csv\n",
            " ram_price.csv\t\t\t        train.csv\n",
            " ratings_small.txt\t\t        user_id_mean.csv\n",
            "'sample1 (1).pdf'\t\t        wine.csv\n",
            " sample1.pdf\t\t\t        주가데이터.xlsx\n",
            "'sample (1).xlsx'\t\t        남북한발전전력량.xlsx\n",
            " sample2.pdf\n"
          ]
        }
      ]
    },
    {
      "cell_type": "markdown",
      "metadata": {
        "id": "qLyEsKEPAki_"
      },
      "source": [
        "# 시계열 데이터 분석\n",
        "\n",
        "- 시간상의 여러 지점을 관측하거나 측정할 수 있는 모든 것\n"
      ]
    },
    {
      "cell_type": "markdown",
      "source": [
        "시계열 데이터 유형\n",
        "\n",
        "- 시간내에서 특정 순간의 타임스탬프\n",
        "- 2020년 4월이나 2020년 전체 같은 고정된 기간\n",
        "- 시작과 끝 타임스탬프로 표시되는 시간 간격 (기간은 시간 간격의 특수한 경우)\n",
        "- 경과시간. 특정 시작 시간에 상대적인 시간의 측정값"
      ],
      "metadata": {
        "id": "OI5fY9oJ4XCG"
      }
    },
    {
      "cell_type": "markdown",
      "source": [
        "pandas 는 표준 시계열 도구와 데이터 알고리즘을 제공\n",
        "\n",
        "- 금융이나 경제관련 또는 서버 로그 데이터 분석에 유용"
      ],
      "metadata": {
        "id": "2QbYI9fG5Bwn"
      }
    },
    {
      "cell_type": "code",
      "metadata": {
        "id": "45wdJ2e5AkjA"
      },
      "source": [
        "import numpy as np\n",
        "import matplotlib.pyplot as plt\n",
        "import pandas as pd\n",
        "from pandas import DataFrame, Series\n",
        "from numpy.random import randn\n",
        "\n",
        "# 사용자 편의를 위해 Magic 키워드 를 지원 %, %%\n",
        "# 주피터 노트북의 대화형 시각화 기능을 활성화\n",
        "%matplotlib inline\n",
        "# 그래프를 더 높은 해상도로 출력\n",
        "%config InlineBackend.figure_format = 'retina'"
      ],
      "execution_count": 2,
      "outputs": []
    },
    {
      "cell_type": "markdown",
      "source": [
        "## 날짜, 시간 자료형"
      ],
      "metadata": {
        "id": "5PvOKyc-4Vnf"
      }
    },
    {
      "cell_type": "code",
      "source": [
        "from datetime import datetime\n",
        "\n",
        "now= datetime.now()\n",
        "now\n",
        "\n",
        "now.year, now.month, now.day, now.microsecond"
      ],
      "metadata": {
        "id": "VSN6S-VrUP_3",
        "colab": {
          "base_uri": "https://localhost:8080/"
        },
        "outputId": "3c53a536-55c1-4141-9030-665069ad3ffe"
      },
      "execution_count": 3,
      "outputs": [
        {
          "output_type": "execute_result",
          "data": {
            "text/plain": [
              "(2022, 4, 22, 654974)"
            ]
          },
          "metadata": {},
          "execution_count": 3
        }
      ]
    },
    {
      "cell_type": "code",
      "source": [
        "# 두 datetime 객체 간의 시간적인  차이를 표현\n",
        "# datetime.timedelta\n",
        "delta = datetime(2022,4,20) - datetime(2018,6,24,9,10)\n",
        "delta\n",
        "delta.days, delta.seconds, delta.microseconds"
      ],
      "metadata": {
        "colab": {
          "base_uri": "https://localhost:8080/"
        },
        "id": "YIG4hnFxEDtb",
        "outputId": "3f0c12c5-d789-415a-dcc1-3c4f87c51bec"
      },
      "execution_count": null,
      "outputs": [
        {
          "output_type": "execute_result",
          "data": {
            "text/plain": [
              "(1395, 53400, 0)"
            ]
          },
          "metadata": {},
          "execution_count": 6
        }
      ]
    },
    {
      "cell_type": "code",
      "source": [
        "from datetime import timedelta\n",
        "\n",
        "start = datetime(2022, 4, 20)\n",
        "start - timedelta(7)\n",
        "start + timedelta(7)\n",
        "\n",
        "start - ( 2 * timedelta(7) )"
      ],
      "metadata": {
        "colab": {
          "base_uri": "https://localhost:8080/"
        },
        "id": "ZQNE7c5WFQtl",
        "outputId": "9951510d-b341-49cd-9aaf-c74d851ae776"
      },
      "execution_count": null,
      "outputs": [
        {
          "output_type": "execute_result",
          "data": {
            "text/plain": [
              "datetime.datetime(2022, 4, 6, 0, 0)"
            ]
          },
          "metadata": {},
          "execution_count": 12
        }
      ]
    },
    {
      "cell_type": "code",
      "source": [
        "# datetime을 문자열로 변환\n",
        "stamp = datetime(2022, 4, 20)\n",
        "a = str(stamp)\n",
        "\n",
        "# ftime은 포매팅을 통해서 바꾸는 것\n",
        "# 연도는 %Y는 4자리 연도, %y는 2자리 연도, %M은 분, %m은 달, %s는 초\n",
        "# %h는 시간\n",
        "\n",
        "stamp.strftime('%y-%m-%d')"
      ],
      "metadata": {
        "colab": {
          "base_uri": "https://localhost:8080/",
          "height": 35
        },
        "id": "CuE6YBWvGOQP",
        "outputId": "a80efe60-0a20-4ff7-f393-db73882e7435"
      },
      "execution_count": null,
      "outputs": [
        {
          "output_type": "execute_result",
          "data": {
            "text/plain": [
              "'22-04-20'"
            ],
            "application/vnd.google.colaboratory.intrinsic+json": {
              "type": "string"
            }
          },
          "metadata": {},
          "execution_count": 19
        }
      ]
    },
    {
      "cell_type": "code",
      "source": [
        "# 문자열을 datetime으로 변환\n",
        "value = '2022-04-20'\n",
        "datetime.strptime(value, '%Y-%m-%d')\n",
        "\n",
        "dates = ['7/6/2022','8/6/2022']\n",
        "for date in dates :\n",
        "    [datetime.strptime(date, '%m/%d/%Y')]\n",
        "\n",
        "# for문으로 리스트 만들기\n",
        "[datetime.strptime(date, '%m/%d/%Y') for x in dates]\n"
      ],
      "metadata": {
        "colab": {
          "base_uri": "https://localhost:8080/"
        },
        "id": "FQNrjc3qHJfN",
        "outputId": "97f35068-f5c9-45ad-b82a-1ce204acc220"
      },
      "execution_count": null,
      "outputs": [
        {
          "output_type": "execute_result",
          "data": {
            "text/plain": [
              "[datetime.datetime(2022, 8, 6, 0, 0), datetime.datetime(2022, 8, 6, 0, 0)]"
            ]
          },
          "metadata": {},
          "execution_count": 27
        }
      ]
    },
    {
      "cell_type": "code",
      "source": [
        "# pandas와 함께 자동 설치 됨\n",
        "# 대부분 사람이 인지하는 날짜 형식을 자동 파싱\n",
        "from dateutil.parser import parse\n",
        "\n",
        "parse('2022-04-20')\n",
        "parse('04-20-2022')\n",
        "parse('04/20/2022')\n",
        "parse('2022.04.20')\n",
        "parse('20220420')\n",
        "parse('2022-04-20 3:04:20')"
      ],
      "metadata": {
        "colab": {
          "base_uri": "https://localhost:8080/"
        },
        "id": "QM9x2ziLIZZW",
        "outputId": "b07812db-ac5e-40e7-834f-8e32cbe82e87"
      },
      "execution_count": null,
      "outputs": [
        {
          "output_type": "execute_result",
          "data": {
            "text/plain": [
              "datetime.datetime(2022, 4, 20, 3, 4, 20)"
            ]
          },
          "metadata": {},
          "execution_count": 32
        }
      ]
    },
    {
      "cell_type": "code",
      "source": [
        "dates = ['7/6/2022', '8/6/2022']\n",
        "pd.to_datetime(dates) # datetimeindex가 2개 만들어진다\n",
        "\n",
        "# 누락값(결측치) 처리, NaT(not & time) 누락된 타임스탬츠 데이터\n",
        "dates + [None] # 리스트 더하기 리스트\n",
        "df = pd.to_datetime( dates + [None]) # NaT 주입 -> 시간인데 빈데이터\n",
        "df.isnull() # 2개 같은 내용\n",
        "pd.isnull(df)"
      ],
      "metadata": {
        "colab": {
          "base_uri": "https://localhost:8080/"
        },
        "id": "sZi5dK2ZJZz8",
        "outputId": "738b55e7-46c0-447f-c73b-3f2b62b8e31e"
      },
      "execution_count": null,
      "outputs": [
        {
          "output_type": "execute_result",
          "data": {
            "text/plain": [
              "array([False, False,  True])"
            ]
          },
          "metadata": {},
          "execution_count": 39
        }
      ]
    },
    {
      "cell_type": "markdown",
      "source": [
        "## 시계열 기초\n",
        "\n",
        "- TimeSerise"
      ],
      "metadata": {
        "id": "aEnW_oSJMGlB"
      }
    },
    {
      "cell_type": "code",
      "source": [
        "from datetime import datetime\n",
        "\n",
        "dates = [ \n",
        "         datetime(2022, 1, 2), datetime(2022, 1, 5),\n",
        "         datetime(2022, 1, 7), datetime(2022, 1, 8),\n",
        "         datetime(2022, 1, 10), datetime(2022, 1, 12),\n",
        "]\n",
        "\n",
        "# time이 인덱스인 Serise = ts\n",
        "ts = pd.Series( np.random.randn(6), index=dates)\n",
        "ts"
      ],
      "metadata": {
        "id": "_PZUvWauUVkd",
        "colab": {
          "base_uri": "https://localhost:8080/"
        },
        "outputId": "11c6d348-17bf-4d3b-c670-2fd7eae7a885"
      },
      "execution_count": 4,
      "outputs": [
        {
          "output_type": "execute_result",
          "data": {
            "text/plain": [
              "2022-01-02   -0.674707\n",
              "2022-01-05    0.736576\n",
              "2022-01-07   -0.898822\n",
              "2022-01-08   -0.199149\n",
              "2022-01-10    0.489219\n",
              "2022-01-12   -0.644352\n",
              "dtype: float64"
            ]
          },
          "metadata": {},
          "execution_count": 4
        }
      ]
    },
    {
      "cell_type": "code",
      "source": [
        "ts.index.year"
      ],
      "metadata": {
        "colab": {
          "base_uri": "https://localhost:8080/"
        },
        "id": "lBqVzYwho7qG",
        "outputId": "621e6e5f-863b-4a83-a423-27787f091ef5"
      },
      "execution_count": null,
      "outputs": [
        {
          "output_type": "execute_result",
          "data": {
            "text/plain": [
              "Int64Index([2022, 2022, 2022, 2022, 2022, 2022], dtype='int64')"
            ]
          },
          "metadata": {},
          "execution_count": 6
        }
      ]
    },
    {
      "cell_type": "code",
      "source": [
        "display( ts. index)\n",
        "ts.index.year"
      ],
      "metadata": {
        "colab": {
          "base_uri": "https://localhost:8080/",
          "height": 89
        },
        "id": "E9WfSdhcpsDJ",
        "outputId": "55b1fa2e-0eda-4698-e00c-4f44d3ac389e"
      },
      "execution_count": null,
      "outputs": [
        {
          "output_type": "display_data",
          "data": {
            "text/plain": [
              "DatetimeIndex(['2022-01-02', '2022-01-05', '2022-01-07', '2022-01-08',\n",
              "               '2022-01-10', '2022-01-12'],\n",
              "              dtype='datetime64[ns]', freq=None)"
            ]
          },
          "metadata": {}
        },
        {
          "output_type": "execute_result",
          "data": {
            "text/plain": [
              "Int64Index([2022, 2022, 2022, 2022, 2022, 2022], dtype='int64')"
            ]
          },
          "metadata": {},
          "execution_count": 8
        }
      ]
    },
    {
      "cell_type": "code",
      "source": [
        "# 시계열 객체간의 산술 연산\n",
        "ts[::2]\n",
        "ts - ts[::2]"
      ],
      "metadata": {
        "colab": {
          "base_uri": "https://localhost:8080/"
        },
        "id": "Mr2jHQMepxcW",
        "outputId": "c955dcf1-b8b7-4243-f822-f4a8207feab4"
      },
      "execution_count": null,
      "outputs": [
        {
          "output_type": "execute_result",
          "data": {
            "text/plain": [
              "2022-01-02    0.0\n",
              "2022-01-05    NaN\n",
              "2022-01-07    0.0\n",
              "2022-01-08    NaN\n",
              "2022-01-10    0.0\n",
              "2022-01-12    NaN\n",
              "dtype: float64"
            ]
          },
          "metadata": {},
          "execution_count": 13
        }
      ]
    },
    {
      "cell_type": "code",
      "source": [
        "ts.index.dtype"
      ],
      "metadata": {
        "colab": {
          "base_uri": "https://localhost:8080/"
        },
        "id": "QBrISK6EqD1u",
        "outputId": "5ff74ad8-e153-45fa-b0b0-9713d3a744dd"
      },
      "execution_count": null,
      "outputs": [
        {
          "output_type": "execute_result",
          "data": {
            "text/plain": [
              "dtype('<M8[ns]')"
            ]
          },
          "metadata": {},
          "execution_count": 14
        }
      ]
    },
    {
      "cell_type": "code",
      "source": [
        "# DatatimeIndex의 스칼라 값은 판다스의 timestamp 객체\n",
        "# 스칼라 : 한번에 하나의 값만 보유할 수 있는 원자량 (= 변수)\n",
        "ts.index[0]"
      ],
      "metadata": {
        "colab": {
          "base_uri": "https://localhost:8080/"
        },
        "id": "ClxJ_RSOqGg1",
        "outputId": "8a411506-6290-4825-eb42-fa775a892db6"
      },
      "execution_count": null,
      "outputs": [
        {
          "output_type": "execute_result",
          "data": {
            "text/plain": [
              "Timestamp('2022-01-02 00:00:00')"
            ]
          },
          "metadata": {},
          "execution_count": 18
        }
      ]
    },
    {
      "cell_type": "markdown",
      "source": [
        "\n",
        "- 색인과 선택"
      ],
      "metadata": {
        "id": "PvNg2PlzOSgs"
      }
    },
    {
      "cell_type": "code",
      "source": [
        "# 시계열 라벨에 기반해서 데이터를 선택 index와 값을 가져오는 것\n",
        "ts.index[2], ts[2]\n",
        "tindex = ts.index[2]\n",
        "tindex\n",
        "ts[tindex]"
      ],
      "metadata": {
        "colab": {
          "base_uri": "https://localhost:8080/"
        },
        "id": "CtSqUGvNqitS",
        "outputId": "03aeec4b-ff01-423b-f2c4-9d9ea20acbf0"
      },
      "execution_count": null,
      "outputs": [
        {
          "output_type": "execute_result",
          "data": {
            "text/plain": [
              "2.089493021737755"
            ]
          },
          "metadata": {},
          "execution_count": 23
        }
      ]
    },
    {
      "cell_type": "code",
      "source": [
        "ts"
      ],
      "metadata": {
        "colab": {
          "base_uri": "https://localhost:8080/"
        },
        "id": "4AwNOtd7rQrs",
        "outputId": "688ddb19-2d13-4ef5-bba3-7363ab8efd07"
      },
      "execution_count": null,
      "outputs": [
        {
          "output_type": "execute_result",
          "data": {
            "text/plain": [
              "2022-01-02   -0.820555\n",
              "2022-01-05    1.313916\n",
              "2022-01-07    2.089493\n",
              "2022-01-08   -1.962235\n",
              "2022-01-10    0.726894\n",
              "2022-01-12    0.821634\n",
              "dtype: float64"
            ]
          },
          "metadata": {},
          "execution_count": 25
        }
      ]
    },
    {
      "cell_type": "code",
      "source": [
        "# 날짜 문자열을 이용\n",
        "ts['2022-01-02']\n",
        "ts['2022/01/02']\n",
        "ts['20220102']"
      ],
      "metadata": {
        "id": "Xhcs8ZwgUYuE",
        "colab": {
          "base_uri": "https://localhost:8080/"
        },
        "outputId": "673b4935-c1d8-4549-fc0e-1d02b3ecb9c5"
      },
      "execution_count": null,
      "outputs": [
        {
          "output_type": "execute_result",
          "data": {
            "text/plain": [
              "-0.8205551792563258"
            ]
          },
          "metadata": {},
          "execution_count": 27
        }
      ]
    },
    {
      "cell_type": "markdown",
      "source": [
        "* 데이트다임을 인덱스로 한 시리즈 만들기"
      ],
      "metadata": {
        "id": "DAz37oBiyT5Y"
      }
    },
    {
      "cell_type": "markdown",
      "source": [
        "- freq단위\n",
        "\n",
        " ![image.png](data:image/png;base64,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)"
      ],
      "metadata": {
        "id": "zBiCrPCj2SVp"
      }
    },
    {
      "cell_type": "code",
      "source": [
        "# 긴 시계열에서 연 또는 월 구간으로 선택\n",
        "from os import pread\n",
        "\n",
        "# 자동으로 날짜데이터 만들기 (시작, periods = 갯수, freq = 단위(월,일,주..) / 없으면 일단위 )\n",
        "rng = pd.date_range('2022/1/1', periods=1000)\n",
        "rng\n",
        "print( len(rng) ) # 갯수\n",
        "\n",
        "# Serise(데이터, 인덱스)\n",
        "long_ts = pd.Series(np.random.randn( len(rng) ), index = rng)\n",
        "long_ts"
      ],
      "metadata": {
        "colab": {
          "base_uri": "https://localhost:8080/"
        },
        "id": "Uet1K_mkt9e6",
        "outputId": "529b3c12-cf2a-4c43-e5e0-802daf3ef83b"
      },
      "execution_count": null,
      "outputs": [
        {
          "output_type": "stream",
          "name": "stdout",
          "text": [
            "1000\n"
          ]
        },
        {
          "output_type": "execute_result",
          "data": {
            "text/plain": [
              "2022-01-01    0.133014\n",
              "2022-01-02   -0.829949\n",
              "2022-01-03   -1.179548\n",
              "2022-01-04    1.145948\n",
              "2022-01-05   -0.169419\n",
              "                ...   \n",
              "2024-09-22    1.154737\n",
              "2024-09-23    0.157577\n",
              "2024-09-24    0.296996\n",
              "2024-09-25    0.055569\n",
              "2024-09-26    1.218518\n",
              "Freq: D, Length: 1000, dtype: float64"
            ]
          },
          "metadata": {},
          "execution_count": 37
        }
      ]
    },
    {
      "cell_type": "code",
      "source": [
        "long_ts['2022']"
      ],
      "metadata": {
        "colab": {
          "base_uri": "https://localhost:8080/"
        },
        "id": "jGoFJH3rvkWA",
        "outputId": "2940fd6d-dec4-4bed-ea49-c467c6fef40b"
      },
      "execution_count": null,
      "outputs": [
        {
          "output_type": "execute_result",
          "data": {
            "text/plain": [
              "2022-01-01   -0.720520\n",
              "2022-01-02   -0.476812\n",
              "2022-01-03    1.192609\n",
              "2022-01-04    0.318489\n",
              "2022-01-05    0.891122\n",
              "                ...   \n",
              "2022-12-27    0.696306\n",
              "2022-12-28    0.116757\n",
              "2022-12-29   -0.258360\n",
              "2022-12-30   -0.688654\n",
              "2022-12-31    0.399621\n",
              "Freq: D, Length: 365, dtype: float64"
            ]
          },
          "metadata": {},
          "execution_count": 35
        }
      ]
    },
    {
      "cell_type": "code",
      "source": [
        "long_ts['2022-04'].head()"
      ],
      "metadata": {
        "colab": {
          "base_uri": "https://localhost:8080/"
        },
        "id": "6I-6dabkvoYw",
        "outputId": "4759651c-0749-48e4-ff4d-cf46dd3c1d7f"
      },
      "execution_count": null,
      "outputs": [
        {
          "output_type": "execute_result",
          "data": {
            "text/plain": [
              "2022-04-01    1.895805\n",
              "2022-04-02   -0.625007\n",
              "2022-04-03   -2.253548\n",
              "2022-04-04    0.620642\n",
              "2022-04-05    1.479616\n",
              "Freq: D, dtype: float64"
            ]
          },
          "metadata": {},
          "execution_count": 36
        }
      ]
    },
    {
      "cell_type": "code",
      "source": [
        "# 슬라이싱 (범위 선택)\n",
        "long_ts[ '2024-01-01' : ] # 문자열\n",
        "long_ts[ datetime(2024, 9, 1) : ] # 숫자 -> 프로그래밍 할 때 좋음\n",
        "long_ts[ '2022.04.1' : '2022.4.15'].count()"
      ],
      "metadata": {
        "colab": {
          "base_uri": "https://localhost:8080/"
        },
        "id": "IciUYnMuv0px",
        "outputId": "7fdadabc-1ad9-4cf7-fd99-f5b46740698e"
      },
      "execution_count": null,
      "outputs": [
        {
          "output_type": "execute_result",
          "data": {
            "text/plain": [
              "15"
            ]
          },
          "metadata": {},
          "execution_count": 43
        }
      ]
    },
    {
      "cell_type": "code",
      "source": [
        "# 데이터 분리 (날짜 나누기) 이 날짜 뒤의 날은 날리기\n",
        "long_ts.truncate(after='2024.1.1')"
      ],
      "metadata": {
        "colab": {
          "base_uri": "https://localhost:8080/"
        },
        "id": "klo1PvM8w6nY",
        "outputId": "44e8be3d-a991-4777-d08e-fd3e75f63b88"
      },
      "execution_count": null,
      "outputs": [
        {
          "output_type": "execute_result",
          "data": {
            "text/plain": [
              "2022-01-01    0.133014\n",
              "2022-01-02   -0.829949\n",
              "2022-01-03   -1.179548\n",
              "2022-01-04    1.145948\n",
              "2022-01-05   -0.169419\n",
              "                ...   \n",
              "2023-12-28   -0.076105\n",
              "2023-12-29   -0.046280\n",
              "2023-12-30    0.143955\n",
              "2023-12-31   -0.509784\n",
              "2024-01-01    1.616787\n",
              "Freq: D, Length: 731, dtype: float64"
            ]
          },
          "metadata": {},
          "execution_count": 44
        }
      ]
    },
    {
      "cell_type": "markdown",
      "source": [
        "* 데이트타임을 인덱스로 한 데이터프레임 만들기"
      ],
      "metadata": {
        "id": "NlxIE-P8yaqq"
      }
    },
    {
      "cell_type": "code",
      "source": [
        "# DataFrame 적용\n",
        "rng = pd.date_range('2022.1.1', periods=100, freq='w-WED')\n",
        "rng\n",
        "\n",
        "long_df = pd.DataFrame(np.random.randn(100, 4),\n",
        "                       index = rng,\n",
        "                       columns = ['서울', '광주', '부산', '대구'])\n",
        "long_df.head()\n",
        "long_df.loc['2022-5']"
      ],
      "metadata": {
        "colab": {
          "base_uri": "https://localhost:8080/",
          "height": 174
        },
        "id": "3YiWdOGOxHW1",
        "outputId": "82f80ee7-cf53-4322-cea2-89dbe279a56e"
      },
      "execution_count": null,
      "outputs": [
        {
          "output_type": "execute_result",
          "data": {
            "text/plain": [
              "                  서울        광주        부산        대구\n",
              "2022-05-04 -0.251097 -0.091971  1.066981 -1.966896\n",
              "2022-05-11 -1.162713 -0.239276 -0.504320 -2.020130\n",
              "2022-05-18  1.537604  1.654641  0.863931  1.599796\n",
              "2022-05-25 -0.816546  0.122076  0.048014  0.598744"
            ],
            "text/html": [
              "\n",
              "  <div id=\"df-9a86fbb5-9ad9-4efe-85d3-006e10194ec0\">\n",
              "    <div class=\"colab-df-container\">\n",
              "      <div>\n",
              "<style scoped>\n",
              "    .dataframe tbody tr th:only-of-type {\n",
              "        vertical-align: middle;\n",
              "    }\n",
              "\n",
              "    .dataframe tbody tr th {\n",
              "        vertical-align: top;\n",
              "    }\n",
              "\n",
              "    .dataframe thead th {\n",
              "        text-align: right;\n",
              "    }\n",
              "</style>\n",
              "<table border=\"1\" class=\"dataframe\">\n",
              "  <thead>\n",
              "    <tr style=\"text-align: right;\">\n",
              "      <th></th>\n",
              "      <th>서울</th>\n",
              "      <th>광주</th>\n",
              "      <th>부산</th>\n",
              "      <th>대구</th>\n",
              "    </tr>\n",
              "  </thead>\n",
              "  <tbody>\n",
              "    <tr>\n",
              "      <th>2022-05-04</th>\n",
              "      <td>-0.251097</td>\n",
              "      <td>-0.091971</td>\n",
              "      <td>1.066981</td>\n",
              "      <td>-1.966896</td>\n",
              "    </tr>\n",
              "    <tr>\n",
              "      <th>2022-05-11</th>\n",
              "      <td>-1.162713</td>\n",
              "      <td>-0.239276</td>\n",
              "      <td>-0.504320</td>\n",
              "      <td>-2.020130</td>\n",
              "    </tr>\n",
              "    <tr>\n",
              "      <th>2022-05-18</th>\n",
              "      <td>1.537604</td>\n",
              "      <td>1.654641</td>\n",
              "      <td>0.863931</td>\n",
              "      <td>1.599796</td>\n",
              "    </tr>\n",
              "    <tr>\n",
              "      <th>2022-05-25</th>\n",
              "      <td>-0.816546</td>\n",
              "      <td>0.122076</td>\n",
              "      <td>0.048014</td>\n",
              "      <td>0.598744</td>\n",
              "    </tr>\n",
              "  </tbody>\n",
              "</table>\n",
              "</div>\n",
              "      <button class=\"colab-df-convert\" onclick=\"convertToInteractive('df-9a86fbb5-9ad9-4efe-85d3-006e10194ec0')\"\n",
              "              title=\"Convert this dataframe to an interactive table.\"\n",
              "              style=\"display:none;\">\n",
              "        \n",
              "  <svg xmlns=\"http://www.w3.org/2000/svg\" height=\"24px\"viewBox=\"0 0 24 24\"\n",
              "       width=\"24px\">\n",
              "    <path d=\"M0 0h24v24H0V0z\" fill=\"none\"/>\n",
              "    <path d=\"M18.56 5.44l.94 2.06.94-2.06 2.06-.94-2.06-.94-.94-2.06-.94 2.06-2.06.94zm-11 1L8.5 8.5l.94-2.06 2.06-.94-2.06-.94L8.5 2.5l-.94 2.06-2.06.94zm10 10l.94 2.06.94-2.06 2.06-.94-2.06-.94-.94-2.06-.94 2.06-2.06.94z\"/><path d=\"M17.41 7.96l-1.37-1.37c-.4-.4-.92-.59-1.43-.59-.52 0-1.04.2-1.43.59L10.3 9.45l-7.72 7.72c-.78.78-.78 2.05 0 2.83L4 21.41c.39.39.9.59 1.41.59.51 0 1.02-.2 1.41-.59l7.78-7.78 2.81-2.81c.8-.78.8-2.07 0-2.86zM5.41 20L4 18.59l7.72-7.72 1.47 1.35L5.41 20z\"/>\n",
              "  </svg>\n",
              "      </button>\n",
              "      \n",
              "  <style>\n",
              "    .colab-df-container {\n",
              "      display:flex;\n",
              "      flex-wrap:wrap;\n",
              "      gap: 12px;\n",
              "    }\n",
              "\n",
              "    .colab-df-convert {\n",
              "      background-color: #E8F0FE;\n",
              "      border: none;\n",
              "      border-radius: 50%;\n",
              "      cursor: pointer;\n",
              "      display: none;\n",
              "      fill: #1967D2;\n",
              "      height: 32px;\n",
              "      padding: 0 0 0 0;\n",
              "      width: 32px;\n",
              "    }\n",
              "\n",
              "    .colab-df-convert:hover {\n",
              "      background-color: #E2EBFA;\n",
              "      box-shadow: 0px 1px 2px rgba(60, 64, 67, 0.3), 0px 1px 3px 1px rgba(60, 64, 67, 0.15);\n",
              "      fill: #174EA6;\n",
              "    }\n",
              "\n",
              "    [theme=dark] .colab-df-convert {\n",
              "      background-color: #3B4455;\n",
              "      fill: #D2E3FC;\n",
              "    }\n",
              "\n",
              "    [theme=dark] .colab-df-convert:hover {\n",
              "      background-color: #434B5C;\n",
              "      box-shadow: 0px 1px 3px 1px rgba(0, 0, 0, 0.15);\n",
              "      filter: drop-shadow(0px 1px 2px rgba(0, 0, 0, 0.3));\n",
              "      fill: #FFFFFF;\n",
              "    }\n",
              "  </style>\n",
              "\n",
              "      <script>\n",
              "        const buttonEl =\n",
              "          document.querySelector('#df-9a86fbb5-9ad9-4efe-85d3-006e10194ec0 button.colab-df-convert');\n",
              "        buttonEl.style.display =\n",
              "          google.colab.kernel.accessAllowed ? 'block' : 'none';\n",
              "\n",
              "        async function convertToInteractive(key) {\n",
              "          const element = document.querySelector('#df-9a86fbb5-9ad9-4efe-85d3-006e10194ec0');\n",
              "          const dataTable =\n",
              "            await google.colab.kernel.invokeFunction('convertToInteractive',\n",
              "                                                     [key], {});\n",
              "          if (!dataTable) return;\n",
              "\n",
              "          const docLinkHtml = 'Like what you see? Visit the ' +\n",
              "            '<a target=\"_blank\" href=https://colab.research.google.com/notebooks/data_table.ipynb>data table notebook</a>'\n",
              "            + ' to learn more about interactive tables.';\n",
              "          element.innerHTML = '';\n",
              "          dataTable['output_type'] = 'display_data';\n",
              "          await google.colab.output.renderOutput(dataTable, element);\n",
              "          const docLink = document.createElement('div');\n",
              "          docLink.innerHTML = docLinkHtml;\n",
              "          element.appendChild(docLink);\n",
              "        }\n",
              "      </script>\n",
              "    </div>\n",
              "  </div>\n",
              "  "
            ]
          },
          "metadata": {},
          "execution_count": 48
        }
      ]
    },
    {
      "cell_type": "code",
      "source": [
        "# 시계열 중복 확인\n",
        "dates = pd.DatetimeIndex( ['2022.1.1', '2022.1.2','2022.1.2',\n",
        "                           '2022.1.2', '2022.1.3'])\n",
        "dup_ts = pd.Series( np.arange( 5 ), index=dates )\n",
        "dup_ts"
      ],
      "metadata": {
        "colab": {
          "base_uri": "https://localhost:8080/"
        },
        "id": "2K67QV6ByeYY",
        "outputId": "7adf1d89-9979-4cfb-be9e-72e363d2a982"
      },
      "execution_count": null,
      "outputs": [
        {
          "output_type": "execute_result",
          "data": {
            "text/plain": [
              "2022-01-01    0\n",
              "2022-01-02    1\n",
              "2022-01-02    2\n",
              "2022-01-02    3\n",
              "2022-01-03    4\n",
              "dtype: int64"
            ]
          },
          "metadata": {},
          "execution_count": 60
        }
      ]
    },
    {
      "cell_type": "code",
      "source": [
        "# 인덱스 중복 여부 확인\n",
        "# (true -> 유니크 하다 중복 없다. false -> 중복이다! 중복이 있다!!)\n",
        "dup_ts.index.is_unique"
      ],
      "metadata": {
        "colab": {
          "base_uri": "https://localhost:8080/"
        },
        "id": "HFHPa_g4zFIl",
        "outputId": "b049f6e9-c32b-4e10-e5cb-a58e93c5e922"
      },
      "execution_count": null,
      "outputs": [
        {
          "output_type": "execute_result",
          "data": {
            "text/plain": [
              "False"
            ]
          },
          "metadata": {},
          "execution_count": 61
        }
      ]
    },
    {
      "cell_type": "code",
      "source": [
        "# 중복되지 않을 경우 -> 스칼라 데이터로 가져옴( 값이 1개! )\n",
        "dup_ts['2022-01-01']"
      ],
      "metadata": {
        "colab": {
          "base_uri": "https://localhost:8080/"
        },
        "id": "KOnwwBnmzNQd",
        "outputId": "ece1ac30-6d0c-48dd-b2f0-74e0a52291af"
      },
      "execution_count": null,
      "outputs": [
        {
          "output_type": "execute_result",
          "data": {
            "text/plain": [
              "0"
            ]
          },
          "metadata": {},
          "execution_count": 53
        }
      ]
    },
    {
      "cell_type": "code",
      "source": [
        "# 중복되는 경우 -> 시리즈 형식으로 가져옴\n",
        "dup_ts['2022-01-02']"
      ],
      "metadata": {
        "colab": {
          "base_uri": "https://localhost:8080/"
        },
        "id": "8vTXh0RIzX7l",
        "outputId": "3c706c58-39e7-4be9-eda6-dd5c386d254d"
      },
      "execution_count": null,
      "outputs": [
        {
          "output_type": "execute_result",
          "data": {
            "text/plain": [
              "2022-01-02    1\n",
              "2022-01-02    2\n",
              "2022-01-02    3\n",
              "dtype: int64"
            ]
          },
          "metadata": {},
          "execution_count": 54
        }
      ]
    },
    {
      "cell_type": "markdown",
      "source": [
        "시계열 데이터 함수 \n",
        "\n",
        "![image.png](data:image/png;base64,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)"
      ],
      "metadata": {
        "id": "X4Zaox7Z3L3O"
      }
    },
    {
      "cell_type": "code",
      "source": [
        "# 중복 색인 해결\n",
        "g = dup_ts.groupby(level=0)\n",
        "display( g.mean() ); print() # 그룹화 한 값의 평균\n",
        "display( g.count() ) # 그룹화한 값의 갯수 count"
      ],
      "metadata": {
        "colab": {
          "base_uri": "https://localhost:8080/",
          "height": 180
        },
        "id": "LUN7rCpQ0DDD",
        "outputId": "ef47dc63-7e16-4fbf-a292-2045cd694ddb"
      },
      "execution_count": null,
      "outputs": [
        {
          "output_type": "display_data",
          "data": {
            "text/plain": [
              "2022-01-01    0.0\n",
              "2022-01-02    2.0\n",
              "2022-01-03    4.0\n",
              "dtype: float64"
            ]
          },
          "metadata": {}
        },
        {
          "output_type": "stream",
          "name": "stdout",
          "text": [
            "\n"
          ]
        },
        {
          "output_type": "display_data",
          "data": {
            "text/plain": [
              "2022-01-01    1\n",
              "2022-01-02    3\n",
              "2022-01-03    1\n",
              "dtype: int64"
            ]
          },
          "metadata": {}
        }
      ]
    },
    {
      "cell_type": "markdown",
      "source": [
        "## 날짜 범위와 빈도"
      ],
      "metadata": {
        "id": "Ko8UOHIVSrwI"
      }
    },
    {
      "cell_type": "code",
      "source": [
        "# 일별 타임스템프 생성\n",
        "# 앞에서 부터! 뒤에까지! 둘다 포함함\n",
        "a = pd.date_range('2022-4-1', '2022-6-1')\n",
        "# 5개만 보기\n",
        "a[:5]"
      ],
      "metadata": {
        "id": "PBcHRRjpSwTR",
        "colab": {
          "base_uri": "https://localhost:8080/"
        },
        "outputId": "1e82dda4-7553-4a1b-e4d1-1c9ef33fdfef"
      },
      "execution_count": null,
      "outputs": [
        {
          "output_type": "execute_result",
          "data": {
            "text/plain": [
              "DatetimeIndex(['2022-04-01', '2022-04-02', '2022-04-03', '2022-04-04',\n",
              "               '2022-04-05'],\n",
              "              dtype='datetime64[ns]', freq='D')"
            ]
          },
          "metadata": {},
          "execution_count": 67
        }
      ]
    },
    {
      "cell_type": "code",
      "source": [
        "# 기간을 이용한 생성 : 시작일 또는 종료일만 전달\n",
        "# start를 기준으로 뒤로 생성\n",
        "pd.date_range(start='2022.4.1', periods=30)"
      ],
      "metadata": {
        "colab": {
          "base_uri": "https://localhost:8080/"
        },
        "id": "asWfpNoa1h3T",
        "outputId": "5ca6aeee-fb80-487a-c66a-0ef5c430934c"
      },
      "execution_count": null,
      "outputs": [
        {
          "output_type": "execute_result",
          "data": {
            "text/plain": [
              "DatetimeIndex(['2022-04-01', '2022-04-02', '2022-04-03', '2022-04-04',\n",
              "               '2022-04-05', '2022-04-06', '2022-04-07', '2022-04-08',\n",
              "               '2022-04-09', '2022-04-10', '2022-04-11', '2022-04-12',\n",
              "               '2022-04-13', '2022-04-14', '2022-04-15', '2022-04-16',\n",
              "               '2022-04-17', '2022-04-18', '2022-04-19', '2022-04-20',\n",
              "               '2022-04-21', '2022-04-22', '2022-04-23', '2022-04-24',\n",
              "               '2022-04-25', '2022-04-26', '2022-04-27', '2022-04-28',\n",
              "               '2022-04-29', '2022-04-30'],\n",
              "              dtype='datetime64[ns]', freq='D')"
            ]
          },
          "metadata": {},
          "execution_count": 68
        }
      ]
    },
    {
      "cell_type": "code",
      "source": [
        "# end를 기준으로 앞으로 만듦\n",
        "pd.date_range(end='2022.4.1', periods=30)"
      ],
      "metadata": {
        "colab": {
          "base_uri": "https://localhost:8080/"
        },
        "id": "-oHc6buG14WF",
        "outputId": "dd7c86f3-5c82-49e3-dd6a-aa58716018ed"
      },
      "execution_count": null,
      "outputs": [
        {
          "output_type": "execute_result",
          "data": {
            "text/plain": [
              "DatetimeIndex(['2022-03-03', '2022-03-04', '2022-03-05', '2022-03-06',\n",
              "               '2022-03-07', '2022-03-08', '2022-03-09', '2022-03-10',\n",
              "               '2022-03-11', '2022-03-12', '2022-03-13', '2022-03-14',\n",
              "               '2022-03-15', '2022-03-16', '2022-03-17', '2022-03-18',\n",
              "               '2022-03-19', '2022-03-20', '2022-03-21', '2022-03-22',\n",
              "               '2022-03-23', '2022-03-24', '2022-03-25', '2022-03-26',\n",
              "               '2022-03-27', '2022-03-28', '2022-03-29', '2022-03-30',\n",
              "               '2022-03-31', '2022-04-01'],\n",
              "              dtype='datetime64[ns]', freq='D')"
            ]
          },
          "metadata": {},
          "execution_count": 70
        }
      ]
    },
    {
      "cell_type": "code",
      "source": [
        "# 빈도값을 이용 / BM은 비즈니스별 월별 영업 마감일\n",
        "pd.date_range('2022.4.1', '2022.6.1', freq ='BM')"
      ],
      "metadata": {
        "colab": {
          "base_uri": "https://localhost:8080/"
        },
        "id": "3TImO6bJ2BlF",
        "outputId": "a2bc3803-556b-40bc-b82e-c3751dc25e57"
      },
      "execution_count": null,
      "outputs": [
        {
          "output_type": "execute_result",
          "data": {
            "text/plain": [
              "DatetimeIndex(['2022-04-29', '2022-05-31'], dtype='datetime64[ns]', freq='BM')"
            ]
          },
          "metadata": {},
          "execution_count": 71
        }
      ]
    },
    {
      "cell_type": "markdown",
      "source": [
        "시계열 빈도 오프셋 별칭\n",
        "\n",
        "https://pandas.pydata.org/docs/user_guide/timeseries.html#timeseries-offset-aliases"
      ],
      "metadata": {
        "id": "MObQtzmE49Jt"
      }
    },
    {
      "cell_type": "code",
      "source": [
        "# 시간별 빈도\n",
        "from pandas.tseries.offsets import Hour, Minute\n",
        "Hour(), Minute()\n",
        "\n",
        "four_hour = Hour(4)\n",
        "pd.date_range('2022-4-1', '2022-4-3 23:59', freq=four_hour)"
      ],
      "metadata": {
        "colab": {
          "base_uri": "https://localhost:8080/"
        },
        "id": "NFGg9Yj_3TLa",
        "outputId": "ce505a7c-7014-4767-d30a-b223a693d403"
      },
      "execution_count": null,
      "outputs": [
        {
          "output_type": "execute_result",
          "data": {
            "text/plain": [
              "DatetimeIndex(['2022-04-01 00:00:00', '2022-04-01 04:00:00',\n",
              "               '2022-04-01 08:00:00', '2022-04-01 12:00:00',\n",
              "               '2022-04-01 16:00:00', '2022-04-01 20:00:00',\n",
              "               '2022-04-02 00:00:00', '2022-04-02 04:00:00',\n",
              "               '2022-04-02 08:00:00', '2022-04-02 12:00:00',\n",
              "               '2022-04-02 16:00:00', '2022-04-02 20:00:00',\n",
              "               '2022-04-03 00:00:00', '2022-04-03 04:00:00',\n",
              "               '2022-04-03 08:00:00', '2022-04-03 12:00:00',\n",
              "               '2022-04-03 16:00:00', '2022-04-03 20:00:00'],\n",
              "              dtype='datetime64[ns]', freq='4H')"
            ]
          },
          "metadata": {},
          "execution_count": 75
        }
      ]
    },
    {
      "cell_type": "code",
      "source": [
        "# 단위를 통일해서 계산함\n",
        "two_hour_thirty_minutes = Hour(2) + Minute(30)\n",
        "pd.date_range('2022-04-01', periods = 10,freq = two_hour_thirty_minutes )\n",
        "# 2시간 30분 간격으로 생성"
      ],
      "metadata": {
        "colab": {
          "base_uri": "https://localhost:8080/"
        },
        "id": "8tyyEg5K3_Jp",
        "outputId": "9341e59b-3963-4d9c-e04d-6c2d93421259"
      },
      "execution_count": null,
      "outputs": [
        {
          "output_type": "execute_result",
          "data": {
            "text/plain": [
              "DatetimeIndex(['2022-04-01 00:00:00', '2022-04-01 02:30:00',\n",
              "               '2022-04-01 05:00:00', '2022-04-01 07:30:00',\n",
              "               '2022-04-01 10:00:00', '2022-04-01 12:30:00',\n",
              "               '2022-04-01 15:00:00', '2022-04-01 17:30:00',\n",
              "               '2022-04-01 20:00:00', '2022-04-01 22:30:00'],\n",
              "              dtype='datetime64[ns]', freq='150T')"
            ]
          },
          "metadata": {},
          "execution_count": 82
        }
      ]
    },
    {
      "cell_type": "code",
      "source": [
        "# 문자열로 표현하면\n",
        "pd.date_range('2022-4-1', '2022-4-3 23:59', freq='4h')\n",
        "pd.date_range('2022-4-1', periods=10, freq='2h30min')"
      ],
      "metadata": {
        "colab": {
          "base_uri": "https://localhost:8080/"
        },
        "id": "o96N8dh64hrN",
        "outputId": "da6eaf9c-d006-4b50-8a28-0cf92c55e438"
      },
      "execution_count": null,
      "outputs": [
        {
          "output_type": "execute_result",
          "data": {
            "text/plain": [
              "DatetimeIndex(['2022-04-01 00:00:00', '2022-04-01 02:30:00',\n",
              "               '2022-04-01 05:00:00', '2022-04-01 07:30:00',\n",
              "               '2022-04-01 10:00:00', '2022-04-01 12:30:00',\n",
              "               '2022-04-01 15:00:00', '2022-04-01 17:30:00',\n",
              "               '2022-04-01 20:00:00', '2022-04-01 22:30:00'],\n",
              "              dtype='datetime64[ns]', freq='150T')"
            ]
          },
          "metadata": {},
          "execution_count": 83
        }
      ]
    },
    {
      "cell_type": "code",
      "source": [
        "# 월별 주차 (매월 3째주 금요일)\n",
        "pd.date_range('2022.1.1', '2022.5.31', freq ='WOM-3FRI').to_list()"
      ],
      "metadata": {
        "colab": {
          "base_uri": "https://localhost:8080/"
        },
        "id": "ncZILAqw9TkU",
        "outputId": "e82eacee-2da8-43c3-cddb-0f907069b4e0"
      },
      "execution_count": null,
      "outputs": [
        {
          "output_type": "execute_result",
          "data": {
            "text/plain": [
              "[Timestamp('2022-01-21 00:00:00', freq='WOM-3FRI'),\n",
              " Timestamp('2022-02-18 00:00:00', freq='WOM-3FRI'),\n",
              " Timestamp('2022-03-18 00:00:00', freq='WOM-3FRI'),\n",
              " Timestamp('2022-04-15 00:00:00', freq='WOM-3FRI'),\n",
              " Timestamp('2022-05-20 00:00:00', freq='WOM-3FRI')]"
            ]
          },
          "metadata": {},
          "execution_count": 85
        }
      ]
    },
    {
      "cell_type": "code",
      "source": [
        "# 시작 또는 종료 날짜의 타임 스캠프가 보존됨 (기본)\n",
        "pd.date_range('2022.4.1 16:11:30', periods=5)"
      ],
      "metadata": {
        "colab": {
          "base_uri": "https://localhost:8080/"
        },
        "id": "M5jEZ_5j9pXL",
        "outputId": "04a045d1-5d0c-48fa-9f1c-57236b13ad9a"
      },
      "execution_count": null,
      "outputs": [
        {
          "output_type": "execute_result",
          "data": {
            "text/plain": [
              "DatetimeIndex(['2022-04-01 16:11:30', '2022-04-02 16:11:30',\n",
              "               '2022-04-03 16:11:30', '2022-04-04 16:11:30',\n",
              "               '2022-04-05 16:11:30'],\n",
              "              dtype='datetime64[ns]', freq='D')"
            ]
          },
          "metadata": {},
          "execution_count": 86
        }
      ]
    },
    {
      "cell_type": "code",
      "source": [
        "# 타임스탬프 정규화 : 자정에 맞추기 / 일간 데이터를 사용하고 싶을 때\n",
        "pd.date_range('2022.4.1 16:11:30', periods=5, normalize=True)"
      ],
      "metadata": {
        "colab": {
          "base_uri": "https://localhost:8080/"
        },
        "id": "Cd8pHxAI973m",
        "outputId": "cb4fabd0-f941-4812-d1c5-e0807f11bba3"
      },
      "execution_count": null,
      "outputs": [
        {
          "output_type": "execute_result",
          "data": {
            "text/plain": [
              "DatetimeIndex(['2022-04-01', '2022-04-02', '2022-04-03', '2022-04-04',\n",
              "               '2022-04-05'],\n",
              "              dtype='datetime64[ns]', freq='D')"
            ]
          },
          "metadata": {},
          "execution_count": 87
        }
      ]
    },
    {
      "cell_type": "code",
      "source": [
        "# 시간 데이터 이동\n",
        "# 시계열의 시작이나 끝에 결측치가 발생함\n",
        "rng = pd.date_range('2022.1.1', periods=4, freq='M')\n",
        "ts = pd.Series( np.random.randn( len( rng )), index=rng)\n",
        "display(ts) ; print()\n",
        "display( ts.shift(2) ); print()\n",
        "display( ts.shift(-2) ); print()"
      ],
      "metadata": {
        "colab": {
          "base_uri": "https://localhost:8080/",
          "height": 342
        },
        "id": "1t-MV0Sj-zoa",
        "outputId": "92f1f85e-7143-417c-d249-4f554655b619"
      },
      "execution_count": null,
      "outputs": [
        {
          "output_type": "display_data",
          "data": {
            "text/plain": [
              "2022-01-31    0.059156\n",
              "2022-02-28    1.146432\n",
              "2022-03-31   -0.805095\n",
              "2022-04-30    0.001326\n",
              "Freq: M, dtype: float64"
            ]
          },
          "metadata": {}
        },
        {
          "output_type": "stream",
          "name": "stdout",
          "text": [
            "\n"
          ]
        },
        {
          "output_type": "display_data",
          "data": {
            "text/plain": [
              "2022-01-31         NaN\n",
              "2022-02-28         NaN\n",
              "2022-03-31    0.059156\n",
              "2022-04-30    1.146432\n",
              "Freq: M, dtype: float64"
            ]
          },
          "metadata": {}
        },
        {
          "output_type": "stream",
          "name": "stdout",
          "text": [
            "\n"
          ]
        },
        {
          "output_type": "display_data",
          "data": {
            "text/plain": [
              "2022-01-31   -0.805095\n",
              "2022-02-28    0.001326\n",
              "2022-03-31         NaN\n",
              "2022-04-30         NaN\n",
              "Freq: M, dtype: float64"
            ]
          },
          "metadata": {}
        },
        {
          "output_type": "stream",
          "name": "stdout",
          "text": [
            "\n"
          ]
        }
      ]
    },
    {
      "cell_type": "code",
      "source": [
        "# 빈도를 알고있는 경우 타임스탬프 확장 가능 / 결측치를 없애기 위해서\n",
        "display( ts.shift(2, freq='M') ) ; print()\n",
        "display( ts.shift(2, freq='D') ) ; print()\n",
        "display( ts.shift(3, freq='90T') ) ; print()"
      ],
      "metadata": {
        "colab": {
          "base_uri": "https://localhost:8080/",
          "height": 342
        },
        "id": "dvlU23Gc_q6i",
        "outputId": "27c08947-1242-4fd2-d298-d7d5f370432a"
      },
      "execution_count": null,
      "outputs": [
        {
          "output_type": "display_data",
          "data": {
            "text/plain": [
              "2022-03-31    0.059156\n",
              "2022-04-30    1.146432\n",
              "2022-05-31   -0.805095\n",
              "2022-06-30    0.001326\n",
              "Freq: M, dtype: float64"
            ]
          },
          "metadata": {}
        },
        {
          "output_type": "stream",
          "name": "stdout",
          "text": [
            "\n"
          ]
        },
        {
          "output_type": "display_data",
          "data": {
            "text/plain": [
              "2022-02-02    0.059156\n",
              "2022-03-02    1.146432\n",
              "2022-04-02   -0.805095\n",
              "2022-05-02    0.001326\n",
              "dtype: float64"
            ]
          },
          "metadata": {}
        },
        {
          "output_type": "stream",
          "name": "stdout",
          "text": [
            "\n"
          ]
        },
        {
          "output_type": "display_data",
          "data": {
            "text/plain": [
              "2022-01-31 04:30:00    0.059156\n",
              "2022-02-28 04:30:00    1.146432\n",
              "2022-03-31 04:30:00   -0.805095\n",
              "2022-04-30 04:30:00    0.001326\n",
              "dtype: float64"
            ]
          },
          "metadata": {}
        },
        {
          "output_type": "stream",
          "name": "stdout",
          "text": [
            "\n"
          ]
        }
      ]
    },
    {
      "cell_type": "code",
      "source": [
        "# UTC : 국제표준시\n",
        "rng = pd.date_range('2022.1.1', periods=5)\n",
        "ts = pd.Series( np.random.randn( len( rng )), index=rng)\n",
        "\n",
        "display( ts ); print()\n",
        "display( ts.tz_localize('UTC')) ; print()"
      ],
      "metadata": {
        "colab": {
          "base_uri": "https://localhost:8080/",
          "height": 270
        },
        "id": "gmy5C6LoAfKT",
        "outputId": "e457af72-ce04-4307-f7fe-61962c3a93cc"
      },
      "execution_count": null,
      "outputs": [
        {
          "output_type": "display_data",
          "data": {
            "text/plain": [
              "2022-01-01   -0.400488\n",
              "2022-01-02    0.226526\n",
              "2022-01-03    1.273233\n",
              "2022-01-04    0.641751\n",
              "2022-01-05   -0.992585\n",
              "Freq: D, dtype: float64"
            ]
          },
          "metadata": {}
        },
        {
          "output_type": "stream",
          "name": "stdout",
          "text": [
            "\n"
          ]
        },
        {
          "output_type": "display_data",
          "data": {
            "text/plain": [
              "2022-01-01 00:00:00+00:00   -0.400488\n",
              "2022-01-02 00:00:00+00:00    0.226526\n",
              "2022-01-03 00:00:00+00:00    1.273233\n",
              "2022-01-04 00:00:00+00:00    0.641751\n",
              "2022-01-05 00:00:00+00:00   -0.992585\n",
              "Freq: D, dtype: float64"
            ]
          },
          "metadata": {}
        },
        {
          "output_type": "stream",
          "name": "stdout",
          "text": [
            "\n"
          ]
        }
      ]
    },
    {
      "cell_type": "markdown",
      "source": [
        "## 기간 (Period)"
      ],
      "metadata": {
        "id": "hgx-y8uLS-SX"
      }
    },
    {
      "cell_type": "code",
      "source": [
        "# 2020년 1월 1일부터 12월 31일 까지 기간을 표현\n",
        "p = pd.Period(2020, freq ='A-DEC')\n",
        "p"
      ],
      "metadata": {
        "id": "KMSDpnroTJLo",
        "colab": {
          "base_uri": "https://localhost:8080/"
        },
        "outputId": "fce88967-1f71-4407-b46c-dd7ad0335803"
      },
      "execution_count": null,
      "outputs": [
        {
          "output_type": "execute_result",
          "data": {
            "text/plain": [
              "Period('2020', 'A-DEC')"
            ]
          },
          "metadata": {},
          "execution_count": 96
        }
      ]
    },
    {
      "cell_type": "code",
      "source": [
        "# 기간 이동\n",
        "p+2, p-2"
      ],
      "metadata": {
        "colab": {
          "base_uri": "https://localhost:8080/"
        },
        "id": "NZzIvHyoDPO1",
        "outputId": "a2a8c3d2-5d0f-4ac4-8849-7df9f412aa52"
      },
      "execution_count": null,
      "outputs": [
        {
          "output_type": "execute_result",
          "data": {
            "text/plain": [
              "(Period('2022', 'A-DEC'), Period('2018', 'A-DEC'))"
            ]
          },
          "metadata": {},
          "execution_count": 97
        }
      ]
    },
    {
      "cell_type": "code",
      "source": [
        "pd.Period(2022, freq='A-DEC') - p"
      ],
      "metadata": {
        "colab": {
          "base_uri": "https://localhost:8080/"
        },
        "id": "s21K0AzLDUPg",
        "outputId": "f891ad05-18e2-45a6-c2e5-c28ec01dcb04"
      },
      "execution_count": null,
      "outputs": [
        {
          "output_type": "execute_result",
          "data": {
            "text/plain": [
              "<2 * YearEnds: month=12>"
            ]
          },
          "metadata": {},
          "execution_count": 98
        }
      ]
    },
    {
      "cell_type": "code",
      "source": [
        "# 기간 범위\n",
        "# PeriodIndex : 순차적인 기간을 저장\n",
        "rng = pd.period_range('2022.1.1', '2022.6.30', freq = 'M')\n",
        "rng"
      ],
      "metadata": {
        "colab": {
          "base_uri": "https://localhost:8080/"
        },
        "id": "E7ds8PJcDbaH",
        "outputId": "1a9c08d0-4956-4f4e-92fe-c4d5a2e36096"
      },
      "execution_count": null,
      "outputs": [
        {
          "output_type": "execute_result",
          "data": {
            "text/plain": [
              "PeriodIndex(['2022-01', '2022-02', '2022-03', '2022-04', '2022-05', '2022-06'], dtype='period[M]')"
            ]
          },
          "metadata": {},
          "execution_count": 99
        }
      ]
    },
    {
      "cell_type": "code",
      "source": [
        "ts = pd.Series( np.random.randn( len(rng) ), index = rng)\n",
        "ts.index # 타입이 PeriodIndex임"
      ],
      "metadata": {
        "colab": {
          "base_uri": "https://localhost:8080/"
        },
        "id": "aFmrMpxUDoai",
        "outputId": "caa714ff-5514-43cb-c0d5-7bb416808d1c"
      },
      "execution_count": null,
      "outputs": [
        {
          "output_type": "execute_result",
          "data": {
            "text/plain": [
              "PeriodIndex(['2022-01', '2022-02', '2022-03', '2022-04', '2022-05', '2022-06'], dtype='period[M]')"
            ]
          },
          "metadata": {},
          "execution_count": 102
        }
      ]
    },
    {
      "cell_type": "code",
      "source": [
        "# 분기별로 넣는 것\n",
        "\n",
        "pd.PeriodIndex( ['2022Q3', '2022Q2', '2022Q1'], freq ='Q-DEC')"
      ],
      "metadata": {
        "colab": {
          "base_uri": "https://localhost:8080/"
        },
        "id": "-7dzy7bMD4H7",
        "outputId": "37b5b23e-f6c4-41bf-f3b2-8472038100ff"
      },
      "execution_count": null,
      "outputs": [
        {
          "output_type": "execute_result",
          "data": {
            "text/plain": [
              "PeriodIndex(['2022Q3', '2022Q2', '2022Q1'], dtype='period[Q-DEC]')"
            ]
          },
          "metadata": {},
          "execution_count": 105
        }
      ]
    },
    {
      "cell_type": "code",
      "source": [
        "# Period 빈도 변환\n",
        "# 연단위 데이터\n",
        "p = pd.Period('2022', freq = 'A-DEC')\n",
        "display( p )\n",
        "# 월단위로 변환\n",
        "display( p.asfreq('M',how ='end') )\n",
        "display( p.asfreq('M',how ='start') )"
      ],
      "metadata": {
        "colab": {
          "base_uri": "https://localhost:8080/",
          "height": 71
        },
        "id": "y6nOuexmEuG3",
        "outputId": "b11dc57a-2533-4c98-fb78-20b224eb7fb4"
      },
      "execution_count": null,
      "outputs": [
        {
          "output_type": "display_data",
          "data": {
            "text/plain": [
              "Period('2022', 'A-DEC')"
            ]
          },
          "metadata": {}
        },
        {
          "output_type": "display_data",
          "data": {
            "text/plain": [
              "Period('2022-12', 'M')"
            ]
          },
          "metadata": {}
        },
        {
          "output_type": "display_data",
          "data": {
            "text/plain": [
              "Period('2022-01', 'M')"
            ]
          },
          "metadata": {}
        }
      ]
    },
    {
      "cell_type": "code",
      "source": [
        "# 회계연도 마강이 12월이 아닌 6월인 경우 월간 빈도\n",
        "p = pd.Period('2022', freq = 'A-JUN')\n",
        "display( p )\n",
        "display( p.asfreq('M',how ='end') )\n",
        "display( p.asfreq('M',how ='start') )"
      ],
      "metadata": {
        "colab": {
          "base_uri": "https://localhost:8080/",
          "height": 71
        },
        "id": "6OxUxFf8FgEq",
        "outputId": "15018681-06c8-48e9-e940-4f47a55a3ebd"
      },
      "execution_count": null,
      "outputs": [
        {
          "output_type": "display_data",
          "data": {
            "text/plain": [
              "Period('2022', 'A-JUN')"
            ]
          },
          "metadata": {}
        },
        {
          "output_type": "display_data",
          "data": {
            "text/plain": [
              "Period('2022-06', 'M')"
            ]
          },
          "metadata": {}
        },
        {
          "output_type": "display_data",
          "data": {
            "text/plain": [
              "Period('2021-07', 'M')"
            ]
          },
          "metadata": {}
        }
      ]
    },
    {
      "cell_type": "code",
      "source": [
        "# 시리즈에 적용\n",
        "# 2020-2022, 회계연도 12월 말\n",
        "rng = pd.period_range('2020', '2022', freq = 'A-DEC')\n",
        "ts = pd.Series( np.random.randn( len( rng )), index=rng)\n",
        "ts\n",
        "display( ts )   ; print()\n",
        "display( ts.asfreq('M',how ='end') )     ; print()\n",
        "display( ts.asfreq('M',how ='start') )  ; print()"
      ],
      "metadata": {
        "colab": {
          "base_uri": "https://localhost:8080/",
          "height": 288
        },
        "id": "ZJ_6Mpb_GOxM",
        "outputId": "32b2711e-79a0-40f5-a2d3-bbc90a10cb4a"
      },
      "execution_count": null,
      "outputs": [
        {
          "output_type": "display_data",
          "data": {
            "text/plain": [
              "2020    0.454446\n",
              "2021    0.064637\n",
              "2022   -1.203563\n",
              "Freq: A-DEC, dtype: float64"
            ]
          },
          "metadata": {}
        },
        {
          "output_type": "stream",
          "name": "stdout",
          "text": [
            "\n"
          ]
        },
        {
          "output_type": "display_data",
          "data": {
            "text/plain": [
              "2020-12    0.454446\n",
              "2021-12    0.064637\n",
              "2022-12   -1.203563\n",
              "Freq: M, dtype: float64"
            ]
          },
          "metadata": {}
        },
        {
          "output_type": "stream",
          "name": "stdout",
          "text": [
            "\n"
          ]
        },
        {
          "output_type": "display_data",
          "data": {
            "text/plain": [
              "2020-01    0.454446\n",
              "2021-01    0.064637\n",
              "2022-01   -1.203563\n",
              "Freq: M, dtype: float64"
            ]
          },
          "metadata": {}
        },
        {
          "output_type": "stream",
          "name": "stdout",
          "text": [
            "\n"
          ]
        }
      ]
    },
    {
      "cell_type": "code",
      "source": [
        "# '90T' == '90min'"
      ],
      "metadata": {
        "id": "ZNv74R4ZKT4R"
      },
      "execution_count": null,
      "outputs": []
    },
    {
      "cell_type": "markdown",
      "source": [
        "분기(Period) 빈도\n",
        "\n",
        "- 분기 데이터는 재정, 금융 등의 여러 분야에서 표준으로 사용\n",
        "- 대체로 회계연도 끝인 12월의 마지막 날이나 마지막 업무일을 기준으로 보고\n",
        "- pandas 분기 빈도는 Q-JUN 에서 Q-DEC 까지 12가지 모든 경우의 수를 지원"
      ],
      "metadata": {
        "id": "XkTgJSqcKcjr"
      }
    },
    {
      "cell_type": "code",
      "source": [
        "# 분기 빈도\n",
        "p = pd.Period('2022Q4', freq = 'Q-JAN')\n",
        "display( p )\n",
        "\n",
        "# 분기 빈도 변환\n",
        "display( p.asfreq('D', how ='start') )\n",
        "display( p.asfreq('D', how ='end'))"
      ],
      "metadata": {
        "colab": {
          "base_uri": "https://localhost:8080/",
          "height": 71
        },
        "id": "JjUcB9fgLcgD",
        "outputId": "fd63a386-1b2e-4f48-8f5b-0742ece61491"
      },
      "execution_count": null,
      "outputs": [
        {
          "output_type": "display_data",
          "data": {
            "text/plain": [
              "Period('2022Q4', 'Q-JAN')"
            ]
          },
          "metadata": {}
        },
        {
          "output_type": "display_data",
          "data": {
            "text/plain": [
              "Period('2021-11-01', 'D')"
            ]
          },
          "metadata": {}
        },
        {
          "output_type": "display_data",
          "data": {
            "text/plain": [
              "Period('2022-01-31', 'D')"
            ]
          },
          "metadata": {}
        }
      ]
    },
    {
      "cell_type": "code",
      "source": [
        "# 기간 연산\n",
        "# 분기 영업마감일의 오후 4시를 가리키는  타임스탬프\n",
        "p = pd.Period('2022Q4', freq = 'Q-JAN')\n",
        "display( p )\n",
        "display( p.asfreq('B', 'e'))\n",
        "# p.asfreq('B', 'e').asfreq('min', 's') + 16 * 60\n",
        "p4pm = (p.asfreq('B', 'e')-1).asfreq('h', 's') + 16\n",
        "p4pm.to_timestamp()"
      ],
      "metadata": {
        "colab": {
          "base_uri": "https://localhost:8080/",
          "height": 71
        },
        "id": "Yo6ex9VWL8mW",
        "outputId": "82972075-97e6-4a05-d2ee-9c422a9be2ad"
      },
      "execution_count": 12,
      "outputs": [
        {
          "output_type": "display_data",
          "data": {
            "text/plain": [
              "Period('2022Q4', 'Q-JAN')"
            ]
          },
          "metadata": {}
        },
        {
          "output_type": "display_data",
          "data": {
            "text/plain": [
              "Period('2022-01-31', 'B')"
            ]
          },
          "metadata": {}
        },
        {
          "output_type": "execute_result",
          "data": {
            "text/plain": [
              "Timestamp('2022-01-28 16:00:00')"
            ]
          },
          "metadata": {},
          "execution_count": 12
        }
      ]
    },
    {
      "cell_type": "code",
      "source": [
        "# 분기 범위 연산\n",
        "rng = pd.period_range('2021Q1', '2022Q2', freq = 'Q-JAN')\n",
        "ts = pd.Series(np.arange( len(rng)), index = rng)\n",
        "display(ts) ; print()\n",
        "\n",
        "# asfreq('B', 'e') : 영업일기준(B)로 마지막날('e'nd) /  asfreq('h', 's') 시간(h)으로 시작시간('s'tart)부터\n",
        "new_rng = (rng.asfreq('B', 'e')-1).asfreq('h', 's') + 16\n",
        "ts.index = new_rng.to_timestamp()\n",
        "display( ts )"
      ],
      "metadata": {
        "colab": {
          "base_uri": "https://localhost:8080/",
          "height": 288
        },
        "id": "cOF-TWovODRd",
        "outputId": "90d4cbb2-97f3-40f6-a103-230686d6de95"
      },
      "execution_count": null,
      "outputs": [
        {
          "output_type": "display_data",
          "data": {
            "text/plain": [
              "2021Q1    0\n",
              "2021Q2    1\n",
              "2021Q3    2\n",
              "2021Q4    3\n",
              "2022Q1    4\n",
              "2022Q2    5\n",
              "Freq: Q-JAN, dtype: int64"
            ]
          },
          "metadata": {}
        },
        {
          "output_type": "stream",
          "name": "stdout",
          "text": [
            "\n"
          ]
        },
        {
          "output_type": "display_data",
          "data": {
            "text/plain": [
              "2020-04-29 16:00:00    0\n",
              "2020-07-30 16:00:00    1\n",
              "2020-10-29 16:00:00    2\n",
              "2021-01-28 16:00:00    3\n",
              "2021-04-29 16:00:00    4\n",
              "2021-07-29 16:00:00    5\n",
              "dtype: int64"
            ]
          },
          "metadata": {}
        }
      ]
    },
    {
      "cell_type": "code",
      "source": [
        "# 타임 스탬프를 기간으로 변환\n",
        "rng = pd.date_range('2022-01-01', periods =3, freq = 'M')\n",
        "ts = pd.Series( np.arange( len(rng) ), index = rng)\n",
        "display( ts ) ; print()\n",
        "display(ts.to_period()) # 월단위 기간으로 바뀜"
      ],
      "metadata": {
        "colab": {
          "base_uri": "https://localhost:8080/",
          "height": 180
        },
        "id": "1m-HwowIPYCu",
        "outputId": "72d8c022-69ef-43f1-f3b1-c91f751a8d16"
      },
      "execution_count": null,
      "outputs": [
        {
          "output_type": "display_data",
          "data": {
            "text/plain": [
              "2022-01-31    0\n",
              "2022-02-28    1\n",
              "2022-03-31    2\n",
              "Freq: M, dtype: int64"
            ]
          },
          "metadata": {}
        },
        {
          "output_type": "stream",
          "name": "stdout",
          "text": [
            "\n"
          ]
        },
        {
          "output_type": "display_data",
          "data": {
            "text/plain": [
              "2022-01    0\n",
              "2022-02    1\n",
              "2022-03    2\n",
              "Freq: M, dtype: int64"
            ]
          },
          "metadata": {}
        }
      ]
    },
    {
      "cell_type": "code",
      "source": [
        "# 빈도에 따라 기간은 중복 될 수 있음\n",
        "ng = pd.date_range('2022-01-01', periods = 6, freq = 'D')\n",
        "ts = pd.Series( np.arange( len(rng) ), index = rng)\n",
        "display( ts ) ; print()\n",
        "display(ts.to_period('M')) "
      ],
      "metadata": {
        "colab": {
          "base_uri": "https://localhost:8080/",
          "height": 288
        },
        "id": "PE3qkc26Qe1m",
        "outputId": "8352cbf5-6cb2-4f8b-efb1-45566a53286a"
      },
      "execution_count": null,
      "outputs": [
        {
          "output_type": "display_data",
          "data": {
            "text/plain": [
              "2022-01-01    0\n",
              "2022-01-02    1\n",
              "2022-01-03    2\n",
              "2022-01-04    3\n",
              "2022-01-05    4\n",
              "2022-01-06    5\n",
              "Freq: D, dtype: int64"
            ]
          },
          "metadata": {}
        },
        {
          "output_type": "stream",
          "name": "stdout",
          "text": [
            "\n"
          ]
        },
        {
          "output_type": "display_data",
          "data": {
            "text/plain": [
              "2022-01    0\n",
              "2022-01    1\n",
              "2022-01    2\n",
              "2022-01    3\n",
              "2022-01    4\n",
              "2022-01    5\n",
              "Freq: M, dtype: int64"
            ]
          },
          "metadata": {}
        }
      ]
    },
    {
      "cell_type": "code",
      "source": [
        "# 기간을 타임스탬프로 변환\n",
        "pts = ts.to_period()\n",
        "display( pts ); print()\n",
        "display( pts.to_timestamp(how='end') )"
      ],
      "metadata": {
        "colab": {
          "base_uri": "https://localhost:8080/",
          "height": 288
        },
        "id": "7yaR2L3rQv4N",
        "outputId": "1dd00c3f-f25f-4908-d2a3-0195a74fecec"
      },
      "execution_count": null,
      "outputs": [
        {
          "output_type": "display_data",
          "data": {
            "text/plain": [
              "2022-01-01    0\n",
              "2022-01-02    1\n",
              "2022-01-03    2\n",
              "2022-01-04    3\n",
              "2022-01-05    4\n",
              "2022-01-06    5\n",
              "Freq: D, dtype: int64"
            ]
          },
          "metadata": {}
        },
        {
          "output_type": "stream",
          "name": "stdout",
          "text": [
            "\n"
          ]
        },
        {
          "output_type": "display_data",
          "data": {
            "text/plain": [
              "2022-01-01 23:59:59.999999999    0\n",
              "2022-01-02 23:59:59.999999999    1\n",
              "2022-01-03 23:59:59.999999999    2\n",
              "2022-01-04 23:59:59.999999999    3\n",
              "2022-01-05 23:59:59.999999999    4\n",
              "2022-01-06 23:59:59.999999999    5\n",
              "Freq: D, dtype: int64"
            ]
          },
          "metadata": {}
        }
      ]
    },
    {
      "cell_type": "markdown",
      "source": [
        "## 시계열의 빈도 변환 (리샘플링)"
      ],
      "metadata": {
        "id": "oyM-5f0FTanf"
      }
    },
    {
      "cell_type": "markdown",
      "source": [
        "- 다운샘플링: 상위 빈도의 데이터를 하위 빈도로 집계하는 것\n",
        "- 업샘플링: 다운샘플링 반대 과정\n",
        "- 그 외 샘플링: 예 W-WED를 W-FRI로 (수요일 기준으로 한 주간을 금요일 기준으로)"
      ],
      "metadata": {
        "id": "eZapBYxo1Dmz"
      }
    },
    {
      "cell_type": "code",
      "source": [
        "rng = pd.date_range('2022.1.1', periods=100, freq = 'D')\n",
        "ts = pd.Series(np.arange( len(rng) ),\n",
        "               index=rng) \n",
        "\n",
        "display( ts ) ; print()\n",
        "\n",
        "# resample 바꾸는 것 -> rule은 단위 / 지금 일단위로 만든걸 월단위로 바꾸고 평균을 출력\n",
        "# resample은 rule과 축이 들어감 그 외 등등\n",
        "display( ts.resample( 'M' ).mean() ) ; print()\n",
        "\n",
        "# 뒤의 일 날짜를 없애기 위해 kind를 period를 사용하면 rule 단위로 쪼개짐\n",
        "display( ts.resample( 'M', kind= 'period' ).mean() ) ; print()"
      ],
      "metadata": {
        "id": "XzsnRhQvTeJa",
        "colab": {
          "base_uri": "https://localhost:8080/",
          "height": 469
        },
        "outputId": "b19df675-8856-4236-b967-51d4f65f68ef"
      },
      "execution_count": 18,
      "outputs": [
        {
          "output_type": "display_data",
          "data": {
            "text/plain": [
              "2022-01-01     0\n",
              "2022-01-02     1\n",
              "2022-01-03     2\n",
              "2022-01-04     3\n",
              "2022-01-05     4\n",
              "              ..\n",
              "2022-04-06    95\n",
              "2022-04-07    96\n",
              "2022-04-08    97\n",
              "2022-04-09    98\n",
              "2022-04-10    99\n",
              "Freq: D, Length: 100, dtype: int64"
            ]
          },
          "metadata": {}
        },
        {
          "output_type": "stream",
          "name": "stdout",
          "text": [
            "\n"
          ]
        },
        {
          "output_type": "display_data",
          "data": {
            "text/plain": [
              "2022-01-31    15.0\n",
              "2022-02-28    44.5\n",
              "2022-03-31    74.0\n",
              "2022-04-30    94.5\n",
              "Freq: M, dtype: float64"
            ]
          },
          "metadata": {}
        },
        {
          "output_type": "stream",
          "name": "stdout",
          "text": [
            "\n"
          ]
        },
        {
          "output_type": "display_data",
          "data": {
            "text/plain": [
              "2022-01    15.0\n",
              "2022-02    44.5\n",
              "2022-03    74.0\n",
              "2022-04    94.5\n",
              "Freq: M, dtype: float64"
            ]
          },
          "metadata": {}
        },
        {
          "output_type": "stream",
          "name": "stdout",
          "text": [
            "\n"
          ]
        }
      ]
    },
    {
      "cell_type": "markdown",
      "source": [
        "pandas.Series.resample\n",
        "- https://pandas.pydata.org/docs/reference/api/pandas.Series.resample.html?highlight=resample#pandas.Series.resample"
      ],
      "metadata": {
        "id": "FtolGCFo1Hg5"
      }
    },
    {
      "cell_type": "code",
      "source": [
        "# 분단위 데이터 사례\n",
        "# 2022년 1월 1일 기준으로 12개의 분단위 데이터\n",
        "rng = pd.date_range('2022.1.1', periods=12, freq = 'T')\n",
        "ts = pd.Series(np.arange( len(rng) ),\n",
        "               index=rng)\n",
        "display( ts ) ; print()\n",
        "\n",
        "# 5분 단위로 증가하는 그룹의 경계를 정의\n",
        "# 각 그룹의 왼쪽 타임스템프가 라벨로 지정(기본)\n",
        "display( ts.resample( '5T' ).sum() ) ; print()\n",
        "display( ts.resample( '5min' ).sum() )  ; print()"
      ],
      "metadata": {
        "colab": {
          "base_uri": "https://localhost:8080/",
          "height": 451
        },
        "id": "15ZNtgBl3yk8",
        "outputId": "aff66e1b-ca2e-4696-f80e-47e27012d9b9"
      },
      "execution_count": 35,
      "outputs": [
        {
          "output_type": "display_data",
          "data": {
            "text/plain": [
              "2022-01-01 00:00:00     0\n",
              "2022-01-01 00:01:00     1\n",
              "2022-01-01 00:02:00     2\n",
              "2022-01-01 00:03:00     3\n",
              "2022-01-01 00:04:00     4\n",
              "2022-01-01 00:05:00     5\n",
              "2022-01-01 00:06:00     6\n",
              "2022-01-01 00:07:00     7\n",
              "2022-01-01 00:08:00     8\n",
              "2022-01-01 00:09:00     9\n",
              "2022-01-01 00:10:00    10\n",
              "2022-01-01 00:11:00    11\n",
              "Freq: T, dtype: int64"
            ]
          },
          "metadata": {}
        },
        {
          "output_type": "stream",
          "name": "stdout",
          "text": [
            "\n"
          ]
        },
        {
          "output_type": "display_data",
          "data": {
            "text/plain": [
              "2022-01-01 00:00:00    10\n",
              "2022-01-01 00:05:00    35\n",
              "2022-01-01 00:10:00    21\n",
              "Freq: 5T, dtype: int64"
            ]
          },
          "metadata": {}
        },
        {
          "output_type": "stream",
          "name": "stdout",
          "text": [
            "\n"
          ]
        },
        {
          "output_type": "display_data",
          "data": {
            "text/plain": [
              "2022-01-01 00:00:00    10\n",
              "2022-01-01 00:05:00    35\n",
              "2022-01-01 00:10:00    21\n",
              "Freq: 5T, dtype: int64"
            ]
          },
          "metadata": {}
        },
        {
          "output_type": "stream",
          "name": "stdout",
          "text": [
            "\n"
          ]
        }
      ]
    },
    {
      "cell_type": "code",
      "source": [
        "# 기준을 오른쪽으로 변경\n",
        "display( ts.resample( '5T', closed ='right').sum() ) ; print()"
      ],
      "metadata": {
        "colab": {
          "base_uri": "https://localhost:8080/",
          "height": 126
        },
        "id": "cUwYhTOQ64Q1",
        "outputId": "4ae82a9c-7057-4657-ade9-f2f45f82babd"
      },
      "execution_count": 33,
      "outputs": [
        {
          "output_type": "display_data",
          "data": {
            "text/plain": [
              "2021-12-31 23:55:00     0\n",
              "2022-01-01 00:00:00    15\n",
              "2022-01-01 00:05:00    40\n",
              "2022-01-01 00:10:00    11\n",
              "Freq: 5T, dtype: int64"
            ]
          },
          "metadata": {}
        },
        {
          "output_type": "stream",
          "name": "stdout",
          "text": [
            "\n"
          ]
        }
      ]
    },
    {
      "cell_type": "code",
      "source": [
        "# 라벨을 오른쪽으로\n",
        "display( ts.resample( '5T', closed ='right', label='right').sum() ) ; print()"
      ],
      "metadata": {
        "colab": {
          "base_uri": "https://localhost:8080/",
          "height": 126
        },
        "id": "IZ180wnr62B5",
        "outputId": "f995b0ee-cf05-4408-c514-5154a18f88cd"
      },
      "execution_count": 32,
      "outputs": [
        {
          "output_type": "display_data",
          "data": {
            "text/plain": [
              "2022-01-01 00:00:00     0\n",
              "2022-01-01 00:05:00    15\n",
              "2022-01-01 00:10:00    40\n",
              "2022-01-01 00:15:00    11\n",
              "Freq: 5T, dtype: int64"
            ]
          },
          "metadata": {}
        },
        {
          "output_type": "stream",
          "name": "stdout",
          "text": [
            "\n"
          ]
        }
      ]
    },
    {
      "cell_type": "code",
      "source": [
        "# 1초를 빼서\n",
        "display( ts.resample( '5T', closed ='right', label='right', offset='-1s').sum() ) ; print()"
      ],
      "metadata": {
        "colab": {
          "base_uri": "https://localhost:8080/",
          "height": 108
        },
        "id": "l_BapQTI6oA1",
        "outputId": "5e0e26ef-d17a-48a7-c1da-9209f6159171"
      },
      "execution_count": 31,
      "outputs": [
        {
          "output_type": "display_data",
          "data": {
            "text/plain": [
              "2022-01-01 00:04:59    10\n",
              "2022-01-01 00:09:59    35\n",
              "2022-01-01 00:14:59    21\n",
              "Freq: 5T, dtype: int64"
            ]
          },
          "metadata": {}
        },
        {
          "output_type": "stream",
          "name": "stdout",
          "text": [
            "\n"
          ]
        }
      ]
    },
    {
      "cell_type": "code",
      "source": [
        "# 금융분야 시계열 데이터 집계\n",
        "# OHLC :  Open high low Colse\n",
        "ts.resample('5T').ohlc()"
      ],
      "metadata": {
        "colab": {
          "base_uri": "https://localhost:8080/",
          "height": 143
        },
        "id": "YKlebyLj7tky",
        "outputId": "665021a7-5a4d-4ca4-98d3-856f769bad31"
      },
      "execution_count": 36,
      "outputs": [
        {
          "output_type": "execute_result",
          "data": {
            "text/plain": [
              "                     open  high  low  close\n",
              "2022-01-01 00:00:00     0     4    0      4\n",
              "2022-01-01 00:05:00     5     9    5      9\n",
              "2022-01-01 00:10:00    10    11   10     11"
            ],
            "text/html": [
              "\n",
              "  <div id=\"df-3243bbbc-bdcd-4e06-ada6-573bd8baa35d\">\n",
              "    <div class=\"colab-df-container\">\n",
              "      <div>\n",
              "<style scoped>\n",
              "    .dataframe tbody tr th:only-of-type {\n",
              "        vertical-align: middle;\n",
              "    }\n",
              "\n",
              "    .dataframe tbody tr th {\n",
              "        vertical-align: top;\n",
              "    }\n",
              "\n",
              "    .dataframe thead th {\n",
              "        text-align: right;\n",
              "    }\n",
              "</style>\n",
              "<table border=\"1\" class=\"dataframe\">\n",
              "  <thead>\n",
              "    <tr style=\"text-align: right;\">\n",
              "      <th></th>\n",
              "      <th>open</th>\n",
              "      <th>high</th>\n",
              "      <th>low</th>\n",
              "      <th>close</th>\n",
              "    </tr>\n",
              "  </thead>\n",
              "  <tbody>\n",
              "    <tr>\n",
              "      <th>2022-01-01 00:00:00</th>\n",
              "      <td>0</td>\n",
              "      <td>4</td>\n",
              "      <td>0</td>\n",
              "      <td>4</td>\n",
              "    </tr>\n",
              "    <tr>\n",
              "      <th>2022-01-01 00:05:00</th>\n",
              "      <td>5</td>\n",
              "      <td>9</td>\n",
              "      <td>5</td>\n",
              "      <td>9</td>\n",
              "    </tr>\n",
              "    <tr>\n",
              "      <th>2022-01-01 00:10:00</th>\n",
              "      <td>10</td>\n",
              "      <td>11</td>\n",
              "      <td>10</td>\n",
              "      <td>11</td>\n",
              "    </tr>\n",
              "  </tbody>\n",
              "</table>\n",
              "</div>\n",
              "      <button class=\"colab-df-convert\" onclick=\"convertToInteractive('df-3243bbbc-bdcd-4e06-ada6-573bd8baa35d')\"\n",
              "              title=\"Convert this dataframe to an interactive table.\"\n",
              "              style=\"display:none;\">\n",
              "        \n",
              "  <svg xmlns=\"http://www.w3.org/2000/svg\" height=\"24px\"viewBox=\"0 0 24 24\"\n",
              "       width=\"24px\">\n",
              "    <path d=\"M0 0h24v24H0V0z\" fill=\"none\"/>\n",
              "    <path d=\"M18.56 5.44l.94 2.06.94-2.06 2.06-.94-2.06-.94-.94-2.06-.94 2.06-2.06.94zm-11 1L8.5 8.5l.94-2.06 2.06-.94-2.06-.94L8.5 2.5l-.94 2.06-2.06.94zm10 10l.94 2.06.94-2.06 2.06-.94-2.06-.94-.94-2.06-.94 2.06-2.06.94z\"/><path d=\"M17.41 7.96l-1.37-1.37c-.4-.4-.92-.59-1.43-.59-.52 0-1.04.2-1.43.59L10.3 9.45l-7.72 7.72c-.78.78-.78 2.05 0 2.83L4 21.41c.39.39.9.59 1.41.59.51 0 1.02-.2 1.41-.59l7.78-7.78 2.81-2.81c.8-.78.8-2.07 0-2.86zM5.41 20L4 18.59l7.72-7.72 1.47 1.35L5.41 20z\"/>\n",
              "  </svg>\n",
              "      </button>\n",
              "      \n",
              "  <style>\n",
              "    .colab-df-container {\n",
              "      display:flex;\n",
              "      flex-wrap:wrap;\n",
              "      gap: 12px;\n",
              "    }\n",
              "\n",
              "    .colab-df-convert {\n",
              "      background-color: #E8F0FE;\n",
              "      border: none;\n",
              "      border-radius: 50%;\n",
              "      cursor: pointer;\n",
              "      display: none;\n",
              "      fill: #1967D2;\n",
              "      height: 32px;\n",
              "      padding: 0 0 0 0;\n",
              "      width: 32px;\n",
              "    }\n",
              "\n",
              "    .colab-df-convert:hover {\n",
              "      background-color: #E2EBFA;\n",
              "      box-shadow: 0px 1px 2px rgba(60, 64, 67, 0.3), 0px 1px 3px 1px rgba(60, 64, 67, 0.15);\n",
              "      fill: #174EA6;\n",
              "    }\n",
              "\n",
              "    [theme=dark] .colab-df-convert {\n",
              "      background-color: #3B4455;\n",
              "      fill: #D2E3FC;\n",
              "    }\n",
              "\n",
              "    [theme=dark] .colab-df-convert:hover {\n",
              "      background-color: #434B5C;\n",
              "      box-shadow: 0px 1px 3px 1px rgba(0, 0, 0, 0.15);\n",
              "      filter: drop-shadow(0px 1px 2px rgba(0, 0, 0, 0.3));\n",
              "      fill: #FFFFFF;\n",
              "    }\n",
              "  </style>\n",
              "\n",
              "      <script>\n",
              "        const buttonEl =\n",
              "          document.querySelector('#df-3243bbbc-bdcd-4e06-ada6-573bd8baa35d button.colab-df-convert');\n",
              "        buttonEl.style.display =\n",
              "          google.colab.kernel.accessAllowed ? 'block' : 'none';\n",
              "\n",
              "        async function convertToInteractive(key) {\n",
              "          const element = document.querySelector('#df-3243bbbc-bdcd-4e06-ada6-573bd8baa35d');\n",
              "          const dataTable =\n",
              "            await google.colab.kernel.invokeFunction('convertToInteractive',\n",
              "                                                     [key], {});\n",
              "          if (!dataTable) return;\n",
              "\n",
              "          const docLinkHtml = 'Like what you see? Visit the ' +\n",
              "            '<a target=\"_blank\" href=https://colab.research.google.com/notebooks/data_table.ipynb>data table notebook</a>'\n",
              "            + ' to learn more about interactive tables.';\n",
              "          element.innerHTML = '';\n",
              "          dataTable['output_type'] = 'display_data';\n",
              "          await google.colab.output.renderOutput(dataTable, element);\n",
              "          const docLink = document.createElement('div');\n",
              "          docLink.innerHTML = docLinkHtml;\n",
              "          element.appendChild(docLink);\n",
              "        }\n",
              "      </script>\n",
              "    </div>\n",
              "  </div>\n",
              "  "
            ]
          },
          "metadata": {},
          "execution_count": 36
        }
      ]
    },
    {
      "cell_type": "code",
      "source": [
        "# 주간 데이터를 담고 있는 DataFrame\n",
        "# 2022년 1월 1일 매주 수요일 기준의 데이터 2건\n",
        "columns =['서울', '광주', '부산', '대구']\n",
        "rng = pd.date_range('2022.1.1', periods=2, freq = 'W')\n",
        "df = pd.DataFrame(np.random.randn(2, 4),\n",
        "                       index = rng,\n",
        "                       columns = columns)\n",
        "df"
      ],
      "metadata": {
        "colab": {
          "base_uri": "https://localhost:8080/",
          "height": 112
        },
        "id": "7xS8NcwH8pHX",
        "outputId": "034daa63-b3c1-4153-e5d8-21d2349b323c"
      },
      "execution_count": 56,
      "outputs": [
        {
          "output_type": "execute_result",
          "data": {
            "text/plain": [
              "                  서울        광주        부산        대구\n",
              "2022-01-02  1.365185 -0.208440  0.248074 -0.320616\n",
              "2022-01-09 -0.603433  0.268714 -0.611881  0.700749"
            ],
            "text/html": [
              "\n",
              "  <div id=\"df-d9e702b6-952e-49f6-9e9d-76e511b25bed\">\n",
              "    <div class=\"colab-df-container\">\n",
              "      <div>\n",
              "<style scoped>\n",
              "    .dataframe tbody tr th:only-of-type {\n",
              "        vertical-align: middle;\n",
              "    }\n",
              "\n",
              "    .dataframe tbody tr th {\n",
              "        vertical-align: top;\n",
              "    }\n",
              "\n",
              "    .dataframe thead th {\n",
              "        text-align: right;\n",
              "    }\n",
              "</style>\n",
              "<table border=\"1\" class=\"dataframe\">\n",
              "  <thead>\n",
              "    <tr style=\"text-align: right;\">\n",
              "      <th></th>\n",
              "      <th>서울</th>\n",
              "      <th>광주</th>\n",
              "      <th>부산</th>\n",
              "      <th>대구</th>\n",
              "    </tr>\n",
              "  </thead>\n",
              "  <tbody>\n",
              "    <tr>\n",
              "      <th>2022-01-02</th>\n",
              "      <td>1.365185</td>\n",
              "      <td>-0.208440</td>\n",
              "      <td>0.248074</td>\n",
              "      <td>-0.320616</td>\n",
              "    </tr>\n",
              "    <tr>\n",
              "      <th>2022-01-09</th>\n",
              "      <td>-0.603433</td>\n",
              "      <td>0.268714</td>\n",
              "      <td>-0.611881</td>\n",
              "      <td>0.700749</td>\n",
              "    </tr>\n",
              "  </tbody>\n",
              "</table>\n",
              "</div>\n",
              "      <button class=\"colab-df-convert\" onclick=\"convertToInteractive('df-d9e702b6-952e-49f6-9e9d-76e511b25bed')\"\n",
              "              title=\"Convert this dataframe to an interactive table.\"\n",
              "              style=\"display:none;\">\n",
              "        \n",
              "  <svg xmlns=\"http://www.w3.org/2000/svg\" height=\"24px\"viewBox=\"0 0 24 24\"\n",
              "       width=\"24px\">\n",
              "    <path d=\"M0 0h24v24H0V0z\" fill=\"none\"/>\n",
              "    <path d=\"M18.56 5.44l.94 2.06.94-2.06 2.06-.94-2.06-.94-.94-2.06-.94 2.06-2.06.94zm-11 1L8.5 8.5l.94-2.06 2.06-.94-2.06-.94L8.5 2.5l-.94 2.06-2.06.94zm10 10l.94 2.06.94-2.06 2.06-.94-2.06-.94-.94-2.06-.94 2.06-2.06.94z\"/><path d=\"M17.41 7.96l-1.37-1.37c-.4-.4-.92-.59-1.43-.59-.52 0-1.04.2-1.43.59L10.3 9.45l-7.72 7.72c-.78.78-.78 2.05 0 2.83L4 21.41c.39.39.9.59 1.41.59.51 0 1.02-.2 1.41-.59l7.78-7.78 2.81-2.81c.8-.78.8-2.07 0-2.86zM5.41 20L4 18.59l7.72-7.72 1.47 1.35L5.41 20z\"/>\n",
              "  </svg>\n",
              "      </button>\n",
              "      \n",
              "  <style>\n",
              "    .colab-df-container {\n",
              "      display:flex;\n",
              "      flex-wrap:wrap;\n",
              "      gap: 12px;\n",
              "    }\n",
              "\n",
              "    .colab-df-convert {\n",
              "      background-color: #E8F0FE;\n",
              "      border: none;\n",
              "      border-radius: 50%;\n",
              "      cursor: pointer;\n",
              "      display: none;\n",
              "      fill: #1967D2;\n",
              "      height: 32px;\n",
              "      padding: 0 0 0 0;\n",
              "      width: 32px;\n",
              "    }\n",
              "\n",
              "    .colab-df-convert:hover {\n",
              "      background-color: #E2EBFA;\n",
              "      box-shadow: 0px 1px 2px rgba(60, 64, 67, 0.3), 0px 1px 3px 1px rgba(60, 64, 67, 0.15);\n",
              "      fill: #174EA6;\n",
              "    }\n",
              "\n",
              "    [theme=dark] .colab-df-convert {\n",
              "      background-color: #3B4455;\n",
              "      fill: #D2E3FC;\n",
              "    }\n",
              "\n",
              "    [theme=dark] .colab-df-convert:hover {\n",
              "      background-color: #434B5C;\n",
              "      box-shadow: 0px 1px 3px 1px rgba(0, 0, 0, 0.15);\n",
              "      filter: drop-shadow(0px 1px 2px rgba(0, 0, 0, 0.3));\n",
              "      fill: #FFFFFF;\n",
              "    }\n",
              "  </style>\n",
              "\n",
              "      <script>\n",
              "        const buttonEl =\n",
              "          document.querySelector('#df-d9e702b6-952e-49f6-9e9d-76e511b25bed button.colab-df-convert');\n",
              "        buttonEl.style.display =\n",
              "          google.colab.kernel.accessAllowed ? 'block' : 'none';\n",
              "\n",
              "        async function convertToInteractive(key) {\n",
              "          const element = document.querySelector('#df-d9e702b6-952e-49f6-9e9d-76e511b25bed');\n",
              "          const dataTable =\n",
              "            await google.colab.kernel.invokeFunction('convertToInteractive',\n",
              "                                                     [key], {});\n",
              "          if (!dataTable) return;\n",
              "\n",
              "          const docLinkHtml = 'Like what you see? Visit the ' +\n",
              "            '<a target=\"_blank\" href=https://colab.research.google.com/notebooks/data_table.ipynb>data table notebook</a>'\n",
              "            + ' to learn more about interactive tables.';\n",
              "          element.innerHTML = '';\n",
              "          dataTable['output_type'] = 'display_data';\n",
              "          await google.colab.output.renderOutput(dataTable, element);\n",
              "          const docLink = document.createElement('div');\n",
              "          docLink.innerHTML = docLinkHtml;\n",
              "          element.appendChild(docLink);\n",
              "        }\n",
              "      </script>\n",
              "    </div>\n",
              "  </div>\n",
              "  "
            ]
          },
          "metadata": {},
          "execution_count": 56
        }
      ]
    },
    {
      "cell_type": "code",
      "source": [
        "# 결측치 발생\n",
        "df.resample('D').asfreq()"
      ],
      "metadata": {
        "colab": {
          "base_uri": "https://localhost:8080/",
          "height": 300
        },
        "id": "aGbqNdG2-CPU",
        "outputId": "a0579e6d-dad6-4a38-ff34-964bc61f53e6"
      },
      "execution_count": 57,
      "outputs": [
        {
          "output_type": "execute_result",
          "data": {
            "text/plain": [
              "                  서울        광주        부산        대구\n",
              "2022-01-02  1.365185 -0.208440  0.248074 -0.320616\n",
              "2022-01-03       NaN       NaN       NaN       NaN\n",
              "2022-01-04       NaN       NaN       NaN       NaN\n",
              "2022-01-05       NaN       NaN       NaN       NaN\n",
              "2022-01-06       NaN       NaN       NaN       NaN\n",
              "2022-01-07       NaN       NaN       NaN       NaN\n",
              "2022-01-08       NaN       NaN       NaN       NaN\n",
              "2022-01-09 -0.603433  0.268714 -0.611881  0.700749"
            ],
            "text/html": [
              "\n",
              "  <div id=\"df-4aa4ef32-d3dd-46ec-b526-3adb28014862\">\n",
              "    <div class=\"colab-df-container\">\n",
              "      <div>\n",
              "<style scoped>\n",
              "    .dataframe tbody tr th:only-of-type {\n",
              "        vertical-align: middle;\n",
              "    }\n",
              "\n",
              "    .dataframe tbody tr th {\n",
              "        vertical-align: top;\n",
              "    }\n",
              "\n",
              "    .dataframe thead th {\n",
              "        text-align: right;\n",
              "    }\n",
              "</style>\n",
              "<table border=\"1\" class=\"dataframe\">\n",
              "  <thead>\n",
              "    <tr style=\"text-align: right;\">\n",
              "      <th></th>\n",
              "      <th>서울</th>\n",
              "      <th>광주</th>\n",
              "      <th>부산</th>\n",
              "      <th>대구</th>\n",
              "    </tr>\n",
              "  </thead>\n",
              "  <tbody>\n",
              "    <tr>\n",
              "      <th>2022-01-02</th>\n",
              "      <td>1.365185</td>\n",
              "      <td>-0.208440</td>\n",
              "      <td>0.248074</td>\n",
              "      <td>-0.320616</td>\n",
              "    </tr>\n",
              "    <tr>\n",
              "      <th>2022-01-03</th>\n",
              "      <td>NaN</td>\n",
              "      <td>NaN</td>\n",
              "      <td>NaN</td>\n",
              "      <td>NaN</td>\n",
              "    </tr>\n",
              "    <tr>\n",
              "      <th>2022-01-04</th>\n",
              "      <td>NaN</td>\n",
              "      <td>NaN</td>\n",
              "      <td>NaN</td>\n",
              "      <td>NaN</td>\n",
              "    </tr>\n",
              "    <tr>\n",
              "      <th>2022-01-05</th>\n",
              "      <td>NaN</td>\n",
              "      <td>NaN</td>\n",
              "      <td>NaN</td>\n",
              "      <td>NaN</td>\n",
              "    </tr>\n",
              "    <tr>\n",
              "      <th>2022-01-06</th>\n",
              "      <td>NaN</td>\n",
              "      <td>NaN</td>\n",
              "      <td>NaN</td>\n",
              "      <td>NaN</td>\n",
              "    </tr>\n",
              "    <tr>\n",
              "      <th>2022-01-07</th>\n",
              "      <td>NaN</td>\n",
              "      <td>NaN</td>\n",
              "      <td>NaN</td>\n",
              "      <td>NaN</td>\n",
              "    </tr>\n",
              "    <tr>\n",
              "      <th>2022-01-08</th>\n",
              "      <td>NaN</td>\n",
              "      <td>NaN</td>\n",
              "      <td>NaN</td>\n",
              "      <td>NaN</td>\n",
              "    </tr>\n",
              "    <tr>\n",
              "      <th>2022-01-09</th>\n",
              "      <td>-0.603433</td>\n",
              "      <td>0.268714</td>\n",
              "      <td>-0.611881</td>\n",
              "      <td>0.700749</td>\n",
              "    </tr>\n",
              "  </tbody>\n",
              "</table>\n",
              "</div>\n",
              "      <button class=\"colab-df-convert\" onclick=\"convertToInteractive('df-4aa4ef32-d3dd-46ec-b526-3adb28014862')\"\n",
              "              title=\"Convert this dataframe to an interactive table.\"\n",
              "              style=\"display:none;\">\n",
              "        \n",
              "  <svg xmlns=\"http://www.w3.org/2000/svg\" height=\"24px\"viewBox=\"0 0 24 24\"\n",
              "       width=\"24px\">\n",
              "    <path d=\"M0 0h24v24H0V0z\" fill=\"none\"/>\n",
              "    <path d=\"M18.56 5.44l.94 2.06.94-2.06 2.06-.94-2.06-.94-.94-2.06-.94 2.06-2.06.94zm-11 1L8.5 8.5l.94-2.06 2.06-.94-2.06-.94L8.5 2.5l-.94 2.06-2.06.94zm10 10l.94 2.06.94-2.06 2.06-.94-2.06-.94-.94-2.06-.94 2.06-2.06.94z\"/><path d=\"M17.41 7.96l-1.37-1.37c-.4-.4-.92-.59-1.43-.59-.52 0-1.04.2-1.43.59L10.3 9.45l-7.72 7.72c-.78.78-.78 2.05 0 2.83L4 21.41c.39.39.9.59 1.41.59.51 0 1.02-.2 1.41-.59l7.78-7.78 2.81-2.81c.8-.78.8-2.07 0-2.86zM5.41 20L4 18.59l7.72-7.72 1.47 1.35L5.41 20z\"/>\n",
              "  </svg>\n",
              "      </button>\n",
              "      \n",
              "  <style>\n",
              "    .colab-df-container {\n",
              "      display:flex;\n",
              "      flex-wrap:wrap;\n",
              "      gap: 12px;\n",
              "    }\n",
              "\n",
              "    .colab-df-convert {\n",
              "      background-color: #E8F0FE;\n",
              "      border: none;\n",
              "      border-radius: 50%;\n",
              "      cursor: pointer;\n",
              "      display: none;\n",
              "      fill: #1967D2;\n",
              "      height: 32px;\n",
              "      padding: 0 0 0 0;\n",
              "      width: 32px;\n",
              "    }\n",
              "\n",
              "    .colab-df-convert:hover {\n",
              "      background-color: #E2EBFA;\n",
              "      box-shadow: 0px 1px 2px rgba(60, 64, 67, 0.3), 0px 1px 3px 1px rgba(60, 64, 67, 0.15);\n",
              "      fill: #174EA6;\n",
              "    }\n",
              "\n",
              "    [theme=dark] .colab-df-convert {\n",
              "      background-color: #3B4455;\n",
              "      fill: #D2E3FC;\n",
              "    }\n",
              "\n",
              "    [theme=dark] .colab-df-convert:hover {\n",
              "      background-color: #434B5C;\n",
              "      box-shadow: 0px 1px 3px 1px rgba(0, 0, 0, 0.15);\n",
              "      filter: drop-shadow(0px 1px 2px rgba(0, 0, 0, 0.3));\n",
              "      fill: #FFFFFF;\n",
              "    }\n",
              "  </style>\n",
              "\n",
              "      <script>\n",
              "        const buttonEl =\n",
              "          document.querySelector('#df-4aa4ef32-d3dd-46ec-b526-3adb28014862 button.colab-df-convert');\n",
              "        buttonEl.style.display =\n",
              "          google.colab.kernel.accessAllowed ? 'block' : 'none';\n",
              "\n",
              "        async function convertToInteractive(key) {\n",
              "          const element = document.querySelector('#df-4aa4ef32-d3dd-46ec-b526-3adb28014862');\n",
              "          const dataTable =\n",
              "            await google.colab.kernel.invokeFunction('convertToInteractive',\n",
              "                                                     [key], {});\n",
              "          if (!dataTable) return;\n",
              "\n",
              "          const docLinkHtml = 'Like what you see? Visit the ' +\n",
              "            '<a target=\"_blank\" href=https://colab.research.google.com/notebooks/data_table.ipynb>data table notebook</a>'\n",
              "            + ' to learn more about interactive tables.';\n",
              "          element.innerHTML = '';\n",
              "          dataTable['output_type'] = 'display_data';\n",
              "          await google.colab.output.renderOutput(dataTable, element);\n",
              "          const docLink = document.createElement('div');\n",
              "          docLink.innerHTML = docLinkHtml;\n",
              "          element.appendChild(docLink);\n",
              "        }\n",
              "      </script>\n",
              "    </div>\n",
              "  </div>\n",
              "  "
            ]
          },
          "metadata": {},
          "execution_count": 57
        }
      ]
    },
    {
      "cell_type": "code",
      "source": [
        "# 이전 값을 채워서 보간을 수행\n",
        "df.resample('D').ffill()"
      ],
      "metadata": {
        "colab": {
          "base_uri": "https://localhost:8080/",
          "height": 300
        },
        "id": "qDJRg0HN-PuR",
        "outputId": "9f588b89-2e30-471b-f32b-369f1a9dbd35"
      },
      "execution_count": 58,
      "outputs": [
        {
          "output_type": "execute_result",
          "data": {
            "text/plain": [
              "                  서울        광주        부산        대구\n",
              "2022-01-02  1.365185 -0.208440  0.248074 -0.320616\n",
              "2022-01-03  1.365185 -0.208440  0.248074 -0.320616\n",
              "2022-01-04  1.365185 -0.208440  0.248074 -0.320616\n",
              "2022-01-05  1.365185 -0.208440  0.248074 -0.320616\n",
              "2022-01-06  1.365185 -0.208440  0.248074 -0.320616\n",
              "2022-01-07  1.365185 -0.208440  0.248074 -0.320616\n",
              "2022-01-08  1.365185 -0.208440  0.248074 -0.320616\n",
              "2022-01-09 -0.603433  0.268714 -0.611881  0.700749"
            ],
            "text/html": [
              "\n",
              "  <div id=\"df-795ded43-c837-45e3-91b4-d87d728c8082\">\n",
              "    <div class=\"colab-df-container\">\n",
              "      <div>\n",
              "<style scoped>\n",
              "    .dataframe tbody tr th:only-of-type {\n",
              "        vertical-align: middle;\n",
              "    }\n",
              "\n",
              "    .dataframe tbody tr th {\n",
              "        vertical-align: top;\n",
              "    }\n",
              "\n",
              "    .dataframe thead th {\n",
              "        text-align: right;\n",
              "    }\n",
              "</style>\n",
              "<table border=\"1\" class=\"dataframe\">\n",
              "  <thead>\n",
              "    <tr style=\"text-align: right;\">\n",
              "      <th></th>\n",
              "      <th>서울</th>\n",
              "      <th>광주</th>\n",
              "      <th>부산</th>\n",
              "      <th>대구</th>\n",
              "    </tr>\n",
              "  </thead>\n",
              "  <tbody>\n",
              "    <tr>\n",
              "      <th>2022-01-02</th>\n",
              "      <td>1.365185</td>\n",
              "      <td>-0.208440</td>\n",
              "      <td>0.248074</td>\n",
              "      <td>-0.320616</td>\n",
              "    </tr>\n",
              "    <tr>\n",
              "      <th>2022-01-03</th>\n",
              "      <td>1.365185</td>\n",
              "      <td>-0.208440</td>\n",
              "      <td>0.248074</td>\n",
              "      <td>-0.320616</td>\n",
              "    </tr>\n",
              "    <tr>\n",
              "      <th>2022-01-04</th>\n",
              "      <td>1.365185</td>\n",
              "      <td>-0.208440</td>\n",
              "      <td>0.248074</td>\n",
              "      <td>-0.320616</td>\n",
              "    </tr>\n",
              "    <tr>\n",
              "      <th>2022-01-05</th>\n",
              "      <td>1.365185</td>\n",
              "      <td>-0.208440</td>\n",
              "      <td>0.248074</td>\n",
              "      <td>-0.320616</td>\n",
              "    </tr>\n",
              "    <tr>\n",
              "      <th>2022-01-06</th>\n",
              "      <td>1.365185</td>\n",
              "      <td>-0.208440</td>\n",
              "      <td>0.248074</td>\n",
              "      <td>-0.320616</td>\n",
              "    </tr>\n",
              "    <tr>\n",
              "      <th>2022-01-07</th>\n",
              "      <td>1.365185</td>\n",
              "      <td>-0.208440</td>\n",
              "      <td>0.248074</td>\n",
              "      <td>-0.320616</td>\n",
              "    </tr>\n",
              "    <tr>\n",
              "      <th>2022-01-08</th>\n",
              "      <td>1.365185</td>\n",
              "      <td>-0.208440</td>\n",
              "      <td>0.248074</td>\n",
              "      <td>-0.320616</td>\n",
              "    </tr>\n",
              "    <tr>\n",
              "      <th>2022-01-09</th>\n",
              "      <td>-0.603433</td>\n",
              "      <td>0.268714</td>\n",
              "      <td>-0.611881</td>\n",
              "      <td>0.700749</td>\n",
              "    </tr>\n",
              "  </tbody>\n",
              "</table>\n",
              "</div>\n",
              "      <button class=\"colab-df-convert\" onclick=\"convertToInteractive('df-795ded43-c837-45e3-91b4-d87d728c8082')\"\n",
              "              title=\"Convert this dataframe to an interactive table.\"\n",
              "              style=\"display:none;\">\n",
              "        \n",
              "  <svg xmlns=\"http://www.w3.org/2000/svg\" height=\"24px\"viewBox=\"0 0 24 24\"\n",
              "       width=\"24px\">\n",
              "    <path d=\"M0 0h24v24H0V0z\" fill=\"none\"/>\n",
              "    <path d=\"M18.56 5.44l.94 2.06.94-2.06 2.06-.94-2.06-.94-.94-2.06-.94 2.06-2.06.94zm-11 1L8.5 8.5l.94-2.06 2.06-.94-2.06-.94L8.5 2.5l-.94 2.06-2.06.94zm10 10l.94 2.06.94-2.06 2.06-.94-2.06-.94-.94-2.06-.94 2.06-2.06.94z\"/><path d=\"M17.41 7.96l-1.37-1.37c-.4-.4-.92-.59-1.43-.59-.52 0-1.04.2-1.43.59L10.3 9.45l-7.72 7.72c-.78.78-.78 2.05 0 2.83L4 21.41c.39.39.9.59 1.41.59.51 0 1.02-.2 1.41-.59l7.78-7.78 2.81-2.81c.8-.78.8-2.07 0-2.86zM5.41 20L4 18.59l7.72-7.72 1.47 1.35L5.41 20z\"/>\n",
              "  </svg>\n",
              "      </button>\n",
              "      \n",
              "  <style>\n",
              "    .colab-df-container {\n",
              "      display:flex;\n",
              "      flex-wrap:wrap;\n",
              "      gap: 12px;\n",
              "    }\n",
              "\n",
              "    .colab-df-convert {\n",
              "      background-color: #E8F0FE;\n",
              "      border: none;\n",
              "      border-radius: 50%;\n",
              "      cursor: pointer;\n",
              "      display: none;\n",
              "      fill: #1967D2;\n",
              "      height: 32px;\n",
              "      padding: 0 0 0 0;\n",
              "      width: 32px;\n",
              "    }\n",
              "\n",
              "    .colab-df-convert:hover {\n",
              "      background-color: #E2EBFA;\n",
              "      box-shadow: 0px 1px 2px rgba(60, 64, 67, 0.3), 0px 1px 3px 1px rgba(60, 64, 67, 0.15);\n",
              "      fill: #174EA6;\n",
              "    }\n",
              "\n",
              "    [theme=dark] .colab-df-convert {\n",
              "      background-color: #3B4455;\n",
              "      fill: #D2E3FC;\n",
              "    }\n",
              "\n",
              "    [theme=dark] .colab-df-convert:hover {\n",
              "      background-color: #434B5C;\n",
              "      box-shadow: 0px 1px 3px 1px rgba(0, 0, 0, 0.15);\n",
              "      filter: drop-shadow(0px 1px 2px rgba(0, 0, 0, 0.3));\n",
              "      fill: #FFFFFF;\n",
              "    }\n",
              "  </style>\n",
              "\n",
              "      <script>\n",
              "        const buttonEl =\n",
              "          document.querySelector('#df-795ded43-c837-45e3-91b4-d87d728c8082 button.colab-df-convert');\n",
              "        buttonEl.style.display =\n",
              "          google.colab.kernel.accessAllowed ? 'block' : 'none';\n",
              "\n",
              "        async function convertToInteractive(key) {\n",
              "          const element = document.querySelector('#df-795ded43-c837-45e3-91b4-d87d728c8082');\n",
              "          const dataTable =\n",
              "            await google.colab.kernel.invokeFunction('convertToInteractive',\n",
              "                                                     [key], {});\n",
              "          if (!dataTable) return;\n",
              "\n",
              "          const docLinkHtml = 'Like what you see? Visit the ' +\n",
              "            '<a target=\"_blank\" href=https://colab.research.google.com/notebooks/data_table.ipynb>data table notebook</a>'\n",
              "            + ' to learn more about interactive tables.';\n",
              "          element.innerHTML = '';\n",
              "          dataTable['output_type'] = 'display_data';\n",
              "          await google.colab.output.renderOutput(dataTable, element);\n",
              "          const docLink = document.createElement('div');\n",
              "          docLink.innerHTML = docLinkHtml;\n",
              "          element.appendChild(docLink);\n",
              "        }\n",
              "      </script>\n",
              "    </div>\n",
              "  </div>\n",
              "  "
            ]
          },
          "metadata": {},
          "execution_count": 58
        }
      ]
    },
    {
      "cell_type": "code",
      "source": [
        "# 보간법 적용 범위\n",
        "df.resample('D').ffill(limit=3)"
      ],
      "metadata": {
        "colab": {
          "base_uri": "https://localhost:8080/",
          "height": 300
        },
        "id": "QNSzKKEV-rd9",
        "outputId": "fcf7d521-1b7b-4728-8886-f9bce596f49b"
      },
      "execution_count": 59,
      "outputs": [
        {
          "output_type": "execute_result",
          "data": {
            "text/plain": [
              "                  서울        광주        부산        대구\n",
              "2022-01-02  1.365185 -0.208440  0.248074 -0.320616\n",
              "2022-01-03  1.365185 -0.208440  0.248074 -0.320616\n",
              "2022-01-04  1.365185 -0.208440  0.248074 -0.320616\n",
              "2022-01-05  1.365185 -0.208440  0.248074 -0.320616\n",
              "2022-01-06       NaN       NaN       NaN       NaN\n",
              "2022-01-07       NaN       NaN       NaN       NaN\n",
              "2022-01-08       NaN       NaN       NaN       NaN\n",
              "2022-01-09 -0.603433  0.268714 -0.611881  0.700749"
            ],
            "text/html": [
              "\n",
              "  <div id=\"df-abfa3f53-f15e-42c6-86fc-4b063776edd5\">\n",
              "    <div class=\"colab-df-container\">\n",
              "      <div>\n",
              "<style scoped>\n",
              "    .dataframe tbody tr th:only-of-type {\n",
              "        vertical-align: middle;\n",
              "    }\n",
              "\n",
              "    .dataframe tbody tr th {\n",
              "        vertical-align: top;\n",
              "    }\n",
              "\n",
              "    .dataframe thead th {\n",
              "        text-align: right;\n",
              "    }\n",
              "</style>\n",
              "<table border=\"1\" class=\"dataframe\">\n",
              "  <thead>\n",
              "    <tr style=\"text-align: right;\">\n",
              "      <th></th>\n",
              "      <th>서울</th>\n",
              "      <th>광주</th>\n",
              "      <th>부산</th>\n",
              "      <th>대구</th>\n",
              "    </tr>\n",
              "  </thead>\n",
              "  <tbody>\n",
              "    <tr>\n",
              "      <th>2022-01-02</th>\n",
              "      <td>1.365185</td>\n",
              "      <td>-0.208440</td>\n",
              "      <td>0.248074</td>\n",
              "      <td>-0.320616</td>\n",
              "    </tr>\n",
              "    <tr>\n",
              "      <th>2022-01-03</th>\n",
              "      <td>1.365185</td>\n",
              "      <td>-0.208440</td>\n",
              "      <td>0.248074</td>\n",
              "      <td>-0.320616</td>\n",
              "    </tr>\n",
              "    <tr>\n",
              "      <th>2022-01-04</th>\n",
              "      <td>1.365185</td>\n",
              "      <td>-0.208440</td>\n",
              "      <td>0.248074</td>\n",
              "      <td>-0.320616</td>\n",
              "    </tr>\n",
              "    <tr>\n",
              "      <th>2022-01-05</th>\n",
              "      <td>1.365185</td>\n",
              "      <td>-0.208440</td>\n",
              "      <td>0.248074</td>\n",
              "      <td>-0.320616</td>\n",
              "    </tr>\n",
              "    <tr>\n",
              "      <th>2022-01-06</th>\n",
              "      <td>NaN</td>\n",
              "      <td>NaN</td>\n",
              "      <td>NaN</td>\n",
              "      <td>NaN</td>\n",
              "    </tr>\n",
              "    <tr>\n",
              "      <th>2022-01-07</th>\n",
              "      <td>NaN</td>\n",
              "      <td>NaN</td>\n",
              "      <td>NaN</td>\n",
              "      <td>NaN</td>\n",
              "    </tr>\n",
              "    <tr>\n",
              "      <th>2022-01-08</th>\n",
              "      <td>NaN</td>\n",
              "      <td>NaN</td>\n",
              "      <td>NaN</td>\n",
              "      <td>NaN</td>\n",
              "    </tr>\n",
              "    <tr>\n",
              "      <th>2022-01-09</th>\n",
              "      <td>-0.603433</td>\n",
              "      <td>0.268714</td>\n",
              "      <td>-0.611881</td>\n",
              "      <td>0.700749</td>\n",
              "    </tr>\n",
              "  </tbody>\n",
              "</table>\n",
              "</div>\n",
              "      <button class=\"colab-df-convert\" onclick=\"convertToInteractive('df-abfa3f53-f15e-42c6-86fc-4b063776edd5')\"\n",
              "              title=\"Convert this dataframe to an interactive table.\"\n",
              "              style=\"display:none;\">\n",
              "        \n",
              "  <svg xmlns=\"http://www.w3.org/2000/svg\" height=\"24px\"viewBox=\"0 0 24 24\"\n",
              "       width=\"24px\">\n",
              "    <path d=\"M0 0h24v24H0V0z\" fill=\"none\"/>\n",
              "    <path d=\"M18.56 5.44l.94 2.06.94-2.06 2.06-.94-2.06-.94-.94-2.06-.94 2.06-2.06.94zm-11 1L8.5 8.5l.94-2.06 2.06-.94-2.06-.94L8.5 2.5l-.94 2.06-2.06.94zm10 10l.94 2.06.94-2.06 2.06-.94-2.06-.94-.94-2.06-.94 2.06-2.06.94z\"/><path d=\"M17.41 7.96l-1.37-1.37c-.4-.4-.92-.59-1.43-.59-.52 0-1.04.2-1.43.59L10.3 9.45l-7.72 7.72c-.78.78-.78 2.05 0 2.83L4 21.41c.39.39.9.59 1.41.59.51 0 1.02-.2 1.41-.59l7.78-7.78 2.81-2.81c.8-.78.8-2.07 0-2.86zM5.41 20L4 18.59l7.72-7.72 1.47 1.35L5.41 20z\"/>\n",
              "  </svg>\n",
              "      </button>\n",
              "      \n",
              "  <style>\n",
              "    .colab-df-container {\n",
              "      display:flex;\n",
              "      flex-wrap:wrap;\n",
              "      gap: 12px;\n",
              "    }\n",
              "\n",
              "    .colab-df-convert {\n",
              "      background-color: #E8F0FE;\n",
              "      border: none;\n",
              "      border-radius: 50%;\n",
              "      cursor: pointer;\n",
              "      display: none;\n",
              "      fill: #1967D2;\n",
              "      height: 32px;\n",
              "      padding: 0 0 0 0;\n",
              "      width: 32px;\n",
              "    }\n",
              "\n",
              "    .colab-df-convert:hover {\n",
              "      background-color: #E2EBFA;\n",
              "      box-shadow: 0px 1px 2px rgba(60, 64, 67, 0.3), 0px 1px 3px 1px rgba(60, 64, 67, 0.15);\n",
              "      fill: #174EA6;\n",
              "    }\n",
              "\n",
              "    [theme=dark] .colab-df-convert {\n",
              "      background-color: #3B4455;\n",
              "      fill: #D2E3FC;\n",
              "    }\n",
              "\n",
              "    [theme=dark] .colab-df-convert:hover {\n",
              "      background-color: #434B5C;\n",
              "      box-shadow: 0px 1px 3px 1px rgba(0, 0, 0, 0.15);\n",
              "      filter: drop-shadow(0px 1px 2px rgba(0, 0, 0, 0.3));\n",
              "      fill: #FFFFFF;\n",
              "    }\n",
              "  </style>\n",
              "\n",
              "      <script>\n",
              "        const buttonEl =\n",
              "          document.querySelector('#df-abfa3f53-f15e-42c6-86fc-4b063776edd5 button.colab-df-convert');\n",
              "        buttonEl.style.display =\n",
              "          google.colab.kernel.accessAllowed ? 'block' : 'none';\n",
              "\n",
              "        async function convertToInteractive(key) {\n",
              "          const element = document.querySelector('#df-abfa3f53-f15e-42c6-86fc-4b063776edd5');\n",
              "          const dataTable =\n",
              "            await google.colab.kernel.invokeFunction('convertToInteractive',\n",
              "                                                     [key], {});\n",
              "          if (!dataTable) return;\n",
              "\n",
              "          const docLinkHtml = 'Like what you see? Visit the ' +\n",
              "            '<a target=\"_blank\" href=https://colab.research.google.com/notebooks/data_table.ipynb>data table notebook</a>'\n",
              "            + ' to learn more about interactive tables.';\n",
              "          element.innerHTML = '';\n",
              "          dataTable['output_type'] = 'display_data';\n",
              "          await google.colab.output.renderOutput(dataTable, element);\n",
              "          const docLink = document.createElement('div');\n",
              "          docLink.innerHTML = docLinkHtml;\n",
              "          element.appendChild(docLink);\n",
              "        }\n",
              "      </script>\n",
              "    </div>\n",
              "  </div>\n",
              "  "
            ]
          },
          "metadata": {},
          "execution_count": 59
        }
      ]
    },
    {
      "cell_type": "code",
      "source": [
        "# 새로운 날짜 색인은 이전 색인만 변동\n",
        "# 결측치 발생 안함\n",
        "df.resample('W-FRI').ffill()"
      ],
      "metadata": {
        "colab": {
          "base_uri": "https://localhost:8080/",
          "height": 112
        },
        "id": "rsX-WZgb_l8K",
        "outputId": "8b76f3f2-a5bf-4992-c0bf-eb30c8c7fc0f"
      },
      "execution_count": 60,
      "outputs": [
        {
          "output_type": "execute_result",
          "data": {
            "text/plain": [
              "                  서울        광주        부산        대구\n",
              "2022-01-07  1.365185 -0.208440  0.248074 -0.320616\n",
              "2022-01-14 -0.603433  0.268714 -0.611881  0.700749"
            ],
            "text/html": [
              "\n",
              "  <div id=\"df-016f65f3-e9e7-43fe-b56e-9038d3ae4ca4\">\n",
              "    <div class=\"colab-df-container\">\n",
              "      <div>\n",
              "<style scoped>\n",
              "    .dataframe tbody tr th:only-of-type {\n",
              "        vertical-align: middle;\n",
              "    }\n",
              "\n",
              "    .dataframe tbody tr th {\n",
              "        vertical-align: top;\n",
              "    }\n",
              "\n",
              "    .dataframe thead th {\n",
              "        text-align: right;\n",
              "    }\n",
              "</style>\n",
              "<table border=\"1\" class=\"dataframe\">\n",
              "  <thead>\n",
              "    <tr style=\"text-align: right;\">\n",
              "      <th></th>\n",
              "      <th>서울</th>\n",
              "      <th>광주</th>\n",
              "      <th>부산</th>\n",
              "      <th>대구</th>\n",
              "    </tr>\n",
              "  </thead>\n",
              "  <tbody>\n",
              "    <tr>\n",
              "      <th>2022-01-07</th>\n",
              "      <td>1.365185</td>\n",
              "      <td>-0.208440</td>\n",
              "      <td>0.248074</td>\n",
              "      <td>-0.320616</td>\n",
              "    </tr>\n",
              "    <tr>\n",
              "      <th>2022-01-14</th>\n",
              "      <td>-0.603433</td>\n",
              "      <td>0.268714</td>\n",
              "      <td>-0.611881</td>\n",
              "      <td>0.700749</td>\n",
              "    </tr>\n",
              "  </tbody>\n",
              "</table>\n",
              "</div>\n",
              "      <button class=\"colab-df-convert\" onclick=\"convertToInteractive('df-016f65f3-e9e7-43fe-b56e-9038d3ae4ca4')\"\n",
              "              title=\"Convert this dataframe to an interactive table.\"\n",
              "              style=\"display:none;\">\n",
              "        \n",
              "  <svg xmlns=\"http://www.w3.org/2000/svg\" height=\"24px\"viewBox=\"0 0 24 24\"\n",
              "       width=\"24px\">\n",
              "    <path d=\"M0 0h24v24H0V0z\" fill=\"none\"/>\n",
              "    <path d=\"M18.56 5.44l.94 2.06.94-2.06 2.06-.94-2.06-.94-.94-2.06-.94 2.06-2.06.94zm-11 1L8.5 8.5l.94-2.06 2.06-.94-2.06-.94L8.5 2.5l-.94 2.06-2.06.94zm10 10l.94 2.06.94-2.06 2.06-.94-2.06-.94-.94-2.06-.94 2.06-2.06.94z\"/><path d=\"M17.41 7.96l-1.37-1.37c-.4-.4-.92-.59-1.43-.59-.52 0-1.04.2-1.43.59L10.3 9.45l-7.72 7.72c-.78.78-.78 2.05 0 2.83L4 21.41c.39.39.9.59 1.41.59.51 0 1.02-.2 1.41-.59l7.78-7.78 2.81-2.81c.8-.78.8-2.07 0-2.86zM5.41 20L4 18.59l7.72-7.72 1.47 1.35L5.41 20z\"/>\n",
              "  </svg>\n",
              "      </button>\n",
              "      \n",
              "  <style>\n",
              "    .colab-df-container {\n",
              "      display:flex;\n",
              "      flex-wrap:wrap;\n",
              "      gap: 12px;\n",
              "    }\n",
              "\n",
              "    .colab-df-convert {\n",
              "      background-color: #E8F0FE;\n",
              "      border: none;\n",
              "      border-radius: 50%;\n",
              "      cursor: pointer;\n",
              "      display: none;\n",
              "      fill: #1967D2;\n",
              "      height: 32px;\n",
              "      padding: 0 0 0 0;\n",
              "      width: 32px;\n",
              "    }\n",
              "\n",
              "    .colab-df-convert:hover {\n",
              "      background-color: #E2EBFA;\n",
              "      box-shadow: 0px 1px 2px rgba(60, 64, 67, 0.3), 0px 1px 3px 1px rgba(60, 64, 67, 0.15);\n",
              "      fill: #174EA6;\n",
              "    }\n",
              "\n",
              "    [theme=dark] .colab-df-convert {\n",
              "      background-color: #3B4455;\n",
              "      fill: #D2E3FC;\n",
              "    }\n",
              "\n",
              "    [theme=dark] .colab-df-convert:hover {\n",
              "      background-color: #434B5C;\n",
              "      box-shadow: 0px 1px 3px 1px rgba(0, 0, 0, 0.15);\n",
              "      filter: drop-shadow(0px 1px 2px rgba(0, 0, 0, 0.3));\n",
              "      fill: #FFFFFF;\n",
              "    }\n",
              "  </style>\n",
              "\n",
              "      <script>\n",
              "        const buttonEl =\n",
              "          document.querySelector('#df-016f65f3-e9e7-43fe-b56e-9038d3ae4ca4 button.colab-df-convert');\n",
              "        buttonEl.style.display =\n",
              "          google.colab.kernel.accessAllowed ? 'block' : 'none';\n",
              "\n",
              "        async function convertToInteractive(key) {\n",
              "          const element = document.querySelector('#df-016f65f3-e9e7-43fe-b56e-9038d3ae4ca4');\n",
              "          const dataTable =\n",
              "            await google.colab.kernel.invokeFunction('convertToInteractive',\n",
              "                                                     [key], {});\n",
              "          if (!dataTable) return;\n",
              "\n",
              "          const docLinkHtml = 'Like what you see? Visit the ' +\n",
              "            '<a target=\"_blank\" href=https://colab.research.google.com/notebooks/data_table.ipynb>data table notebook</a>'\n",
              "            + ' to learn more about interactive tables.';\n",
              "          element.innerHTML = '';\n",
              "          dataTable['output_type'] = 'display_data';\n",
              "          await google.colab.output.renderOutput(dataTable, element);\n",
              "          const docLink = document.createElement('div');\n",
              "          docLink.innerHTML = docLinkHtml;\n",
              "          element.appendChild(docLink);\n",
              "        }\n",
              "      </script>\n",
              "    </div>\n",
              "  </div>\n",
              "  "
            ]
          },
          "metadata": {},
          "execution_count": 60
        }
      ]
    },
    {
      "cell_type": "code",
      "source": [
        "# Period로 색인된 데이터\n",
        "# 2021년 1월부터 2022년 12월 까지 월단위 기간\n",
        "columns =['서울', '광주', '부산', '대구']\n",
        "rng = pd.period_range('2021-01', '2022-12', freq = 'M')\n",
        "df = pd.DataFrame(np.random.randn( len( rng ), len(columns)),\n",
        "                       index = rng,\n",
        "                       columns = columns)\n",
        "df.info()"
      ],
      "metadata": {
        "colab": {
          "base_uri": "https://localhost:8080/"
        },
        "id": "EssLoLY__yaK",
        "outputId": "7cf7ddfb-5a8f-4104-8335-2cd8d297cf4d"
      },
      "execution_count": 64,
      "outputs": [
        {
          "output_type": "stream",
          "name": "stdout",
          "text": [
            "<class 'pandas.core.frame.DataFrame'>\n",
            "PeriodIndex: 24 entries, 2021-01 to 2022-12\n",
            "Freq: M\n",
            "Data columns (total 4 columns):\n",
            " #   Column  Non-Null Count  Dtype  \n",
            "---  ------  --------------  -----  \n",
            " 0   서울      24 non-null     float64\n",
            " 1   광주      24 non-null     float64\n",
            " 2   부산      24 non-null     float64\n",
            " 3   대구      24 non-null     float64\n",
            "dtypes: float64(4)\n",
            "memory usage: 960.0 bytes\n"
          ]
        }
      ]
    },
    {
      "cell_type": "code",
      "source": [
        "df.resample('Q-DEC').mean()"
      ],
      "metadata": {
        "colab": {
          "base_uri": "https://localhost:8080/",
          "height": 300
        },
        "id": "sFPzZoIuBFm3",
        "outputId": "8ff5e736-361e-4f57-d2c6-22b31949ebf9"
      },
      "execution_count": 65,
      "outputs": [
        {
          "output_type": "execute_result",
          "data": {
            "text/plain": [
              "              서울        광주        부산        대구\n",
              "2021Q1 -1.659528  1.193721 -0.067646  0.083331\n",
              "2021Q2 -0.613759 -0.737576 -0.226899 -0.784089\n",
              "2021Q3 -0.318971 -0.120730 -0.460530 -0.518934\n",
              "2021Q4  0.379793  0.522146 -0.060121  0.573369\n",
              "2022Q1  0.310714  0.424534  0.732376 -0.032030\n",
              "2022Q2 -0.007874  0.702836  0.150767  0.119614\n",
              "2022Q3 -0.378947 -1.590003 -0.267437 -0.027868\n",
              "2022Q4 -0.065414  0.247193  0.680016  0.644489"
            ],
            "text/html": [
              "\n",
              "  <div id=\"df-f00efd5e-c770-47bc-a695-3c0381c9548c\">\n",
              "    <div class=\"colab-df-container\">\n",
              "      <div>\n",
              "<style scoped>\n",
              "    .dataframe tbody tr th:only-of-type {\n",
              "        vertical-align: middle;\n",
              "    }\n",
              "\n",
              "    .dataframe tbody tr th {\n",
              "        vertical-align: top;\n",
              "    }\n",
              "\n",
              "    .dataframe thead th {\n",
              "        text-align: right;\n",
              "    }\n",
              "</style>\n",
              "<table border=\"1\" class=\"dataframe\">\n",
              "  <thead>\n",
              "    <tr style=\"text-align: right;\">\n",
              "      <th></th>\n",
              "      <th>서울</th>\n",
              "      <th>광주</th>\n",
              "      <th>부산</th>\n",
              "      <th>대구</th>\n",
              "    </tr>\n",
              "  </thead>\n",
              "  <tbody>\n",
              "    <tr>\n",
              "      <th>2021Q1</th>\n",
              "      <td>-1.659528</td>\n",
              "      <td>1.193721</td>\n",
              "      <td>-0.067646</td>\n",
              "      <td>0.083331</td>\n",
              "    </tr>\n",
              "    <tr>\n",
              "      <th>2021Q2</th>\n",
              "      <td>-0.613759</td>\n",
              "      <td>-0.737576</td>\n",
              "      <td>-0.226899</td>\n",
              "      <td>-0.784089</td>\n",
              "    </tr>\n",
              "    <tr>\n",
              "      <th>2021Q3</th>\n",
              "      <td>-0.318971</td>\n",
              "      <td>-0.120730</td>\n",
              "      <td>-0.460530</td>\n",
              "      <td>-0.518934</td>\n",
              "    </tr>\n",
              "    <tr>\n",
              "      <th>2021Q4</th>\n",
              "      <td>0.379793</td>\n",
              "      <td>0.522146</td>\n",
              "      <td>-0.060121</td>\n",
              "      <td>0.573369</td>\n",
              "    </tr>\n",
              "    <tr>\n",
              "      <th>2022Q1</th>\n",
              "      <td>0.310714</td>\n",
              "      <td>0.424534</td>\n",
              "      <td>0.732376</td>\n",
              "      <td>-0.032030</td>\n",
              "    </tr>\n",
              "    <tr>\n",
              "      <th>2022Q2</th>\n",
              "      <td>-0.007874</td>\n",
              "      <td>0.702836</td>\n",
              "      <td>0.150767</td>\n",
              "      <td>0.119614</td>\n",
              "    </tr>\n",
              "    <tr>\n",
              "      <th>2022Q3</th>\n",
              "      <td>-0.378947</td>\n",
              "      <td>-1.590003</td>\n",
              "      <td>-0.267437</td>\n",
              "      <td>-0.027868</td>\n",
              "    </tr>\n",
              "    <tr>\n",
              "      <th>2022Q4</th>\n",
              "      <td>-0.065414</td>\n",
              "      <td>0.247193</td>\n",
              "      <td>0.680016</td>\n",
              "      <td>0.644489</td>\n",
              "    </tr>\n",
              "  </tbody>\n",
              "</table>\n",
              "</div>\n",
              "      <button class=\"colab-df-convert\" onclick=\"convertToInteractive('df-f00efd5e-c770-47bc-a695-3c0381c9548c')\"\n",
              "              title=\"Convert this dataframe to an interactive table.\"\n",
              "              style=\"display:none;\">\n",
              "        \n",
              "  <svg xmlns=\"http://www.w3.org/2000/svg\" height=\"24px\"viewBox=\"0 0 24 24\"\n",
              "       width=\"24px\">\n",
              "    <path d=\"M0 0h24v24H0V0z\" fill=\"none\"/>\n",
              "    <path d=\"M18.56 5.44l.94 2.06.94-2.06 2.06-.94-2.06-.94-.94-2.06-.94 2.06-2.06.94zm-11 1L8.5 8.5l.94-2.06 2.06-.94-2.06-.94L8.5 2.5l-.94 2.06-2.06.94zm10 10l.94 2.06.94-2.06 2.06-.94-2.06-.94-.94-2.06-.94 2.06-2.06.94z\"/><path d=\"M17.41 7.96l-1.37-1.37c-.4-.4-.92-.59-1.43-.59-.52 0-1.04.2-1.43.59L10.3 9.45l-7.72 7.72c-.78.78-.78 2.05 0 2.83L4 21.41c.39.39.9.59 1.41.59.51 0 1.02-.2 1.41-.59l7.78-7.78 2.81-2.81c.8-.78.8-2.07 0-2.86zM5.41 20L4 18.59l7.72-7.72 1.47 1.35L5.41 20z\"/>\n",
              "  </svg>\n",
              "      </button>\n",
              "      \n",
              "  <style>\n",
              "    .colab-df-container {\n",
              "      display:flex;\n",
              "      flex-wrap:wrap;\n",
              "      gap: 12px;\n",
              "    }\n",
              "\n",
              "    .colab-df-convert {\n",
              "      background-color: #E8F0FE;\n",
              "      border: none;\n",
              "      border-radius: 50%;\n",
              "      cursor: pointer;\n",
              "      display: none;\n",
              "      fill: #1967D2;\n",
              "      height: 32px;\n",
              "      padding: 0 0 0 0;\n",
              "      width: 32px;\n",
              "    }\n",
              "\n",
              "    .colab-df-convert:hover {\n",
              "      background-color: #E2EBFA;\n",
              "      box-shadow: 0px 1px 2px rgba(60, 64, 67, 0.3), 0px 1px 3px 1px rgba(60, 64, 67, 0.15);\n",
              "      fill: #174EA6;\n",
              "    }\n",
              "\n",
              "    [theme=dark] .colab-df-convert {\n",
              "      background-color: #3B4455;\n",
              "      fill: #D2E3FC;\n",
              "    }\n",
              "\n",
              "    [theme=dark] .colab-df-convert:hover {\n",
              "      background-color: #434B5C;\n",
              "      box-shadow: 0px 1px 3px 1px rgba(0, 0, 0, 0.15);\n",
              "      filter: drop-shadow(0px 1px 2px rgba(0, 0, 0, 0.3));\n",
              "      fill: #FFFFFF;\n",
              "    }\n",
              "  </style>\n",
              "\n",
              "      <script>\n",
              "        const buttonEl =\n",
              "          document.querySelector('#df-f00efd5e-c770-47bc-a695-3c0381c9548c button.colab-df-convert');\n",
              "        buttonEl.style.display =\n",
              "          google.colab.kernel.accessAllowed ? 'block' : 'none';\n",
              "\n",
              "        async function convertToInteractive(key) {\n",
              "          const element = document.querySelector('#df-f00efd5e-c770-47bc-a695-3c0381c9548c');\n",
              "          const dataTable =\n",
              "            await google.colab.kernel.invokeFunction('convertToInteractive',\n",
              "                                                     [key], {});\n",
              "          if (!dataTable) return;\n",
              "\n",
              "          const docLinkHtml = 'Like what you see? Visit the ' +\n",
              "            '<a target=\"_blank\" href=https://colab.research.google.com/notebooks/data_table.ipynb>data table notebook</a>'\n",
              "            + ' to learn more about interactive tables.';\n",
              "          element.innerHTML = '';\n",
              "          dataTable['output_type'] = 'display_data';\n",
              "          await google.colab.output.renderOutput(dataTable, element);\n",
              "          const docLink = document.createElement('div');\n",
              "          docLink.innerHTML = docLinkHtml;\n",
              "          element.appendChild(docLink);\n",
              "        }\n",
              "      </script>\n",
              "    </div>\n",
              "  </div>\n",
              "  "
            ]
          },
          "metadata": {},
          "execution_count": 65
        }
      ]
    },
    {
      "cell_type": "code",
      "source": [
        "annual_df = df.resample('A-DEC').mean()\n",
        "annual_df"
      ],
      "metadata": {
        "colab": {
          "base_uri": "https://localhost:8080/",
          "height": 112
        },
        "id": "MQ7i3iywBvOD",
        "outputId": "43739056-3439-441a-cb63-0aeec1825242"
      },
      "execution_count": 66,
      "outputs": [
        {
          "output_type": "execute_result",
          "data": {
            "text/plain": [
              "            서울       광주        부산        대구\n",
              "2021 -0.553117  0.21439 -0.203799 -0.161581\n",
              "2022 -0.035380 -0.05386  0.323930  0.176051"
            ],
            "text/html": [
              "\n",
              "  <div id=\"df-07b54eaa-e3e7-4bf8-a133-447a22cde6f9\">\n",
              "    <div class=\"colab-df-container\">\n",
              "      <div>\n",
              "<style scoped>\n",
              "    .dataframe tbody tr th:only-of-type {\n",
              "        vertical-align: middle;\n",
              "    }\n",
              "\n",
              "    .dataframe tbody tr th {\n",
              "        vertical-align: top;\n",
              "    }\n",
              "\n",
              "    .dataframe thead th {\n",
              "        text-align: right;\n",
              "    }\n",
              "</style>\n",
              "<table border=\"1\" class=\"dataframe\">\n",
              "  <thead>\n",
              "    <tr style=\"text-align: right;\">\n",
              "      <th></th>\n",
              "      <th>서울</th>\n",
              "      <th>광주</th>\n",
              "      <th>부산</th>\n",
              "      <th>대구</th>\n",
              "    </tr>\n",
              "  </thead>\n",
              "  <tbody>\n",
              "    <tr>\n",
              "      <th>2021</th>\n",
              "      <td>-0.553117</td>\n",
              "      <td>0.21439</td>\n",
              "      <td>-0.203799</td>\n",
              "      <td>-0.161581</td>\n",
              "    </tr>\n",
              "    <tr>\n",
              "      <th>2022</th>\n",
              "      <td>-0.035380</td>\n",
              "      <td>-0.05386</td>\n",
              "      <td>0.323930</td>\n",
              "      <td>0.176051</td>\n",
              "    </tr>\n",
              "  </tbody>\n",
              "</table>\n",
              "</div>\n",
              "      <button class=\"colab-df-convert\" onclick=\"convertToInteractive('df-07b54eaa-e3e7-4bf8-a133-447a22cde6f9')\"\n",
              "              title=\"Convert this dataframe to an interactive table.\"\n",
              "              style=\"display:none;\">\n",
              "        \n",
              "  <svg xmlns=\"http://www.w3.org/2000/svg\" height=\"24px\"viewBox=\"0 0 24 24\"\n",
              "       width=\"24px\">\n",
              "    <path d=\"M0 0h24v24H0V0z\" fill=\"none\"/>\n",
              "    <path d=\"M18.56 5.44l.94 2.06.94-2.06 2.06-.94-2.06-.94-.94-2.06-.94 2.06-2.06.94zm-11 1L8.5 8.5l.94-2.06 2.06-.94-2.06-.94L8.5 2.5l-.94 2.06-2.06.94zm10 10l.94 2.06.94-2.06 2.06-.94-2.06-.94-.94-2.06-.94 2.06-2.06.94z\"/><path d=\"M17.41 7.96l-1.37-1.37c-.4-.4-.92-.59-1.43-.59-.52 0-1.04.2-1.43.59L10.3 9.45l-7.72 7.72c-.78.78-.78 2.05 0 2.83L4 21.41c.39.39.9.59 1.41.59.51 0 1.02-.2 1.41-.59l7.78-7.78 2.81-2.81c.8-.78.8-2.07 0-2.86zM5.41 20L4 18.59l7.72-7.72 1.47 1.35L5.41 20z\"/>\n",
              "  </svg>\n",
              "      </button>\n",
              "      \n",
              "  <style>\n",
              "    .colab-df-container {\n",
              "      display:flex;\n",
              "      flex-wrap:wrap;\n",
              "      gap: 12px;\n",
              "    }\n",
              "\n",
              "    .colab-df-convert {\n",
              "      background-color: #E8F0FE;\n",
              "      border: none;\n",
              "      border-radius: 50%;\n",
              "      cursor: pointer;\n",
              "      display: none;\n",
              "      fill: #1967D2;\n",
              "      height: 32px;\n",
              "      padding: 0 0 0 0;\n",
              "      width: 32px;\n",
              "    }\n",
              "\n",
              "    .colab-df-convert:hover {\n",
              "      background-color: #E2EBFA;\n",
              "      box-shadow: 0px 1px 2px rgba(60, 64, 67, 0.3), 0px 1px 3px 1px rgba(60, 64, 67, 0.15);\n",
              "      fill: #174EA6;\n",
              "    }\n",
              "\n",
              "    [theme=dark] .colab-df-convert {\n",
              "      background-color: #3B4455;\n",
              "      fill: #D2E3FC;\n",
              "    }\n",
              "\n",
              "    [theme=dark] .colab-df-convert:hover {\n",
              "      background-color: #434B5C;\n",
              "      box-shadow: 0px 1px 3px 1px rgba(0, 0, 0, 0.15);\n",
              "      filter: drop-shadow(0px 1px 2px rgba(0, 0, 0, 0.3));\n",
              "      fill: #FFFFFF;\n",
              "    }\n",
              "  </style>\n",
              "\n",
              "      <script>\n",
              "        const buttonEl =\n",
              "          document.querySelector('#df-07b54eaa-e3e7-4bf8-a133-447a22cde6f9 button.colab-df-convert');\n",
              "        buttonEl.style.display =\n",
              "          google.colab.kernel.accessAllowed ? 'block' : 'none';\n",
              "\n",
              "        async function convertToInteractive(key) {\n",
              "          const element = document.querySelector('#df-07b54eaa-e3e7-4bf8-a133-447a22cde6f9');\n",
              "          const dataTable =\n",
              "            await google.colab.kernel.invokeFunction('convertToInteractive',\n",
              "                                                     [key], {});\n",
              "          if (!dataTable) return;\n",
              "\n",
              "          const docLinkHtml = 'Like what you see? Visit the ' +\n",
              "            '<a target=\"_blank\" href=https://colab.research.google.com/notebooks/data_table.ipynb>data table notebook</a>'\n",
              "            + ' to learn more about interactive tables.';\n",
              "          element.innerHTML = '';\n",
              "          dataTable['output_type'] = 'display_data';\n",
              "          await google.colab.output.renderOutput(dataTable, element);\n",
              "          const docLink = document.createElement('div');\n",
              "          docLink.innerHTML = docLinkHtml;\n",
              "          element.appendChild(docLink);\n",
              "        }\n",
              "      </script>\n",
              "    </div>\n",
              "  </div>\n",
              "  "
            ]
          },
          "metadata": {},
          "execution_count": 66
        }
      ]
    },
    {
      "cell_type": "code",
      "source": [
        "annual_df.resample('Q-DEC').ffill()"
      ],
      "metadata": {
        "colab": {
          "base_uri": "https://localhost:8080/",
          "height": 300
        },
        "id": "dwFOGzwtB3wl",
        "outputId": "8bac3980-ddae-4cbd-dc39-8d01a15089d2"
      },
      "execution_count": 67,
      "outputs": [
        {
          "output_type": "execute_result",
          "data": {
            "text/plain": [
              "              서울       광주        부산        대구\n",
              "2021Q1 -0.553117  0.21439 -0.203799 -0.161581\n",
              "2021Q2 -0.553117  0.21439 -0.203799 -0.161581\n",
              "2021Q3 -0.553117  0.21439 -0.203799 -0.161581\n",
              "2021Q4 -0.553117  0.21439 -0.203799 -0.161581\n",
              "2022Q1 -0.035380 -0.05386  0.323930  0.176051\n",
              "2022Q2 -0.035380 -0.05386  0.323930  0.176051\n",
              "2022Q3 -0.035380 -0.05386  0.323930  0.176051\n",
              "2022Q4 -0.035380 -0.05386  0.323930  0.176051"
            ],
            "text/html": [
              "\n",
              "  <div id=\"df-3dec2ccc-df51-40a6-8f05-6ea3c93fb803\">\n",
              "    <div class=\"colab-df-container\">\n",
              "      <div>\n",
              "<style scoped>\n",
              "    .dataframe tbody tr th:only-of-type {\n",
              "        vertical-align: middle;\n",
              "    }\n",
              "\n",
              "    .dataframe tbody tr th {\n",
              "        vertical-align: top;\n",
              "    }\n",
              "\n",
              "    .dataframe thead th {\n",
              "        text-align: right;\n",
              "    }\n",
              "</style>\n",
              "<table border=\"1\" class=\"dataframe\">\n",
              "  <thead>\n",
              "    <tr style=\"text-align: right;\">\n",
              "      <th></th>\n",
              "      <th>서울</th>\n",
              "      <th>광주</th>\n",
              "      <th>부산</th>\n",
              "      <th>대구</th>\n",
              "    </tr>\n",
              "  </thead>\n",
              "  <tbody>\n",
              "    <tr>\n",
              "      <th>2021Q1</th>\n",
              "      <td>-0.553117</td>\n",
              "      <td>0.21439</td>\n",
              "      <td>-0.203799</td>\n",
              "      <td>-0.161581</td>\n",
              "    </tr>\n",
              "    <tr>\n",
              "      <th>2021Q2</th>\n",
              "      <td>-0.553117</td>\n",
              "      <td>0.21439</td>\n",
              "      <td>-0.203799</td>\n",
              "      <td>-0.161581</td>\n",
              "    </tr>\n",
              "    <tr>\n",
              "      <th>2021Q3</th>\n",
              "      <td>-0.553117</td>\n",
              "      <td>0.21439</td>\n",
              "      <td>-0.203799</td>\n",
              "      <td>-0.161581</td>\n",
              "    </tr>\n",
              "    <tr>\n",
              "      <th>2021Q4</th>\n",
              "      <td>-0.553117</td>\n",
              "      <td>0.21439</td>\n",
              "      <td>-0.203799</td>\n",
              "      <td>-0.161581</td>\n",
              "    </tr>\n",
              "    <tr>\n",
              "      <th>2022Q1</th>\n",
              "      <td>-0.035380</td>\n",
              "      <td>-0.05386</td>\n",
              "      <td>0.323930</td>\n",
              "      <td>0.176051</td>\n",
              "    </tr>\n",
              "    <tr>\n",
              "      <th>2022Q2</th>\n",
              "      <td>-0.035380</td>\n",
              "      <td>-0.05386</td>\n",
              "      <td>0.323930</td>\n",
              "      <td>0.176051</td>\n",
              "    </tr>\n",
              "    <tr>\n",
              "      <th>2022Q3</th>\n",
              "      <td>-0.035380</td>\n",
              "      <td>-0.05386</td>\n",
              "      <td>0.323930</td>\n",
              "      <td>0.176051</td>\n",
              "    </tr>\n",
              "    <tr>\n",
              "      <th>2022Q4</th>\n",
              "      <td>-0.035380</td>\n",
              "      <td>-0.05386</td>\n",
              "      <td>0.323930</td>\n",
              "      <td>0.176051</td>\n",
              "    </tr>\n",
              "  </tbody>\n",
              "</table>\n",
              "</div>\n",
              "      <button class=\"colab-df-convert\" onclick=\"convertToInteractive('df-3dec2ccc-df51-40a6-8f05-6ea3c93fb803')\"\n",
              "              title=\"Convert this dataframe to an interactive table.\"\n",
              "              style=\"display:none;\">\n",
              "        \n",
              "  <svg xmlns=\"http://www.w3.org/2000/svg\" height=\"24px\"viewBox=\"0 0 24 24\"\n",
              "       width=\"24px\">\n",
              "    <path d=\"M0 0h24v24H0V0z\" fill=\"none\"/>\n",
              "    <path d=\"M18.56 5.44l.94 2.06.94-2.06 2.06-.94-2.06-.94-.94-2.06-.94 2.06-2.06.94zm-11 1L8.5 8.5l.94-2.06 2.06-.94-2.06-.94L8.5 2.5l-.94 2.06-2.06.94zm10 10l.94 2.06.94-2.06 2.06-.94-2.06-.94-.94-2.06-.94 2.06-2.06.94z\"/><path d=\"M17.41 7.96l-1.37-1.37c-.4-.4-.92-.59-1.43-.59-.52 0-1.04.2-1.43.59L10.3 9.45l-7.72 7.72c-.78.78-.78 2.05 0 2.83L4 21.41c.39.39.9.59 1.41.59.51 0 1.02-.2 1.41-.59l7.78-7.78 2.81-2.81c.8-.78.8-2.07 0-2.86zM5.41 20L4 18.59l7.72-7.72 1.47 1.35L5.41 20z\"/>\n",
              "  </svg>\n",
              "      </button>\n",
              "      \n",
              "  <style>\n",
              "    .colab-df-container {\n",
              "      display:flex;\n",
              "      flex-wrap:wrap;\n",
              "      gap: 12px;\n",
              "    }\n",
              "\n",
              "    .colab-df-convert {\n",
              "      background-color: #E8F0FE;\n",
              "      border: none;\n",
              "      border-radius: 50%;\n",
              "      cursor: pointer;\n",
              "      display: none;\n",
              "      fill: #1967D2;\n",
              "      height: 32px;\n",
              "      padding: 0 0 0 0;\n",
              "      width: 32px;\n",
              "    }\n",
              "\n",
              "    .colab-df-convert:hover {\n",
              "      background-color: #E2EBFA;\n",
              "      box-shadow: 0px 1px 2px rgba(60, 64, 67, 0.3), 0px 1px 3px 1px rgba(60, 64, 67, 0.15);\n",
              "      fill: #174EA6;\n",
              "    }\n",
              "\n",
              "    [theme=dark] .colab-df-convert {\n",
              "      background-color: #3B4455;\n",
              "      fill: #D2E3FC;\n",
              "    }\n",
              "\n",
              "    [theme=dark] .colab-df-convert:hover {\n",
              "      background-color: #434B5C;\n",
              "      box-shadow: 0px 1px 3px 1px rgba(0, 0, 0, 0.15);\n",
              "      filter: drop-shadow(0px 1px 2px rgba(0, 0, 0, 0.3));\n",
              "      fill: #FFFFFF;\n",
              "    }\n",
              "  </style>\n",
              "\n",
              "      <script>\n",
              "        const buttonEl =\n",
              "          document.querySelector('#df-3dec2ccc-df51-40a6-8f05-6ea3c93fb803 button.colab-df-convert');\n",
              "        buttonEl.style.display =\n",
              "          google.colab.kernel.accessAllowed ? 'block' : 'none';\n",
              "\n",
              "        async function convertToInteractive(key) {\n",
              "          const element = document.querySelector('#df-3dec2ccc-df51-40a6-8f05-6ea3c93fb803');\n",
              "          const dataTable =\n",
              "            await google.colab.kernel.invokeFunction('convertToInteractive',\n",
              "                                                     [key], {});\n",
              "          if (!dataTable) return;\n",
              "\n",
              "          const docLinkHtml = 'Like what you see? Visit the ' +\n",
              "            '<a target=\"_blank\" href=https://colab.research.google.com/notebooks/data_table.ipynb>data table notebook</a>'\n",
              "            + ' to learn more about interactive tables.';\n",
              "          element.innerHTML = '';\n",
              "          dataTable['output_type'] = 'display_data';\n",
              "          await google.colab.output.renderOutput(dataTable, element);\n",
              "          const docLink = document.createElement('div');\n",
              "          docLink.innerHTML = docLinkHtml;\n",
              "          element.appendChild(docLink);\n",
              "        }\n",
              "      </script>\n",
              "    </div>\n",
              "  </div>\n",
              "  "
            ]
          },
          "metadata": {},
          "execution_count": 67
        }
      ]
    },
    {
      "cell_type": "markdown",
      "source": [
        "기간에 대한 업샘플링과 다운샘플링 조건\n",
        "\n",
        "- 다운샘플링의 경우 대상 빈도는 반드시 원본 빈도의 하위 기간이어야 한다\n",
        "- 업샘플링의 경우 대상 빈도는 반드시 원본 빈도의 상위 기간이어야 한다"
      ],
      "metadata": {
        "id": "RrWZgcUPGMHs"
      }
    },
    {
      "cell_type": "markdown",
      "source": [
        "## 이동창 함수 (moving window function)"
      ],
      "metadata": {
        "id": "a22W5xHKTfA-"
      }
    },
    {
      "cell_type": "markdown",
      "source": [
        "## 이동창 함수 (moving window function)\n",
        "\n",
        "- 누락된 데이터로 인해 매끄럽지 않은 시계열 데이터를 매끄럽게 다듬는 방법\n",
        "- 시계열 데이터는 다른 형태의 데이터와는 다른 종류의 분석과 데이터 변형을 요구"
      ],
      "metadata": {
        "id": "NP4MykpgGPk6"
      }
    },
    {
      "cell_type": "code",
      "source": [
        "df = pd.read_csv(drive_path + 'stock_px.csv', index_col=0, parse_dates=True)\n",
        "df.index"
      ],
      "metadata": {
        "id": "qbhs8KQfTp5_",
        "colab": {
          "base_uri": "https://localhost:8080/"
        },
        "outputId": "a3fda52c-9167-4aad-f439-42a3a2e3335e"
      },
      "execution_count": 81,
      "outputs": [
        {
          "output_type": "execute_result",
          "data": {
            "text/plain": [
              "DatetimeIndex(['2003-01-02', '2003-01-03', '2003-01-06', '2003-01-07',\n",
              "               '2003-01-08', '2003-01-09', '2003-01-10', '2003-01-13',\n",
              "               '2003-01-14', '2003-01-15',\n",
              "               ...\n",
              "               '2011-10-03', '2011-10-04', '2011-10-05', '2011-10-06',\n",
              "               '2011-10-07', '2011-10-10', '2011-10-11', '2011-10-12',\n",
              "               '2011-10-13', '2011-10-14'],\n",
              "              dtype='datetime64[ns]', length=2214, freq=None)"
            ]
          },
          "metadata": {},
          "execution_count": 81
        }
      ]
    },
    {
      "cell_type": "code",
      "source": [
        "# 애플, 마이크로소프트, 엑슨모빌(석유회사), S&P 500 지수 (500대 대형기업)\n",
        "df.head()"
      ],
      "metadata": {
        "colab": {
          "base_uri": "https://localhost:8080/",
          "height": 206
        },
        "id": "7adnuVRMHAsD",
        "outputId": "9186e08a-677b-4dc3-d2d4-b54162446f32"
      },
      "execution_count": 82,
      "outputs": [
        {
          "output_type": "execute_result",
          "data": {
            "text/plain": [
              "            AAPL   MSFT    XOM     SPX\n",
              "2003-01-02  7.40  21.11  29.22  909.03\n",
              "2003-01-03  7.45  21.14  29.24  908.59\n",
              "2003-01-06  7.45  21.52  29.96  929.01\n",
              "2003-01-07  7.43  21.93  28.95  922.93\n",
              "2003-01-08  7.28  21.31  28.83  909.93"
            ],
            "text/html": [
              "\n",
              "  <div id=\"df-c66830b2-4033-438b-b2a2-18ac018cdb6b\">\n",
              "    <div class=\"colab-df-container\">\n",
              "      <div>\n",
              "<style scoped>\n",
              "    .dataframe tbody tr th:only-of-type {\n",
              "        vertical-align: middle;\n",
              "    }\n",
              "\n",
              "    .dataframe tbody tr th {\n",
              "        vertical-align: top;\n",
              "    }\n",
              "\n",
              "    .dataframe thead th {\n",
              "        text-align: right;\n",
              "    }\n",
              "</style>\n",
              "<table border=\"1\" class=\"dataframe\">\n",
              "  <thead>\n",
              "    <tr style=\"text-align: right;\">\n",
              "      <th></th>\n",
              "      <th>AAPL</th>\n",
              "      <th>MSFT</th>\n",
              "      <th>XOM</th>\n",
              "      <th>SPX</th>\n",
              "    </tr>\n",
              "  </thead>\n",
              "  <tbody>\n",
              "    <tr>\n",
              "      <th>2003-01-02</th>\n",
              "      <td>7.40</td>\n",
              "      <td>21.11</td>\n",
              "      <td>29.22</td>\n",
              "      <td>909.03</td>\n",
              "    </tr>\n",
              "    <tr>\n",
              "      <th>2003-01-03</th>\n",
              "      <td>7.45</td>\n",
              "      <td>21.14</td>\n",
              "      <td>29.24</td>\n",
              "      <td>908.59</td>\n",
              "    </tr>\n",
              "    <tr>\n",
              "      <th>2003-01-06</th>\n",
              "      <td>7.45</td>\n",
              "      <td>21.52</td>\n",
              "      <td>29.96</td>\n",
              "      <td>929.01</td>\n",
              "    </tr>\n",
              "    <tr>\n",
              "      <th>2003-01-07</th>\n",
              "      <td>7.43</td>\n",
              "      <td>21.93</td>\n",
              "      <td>28.95</td>\n",
              "      <td>922.93</td>\n",
              "    </tr>\n",
              "    <tr>\n",
              "      <th>2003-01-08</th>\n",
              "      <td>7.28</td>\n",
              "      <td>21.31</td>\n",
              "      <td>28.83</td>\n",
              "      <td>909.93</td>\n",
              "    </tr>\n",
              "  </tbody>\n",
              "</table>\n",
              "</div>\n",
              "      <button class=\"colab-df-convert\" onclick=\"convertToInteractive('df-c66830b2-4033-438b-b2a2-18ac018cdb6b')\"\n",
              "              title=\"Convert this dataframe to an interactive table.\"\n",
              "              style=\"display:none;\">\n",
              "        \n",
              "  <svg xmlns=\"http://www.w3.org/2000/svg\" height=\"24px\"viewBox=\"0 0 24 24\"\n",
              "       width=\"24px\">\n",
              "    <path d=\"M0 0h24v24H0V0z\" fill=\"none\"/>\n",
              "    <path d=\"M18.56 5.44l.94 2.06.94-2.06 2.06-.94-2.06-.94-.94-2.06-.94 2.06-2.06.94zm-11 1L8.5 8.5l.94-2.06 2.06-.94-2.06-.94L8.5 2.5l-.94 2.06-2.06.94zm10 10l.94 2.06.94-2.06 2.06-.94-2.06-.94-.94-2.06-.94 2.06-2.06.94z\"/><path d=\"M17.41 7.96l-1.37-1.37c-.4-.4-.92-.59-1.43-.59-.52 0-1.04.2-1.43.59L10.3 9.45l-7.72 7.72c-.78.78-.78 2.05 0 2.83L4 21.41c.39.39.9.59 1.41.59.51 0 1.02-.2 1.41-.59l7.78-7.78 2.81-2.81c.8-.78.8-2.07 0-2.86zM5.41 20L4 18.59l7.72-7.72 1.47 1.35L5.41 20z\"/>\n",
              "  </svg>\n",
              "      </button>\n",
              "      \n",
              "  <style>\n",
              "    .colab-df-container {\n",
              "      display:flex;\n",
              "      flex-wrap:wrap;\n",
              "      gap: 12px;\n",
              "    }\n",
              "\n",
              "    .colab-df-convert {\n",
              "      background-color: #E8F0FE;\n",
              "      border: none;\n",
              "      border-radius: 50%;\n",
              "      cursor: pointer;\n",
              "      display: none;\n",
              "      fill: #1967D2;\n",
              "      height: 32px;\n",
              "      padding: 0 0 0 0;\n",
              "      width: 32px;\n",
              "    }\n",
              "\n",
              "    .colab-df-convert:hover {\n",
              "      background-color: #E2EBFA;\n",
              "      box-shadow: 0px 1px 2px rgba(60, 64, 67, 0.3), 0px 1px 3px 1px rgba(60, 64, 67, 0.15);\n",
              "      fill: #174EA6;\n",
              "    }\n",
              "\n",
              "    [theme=dark] .colab-df-convert {\n",
              "      background-color: #3B4455;\n",
              "      fill: #D2E3FC;\n",
              "    }\n",
              "\n",
              "    [theme=dark] .colab-df-convert:hover {\n",
              "      background-color: #434B5C;\n",
              "      box-shadow: 0px 1px 3px 1px rgba(0, 0, 0, 0.15);\n",
              "      filter: drop-shadow(0px 1px 2px rgba(0, 0, 0, 0.3));\n",
              "      fill: #FFFFFF;\n",
              "    }\n",
              "  </style>\n",
              "\n",
              "      <script>\n",
              "        const buttonEl =\n",
              "          document.querySelector('#df-c66830b2-4033-438b-b2a2-18ac018cdb6b button.colab-df-convert');\n",
              "        buttonEl.style.display =\n",
              "          google.colab.kernel.accessAllowed ? 'block' : 'none';\n",
              "\n",
              "        async function convertToInteractive(key) {\n",
              "          const element = document.querySelector('#df-c66830b2-4033-438b-b2a2-18ac018cdb6b');\n",
              "          const dataTable =\n",
              "            await google.colab.kernel.invokeFunction('convertToInteractive',\n",
              "                                                     [key], {});\n",
              "          if (!dataTable) return;\n",
              "\n",
              "          const docLinkHtml = 'Like what you see? Visit the ' +\n",
              "            '<a target=\"_blank\" href=https://colab.research.google.com/notebooks/data_table.ipynb>data table notebook</a>'\n",
              "            + ' to learn more about interactive tables.';\n",
              "          element.innerHTML = '';\n",
              "          dataTable['output_type'] = 'display_data';\n",
              "          await google.colab.output.renderOutput(dataTable, element);\n",
              "          const docLink = document.createElement('div');\n",
              "          docLink.innerHTML = docLinkHtml;\n",
              "          element.appendChild(docLink);\n",
              "        }\n",
              "      </script>\n",
              "    </div>\n",
              "  </div>\n",
              "  "
            ]
          },
          "metadata": {},
          "execution_count": 82
        }
      ]
    },
    {
      "cell_type": "code",
      "source": [
        "df.info()"
      ],
      "metadata": {
        "colab": {
          "base_uri": "https://localhost:8080/"
        },
        "id": "O45K9kFoIGGX",
        "outputId": "e78e7487-adb5-45aa-ffa3-5e3798c36d3c"
      },
      "execution_count": 83,
      "outputs": [
        {
          "output_type": "stream",
          "name": "stdout",
          "text": [
            "<class 'pandas.core.frame.DataFrame'>\n",
            "DatetimeIndex: 2214 entries, 2003-01-02 to 2011-10-14\n",
            "Data columns (total 4 columns):\n",
            " #   Column  Non-Null Count  Dtype  \n",
            "---  ------  --------------  -----  \n",
            " 0   AAPL    2214 non-null   float64\n",
            " 1   MSFT    2214 non-null   float64\n",
            " 2   XOM     2214 non-null   float64\n",
            " 3   SPX     2214 non-null   float64\n",
            "dtypes: float64(4)\n",
            "memory usage: 86.5 KB\n"
          ]
        }
      ]
    },
    {
      "cell_type": "code",
      "source": [
        "df[ ['AAPL','MSFT','XOM'] ]\n",
        "df.loc[:, 'AAPL':'XOM']\n",
        "df.iloc[:, :-1]\n",
        "\n",
        "df = df.iloc[:, :-1]\n",
        "df.head(3)"
      ],
      "metadata": {
        "colab": {
          "base_uri": "https://localhost:8080/",
          "height": 143
        },
        "id": "ecNBDuoZIH5I",
        "outputId": "75473ebb-608a-42e7-97cb-4dff913c12a4"
      },
      "execution_count": 85,
      "outputs": [
        {
          "output_type": "execute_result",
          "data": {
            "text/plain": [
              "            AAPL   MSFT    XOM\n",
              "2003-01-02  7.40  21.11  29.22\n",
              "2003-01-03  7.45  21.14  29.24\n",
              "2003-01-06  7.45  21.52  29.96"
            ],
            "text/html": [
              "\n",
              "  <div id=\"df-a5a9fe45-d6bc-4b8c-9152-5b77a541953c\">\n",
              "    <div class=\"colab-df-container\">\n",
              "      <div>\n",
              "<style scoped>\n",
              "    .dataframe tbody tr th:only-of-type {\n",
              "        vertical-align: middle;\n",
              "    }\n",
              "\n",
              "    .dataframe tbody tr th {\n",
              "        vertical-align: top;\n",
              "    }\n",
              "\n",
              "    .dataframe thead th {\n",
              "        text-align: right;\n",
              "    }\n",
              "</style>\n",
              "<table border=\"1\" class=\"dataframe\">\n",
              "  <thead>\n",
              "    <tr style=\"text-align: right;\">\n",
              "      <th></th>\n",
              "      <th>AAPL</th>\n",
              "      <th>MSFT</th>\n",
              "      <th>XOM</th>\n",
              "    </tr>\n",
              "  </thead>\n",
              "  <tbody>\n",
              "    <tr>\n",
              "      <th>2003-01-02</th>\n",
              "      <td>7.40</td>\n",
              "      <td>21.11</td>\n",
              "      <td>29.22</td>\n",
              "    </tr>\n",
              "    <tr>\n",
              "      <th>2003-01-03</th>\n",
              "      <td>7.45</td>\n",
              "      <td>21.14</td>\n",
              "      <td>29.24</td>\n",
              "    </tr>\n",
              "    <tr>\n",
              "      <th>2003-01-06</th>\n",
              "      <td>7.45</td>\n",
              "      <td>21.52</td>\n",
              "      <td>29.96</td>\n",
              "    </tr>\n",
              "  </tbody>\n",
              "</table>\n",
              "</div>\n",
              "      <button class=\"colab-df-convert\" onclick=\"convertToInteractive('df-a5a9fe45-d6bc-4b8c-9152-5b77a541953c')\"\n",
              "              title=\"Convert this dataframe to an interactive table.\"\n",
              "              style=\"display:none;\">\n",
              "        \n",
              "  <svg xmlns=\"http://www.w3.org/2000/svg\" height=\"24px\"viewBox=\"0 0 24 24\"\n",
              "       width=\"24px\">\n",
              "    <path d=\"M0 0h24v24H0V0z\" fill=\"none\"/>\n",
              "    <path d=\"M18.56 5.44l.94 2.06.94-2.06 2.06-.94-2.06-.94-.94-2.06-.94 2.06-2.06.94zm-11 1L8.5 8.5l.94-2.06 2.06-.94-2.06-.94L8.5 2.5l-.94 2.06-2.06.94zm10 10l.94 2.06.94-2.06 2.06-.94-2.06-.94-.94-2.06-.94 2.06-2.06.94z\"/><path d=\"M17.41 7.96l-1.37-1.37c-.4-.4-.92-.59-1.43-.59-.52 0-1.04.2-1.43.59L10.3 9.45l-7.72 7.72c-.78.78-.78 2.05 0 2.83L4 21.41c.39.39.9.59 1.41.59.51 0 1.02-.2 1.41-.59l7.78-7.78 2.81-2.81c.8-.78.8-2.07 0-2.86zM5.41 20L4 18.59l7.72-7.72 1.47 1.35L5.41 20z\"/>\n",
              "  </svg>\n",
              "      </button>\n",
              "      \n",
              "  <style>\n",
              "    .colab-df-container {\n",
              "      display:flex;\n",
              "      flex-wrap:wrap;\n",
              "      gap: 12px;\n",
              "    }\n",
              "\n",
              "    .colab-df-convert {\n",
              "      background-color: #E8F0FE;\n",
              "      border: none;\n",
              "      border-radius: 50%;\n",
              "      cursor: pointer;\n",
              "      display: none;\n",
              "      fill: #1967D2;\n",
              "      height: 32px;\n",
              "      padding: 0 0 0 0;\n",
              "      width: 32px;\n",
              "    }\n",
              "\n",
              "    .colab-df-convert:hover {\n",
              "      background-color: #E2EBFA;\n",
              "      box-shadow: 0px 1px 2px rgba(60, 64, 67, 0.3), 0px 1px 3px 1px rgba(60, 64, 67, 0.15);\n",
              "      fill: #174EA6;\n",
              "    }\n",
              "\n",
              "    [theme=dark] .colab-df-convert {\n",
              "      background-color: #3B4455;\n",
              "      fill: #D2E3FC;\n",
              "    }\n",
              "\n",
              "    [theme=dark] .colab-df-convert:hover {\n",
              "      background-color: #434B5C;\n",
              "      box-shadow: 0px 1px 3px 1px rgba(0, 0, 0, 0.15);\n",
              "      filter: drop-shadow(0px 1px 2px rgba(0, 0, 0, 0.3));\n",
              "      fill: #FFFFFF;\n",
              "    }\n",
              "  </style>\n",
              "\n",
              "      <script>\n",
              "        const buttonEl =\n",
              "          document.querySelector('#df-a5a9fe45-d6bc-4b8c-9152-5b77a541953c button.colab-df-convert');\n",
              "        buttonEl.style.display =\n",
              "          google.colab.kernel.accessAllowed ? 'block' : 'none';\n",
              "\n",
              "        async function convertToInteractive(key) {\n",
              "          const element = document.querySelector('#df-a5a9fe45-d6bc-4b8c-9152-5b77a541953c');\n",
              "          const dataTable =\n",
              "            await google.colab.kernel.invokeFunction('convertToInteractive',\n",
              "                                                     [key], {});\n",
              "          if (!dataTable) return;\n",
              "\n",
              "          const docLinkHtml = 'Like what you see? Visit the ' +\n",
              "            '<a target=\"_blank\" href=https://colab.research.google.com/notebooks/data_table.ipynb>data table notebook</a>'\n",
              "            + ' to learn more about interactive tables.';\n",
              "          element.innerHTML = '';\n",
              "          dataTable['output_type'] = 'display_data';\n",
              "          await google.colab.output.renderOutput(dataTable, element);\n",
              "          const docLink = document.createElement('div');\n",
              "          docLink.innerHTML = docLinkHtml;\n",
              "          element.appendChild(docLink);\n",
              "        }\n",
              "      </script>\n",
              "    </div>\n",
              "  </div>\n",
              "  "
            ]
          },
          "metadata": {},
          "execution_count": 85
        }
      ]
    },
    {
      "cell_type": "code",
      "source": [
        "rdf = df.resample('B').ffill()\n",
        "rdf[:12]"
      ],
      "metadata": {
        "colab": {
          "base_uri": "https://localhost:8080/",
          "height": 425
        },
        "id": "VTyrLZomIpmp",
        "outputId": "35c1c171-d8bc-4c4d-e8c2-18b38de447d0"
      },
      "execution_count": 86,
      "outputs": [
        {
          "output_type": "execute_result",
          "data": {
            "text/plain": [
              "            AAPL   MSFT    XOM\n",
              "2003-01-02  7.40  21.11  29.22\n",
              "2003-01-03  7.45  21.14  29.24\n",
              "2003-01-06  7.45  21.52  29.96\n",
              "2003-01-07  7.43  21.93  28.95\n",
              "2003-01-08  7.28  21.31  28.83\n",
              "2003-01-09  7.34  21.93  29.44\n",
              "2003-01-10  7.36  21.97  29.03\n",
              "2003-01-13  7.32  22.16  28.91\n",
              "2003-01-14  7.30  22.39  29.17\n",
              "2003-01-15  7.22  22.11  28.77\n",
              "2003-01-16  7.31  21.75  28.90\n",
              "2003-01-17  7.05  20.22  28.60"
            ],
            "text/html": [
              "\n",
              "  <div id=\"df-b674a4f3-d84c-4450-8d7d-6daf21575e3a\">\n",
              "    <div class=\"colab-df-container\">\n",
              "      <div>\n",
              "<style scoped>\n",
              "    .dataframe tbody tr th:only-of-type {\n",
              "        vertical-align: middle;\n",
              "    }\n",
              "\n",
              "    .dataframe tbody tr th {\n",
              "        vertical-align: top;\n",
              "    }\n",
              "\n",
              "    .dataframe thead th {\n",
              "        text-align: right;\n",
              "    }\n",
              "</style>\n",
              "<table border=\"1\" class=\"dataframe\">\n",
              "  <thead>\n",
              "    <tr style=\"text-align: right;\">\n",
              "      <th></th>\n",
              "      <th>AAPL</th>\n",
              "      <th>MSFT</th>\n",
              "      <th>XOM</th>\n",
              "    </tr>\n",
              "  </thead>\n",
              "  <tbody>\n",
              "    <tr>\n",
              "      <th>2003-01-02</th>\n",
              "      <td>7.40</td>\n",
              "      <td>21.11</td>\n",
              "      <td>29.22</td>\n",
              "    </tr>\n",
              "    <tr>\n",
              "      <th>2003-01-03</th>\n",
              "      <td>7.45</td>\n",
              "      <td>21.14</td>\n",
              "      <td>29.24</td>\n",
              "    </tr>\n",
              "    <tr>\n",
              "      <th>2003-01-06</th>\n",
              "      <td>7.45</td>\n",
              "      <td>21.52</td>\n",
              "      <td>29.96</td>\n",
              "    </tr>\n",
              "    <tr>\n",
              "      <th>2003-01-07</th>\n",
              "      <td>7.43</td>\n",
              "      <td>21.93</td>\n",
              "      <td>28.95</td>\n",
              "    </tr>\n",
              "    <tr>\n",
              "      <th>2003-01-08</th>\n",
              "      <td>7.28</td>\n",
              "      <td>21.31</td>\n",
              "      <td>28.83</td>\n",
              "    </tr>\n",
              "    <tr>\n",
              "      <th>2003-01-09</th>\n",
              "      <td>7.34</td>\n",
              "      <td>21.93</td>\n",
              "      <td>29.44</td>\n",
              "    </tr>\n",
              "    <tr>\n",
              "      <th>2003-01-10</th>\n",
              "      <td>7.36</td>\n",
              "      <td>21.97</td>\n",
              "      <td>29.03</td>\n",
              "    </tr>\n",
              "    <tr>\n",
              "      <th>2003-01-13</th>\n",
              "      <td>7.32</td>\n",
              "      <td>22.16</td>\n",
              "      <td>28.91</td>\n",
              "    </tr>\n",
              "    <tr>\n",
              "      <th>2003-01-14</th>\n",
              "      <td>7.30</td>\n",
              "      <td>22.39</td>\n",
              "      <td>29.17</td>\n",
              "    </tr>\n",
              "    <tr>\n",
              "      <th>2003-01-15</th>\n",
              "      <td>7.22</td>\n",
              "      <td>22.11</td>\n",
              "      <td>28.77</td>\n",
              "    </tr>\n",
              "    <tr>\n",
              "      <th>2003-01-16</th>\n",
              "      <td>7.31</td>\n",
              "      <td>21.75</td>\n",
              "      <td>28.90</td>\n",
              "    </tr>\n",
              "    <tr>\n",
              "      <th>2003-01-17</th>\n",
              "      <td>7.05</td>\n",
              "      <td>20.22</td>\n",
              "      <td>28.60</td>\n",
              "    </tr>\n",
              "  </tbody>\n",
              "</table>\n",
              "</div>\n",
              "      <button class=\"colab-df-convert\" onclick=\"convertToInteractive('df-b674a4f3-d84c-4450-8d7d-6daf21575e3a')\"\n",
              "              title=\"Convert this dataframe to an interactive table.\"\n",
              "              style=\"display:none;\">\n",
              "        \n",
              "  <svg xmlns=\"http://www.w3.org/2000/svg\" height=\"24px\"viewBox=\"0 0 24 24\"\n",
              "       width=\"24px\">\n",
              "    <path d=\"M0 0h24v24H0V0z\" fill=\"none\"/>\n",
              "    <path d=\"M18.56 5.44l.94 2.06.94-2.06 2.06-.94-2.06-.94-.94-2.06-.94 2.06-2.06.94zm-11 1L8.5 8.5l.94-2.06 2.06-.94-2.06-.94L8.5 2.5l-.94 2.06-2.06.94zm10 10l.94 2.06.94-2.06 2.06-.94-2.06-.94-.94-2.06-.94 2.06-2.06.94z\"/><path d=\"M17.41 7.96l-1.37-1.37c-.4-.4-.92-.59-1.43-.59-.52 0-1.04.2-1.43.59L10.3 9.45l-7.72 7.72c-.78.78-.78 2.05 0 2.83L4 21.41c.39.39.9.59 1.41.59.51 0 1.02-.2 1.41-.59l7.78-7.78 2.81-2.81c.8-.78.8-2.07 0-2.86zM5.41 20L4 18.59l7.72-7.72 1.47 1.35L5.41 20z\"/>\n",
              "  </svg>\n",
              "      </button>\n",
              "      \n",
              "  <style>\n",
              "    .colab-df-container {\n",
              "      display:flex;\n",
              "      flex-wrap:wrap;\n",
              "      gap: 12px;\n",
              "    }\n",
              "\n",
              "    .colab-df-convert {\n",
              "      background-color: #E8F0FE;\n",
              "      border: none;\n",
              "      border-radius: 50%;\n",
              "      cursor: pointer;\n",
              "      display: none;\n",
              "      fill: #1967D2;\n",
              "      height: 32px;\n",
              "      padding: 0 0 0 0;\n",
              "      width: 32px;\n",
              "    }\n",
              "\n",
              "    .colab-df-convert:hover {\n",
              "      background-color: #E2EBFA;\n",
              "      box-shadow: 0px 1px 2px rgba(60, 64, 67, 0.3), 0px 1px 3px 1px rgba(60, 64, 67, 0.15);\n",
              "      fill: #174EA6;\n",
              "    }\n",
              "\n",
              "    [theme=dark] .colab-df-convert {\n",
              "      background-color: #3B4455;\n",
              "      fill: #D2E3FC;\n",
              "    }\n",
              "\n",
              "    [theme=dark] .colab-df-convert:hover {\n",
              "      background-color: #434B5C;\n",
              "      box-shadow: 0px 1px 3px 1px rgba(0, 0, 0, 0.15);\n",
              "      filter: drop-shadow(0px 1px 2px rgba(0, 0, 0, 0.3));\n",
              "      fill: #FFFFFF;\n",
              "    }\n",
              "  </style>\n",
              "\n",
              "      <script>\n",
              "        const buttonEl =\n",
              "          document.querySelector('#df-b674a4f3-d84c-4450-8d7d-6daf21575e3a button.colab-df-convert');\n",
              "        buttonEl.style.display =\n",
              "          google.colab.kernel.accessAllowed ? 'block' : 'none';\n",
              "\n",
              "        async function convertToInteractive(key) {\n",
              "          const element = document.querySelector('#df-b674a4f3-d84c-4450-8d7d-6daf21575e3a');\n",
              "          const dataTable =\n",
              "            await google.colab.kernel.invokeFunction('convertToInteractive',\n",
              "                                                     [key], {});\n",
              "          if (!dataTable) return;\n",
              "\n",
              "          const docLinkHtml = 'Like what you see? Visit the ' +\n",
              "            '<a target=\"_blank\" href=https://colab.research.google.com/notebooks/data_table.ipynb>data table notebook</a>'\n",
              "            + ' to learn more about interactive tables.';\n",
              "          element.innerHTML = '';\n",
              "          dataTable['output_type'] = 'display_data';\n",
              "          await google.colab.output.renderOutput(dataTable, element);\n",
              "          const docLink = document.createElement('div');\n",
              "          docLink.innerHTML = docLinkHtml;\n",
              "          element.appendChild(docLink);\n",
              "        }\n",
              "      </script>\n",
              "    </div>\n",
              "  </div>\n",
              "  "
            ]
          },
          "metadata": {},
          "execution_count": 86
        }
      ]
    },
    {
      "cell_type": "code",
      "source": [
        "# 애플 주가의 250일 이동평균\n",
        "rdf['AAPL'].plot()\n",
        "rdf['AAPL'].rolling(120).mean().plot()"
      ],
      "metadata": {
        "colab": {
          "base_uri": "https://localhost:8080/",
          "height": 283
        },
        "id": "0kBgZS2xJ9Bq",
        "outputId": "ec1a1dec-1fbe-47b5-f0f9-09941d270abf"
      },
      "execution_count": 90,
      "outputs": [
        {
          "output_type": "execute_result",
          "data": {
            "text/plain": [
              "<matplotlib.axes._subplots.AxesSubplot at 0x7f439b62abd0>"
            ]
          },
          "metadata": {},
          "execution_count": 90
        },
        {
          "output_type": "display_data",
          "data": {
            "text/plain": [
              "<Figure size 432x288 with 1 Axes>"
            ],
            "image/png": "[encoded data removed]"
          },
          "metadata": {
            "image/png": {
              "width": 375,
              "height": 248
            },
            "needs_background": "light"
          }
        }
      ]
    },
    {
      "cell_type": "code",
      "source": [
        "# 애플의 250일 일별 수익 표준편차\n",
        "fig, axes = plt.subplots(1, 2, figsize=(10, 3))\n",
        "\n",
        "rdf['AAPL'].rolling(250).std().plot(ax=axes[0])\n",
        "\n",
        "aapl_std250 = rdf['AAPL'].rolling(250, min_periods=10).std()\n",
        "aapl_std250.plot(ax=axes[1])\n",
        "\n",
        "aapl_std250[:12]"
      ],
      "metadata": {
        "colab": {
          "base_uri": "https://localhost:8080/",
          "height": 445
        },
        "id": "UaHJU55NLFGs",
        "outputId": "de2edece-b3b0-4312-98e7-28a39cd69006"
      },
      "execution_count": 99,
      "outputs": [
        {
          "output_type": "execute_result",
          "data": {
            "text/plain": [
              "2003-01-02         NaN\n",
              "2003-01-03         NaN\n",
              "2003-01-06         NaN\n",
              "2003-01-07         NaN\n",
              "2003-01-08         NaN\n",
              "2003-01-09         NaN\n",
              "2003-01-10         NaN\n",
              "2003-01-13         NaN\n",
              "2003-01-14         NaN\n",
              "2003-01-15    0.077496\n",
              "2003-01-16    0.074760\n",
              "2003-01-17    0.112368\n",
              "Freq: B, Name: AAPL, dtype: float64"
            ]
          },
          "metadata": {},
          "execution_count": 99
        },
        {
          "output_type": "display_data",
          "data": {
            "text/plain": [
              "<Figure size 720x216 with 2 Axes>"
            ],
            "image/png": "[encoded data removed]"
          },
          "metadata": {
            "image/png": {
              "width": 592,
              "height": 193
            },
            "needs_background": "light"
          }
        }
      ]
    },
    {
      "cell_type": "markdown",
      "source": [
        "[DataFrame.expanding](https://pandas.pydata.org/docs/reference/api/pandas.DataFrame.expanding.html?highlight=expanding#pandas.DataFrame.expanding)\n",
        "\n",
        "- 확장창 평균: <br>시계열의 시작 지점에서부터 창의 크기가 <br>시계열의 전체 크기가 될 때까지 점점 창의 크기를 늘린다"
      ],
      "metadata": {
        "id": "3M1KGfOFOEnm"
      }
    },
    {
      "cell_type": "code",
      "source": [
        "# 확장창 평균 (Y축 로그스케일)\n",
        "fig, axes = plt.subplots(1, 2, figsize=(10, 3))\n",
        "\n",
        "aapl_std250.expanding().mean().plot(ax=axes[0])\n",
        "aapl_std250.expanding().mean().plot(ax=axes[1], logy=True)"
      ],
      "metadata": {
        "colab": {
          "base_uri": "https://localhost:8080/",
          "height": 228
        },
        "id": "zVHJQjenNmbH",
        "outputId": "5969a169-c1bd-41a2-ec8b-6b128177228f"
      },
      "execution_count": 104,
      "outputs": [
        {
          "output_type": "execute_result",
          "data": {
            "text/plain": [
              "<matplotlib.axes._subplots.AxesSubplot at 0x7f4398a5ed10>"
            ]
          },
          "metadata": {},
          "execution_count": 104
        },
        {
          "output_type": "display_data",
          "data": {
            "text/plain": [
              "<Figure size 720x216 with 2 Axes>"
            ],
            "image/png": "[encoded data removed]"
          },
          "metadata": {
            "image/png": {
              "width": 592,
              "height": 193
            },
            "needs_background": "light"
          }
        }
      ]
    },
    {
      "cell_type": "code",
      "source": [
        "rdf"
      ],
      "metadata": {
        "id": "wW3kaZj9TI8g"
      },
      "execution_count": null,
      "outputs": []
    },
    {
      "cell_type": "code",
      "source": [
        "# 주가의 60일 이동평균 Y축 로그스케일\n",
        "fig, axes = plt.subplots(1, 2, figsize=(10, 3))\n",
        "\n",
        "rdf.rolling(60).mean().plot(ax=axes[0])\n",
        "rdf.rolling(60).mean().plot(ax=axes[1], logy=True)"
      ],
      "metadata": {
        "colab": {
          "base_uri": "https://localhost:8080/",
          "height": 230
        },
        "id": "mzimNRaTTU8t",
        "outputId": "1ee4d282-7098-478f-9da6-33410213eef9"
      },
      "execution_count": 110,
      "outputs": [
        {
          "output_type": "execute_result",
          "data": {
            "text/plain": [
              "<matplotlib.axes._subplots.AxesSubplot at 0x7f439916fdd0>"
            ]
          },
          "metadata": {},
          "execution_count": 110
        },
        {
          "output_type": "display_data",
          "data": {
            "text/plain": [
              "<Figure size 720x216 with 2 Axes>"
            ],
            "image/png": "[encoded data removed]"
          },
          "metadata": {
            "image/png": {
              "width": 598,
              "height": 195
            },
            "needs_background": "light"
          }
        }
      ]
    },
    {
      "cell_type": "code",
      "source": [
        "# rolling 함수에 고정 크기의 기간 지정 문자열을 사용\n",
        "\n",
        "# 위의 그래프보다 앞에 빈 공간이 없어짐\n",
        "# 20일 크기 이동평균\n",
        "rdf.rolling('20D').mean()\n",
        "rdf.rolling('20D').mean().plot(logy=True)"
      ],
      "metadata": {
        "colab": {
          "base_uri": "https://localhost:8080/",
          "height": 283
        },
        "id": "ZXzAx937Umc6",
        "outputId": "caa7f03a-5be7-4e4d-c006-f2cf7a58064c"
      },
      "execution_count": 112,
      "outputs": [
        {
          "output_type": "execute_result",
          "data": {
            "text/plain": [
              "<matplotlib.axes._subplots.AxesSubplot at 0x7f43982e27d0>"
            ]
          },
          "metadata": {},
          "execution_count": 112
        },
        {
          "output_type": "display_data",
          "data": {
            "text/plain": [
              "<Figure size 432x288 with 1 Axes>"
            ],
            "image/png": "[encoded data removed]"
          },
          "metadata": {
            "image/png": {
              "width": 373,
              "height": 248
            },
            "needs_background": "light"
          }
        }
      ]
    },
    {
      "cell_type": "code",
      "source": [
        "# 애플주가 60일 이동평균\n",
        "# 단순 이동평균과 지수가중(EW) 이동평균을 비교\n",
        "aapl_df = rdf['AAPL'][\"2006\":'2007']\n",
        "aapl_df\n",
        "\n",
        "ma60 = aapl_df.rolling(60, min_periods=10).mean()\n",
        "ewma60 = aapl_df.ewm(span=60).mean()\n",
        "\n",
        "ma60.plot(label='SImple MA')\n",
        "ewma60.plot(label ='EW MA', ls='--')\n",
        "plt.legend()"
      ],
      "metadata": {
        "colab": {
          "base_uri": "https://localhost:8080/",
          "height": 294
        },
        "id": "lkv9vVuJV4vC",
        "outputId": "e0df0b28-b478-485e-ce0e-6119ed55cc0b"
      },
      "execution_count": 119,
      "outputs": [
        {
          "output_type": "execute_result",
          "data": {
            "text/plain": [
              "<matplotlib.legend.Legend at 0x7f43983aa910>"
            ]
          },
          "metadata": {},
          "execution_count": 119
        },
        {
          "output_type": "display_data",
          "data": {
            "text/plain": [
              "<Figure size 432x288 with 1 Axes>"
            ],
            "image/png": "[encoded data removed]"
          },
          "metadata": {
            "image/png": {
              "width": 375,
              "height": 259
            },
            "needs_background": "light"
          }
        }
      ]
    },
    {
      "cell_type": "markdown",
      "source": [
        "비교 : 이동창 함수\n",
        "  * 상관관계외 공분산 -> 두 개의 시계열을 필요"
      ],
      "metadata": {
        "id": "QISeRsr0Y5Hp"
      }
    },
    {
      "cell_type": "code",
      "source": [
        "# S&P 500 지수와 비교\n",
        "df = pd.read_csv(drive_path + 'stock_px.csv', index_col=0, parse_dates=True)\n",
        "spx_df = df['SPX']\n",
        "spx_df"
      ],
      "metadata": {
        "colab": {
          "base_uri": "https://localhost:8080/"
        },
        "id": "mAsvNiELY6JV",
        "outputId": "9e227414-e62e-432b-c609-6b63036bd9a2"
      },
      "execution_count": 120,
      "outputs": [
        {
          "output_type": "execute_result",
          "data": {
            "text/plain": [
              "2003-01-02     909.03\n",
              "2003-01-03     908.59\n",
              "2003-01-06     929.01\n",
              "2003-01-07     922.93\n",
              "2003-01-08     909.93\n",
              "               ...   \n",
              "2011-10-10    1194.89\n",
              "2011-10-11    1195.54\n",
              "2011-10-12    1207.25\n",
              "2011-10-13    1203.66\n",
              "2011-10-14    1224.58\n",
              "Name: SPX, Length: 2214, dtype: float64"
            ]
          },
          "metadata": {},
          "execution_count": 120
        }
      ]
    },
    {
      "cell_type": "markdown",
      "source": [
        "[Series.pct_change](https://pandas.pydata.org/docs/reference/api/pandas.Series.pct_change.html?highlight=pct_change#pandas.Series.pct_change)\n",
        "\n",
        "- 현재 요소와 이전 요소 간의 백분율 변경\n",
        "- 기본적으로 바로 이전 행의 백분율 변경을 계산\n",
        "- 요소의 시계열에서 변화의 백분율을 비교할 때 유용"
      ],
      "metadata": {
        "id": "IGbwHaJiZf82"
      }
    },
    {
      "cell_type": "code",
      "source": [
        "# 비교 대상들을 모두 백분율로 변환 (0과 1사이)\n",
        "spx_rets = spx_df.pct_change()\n",
        "rdf_rets = rdf.pct_change()"
      ],
      "metadata": {
        "id": "cSxKj18aZMSY"
      },
      "execution_count": 123,
      "outputs": []
    },
    {
      "cell_type": "code",
      "source": [
        "# 6개월 간의 S&P 500지수와 AAPL 수익 상관관계\n",
        "rdf_rets['AAPL'].rolling(180, min_periods=100).corr(spx_rets).plot()"
      ],
      "metadata": {
        "colab": {
          "base_uri": "https://localhost:8080/",
          "height": 283
        },
        "id": "rywYsC9CZg2y",
        "outputId": "0989023e-c5ac-4fce-a0e0-318375aa5a64"
      },
      "execution_count": 127,
      "outputs": [
        {
          "output_type": "execute_result",
          "data": {
            "text/plain": [
              "<matplotlib.axes._subplots.AxesSubplot at 0x7f439805b350>"
            ]
          },
          "metadata": {},
          "execution_count": 127
        },
        {
          "output_type": "display_data",
          "data": {
            "text/plain": [
              "<Figure size 432x288 with 1 Axes>"
            ],
            "image/png": "[encoded data removed]"
          },
          "metadata": {
            "image/png": {
              "width": 372,
              "height": 248
            },
            "needs_background": "light"
          }
        }
      ]
    },
    {
      "cell_type": "code",
      "source": [
        "rdf_rets['AAPL'].rolling(180, min_periods=100).cov(spx_rets).plot()"
      ],
      "metadata": {
        "colab": {
          "base_uri": "https://localhost:8080/",
          "height": 283
        },
        "id": "k7-BFo_5aj6X",
        "outputId": "c291fffa-07fa-41b9-e0e6-a3e20421ea7e"
      },
      "execution_count": 128,
      "outputs": [
        {
          "output_type": "execute_result",
          "data": {
            "text/plain": [
              "<matplotlib.axes._subplots.AxesSubplot at 0x7f43982e2fd0>"
            ]
          },
          "metadata": {},
          "execution_count": 128
        },
        {
          "output_type": "display_data",
          "data": {
            "text/plain": [
              "<Figure size 432x288 with 1 Axes>"
            ],
            "image/png": "[encoded data removed]"
          },
          "metadata": {
            "image/png": {
              "width": 391,
              "height": 248
            },
            "needs_background": "light"
          }
        }
      ]
    },
    {
      "cell_type": "code",
      "source": [
        "# 여러 주식과 S&P500 지수와의 상관관계를 한번에 계산\n",
        "rdf_rets.rolling(180, min_periods=100).corr(spx_rets).plot()"
      ],
      "metadata": {
        "colab": {
          "base_uri": "https://localhost:8080/",
          "height": 286
        },
        "id": "t0X905Epa0Iv",
        "outputId": "aeab17b9-045f-44ce-ab6b-162bd2fd42d2"
      },
      "execution_count": 131,
      "outputs": [
        {
          "output_type": "execute_result",
          "data": {
            "text/plain": [
              "<matplotlib.axes._subplots.AxesSubplot at 0x7f4397d45410>"
            ]
          },
          "metadata": {},
          "execution_count": 131
        },
        {
          "output_type": "display_data",
          "data": {
            "text/plain": [
              "<Figure size 432x288 with 1 Axes>"
            ],
            "image/png": "[encoded data removed]"
          },
          "metadata": {
            "image/png": {
              "width": 372,
              "height": 251
            },
            "needs_background": "light"
          }
        }
      ]
    },
    {
      "cell_type": "markdown",
      "source": [
        "http://data.krx.co.kr\n",
        "- 한국 거래소가 운영하는 정보데이터시스템\n",
        "- 기업분석, 시장동향 등의 다양한 통계 정보를 제공"
      ],
      "metadata": {
        "id": "DMBsiWE7b5E8"
      }
    }
  ]
}