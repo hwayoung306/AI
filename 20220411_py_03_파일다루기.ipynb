{
  "nbformat": 4,
  "nbformat_minor": 0,
  "metadata": {
    "colab": {
      "name": "20220411_py_03-파일다루기.ipynb",
      "provenance": [],
      "collapsed_sections": [],
      "include_colab_link": true
    },
    "kernelspec": {
      "name": "python3",
      "display_name": "Python 3"
    },
    "language_info": {
      "name": "python"
    }
  },
  "cells": [
    {
      "cell_type": "markdown",
      "metadata": {
        "id": "view-in-github",
        "colab_type": "text"
      },
      "source": [
        "<a href=\"https://colab.research.google.com/github/hwayoung306/AI/blob/main/20220411_py_03_%ED%8C%8C%EC%9D%BC%EB%8B%A4%EB%A3%A8%EA%B8%B0.ipynb\" target=\"_parent\"><img src=\"https://colab.research.google.com/assets/colab-badge.svg\" alt=\"Open In Colab\"/></a>"
      ]
    },
    {
      "cell_type": "code",
      "metadata": {
        "id": "U-CIfalLhI72",
        "colab": {
          "base_uri": "https://localhost:8080/"
        },
        "outputId": "861711c0-1e30-4918-f701-dedf015fba38"
      },
      "source": [
        "# 구글드라이브 연동\n",
        "from google.colab import drive\n",
        "drive.mount('/gdrive', force_remount=True)\n",
        "# 연동할건데 별칭은 /gdrive로 할거야! 최대한 연결할거야"
      ],
      "execution_count": null,
      "outputs": [
        {
          "output_type": "stream",
          "name": "stdout",
          "text": [
            "Mounted at /gdrive\n"
          ]
        }
      ]
    },
    {
      "cell_type": "code",
      "source": [
        "# 구글드라이브 연동 방법 2\n",
        "from google.colab import drive\n",
        "drive.mount('/content/drive')"
      ],
      "metadata": {
        "id": "Xd7LI3TogPW7"
      },
      "execution_count": null,
      "outputs": []
    },
    {
      "cell_type": "code",
      "metadata": {
        "colab": {
          "base_uri": "https://localhost:8080/"
        },
        "id": "vi-4rlILVi5P",
        "outputId": "72d4f019-cd16-48dc-abc3-c13a7d3c625a"
      },
      "source": [
        "!ls '/gdrive'"
      ],
      "execution_count": null,
      "outputs": [
        {
          "output_type": "stream",
          "name": "stdout",
          "text": [
            "MyDrive\n"
          ]
        }
      ]
    },
    {
      "cell_type": "code",
      "metadata": {
        "id": "DE_sCukSUOvQ"
      },
      "source": [
        "# 구글 드라이브 파일 확인\n",
        "!ls '/gdrive/My Drive/temp/'"
      ],
      "execution_count": null,
      "outputs": []
    },
    {
      "cell_type": "code",
      "metadata": {
        "id": "haeacl_gUNPy"
      },
      "source": [
        "# 반복되는 드라이브 경로 변수화\n",
        "drive_path = '/gdrive/My Drive/temp/'"
      ],
      "execution_count": null,
      "outputs": []
    },
    {
      "cell_type": "markdown",
      "metadata": {
        "id": "xAUIvkvSbQ4J"
      },
      "source": [
        "# 파일 다루기 1\n"
      ]
    },
    {
      "cell_type": "markdown",
      "metadata": {
        "id": "cRHR82f9YpBV"
      },
      "source": [
        "## 파일 생성\n",
        "\n",
        "* 쓰기 모드('w')\n",
        "* 추가 모드('a')\n",
        "* 읽기 모드('r')"
      ]
    },
    {
      "cell_type": "code",
      "metadata": {
        "id": "AnhddEBp6r5b"
      },
      "source": [
        "# 쓰기 모드\n",
        "f = open('test.csv','w')\n",
        "f.write('1,2,3,4,5 \\n')\n",
        "# 열고 있는거 닫아줘야 다른 사람이 쓸 수 있음 (IO- input/output 리소스 반환)\n",
        "f.close()"
      ],
      "execution_count": null,
      "outputs": []
    },
    {
      "cell_type": "code",
      "source": [
        "# 내 위치 확인법\n",
        "!pwd"
      ],
      "metadata": {
        "colab": {
          "base_uri": "https://localhost:8080/"
        },
        "id": "c-A6282yjd4D",
        "outputId": "e05898cc-4fe1-443e-ad5d-daa9baf5a285"
      },
      "execution_count": null,
      "outputs": [
        {
          "output_type": "stream",
          "name": "stdout",
          "text": [
            "/content\n"
          ]
        }
      ]
    },
    {
      "cell_type": "code",
      "source": [
        "# 목록\n",
        "!ls"
      ],
      "metadata": {
        "colab": {
          "base_uri": "https://localhost:8080/"
        },
        "id": "T98kYne8js6y",
        "outputId": "6c4504d2-6ebf-4da7-d573-03dda0457b90"
      },
      "execution_count": null,
      "outputs": [
        {
          "output_type": "stream",
          "name": "stdout",
          "text": [
            "sample_data  test.csv\n"
          ]
        }
      ]
    },
    {
      "cell_type": "code",
      "source": [
        "# 들여다보기\n",
        "!cat test.csv"
      ],
      "metadata": {
        "colab": {
          "base_uri": "https://localhost:8080/"
        },
        "id": "i-A1TXVQjtcl",
        "outputId": "078f2c24-04b8-4ae1-aa9c-e5f5a02e3337"
      },
      "execution_count": null,
      "outputs": [
        {
          "output_type": "stream",
          "name": "stdout",
          "text": [
            "1,2,3,4,5 \n"
          ]
        }
      ]
    },
    {
      "cell_type": "code",
      "source": [
        "# with문을 사용하면 자동으로 close됨. as를 쓰면 변수에 넣은 것과 같은 효과\n",
        "with open('test.csv', 'a') as f : # 데이터 추가 모드\n",
        "    f.write('1,2,3,4,5 \\n')\n",
        "    f.write('1,2,3,4,5 \\n')\n",
        "    f.write('1,2,3,4,5 \\n')\n",
        "    f.write('1,2,3,4,5 \\n')"
      ],
      "metadata": {
        "id": "bHFQHaG9jw7C"
      },
      "execution_count": null,
      "outputs": []
    },
    {
      "cell_type": "markdown",
      "metadata": {
        "id": "gjfkx85vSzV8"
      },
      "source": [
        "with문을 사용하면 with 블록을 벗어나는 순간 열린 파일 객체 f가 자동으로 close되어 편리하다.\n",
        "\n"
      ]
    },
    {
      "cell_type": "code",
      "metadata": {
        "id": "5X1FUHow6uQZ",
        "colab": {
          "base_uri": "https://localhost:8080/"
        },
        "outputId": "e48b3dbf-7992-47eb-e025-fc2a1e8192ab"
      },
      "source": [
        "# 들여다보기\n",
        "!cat test.csv"
      ],
      "execution_count": null,
      "outputs": [
        {
          "output_type": "stream",
          "name": "stdout",
          "text": [
            "1,2,3,4,5 \n",
            "1,2,3,4,5 \n",
            "1,2,3,4,5 \n",
            "1,2,3,4,5 \n",
            "1,2,3,4,5 \n"
          ]
        }
      ]
    },
    {
      "cell_type": "code",
      "source": [
        "# 데이터 읽기 모드\n",
        "with open('test.csv', 'r') as f :\n",
        "    for line in f :\n",
        "        # print에는 자동으로 개행 기능이 들어있음\n",
        "        # 우리가 넣은 값에 \\n을 넣었으니까 2번 출력됨\n",
        "        # 이를 막아주기 위해 end = '' 를 사용 (띄어쓰기x)\n",
        "        print(line, end = '')"
      ],
      "metadata": {
        "colab": {
          "base_uri": "https://localhost:8080/"
        },
        "id": "eJd6aH2EkhHh",
        "outputId": "d89717cb-5005-488e-92ab-333dba2d3b7a"
      },
      "execution_count": null,
      "outputs": [
        {
          "output_type": "stream",
          "name": "stdout",
          "text": [
            "1,2,3,4,5 \n",
            "1,2,3,4,5 \n",
            "1,2,3,4,5 \n",
            "1,2,3,4,5 \n",
            "1,2,3,4,5 \n"
          ]
        }
      ]
    },
    {
      "cell_type": "markdown",
      "metadata": {
        "id": "MBpwsDF8YpBp"
      },
      "source": [
        "## 옵션\n",
        "'r'\tOpen a file for reading. (default)  \n",
        "'w'\tOpen a file for writing. Creates a new file if it does not exist or truncates the file if it exists.  \n",
        "'x'\tOpen a file for exclusive creation. If the file already exists, the operation fails.  \n",
        "'a'\tOpen for appending at the end of the file without truncating it.   Creates a new file if it does not exist.\n",
        "'t'\tOpen in text mode. (default)  \n",
        "'b'\tOpen in binary mode.  \n",
        "'+'\tOpen a file for updating (reading and writing)  "
      ]
    },
    {
      "cell_type": "code",
      "metadata": {
        "id": "xfR5flSz6zkS"
      },
      "source": [
        "with open('test2.txt', 'w') as f :\n",
        "    f.write(\"file writer \\n\")\n",
        "    for i in range(1,11) :\n",
        "        data = '%d number \\n'%i\n",
        "        f.write(data)"
      ],
      "execution_count": null,
      "outputs": []
    },
    {
      "cell_type": "code",
      "source": [
        "!cat test2.txt"
      ],
      "metadata": {
        "colab": {
          "base_uri": "https://localhost:8080/"
        },
        "id": "RBxu4StHlsBF",
        "outputId": "dedd75cf-2c09-4191-b10c-3fced614a978"
      },
      "execution_count": null,
      "outputs": [
        {
          "output_type": "stream",
          "name": "stdout",
          "text": [
            "file writer \n",
            "1 number \n",
            "2 number \n",
            "3 number \n",
            "4 number \n",
            "5 number \n",
            "6 number \n",
            "7 number \n",
            "8 number \n",
            "9 number \n",
            "10 number \n"
          ]
        }
      ]
    },
    {
      "cell_type": "markdown",
      "metadata": {
        "id": "oYqZUzKofqae"
      },
      "source": [
        "result.txt 에 평균값을 저장하세요.\n",
        "```\n",
        "평균 값: ....\n",
        "```"
      ]
    },
    {
      "cell_type": "code",
      "source": [
        "with open('sample.csv', 'w') as f :\n",
        "    f.write('70\\n')\n",
        "    f.write('60\\n')\n",
        "    f.write('55\\n')\n",
        "    f.write('75\\n')\n",
        "    f.write('95\\n')\n",
        "    f.write('90\\n')\n",
        "    f.write('80\\n')\n",
        "    f.write('80\\n')\n",
        "    f.write('85\\n')\n",
        "    f.write('100\\n')"
      ],
      "metadata": {
        "id": "1sJIenYVmTx1"
      },
      "execution_count": null,
      "outputs": []
    },
    {
      "cell_type": "code",
      "source": [
        "!cat result.csv"
      ],
      "metadata": {
        "colab": {
          "base_uri": "https://localhost:8080/"
        },
        "id": "fnN6v13Xo9he",
        "outputId": "31b0d0ce-df67-4ef5-9b5d-566986be9bd8"
      },
      "execution_count": null,
      "outputs": [
        {
          "output_type": "stream",
          "name": "stdout",
          "text": [
            "평균 값 : 79.0"
          ]
        }
      ]
    },
    {
      "cell_type": "code",
      "source": [
        "sum = 0\n",
        "count = 0\n",
        "with open('sample.csv', 'r') as f :\n",
        "    for i in f :\n",
        "        sum += int(i)\n",
        "        count += 1\n",
        "\n",
        "avg = sum/count"
      ],
      "metadata": {
        "id": "JITMZQ5ZpJj9"
      },
      "execution_count": null,
      "outputs": []
    },
    {
      "cell_type": "code",
      "source": [
        "with open('result.csv', 'w') as f :\n",
        "    f.write(\"평균 값 : {}\".format(avg))"
      ],
      "metadata": {
        "id": "O_MfJawarIa_"
      },
      "execution_count": null,
      "outputs": []
    },
    {
      "cell_type": "code",
      "source": [
        "!cat sample.csv\n",
        "!cat result.csv"
      ],
      "metadata": {
        "colab": {
          "base_uri": "https://localhost:8080/"
        },
        "id": "tfeT7SlHrvYW",
        "outputId": "b2a9fa42-6933-4ddb-94fc-6176fc7766b2"
      },
      "execution_count": null,
      "outputs": [
        {
          "output_type": "stream",
          "name": "stdout",
          "text": [
            "70\n",
            "60\n",
            "55\n",
            "75\n",
            "95\n",
            "90\n",
            "80\n",
            "80\n",
            "85\n",
            "100\n",
            "평균 값 : 79.0"
          ]
        }
      ]
    },
    {
      "cell_type": "markdown",
      "metadata": {
        "id": "2oCb5lAYYpCN"
      },
      "source": [
        "## 디렉토리"
      ]
    },
    {
      "cell_type": "code",
      "metadata": {
        "id": "JF8qp_VY6-Ck",
        "colab": {
          "base_uri": "https://localhost:8080/",
          "height": 35
        },
        "outputId": "04d63358-f4e1-452b-8b28-7a8a3d1bcc43"
      },
      "source": [
        "# os라는 패키지를 가져오겠다!\n",
        "import os\n",
        "os.getcwd() # 경로 위치를 가져오는 것 == #!pwd"
      ],
      "execution_count": null,
      "outputs": [
        {
          "output_type": "execute_result",
          "data": {
            "text/plain": [
              "'/content'"
            ],
            "application/vnd.google.colaboratory.intrinsic+json": {
              "type": "string"
            }
          },
          "metadata": {},
          "execution_count": 47
        }
      ]
    },
    {
      "cell_type": "code",
      "source": [
        "os.chdir('/content/sample_data') \n",
        "# 내가 있는 위치를 변경하고 싶을 때 경로 변경 == !cd\n",
        "os.getcwd()"
      ],
      "metadata": {
        "colab": {
          "base_uri": "https://localhost:8080/",
          "height": 35
        },
        "id": "iaFlwNJvsgIT",
        "outputId": "9093659d-d502-4211-ae7d-468a7e1bd299"
      },
      "execution_count": null,
      "outputs": [
        {
          "output_type": "execute_result",
          "data": {
            "text/plain": [
              "'/content/sample_data'"
            ],
            "application/vnd.google.colaboratory.intrinsic+json": {
              "type": "string"
            }
          },
          "metadata": {},
          "execution_count": 58
        }
      ]
    },
    {
      "cell_type": "code",
      "source": [
        "os.listdir() #ls"
      ],
      "metadata": {
        "colab": {
          "base_uri": "https://localhost:8080/"
        },
        "id": "6bQAwxGytLzo",
        "outputId": "616fb6e2-cc80-4815-d384-a4213216e2e3"
      },
      "execution_count": null,
      "outputs": [
        {
          "output_type": "execute_result",
          "data": {
            "text/plain": [
              "['README.md',\n",
              " 'anscombe.json',\n",
              " 'mnist_test.csv',\n",
              " 'mnist_train_small.csv',\n",
              " 'california_housing_test.csv',\n",
              " 'california_housing_train.csv']"
            ]
          },
          "metadata": {},
          "execution_count": 59
        }
      ]
    },
    {
      "cell_type": "code",
      "source": [
        "os.chdir('/content') #cd\n",
        "os.getcwd()"
      ],
      "metadata": {
        "colab": {
          "base_uri": "https://localhost:8080/",
          "height": 35
        },
        "id": "-7x90xYotQ-f",
        "outputId": "8497abf9-7275-4dec-fff0-11e5be84ec5f"
      },
      "execution_count": null,
      "outputs": [
        {
          "output_type": "execute_result",
          "data": {
            "text/plain": [
              "'/content'"
            ],
            "application/vnd.google.colaboratory.intrinsic+json": {
              "type": "string"
            }
          },
          "metadata": {},
          "execution_count": 60
        }
      ]
    },
    {
      "cell_type": "code",
      "source": [
        "# 디랙토리 만들기\n",
        "os.mkdir('test') \n",
        "os.listdir()"
      ],
      "metadata": {
        "id": "U4psZrFVuB_j"
      },
      "execution_count": null,
      "outputs": []
    },
    {
      "cell_type": "code",
      "source": [
        "# 전체 리스트가 나온다!\n",
        "!ls -al"
      ],
      "metadata": {
        "colab": {
          "base_uri": "https://localhost:8080/"
        },
        "id": "Pc40BeFftiGd",
        "outputId": "16d7127d-7aa4-4230-9507-ec39646ffd50"
      },
      "execution_count": null,
      "outputs": [
        {
          "output_type": "stream",
          "name": "stdout",
          "text": [
            "total 40\n",
            "drwxr-xr-x 1 root root 4096 Apr 11 08:20 .\n",
            "drwxr-xr-x 1 root root 4096 Apr 11 07:24 ..\n",
            "drwxr-xr-x 4 root root 4096 Mar 23 14:21 .config\n",
            "drwxr-xr-x 2 root root 4096 Apr 11 07:49 .ipynb_checkpoints\n",
            "-rw-r--r-- 1 root root   17 Apr 11 08:13 result.csv\n",
            "-rw-r--r-- 1 root root   31 Apr 11 08:12 sample.csv\n",
            "drwxr-xr-x 1 root root 4096 Mar 23 14:22 sample_data\n",
            "drwxr-xr-x 2 root root 4096 Apr 11 08:20 test\n",
            "-rw-r--r-- 1 root root  114 Apr 11 08:01 test2.txt\n",
            "-rw-r--r-- 1 root root   55 Apr 11 07:39 test.csv\n"
          ]
        }
      ]
    },
    {
      "cell_type": "code",
      "source": [
        "import json"
      ],
      "metadata": {
        "id": "HyOkoROWu81I"
      },
      "execution_count": null,
      "outputs": []
    },
    {
      "cell_type": "code",
      "metadata": {
        "id": "7nETBhZ4YpCr"
      },
      "source": [
        "# json은 python에서처럼 '으로 하면 안된다. 현재 \"\"\"로 감싸 문자열로 저장되어 있기 때문에 \n",
        "# javascript에서는 '를 string 값으로 인식하지 않아서 에러 발생\n",
        "obj = \"\"\"\n",
        "{\n",
        "    \"name\": \"Kim\",\n",
        "    \"places_lived\": [\"Seoul\", \"Korea\"],\n",
        "    \"pet\": null, \"siblings\": [{\"name\": \"Scott\", \"age\":25, \"pet\":\"Zuko\"}]\n",
        "}\n",
        "\"\"\""
      ],
      "execution_count": null,
      "outputs": []
    },
    {
      "cell_type": "code",
      "source": [
        "# .load는 json 파일을 가져오는 것\n",
        "# .loads는 String 객체를 가져오는것\n",
        "# obj는 string 타입이고, result는 json 타입입니다.\n",
        "json_result = json.loads(obj)\n",
        "json_result\n",
        "# obj"
      ],
      "metadata": {
        "colab": {
          "base_uri": "https://localhost:8080/"
        },
        "id": "U8HF5x3-vHLv",
        "outputId": "de47a879-4cb2-43bd-ece4-abba720f5775"
      },
      "execution_count": null,
      "outputs": [
        {
          "output_type": "execute_result",
          "data": {
            "text/plain": [
              "{'name': 'Kim',\n",
              " 'pet': None,\n",
              " 'places_lived': ['Seoul', 'Korea'],\n",
              " 'siblings': [{'age': 25, 'name': 'Scott', 'pet': 'Zuko'}]}"
            ]
          },
          "metadata": {},
          "execution_count": 68
        }
      ]
    },
    {
      "cell_type": "code",
      "source": [
        "# dump는 파일에서 가져오는것 \n",
        "# dumps는 요기서 가져오는 것\n",
        "txt = json.dumps(json_result)\n",
        "txt"
      ],
      "metadata": {
        "colab": {
          "base_uri": "https://localhost:8080/",
          "height": 54
        },
        "id": "gm1aq5Tsvnxf",
        "outputId": "158ed004-3b74-4ef6-d1c0-fdded20ab5f6"
      },
      "execution_count": null,
      "outputs": [
        {
          "output_type": "execute_result",
          "data": {
            "text/plain": [
              "'{\"name\": \"Kim\", \"places_lived\": [\"Seoul\", \"Korea\"], \"pet\": null, \"siblings\": [{\"name\": \"Scott\", \"age\": 25, \"pet\": \"Zuko\"}]}'"
            ],
            "application/vnd.google.colaboratory.intrinsic+json": {
              "type": "string"
            }
          },
          "metadata": {},
          "execution_count": 70
        }
      ]
    },
    {
      "cell_type": "markdown",
      "metadata": {
        "id": "iOfHDITLcs2s"
      },
      "source": [
        "# 파일 다루기 2\n",
        "파이썬 라이브러리\n",
        "os\n",
        "pickle\n",
        "shelve\n",
        "...\n"
      ]
    },
    {
      "cell_type": "markdown",
      "metadata": {
        "id": "Bmys17_bdoly"
      },
      "source": [
        "## 파이썬 라이브러리\n",
        "파이썬 사용자들이 만든 유용한 프로그램을 모아 놓은 것\n",
        "\n",
        "모든 라이브러리를 다 알 필요는 없고 어떤 일을 할 때 어떤 라이브러리를 사용해야 한다는 정도만 알면 된다.\n",
        "\n",
        "※ 파이썬 라이브러리는 파이썬을 설치할 때 자동으로 컴퓨터에 설치한다."
      ]
    },
    {
      "cell_type": "markdown",
      "metadata": {
        "id": "kwppl9b0eLLA"
      },
      "source": [
        "## sys\n",
        "파이썬 인터프리터가 제공하는 변수와 함수를 직접 제어할 수 있게 해주는 모듈이다.\n",
        "\n",
        "명령 행에서 인수 전달하기 - sys.argv\n",
        "```\n",
        "C:/User/home>python argv_test.py you need python\n",
        "```\n",
        "python 명령어 뒤의 모든 것들이 공백을 기준으로 나뉘어서 sys.argv 리스트의 요소가 된다.\n",
        "\n",
        "|argv_test.py| you| need| python|\n",
        "|---|---|---|---|\n",
        "|argv[0]|argv[1]|argv[2]|argv[3]|\n"
      ]
    },
    {
      "cell_type": "code",
      "metadata": {
        "id": "H4nanrlSerGq",
        "colab": {
          "base_uri": "https://localhost:8080/"
        },
        "outputId": "d976e5de-6958-481c-f60d-e9eedf898779"
      },
      "source": [
        "# argv_test.py\n",
        "import sys\n",
        "print(sys.argv)  # ['argv_test.py', 'you', 'need', 'python']"
      ],
      "execution_count": null,
      "outputs": [
        {
          "output_type": "stream",
          "name": "stdout",
          "text": [
            "['/usr/local/lib/python3.7/dist-packages/ipykernel_launcher.py', '-f', '/root/.local/share/jupyter/runtime/kernel-2a43f3a2-919e-422e-9d89-a0647bee988e.json']\n"
          ]
        }
      ]
    },
    {
      "cell_type": "code",
      "source": [
        "!cat '/usr/local/lib/python3.7/dist-packages/ipykernel_launcher.py'"
      ],
      "metadata": {
        "colab": {
          "base_uri": "https://localhost:8080/"
        },
        "id": "KSsf30RQxpn7",
        "outputId": "e3e2d206-b441-4e94-ed87-26c0b373b8d1"
      },
      "execution_count": null,
      "outputs": [
        {
          "output_type": "stream",
          "name": "stdout",
          "text": [
            "\"\"\"Entry point for launching an IPython kernel.\n",
            "\n",
            "This is separate from the ipykernel package so we can avoid doing imports until\n",
            "after removing the cwd from sys.path.\n",
            "\"\"\"\n",
            "\n",
            "import sys\n",
            "\n",
            "if __name__ == '__main__':\n",
            "    # Remove the CWD from sys.path while we load stuff.\n",
            "    # This is added back by InteractiveShellApp.init_path()\n",
            "    if sys.path[0] == '':\n",
            "        del sys.path[0]\n",
            "\n",
            "    from ipykernel import kernelapp as app\n",
            "    app.launch_new_instance()\n"
          ]
        }
      ]
    },
    {
      "cell_type": "markdown",
      "metadata": {
        "id": "BIAcerLlfZUO"
      },
      "source": [
        "강제로 스크립트 종료하기 - sys.exit\n",
        "```\n",
        ">>> sys.exit()\n",
        "```\n",
        "sys.exit는 Ctrl+Z나 Ctrl+D를 눌러서 대화형 인터프리터를 종료하는 것과 같은 기능을 한다. 프로그램 파일 안에서 사용하면 프로그램을 중단시킨다."
      ]
    },
    {
      "cell_type": "markdown",
      "metadata": {
        "id": "ehsPJj6WfuEk"
      },
      "source": [
        "자신이 만든 모듈 불러와 사용하기 - sys.path\n",
        "\n",
        "sys.path는 파이썬 모듈들이 저장되어 있는 위치를 나타낸다. 즉 이 위치에 있는 파이썬 모듈은 경로에 상관없이 어디에서나 불러올 수 있다."
      ]
    },
    {
      "cell_type": "code",
      "source": [
        "import sys\n",
        "sys.path"
      ],
      "metadata": {
        "colab": {
          "base_uri": "https://localhost:8080/"
        },
        "id": "lQb2PLrhyLhI",
        "outputId": "fb324cf1-2c6f-44bc-aa32-ee177fc4cff8"
      },
      "execution_count": null,
      "outputs": [
        {
          "output_type": "execute_result",
          "data": {
            "text/plain": [
              "['',\n",
              " '/content',\n",
              " '/env/python',\n",
              " '/usr/lib/python37.zip',\n",
              " '/usr/lib/python3.7',\n",
              " '/usr/lib/python3.7/lib-dynload',\n",
              " '/usr/local/lib/python3.7/dist-packages',\n",
              " '/usr/lib/python3/dist-packages',\n",
              " '/usr/local/lib/python3.7/dist-packages/IPython/extensions',\n",
              " '/root/.ipython']"
            ]
          },
          "metadata": {},
          "execution_count": 75
        }
      ]
    },
    {
      "cell_type": "markdown",
      "metadata": {
        "id": "8n83Gi4-c0cA"
      },
      "source": [
        "## os\n",
        "환경 변수나 디렉터리, 파일 등의 OS 자원을 제어할 수 있게 해주는 모듈이다."
      ]
    },
    {
      "cell_type": "code",
      "metadata": {
        "id": "b4nJuqLPkQfy",
        "colab": {
          "base_uri": "https://localhost:8080/",
          "height": 54
        },
        "outputId": "54cd9cfa-ebc2-47bb-d032-f132e454f8dd"
      },
      "source": [
        "import os\n",
        "os.environ['PATH']"
      ],
      "execution_count": null,
      "outputs": [
        {
          "output_type": "execute_result",
          "data": {
            "text/plain": [
              "'/opt/bin:/usr/local/nvidia/bin:/usr/local/cuda/bin:/usr/local/sbin:/usr/local/bin:/usr/sbin:/usr/bin:/sbin:/bin:/tools/node/bin:/tools/google-cloud-sdk/bin'"
            ],
            "application/vnd.google.colaboratory.intrinsic+json": {
              "type": "string"
            }
          },
          "metadata": {},
          "execution_count": 76
        }
      ]
    },
    {
      "cell_type": "markdown",
      "metadata": {
        "id": "cGRJr0tcgYzC"
      },
      "source": [
        "## pickle ***\n",
        "객체의 형태를 그대로 유지하면서 파일에 저장하고 불러올 수 있게 하는 모듈이다."
      ]
    },
    {
      "cell_type": "code",
      "metadata": {
        "id": "iQFnEHoFhZxK"
      },
      "source": [
        "# 딕셔너리 객체인 data를 그대로 파일에 저장\n",
        "import pickle\n",
        "\n",
        "# 피클파일 생성 (write 바이너리)\n",
        "with open('test.pkl', 'wb') as f :\n",
        "    data = {1:'python', 2:\"you need\"}\n",
        "    pickle.dump(data, f)"
      ],
      "execution_count": null,
      "outputs": []
    },
    {
      "cell_type": "code",
      "source": [
        "os.listdir()"
      ],
      "metadata": {
        "colab": {
          "base_uri": "https://localhost:8080/"
        },
        "id": "LHyqIFvMy_aX",
        "outputId": "45254ad1-1ae8-462e-ce5c-4df3b7874209"
      },
      "execution_count": null,
      "outputs": [
        {
          "output_type": "execute_result",
          "data": {
            "text/plain": [
              "['.config',\n",
              " '.ipynb_checkpoints',\n",
              " 'test',\n",
              " 'sample.csv',\n",
              " 'test.csv',\n",
              " 'result.csv',\n",
              " 'test.pkl',\n",
              " 'test2.txt',\n",
              " 'sample_data']"
            ]
          },
          "metadata": {},
          "execution_count": 79
        }
      ]
    },
    {
      "cell_type": "code",
      "source": [
        "# 읽어오기 (read 바이너리)\n",
        "with open('test.pkl', 'rb') as f :\n",
        "    data2 = pickle.load(f)\n",
        "\n",
        "data2"
      ],
      "metadata": {
        "colab": {
          "base_uri": "https://localhost:8080/"
        },
        "id": "14mXxcy7zE3a",
        "outputId": "f6261492-d7d4-4f56-aaf2-b4c2f3b231e6"
      },
      "execution_count": null,
      "outputs": [
        {
          "output_type": "execute_result",
          "data": {
            "text/plain": [
              "{1: 'python', 2: 'you need'}"
            ]
          },
          "metadata": {},
          "execution_count": 80
        }
      ]
    },
    {
      "cell_type": "markdown",
      "metadata": {
        "id": "amew8FZLpqeK"
      },
      "source": [
        "## shelve\n",
        "pickle과 같이 객체를 파일에 저장하고 불러올 수 있게 하는 모듈이다.\n",
        "\n",
        "shelve는 저장 시 key값과 매치시켜 저장되기 때문에 shelve.open() 하면 다음부터는 단순히 key값을 변수에 Access할 수 있어 편리하다. 큰 용량의 데이터를 save, access하기 좀 더 쉽다"
      ]
    },
    {
      "cell_type": "code",
      "metadata": {
        "id": "CzxxC9nCsJGH"
      },
      "source": [
        "import shelve\n"
      ],
      "execution_count": null,
      "outputs": []
    },
    {
      "cell_type": "markdown",
      "metadata": {
        "id": "SnpJYFAloylh"
      },
      "source": [
        "## shutil\n",
        "파일을 복사해 주는 모듈이다.\n",
        "```\n",
        ">>> import shutil\n",
        ">>> shutil.copy(\"src.txt\", \"dst.txt\")\n",
        "```\n",
        "동일한 파일 이름이 있을 경우에는 덮어쓴다."
      ]
    },
    {
      "cell_type": "markdown",
      "metadata": {
        "id": "BZCbLlvwo_vA"
      },
      "source": [
        "## glob\n",
        "디렉터리에 있는 파일들을 리스트로 만들어 주는 모듈이다.\n",
        "```\n",
        ">>> import glob\n",
        ">>> glob.glob(\"c:/python/mark*\")\n",
        "['c:/python\\\\marks1.py', 'c:/python\\\\marks2.py', 'c:/python\\\\marks3.py']\n",
        ">>>\n",
        "```\n",
        "*, ? 등 메타 문자를 써서 원하는 파일만 읽어 들일 수도 있다."
      ]
    },
    {
      "cell_type": "markdown",
      "metadata": {
        "id": "ndmnrfF6oLDu"
      },
      "source": [
        "## tempfile\n",
        "중복되지 않는 임시 파일의 이름을 무작위로 만들어서 돌려주는 모듈이다.\n",
        "```\n",
        ">>> import tempfile\n",
        ">>> f = tempfile.TemporaryFile()\n",
        ">>> f.close()\n",
        "```\n",
        "기본적으로 바이너리 쓰기 모드(wb)를 갖는다.\n",
        "\n",
        "f.close()가 호출되면 이 파일 객체는 자동으로 사라진다."
      ]
    },
    {
      "cell_type": "markdown",
      "metadata": {
        "id": "513GOyFIt75k"
      },
      "source": [
        "# 파일 다루기 3\n",
        "Excel, Word, PDF 컨트롤\n",
        "\n",
        "openpyxl\n",
        "docx\n",
        "PyPDF2"
      ]
    },
    {
      "cell_type": "markdown",
      "metadata": {
        "id": "voYXWyqAl9Pt"
      },
      "source": [
        "## [OpenPyXL](https://openpyxl.readthedocs.io/en/stable/)\n",
        "Excel 2010 xlsx / xlsm 파일을 읽고 쓰는 Python 라이브러리\n",
        "\n",
        "엑셀 용어\n",
        "* workbook (워크북):\t엑셀 파일(통합 문서)을 의미합니다.\n",
        "* sheet (시트):\t엑셀 파일 내 컨텐츠를 분할하는 데 사용되며, 여러개의 시트가 있을 수 있습니다.\n",
        "* cell (셀):\t엑셀에서 가장 작은 단위로, 열을 나타내는 문자와 행을 나타내는 숫자의 조합으로 표시합니다. (A1)"
      ]
    },
    {
      "cell_type": "code",
      "metadata": {
        "id": "YeajpxSjm9jG"
      },
      "source": [
        "# 파일을 만들고 'A1' 셀에 'Hello World'라고 입력\n",
        "import openpyxl\n",
        "\n",
        "wb = openpyxl.Workbook()\n",
        "sheet = wb.active\n",
        "sheet['A1'] = 'Hello World'\n",
        "wb.save(drive_path + 'hello_world.xlsx')\n"
      ],
      "execution_count": null,
      "outputs": []
    },
    {
      "cell_type": "code",
      "source": [
        "wb = openpyxl.load_workbook(drive_path + 'hello_world.xlsx')\n",
        "print(wb.sheetnames)\n",
        "print(wb.active.title)"
      ],
      "metadata": {
        "colab": {
          "base_uri": "https://localhost:8080/"
        },
        "id": "0affQt7WUls6",
        "outputId": "f2bad508-48ca-4850-d249-bb0c382186d2"
      },
      "execution_count": null,
      "outputs": [
        {
          "output_type": "stream",
          "name": "stdout",
          "text": [
            "['Sheet']\n",
            "Sheet\n"
          ]
        }
      ]
    },
    {
      "cell_type": "code",
      "source": [
        "sheet_last = wb.create_sheet('NewSheet')\n",
        "sheet_first = wb.create_sheet('NewSheet0', 0)\n",
        "sheet = wb['NewSheet']\n",
        "wb.save(drive_path + 'hello_world.xlsx') # sheet 만드는 방법"
      ],
      "metadata": {
        "id": "m7YfNfwgYUuN"
      },
      "execution_count": null,
      "outputs": []
    },
    {
      "cell_type": "code",
      "source": [
        "sheet['A1']='한글'\n",
        "sheet['A1'].value = '한글1'\n",
        "sheet['A1'].value"
      ],
      "metadata": {
        "colab": {
          "base_uri": "https://localhost:8080/",
          "height": 35
        },
        "id": "YrJwzjUuY8YJ",
        "outputId": "651c4188-3de5-4700-ac5a-ed2dcf3b9415"
      },
      "execution_count": null,
      "outputs": [
        {
          "output_type": "execute_result",
          "data": {
            "text/plain": [
              "'한글1'"
            ],
            "application/vnd.google.colaboratory.intrinsic+json": {
              "type": "string"
            }
          },
          "metadata": {},
          "execution_count": 21
        }
      ]
    },
    {
      "cell_type": "code",
      "source": [
        "sheet.cell(row=2, column =2).value = 'Python'\n",
        "sheet['B2'].value"
      ],
      "metadata": {
        "colab": {
          "base_uri": "https://localhost:8080/",
          "height": 35
        },
        "id": "J3Fq2w33Zc43",
        "outputId": "63413559-ad8a-4aaa-a3ec-699d2cb65659"
      },
      "execution_count": null,
      "outputs": [
        {
          "output_type": "execute_result",
          "data": {
            "text/plain": [
              "'Python'"
            ],
            "application/vnd.google.colaboratory.intrinsic+json": {
              "type": "string"
            }
          },
          "metadata": {},
          "execution_count": 22
        }
      ]
    },
    {
      "cell_type": "markdown",
      "metadata": {
        "id": "xAbTnHeypyK_"
      },
      "source": [
        "#### 판다스 데이터프레임으로 변환하는 방법"
      ]
    },
    {
      "cell_type": "code",
      "metadata": {
        "id": "C94GJ-kFq-V5",
        "colab": {
          "base_uri": "https://localhost:8080/",
          "height": 365
        },
        "outputId": "aea30909-fe7c-4025-bc7a-aada96def55c"
      },
      "source": [
        "import openpyxl\n",
        "import pandas as pd\n",
        "\n",
        "wb = openpyxl.load_workbook(drive_path + 'sample.xlsx')\n",
        "sheet = wb.active\n",
        "\n",
        "# 데이터프레임으로 변환\n",
        "df = pd.DataFrame(sheet.values)\n",
        "\n",
        "# display는 그림이나 표 모양으로 출력해줌 -> 데이터 프레임은 기본적으로 디스플레이로 출력됨\n",
        "display(df)\n",
        "df\n",
        "# print는 텍스트 모양을 출력해줌\n",
        "print(df)"
      ],
      "execution_count": null,
      "outputs": [
        {
          "output_type": "display_data",
          "data": {
            "text/plain": [
              "     0   1   2\n",
              "0   이름  나이  성별\n",
              "1  홍길동  30   남\n",
              "2  박철수  25   남\n",
              "3  이혜수  33   여\n",
              "4  임유리  24   여\n",
              "5  김영원  43   남"
            ],
            "text/html": [
              "\n",
              "  <div id=\"df-d9e64cf2-e6b1-4fd6-b8d2-a7bdad8477a4\">\n",
              "    <div class=\"colab-df-container\">\n",
              "      <div>\n",
              "<style scoped>\n",
              "    .dataframe tbody tr th:only-of-type {\n",
              "        vertical-align: middle;\n",
              "    }\n",
              "\n",
              "    .dataframe tbody tr th {\n",
              "        vertical-align: top;\n",
              "    }\n",
              "\n",
              "    .dataframe thead th {\n",
              "        text-align: right;\n",
              "    }\n",
              "</style>\n",
              "<table border=\"1\" class=\"dataframe\">\n",
              "  <thead>\n",
              "    <tr style=\"text-align: right;\">\n",
              "      <th></th>\n",
              "      <th>0</th>\n",
              "      <th>1</th>\n",
              "      <th>2</th>\n",
              "    </tr>\n",
              "  </thead>\n",
              "  <tbody>\n",
              "    <tr>\n",
              "      <th>0</th>\n",
              "      <td>이름</td>\n",
              "      <td>나이</td>\n",
              "      <td>성별</td>\n",
              "    </tr>\n",
              "    <tr>\n",
              "      <th>1</th>\n",
              "      <td>홍길동</td>\n",
              "      <td>30</td>\n",
              "      <td>남</td>\n",
              "    </tr>\n",
              "    <tr>\n",
              "      <th>2</th>\n",
              "      <td>박철수</td>\n",
              "      <td>25</td>\n",
              "      <td>남</td>\n",
              "    </tr>\n",
              "    <tr>\n",
              "      <th>3</th>\n",
              "      <td>이혜수</td>\n",
              "      <td>33</td>\n",
              "      <td>여</td>\n",
              "    </tr>\n",
              "    <tr>\n",
              "      <th>4</th>\n",
              "      <td>임유리</td>\n",
              "      <td>24</td>\n",
              "      <td>여</td>\n",
              "    </tr>\n",
              "    <tr>\n",
              "      <th>5</th>\n",
              "      <td>김영원</td>\n",
              "      <td>43</td>\n",
              "      <td>남</td>\n",
              "    </tr>\n",
              "  </tbody>\n",
              "</table>\n",
              "</div>\n",
              "      <button class=\"colab-df-convert\" onclick=\"convertToInteractive('df-d9e64cf2-e6b1-4fd6-b8d2-a7bdad8477a4')\"\n",
              "              title=\"Convert this dataframe to an interactive table.\"\n",
              "              style=\"display:none;\">\n",
              "        \n",
              "  <svg xmlns=\"http://www.w3.org/2000/svg\" height=\"24px\"viewBox=\"0 0 24 24\"\n",
              "       width=\"24px\">\n",
              "    <path d=\"M0 0h24v24H0V0z\" fill=\"none\"/>\n",
              "    <path d=\"M18.56 5.44l.94 2.06.94-2.06 2.06-.94-2.06-.94-.94-2.06-.94 2.06-2.06.94zm-11 1L8.5 8.5l.94-2.06 2.06-.94-2.06-.94L8.5 2.5l-.94 2.06-2.06.94zm10 10l.94 2.06.94-2.06 2.06-.94-2.06-.94-.94-2.06-.94 2.06-2.06.94z\"/><path d=\"M17.41 7.96l-1.37-1.37c-.4-.4-.92-.59-1.43-.59-.52 0-1.04.2-1.43.59L10.3 9.45l-7.72 7.72c-.78.78-.78 2.05 0 2.83L4 21.41c.39.39.9.59 1.41.59.51 0 1.02-.2 1.41-.59l7.78-7.78 2.81-2.81c.8-.78.8-2.07 0-2.86zM5.41 20L4 18.59l7.72-7.72 1.47 1.35L5.41 20z\"/>\n",
              "  </svg>\n",
              "      </button>\n",
              "      \n",
              "  <style>\n",
              "    .colab-df-container {\n",
              "      display:flex;\n",
              "      flex-wrap:wrap;\n",
              "      gap: 12px;\n",
              "    }\n",
              "\n",
              "    .colab-df-convert {\n",
              "      background-color: #E8F0FE;\n",
              "      border: none;\n",
              "      border-radius: 50%;\n",
              "      cursor: pointer;\n",
              "      display: none;\n",
              "      fill: #1967D2;\n",
              "      height: 32px;\n",
              "      padding: 0 0 0 0;\n",
              "      width: 32px;\n",
              "    }\n",
              "\n",
              "    .colab-df-convert:hover {\n",
              "      background-color: #E2EBFA;\n",
              "      box-shadow: 0px 1px 2px rgba(60, 64, 67, 0.3), 0px 1px 3px 1px rgba(60, 64, 67, 0.15);\n",
              "      fill: #174EA6;\n",
              "    }\n",
              "\n",
              "    [theme=dark] .colab-df-convert {\n",
              "      background-color: #3B4455;\n",
              "      fill: #D2E3FC;\n",
              "    }\n",
              "\n",
              "    [theme=dark] .colab-df-convert:hover {\n",
              "      background-color: #434B5C;\n",
              "      box-shadow: 0px 1px 3px 1px rgba(0, 0, 0, 0.15);\n",
              "      filter: drop-shadow(0px 1px 2px rgba(0, 0, 0, 0.3));\n",
              "      fill: #FFFFFF;\n",
              "    }\n",
              "  </style>\n",
              "\n",
              "      <script>\n",
              "        const buttonEl =\n",
              "          document.querySelector('#df-d9e64cf2-e6b1-4fd6-b8d2-a7bdad8477a4 button.colab-df-convert');\n",
              "        buttonEl.style.display =\n",
              "          google.colab.kernel.accessAllowed ? 'block' : 'none';\n",
              "\n",
              "        async function convertToInteractive(key) {\n",
              "          const element = document.querySelector('#df-d9e64cf2-e6b1-4fd6-b8d2-a7bdad8477a4');\n",
              "          const dataTable =\n",
              "            await google.colab.kernel.invokeFunction('convertToInteractive',\n",
              "                                                     [key], {});\n",
              "          if (!dataTable) return;\n",
              "\n",
              "          const docLinkHtml = 'Like what you see? Visit the ' +\n",
              "            '<a target=\"_blank\" href=https://colab.research.google.com/notebooks/data_table.ipynb>data table notebook</a>'\n",
              "            + ' to learn more about interactive tables.';\n",
              "          element.innerHTML = '';\n",
              "          dataTable['output_type'] = 'display_data';\n",
              "          await google.colab.output.renderOutput(dataTable, element);\n",
              "          const docLink = document.createElement('div');\n",
              "          docLink.innerHTML = docLinkHtml;\n",
              "          element.appendChild(docLink);\n",
              "        }\n",
              "      </script>\n",
              "    </div>\n",
              "  </div>\n",
              "  "
            ]
          },
          "metadata": {}
        },
        {
          "output_type": "stream",
          "name": "stdout",
          "text": [
            "     0   1   2\n",
            "0   이름  나이  성별\n",
            "1  홍길동  30   남\n",
            "2  박철수  25   남\n",
            "3  이혜수  33   여\n",
            "4  임유리  24   여\n",
            "5  김영원  43   남\n"
          ]
        }
      ]
    },
    {
      "cell_type": "markdown",
      "metadata": {
        "id": "NL4qzf7itv2J"
      },
      "source": [
        "## [python-docx](https://python-docx.readthedocs.io/en/latest/)\n",
        "Microsoft Word (.docx) 파일을 만들고 업데이트하기위한 Python 라이브러리\n",
        "```\n",
        "pip install python-docx\n",
        "```\n",
        "파이썬 버전 3은 python-docx를 설치 할 것, 만약 실수로 docx를 설치했다면 아래와 같이 삭제해준다.\n",
        "```\n",
        "pip uninstall docx\n",
        "```"
      ]
    },
    {
      "cell_type": "code",
      "metadata": {
        "id": "V6wCEg1L1zdm"
      },
      "source": [
        "!pip list"
      ],
      "execution_count": null,
      "outputs": []
    },
    {
      "cell_type": "code",
      "metadata": {
        "id": "Oa4BHV8h17tI",
        "colab": {
          "base_uri": "https://localhost:8080/"
        },
        "outputId": "dbc565de-e96e-4d39-d9df-618b76ee3b82"
      },
      "source": [
        "!pip install python-docx"
      ],
      "execution_count": null,
      "outputs": [
        {
          "output_type": "stream",
          "name": "stdout",
          "text": [
            "Collecting python-docx\n",
            "  Downloading python-docx-0.8.11.tar.gz (5.6 MB)\n",
            "\u001b[K     |████████████████████████████████| 5.6 MB 23.2 MB/s \n",
            "\u001b[?25hRequirement already satisfied: lxml>=2.3.2 in /usr/local/lib/python3.7/dist-packages (from python-docx) (4.2.6)\n",
            "Building wheels for collected packages: python-docx\n",
            "  Building wheel for python-docx (setup.py) ... \u001b[?25l\u001b[?25hdone\n",
            "  Created wheel for python-docx: filename=python_docx-0.8.11-py3-none-any.whl size=184507 sha256=0ee75d53b3960d10309d1d88777d7bc4aa0ead8660a8459379ebd4fc4f674d19\n",
            "  Stored in directory: /root/.cache/pip/wheels/f6/6f/b9/d798122a8b55b74ad30b5f52b01482169b445fbb84a11797a6\n",
            "Successfully built python-docx\n",
            "Installing collected packages: python-docx\n",
            "Successfully installed python-docx-0.8.11\n"
          ]
        }
      ]
    },
    {
      "cell_type": "code",
      "metadata": {
        "id": "dK4hKDKf1XAW"
      },
      "source": [
        "# 워드파일 생성 -> install을 해야 사용 할 수 있음\n",
        "import docx\n",
        "\n",
        "doc = docx.Document()\n",
        "doc.save(drive_path + 'sample.docx')"
      ],
      "execution_count": null,
      "outputs": []
    },
    {
      "cell_type": "code",
      "metadata": {
        "id": "sO2bu05620nK"
      },
      "source": [
        "# 워드파일에 text입력\n",
        "para = doc.add_paragraph()\n",
        "run = para.add_run('Hello World')\n",
        "run.font.name = 'Arial'\n",
        "run.hold = True\n",
        "run.font.size = docx.shared.Pt(20)\n",
        "\n",
        "doc.save(drive_path + 'sample.docx')"
      ],
      "execution_count": null,
      "outputs": []
    },
    {
      "cell_type": "code",
      "metadata": {
        "id": "UTpb8-i83XYl"
      },
      "source": [
        "# 한글은 폰트적용\n"
      ],
      "execution_count": null,
      "outputs": []
    },
    {
      "cell_type": "code",
      "metadata": {
        "id": "aD6iaTHl063q"
      },
      "source": [
        "from docx import Document\n",
        "from docx.shared import Inches  # 이미지 추가를 위해\n",
        "\n",
        "document = Document() # 문서를 선언\n",
        "\n",
        "document.add_heading('Document Title', 0)  # title\n",
        "\n",
        "p = document.add_paragraph('A plain paragraph having some ')  # 문단추가\n",
        "p.add_run('bold').bold = True\n",
        "p.add_run(' and some ')\n",
        "p.add_run('italic.').italic = True\n",
        "\n",
        "document.add_heading('Heading, level 1', level=1)\n",
        "document.add_paragraph('Intense quote', style='Intense Quote')\n",
        "\n",
        "document.add_paragraph(\n",
        "    'first item in unordered list', style='List Bullet'\n",
        ")\n",
        "document.add_paragraph(\n",
        "    'first item in ordered list', style='List Number'\n",
        ")\n",
        "\n",
        "document.add_picture(drive_path + 'little-char.png', width=Inches(1.25))\n",
        "\n",
        "records = (\n",
        "    (3, '101', 'Spam'),\n",
        "    (7, '422', 'Eggs'),\n",
        "    (4, '631', 'Spam, spam, eggs, and spam')\n",
        ")\n",
        "\n",
        "table = document.add_table(rows=1, cols=3)\n",
        "hdr_cells = table.rows[0].cells\n",
        "hdr_cells[0].text = 'Qty'\n",
        "hdr_cells[1].text = 'Id'\n",
        "hdr_cells[2].text = 'Desc'\n",
        "for qty, id, desc in records:\n",
        "    row_cells = table.add_row().cells\n",
        "    row_cells[0].text = str(qty)\n",
        "    row_cells[1].text = id\n",
        "    row_cells[2].text = desc\n",
        "\n",
        "document.add_page_break()\n",
        "\n",
        "document.save(drive_path + 'demo.docx')"
      ],
      "execution_count": null,
      "outputs": []
    },
    {
      "cell_type": "code",
      "metadata": {
        "id": "dt2Tv_uBD4V6"
      },
      "source": [
        "# 문자 크기 변경, 문단 정렬\n",
        "import docx\n",
        "from docx.shared import Pt\n",
        "from docx.enum.text import WD_ALIGN_PARAGRAPH\n",
        "\n",
        "doc = docx.Document(drive_path + 'demo.docx')\n",
        "\n",
        "# word 문서 전체의 내용을 파이썬에서 확인\n",
        "for x, paragraph in enumerate(doc.paragraphs):\n",
        "    print(str(x) + \" : \" + paragraph.text)\n",
        "\n",
        "# word 문서의 중간에 새로운  paragraph 삽입\n",
        "doc.paragraphs[6].insert_paragraph_before(\"문장을 삽입.\")\n",
        "\n",
        "# word 내의  표(table) 읽기\n",
        "# 표는 별도 관리\n",
        "tables = doc.tables\n",
        "for t in tables:\n",
        "  for row in t.rows:\n",
        "    for cell in row.cells:\n",
        "      for p in cell.paragraphs:\n",
        "        print(p.text)\n",
        "\n",
        "doc.save(drive_path + 'demo.docx')"
      ],
      "execution_count": null,
      "outputs": []
    },
    {
      "cell_type": "markdown",
      "metadata": {
        "id": "nhhrunniHTRf"
      },
      "source": [
        "## [PyPDF2](https://pythonhosted.org/PyPDF2/)\n",
        "바이트 스트림으로 파일을 열어서, PDF의 파일 정보와 텍스트를 가져올 수 있는 Python 라이브러리\n",
        "\n",
        "\n"
      ]
    },
    {
      "cell_type": "code",
      "metadata": {
        "id": "wDpWCJm3L8Dc",
        "colab": {
          "base_uri": "https://localhost:8080/"
        },
        "outputId": "41364414-a281-49a0-f894-1490240a8df7"
      },
      "source": [
        "!pip install PyPDF2"
      ],
      "execution_count": null,
      "outputs": [
        {
          "output_type": "stream",
          "name": "stdout",
          "text": [
            "Collecting PyPDF2\n",
            "  Downloading PyPDF2-1.27.3-py3-none-any.whl (64 kB)\n",
            "\u001b[?25l\r\u001b[K     |█████                           | 10 kB 22.2 MB/s eta 0:00:01\r\u001b[K     |██████████▏                     | 20 kB 26.5 MB/s eta 0:00:01\r\u001b[K     |███████████████▏                | 30 kB 17.8 MB/s eta 0:00:01\r\u001b[K     |████████████████████▎           | 40 kB 16.6 MB/s eta 0:00:01\r\u001b[K     |█████████████████████████▍      | 51 kB 16.9 MB/s eta 0:00:01\r\u001b[K     |██████████████████████████████▍ | 61 kB 19.0 MB/s eta 0:00:01\r\u001b[K     |████████████████████████████████| 64 kB 2.7 MB/s \n",
            "\u001b[?25hInstalling collected packages: PyPDF2\n",
            "Successfully installed PyPDF2-1.27.3\n"
          ]
        }
      ]
    },
    {
      "cell_type": "code",
      "metadata": {
        "id": "HFUJrGoNLxKD",
        "colab": {
          "base_uri": "https://localhost:8080/"
        },
        "outputId": "599b046a-6ba2-412c-810a-95a6a063d29b"
      },
      "source": [
        "from PyPDF2 import PdfFileReader, PdfFileWriter\n",
        "\n",
        "pdf = PdfFileReader( open(drive_path + 'sample1.pdf', 'rb'))\n",
        "print(pdf.getDocumentInfo())\n",
        "print(pdf.getNumPages())\n",
        "\n",
        "for page in pdf.pages :\n",
        "    print(page.extractText())"
      ],
      "execution_count": null,
      "outputs": [
        {
          "output_type": "stream",
          "name": "stdout",
          "text": [
            "{'/Producer': 'FPDF 1.7', '/CreationDate': 'D:20200630103238'}\n",
            "1\n",
            "ID\n",
            "NAME\n",
            "CLASS\n",
            "MARK\n",
            "SEX\n",
            "1\n",
            "John Deo\n",
            "Four5\n",
            "75\n",
            "male\n",
            "2\n",
            "Max Ruin\n",
            "Three5\n",
            "85\n",
            "male\n",
            "3\n",
            "Arnold\n",
            "Three5\n",
            "55\n",
            "male\n",
            "4\n",
            "Krish Star\n",
            "Four5\n",
            "60\n",
            "male\n",
            "5\n",
            "John Mike\n",
            "Four5\n",
            "60\n",
            "male\n",
            "6\n",
            "Alex John\n",
            "Four5\n",
            "55\n",
            "male\n",
            "7\n",
            "My John Rob\n",
            "Fifth5\n",
            "78\n",
            "male\n",
            "8\n",
            "Asruid\n",
            "Five5\n",
            "85\n",
            "male\n",
            "9\n",
            "Tes Qry\n",
            "Six5\n",
            "78\n",
            "male\n",
            "10\n",
            "Big John\n",
            "Four5\n",
            "55\n",
            "male\n",
            "\n"
          ]
        }
      ]
    },
    {
      "cell_type": "markdown",
      "source": [
        ""
      ],
      "metadata": {
        "id": "0-QnZVZZf7YM"
      }
    },
    {
      "cell_type": "code",
      "metadata": {
        "id": "ehI2r7-X3Af6",
        "colab": {
          "base_uri": "https://localhost:8080/"
        },
        "outputId": "1178df0e-bf7f-4614-c018-d46943ffeea3"
      },
      "source": [
        "# PDF 파일을 읽어온 후 회전시켜 별도의 파일로 저장\n",
        "from PyPDF2 import PdfFileReader, PdfFileWriter\n",
        "\n",
        "src_path = drive_path + 'sample1.pdf'\n",
        "dest_path = drive_path + 'sample2.pdf'\n",
        "\n",
        "with open(src_path, \"rb\") as file:  # rb: Read & Binary\n",
        "    reader = PdfFileReader(file)\n",
        "    print(reader.numPages)\n",
        "\n",
        "    # 0 번째 페이지를 시계 방향으로 90도 회전\n",
        "    page = reader.getPage(0)\n",
        "    page.rotateClockwise(90)\n",
        "\n",
        "    # 회전한 페이지를 별도의 파일로 저장\n",
        "    writer = PdfFileWriter()\n",
        "    writer.addPage(page)\n",
        "    with open(dest_path, \"wb\") as output:  # wb: Write & Binary\n",
        "        writer.write(output)"
      ],
      "execution_count": null,
      "outputs": [
        {
          "output_type": "stream",
          "text": [
            "1\n"
          ],
          "name": "stdout"
        }
      ]
    },
    {
      "cell_type": "code",
      "metadata": {
        "id": "tVd2ks6T37Ao"
      },
      "source": [
        "# 여러 PDF 파일을 병합\n",
        "from PyPDF2 import PdfFileMerger\n",
        "\n",
        "merger = PdfFileMerger()\n",
        "file_names = [drive_path + 'sample1.pdf', drive_path + 'sample2.pdf']\n",
        "for filename in file_names:\n",
        "  merger.append(filename)\n",
        "\n",
        "merger.write(drive_path + 'sample_merge.pdf')"
      ],
      "execution_count": null,
      "outputs": []
    },
    {
      "cell_type": "markdown",
      "metadata": {
        "id": "ch0U3RuE5UMT"
      },
      "source": [
        "#### 첫 표지 페이지를 제거하는 예제"
      ]
    },
    {
      "cell_type": "code",
      "metadata": {
        "id": "bRKK6XUeJ-60"
      },
      "source": [
        "import os\n",
        "from PyPDF2 import PdfFileReader, PdfFileWriter\n",
        "\n",
        "# pdf가 있는 경로\n",
        "path = r'C:\\Users\\home\\Desktop\\새 폴더'\n",
        "\n",
        "# 각각의 pdf를 불러오기\n",
        "for item in os.listdir(path):\n",
        "    item_path = os.path.join(path, item)\n",
        "    pdf = PdfFileReader(open(item_path, 'rb'))\n",
        "    \n",
        "    numberPages = pdf.getNumPages()  # pdf 페이지수\n",
        "    \n",
        "    pdf_writer = PdfFileWriter()  # 빈 pdf 생성\n",
        "    for page in range(1, numberPages):\n",
        "\n",
        "        # 두번째 페이지부터 마지막 페이지까지 빈 pdf에 추가하기\n",
        "        pdf_writer.addPage(pdf.getPage(page))\n",
        "        output_name = 'new_{}'.format(item)\n",
        "        save_path = os.path.join(path, output_name)\n",
        "\n",
        "        # 파일 쓰기하면서 저장\n",
        "        with open(save_path, 'wb') as f:\n",
        "            pdf_writer.write(f)"
      ],
      "execution_count": null,
      "outputs": []
    },
    {
      "cell_type": "markdown",
      "metadata": {
        "id": "XkTM6qD6IfIE"
      },
      "source": [
        "#### [pdftotext](https://github.com/jalan/pdftotext)\n",
        "PDF문서의 텍스트만 필요하다고 하면 pdftotext 패키지를 사용하면 된다.\n",
        "```\n",
        "import pdftotext\n",
        " \n",
        "file = open(\"./sample.pdf\", 'rb')\n",
        "fileReader = pdftotext.PDF(file)\n",
        "\n",
        "print(\"총 페이지수는 {}입니다.\".format(len(fileReader)))\n",
        "print(\"첫페이지의 텍스트:\", fileReader[0])\n",
        "```\n",
        "\n",
        "#### [PDFMiner](https://github.com/euske/pdfminer)\n",
        "pdf문서를 text나 html로 변경해주는 모듈\n",
        "> 이미지나 표 등의 다른 구성요소들까지 추출하고 싶을 때"
      ]
    }
  ]
}