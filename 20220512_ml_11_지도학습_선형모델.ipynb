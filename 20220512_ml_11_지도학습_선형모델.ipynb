{
  "nbformat": 4,
  "nbformat_minor": 0,
  "metadata": {
    "colab": {
      "name": "20220512_ml_11_지도학습_선형모델.ipynb의 사본",
      "provenance": [],
      "collapsed_sections": [],
      "include_colab_link": true
    },
    "kernelspec": {
      "name": "python3",
      "display_name": "Python 3"
    }
  },
  "cells": [
    {
      "cell_type": "markdown",
      "metadata": {
        "id": "view-in-github",
        "colab_type": "text"
      },
      "source": [
        "<a href=\"https://colab.research.google.com/github/hwayoung306/AI/blob/main/20220512_ml_11_%EC%A7%80%EB%8F%84%ED%95%99%EC%8A%B5_%EC%84%A0%ED%98%95%EB%AA%A8%EB%8D%B8.ipynb\" target=\"_parent\"><img src=\"https://colab.research.google.com/assets/colab-badge.svg\" alt=\"Open In Colab\"/></a>"
      ]
    },
    {
      "cell_type": "code",
      "metadata": {
        "id": "yQIi_JhK243G",
        "colab": {
          "base_uri": "https://localhost:8080/"
        },
        "outputId": "914049b8-d749-4938-c319-89b5142b269f"
      },
      "source": [
        "!pip install mglearn"
      ],
      "execution_count": 1,
      "outputs": [
        {
          "output_type": "stream",
          "name": "stdout",
          "text": [
            "Collecting mglearn\n",
            "  Downloading mglearn-0.1.9.tar.gz (540 kB)\n",
            "\u001b[?25l\r\u001b[K     |▋                               | 10 kB 21.8 MB/s eta 0:00:01\r\u001b[K     |█▏                              | 20 kB 24.3 MB/s eta 0:00:01\r\u001b[K     |█▉                              | 30 kB 29.3 MB/s eta 0:00:01\r\u001b[K     |██▍                             | 40 kB 19.2 MB/s eta 0:00:01\r\u001b[K     |███                             | 51 kB 15.1 MB/s eta 0:00:01\r\u001b[K     |███▋                            | 61 kB 17.3 MB/s eta 0:00:01\r\u001b[K     |████▎                           | 71 kB 16.6 MB/s eta 0:00:01\r\u001b[K     |████▉                           | 81 kB 17.4 MB/s eta 0:00:01\r\u001b[K     |█████▌                          | 92 kB 18.7 MB/s eta 0:00:01\r\u001b[K     |██████                          | 102 kB 19.4 MB/s eta 0:00:01\r\u001b[K     |██████▊                         | 112 kB 19.4 MB/s eta 0:00:01\r\u001b[K     |███████▎                        | 122 kB 19.4 MB/s eta 0:00:01\r\u001b[K     |███████▉                        | 133 kB 19.4 MB/s eta 0:00:01\r\u001b[K     |████████▌                       | 143 kB 19.4 MB/s eta 0:00:01\r\u001b[K     |█████████                       | 153 kB 19.4 MB/s eta 0:00:01\r\u001b[K     |█████████▊                      | 163 kB 19.4 MB/s eta 0:00:01\r\u001b[K     |██████████▎                     | 174 kB 19.4 MB/s eta 0:00:01\r\u001b[K     |███████████                     | 184 kB 19.4 MB/s eta 0:00:01\r\u001b[K     |███████████▌                    | 194 kB 19.4 MB/s eta 0:00:01\r\u001b[K     |████████████▏                   | 204 kB 19.4 MB/s eta 0:00:01\r\u001b[K     |████████████▊                   | 215 kB 19.4 MB/s eta 0:00:01\r\u001b[K     |█████████████▍                  | 225 kB 19.4 MB/s eta 0:00:01\r\u001b[K     |██████████████                  | 235 kB 19.4 MB/s eta 0:00:01\r\u001b[K     |██████████████▋                 | 245 kB 19.4 MB/s eta 0:00:01\r\u001b[K     |███████████████▏                | 256 kB 19.4 MB/s eta 0:00:01\r\u001b[K     |███████████████▊                | 266 kB 19.4 MB/s eta 0:00:01\r\u001b[K     |████████████████▍               | 276 kB 19.4 MB/s eta 0:00:01\r\u001b[K     |█████████████████               | 286 kB 19.4 MB/s eta 0:00:01\r\u001b[K     |█████████████████▋              | 296 kB 19.4 MB/s eta 0:00:01\r\u001b[K     |██████████████████▏             | 307 kB 19.4 MB/s eta 0:00:01\r\u001b[K     |██████████████████▉             | 317 kB 19.4 MB/s eta 0:00:01\r\u001b[K     |███████████████████▍            | 327 kB 19.4 MB/s eta 0:00:01\r\u001b[K     |████████████████████            | 337 kB 19.4 MB/s eta 0:00:01\r\u001b[K     |████████████████████▋           | 348 kB 19.4 MB/s eta 0:00:01\r\u001b[K     |█████████████████████▎          | 358 kB 19.4 MB/s eta 0:00:01\r\u001b[K     |█████████████████████▉          | 368 kB 19.4 MB/s eta 0:00:01\r\u001b[K     |██████████████████████▌         | 378 kB 19.4 MB/s eta 0:00:01\r\u001b[K     |███████████████████████         | 389 kB 19.4 MB/s eta 0:00:01\r\u001b[K     |███████████████████████▋        | 399 kB 19.4 MB/s eta 0:00:01\r\u001b[K     |████████████████████████▎       | 409 kB 19.4 MB/s eta 0:00:01\r\u001b[K     |████████████████████████▉       | 419 kB 19.4 MB/s eta 0:00:01\r\u001b[K     |█████████████████████████▌      | 430 kB 19.4 MB/s eta 0:00:01\r\u001b[K     |██████████████████████████      | 440 kB 19.4 MB/s eta 0:00:01\r\u001b[K     |██████████████████████████▊     | 450 kB 19.4 MB/s eta 0:00:01\r\u001b[K     |███████████████████████████▎    | 460 kB 19.4 MB/s eta 0:00:01\r\u001b[K     |████████████████████████████    | 471 kB 19.4 MB/s eta 0:00:01\r\u001b[K     |████████████████████████████▌   | 481 kB 19.4 MB/s eta 0:00:01\r\u001b[K     |█████████████████████████████▏  | 491 kB 19.4 MB/s eta 0:00:01\r\u001b[K     |█████████████████████████████▊  | 501 kB 19.4 MB/s eta 0:00:01\r\u001b[K     |██████████████████████████████▍ | 512 kB 19.4 MB/s eta 0:00:01\r\u001b[K     |███████████████████████████████ | 522 kB 19.4 MB/s eta 0:00:01\r\u001b[K     |███████████████████████████████▌| 532 kB 19.4 MB/s eta 0:00:01\r\u001b[K     |████████████████████████████████| 540 kB 19.4 MB/s \n",
            "\u001b[?25hRequirement already satisfied: numpy in /usr/local/lib/python3.7/dist-packages (from mglearn) (1.21.6)\n",
            "Requirement already satisfied: matplotlib in /usr/local/lib/python3.7/dist-packages (from mglearn) (3.2.2)\n",
            "Requirement already satisfied: scikit-learn in /usr/local/lib/python3.7/dist-packages (from mglearn) (1.0.2)\n",
            "Requirement already satisfied: pandas in /usr/local/lib/python3.7/dist-packages (from mglearn) (1.3.5)\n",
            "Requirement already satisfied: pillow in /usr/local/lib/python3.7/dist-packages (from mglearn) (7.1.2)\n",
            "Requirement already satisfied: cycler in /usr/local/lib/python3.7/dist-packages (from mglearn) (0.11.0)\n",
            "Requirement already satisfied: imageio in /usr/local/lib/python3.7/dist-packages (from mglearn) (2.4.1)\n",
            "Requirement already satisfied: joblib in /usr/local/lib/python3.7/dist-packages (from mglearn) (1.1.0)\n",
            "Requirement already satisfied: kiwisolver>=1.0.1 in /usr/local/lib/python3.7/dist-packages (from matplotlib->mglearn) (1.4.2)\n",
            "Requirement already satisfied: pyparsing!=2.0.4,!=2.1.2,!=2.1.6,>=2.0.1 in /usr/local/lib/python3.7/dist-packages (from matplotlib->mglearn) (3.0.8)\n",
            "Requirement already satisfied: python-dateutil>=2.1 in /usr/local/lib/python3.7/dist-packages (from matplotlib->mglearn) (2.8.2)\n",
            "Requirement already satisfied: typing-extensions in /usr/local/lib/python3.7/dist-packages (from kiwisolver>=1.0.1->matplotlib->mglearn) (4.2.0)\n",
            "Requirement already satisfied: six>=1.5 in /usr/local/lib/python3.7/dist-packages (from python-dateutil>=2.1->matplotlib->mglearn) (1.15.0)\n",
            "Requirement already satisfied: pytz>=2017.3 in /usr/local/lib/python3.7/dist-packages (from pandas->mglearn) (2022.1)\n",
            "Requirement already satisfied: scipy>=1.1.0 in /usr/local/lib/python3.7/dist-packages (from scikit-learn->mglearn) (1.4.1)\n",
            "Requirement already satisfied: threadpoolctl>=2.0.0 in /usr/local/lib/python3.7/dist-packages (from scikit-learn->mglearn) (3.1.0)\n",
            "Building wheels for collected packages: mglearn\n",
            "  Building wheel for mglearn (setup.py) ... \u001b[?25l\u001b[?25hdone\n",
            "  Created wheel for mglearn: filename=mglearn-0.1.9-py2.py3-none-any.whl size=582639 sha256=06c32801062c0db4654a19015314c9187e180be21335465d09dcf23142265bef\n",
            "  Stored in directory: /root/.cache/pip/wheels/f1/17/e1/1720d6dcd70187b6b6c3750cb3508798f2b1d57c9d3214b08b\n",
            "Successfully built mglearn\n",
            "Installing collected packages: mglearn\n",
            "Successfully installed mglearn-0.1.9\n"
          ]
        }
      ]
    },
    {
      "cell_type": "code",
      "source": [
        "# 경고메시지 무시\n",
        "import warnings\n",
        "warnings.filterwarnings(\"ignore\")"
      ],
      "metadata": {
        "id": "Zadx6WJsQBYz"
      },
      "execution_count": 82,
      "outputs": []
    },
    {
      "cell_type": "markdown",
      "metadata": {
        "id": "xdlpRk691peC"
      },
      "source": [
        "# 선형회귀 (Linear Regression)\n",
        "\n",
        "회귀 모델이란? -> 선\n",
        "\n",
        "- 어떤 자료에 대해서 그 값에 영향을 주는 조건을 고려하여 구한 평균 <br>\n",
        "(어떤 데이터들이 굉장히 크거나 작을지라도 전체적으로 이 데이터들은 전체 평균으로 회귀하려는 특징이 있다는 통계학 기법)\n"
      ]
    },
    {
      "cell_type": "markdown",
      "metadata": {
        "id": "8O0kNfUf_AhW"
      },
      "source": [
        "- \\\\( y = h(x_1, x_2, x_3, ..., x_k; W_1, W_2, W_3, ..., W_k) + \\epsilon \\\\)\n",
        "\n",
        " - \\\\( (wx + e = y) \\\\)  =  \\\\((ax + b =y)\\\\)\n",
        " - h() : 조건에 따른 평균을 구하는 함수 (회귀 모델)\n",
        " - x : 어떤 조건(특성)\n",
        " - W : 각 조건의 영향력(가중치)\n",
        " - e : ‘오차항’을 의미. 다양한 현실적인 한계로 인해 발생하는 불확실성으로 일종의 잡음(noise)\n",
        " "
      ]
    },
    {
      "cell_type": "markdown",
      "metadata": {
        "id": "t9fnb7Bu4qFF"
      },
      "source": [
        "선형 모델이란?\n",
        "\n",
        "- 입력 특성에 대한 선형 함수를 만들어 예측을 수행\n",
        "\n",
        "- 다양한 선형 모델이 존재\n",
        "\n",
        "- 분류와 회귀에 모두 사용 가능\n"
      ]
    },
    {
      "cell_type": "markdown",
      "metadata": {
        "id": "vDXzxEss5F1M"
      },
      "source": [
        "<center>\n",
        "\n",
        "시험성적 데이터\n",
        "\n",
        "|X ( 학습 시간 )| Y ( 시험 점수 )|\n",
        "|---|---|\n",
        "|9 |90|\n",
        "|8 |80|\n",
        "|4| 40|\n",
        "|2| 20|\n",
        "\n",
        "7시간 공부 할 경우 성적은?\n",
        "</center>\n",
        "\n"
      ]
    },
    {
      "cell_type": "code",
      "metadata": {
        "id": "u8cTax-01dWx",
        "colab": {
          "base_uri": "https://localhost:8080/",
          "height": 265
        },
        "outputId": "378f529f-afbf-4b8c-be41-76b1f46d002c"
      },
      "source": [
        "import matplotlib.pyplot as plt\n",
        "%matplotlib inline\n",
        "\n",
        "x = [9, 8, 4, 2]\n",
        "y = [90, 80, 40, 20]\n",
        "\n",
        "plt.plot(x,y)\n",
        "plt.grid()\n",
        "plt.show()"
      ],
      "execution_count": 3,
      "outputs": [
        {
          "output_type": "display_data",
          "data": {
            "text/plain": [
              "<Figure size 432x288 with 1 Axes>"
            ],
            "image/png": "[encoded data removed]"
          },
          "metadata": {
            "needs_background": "light"
          }
        }
      ]
    },
    {
      "cell_type": "markdown",
      "metadata": {
        "id": "JIfam4px_Myj"
      },
      "source": [
        " \\\\( y=ax+b \\\\)\n",
        "\n",
        " - a : 기울기\n",
        " - b : 절편"
      ]
    },
    {
      "cell_type": "markdown",
      "metadata": {
        "id": "DnaEGSFmUhs-"
      },
      "source": [
        "<center>\n",
        "\n",
        "시험성적 데이터\n",
        "\n",
        "|X ( 학습 시간 )| Y ( 시험 점수 )|\n",
        "|---|---|\n",
        "|8 |97|\n",
        "|6 |91|\n",
        "|4| 93|\n",
        "|2| 81|\n",
        "\n",
        "7시간 공부 할 경우 성적은?\n",
        "</center>\n",
        "\n"
      ]
    },
    {
      "cell_type": "code",
      "metadata": {
        "id": "fedN6VtvUxDC",
        "colab": {
          "base_uri": "https://localhost:8080/",
          "height": 265
        },
        "outputId": "af5ca513-79f3-4deb-83f9-6170dc42d63e"
      },
      "source": [
        "import matplotlib.pyplot as plt\n",
        "%matplotlib inline\n",
        "\n",
        "x = [8, 6, 4, 2]\n",
        "y = [97, 91, 93, 81]\n",
        "\n",
        "plt.plot(x, y, 'bo')\n",
        "plt.grid()\n",
        "plt.show()"
      ],
      "execution_count": 5,
      "outputs": [
        {
          "output_type": "display_data",
          "data": {
            "text/plain": [
              "<Figure size 432x288 with 1 Axes>"
            ],
            "image/png": "[encoded data removed]"
          },
          "metadata": {
            "needs_background": "light"
          }
        }
      ]
    },
    {
      "cell_type": "markdown",
      "metadata": {
        "id": "AZoDgX3yVJqN"
      },
      "source": [
        " \\\\( y=ax+b \\\\)\n",
        "\n",
        " - a : 기울기\n",
        " - b : 절편"
      ]
    },
    {
      "cell_type": "markdown",
      "metadata": {
        "id": "Zcy0nntfaFaY"
      },
      "source": [
        "최소제곱법\n",
        "\n",
        "> \\\\( a=\\frac { (x-x평균)(y-y평균)의 합 }{ { (x-x평균) }^{ 2 }의 합 }  \\\\)\n",
        "\n",
        "- 공부한 시간(x)의 평균: (2+4+6+8) / 4 = 5\n",
        "- 성적(y)의 평균: (81+93+91+97) / 4 = 90.5\n",
        "\n",
        "> \\\\( b=y의 평균- (x의 평균 \\times 기울기 a) \\\\)\n",
        "\n",
        "- b = 90.5 - (2.3 x 5) = 79\n"
      ]
    },
    {
      "cell_type": "code",
      "metadata": {
        "id": "jLWJihbwYl-9",
        "colab": {
          "base_uri": "https://localhost:8080/"
        },
        "outputId": "172a1dec-227b-4d26-e059-2f47d1275c60"
      },
      "source": [
        "a = ( (2-5)*(81-90.5)+(4-5)*(93-90.5)+(6-5)*(91-90.5)+(8-5)*(97-90.5) )  /  ( (2-5)**2 + (4-5)**2 + (6-5)**2 + (8-5)**2 )\n",
        "a1 = ( (2-5)*(81-90.5)+(4-5)*(93-90.5)+(6-5)*(91-90.5)+(8-5)*(97-90.5) ) \n",
        "a2 = ( (2-5)**2 + (4-5)**2 + (6-5)**2 + (8-5)**2 )\n",
        "a1, a2, a"
      ],
      "execution_count": 6,
      "outputs": [
        {
          "output_type": "execute_result",
          "data": {
            "text/plain": [
              "(46.0, 20, 2.3)"
            ]
          },
          "metadata": {},
          "execution_count": 6
        }
      ]
    },
    {
      "cell_type": "code",
      "metadata": {
        "id": "kKnSrYz5VA2h"
      },
      "source": [
        "# 오차가 최저가 되는 직선\n",
        "import numpy as np\n",
        "# 기울기 a를 최소제곱법으로 구하는 함수\n",
        "def compute_a(x, y, mean_x, mean_y):\n",
        "    # 분자부분\n",
        "    dc = 0\n",
        "    for i in range(len(x)) :\n",
        "        dc = (x[i] - mean_x) * (y[i] - mean_y)\n",
        "\n",
        "    # 분모부분\n",
        "    divisor = 0\n",
        "    for i in range(len(x)) :\n",
        "        divisor += (x[i] - mean_x)**2\n",
        "\n",
        "    a = dc / divisor\n",
        "    return a"
      ],
      "execution_count": 16,
      "outputs": []
    },
    {
      "cell_type": "code",
      "source": [
        "x = [8, 6, 4, 2]\n",
        "y = [97, 91, 93, 81]\n",
        "\n",
        "mx = np.mean(x)\n",
        "my = np.mean(y)\n",
        "a = compute_a(x, y, mx, my) # 기울기\n",
        "b = my - (mx * a)           # 절편\n",
        "\n",
        "y_pred = [a * x1 + b for x1 in x]\n",
        "\n",
        "plt.plot(x, y, 'bo')\n",
        "plt.plot(x, y_pred, 'r-o')\n",
        "plt.grid()\n",
        "plt.show()"
      ],
      "metadata": {
        "colab": {
          "base_uri": "https://localhost:8080/",
          "height": 265
        },
        "id": "ip3KT5VZxuZC",
        "outputId": "c713098f-d01c-4b1c-959a-b2162142e8ff"
      },
      "execution_count": 17,
      "outputs": [
        {
          "output_type": "display_data",
          "data": {
            "text/plain": [
              "<Figure size 432x288 with 1 Axes>"
            ],
            "image/png": "[encoded data removed]"
          },
          "metadata": {
            "needs_background": "light"
          }
        }
      ]
    },
    {
      "cell_type": "markdown",
      "metadata": {
        "id": "qYTV7CoIAzvM"
      },
      "source": [
        "## 선형회귀(Linear Regression) <br>\n",
        " 또는 최소제곱법(Ordinary Least Squares)"
      ]
    },
    {
      "cell_type": "markdown",
      "metadata": {
        "id": "-9dzHbsARWp5"
      },
      "source": [
        "- 종속변수(응답변수) y와 한 개 이상의 독립변수(입력변수) x와의 상관관계를 모델링한 것\n",
        "\n",
        " >  \\\\( y=Wx+b \\\\)  \n",
        "  - (W : 가중치, b : 편향(bias))\n",
        "\n",
        " > \\\\( H(x)=Wx+b \\\\)  \n",
        "  - H(x) : Linear 하게 Hypothesis(가설)을 세운다는 것\n",
        "  - 데이터를 가장 잘 대변할 수 있는 H(x)의 W와 b를 정하는 것이 Linear Regression의 목적"
      ]
    },
    {
      "cell_type": "code",
      "metadata": {
        "id": "tfC8D6rOEqrr",
        "colab": {
          "base_uri": "https://localhost:8080/",
          "height": 265
        },
        "outputId": "613f7fda-b862-4930-e0a6-d3aa9abac529"
      },
      "source": [
        "import numpy as np\n",
        "import mglearn\n",
        "\n",
        "X, y = mglearn.datasets.make_wave(100) # 100개짜리 데이터 만들기!\n",
        "plt.scatter(X, y)\n",
        "plt.show()"
      ],
      "execution_count": 20,
      "outputs": [
        {
          "output_type": "display_data",
          "data": {
            "text/plain": [
              "<Figure size 432x288 with 1 Axes>"
            ],
            "image/png": "[encoded data removed]"
          },
          "metadata": {
            "needs_background": "light"
          }
        }
      ]
    },
    {
      "cell_type": "code",
      "metadata": {
        "id": "x9KVI_qwOhKm",
        "colab": {
          "base_uri": "https://localhost:8080/",
          "height": 465
        },
        "outputId": "81782727-64d6-4e3e-e42a-f19b9d641448"
      },
      "source": [
        "import mglearn\n",
        "mglearn.plots.plot_linear_regression_wave()"
      ],
      "execution_count": 21,
      "outputs": [
        {
          "output_type": "stream",
          "name": "stdout",
          "text": [
            "w[0]: 0.393906  b: -0.031804\n"
          ]
        },
        {
          "output_type": "display_data",
          "data": {
            "text/plain": [
              "<Figure size 576x576 with 1 Axes>"
            ],
            "image/png": "[encoded data removed]"
          },
          "metadata": {
            "needs_background": "light"
          }
        }
      ]
    },
    {
      "cell_type": "markdown",
      "metadata": {
        "id": "XFhwV3SGPc-h"
      },
      "source": [
        "- 비용함수 (Cost / Cost function) : 그려진 직선 Hypothesis(H(x))와 실제 데이터(y)의 차이 -> 오차 계산 하는 것임\n",
        "  - Cost = H(x) - y에 데이터를 대입하여 Cost의 총합을 구하는 것이 가능\n",
        "  - Cost의 총합이 작은 Hypothesis일수록 데이터를 잘 대변하는 훌륭한 Linear Regression\n",
        "  - Cost는 양수일 수도, 음수일 수도 있기에 이러한 문제를 방지하고자 총합을 구할 때 Cost값을 제곱하여 평균을 내는 방식(평균제곱오차, MSE, Mean Squared Error)을 사용\n",
        "  >  \\\\( cost(W,b)=\\cfrac { 1 }{ m } \\sum _{ i=1 }^{ m } { (H({ x }^{ (i) })-{ y }^{ (i) }) }^{ 2 }  \\\\)\n",
        "\n",
        "   > \\\\( H(x)=Wx+b \\\\)  \n",
        "\n",
        " - 머신러닝(or 딥러닝)에서 learning의 목적은 Cost를 정의하고 이를 최소화하는 것"
      ]
    },
    {
      "cell_type": "markdown",
      "metadata": {
        "id": "Mj6fB9tA0Ztt"
      },
      "source": [
        "#### 평균제곱오차 (MSE, Mean Squared Error) - 잘못그은 선 바로잡기\n",
        "\n",
        "- 실제값과 예측값의 차이를 분석하기 위한 것\n",
        "- 음수가 존재하는 경우 오차가 줄어드는 문제 -> 자승을 취함\n",
        "- 평균오차가 자승으로 인해 커지는 문제 -> 제곱근을 취함"
      ]
    },
    {
      "cell_type": "markdown",
      "metadata": {
        "id": "M3uRN2EZ_Ig6"
      },
      "source": [
        "|x(hour) | y(score)|\n",
        "|---|---|\n",
        "|0|0|\n",
        "|1|1|\n",
        "|2|2|\n",
        "|3|3|\n",
        "\n",
        "\\\\( H(x)=1 \\times  x+0 \\\\)  \n",
        "\n",
        "\\\\( H(x)=0.5 \\times x+0 \\\\)  "
      ]
    },
    {
      "cell_type": "code",
      "metadata": {
        "id": "cKHxN9cc0INF",
        "colab": {
          "base_uri": "https://localhost:8080/",
          "height": 265
        },
        "outputId": "d59672b1-5a96-4b30-9289-dcea7ebdb6f7"
      },
      "source": [
        "import numpy as np\n",
        "import matplotlib.pyplot as plt\n",
        "%matplotlib inline\n",
        "\n",
        "x = np.array([0, 1, 2, 3])\n",
        "y = np.array([0, 1, 2, 3])\n",
        "\n",
        "# 가중치(계수) 및 편향(절편)\n",
        "w = 1\n",
        "b = 0\n",
        "y_pred1 = w* x + b\n",
        "plt.plot(x, y_pred1, 'b-o')\n",
        "\n",
        "w = 0.5\n",
        "b = 0\n",
        "y_pred2 = w* x + b\n",
        "plt.plot(x, y_pred2, 'r-o')\n",
        "\n",
        "plt.show()"
      ],
      "execution_count": 26,
      "outputs": [
        {
          "output_type": "display_data",
          "data": {
            "text/plain": [
              "<Figure size 432x288 with 1 Axes>"
            ],
            "image/png": "[encoded data removed]"
          },
          "metadata": {
            "needs_background": "light"
          }
        }
      ]
    },
    {
      "cell_type": "markdown",
      "metadata": {
        "id": "J1A75RiIBl4-"
      },
      "source": [
        "#### 평균제곱오차 (MSE, Mean Squared Error) 연습 01\n",
        "가설의 MSE 값을 계산해보자.\n"
      ]
    },
    {
      "cell_type": "markdown",
      "metadata": {
        "id": "10mOqCgJB0mQ"
      },
      "source": [
        "\\\\( \\cfrac { { (H({ x }^{ (1) })-{ y }^{ (1) }) }^{ 2 } + { (H({ x }^{ (2) })-{ y }^{ (2) }) }^{ 2 }+ { (H({ x }^{ (3) })-{ y }^{ (3) }) }^{ 2 }+ { (H({ x }^{ (4) })-{ y }^{ (4) }) }^{ 2 } }{ 4 } = ? \\\\)"
      ]
    },
    {
      "cell_type": "code",
      "metadata": {
        "id": "VS07VHo373-N",
        "colab": {
          "base_uri": "https://localhost:8080/"
        },
        "outputId": "19f6860e-f1dc-4fd3-b26b-2fc090acf80a"
      },
      "source": [
        "# y_pred(예측값), y(실제값)\n",
        "def MSE(y_pred, y): # 오차값 구하기!\n",
        "  cost = np.sum( (y_pred - y )**2 / len(y) )\n",
        "  return cost\n",
        "\n",
        "MSE(y_pred1, y), MSE(y_pred2, y)"
      ],
      "execution_count": 27,
      "outputs": [
        {
          "output_type": "execute_result",
          "data": {
            "text/plain": [
              "(0.0, 0.875)"
            ]
          },
          "metadata": {},
          "execution_count": 27
        }
      ]
    },
    {
      "cell_type": "markdown",
      "metadata": {
        "id": "Jj0QGZXbDmZW"
      },
      "source": [
        "#### 경사하강법 (Gradient descent algorithm) - 오차 수정하기\n",
        "\n",
        "어떻게 비용함수 값이 최소가 되는 W 파라미터를 구할 수 있을까?\n",
        "\n",
        "- 점진적인 하강, 점진적으로 반복적인 계산을 통해 W 파라미터 값을 업데이트 하면서 오류 값이 최소가 되는 값을 구하는 방식\n",
        "\n",
        "- 함수의 기울기(경사)를 구하여 기울기가 낮은 쪽으로 \n",
        "계속 이동하여 값을 최적화 시키는 방법 <br> (오차 (기울기)가 가장 작은 방향으로 이동시키는 방법)\n"
      ]
    },
    {
      "cell_type": "markdown",
      "metadata": {
        "id": "kvkSrjnwHRAn"
      },
      "source": [
        "learning_rate(학습 속도)란?\n",
        "\n",
        "- W와 b의 미분 값(W_grad, b_grade)을 얼마만큼 반영할지를 결정하는 값.\n",
        "- 주로 0.001, 0.00001과 같은 매우 작은 값을 사용하며 learning_rate가 클수록 변화가 빠르며, learning_rate가 작을수록 변화가 느리다고 예상.\n",
        "- 꼭 변화가 빠르다고 해서 결과를 빨리 볼 수 있는 것은 아님."
      ]
    },
    {
      "cell_type": "code",
      "metadata": {
        "id": "VU_RbVfhFOXa",
        "colab": {
          "base_uri": "https://localhost:8080/",
          "height": 283
        },
        "outputId": "808a83ac-f194-4303-c910-ff8d1ace8d6a"
      },
      "source": [
        "import numpy as np\n",
        "import matplotlib.pyplot as plt\n",
        "w_val = []\n",
        "cost_val = []\n",
        "\n",
        "n_samples = 200\n",
        "x = np.random.randn(n_samples)\n",
        "y = 2 * x + 4 + np.random.randn(n_samples)\n",
        "\n",
        "n_epoch = 10 # 반복횟수\n",
        "lr = 0.7     # 학습속도\n",
        "\n",
        "w = np.random.uniform()\n",
        "b = np.random.uniform()\n",
        "\n",
        "for epoch in range( n_epoch ) : \n",
        "    y_pred = w * x + b\n",
        "    cost = MSE(y_pred, y)\n",
        "    w_diff = ((y_pred - y) * x).mean() # 기울기 차이\n",
        "    b_diff = (y_pred - y).mean()       # 절편 차이\n",
        "\n",
        "    w = w - ( lr * w_diff )\n",
        "    b = b - ( lr * b_diff )\n",
        "\n",
        "    w_val.append(w)\n",
        "    cost_val.append(cost)\n",
        "\n",
        "\n",
        "# plt.plot(x, y, 'o')\n",
        "plt.plot(range(n_epoch), cost_val)\n",
        "plt.show()\n",
        "w, b"
      ],
      "execution_count": 37,
      "outputs": [
        {
          "output_type": "display_data",
          "data": {
            "text/plain": [
              "<Figure size 432x288 with 1 Axes>"
            ],
            "image/png": "[encoded data removed]"
          },
          "metadata": {
            "needs_background": "light"
          }
        },
        {
          "output_type": "execute_result",
          "data": {
            "text/plain": [
              "(2.058814906714706, 3.944341041467314)"
            ]
          },
          "metadata": {},
          "execution_count": 37
        }
      ]
    },
    {
      "cell_type": "markdown",
      "metadata": {
        "id": "2eanx1s7gAP8"
      },
      "source": [
        "#### LinearRegression 실습 01\n",
        "\n",
        "배달시간 예측\n",
        "- 설정 거리의 장소에 배달하려면 얼마나 걸리는지 예측"
      ]
    },
    {
      "cell_type": "code",
      "metadata": {
        "id": "T_GscF7PgL13"
      },
      "source": [
        "import numpy as np \n",
        "from matplotlib import pyplot as plt "
      ],
      "execution_count": 38,
      "outputs": []
    },
    {
      "cell_type": "code",
      "metadata": {
        "id": "FAZbnF7wgNhW"
      },
      "source": [
        "# 배달거리와 배달시간 데이터\n",
        "data = np.array([\n",
        "    [100, 20], \n",
        "\t\t[150, 24], \n",
        "\t\t[300, 36], \n",
        "\t\t[400, 47], \n",
        "\t\t[130, 22], \n",
        "\t\t[240, 32],\n",
        "\t\t[350, 47], \n",
        "\t\t[200, 42], \n",
        "\t\t[100, 21], \n",
        "\t\t[110, 21], \n",
        "\t\t[190, 30], \n",
        "\t\t[120, 25], \n",
        "\t\t[130, 18], \n",
        "\t\t[270, 38], \n",
        "\t\t[255, 28]])\n",
        "\n",
        "x = data[:, 0] # 배달거리\n",
        "y = data[:, 1] # 배달시간"
      ],
      "execution_count": 40,
      "outputs": []
    },
    {
      "cell_type": "code",
      "metadata": {
        "id": "d_xrLY5bDehj",
        "colab": {
          "base_uri": "https://localhost:8080/",
          "height": 265
        },
        "outputId": "fde72ccd-655f-4205-b1b7-8e95df3bf6a9"
      },
      "source": [
        "plt.scatter(x, y)\n",
        "plt.grid()"
      ],
      "execution_count": 41,
      "outputs": [
        {
          "output_type": "display_data",
          "data": {
            "text/plain": [
              "<Figure size 432x288 with 1 Axes>"
            ],
            "image/png": "[encoded data removed]"
          },
          "metadata": {
            "needs_background": "light"
          }
        }
      ]
    },
    {
      "cell_type": "code",
      "metadata": {
        "id": "9ILCBwKLg2BD",
        "colab": {
          "base_uri": "https://localhost:8080/"
        },
        "outputId": "16334f33-6a98-4a6a-b660-3cc9a77d2f9e"
      },
      "source": [
        "# 기울기 a를 최소제곱법으로 구하는 함수\n",
        "def compute_a(x, y, mean_x, mean_y):\n",
        "    xa = np.array(x)\n",
        "    ya = np.array(y)\n",
        "    dc = np.sum( (x - mean_x) * (y - mean_y) ) # 분자 부분\n",
        "    divisor = np.sum( (x-mean_x)**2 )          # 분모 부분 \n",
        "    return dc / divisor \n",
        "\n",
        "a = compute_a( x, y, mx, my ) # 기울기\n",
        "b = my - ( mx *a )# 절편\n",
        "a, b"
      ],
      "execution_count": 42,
      "outputs": [
        {
          "output_type": "execute_result",
          "data": {
            "text/plain": [
              "(-0.23380065564623004, 91.66900327823114)"
            ]
          },
          "metadata": {},
          "execution_count": 42
        }
      ]
    },
    {
      "cell_type": "code",
      "metadata": {
        "id": "0NMbiRRHDpGX",
        "colab": {
          "base_uri": "https://localhost:8080/",
          "height": 265
        },
        "outputId": "83039d7f-8849-4a62-ffbe-4f57a92ee6f5"
      },
      "source": [
        "y_pred = a * x + b\n",
        "plt.plot(x, y_pred)\n",
        "plt.scatter(x, y)\n",
        "plt.grid()"
      ],
      "execution_count": 43,
      "outputs": [
        {
          "output_type": "display_data",
          "data": {
            "text/plain": [
              "<Figure size 432x288 with 1 Axes>"
            ],
            "image/png": "[encoded data removed]"
          },
          "metadata": {
            "needs_background": "light"
          }
        }
      ]
    },
    {
      "cell_type": "markdown",
      "metadata": {
        "id": "P1L6YCM3hIwZ"
      },
      "source": [
        "- 예측하기 (거리가 350인경우 배달시간)"
      ]
    },
    {
      "cell_type": "code",
      "metadata": {
        "id": "ueHua-fjDqaX",
        "colab": {
          "base_uri": "https://localhost:8080/"
        },
        "outputId": "68155412-890a-488b-9a7d-82a6a0fa1547"
      },
      "source": [
        "y_pred = a * 350 + b\n",
        "y_pred"
      ],
      "execution_count": 44,
      "outputs": [
        {
          "output_type": "execute_result",
          "data": {
            "text/plain": [
              "9.838773802050625"
            ]
          },
          "metadata": {},
          "execution_count": 44
        }
      ]
    },
    {
      "cell_type": "markdown",
      "metadata": {
        "id": "Nbk5500uw5Kf"
      },
      "source": [
        "#### 일반 선형회귀\n",
        "\n",
        "예측값과 실제 값의 cost를 최소화할 수 있도록 W(가중치, 회귀계수)를 최적화하며, 규제(Regularization)를 적용하지 않은 모델"
      ]
    },
    {
      "cell_type": "markdown",
      "metadata": {
        "id": "yjsCKwrgsjou"
      },
      "source": [
        "단순 선형회귀 (Simple Linear Regression)\n",
        "> \\\\( H({ x })={ W }{ x }+b \\\\)\n",
        "\n",
        "다변수 선형회귀 (Multi-variable Linear Regreesion)\n",
        "> 변수가 3개 일때의 H(x) <br>\n",
        "> \\\\( H({ x }_{ 1 },{ x }_{ 2 },{ x }_{ 3 })={ W }_{ 1 }{ x }_{ 1 }+{ W }_{ 2 }{ x }_{ 2 }+{ W }_{ 3 }{ x }_{ 3 }+b \\\\)\n",
        "\n",
        "> 변수가 n개 일때의 H(x) <br>\n",
        ">  \\\\( H({ x }_{ 1 },{ x }_{ 2 },{ x }_{ 3 },\\dots ,{ x }_{ n })={ W }_{ 1 }{ x }_{ 1 }+{ W }_{ 2 }{ x }_{ 2 }+{ W }_{ 3 }{ x }_{ 3 }+\\dots +{ W }_{ n }{ x }_{ n }+b \\\\)\n",
        "\n",
        "다항 회귀 (Polynomial Regreesion)\n",
        "> 회귀가 독립변수의 단항식이 아닌 2차, 3차 방정식과 같은 다항식으로 표현되는 것 <br>\n",
        "> 차수가 높아질수록 과적합의 문제가 발생\n"
      ]
    },
    {
      "cell_type": "code",
      "metadata": {
        "id": "yHOmjG5DxhDn",
        "colab": {
          "base_uri": "https://localhost:8080/",
          "height": 283
        },
        "outputId": "142ac20c-090f-4e26-ce2f-d5ee206702c2"
      },
      "source": [
        "import numpy as np\n",
        "import matplotlib.pyplot as plt\n",
        "%matplotlib inline\n",
        "\n",
        "n = 100\n",
        "X = 6 * np.random.rand(n, 1) -3\n",
        "y = 0.5 * X**2 + 1 * X + 2 +  np.random.rand(n, 1)\n",
        "\n",
        "plt.scatter(X, y, s = 5)"
      ],
      "execution_count": 51,
      "outputs": [
        {
          "output_type": "execute_result",
          "data": {
            "text/plain": [
              "<matplotlib.collections.PathCollection at 0x7fdd8a71cd10>"
            ]
          },
          "metadata": {},
          "execution_count": 51
        },
        {
          "output_type": "display_data",
          "data": {
            "text/plain": [
              "<Figure size 432x288 with 1 Axes>"
            ],
            "image/png": "[encoded data removed]"
          },
          "metadata": {
            "needs_background": "light"
          }
        }
      ]
    },
    {
      "cell_type": "code",
      "metadata": {
        "id": "SpYNOsFfyNL_",
        "colab": {
          "base_uri": "https://localhost:8080/"
        },
        "outputId": "255f06bf-89c4-451c-aaf9-e1cc54adb055"
      },
      "source": [
        "from sklearn.preprocessing import PolynomialFeatures\n",
        "\n",
        "poly  = PolynomialFeatures(degree=2, include_bias=False)\n",
        "X_poly = poly.fit_transform(X)\n",
        "X.shape, X_poly.shape"
      ],
      "execution_count": 55,
      "outputs": [
        {
          "output_type": "execute_result",
          "data": {
            "text/plain": [
              "((100, 1), (100, 2))"
            ]
          },
          "metadata": {},
          "execution_count": 55
        }
      ]
    },
    {
      "cell_type": "code",
      "source": [
        "X[0], X_poly[0]"
      ],
      "metadata": {
        "colab": {
          "base_uri": "https://localhost:8080/"
        },
        "id": "lD7VshjnCNPL",
        "outputId": "de800e1e-fee0-4c8f-942b-8ce5fb99b68d"
      },
      "execution_count": 57,
      "outputs": [
        {
          "output_type": "execute_result",
          "data": {
            "text/plain": [
              "(array([-2.94830703]), array([-2.94830703,  8.69251437]))"
            ]
          },
          "metadata": {},
          "execution_count": 57
        }
      ]
    },
    {
      "cell_type": "code",
      "metadata": {
        "id": "YyCW-fT9yr-y",
        "colab": {
          "base_uri": "https://localhost:8080/"
        },
        "outputId": "a40638d2-42d6-4197-c3f6-504248f6f442"
      },
      "source": [
        "from sklearn.linear_model import LinearRegression\n",
        "\n",
        "model = LinearRegression()\n",
        "model.fit(X_poly, y)\n",
        "model.coef_, model.intercept_"
      ],
      "execution_count": 56,
      "outputs": [
        {
          "output_type": "execute_result",
          "data": {
            "text/plain": [
              "(array([[1.00117842, 0.49059215]]), array([2.52424807]))"
            ]
          },
          "metadata": {},
          "execution_count": 56
        }
      ]
    },
    {
      "cell_type": "markdown",
      "metadata": {
        "id": "5DxiZrfdZX5i"
      },
      "source": [
        "#### LinearRegression 실습 02\n",
        "\n",
        "wave 데이터셋에 선형회귀 적용"
      ]
    },
    {
      "cell_type": "markdown",
      "metadata": {
        "id": "kmw0fII4Zmgg"
      },
      "source": [
        "LinearRegression()\n",
        "```\n",
        "LinearRegression(fit_intercept, normalize, copy_X, n_jobs)\n",
        "```\n",
        "- fit_intercept : 모형에 상수항 (절편)이 있는가 없는가를 결정하는 인수 (default : True)\n",
        "- normalize : 매개변수 무시 여부\n",
        "- copy_X : X의 복사 여부\n",
        "- n_jobs : 계산에 사용할 작업 수"
      ]
    },
    {
      "cell_type": "code",
      "metadata": {
        "id": "jVbmkpHYTbau",
        "colab": {
          "base_uri": "https://localhost:8080/"
        },
        "outputId": "0858df5e-a11a-4eb5-e1fb-ba3a9dc03d34"
      },
      "source": [
        "from sklearn.linear_model import LinearRegression\n",
        "from sklearn.model_selection import train_test_split\n",
        "from sklearn import metrics\n",
        "import mglearn\n",
        "X, y = mglearn.datasets.make_wave(60)\n",
        "# plt.scatter(X, y)\n",
        "\n",
        "X_train, X_test, y_train, y_test = train_test_split(X, y, random_state =42)\n",
        "\n",
        "model = LinearRegression()\n",
        "model.fit(X_train, y_train)\n",
        "model.coef_, model.intercept_\n"
      ],
      "execution_count": 60,
      "outputs": [
        {
          "output_type": "execute_result",
          "data": {
            "text/plain": [
              "(array([0.39390555]), -0.031804343026759746)"
            ]
          },
          "metadata": {},
          "execution_count": 60
        }
      ]
    },
    {
      "cell_type": "code",
      "source": [
        "model.score(X_train, y_train), model.score(X_test, y_test)"
      ],
      "metadata": {
        "colab": {
          "base_uri": "https://localhost:8080/"
        },
        "id": "WJTfwahFHwWz",
        "outputId": "46ba1952-a562-4b93-9acd-65e03b4987fb"
      },
      "execution_count": 61,
      "outputs": [
        {
          "output_type": "execute_result",
          "data": {
            "text/plain": [
              "(0.6700890315075756, 0.65933685968637)"
            ]
          },
          "metadata": {},
          "execution_count": 61
        }
      ]
    },
    {
      "cell_type": "markdown",
      "metadata": {
        "id": "z4Bh1Sz1a4hn"
      },
      "source": [
        "#### LinearRegression 실습 03 - 1\n",
        "변수가 1개인 경우"
      ]
    },
    {
      "cell_type": "code",
      "metadata": {
        "id": "-1VVo3XXYxNp",
        "colab": {
          "base_uri": "https://localhost:8080/",
          "height": 283
        },
        "outputId": "64e3bb0f-f021-4564-8381-3a9a611bbeda"
      },
      "source": [
        "import numpy as np\n",
        "import pandas as pd\n",
        "import matplotlib.pyplot as plt\n",
        "%matplotlib inline\n",
        "\n",
        "n_samples = 200\n",
        "x = np.random.randn(n_samples)\n",
        "# 계수 및 절편\n",
        "w = 2\n",
        "b = 3\n",
        "# 노이즈\n",
        "y = w * x + b + np.random.randn(n_samples)\n",
        "\n",
        "plt.scatter(x, y)"
      ],
      "execution_count": 62,
      "outputs": [
        {
          "output_type": "execute_result",
          "data": {
            "text/plain": [
              "<matplotlib.collections.PathCollection at 0x7fdd886d4750>"
            ]
          },
          "metadata": {},
          "execution_count": 62
        },
        {
          "output_type": "display_data",
          "data": {
            "text/plain": [
              "<Figure size 432x288 with 1 Axes>"
            ],
            "image/png": "[encoded data removed]"
          },
          "metadata": {
            "needs_background": "light"
          }
        }
      ]
    },
    {
      "cell_type": "code",
      "metadata": {
        "id": "qx5BfGGRxU_a",
        "colab": {
          "base_uri": "https://localhost:8080/"
        },
        "outputId": "76bbee92-fdc2-4584-bc9f-802b4ffce140"
      },
      "source": [
        "from sklearn.linear_model import LinearRegression\n",
        "\n",
        "X = x.reshape(-1, 1)\n",
        "model = LinearRegression().fit(X, y)\n",
        "model.coef_, model.intercept_"
      ],
      "execution_count": 63,
      "outputs": [
        {
          "output_type": "execute_result",
          "data": {
            "text/plain": [
              "(array([1.98451752]), 3.146283666271329)"
            ]
          },
          "metadata": {},
          "execution_count": 63
        }
      ]
    },
    {
      "cell_type": "markdown",
      "metadata": {
        "id": "Ng3cFbqyxxzD"
      },
      "source": [
        "#### LinearRegression 실습 03 - 2\n",
        "변수가 2개인 경우\n",
        "\n",
        "다변수 선형 회귀 (Multi-variable Linear Regreesion)\n",
        "\n"
      ]
    },
    {
      "cell_type": "code",
      "metadata": {
        "id": "Inni1FjUEL_e",
        "colab": {
          "base_uri": "https://localhost:8080/"
        },
        "outputId": "36ae3c75-f6dc-4db1-9e56-ee07dfdd67b0"
      },
      "source": [
        "n_samples = 200\n",
        "x1 = np.random.randn(n_samples)\n",
        "x2 = np.random.randn(n_samples)\n",
        "y = 2 * x1 + 3 * x2 + 4 + np.random.randn(n_samples)\n",
        "\n",
        "X = pd.DataFrame({'x1' : x1, 'x2' : x2})\n",
        "model = LinearRegression().fit(X, y)\n",
        "model.coef_, model.intercept_"
      ],
      "execution_count": 64,
      "outputs": [
        {
          "output_type": "execute_result",
          "data": {
            "text/plain": [
              "(array([1.98175195, 3.01380775]), 4.084899861419425)"
            ]
          },
          "metadata": {},
          "execution_count": 64
        }
      ]
    },
    {
      "cell_type": "markdown",
      "metadata": {
        "id": "oboDfCRrOH5I"
      },
      "source": [
        "#### LinearRegression 실습 04\n",
        "\n",
        "보스턴 집값 데이터셋 구성\n",
        "- 506개의 데이터\n",
        "- 13개의 정보와 1개의 클래스로 구성\n",
        "```\n",
        "0 CRIM : 인구 1인당 범죄 발생 수\n",
        "1 ZN : 25,000평방 피트 이상의 주거 구역 비중\n",
        "2 INDUS : 소매업 외 상업이 차지하는 면적 비율\n",
        "3 CHAS : 찰스강 위치 변수 (1: 강 주변, 0: 이외)\n",
        "4 NOX : 일산화질소 농도\n",
        "5 RM : 집의 평균 방 수\n",
        "6 AGE : 1940년 이전 지어진 비율\n",
        "7 DIS : 5가지 보스턴 시 고용 시설까지의 거리\n",
        "8 RAD : 순환고속도로의 접근 용이성\n",
        "9 TAX : $10,000당 부동산 세율 총계\n",
        "10 PTRATIO : 지역별 학생과 교사 비율\n",
        "11 B : 지역별 흑인 비율\n",
        "12 LSTAT : 급여가 낮은 직업에 종사하는 인구 비율 (%)\n",
        "13 MEDV : 가격 (단위 : $1,000)\n",
        "```"
      ]
    },
    {
      "cell_type": "code",
      "metadata": {
        "id": "jIu2HFrgPgGJ"
      },
      "source": [
        "import numpy as np\n",
        "import pandas as pd\n",
        "import matplotlib.pyplot as plt\n",
        "import seaborn as sns\n",
        "%matplotlib inline"
      ],
      "execution_count": 65,
      "outputs": []
    },
    {
      "cell_type": "code",
      "metadata": {
        "id": "DYxsl-KuRNbA"
      },
      "source": [
        "from sklearn.datasets import load_boston\n",
        "\n",
        "boston = load_boston()\n",
        "boston.keys()\n",
        "boston.data.shape"
      ],
      "execution_count": null,
      "outputs": []
    },
    {
      "cell_type": "code",
      "metadata": {
        "id": "nvgAWeVWRjP2"
      },
      "source": [
        "# 데이터 세트 DataFrame 변환\n",
        "X , y = load_boston(return_X_y = True)"
      ],
      "execution_count": null,
      "outputs": []
    },
    {
      "cell_type": "code",
      "metadata": {
        "id": "hH9qThAMSmav"
      },
      "source": [
        "# 훈련 데이터와 테스트 데이터 준비\n",
        "from sklearn.model_selection import train_test_split\n",
        "\n",
        "X_train, X_test, y_train, y_test = train_test_split(X, y, random_state=0)"
      ],
      "execution_count": 71,
      "outputs": []
    },
    {
      "cell_type": "code",
      "metadata": {
        "id": "HRL2S88VTW3G",
        "colab": {
          "base_uri": "https://localhost:8080/"
        },
        "outputId": "6e287aed-bea4-425b-dd88-1655c2a7c05f"
      },
      "source": [
        "# 모델 선택과 학습\n",
        "from sklearn.linear_model import LinearRegression\n",
        "\n",
        "model = LinearRegression().fit(X_train, y_train)\n",
        "model.score(X_train, y_train), model.score(X_test, y_test)"
      ],
      "execution_count": 72,
      "outputs": [
        {
          "output_type": "execute_result",
          "data": {
            "text/plain": [
              "(0.7697699488741149, 0.635463843320211)"
            ]
          },
          "metadata": {},
          "execution_count": 72
        }
      ]
    },
    {
      "cell_type": "code",
      "metadata": {
        "id": "ID272D3lV_QX",
        "colab": {
          "base_uri": "https://localhost:8080/"
        },
        "outputId": "e5695db5-177b-4b96-c3c1-c35f4a7ae83b"
      },
      "source": [
        "# 예측/평가\n",
        "from sklearn.metrics import mean_squared_error, r2_score\n",
        "\n",
        "y_pred = model.predict(X_test)\n",
        "mse = mean_squared_error(y_test, y_pred)\n",
        "rmse = np.sqrt(mse)\n",
        "r2score = r2_score(y_test, y_pred)\n",
        "print(f'MSE = {mse : .3f}, RMSE = {rmse : .3f}, R2 = {r2score : .3f}')"
      ],
      "execution_count": 76,
      "outputs": [
        {
          "output_type": "stream",
          "name": "stdout",
          "text": [
            "MSE =  29.782, RMSE =  5.457, R2 =  0.635\n"
          ]
        }
      ]
    },
    {
      "cell_type": "code",
      "source": [
        "model.coef_"
      ],
      "metadata": {
        "colab": {
          "base_uri": "https://localhost:8080/"
        },
        "id": "_heJXP2yL4-w",
        "outputId": "8b8ab757-b68c-4c0e-842a-7753d0abac62"
      },
      "execution_count": 77,
      "outputs": [
        {
          "output_type": "execute_result",
          "data": {
            "text/plain": [
              "array([-1.17735289e-01,  4.40174969e-02, -5.76814314e-03,  2.39341594e+00,\n",
              "       -1.55894211e+01,  3.76896770e+00, -7.03517828e-03, -1.43495641e+00,\n",
              "        2.40081086e-01, -1.12972810e-02, -9.85546732e-01,  8.44443453e-03,\n",
              "       -4.99116797e-01])"
            ]
          },
          "metadata": {},
          "execution_count": 77
        }
      ]
    },
    {
      "cell_type": "markdown",
      "metadata": {
        "id": "gTZHDr3OogcO"
      },
      "source": [
        "# 규제선형모델 (Ridge_Lasso_Regression)\n"
      ]
    },
    {
      "cell_type": "markdown",
      "metadata": {
        "id": "GeEb2zESkWkI"
      },
      "source": [
        "Linear Regression의 문제\n",
        "\n",
        "- 단순 선형회귀 : 단 하나의 특성(feature)을 가지고 라벨값(label) 또는 타깃(target)을 예측하기 위한\n",
        "회귀 모델을 찾는 것\n",
        "- 다중 선형회귀 : 여러 개의 특성을 활용해서 회귀모델을 찾는 것\n",
        "\n",
        "\n"
      ]
    },
    {
      "cell_type": "markdown",
      "metadata": {
        "id": "naenDMKWko1w"
      },
      "source": [
        "다중 선형 회귀 모델은 과대적합(overfitting) 될 때가 종종 발생\n",
        "\n",
        "주어진 샘플들의 특성값들과 라벨값의 관계를 필요이상으로 너무 자세하게 복잡하게 분석했다는 것\n",
        "- 새로운 데이터가 주어졌을 때 제대로 예측해내기가 어려움 (일반화 능력이 떨어짐)\n",
        "- Ridge / Lasso / Elastic Regression 등장"
      ]
    },
    {
      "cell_type": "markdown",
      "metadata": {
        "id": "ZxqInZoR3GeR"
      },
      "source": [
        "Bias(편향) 오차와 Variance(분산) 오차\n",
        "\n",
        "특성이 증가하면 복잡성이 증가 -> variance는 증가, bias는 감소 -> Overfitting 발생\n",
        "\n",
        "<center>\n",
        " <img src=\"https://t1.daumcdn.net/cfile/tistory/99CDCC33599AC28F07\" alt=\"편향과 분산\" width=\"40%\" />\n",
        "\n",
        " Bias(편향) 오차와 Variance(분산) 오차를 표현\n",
        "\n",
        "</center>"
      ]
    },
    {
      "cell_type": "markdown",
      "metadata": {
        "id": "oD2GVA7J5PIU"
      },
      "source": [
        "- bias 감소가 variance의 증가와 같아지는 최적의 point를 찾아야 함\n",
        "- Overfitting 문제 해결 : 데이터의 복잡도 줄이기, 정규화를 통한 분산 감소\n",
        "\n",
        "<center>\n",
        " <img src=\"https://img1.daumcdn.net/thumb/R1280x0/?scode=mtistory2&fname=http%3A%2F%2Fcfile9.uf.tistory.com%2Fimage%2F996DB433599AC34225B9BD\" alt=\"모델 복잡도\" width=\"40%\" />\n",
        "\n",
        " 모델 복잡도\n",
        "\n",
        "</center>\n",
        "\n",
        "\n"
      ]
    },
    {
      "cell_type": "markdown",
      "metadata": {
        "id": "XggniyAHpb9n"
      },
      "source": [
        "정규화(Regularization, 규제)\n",
        "\n",
        "- 과대적합이 되지 않도록 모델을 강제로 제한하는 것을 의미.\n",
        "- 가중치(w)의 값을 조정하여 제약을 주는 것.\n",
        "\n",
        "- L1 규제 : Lasso\n",
        "  - <font  color=yellow>w의 모든 원소에 똑같은 힘으로 규제를 적용하는 방법. 특정 계수들은 0이 됨.      \n",
        "  - 특성선택(Feature Selection)이 자동으로 이루어진다.</font>\n",
        "\n",
        "- L2 규제 : Ridge\n",
        "  - <font  color=yellow>w의 모든 원소에 골고루 규제를 적용하여 0에 가깝게 만든다.</font>\n"
      ]
    },
    {
      "cell_type": "markdown",
      "metadata": {
        "id": "zHeJUocP-DZR"
      },
      "source": [
        "## Ridge Regression"
      ]
    },
    {
      "cell_type": "markdown",
      "metadata": {
        "id": "xm-rHLfBFiuz"
      },
      "source": [
        "평균제곱오차식에 alpha 항이 추가\n",
        "- alpha 값을 크게 하면 패널티 효과가 커지고(가중치 감소),\n",
        "- alpha 값을 작게 하면 그 반대가 된다."
      ]
    },
    {
      "cell_type": "markdown",
      "metadata": {
        "id": "OC0QA0yjmhrT"
      },
      "source": [
        "- 기존 선형회귀에서는 적절한 가중치와 편향을 찾아내는 것이 관건\n",
        "- 추가적인 제약 조건(규제항)을 포함 – 가중치에 대한 제곱의 합을 사용\n",
        "- <font  color=yellow>MSE가 최소가 되게 하는 가중치(w)와 편향(b)을 찾는</font> 동시에 <font  color=yellow> MSE와 규제항의 합이 최소</font>가 되어야 함 -> 가중치 W의 모든 원소가 0이 되거나 0에 근사하도록 -> <font  color=yellow>학습한 가중치 (W)의 제곱을 규제항 (L2 규제)</font>으로 사용\n",
        "\n",
        "> \\\\( cost(W,b)\\\\ =MSE+규제항\\\\ =MSE+\\alpha \\cdot { L }_{ 2 }norm\\\\ =\\cfrac { 1 }{ m } \\sum\\limits _{ i=1 }^{ m }{ (H({ x }^{ (i) })-{ y }^{ (i) }) } ^{ 2 }+\\alpha \\sum\\limits _{ j=1 }^{ n }{ { w }_{ j }^{ 2 } } \\\\ (n : 가중치의 개수, α : 규제의 정도) \\\\)\n",
        "\n",
        "> MSE에 의한 Overfitting을 줄이기 위해 α를 크게 함 -> 정확도 감소 -> α가 너무 크면 MSE의 비중이 작아져서 과소적합 가능성 증가\n",
        "\n",
        "- α가 증가하면 bias는 증가하고 variance는 감소하며 α가 0이 되면 MSE와 동일하게 되어 선형 회귀모델이 됨 -> Ridge 모델은 <font  color=yellow>bias을 약간 손해보면서 variance를 크게 줄여</font> 성능의 향상"
      ]
    },
    {
      "cell_type": "markdown",
      "metadata": {
        "id": "eSxLnLuiIMTI"
      },
      "source": [
        "Ridge()\n",
        "```\n",
        "Ridge(alpha, fit_intercept, normalize, copy_X, max_iter, tol, solver, random_state)\n",
        "```\n",
        "\n",
        "- alpha : 값이 클수록 강력한 정규화(규제) 설정하여 분산을 줄임, 양수로 설정\n",
        "- fit_intercept : 모형에 상수항 (절편)이 있는가 없는가를 결정하는 인수 (default : True)\n",
        "- normalize : 매개변수 무시 여부\n",
        "- copy_X : X의 복사 여부\n",
        "- max_iter : 계산에 사용할 작업 수\n",
        "- tol : 정밀도\n",
        "- solver : 계산에 사용할 알고리즘 (auto, svd, cholesky, lsqr, sparse_cg, sag, saga)\n",
        "- random_state : 난수 seed 설정\n"
      ]
    },
    {
      "cell_type": "markdown",
      "metadata": {
        "id": "WnXLa-ct6wsO"
      },
      "source": [
        "#### Ridge_Lasso_Regression 실습 01\n",
        "\n",
        "확장 보스턴 집값 셋에 선형회귀 적용"
      ]
    },
    {
      "cell_type": "code",
      "metadata": {
        "id": "WNWaeRb-O3yY"
      },
      "source": [
        "import numpy as np\n",
        "import matplotlib.pyplot as plt\n",
        "from sklearn.linear_model import LinearRegression, Ridge, Lasso, ElasticNet\n",
        "%matplotlib inline"
      ],
      "execution_count": 78,
      "outputs": []
    },
    {
      "cell_type": "code",
      "metadata": {
        "id": "1B7xSdZd6wsO"
      },
      "source": [
        "import re\n",
        "# 확장 보스턴 집값\n",
        "import mglearn\n",
        "from sklearn.model_selection import train_test_split\n",
        "\n",
        "X, y = mglearn.datasets.load_extended_boston()\n",
        "X.shape\n",
        "X_train, X_test, y_train, y_test = train_test_split(X, y, random_state=0)"
      ],
      "execution_count": 97,
      "outputs": []
    },
    {
      "cell_type": "code",
      "source": [
        "model = LinearRegression().fit(X_train, y_train)\n",
        "model.score(X_train, y_train), model.score(X_test, y_test)"
      ],
      "metadata": {
        "colab": {
          "base_uri": "https://localhost:8080/"
        },
        "id": "XLcnH1bsQaYH",
        "outputId": "71e5fca0-3dfa-4c2c-b385-a218979bc1ea"
      },
      "execution_count": 98,
      "outputs": [
        {
          "output_type": "execute_result",
          "data": {
            "text/plain": [
              "(0.9520519609032727, 0.6074721959665571)"
            ]
          },
          "metadata": {},
          "execution_count": 98
        }
      ]
    },
    {
      "cell_type": "markdown",
      "metadata": {
        "id": "aiDpGVLn1GOX"
      },
      "source": [
        "확장 보스턴 집값 셋에 릿지회귀 적용"
      ]
    },
    {
      "cell_type": "code",
      "metadata": {
        "id": "6_tFVO-Bk65j",
        "colab": {
          "base_uri": "https://localhost:8080/"
        },
        "outputId": "ca125f3f-15bd-47a5-af95-8ed5e5718d29"
      },
      "source": [
        "# model_ridge\n",
        "model_ridge = Ridge(alpha=1).fit(X_train, y_train)\n",
        "model_ridge.score(X_train, y_train), model_ridge.score(X_test, y_test), np.round(model_ridge.coef_[0],3)"
      ],
      "execution_count": 106,
      "outputs": [
        {
          "output_type": "execute_result",
          "data": {
            "text/plain": [
              "(0.8857966585170941, 0.7527683481744751, -1.414)"
            ]
          },
          "metadata": {},
          "execution_count": 106
        }
      ]
    },
    {
      "cell_type": "code",
      "source": [
        "model_ridge = Ridge(alpha = 10).fit(X_train, y_train)\n",
        "model_ridge.score(X_train, y_train), model_ridge.score(X_test, y_test), np.round(model_ridge.coef_[0],3)"
      ],
      "metadata": {
        "colab": {
          "base_uri": "https://localhost:8080/"
        },
        "id": "D273mzAdUEVt",
        "outputId": "d195fbc6-7563-4e31-9055-8761443110f1"
      },
      "execution_count": 107,
      "outputs": [
        {
          "output_type": "execute_result",
          "data": {
            "text/plain": [
              "(0.7882787115369614, 0.6359411489177309, -0.812)"
            ]
          },
          "metadata": {},
          "execution_count": 107
        }
      ]
    },
    {
      "cell_type": "code",
      "source": [
        "model_ridge = Ridge(alpha = 0.1).fit(X_train, y_train)\n",
        "model_ridge.score(X_train, y_train), model_ridge.score(X_test, y_test), np.round(model_ridge.coef_[0],3)"
      ],
      "metadata": {
        "colab": {
          "base_uri": "https://localhost:8080/"
        },
        "id": "0XXGwIqjUQB7",
        "outputId": "6cf1d146-1328-4976-b4de-666c39d52c32"
      },
      "execution_count": 108,
      "outputs": [
        {
          "output_type": "execute_result",
          "data": {
            "text/plain": [
              "(0.928227368500199, 0.7722067936479818, -2.333)"
            ]
          },
          "metadata": {},
          "execution_count": 108
        }
      ]
    },
    {
      "cell_type": "markdown",
      "metadata": {
        "id": "VMETHZ_bm9dv"
      },
      "source": [
        "## Lasso Regression"
      ]
    },
    {
      "cell_type": "markdown",
      "metadata": {
        "id": "q7W0ttDOJhLJ"
      },
      "source": [
        "- 릿지 회귀의 단점을 해결하기 위해 대안으로 나온 방법\n",
        "학습한 가중치의 절대값을 규제항(L1 규제)으로 사용 – 가중치의 절대값의 합을 사용\n",
        "- 학습한 가중치의 절대값을 규제항(L1 규제)으로 사용 – 가중치의 절대값의 합을 사용\n",
        "\n",
        ">$$  \\begin{align} \n",
        "cost(W,b)   \\\\ \n",
        "& =MSE+규제항 \\\\  \n",
        "& =MSE+\\alpha \\cdot { L }_{ 1 }norm \\\\  \n",
        "& =\\cfrac { 1 }{ m } \\sum\\limits_{ i=1 }^{ m }{ (H({ x }^{ (i) })-{ y }^{ (i) }) } ^{ 2 }+\\alpha \\sum\\limits_{ j=1 }^{ n }{ \\left| { w }_{ j } \\right|  }  \\\\\n",
        "& (n:가중치의개수,α:규제의정도)  \\end{align} $$\n",
        "\n",
        "\n",
        "- 적당한 α만으로 몇몇 계수를 정확하게 0으로 만들 수 있음 -> 해석을 용이하게 함\n",
        "- MSE와 규제항의 합이 최소가 되게 하는 파라미터 W와 b를 찾는 것이 Lasso의 목표\n",
        "- MSE항이 작아질 수록 오차가 작아지고, L1-norm이 작아질 수록 많은 가중치들이 0이 되거나 0에 가까워짐 -> 데이터 전 처리에 주로 사용 (필요 없는 데이터 제거)\n",
        "- Ridge와 Lasso의 성능 차이는 사용하는 데이터의 상황에 따라 다름 -> 유의미한 변수가 적을 때는 Lasso가 반대의 경우는 Ridge가 더 좋은 성능을 보임."
      ]
    },
    {
      "cell_type": "markdown",
      "metadata": {
        "id": "x60tFa_hIwF3"
      },
      "source": [
        "Lasso()\n",
        "```\n",
        "Lasso(alpha, fit_intercept, normalize, precompute, copy_X, max_iter, tol, warm_start, positive, solver, random_state, selection)\n",
        "```\n",
        "- alpha : 값이 클수록 강력한 정규화(규제) 설정하여 분산을 줄임, 양수로 설정\n",
        "- fit_intercept : 모형에 상수항 (절편)이 있는가 없는가를 결정하는 인수 (default : True)\n",
        "- normalize : 매개변수 무시 여부\n",
        "- precompute : 계산속도를 높이기 위해 미리 계산된 그램 매트릭스를 사용할 것인지 여부\n",
        "- copy_X : X의 복사 여부\n",
        "- max_iter : 계산에 사용할 작업 수\n",
        "- tol : 정밀도\n",
        "- warm_start : 이전 모델을 초기화로 적합하게 사용할 것인지 여부\n",
        "- positive : 계수가 양수로 사용할 것인지 여부\n",
        "- solver : 계산에 사용할 알고리즘 (auto, svd, cholesky, lsqr, sparse_cg, sag, saga)\n",
        "- random_state : 난수 seed 설정\n",
        "- selection : 계수의 업데이트 방법 설정 (random으로 설정하면 tol이 1e-4보다 높을 때 빠른 수렴)"
      ]
    },
    {
      "cell_type": "code",
      "metadata": {
        "id": "5UKOcWuwnpO9",
        "colab": {
          "base_uri": "https://localhost:8080/"
        },
        "outputId": "c4c4cf29-4bef-4844-9bb6-e7c38a05ef2f"
      },
      "source": [
        "from sklearn.linear_model import Lasso\n",
        "\n",
        "# lasso -> alpha는 내려야 함, 내릴수록 사용하는 특성이 많아짐\n",
        "model_lasso = Lasso(alpha =1).fit(X_train, y_train)\n",
        "model_lasso.score(X_train, y_train), model_lasso.score(X_test, y_test), np.sum(model_lasso.coef_ != 0)"
      ],
      "execution_count": 116,
      "outputs": [
        {
          "output_type": "execute_result",
          "data": {
            "text/plain": [
              "(0.29323768991114607, 0.20937503255272294, 4)"
            ]
          },
          "metadata": {},
          "execution_count": 116
        }
      ]
    },
    {
      "cell_type": "code",
      "metadata": {
        "id": "ucNkl0J1UY9_",
        "colab": {
          "base_uri": "https://localhost:8080/"
        },
        "outputId": "93a6aeaf-0c27-41b0-8d9d-2dfa70ea1212"
      },
      "source": [
        "model_lasso = Lasso(alpha =0.1).fit(X_train, y_train)\n",
        "model_lasso.score(X_train, y_train), model_lasso.score(X_test, y_test), np.sum(model_lasso.coef_ != 0)"
      ],
      "execution_count": 119,
      "outputs": [
        {
          "output_type": "execute_result",
          "data": {
            "text/plain": [
              "(0.7709955157630054, 0.6302009976110041, 8)"
            ]
          },
          "metadata": {},
          "execution_count": 119
        }
      ]
    },
    {
      "cell_type": "code",
      "source": [
        "model_lasso = Lasso(alpha =0.01).fit(X_train, y_train)\n",
        "model_lasso.score(X_train, y_train), model_lasso.score(X_test, y_test), np.sum(model_lasso.coef_ != 0)"
      ],
      "metadata": {
        "colab": {
          "base_uri": "https://localhost:8080/"
        },
        "id": "ONUyuRc1WN7S",
        "outputId": "4bd85eda-2ab9-4267-d29f-dd8833c6ba21"
      },
      "execution_count": 121,
      "outputs": [
        {
          "output_type": "execute_result",
          "data": {
            "text/plain": [
              "(0.8961122320864716, 0.7677995670886713, 32)"
            ]
          },
          "metadata": {},
          "execution_count": 121
        }
      ]
    },
    {
      "cell_type": "markdown",
      "metadata": {
        "id": "nX0vWJyMzyHw"
      },
      "source": [
        "## ElasticNet Regression"
      ]
    },
    {
      "cell_type": "markdown",
      "metadata": {
        "id": "qNhBEvwxz1nb"
      },
      "source": [
        "- 선형 회귀에 2가지 규제항 (L1 규제항, L2 규제항)을 추가한 것\n",
        "\n",
        "> \\begin{align}\n",
        "cost(W,b)\\\\ \n",
        "& =MSE+규제항\\\\\n",
        "& =MSE+ { \\alpha }_{ 1 }\\cdot { L }_{ 1 }norm + { \\alpha }_{ 2 }\\cdot { L }_{ 2 }norm\\\\\n",
        "& =\\cfrac { 1 }{ m } \\sum\\limits _{ i=1 }^{ m }{ (H({ x }^{ (i) })-{ y }^{ (i) }) } ^{ 2 } +\\alpha _{ 1 }\\sum\\limits _{ j=1 }^{ n }{ \\left| { w }_{ j } \\right|  +\\alpha _{ 2 }\\sum\\limits_{ j=1 }^{ n }{ { w }_{ j }^{ 2 } } } \\\\\n",
        "& (n:가중치의개수,α:규제의정도) \\end{align}"
      ]
    },
    {
      "cell_type": "markdown",
      "metadata": {
        "id": "Sulpmmg910dE"
      },
      "source": [
        "ElasticNet()\n",
        "```\n",
        "ElasticNet(alpha, l1_ratio, fit_intercept, normalize, precompute, max_iter, copy_X,\n",
        "tol, warm_start, positive, random_state, selection)\n",
        "```\n",
        "- alpha : 값이 클수록 강력한 정규화(규제) 설정하여 분산을 줄임, 양수로 설정\n",
        "- l1_ratio : L1 규제의 비율 (혼합비율?)\n",
        "- fit_intercept : 모형에 상수항 (절편)이 있는가 없는가를 결정하는 인수 (default : True)\n",
        "- normalize : 매개변수 무시 여부\n",
        "- precompute : 계산속도를 높이기 위해 미리 계산된 그램 매트릭스를 사용할 것인지 여부\n",
        "- copy_X : X의 복사 여부\n",
        "- max_iter : 계산에 사용할 작업 수\n",
        "- tol : 정밀도\n",
        "- warm_start : 이전 모델을 초기화로 적합하게 사용할 것인지 여부\n",
        "- positive : 계수가 양수로 사용할 것인지 여부\n",
        "- random_state : 난수 seed 설정\n",
        "- selection : 계수의 업데이트 방법 설정 (random으로 설정하면 tol이 1e-4보다 높을 때 빠른 수렴)"
      ]
    },
    {
      "cell_type": "markdown",
      "source": [
        "## Linear / Ridge / Lasso / ElasticNet Regression의 비교"
      ],
      "metadata": {
        "id": "Z-vPv_dZYKrP"
      }
    },
    {
      "cell_type": "markdown",
      "source": [
        "|구분| 릿지회귀| 라쏘회귀| 엘라스틱넷|\n",
        "|---|---|---|---|\n",
        "|제약식| L2 norm| L1 norm| L1+L2 norm|\n",
        "|변수선택 |불가능| 가능| 가능|\n",
        "|solution| closed form| 명시해 없음| 명시해 없음|\n",
        "|장점| 변수간 상관관계가 높아도 좋은 성능| 변수간 상관관계가 높으면 성능↓| 변수간 상관관계를 반영한 정규화|\n",
        "|특징| 크기가 큰 변수를 우선 적으로 줄임|비중요 변수를 우선적 으로 줄임|상관관계가 큰 변수를 동시에 선택/배제|"
      ],
      "metadata": {
        "id": "7Wy929k6YMuJ"
      }
    },
    {
      "cell_type": "markdown",
      "metadata": {
        "id": "0eXTUaIV94K9"
      },
      "source": [
        "## 다항회귀"
      ]
    },
    {
      "cell_type": "code",
      "metadata": {
        "id": "4JZuqWF86wsS"
      },
      "source": [
        "import numpy as np\n",
        "import matplotlib.pyplot as plt\n",
        "%matplotlib inline\n",
        "\n"
      ],
      "execution_count": null,
      "outputs": []
    },
    {
      "cell_type": "code",
      "metadata": {
        "id": "8giqALen6wsS"
      },
      "source": [
        "from sklearn.linear_model import LinearRegression\n",
        "from sklearn.preprocessing import PolynomialFeatures\n",
        "\n",
        "# 데이터 변환 과정과 머신러닝을 연결해주는 파이프라인\n",
        "from sklearn.pipeline import make_pipeline  \n",
        "\n"
      ],
      "execution_count": null,
      "outputs": []
    },
    {
      "cell_type": "code",
      "metadata": {
        "id": "gu2AjaFHzHbv"
      },
      "source": [
        "# 다항회귀 그래프\n"
      ],
      "execution_count": null,
      "outputs": []
    },
    {
      "cell_type": "markdown",
      "metadata": {
        "id": "M8EjGdzxewY5"
      },
      "source": [
        "#### PolynomialFeatures()\n",
        "```\n",
        "PolynomialFeatures(degree=2, *, interaction_only=False, include_bias=True)\n",
        "```\n",
        "\n",
        "- degree : 차수\n",
        "- interaction_only: True면 2차항에서 상호작용항만 출력\n",
        "- include_bias : 상수항 생성 여부\n",
        "\n",
        "\n",
        "다항 변환\n",
        "\n",
        "- 입력값  x 를 다항식으로 변환한다.\n",
        "\n",
        "> \\\\( x \\;\\; \\rightarrow \\;\\; [ 1, x, x^2, x^3, \\cdots ] \\\\) <br>\n",
        " \n",
        "> 만약 열의 갯수가 두 개이고 2차 다항식으로 변환하는 경우에는 다음처럼 변환한다.\n",
        "\n",
        "> \\\\( [x_1, x_2] \\;\\; \\rightarrow \\;\\; [ 1, x_1, x_2, x_1^2, x_1x_2, x_2^2 ] \\\\)  <br>\n",
        "\n",
        "> 예) <br>\n",
        "> \\\\( [x_1=0, x_2=1]  \\;\\; \\rightarrow \\;\\; [1, 0, 1, 0, 0, 1] \\\\) <br>\n",
        "\n",
        "> \\\\( [x_1=2, x_2=3]  \\;\\; \\rightarrow \\;\\; [1,2,3,4,6,9] \\\\)\n",
        " \n"
      ]
    },
    {
      "cell_type": "code",
      "metadata": {
        "id": "jHM8-qVkhLWs"
      },
      "source": [
        "from sklearn.preprocessing import PolynomialFeatures\n"
      ],
      "execution_count": null,
      "outputs": []
    },
    {
      "cell_type": "code",
      "metadata": {
        "id": "xDAye58LhOO-"
      },
      "source": [
        "# 다항차수는 적용하지 않고, 오직 상호작용(교호작용) 효과만을 분석하려면 \n",
        "# interaction_only=True 옵션을 설정해주면 됩니다. \n",
        "# degree를 가지고 교호작용을 몇 개 수준까지 볼지 설정해줄 수 있습니다.\n",
        "\n"
      ],
      "execution_count": null,
      "outputs": []
    },
    {
      "cell_type": "markdown",
      "metadata": {
        "id": "JpPDNLyjxy2-"
      },
      "source": [
        "# Linear Classifier (선형분류)"
      ]
    },
    {
      "cell_type": "markdown",
      "metadata": {
        "id": "UyQchOwzx2eo"
      },
      "source": [
        "- 계산한 값이 0보다 작은 클래스는 -1, 0보다 크면 +1이라고 예측(분류)\n",
        "> ŷ = w[0] * x[0] + w[1] * x[1] + … + w[p] * x[p] + b > 0 <br>\n",
        "> Linear Regression와 매우 비슷하지만 가중치(w) 합을 사용하는 대신 예측한 값을 임계치 0 과 비교\n",
        "\n",
        "- 이진 선형 분류기는 선, 평면, 초평면을 이용하여 2개의 클래스를 구분하는 분류기\n"
      ]
    },
    {
      "cell_type": "markdown",
      "metadata": {
        "id": "DDseWGpl6e03"
      },
      "source": [
        "경사하강법(Gradient Descent) 최적화 알고리즘을 사용하여 선형 모델을 작성\n",
        "\n",
        "[SGDClassifier()](https://scikit-learn.org/stable/modules/generated/sklearn.linear_model.SGDClassifier.html)\n",
        "\n",
        "```\n",
        "SGDClassifier(alpha, average, class_weight, epsilon, eta0, fit_intercept, l1_ratio, learning_rat, loss, max_iter, n_iter, n_jobs, penalty, power_t, random_state, shuffle, tol, verbose, warm_start)\n",
        "```\n",
        "확률적 경사하강법(SGD, Stochastic Gradient Descent)을 이용하여 선형모델을 구현\n",
        "\n",
        "- lossstr : 손실함수 (default='hinge')\n",
        "- penalty : {'l2', 'l1', 'elasticnet'}, default='l2'\n",
        "- alpha : 값이 클수록 강력한 정규화(규제) 설정 (default=0.0001)\n",
        "- l1_ratio : L1 규제의 비율(Elastic-Net 믹싱 파라미터 경우에만 사용) (default=0.15)\n",
        "- fit_intercept : 모형에 상수항 (절편)이 있는가 없는가를 결정하는 인수 (default=True)\n",
        "- max_iter : 계산에 사용할 작업 수 (default=1000)\n",
        "- tol : 정밀도\n",
        "- shuffle : 에포크 후에 트레이닝 데이터를 섞는 유무 (default=True)\n",
        "- epsilon : 손실 함수에서의 엡실론, 엡실론이 작은 경우, 현재 예측과 올바른 레이블 간의 차이가 임계 값보다 작으면 무시 (default=0.1)\n",
        "- n_jobs : 병렬 처리 할 때 사용되는 CPU 코어 수\n",
        "- random_state : 난수 seed 설정\n",
        "- learning_rate : 학습속도 (default='optimal')\n",
        "- eta0 : 초기 학습속도 (default=0.0)\n",
        "- power_t : 역 스케일링 학습률 (default=0.5)\n",
        "- early_stopping : 유효성 검사 점수가 향상되지 않을 때 조기 중지여부 (default=False)\n",
        "- validation_fraction : 조기 중지를위한 검증 세트로 설정할 교육 데이터의 비율 (default=0.1)\n",
        "- n_iter_no_change : 조기중지 전 반복횟수 (default=5)\n",
        "- class_weight : 클래스와 관련된 가중치 {class_label: weight} or “balanced”, default=None\n",
        "- warm_start : 초기화 유무 (default=False)\n",
        "- average : True로 설정하면 모든 업데이트에 대한 평균 SGD 가중치를 계산하고 결과를 coef_속성에 저장 (default=False)\n"
      ]
    },
    {
      "cell_type": "markdown",
      "metadata": {
        "id": "7AuxaPtIEKD-"
      },
      "source": [
        "#### LinearClassifier 실습 01\n",
        "\n",
        "붓꽃 데이터 셋에 선형분류 적용"
      ]
    },
    {
      "cell_type": "markdown",
      "metadata": {
        "id": "Xb7SWFmlroDd"
      },
      "source": [
        "#### 4개 속성 모두 이용\n",
        "\n",
        "세가지 꽃 구분"
      ]
    },
    {
      "cell_type": "code",
      "metadata": {
        "id": "X4AvkNOtroC2"
      },
      "source": [
        "from sklearn.datasets import load_iris\n",
        "X, y = load_iris(return_X_y=True)\n",
        "\n",
        "X_train, X_test, y_train, y_test = train_test_split(X, y, random_state=0)"
      ],
      "execution_count": 123,
      "outputs": []
    },
    {
      "cell_type": "code",
      "source": [
        "from sklearn.linear_model import SGDClassifier\n",
        "\n",
        "model = SGDClassifier(random_state=0).fit(X_train, y_train)\n",
        "model.coef_, model.intercept_"
      ],
      "metadata": {
        "colab": {
          "base_uri": "https://localhost:8080/"
        },
        "id": "5XOtfA87ZKOD",
        "outputId": "dfa0ce24-e91d-49f0-e078-3b01f81e4b53"
      },
      "execution_count": 124,
      "outputs": [
        {
          "output_type": "execute_result",
          "data": {
            "text/plain": [
              "(array([[  14.02131239,   26.9209198 ,  -49.35501963,  -24.11665732],\n",
              "        [  35.52447552, -130.34965035,   32.44755245,  -99.58041958],\n",
              "        [-105.85225456,  -87.30412536,  165.65398145,  141.66933163]]),\n",
              " array([   9.89148655,  113.50628185, -116.53396012]))"
            ]
          },
          "metadata": {},
          "execution_count": 124
        }
      ]
    },
    {
      "cell_type": "code",
      "source": [
        "model.score(X_train, y_train),  model.score(X_test, y_test)"
      ],
      "metadata": {
        "colab": {
          "base_uri": "https://localhost:8080/"
        },
        "id": "cHIyjqIPZ-H_",
        "outputId": "74dafc9c-989c-4fed-a7bc-b0c874842a88"
      },
      "execution_count": 125,
      "outputs": [
        {
          "output_type": "execute_result",
          "data": {
            "text/plain": [
              "(0.9196428571428571, 0.8421052631578947)"
            ]
          },
          "metadata": {},
          "execution_count": 125
        }
      ]
    },
    {
      "cell_type": "markdown",
      "metadata": {
        "id": "fqtThQICqqv7"
      },
      "source": [
        "# Logistic Regression\n"
      ]
    },
    {
      "cell_type": "markdown",
      "metadata": {
        "id": "nX5PtcYjFCja"
      },
      "source": [
        "선형 회귀로 풀리지 않는 문제 -> 독립변수와 종속변수가 비선형 관계인 경우\n",
        "\n",
        " <img src=\"https://www.geogebra.org/resource/SYzqYk7Y/xIOqFXlBGbAVa8OG/material-SYzqYk7Y.png\" alt=\"비선형1\" width=\"40%\" />\n",
        "\n",
        "  <img src=\"https://upload.wikimedia.org/wikipedia/commons/thumb/5/55/Polynomialdeg5.svg/1200px-Polynomialdeg5.svg.png\" alt=\"비선형2\" width=\"40%\" />\n",
        "\n",
        "\n"
      ]
    },
    {
      "cell_type": "markdown",
      "metadata": {
        "id": "lzDa8SSNOgnE"
      },
      "source": [
        "공부시간과 합격률의 관계 -> 연속적으로 변하는 공부시간의 결과에 대해 “합격했다” 또는\n",
        "“합격하지 않았다?”의 결과만 필요\n",
        "\n",
        "분류방법 1 -> 선형분류\n",
        "\n",
        "더 나은 분류 방법은?"
      ]
    },
    {
      "cell_type": "markdown",
      "metadata": {
        "id": "5UwPI9RxNGwG"
      },
      "source": [
        "- 1958년 D.R.Cox가 제안한 확률 모델로 <font  color=yellow>독립변수의 선형 결합을 이용하여 종속변수 (사건의 발생 가능성)을 예측</font>하는데 사용되는 통계 기법 \n",
        " - 종속 변수가 <font  color=yellow>범주형 데이터를 대상</font> -> 분류\n",
        "\n",
        "- 선형 회귀는 독립변수 x가 변화할 때 종속변수 y가 어떻게 변하는 지 예측하는 것\n",
        "- 선형 회귀에서 x와 y의 범위 : [-∞, ∞]\n",
        "\n",
        "- 연속적으로 변하는 2개의 결과만을 확인하는 경우\n",
        " - 조사회수가 많아지면 종속 변수 y는 확률로 표현됨\n",
        " - 독립변수의 범위는 [-∞, ∞], 종속변수의 범위는 [0, 1]\n",
        " - 선형회귀를 적용하면 종속변수의 값 범위를 넘어가는 문제가 발생 \n",
        " - 예측정확도 하락 \n",
        " - <font  color=yellow>로지스틱 모형</font> 적용"
      ]
    },
    {
      "cell_type": "markdown",
      "metadata": {
        "id": "-iAwjMWU5vIZ"
      },
      "source": [
        "로지스틱 회귀는 선형 회귀 분석과 유사하지만 종속 변수(y)가 범주형 데이터를 대상으로 하며, 입력 데이터(x)가 주어졌을 때 해당 데이터의 결과가 특정 분류로 나뉘기 때문에 일종의 분류모델 기법으로 사용"
      ]
    },
    {
      "cell_type": "markdown",
      "metadata": {
        "id": "QSnIysMhwS3b"
      },
      "source": [
        "합격을 1, 불합격을 0으로 하는 1과 0사이의 직선은 그리기 어렵움\n",
        " - 참(1)과 거짓(0) 사이를 구분하는 S자 형태의 곡선이면 편리\n",
        "\n",
        "로지스틱 회귀는 선형 회귀와 마찬가지로 적절한 선을 그려가는 과정\n",
        "\n",
        "시그모이드 함수 e(자연상수)는 무리수 값 2.71828...\n",
        " - 파이처럼 상수로 고정된 값"
      ]
    },
    {
      "cell_type": "markdown",
      "metadata": {
        "id": "YNl8I500bhLT"
      },
      "source": [
        "#### 로지스틱 함수 (sigmoid 함수)"
      ]
    },
    {
      "cell_type": "markdown",
      "metadata": {
        "id": "a0rNMSTFRpJN"
      },
      "source": [
        "오즈 (odds) : 성공확률이 실패확률에 비해 몇 배 높은가를 나타냄, 범위 [0, 1]\n",
        "\n",
        "> \\\\( odds=\\frac { p(y) }{ 1-p(y) }  \\\\)\n",
        "\n",
        "로짓 변환 : 오즈에 자연로그를 취한 것으로 입력 값의 범위가 [0, 1] 일 때 출력 값의 범위를 [-∞, ∞]\n",
        "로 조정\n",
        "\n",
        "> \\\\( \\log _{ e } {\\frac { p(y) }{ 1-p(y) }} =\\ln { \\frac { p(y) }{ 1-p(y) }  }  \\\\)\n",
        "\n",
        "로지스틱 함수 (sigmoid 함수) : 독립변수 x가 어느 숫자이든 상관없이 종속 변수의 값의 범위가 항\n",
        "상 [0, 1] 범위에 있도록 함\n",
        "\n",
        "> \\\\( \\ln { \\frac { p(y) }{ 1-p(y) }  }  = z  \\\\) <br>\n",
        "\n",
        "> -> \\\\(  \\frac { p(y) }{ 1-p(y) }   = { e }^{ z  }  \\\\) <br>\n",
        "\n",
        "> -> $ \\\\ \\begin{align}\n",
        "p & = \\frac {  { e }^{ z  }  }{ 1 +  { e }^{ z  }  } \\\\\n",
        "& = \\frac {  1  }{ 1 +  { e }^{(- z)  }  } \n",
        "\\end{align} \\\\ $"
      ]
    },
    {
      "cell_type": "markdown",
      "metadata": {
        "id": "0hZ-mwVKgNlj"
      },
      "source": [
        "#### 로지스틱 회귀 (Logistic Regression)\n",
        "\n",
        "- 간단하면서도 파라미터의 수가 적어서 빠르게 예측\n",
        " - 다른 알고리즘과의 비교 기준점으로 사용\n",
        "- 로지스틱 함수를 사용하여 확률을 추정하며 2 클래스 및 다중 클래스 분류를 위한 강력한 통계 방법으로 빠르고 단순\n",
        "- 직선 대신 S 모양 곡선을 사용한다는 사실 때문에 데이터를 그룹으로 나누는 데 적합\n",
        "- 용도 : 신용 점수, 마케팅 캠페인의 성공률 측정, 특정 제품의 매출 예측률, 특정 날에 지진이 발생할 확률 등\n",
        "\n"
      ]
    },
    {
      "cell_type": "markdown",
      "metadata": {
        "id": "9BRDAd-JSl-S"
      },
      "source": [
        "- 선형 회귀 방식을 분류에 적용한 알고리즘 (선형 회귀 계열)\n",
        "\n",
        "- Linear Regression와 매우 비슷하지만 가중치(w) 합을 사용하는 대신 예측한 값을 임계치 0 과 비교\n",
        "- 계산한 값이 0보다 작은 클래스는 -1, 0보다 크면 +1이라고 예측(분류)\n",
        "\n",
        "- 이 규칙은 Classifier에 쓰이는 모든 Linear model에서 동일\n",
        "- 가장 널리 알려진 두 개의 linear classifier algorithm\n",
        "  1. Logistic Regression\n",
        "  1. Support Vector Classifier의 Linear SVC"
      ]
    },
    {
      "cell_type": "markdown",
      "metadata": {
        "id": "MEb4VcspUvE-"
      },
      "source": [
        "[LogisticRegression()](https://scikit-learn.org/stable/modules/generated/sklearn.linear_model.LogisticRegression.html)\n",
        "```\n",
        "LogisticRegression(penalty, dual, tol, C, fit_intercept, intercept_scaling, class_weight, random_state, solver, max_iter, multi_class, verbose, warm_start, n_jobs, l1_ratio)\n",
        "```\n",
        "- <font  color=yellow> penalty : 규제에 사용 된 기준을 지정 (l1, l2, elasticnet, none) – default : l2 </font>\n",
        "- dual : 이중 또는 초기 공식\n",
        "- tol : 정밀도\n",
        "- <font  color=yellow> C : 규제 강도 </font>\n",
        "- fit_intercept : 모형에 상수항 (절편)이 있는가 없는가를 결정하는 인수 (default : True)\n",
        "- intercept_scaling : 정규화 효과 정도\n",
        "- class_weight : 클래스의 가중치\n",
        "- random_state : 난수 seed 설정\n",
        "- solver : 최적화 문제에 사용하는 알고리즘\n",
        "- max_iter : 계산에 사용할 작업 수\n",
        "- multi_class : 다중 분류 시에 (ovr, multinomial, auto)로 설정\n",
        "- verbose : 동작 과정에 대한 출력 메시지\n",
        "- warm_start : 이전 모델을 초기화로 적합하게 사용할 것인지 여부\n",
        "- n_jobs : 병렬 처리 할 때 사용되는 CPU 코어 수\n",
        "- <font  color=yellow> l1_ratio : L1 규제의 비율(Elastic-Net 믹싱 파라미터 경우에만 사용) </font>"
      ]
    },
    {
      "cell_type": "markdown",
      "metadata": {
        "id": "J_VcBZepHMe8"
      },
      "source": [
        "#### LogisticRegression 실습 01\n",
        "\n",
        "학습시간 대비 합격분류 적용\n"
      ]
    },
    {
      "cell_type": "code",
      "metadata": {
        "id": "eikRZub76Nn5"
      },
      "source": [
        "import numpy as np\n",
        "import pandas as pd\n",
        "import matplotlib.pyplot as plt\n",
        "from sklearn.linear_model import LogisticRegression\n",
        "%matplotlib inline\n",
        "%config InlineBackend.figure_format = 'retina'"
      ],
      "execution_count": 129,
      "outputs": []
    },
    {
      "cell_type": "code",
      "metadata": {
        "id": "7y3NizqI6Nn8"
      },
      "source": [
        "# 학습시간 대비 합격 데이터\n",
        "pass_time = [8,9, 9, 9.5, 10, 12, 14, 14.5, 15, 16, 16, 16.5, 17, 17, 17, 17.5,20, 20, 20]\n",
        "fail_time = [1, 2, 2.1,2.6,2.7,2.8,2.9, 3,3.2,3.4,3.5,3.6,3, 5,5.2,5.4]"
      ],
      "execution_count": 130,
      "outputs": []
    },
    {
      "cell_type": "code",
      "metadata": {
        "id": "9qXGwqSW6Nn-",
        "colab": {
          "base_uri": "https://localhost:8080/"
        },
        "outputId": "d708fdce-ed31-472b-fb13-a828a1918c11"
      },
      "source": [
        "# X\n",
        "X = np.hstack( (pass_time, fail_time) )\n",
        "X"
      ],
      "execution_count": 133,
      "outputs": [
        {
          "output_type": "execute_result",
          "data": {
            "text/plain": [
              "array([ 8. ,  9. ,  9. ,  9.5, 10. , 12. , 14. , 14.5, 15. , 16. , 16. ,\n",
              "       16.5, 17. , 17. , 17. , 17.5, 20. , 20. , 20. ,  1. ,  2. ,  2.1,\n",
              "        2.6,  2.7,  2.8,  2.9,  3. ,  3.2,  3.4,  3.5,  3.6,  3. ,  5. ,\n",
              "        5.2,  5.4])"
            ]
          },
          "metadata": {},
          "execution_count": 133
        }
      ]
    },
    {
      "cell_type": "code",
      "metadata": {
        "id": "5oT6X99C6NoB",
        "colab": {
          "base_uri": "https://localhost:8080/"
        },
        "outputId": "1e8a6b73-bb56-4796-fd51-232c4cb8a5e4"
      },
      "source": [
        "# y\n",
        "y1 = [1] * len(pass_time) # 합격 1\n",
        "y0 = [0] * len(fail_time) # 불합격 0\n",
        "\n",
        "y = np.hstack( (y1, y0) )\n",
        "y"
      ],
      "execution_count": 135,
      "outputs": [
        {
          "output_type": "execute_result",
          "data": {
            "text/plain": [
              "array([1, 1, 1, 1, 1, 1, 1, 1, 1, 1, 1, 1, 1, 1, 1, 1, 1, 1, 1, 0, 0, 0,\n",
              "       0, 0, 0, 0, 0, 0, 0, 0, 0, 0, 0, 0, 0])"
            ]
          },
          "metadata": {},
          "execution_count": 135
        }
      ]
    },
    {
      "cell_type": "code",
      "metadata": {
        "id": "mkfrfY_i6NoD",
        "colab": {
          "base_uri": "https://localhost:8080/",
          "height": 265
        },
        "outputId": "4244fdec-449f-4151-a552-4d6b6b053ea0"
      },
      "source": [
        "# 시각화\n",
        "plt.scatter(X, y)\n",
        "plt.grid()\n",
        "plt.show()"
      ],
      "execution_count": 137,
      "outputs": [
        {
          "output_type": "display_data",
          "data": {
            "text/plain": [
              "<Figure size 432x288 with 1 Axes>"
            ],
            "image/png": "[encoded data removed]"
          },
          "metadata": {
            "image/png": {
              "width": 372,
              "height": 248
            },
            "needs_background": "light"
          }
        }
      ]
    },
    {
      "cell_type": "code",
      "metadata": {
        "id": "_vwnmIBv6NoF",
        "colab": {
          "base_uri": "https://localhost:8080/"
        },
        "outputId": "9b417424-30ff-43f2-d592-94970e6bcddf"
      },
      "source": [
        "# 모델학습\n",
        "model = LogisticRegression().fit(X.reshape(-1, 1), y)\n",
        "model.coef_, model.intercept_"
      ],
      "execution_count": 138,
      "outputs": [
        {
          "output_type": "execute_result",
          "data": {
            "text/plain": [
              "(array([[1.32952239]]), array([-9.1854821]))"
            ]
          },
          "metadata": {},
          "execution_count": 138
        }
      ]
    },
    {
      "cell_type": "code",
      "metadata": {
        "id": "wQo67AvN6NoH",
        "colab": {
          "base_uri": "https://localhost:8080/"
        },
        "outputId": "6060dbc6-cab1-499d-e1d1-4c3d0e9c8578"
      },
      "source": [
        "# 예측 분류\n",
        "model.predict( [[7.0], [6.9]] )"
      ],
      "execution_count": 139,
      "outputs": [
        {
          "output_type": "execute_result",
          "data": {
            "text/plain": [
              "array([1, 0])"
            ]
          },
          "metadata": {},
          "execution_count": 139
        }
      ]
    },
    {
      "cell_type": "code",
      "source": [
        "model.predict_proba([[7.0], [6.9]]  )"
      ],
      "metadata": {
        "colab": {
          "base_uri": "https://localhost:8080/"
        },
        "id": "Okg4gzXLc_7b",
        "outputId": "ae0fe674-4aec-4115-9e97-e5283e2d0d83"
      },
      "execution_count": 140,
      "outputs": [
        {
          "output_type": "execute_result",
          "data": {
            "text/plain": [
              "array([[0.46974336, 0.53025664],\n",
              "       [0.50294437, 0.49705563]])"
            ]
          },
          "metadata": {},
          "execution_count": 140
        }
      ]
    },
    {
      "cell_type": "code",
      "metadata": {
        "id": "nlR-0D5yclyR"
      },
      "source": [
        "# 모델시각화"
      ],
      "execution_count": null,
      "outputs": []
    },
    {
      "cell_type": "markdown",
      "metadata": {
        "id": "OJdPnWu05u4p"
      },
      "source": [
        "* 로지스틱회귀를 퍼셉트론 방식으로 표현\n",
        "\n",
        "<center>\n",
        " <img src=\"https://thebook.io/img/080228/100.jpg\" alt=\"퍼셉트론\" width=\"40%\" />\n",
        "\n",
        "</center>\n"
      ]
    },
    {
      "cell_type": "markdown",
      "metadata": {
        "id": "1zVmxrC1Fk0g"
      },
      "source": [
        "#### Logistic Regression 특징\n",
        "\n",
        "- C 값에 의해 규제 (L1, L2 모두 사용)\n",
        "- 학습속도가 빠르고 예측도 빠름\n",
        "- 매우 큰 데이터셋과 희소한 데이터 셋에도 잘 동작함 (solver='sag')"
      ]
    },
    {
      "cell_type": "markdown",
      "metadata": {
        "id": "w-3GKEvW6No0"
      },
      "source": [
        "#### 소프트맥스\n",
        "\n",
        "- 세 개 이상 입력 값을 다루기 위함(다중분류)\n",
        "- 다항 로지스틱스\n",
        "\n",
        "> \\\\( { y }_{ k }=\\frac { exp({ a }_{ k }) }{ \\sum _{ i=1 }^{ n }{ exp({ a }_{ i }) }  }  \\\\)"
      ]
    }
  ]
}