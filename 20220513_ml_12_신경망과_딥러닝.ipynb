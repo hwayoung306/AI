{
  "nbformat": 4,
  "nbformat_minor": 0,
  "metadata": {
    "colab": {
      "name": "20220513_ml_12_신경망과 딥러닝.ipynb의 사본",
      "provenance": [],
      "collapsed_sections": [],
      "include_colab_link": true
    },
    "kernelspec": {
      "name": "python3",
      "display_name": "Python 3"
    },
    "accelerator": "GPU"
  },
  "cells": [
    {
      "cell_type": "markdown",
      "metadata": {
        "id": "view-in-github",
        "colab_type": "text"
      },
      "source": [
        "<a href=\"https://colab.research.google.com/github/hwayoung306/AI/blob/main/20220513_ml_12_%EC%8B%A0%EA%B2%BD%EB%A7%9D%EA%B3%BC_%EB%94%A5%EB%9F%AC%EB%8B%9D.ipynb\" target=\"_parent\"><img src=\"https://colab.research.google.com/assets/colab-badge.svg\" alt=\"Open In Colab\"/></a>"
      ]
    },
    {
      "cell_type": "code",
      "metadata": {
        "id": "D8lNnyIVWbM9",
        "colab": {
          "base_uri": "https://localhost:8080/"
        },
        "outputId": "33310eaa-84b4-4403-eff2-10310debd52d"
      },
      "source": [
        "# GPU 정보 확인\n",
        "from tensorflow.python.client import device_lib\n",
        "device_lib.list_local_devices()"
      ],
      "execution_count": 4,
      "outputs": [
        {
          "output_type": "execute_result",
          "data": {
            "text/plain": [
              "[name: \"/device:CPU:0\"\n",
              " device_type: \"CPU\"\n",
              " memory_limit: 268435456\n",
              " locality {\n",
              " }\n",
              " incarnation: 3408208099490654484\n",
              " xla_global_id: -1, name: \"/device:GPU:0\"\n",
              " device_type: \"GPU\"\n",
              " memory_limit: 14465892352\n",
              " locality {\n",
              "   bus_id: 1\n",
              "   links {\n",
              "   }\n",
              " }\n",
              " incarnation: 11413704904624172451\n",
              " physical_device_desc: \"device: 0, name: Tesla T4, pci bus id: 0000:00:04.0, compute capability: 7.5\"\n",
              " xla_global_id: 416903419]"
            ]
          },
          "metadata": {},
          "execution_count": 4
        }
      ]
    },
    {
      "cell_type": "code",
      "metadata": {
        "id": "FL1lEIzyhMJ5"
      },
      "source": [
        "# 경고메시지 무시\n",
        "import warnings\n",
        "warnings.filterwarnings(\"ignore\")"
      ],
      "execution_count": 1,
      "outputs": []
    },
    {
      "cell_type": "code",
      "metadata": {
        "id": "QthKyS56hMJ4",
        "colab": {
          "base_uri": "https://localhost:8080/"
        },
        "outputId": "7c0e0aa3-f7d6-49f0-e8d9-029d88f03d78"
      },
      "source": [
        "!pip install mglearn"
      ],
      "execution_count": 2,
      "outputs": [
        {
          "output_type": "stream",
          "name": "stdout",
          "text": [
            "Requirement already satisfied: mglearn in /usr/local/lib/python3.7/dist-packages (0.1.9)\n",
            "Requirement already satisfied: pandas in /usr/local/lib/python3.7/dist-packages (from mglearn) (1.3.5)\n",
            "Requirement already satisfied: imageio in /usr/local/lib/python3.7/dist-packages (from mglearn) (2.4.1)\n",
            "Requirement already satisfied: pillow in /usr/local/lib/python3.7/dist-packages (from mglearn) (7.1.2)\n",
            "Requirement already satisfied: cycler in /usr/local/lib/python3.7/dist-packages (from mglearn) (0.11.0)\n",
            "Requirement already satisfied: joblib in /usr/local/lib/python3.7/dist-packages (from mglearn) (1.1.0)\n",
            "Requirement already satisfied: matplotlib in /usr/local/lib/python3.7/dist-packages (from mglearn) (3.2.2)\n",
            "Requirement already satisfied: scikit-learn in /usr/local/lib/python3.7/dist-packages (from mglearn) (1.0.2)\n",
            "Requirement already satisfied: numpy in /usr/local/lib/python3.7/dist-packages (from mglearn) (1.21.6)\n",
            "Requirement already satisfied: python-dateutil>=2.1 in /usr/local/lib/python3.7/dist-packages (from matplotlib->mglearn) (2.8.2)\n",
            "Requirement already satisfied: kiwisolver>=1.0.1 in /usr/local/lib/python3.7/dist-packages (from matplotlib->mglearn) (1.4.2)\n",
            "Requirement already satisfied: pyparsing!=2.0.4,!=2.1.2,!=2.1.6,>=2.0.1 in /usr/local/lib/python3.7/dist-packages (from matplotlib->mglearn) (3.0.8)\n",
            "Requirement already satisfied: typing-extensions in /usr/local/lib/python3.7/dist-packages (from kiwisolver>=1.0.1->matplotlib->mglearn) (4.2.0)\n",
            "Requirement already satisfied: six>=1.5 in /usr/local/lib/python3.7/dist-packages (from python-dateutil>=2.1->matplotlib->mglearn) (1.15.0)\n",
            "Requirement already satisfied: pytz>=2017.3 in /usr/local/lib/python3.7/dist-packages (from pandas->mglearn) (2022.1)\n",
            "Requirement already satisfied: scipy>=1.1.0 in /usr/local/lib/python3.7/dist-packages (from scikit-learn->mglearn) (1.4.1)\n",
            "Requirement already satisfied: threadpoolctl>=2.0.0 in /usr/local/lib/python3.7/dist-packages (from scikit-learn->mglearn) (3.1.0)\n"
          ]
        }
      ]
    },
    {
      "cell_type": "markdown",
      "metadata": {
        "id": "oC99qjqGXAOk"
      },
      "source": [
        "### 코렙에서 한글 사용"
      ]
    },
    {
      "cell_type": "code",
      "metadata": {
        "id": "csF03HviW8ZB"
      },
      "source": [
        "!sudo apt-get -qq -y install fonts-nanum\n",
        " \n",
        "import matplotlib.pyplot as plt\n",
        "import matplotlib.font_manager as fm\n",
        " \n",
        "fontpath = '/usr/share/fonts/truetype/nanum/NanumBarunGothic.ttf'\n",
        "font = fm.FontProperties(fname=fontpath, size=10)\n",
        "fm._rebuild()"
      ],
      "execution_count": 3,
      "outputs": []
    },
    {
      "cell_type": "code",
      "source": [
        "# 그래프에 retina display 적용\n",
        "%config InlineBackend.figure_format = 'retina'\n",
        " \n",
        "# Colab 의 한글 폰트 설정\n",
        "plt.rc('font', family='NanumBarunGothic') \n",
        "plt.rcParams['axes.unicode_minus'] = False"
      ],
      "metadata": {
        "id": "w7gDAQfjV4eH"
      },
      "execution_count": 5,
      "outputs": []
    },
    {
      "cell_type": "markdown",
      "metadata": {
        "id": "g19tsMWUNpCx"
      },
      "source": [
        "### 구글드라이브 연동"
      ]
    },
    {
      "cell_type": "code",
      "metadata": {
        "id": "Ijyjm-4FNqNx",
        "colab": {
          "base_uri": "https://localhost:8080/"
        },
        "outputId": "73f68950-c4fe-492f-9734-9b14cf7097d8"
      },
      "source": [
        "# 구글드라이브 연동\n",
        "from google.colab import drive\n",
        "drive.mount('/gdrive', force_remount=True)\n",
        "\n",
        "# 구글 드라이브 파일 확인\n",
        "!ls '/gdrive/My Drive/temp/'\n",
        "\n",
        "# 반복되는 드라이브 경로 변수화\n",
        "drive_path = '/gdrive/My Drive/temp/'"
      ],
      "execution_count": 6,
      "outputs": [
        {
          "output_type": "stream",
          "name": "stdout",
          "text": [
            "Mounted at /gdrive\n",
            " 매수종목1.txt\t\t\t       'sample (1).xlsx'\n",
            "'2. 영화평점, 날짜별 영화평점 시각화'   sample2.pdf\n",
            " 매수종목2.txt\t\t\t        sample.docx\n",
            " atlas-higgs-challenge-2014-v2.csv.gz   sample_merge.pdf\n",
            " auto-mpg.csv\t\t\t        sample.xlsx\n",
            " bmi_500.csv\t\t\t        score.csv\n",
            " 매수종목.csv\t\t\t        seoul.html\n",
            " data_studentlist_en.csv\t       'stock price (1).xlsx'\n",
            "'demo (1).docx'\t\t\t       'stock price.xlsx'\n",
            " demo.docx\t\t\t        stock_px.csv\n",
            " example.docx\t\t\t       'stock valuation.xlsx'\n",
            " heart_disease.csv\t\t        test.db.db\n",
            " height_weight.txt\t\t        test.txt\n",
            " hello_world.xlsx\t\t        Titanic배포용\n",
            " HelloWorld.xlsx\t\t        titanic_test.csv\n",
            "'house_price (1).csv'\t\t        titanic_train.csv\n",
            " house_price.csv\t\t        titanic.xls\n",
            " lenna.png\t\t\t        titanic.xlsx\n",
            "'little-char (1).png'\t\t        Traffic_Accident_2017.csv\n",
            " little-char.png\t\t        train.csv\n",
            " population_number.csv\t\t        user_id_mean.csv\n",
            " ram_price.csv\t\t\t        wine.csv\n",
            " ratings_small.txt\t\t        주가데이터.xlsx\n",
            "'sample1 (1).pdf'\t\t        남북한발전전력량.xlsx\n",
            " sample1.pdf\n"
          ]
        }
      ]
    },
    {
      "cell_type": "markdown",
      "source": [
        "# 신경망"
      ],
      "metadata": {
        "id": "E-H5JzpPltmD"
      }
    },
    {
      "cell_type": "code",
      "source": [
        "import numpy as np\n",
        "import pandas as pd\n",
        "import matplotlib.pyplot as plt\n",
        "import mglearn\n",
        "%matplotlib inline"
      ],
      "metadata": {
        "id": "ofG5R41XlwEx"
      },
      "execution_count": 7,
      "outputs": []
    },
    {
      "cell_type": "code",
      "source": [
        "# 입력 특성과 예측 결과는 노드로, 가중치는 연결선으로 표현\n",
        "mglearn.plots.plot_logistic_regression_graph()"
      ],
      "metadata": {
        "colab": {
          "base_uri": "https://localhost:8080/",
          "height": 368
        },
        "id": "HH-2QRTIlxFq",
        "outputId": "d8298b5d-a124-48df-bc32-7dc8d1c4239d"
      },
      "execution_count": 8,
      "outputs": [
        {
          "output_type": "execute_result",
          "data": {
            "text/plain": [
              "<graphviz.dot.Digraph at 0x7f6b678debd0>"
            ],
            "image/svg+xml": "<?xml version=\"1.0\" encoding=\"UTF-8\" standalone=\"no\"?>\n<!DOCTYPE svg PUBLIC \"-//W3C//DTD SVG 1.1//EN\"\n \"http://www.w3.org/Graphics/SVG/1.1/DTD/svg11.dtd\">\n<!-- Generated by graphviz version 2.40.1 (20161225.0304)\n -->\n<!-- Title: %3 Pages: 1 -->\n<svg width=\"177pt\" height=\"261pt\"\n viewBox=\"0.00 0.00 177.00 261.00\" xmlns=\"http://www.w3.org/2000/svg\" xmlns:xlink=\"http://www.w3.org/1999/xlink\">\n<g id=\"graph0\" class=\"graph\" transform=\"scale(1 1) rotate(0) translate(4 257)\">\n<title>%3</title>\n<polygon fill=\"#ffffff\" stroke=\"transparent\" points=\"-4,4 -4,-257 173,-257 173,4 -4,4\"/>\n<g id=\"clust1\" class=\"cluster\">\n<title>cluster_0</title>\n<polygon fill=\"none\" stroke=\"#ffffff\" points=\"8,-8 8,-245 60,-245 60,-8 8,-8\"/>\n<text text-anchor=\"middle\" x=\"34\" y=\"-229.8\" font-family=\"Times,serif\" font-size=\"14.00\" fill=\"#000000\">inputs</text>\n</g>\n<g id=\"clust2\" class=\"cluster\">\n<title>cluster_2</title>\n<polygon fill=\"none\" stroke=\"#ffffff\" points=\"108,-89 108,-164 162,-164 162,-89 108,-89\"/>\n<text text-anchor=\"middle\" x=\"135\" y=\"-148.8\" font-family=\"Times,serif\" font-size=\"14.00\" fill=\"#000000\">output</text>\n</g>\n<!-- x[0] -->\n<g id=\"node1\" class=\"node\">\n<title>x[0]</title>\n<ellipse fill=\"none\" stroke=\"#000000\" cx=\"34\" cy=\"-196\" rx=\"18\" ry=\"18\"/>\n<text text-anchor=\"middle\" x=\"34\" y=\"-192.3\" font-family=\"Times,serif\" font-size=\"14.00\" fill=\"#000000\">x[0]</text>\n</g>\n<!-- y -->\n<g id=\"node5\" class=\"node\">\n<title>y</title>\n<ellipse fill=\"none\" stroke=\"#000000\" cx=\"135\" cy=\"-115\" rx=\"18\" ry=\"18\"/>\n<text text-anchor=\"middle\" x=\"135\" y=\"-111.3\" font-family=\"Times,serif\" font-size=\"14.00\" fill=\"#000000\">y</text>\n</g>\n<!-- x[0]&#45;&gt;y -->\n<g id=\"edge1\" class=\"edge\">\n<title>x[0]&#45;&gt;y</title>\n<path fill=\"none\" stroke=\"#000000\" d=\"M48.0436,-184.7373C64.8331,-171.2725 93.1341,-148.5756 112.8732,-132.7453\"/>\n<polygon fill=\"#000000\" stroke=\"#000000\" points=\"115.1386,-135.415 120.7501,-126.4282 110.7591,-129.9542 115.1386,-135.415\"/>\n<text text-anchor=\"middle\" x=\"84\" y=\"-171.8\" font-family=\"Times,serif\" font-size=\"14.00\" fill=\"#000000\">w[0]</text>\n</g>\n<!-- x[1] -->\n<g id=\"node2\" class=\"node\">\n<title>x[1]</title>\n<ellipse fill=\"none\" stroke=\"#000000\" cx=\"34\" cy=\"-142\" rx=\"18\" ry=\"18\"/>\n<text text-anchor=\"middle\" x=\"34\" y=\"-138.3\" font-family=\"Times,serif\" font-size=\"14.00\" fill=\"#000000\">x[1]</text>\n</g>\n<!-- x[1]&#45;&gt;y -->\n<g id=\"edge2\" class=\"edge\">\n<title>x[1]&#45;&gt;y</title>\n<path fill=\"none\" stroke=\"#000000\" d=\"M51.5929,-137.297C67.0894,-133.1543 89.9083,-127.0542 107.7628,-122.2812\"/>\n<polygon fill=\"#000000\" stroke=\"#000000\" points=\"108.8519,-125.6131 117.6087,-119.6491 107.0441,-118.8505 108.8519,-125.6131\"/>\n<text text-anchor=\"middle\" x=\"84\" y=\"-134.8\" font-family=\"Times,serif\" font-size=\"14.00\" fill=\"#000000\">w[1]</text>\n</g>\n<!-- x[2] -->\n<g id=\"node3\" class=\"node\">\n<title>x[2]</title>\n<ellipse fill=\"none\" stroke=\"#000000\" cx=\"34\" cy=\"-88\" rx=\"18\" ry=\"18\"/>\n<text text-anchor=\"middle\" x=\"34\" y=\"-84.3\" font-family=\"Times,serif\" font-size=\"14.00\" fill=\"#000000\">x[2]</text>\n</g>\n<!-- x[2]&#45;&gt;y -->\n<g id=\"edge3\" class=\"edge\">\n<title>x[2]&#45;&gt;y</title>\n<path fill=\"none\" stroke=\"#000000\" d=\"M51.5929,-92.703C67.0894,-96.8457 89.9083,-102.9458 107.7628,-107.7188\"/>\n<polygon fill=\"#000000\" stroke=\"#000000\" points=\"107.0441,-111.1495 117.6087,-110.3509 108.8519,-104.3869 107.0441,-111.1495\"/>\n<text text-anchor=\"middle\" x=\"84\" y=\"-107.8\" font-family=\"Times,serif\" font-size=\"14.00\" fill=\"#000000\">w[2]</text>\n</g>\n<!-- x[3] -->\n<g id=\"node4\" class=\"node\">\n<title>x[3]</title>\n<ellipse fill=\"none\" stroke=\"#000000\" cx=\"34\" cy=\"-34\" rx=\"18\" ry=\"18\"/>\n<text text-anchor=\"middle\" x=\"34\" y=\"-30.3\" font-family=\"Times,serif\" font-size=\"14.00\" fill=\"#000000\">x[3]</text>\n</g>\n<!-- x[3]&#45;&gt;y -->\n<g id=\"edge4\" class=\"edge\">\n<title>x[3]&#45;&gt;y</title>\n<path fill=\"none\" stroke=\"#000000\" d=\"M48.0436,-45.2627C64.8331,-58.7275 93.1341,-81.4244 112.8732,-97.2547\"/>\n<polygon fill=\"#000000\" stroke=\"#000000\" points=\"110.7591,-100.0458 120.7501,-103.5718 115.1386,-94.585 110.7591,-100.0458\"/>\n<text text-anchor=\"middle\" x=\"84\" y=\"-82.8\" font-family=\"Times,serif\" font-size=\"14.00\" fill=\"#000000\">w[3]</text>\n</g>\n</g>\n</svg>\n"
          },
          "metadata": {},
          "execution_count": 8
        }
      ]
    },
    {
      "cell_type": "code",
      "source": [
        "# 하나의 은닉층을 갖는 다층 퍼셉트론(신경망)\n",
        "# 은닉층의 노드(유닛)들이 모두 연결되어 있는 완전 연결 신경망\n",
        "mglearn.plots.plot_single_hidden_layer_graph()"
      ],
      "metadata": {
        "colab": {
          "base_uri": "https://localhost:8080/",
          "height": 368
        },
        "id": "N4wDLV1EWum1",
        "outputId": "9a2a8076-fdb8-469c-b587-ab6642fa99d0"
      },
      "execution_count": 9,
      "outputs": [
        {
          "output_type": "execute_result",
          "data": {
            "text/plain": [
              "<graphviz.dot.Digraph at 0x7f6a5992e590>"
            ],
            "image/svg+xml": "<?xml version=\"1.0\" encoding=\"UTF-8\" standalone=\"no\"?>\n<!DOCTYPE svg PUBLIC \"-//W3C//DTD SVG 1.1//EN\"\n \"http://www.w3.org/Graphics/SVG/1.1/DTD/svg11.dtd\">\n<!-- Generated by graphviz version 2.40.1 (20161225.0304)\n -->\n<!-- Title: %3 Pages: 1 -->\n<svg width=\"257pt\" height=\"261pt\"\n viewBox=\"0.00 0.00 257.00 261.00\" xmlns=\"http://www.w3.org/2000/svg\" xmlns:xlink=\"http://www.w3.org/1999/xlink\">\n<g id=\"graph0\" class=\"graph\" transform=\"scale(1 1) rotate(0) translate(4 257)\">\n<title>%3</title>\n<polygon fill=\"#ffffff\" stroke=\"transparent\" points=\"-4,4 -4,-257 253,-257 253,4 -4,4\"/>\n<g id=\"clust1\" class=\"cluster\">\n<title>cluster_0</title>\n<polygon fill=\"none\" stroke=\"#ffffff\" points=\"8,-8 8,-245 60,-245 60,-8 8,-8\"/>\n<text text-anchor=\"middle\" x=\"34\" y=\"-229.8\" font-family=\"Times,serif\" font-size=\"14.00\" fill=\"#000000\">inputs</text>\n</g>\n<g id=\"clust2\" class=\"cluster\">\n<title>cluster_1</title>\n<polygon fill=\"none\" stroke=\"#ffffff\" points=\"80,-35 80,-218 168,-218 168,-35 80,-35\"/>\n<text text-anchor=\"middle\" x=\"124\" y=\"-202.8\" font-family=\"Times,serif\" font-size=\"14.00\" fill=\"#000000\">hidden layer</text>\n</g>\n<g id=\"clust3\" class=\"cluster\">\n<title>cluster_2</title>\n<polygon fill=\"none\" stroke=\"#ffffff\" points=\"188,-89 188,-164 242,-164 242,-89 188,-89\"/>\n<text text-anchor=\"middle\" x=\"215\" y=\"-148.8\" font-family=\"Times,serif\" font-size=\"14.00\" fill=\"#000000\">output</text>\n</g>\n<!-- x[0] -->\n<g id=\"node1\" class=\"node\">\n<title>x[0]</title>\n<ellipse fill=\"none\" stroke=\"#000000\" cx=\"34\" cy=\"-196\" rx=\"18\" ry=\"18\"/>\n<text text-anchor=\"middle\" x=\"34\" y=\"-192.3\" font-family=\"Times,serif\" font-size=\"14.00\" fill=\"#000000\">x[0]</text>\n</g>\n<!-- h0 -->\n<g id=\"node5\" class=\"node\">\n<title>h0</title>\n<ellipse fill=\"none\" stroke=\"#000000\" cx=\"124\" cy=\"-61\" rx=\"18\" ry=\"18\"/>\n<text text-anchor=\"middle\" x=\"124\" y=\"-57.3\" font-family=\"Times,serif\" font-size=\"14.00\" fill=\"#000000\">h[0]</text>\n</g>\n<!-- x[0]&#45;&gt;h0 -->\n<g id=\"edge1\" class=\"edge\">\n<title>x[0]&#45;&gt;h0</title>\n<path fill=\"none\" stroke=\"#000000\" d=\"M44.1492,-180.7762C59.7464,-157.3804 89.7362,-112.3958 108.1948,-84.7078\"/>\n<polygon fill=\"#000000\" stroke=\"#000000\" points=\"111.1149,-86.6373 113.7498,-76.3753 105.2906,-82.7543 111.1149,-86.6373\"/>\n</g>\n<!-- h1 -->\n<g id=\"node6\" class=\"node\">\n<title>h1</title>\n<ellipse fill=\"none\" stroke=\"#000000\" cx=\"124\" cy=\"-169\" rx=\"18\" ry=\"18\"/>\n<text text-anchor=\"middle\" x=\"124\" y=\"-165.3\" font-family=\"Times,serif\" font-size=\"14.00\" fill=\"#000000\">h[1]</text>\n</g>\n<!-- x[0]&#45;&gt;h1 -->\n<g id=\"edge2\" class=\"edge\">\n<title>x[0]&#45;&gt;h1</title>\n<path fill=\"none\" stroke=\"#000000\" d=\"M51.3529,-190.7941C64.3017,-186.9095 82.2369,-181.5289 97.0466,-177.086\"/>\n<polygon fill=\"#000000\" stroke=\"#000000\" points=\"98.1278,-180.4158 106.7004,-174.1899 96.1164,-173.711 98.1278,-180.4158\"/>\n</g>\n<!-- h2 -->\n<g id=\"node7\" class=\"node\">\n<title>h2</title>\n<ellipse fill=\"none\" stroke=\"#000000\" cx=\"124\" cy=\"-115\" rx=\"18\" ry=\"18\"/>\n<text text-anchor=\"middle\" x=\"124\" y=\"-111.3\" font-family=\"Times,serif\" font-size=\"14.00\" fill=\"#000000\">h[2]</text>\n</g>\n<!-- x[0]&#45;&gt;h2 -->\n<g id=\"edge3\" class=\"edge\">\n<title>x[0]&#45;&gt;h2</title>\n<path fill=\"none\" stroke=\"#000000\" d=\"M47.6691,-183.6978C62.2907,-170.5384 85.6735,-149.4939 102.7099,-134.1611\"/>\n<polygon fill=\"#000000\" stroke=\"#000000\" points=\"105.4056,-136.4437 110.4972,-127.1525 100.7228,-131.2407 105.4056,-136.4437\"/>\n</g>\n<!-- x[1] -->\n<g id=\"node2\" class=\"node\">\n<title>x[1]</title>\n<ellipse fill=\"none\" stroke=\"#000000\" cx=\"34\" cy=\"-142\" rx=\"18\" ry=\"18\"/>\n<text text-anchor=\"middle\" x=\"34\" y=\"-138.3\" font-family=\"Times,serif\" font-size=\"14.00\" fill=\"#000000\">x[1]</text>\n</g>\n<!-- x[1]&#45;&gt;h0 -->\n<g id=\"edge4\" class=\"edge\">\n<title>x[1]&#45;&gt;h0</title>\n<path fill=\"none\" stroke=\"#000000\" d=\"M47.6691,-129.6978C62.2907,-116.5384 85.6735,-95.4939 102.7099,-80.1611\"/>\n<polygon fill=\"#000000\" stroke=\"#000000\" points=\"105.4056,-82.4437 110.4972,-73.1525 100.7228,-77.2407 105.4056,-82.4437\"/>\n</g>\n<!-- x[1]&#45;&gt;h1 -->\n<g id=\"edge5\" class=\"edge\">\n<title>x[1]&#45;&gt;h1</title>\n<path fill=\"none\" stroke=\"#000000\" d=\"M51.3529,-147.2059C64.3017,-151.0905 82.2369,-156.4711 97.0466,-160.914\"/>\n<polygon fill=\"#000000\" stroke=\"#000000\" points=\"96.1164,-164.289 106.7004,-163.8101 98.1278,-157.5842 96.1164,-164.289\"/>\n</g>\n<!-- x[1]&#45;&gt;h2 -->\n<g id=\"edge6\" class=\"edge\">\n<title>x[1]&#45;&gt;h2</title>\n<path fill=\"none\" stroke=\"#000000\" d=\"M51.3529,-136.7941C64.3017,-132.9095 82.2369,-127.5289 97.0466,-123.086\"/>\n<polygon fill=\"#000000\" stroke=\"#000000\" points=\"98.1278,-126.4158 106.7004,-120.1899 96.1164,-119.711 98.1278,-126.4158\"/>\n</g>\n<!-- x[2] -->\n<g id=\"node3\" class=\"node\">\n<title>x[2]</title>\n<ellipse fill=\"none\" stroke=\"#000000\" cx=\"34\" cy=\"-88\" rx=\"18\" ry=\"18\"/>\n<text text-anchor=\"middle\" x=\"34\" y=\"-84.3\" font-family=\"Times,serif\" font-size=\"14.00\" fill=\"#000000\">x[2]</text>\n</g>\n<!-- x[2]&#45;&gt;h0 -->\n<g id=\"edge7\" class=\"edge\">\n<title>x[2]&#45;&gt;h0</title>\n<path fill=\"none\" stroke=\"#000000\" d=\"M51.3529,-82.7941C64.3017,-78.9095 82.2369,-73.5289 97.0466,-69.086\"/>\n<polygon fill=\"#000000\" stroke=\"#000000\" points=\"98.1278,-72.4158 106.7004,-66.1899 96.1164,-65.711 98.1278,-72.4158\"/>\n</g>\n<!-- x[2]&#45;&gt;h1 -->\n<g id=\"edge8\" class=\"edge\">\n<title>x[2]&#45;&gt;h1</title>\n<path fill=\"none\" stroke=\"#000000\" d=\"M47.6691,-100.3022C62.2907,-113.4616 85.6735,-134.5061 102.7099,-149.8389\"/>\n<polygon fill=\"#000000\" stroke=\"#000000\" points=\"100.7228,-152.7593 110.4972,-156.8475 105.4056,-147.5563 100.7228,-152.7593\"/>\n</g>\n<!-- x[2]&#45;&gt;h2 -->\n<g id=\"edge9\" class=\"edge\">\n<title>x[2]&#45;&gt;h2</title>\n<path fill=\"none\" stroke=\"#000000\" d=\"M51.3529,-93.2059C64.3017,-97.0905 82.2369,-102.4711 97.0466,-106.914\"/>\n<polygon fill=\"#000000\" stroke=\"#000000\" points=\"96.1164,-110.289 106.7004,-109.8101 98.1278,-103.5842 96.1164,-110.289\"/>\n</g>\n<!-- x[3] -->\n<g id=\"node4\" class=\"node\">\n<title>x[3]</title>\n<ellipse fill=\"none\" stroke=\"#000000\" cx=\"34\" cy=\"-34\" rx=\"18\" ry=\"18\"/>\n<text text-anchor=\"middle\" x=\"34\" y=\"-30.3\" font-family=\"Times,serif\" font-size=\"14.00\" fill=\"#000000\">x[3]</text>\n</g>\n<!-- x[3]&#45;&gt;h0 -->\n<g id=\"edge10\" class=\"edge\">\n<title>x[3]&#45;&gt;h0</title>\n<path fill=\"none\" stroke=\"#000000\" d=\"M51.3529,-39.2059C64.3017,-43.0905 82.2369,-48.4711 97.0466,-52.914\"/>\n<polygon fill=\"#000000\" stroke=\"#000000\" points=\"96.1164,-56.289 106.7004,-55.8101 98.1278,-49.5842 96.1164,-56.289\"/>\n</g>\n<!-- x[3]&#45;&gt;h1 -->\n<g id=\"edge11\" class=\"edge\">\n<title>x[3]&#45;&gt;h1</title>\n<path fill=\"none\" stroke=\"#000000\" d=\"M44.1492,-49.2238C59.7464,-72.6196 89.7362,-117.6042 108.1948,-145.2922\"/>\n<polygon fill=\"#000000\" stroke=\"#000000\" points=\"105.2906,-147.2457 113.7498,-153.6247 111.1149,-143.3627 105.2906,-147.2457\"/>\n</g>\n<!-- x[3]&#45;&gt;h2 -->\n<g id=\"edge12\" class=\"edge\">\n<title>x[3]&#45;&gt;h2</title>\n<path fill=\"none\" stroke=\"#000000\" d=\"M47.6691,-46.3022C62.2907,-59.4616 85.6735,-80.5061 102.7099,-95.8389\"/>\n<polygon fill=\"#000000\" stroke=\"#000000\" points=\"100.7228,-98.7593 110.4972,-102.8475 105.4056,-93.5563 100.7228,-98.7593\"/>\n</g>\n<!-- y -->\n<g id=\"node8\" class=\"node\">\n<title>y</title>\n<ellipse fill=\"none\" stroke=\"#000000\" cx=\"215\" cy=\"-115\" rx=\"18\" ry=\"18\"/>\n<text text-anchor=\"middle\" x=\"215\" y=\"-111.3\" font-family=\"Times,serif\" font-size=\"14.00\" fill=\"#000000\">y</text>\n</g>\n<!-- h0&#45;&gt;y -->\n<g id=\"edge13\" class=\"edge\">\n<title>h0&#45;&gt;y</title>\n<path fill=\"none\" stroke=\"#000000\" d=\"M139.851,-70.4061C153.8132,-78.6913 174.3728,-90.8916 190.4596,-100.4375\"/>\n<polygon fill=\"#000000\" stroke=\"#000000\" points=\"188.9447,-103.6084 199.3307,-105.7017 192.5169,-97.5885 188.9447,-103.6084\"/>\n</g>\n<!-- h1&#45;&gt;y -->\n<g id=\"edge14\" class=\"edge\">\n<title>h1&#45;&gt;y</title>\n<path fill=\"none\" stroke=\"#000000\" d=\"M139.851,-159.5939C153.8132,-151.3087 174.3728,-139.1084 190.4596,-129.5625\"/>\n<polygon fill=\"#000000\" stroke=\"#000000\" points=\"192.5169,-132.4115 199.3307,-124.2983 188.9447,-126.3916 192.5169,-132.4115\"/>\n</g>\n<!-- h2&#45;&gt;y -->\n<g id=\"edge15\" class=\"edge\">\n<title>h2&#45;&gt;y</title>\n<path fill=\"none\" stroke=\"#000000\" d=\"M142.4152,-115C155.0791,-115 172.1442,-115 186.5459,-115\"/>\n<polygon fill=\"#000000\" stroke=\"#000000\" points=\"186.9228,-118.5001 196.9227,-115 186.9227,-111.5001 186.9228,-118.5001\"/>\n</g>\n</g>\n</svg>\n"
          },
          "metadata": {},
          "execution_count": 9
        }
      ]
    },
    {
      "cell_type": "code",
      "source": [
        "# 두 개의 은닉층을 갖는 다층 퍼셉트론(신경망)\n",
        "mglearn.plots.plot_two_hidden_layer_graph()"
      ],
      "metadata": {
        "colab": {
          "base_uri": "https://localhost:8080/",
          "height": 368
        },
        "id": "3t_tEoSZZpEQ",
        "outputId": "688dde0b-000a-4816-96c8-a4a5b81e198c"
      },
      "execution_count": 10,
      "outputs": [
        {
          "output_type": "execute_result",
          "data": {
            "text/plain": [
              "<graphviz.dot.Digraph at 0x7f6ae060c250>"
            ],
            "image/svg+xml": "<?xml version=\"1.0\" encoding=\"UTF-8\" standalone=\"no\"?>\n<!DOCTYPE svg PUBLIC \"-//W3C//DTD SVG 1.1//EN\"\n \"http://www.w3.org/Graphics/SVG/1.1/DTD/svg11.dtd\">\n<!-- Generated by graphviz version 2.40.1 (20161225.0304)\n -->\n<!-- Title: %3 Pages: 1 -->\n<svg width=\"387pt\" height=\"261pt\"\n viewBox=\"0.00 0.00 387.00 261.00\" xmlns=\"http://www.w3.org/2000/svg\" xmlns:xlink=\"http://www.w3.org/1999/xlink\">\n<g id=\"graph0\" class=\"graph\" transform=\"scale(1 1) rotate(0) translate(4 257)\">\n<title>%3</title>\n<polygon fill=\"#ffffff\" stroke=\"transparent\" points=\"-4,4 -4,-257 383,-257 383,4 -4,4\"/>\n<g id=\"clust1\" class=\"cluster\">\n<title>cluster_0</title>\n<polygon fill=\"none\" stroke=\"#ffffff\" points=\"8,-8 8,-245 60,-245 60,-8 8,-8\"/>\n<text text-anchor=\"middle\" x=\"34\" y=\"-229.8\" font-family=\"Times,serif\" font-size=\"14.00\" fill=\"#000000\">inputs</text>\n</g>\n<g id=\"clust2\" class=\"cluster\">\n<title>cluster_1</title>\n<polygon fill=\"none\" stroke=\"#ffffff\" points=\"80,-35 80,-218 179,-218 179,-35 80,-35\"/>\n<text text-anchor=\"middle\" x=\"129.5\" y=\"-202.8\" font-family=\"Times,serif\" font-size=\"14.00\" fill=\"#000000\">hidden layer 1</text>\n</g>\n<g id=\"clust3\" class=\"cluster\">\n<title>cluster_2</title>\n<polygon fill=\"none\" stroke=\"#ffffff\" points=\"199,-35 199,-218 298,-218 298,-35 199,-35\"/>\n<text text-anchor=\"middle\" x=\"248.5\" y=\"-202.8\" font-family=\"Times,serif\" font-size=\"14.00\" fill=\"#000000\">hidden layer 2</text>\n</g>\n<g id=\"clust4\" class=\"cluster\">\n<title>cluster_3</title>\n<polygon fill=\"none\" stroke=\"#ffffff\" points=\"318,-89 318,-164 372,-164 372,-89 318,-89\"/>\n<text text-anchor=\"middle\" x=\"345\" y=\"-148.8\" font-family=\"Times,serif\" font-size=\"14.00\" fill=\"#000000\">output</text>\n</g>\n<!-- x[0] -->\n<g id=\"node1\" class=\"node\">\n<title>x[0]</title>\n<ellipse fill=\"none\" stroke=\"#000000\" cx=\"34\" cy=\"-196\" rx=\"18\" ry=\"18\"/>\n<text text-anchor=\"middle\" x=\"34\" y=\"-192.3\" font-family=\"Times,serif\" font-size=\"14.00\" fill=\"#000000\">x[0]</text>\n</g>\n<!-- h1[0] -->\n<g id=\"node5\" class=\"node\">\n<title>h1[0]</title>\n<ellipse fill=\"none\" stroke=\"#000000\" cx=\"129\" cy=\"-61\" rx=\"18\" ry=\"18\"/>\n<text text-anchor=\"middle\" x=\"129\" y=\"-57.3\" font-family=\"Times,serif\" font-size=\"14.00\" fill=\"#000000\">h1[0]</text>\n</g>\n<!-- x[0]&#45;&gt;h1[0] -->\n<g id=\"edge1\" class=\"edge\">\n<title>x[0]&#45;&gt;h1[0]</title>\n<path fill=\"none\" stroke=\"#000000\" d=\"M44.5296,-181.0368C61.0073,-157.6212 93.0186,-112.1314 112.5543,-84.3702\"/>\n<polygon fill=\"#000000\" stroke=\"#000000\" points=\"115.5306,-86.2225 118.4232,-76.0302 109.8059,-82.194 115.5306,-86.2225\"/>\n</g>\n<!-- h1[1] -->\n<g id=\"node6\" class=\"node\">\n<title>h1[1]</title>\n<ellipse fill=\"none\" stroke=\"#000000\" cx=\"129\" cy=\"-169\" rx=\"18\" ry=\"18\"/>\n<text text-anchor=\"middle\" x=\"129\" y=\"-165.3\" font-family=\"Times,serif\" font-size=\"14.00\" fill=\"#000000\">h1[1]</text>\n</g>\n<!-- x[0]&#45;&gt;h1[1] -->\n<g id=\"edge2\" class=\"edge\">\n<title>x[0]&#45;&gt;h1[1]</title>\n<path fill=\"none\" stroke=\"#000000\" d=\"M51.4245,-191.0478C65.3976,-187.0765 85.2695,-181.4287 101.4023,-176.8436\"/>\n<polygon fill=\"#000000\" stroke=\"#000000\" points=\"102.7021,-180.1128 111.3643,-174.0123 100.7884,-173.3795 102.7021,-180.1128\"/>\n</g>\n<!-- h1[2] -->\n<g id=\"node7\" class=\"node\">\n<title>h1[2]</title>\n<ellipse fill=\"none\" stroke=\"#000000\" cx=\"129\" cy=\"-115\" rx=\"18\" ry=\"18\"/>\n<text text-anchor=\"middle\" x=\"129\" y=\"-111.3\" font-family=\"Times,serif\" font-size=\"14.00\" fill=\"#000000\">h1[2]</text>\n</g>\n<!-- x[0]&#45;&gt;h1[2] -->\n<g id=\"edge3\" class=\"edge\">\n<title>x[0]&#45;&gt;h1[2]</title>\n<path fill=\"none\" stroke=\"#000000\" d=\"M48.0176,-184.0482C63.6829,-170.6914 89.2339,-148.9059 107.4449,-133.3785\"/>\n<polygon fill=\"#000000\" stroke=\"#000000\" points=\"109.8951,-135.889 115.2338,-126.7375 105.3534,-130.5623 109.8951,-135.889\"/>\n</g>\n<!-- x[1] -->\n<g id=\"node2\" class=\"node\">\n<title>x[1]</title>\n<ellipse fill=\"none\" stroke=\"#000000\" cx=\"34\" cy=\"-142\" rx=\"18\" ry=\"18\"/>\n<text text-anchor=\"middle\" x=\"34\" y=\"-138.3\" font-family=\"Times,serif\" font-size=\"14.00\" fill=\"#000000\">x[1]</text>\n</g>\n<!-- x[1]&#45;&gt;h1[0] -->\n<g id=\"edge4\" class=\"edge\">\n<title>x[1]&#45;&gt;h1[0]</title>\n<path fill=\"none\" stroke=\"#000000\" d=\"M48.0176,-130.0482C63.6829,-116.6914 89.2339,-94.9059 107.4449,-79.3785\"/>\n<polygon fill=\"#000000\" stroke=\"#000000\" points=\"109.8951,-81.889 115.2338,-72.7375 105.3534,-76.5623 109.8951,-81.889\"/>\n</g>\n<!-- x[1]&#45;&gt;h1[1] -->\n<g id=\"edge5\" class=\"edge\">\n<title>x[1]&#45;&gt;h1[1]</title>\n<path fill=\"none\" stroke=\"#000000\" d=\"M51.4245,-146.9522C65.3976,-150.9235 85.2695,-156.5713 101.4023,-161.1564\"/>\n<polygon fill=\"#000000\" stroke=\"#000000\" points=\"100.7884,-164.6205 111.3643,-163.9877 102.7021,-157.8872 100.7884,-164.6205\"/>\n</g>\n<!-- x[1]&#45;&gt;h1[2] -->\n<g id=\"edge6\" class=\"edge\">\n<title>x[1]&#45;&gt;h1[2]</title>\n<path fill=\"none\" stroke=\"#000000\" d=\"M51.4245,-137.0478C65.3976,-133.0765 85.2695,-127.4287 101.4023,-122.8436\"/>\n<polygon fill=\"#000000\" stroke=\"#000000\" points=\"102.7021,-126.1128 111.3643,-120.0123 100.7884,-119.3795 102.7021,-126.1128\"/>\n</g>\n<!-- x[2] -->\n<g id=\"node3\" class=\"node\">\n<title>x[2]</title>\n<ellipse fill=\"none\" stroke=\"#000000\" cx=\"34\" cy=\"-88\" rx=\"18\" ry=\"18\"/>\n<text text-anchor=\"middle\" x=\"34\" y=\"-84.3\" font-family=\"Times,serif\" font-size=\"14.00\" fill=\"#000000\">x[2]</text>\n</g>\n<!-- x[2]&#45;&gt;h1[0] -->\n<g id=\"edge7\" class=\"edge\">\n<title>x[2]&#45;&gt;h1[0]</title>\n<path fill=\"none\" stroke=\"#000000\" d=\"M51.4245,-83.0478C65.3976,-79.0765 85.2695,-73.4287 101.4023,-68.8436\"/>\n<polygon fill=\"#000000\" stroke=\"#000000\" points=\"102.7021,-72.1128 111.3643,-66.0123 100.7884,-65.3795 102.7021,-72.1128\"/>\n</g>\n<!-- x[2]&#45;&gt;h1[1] -->\n<g id=\"edge8\" class=\"edge\">\n<title>x[2]&#45;&gt;h1[1]</title>\n<path fill=\"none\" stroke=\"#000000\" d=\"M48.0176,-99.9518C63.6829,-113.3086 89.2339,-135.0941 107.4449,-150.6215\"/>\n<polygon fill=\"#000000\" stroke=\"#000000\" points=\"105.3534,-153.4377 115.2338,-157.2625 109.8951,-148.111 105.3534,-153.4377\"/>\n</g>\n<!-- x[2]&#45;&gt;h1[2] -->\n<g id=\"edge9\" class=\"edge\">\n<title>x[2]&#45;&gt;h1[2]</title>\n<path fill=\"none\" stroke=\"#000000\" d=\"M51.4245,-92.9522C65.3976,-96.9235 85.2695,-102.5713 101.4023,-107.1564\"/>\n<polygon fill=\"#000000\" stroke=\"#000000\" points=\"100.7884,-110.6205 111.3643,-109.9877 102.7021,-103.8872 100.7884,-110.6205\"/>\n</g>\n<!-- x[3] -->\n<g id=\"node4\" class=\"node\">\n<title>x[3]</title>\n<ellipse fill=\"none\" stroke=\"#000000\" cx=\"34\" cy=\"-34\" rx=\"18\" ry=\"18\"/>\n<text text-anchor=\"middle\" x=\"34\" y=\"-30.3\" font-family=\"Times,serif\" font-size=\"14.00\" fill=\"#000000\">x[3]</text>\n</g>\n<!-- x[3]&#45;&gt;h1[0] -->\n<g id=\"edge10\" class=\"edge\">\n<title>x[3]&#45;&gt;h1[0]</title>\n<path fill=\"none\" stroke=\"#000000\" d=\"M51.4245,-38.9522C65.3976,-42.9235 85.2695,-48.5713 101.4023,-53.1564\"/>\n<polygon fill=\"#000000\" stroke=\"#000000\" points=\"100.7884,-56.6205 111.3643,-55.9877 102.7021,-49.8872 100.7884,-56.6205\"/>\n</g>\n<!-- x[3]&#45;&gt;h1[1] -->\n<g id=\"edge11\" class=\"edge\">\n<title>x[3]&#45;&gt;h1[1]</title>\n<path fill=\"none\" stroke=\"#000000\" d=\"M44.5296,-48.9632C61.0073,-72.3788 93.0186,-117.8686 112.5543,-145.6298\"/>\n<polygon fill=\"#000000\" stroke=\"#000000\" points=\"109.8059,-147.806 118.4232,-153.9698 115.5306,-143.7775 109.8059,-147.806\"/>\n</g>\n<!-- x[3]&#45;&gt;h1[2] -->\n<g id=\"edge12\" class=\"edge\">\n<title>x[3]&#45;&gt;h1[2]</title>\n<path fill=\"none\" stroke=\"#000000\" d=\"M48.0176,-45.9518C63.6829,-59.3086 89.2339,-81.0941 107.4449,-96.6215\"/>\n<polygon fill=\"#000000\" stroke=\"#000000\" points=\"105.3534,-99.4377 115.2338,-103.2625 109.8951,-94.111 105.3534,-99.4377\"/>\n</g>\n<!-- h2[0] -->\n<g id=\"node8\" class=\"node\">\n<title>h2[0]</title>\n<ellipse fill=\"none\" stroke=\"#000000\" cx=\"248\" cy=\"-61\" rx=\"18\" ry=\"18\"/>\n<text text-anchor=\"middle\" x=\"248\" y=\"-57.3\" font-family=\"Times,serif\" font-size=\"14.00\" fill=\"#000000\">h2[0]</text>\n</g>\n<!-- h1[0]&#45;&gt;h2[0] -->\n<g id=\"edge13\" class=\"edge\">\n<title>h1[0]&#45;&gt;h2[0]</title>\n<path fill=\"none\" stroke=\"#000000\" d=\"M147.0735,-61C166.2949,-61 196.9668,-61 219.4583,-61\"/>\n<polygon fill=\"#000000\" stroke=\"#000000\" points=\"219.7564,-64.5001 229.7564,-61 219.7563,-57.5001 219.7564,-64.5001\"/>\n</g>\n<!-- h2[1] -->\n<g id=\"node9\" class=\"node\">\n<title>h2[1]</title>\n<ellipse fill=\"none\" stroke=\"#000000\" cx=\"248\" cy=\"-169\" rx=\"18\" ry=\"18\"/>\n<text text-anchor=\"middle\" x=\"248\" y=\"-165.3\" font-family=\"Times,serif\" font-size=\"14.00\" fill=\"#000000\">h2[1]</text>\n</g>\n<!-- h1[0]&#45;&gt;h2[1] -->\n<g id=\"edge14\" class=\"edge\">\n<title>h1[0]&#45;&gt;h2[1]</title>\n<path fill=\"none\" stroke=\"#000000\" d=\"M142.6508,-73.389C163.2742,-92.106 202.5443,-127.7461 226.8774,-149.8299\"/>\n<polygon fill=\"#000000\" stroke=\"#000000\" points=\"224.7511,-152.6267 234.5084,-156.7555 229.4555,-147.4432 224.7511,-152.6267\"/>\n</g>\n<!-- h2[2] -->\n<g id=\"node10\" class=\"node\">\n<title>h2[2]</title>\n<ellipse fill=\"none\" stroke=\"#000000\" cx=\"248\" cy=\"-115\" rx=\"18\" ry=\"18\"/>\n<text text-anchor=\"middle\" x=\"248\" y=\"-111.3\" font-family=\"Times,serif\" font-size=\"14.00\" fill=\"#000000\">h2[2]</text>\n</g>\n<!-- h1[0]&#45;&gt;h2[2] -->\n<g id=\"edge15\" class=\"edge\">\n<title>h1[0]&#45;&gt;h2[2]</title>\n<path fill=\"none\" stroke=\"#000000\" d=\"M145.5464,-68.5085C165.4398,-77.5357 199.05,-92.7874 222.323,-103.3482\"/>\n<polygon fill=\"#000000\" stroke=\"#000000\" points=\"221.0415,-106.6102 231.5941,-107.5553 223.9341,-100.2358 221.0415,-106.6102\"/>\n</g>\n<!-- h1[1]&#45;&gt;h2[0] -->\n<g id=\"edge16\" class=\"edge\">\n<title>h1[1]&#45;&gt;h2[0]</title>\n<path fill=\"none\" stroke=\"#000000\" d=\"M142.6508,-156.611C163.2742,-137.894 202.5443,-102.2539 226.8774,-80.1701\"/>\n<polygon fill=\"#000000\" stroke=\"#000000\" points=\"229.4555,-82.5568 234.5084,-73.2445 224.7511,-77.3733 229.4555,-82.5568\"/>\n</g>\n<!-- h1[1]&#45;&gt;h2[1] -->\n<g id=\"edge17\" class=\"edge\">\n<title>h1[1]&#45;&gt;h2[1]</title>\n<path fill=\"none\" stroke=\"#000000\" d=\"M147.0735,-169C166.2949,-169 196.9668,-169 219.4583,-169\"/>\n<polygon fill=\"#000000\" stroke=\"#000000\" points=\"219.7564,-172.5001 229.7564,-169 219.7563,-165.5001 219.7564,-172.5001\"/>\n</g>\n<!-- h1[1]&#45;&gt;h2[2] -->\n<g id=\"edge18\" class=\"edge\">\n<title>h1[1]&#45;&gt;h2[2]</title>\n<path fill=\"none\" stroke=\"#000000\" d=\"M145.5464,-161.4915C165.4398,-152.4643 199.05,-137.2126 222.323,-126.6518\"/>\n<polygon fill=\"#000000\" stroke=\"#000000\" points=\"223.9341,-129.7642 231.5941,-122.4447 221.0415,-123.3898 223.9341,-129.7642\"/>\n</g>\n<!-- h1[2]&#45;&gt;h2[0] -->\n<g id=\"edge19\" class=\"edge\">\n<title>h1[2]&#45;&gt;h2[0]</title>\n<path fill=\"none\" stroke=\"#000000\" d=\"M145.5464,-107.4915C165.4398,-98.4643 199.05,-83.2126 222.323,-72.6518\"/>\n<polygon fill=\"#000000\" stroke=\"#000000\" points=\"223.9341,-75.7642 231.5941,-68.4447 221.0415,-69.3898 223.9341,-75.7642\"/>\n</g>\n<!-- h1[2]&#45;&gt;h2[1] -->\n<g id=\"edge20\" class=\"edge\">\n<title>h1[2]&#45;&gt;h2[1]</title>\n<path fill=\"none\" stroke=\"#000000\" d=\"M145.5464,-122.5085C165.4398,-131.5357 199.05,-146.7874 222.323,-157.3482\"/>\n<polygon fill=\"#000000\" stroke=\"#000000\" points=\"221.0415,-160.6102 231.5941,-161.5553 223.9341,-154.2358 221.0415,-160.6102\"/>\n</g>\n<!-- h1[2]&#45;&gt;h2[2] -->\n<g id=\"edge21\" class=\"edge\">\n<title>h1[2]&#45;&gt;h2[2]</title>\n<path fill=\"none\" stroke=\"#000000\" d=\"M147.0735,-115C166.2949,-115 196.9668,-115 219.4583,-115\"/>\n<polygon fill=\"#000000\" stroke=\"#000000\" points=\"219.7564,-118.5001 229.7564,-115 219.7563,-111.5001 219.7564,-118.5001\"/>\n</g>\n<!-- y -->\n<g id=\"node11\" class=\"node\">\n<title>y</title>\n<ellipse fill=\"none\" stroke=\"#000000\" cx=\"345\" cy=\"-115\" rx=\"18\" ry=\"18\"/>\n<text text-anchor=\"middle\" x=\"345\" y=\"-111.3\" font-family=\"Times,serif\" font-size=\"14.00\" fill=\"#000000\">y</text>\n</g>\n<!-- h2[0]&#45;&gt;y -->\n<g id=\"edge22\" class=\"edge\">\n<title>h2[0]&#45;&gt;y</title>\n<path fill=\"none\" stroke=\"#000000\" d=\"M264.0176,-69.917C279.1819,-78.359 302.1871,-91.166 319.8075,-100.9753\"/>\n<polygon fill=\"#000000\" stroke=\"#000000\" points=\"318.5189,-104.2637 328.9586,-106.0698 321.9237,-98.1476 318.5189,-104.2637\"/>\n</g>\n<!-- h2[1]&#45;&gt;y -->\n<g id=\"edge23\" class=\"edge\">\n<title>h2[1]&#45;&gt;y</title>\n<path fill=\"none\" stroke=\"#000000\" d=\"M264.0176,-160.083C279.1819,-151.641 302.1871,-138.834 319.8075,-129.0247\"/>\n<polygon fill=\"#000000\" stroke=\"#000000\" points=\"321.9237,-131.8524 328.9586,-123.9302 318.5189,-125.7363 321.9237,-131.8524\"/>\n</g>\n<!-- h2[2]&#45;&gt;y -->\n<g id=\"edge24\" class=\"edge\">\n<title>h2[2]&#45;&gt;y</title>\n<path fill=\"none\" stroke=\"#000000\" d=\"M266.245,-115C280.4709,-115 300.479,-115 316.7679,-115\"/>\n<polygon fill=\"#000000\" stroke=\"#000000\" points=\"316.8369,-118.5001 326.8369,-115 316.8368,-111.5001 316.8369,-118.5001\"/>\n</g>\n</g>\n</svg>\n"
          },
          "metadata": {},
          "execution_count": 10
        }
      ]
    },
    {
      "cell_type": "markdown",
      "source": [
        "딥러닝\n",
        "\n",
        "- 많은 은닉층으로 구성된 대규모의 신경망 학습"
      ],
      "metadata": {
        "id": "OmyAgPx-Zycw"
      }
    },
    {
      "cell_type": "markdown",
      "source": [
        "활성화 함수\n",
        "\n",
        "- 각 은닉 유닛의 가중치 합을 계산한 후 그 결과에 비선형 함수를 적용\n",
        "- 선형 모델보다 훨씬 더 복잡한 함수를 학습이 가능\n",
        "- 렐루(ReLU), 하이퍼볼릭 탄젠트(tanh)"
      ],
      "metadata": {
        "id": "5xPvu4ZQYy1h"
      }
    },
    {
      "cell_type": "code",
      "source": [
        "def logreg(z):\n",
        "  return 1 / (1 + np.exp(-z))\n",
        "\n",
        "line = np.linspace(-3, 3, 100)\n",
        "plt.plot(line, np.tanh(line), label=\"tanh\")\n",
        "plt.plot(line, np.maximum(line, 0), linestyle='--', label=\"relu\")\n",
        "plt.plot(line, logreg(line), 'r--', label=\"sigmoid\")\n",
        "\n",
        "plt.legend(loc=\"best\")\n",
        "plt.xlabel(\"x\")\n",
        "plt.ylabel(\"relu(x), tanh(x)\")\n",
        "plt.show()"
      ],
      "metadata": {
        "colab": {
          "base_uri": "https://localhost:8080/",
          "height": 279
        },
        "id": "Sja46MwcYZyR",
        "outputId": "53862e1e-bcb5-4e33-84ff-857f33aa19b3"
      },
      "execution_count": null,
      "outputs": [
        {
          "output_type": "display_data",
          "data": {
            "text/plain": [
              "<Figure size 432x288 with 1 Axes>"
            ],
            "image/png": "[encoded data removed]"
          },
          "metadata": {
            "needs_background": "light"
          }
        }
      ]
    },
    {
      "cell_type": "markdown",
      "source": [
        "사이킷런에서의 신경망"
      ],
      "metadata": {
        "id": "P3Z87TqMaldu"
      }
    },
    {
      "cell_type": "code",
      "source": [
        "from sklearn.neural_network import MLPClassifier\n",
        "from sklearn.datasets import make_moons\n",
        "\n",
        "X, y = make_moons(n_samples=100, noise=0.25, random_state=3)\n",
        "\n",
        "# 옵티마이저(solver) lbfgs, sgd, adam\n",
        "# 활성화 함수(activation) tanh, logistic, relu, identity\n",
        "# 은닉층 노드(유닛) 개수\n",
        "model = MLPClassifier(solver = 'lbfgs',\n",
        "                      activation='tanh',\n",
        "                      hidden_layer_sizes=[10, 10],\n",
        "                      alpha = 0.1,\n",
        "                      random_state=0, max_iter=1000)\n",
        "model.fit(X, y)\n",
        "\n",
        "mglearn.plots.plot_2d_separator(model, X, fill = True, alpha=0.5)\n",
        "mglearn.discrete_scatter(X[:, 0], X[:, 1], y)\n",
        "plt.show()"
      ],
      "metadata": {
        "id": "R2tk8KFWakhe",
        "colab": {
          "base_uri": "https://localhost:8080/",
          "height": 252
        },
        "outputId": "de8a903f-1afb-41f5-9750-7eb2fbd1d55c"
      },
      "execution_count": 25,
      "outputs": [
        {
          "output_type": "display_data",
          "data": {
            "text/plain": [
              "<Figure size 432x288 with 1 Axes>"
            ],
            "image/png": "[encoded data removed]"
          },
          "metadata": {
            "image/png": {
              "width": 352,
              "height": 235
            }
          }
        }
      ]
    },
    {
      "cell_type": "markdown",
      "source": [
        "유방암 데이터셋 적용"
      ],
      "metadata": {
        "id": "k-xoK6Jsd1dR"
      }
    },
    {
      "cell_type": "code",
      "source": [
        "from sklearn.model_selection import train_test_split\n",
        "from sklearn.datasets import load_breast_cancer\n",
        "\n",
        "cancer = load_breast_cancer()\n",
        "X, y = cancer.data, cancer.target\n",
        "\n",
        "X_train, X_test, y_train, y_test = train_test_split(X, y, stratify=y,\n",
        "                                                    random_state=42)\n",
        "\n",
        "model = MLPClassifier(random_state=0, max_iter=1000).fit(X_train, y_train)\n",
        "model.score(X_train, y_train), model.score(X_test, y_test)"
      ],
      "metadata": {
        "id": "rKUVXDNod4q5",
        "colab": {
          "base_uri": "https://localhost:8080/"
        },
        "outputId": "88535944-e826-4a2b-ead0-5b9d6888d27a"
      },
      "execution_count": 26,
      "outputs": [
        {
          "output_type": "execute_result",
          "data": {
            "text/plain": [
              "(0.9248826291079812, 0.9300699300699301)"
            ]
          },
          "metadata": {},
          "execution_count": 26
        }
      ]
    },
    {
      "cell_type": "code",
      "source": [
        "from sklearn.preprocessing import StandardScaler\n",
        "\n",
        "scaler = StandardScaler().fit(X_train)\n",
        "X_train_scaled = scaler.transform(X_train)\n",
        "X_test_scaled = scaler.transform(X_test)\n",
        "\n",
        "model = MLPClassifier(random_state=0, \n",
        "                      alpha =1,\n",
        "                      max_iter=1000\n",
        "                      ).fit(X_train_scaled, y_train)\n",
        "model.score(X_train_scaled, y_train), model.score(X_test_scaled, y_test)"
      ],
      "metadata": {
        "colab": {
          "base_uri": "https://localhost:8080/"
        },
        "id": "z5IvfRjiSr52",
        "outputId": "d9ec3519-8bff-46f2-eeab-7d73ec4dd69b"
      },
      "execution_count": 30,
      "outputs": [
        {
          "output_type": "execute_result",
          "data": {
            "text/plain": [
              "(0.9882629107981221, 0.986013986013986)"
            ]
          },
          "metadata": {},
          "execution_count": 30
        }
      ]
    },
    {
      "cell_type": "code",
      "source": [
        "np.array(model.coefs_).shape"
      ],
      "metadata": {
        "colab": {
          "base_uri": "https://localhost:8080/"
        },
        "id": "GelBqa4FT0iT",
        "outputId": "225246b7-0374-4a3b-c7a9-82d6c8224066"
      },
      "execution_count": 32,
      "outputs": [
        {
          "output_type": "execute_result",
          "data": {
            "text/plain": [
              "(2,)"
            ]
          },
          "metadata": {},
          "execution_count": 32
        }
      ]
    },
    {
      "cell_type": "code",
      "source": [
        "# 표준편차, 분산\n",
        "model.coefs_[0].std(axis=1), model.coefs_[0].var(axis=1) "
      ],
      "metadata": {
        "colab": {
          "base_uri": "https://localhost:8080/"
        },
        "id": "xQCMEqoqT7Ia",
        "outputId": "9a31a138-909f-469e-a893-0c7196f30cae"
      },
      "execution_count": 34,
      "outputs": [
        {
          "output_type": "execute_result",
          "data": {
            "text/plain": [
              "(array([0.02853051, 0.04494939, 0.03594859, 0.03365879, 0.02143914,\n",
              "        0.02334264, 0.03279875, 0.03736919, 0.01976834, 0.01727001,\n",
              "        0.04655445, 0.02245624, 0.03102266, 0.03664325, 0.01848846,\n",
              "        0.03113842, 0.01206431, 0.01770559, 0.02110327, 0.0231428 ,\n",
              "        0.04924508, 0.06193648, 0.04073413, 0.04526902, 0.04273502,\n",
              "        0.01443308, 0.03692801, 0.0491466 , 0.04272862, 0.0159352 ]),\n",
              " array([0.00081399, 0.00202045, 0.0012923 , 0.00113291, 0.00045964,\n",
              "        0.00054488, 0.00107576, 0.00139646, 0.00039079, 0.00029825,\n",
              "        0.00216732, 0.00050428, 0.00096241, 0.00134273, 0.00034182,\n",
              "        0.0009696 , 0.00014555, 0.00031349, 0.00044535, 0.00053559,\n",
              "        0.00242508, 0.00383613, 0.00165927, 0.00204928, 0.00182628,\n",
              "        0.00020831, 0.00136368, 0.00241539, 0.00182574, 0.00025393]))"
            ]
          },
          "metadata": {},
          "execution_count": 34
        }
      ]
    },
    {
      "cell_type": "code",
      "source": [
        "plt.figure( figsize = (20, 5))\n",
        "plt.imshow(model.coefs_[0], interpolation='none')\n",
        "plt.colorbar()\n",
        "\n",
        "plt.yticks(range(30), cancer.feature_names)\n",
        "plt.show()"
      ],
      "metadata": {
        "colab": {
          "base_uri": "https://localhost:8080/",
          "height": 319
        },
        "id": "7sH75WslUZdJ",
        "outputId": "e6d1ff98-cfc9-44f9-b7ff-4bb2ef95cc65"
      },
      "execution_count": 36,
      "outputs": [
        {
          "output_type": "display_data",
          "data": {
            "text/plain": [
              "<Figure size 1440x360 with 2 Axes>"
            ],
            "image/png": "[encoded data removed]"
          },
          "metadata": {
            "image/png": {
              "width": 1124,
              "height": 302
            },
            "needs_background": "light"
          }
        }
      ]
    },
    {
      "cell_type": "markdown",
      "source": [
        "- 은닉 유닛에서 작은 가중치를 가진 특성은 모델에 덜 중요하거나 신경망에게 적절하게 입력되지 않았을 수 있음"
      ],
      "metadata": {
        "id": "DROWByNZnzw7"
      }
    },
    {
      "cell_type": "markdown",
      "metadata": {
        "id": "QW0P5TSJLJXU"
      },
      "source": [
        "# 모델 설계\n",
        "\n",
        "tensorflow keras를 활용"
      ]
    },
    {
      "cell_type": "code",
      "metadata": {
        "id": "lHqPFNAzuOoU",
        "colab": {
          "base_uri": "https://localhost:8080/"
        },
        "outputId": "32eb6079-69ca-4755-8844-b0fd5ba8ac63"
      },
      "source": [
        "import tensorflow as tf\n",
        "tf.keras.__version__, tf.__version__"
      ],
      "execution_count": 38,
      "outputs": [
        {
          "output_type": "execute_result",
          "data": {
            "text/plain": [
              "('2.8.0', '2.8.0')"
            ]
          },
          "metadata": {},
          "execution_count": 38
        }
      ]
    },
    {
      "cell_type": "markdown",
      "metadata": {
        "id": "Tv_8-ok9dbb0"
      },
      "source": [
        "### [텐서플로우(TensorFlow)](https://www.tensorflow.org/?hl=ko)\n",
        "\n",
        "* 강력한 수치 계산용 라이브러리\n",
        "* 텐서플로우 API는 텐서를 순환, 한 연산에서 다른 연산으로 흐름"
      ]
    },
    {
      "cell_type": "markdown",
      "metadata": {
        "id": "f5qidRqff_NW"
      },
      "source": [
        "* 핵심 구조는 넘파이와 비슷하지만 GPU를 지원\n",
        "* 분산 컴퓨팅을 지원\n",
        "* 자동 미분 기능과 RMSProp, Nadam 같은 고성능 옵티마이저를 제공하므로 손실 함수를 쉽게 최소화 가능"
      ]
    },
    {
      "cell_type": "markdown",
      "metadata": {
        "id": "2bfHR6_MfHfJ"
      },
      "source": [
        "* [공식튜토리얼 가이드](https://github.com/tensorflow/docs-l10n)\n",
        "\n",
        "* [텐서플로우 문서 한글 번역](https://tensorflowkorea.gitbooks.io/tensorflow-kr/content/g3doc/api_docs/)"
      ]
    },
    {
      "cell_type": "code",
      "metadata": {
        "id": "3WxNotRrg5i7",
        "colab": {
          "base_uri": "https://localhost:8080/"
        },
        "outputId": "c25e7cdd-4526-430f-a922-c5781976c541"
      },
      "source": [
        "import tensorflow as tf\n",
        "\n",
        "x = np.array([[1,2],[3,4],[5,6]])\n",
        "t = tf.constant(x)\n",
        "# t = tf.constant([[1,2],[3,4],[5,6]])\n",
        "print(t)\n",
        "print(t.shape)\n",
        "\n",
        "# 인덱스 참조\n",
        "print(t[:, 1:])\n",
        "print(t[..., 1, tf.newaxis])\n",
        "\n",
        "# 텐서 연산\n",
        "print(t + 10)\n",
        "print(tf.square(t))\n",
        "print( t @ tf.transpose(t) )  # @연산은 행렬 곱셈을 위해 파이썬 3.5에 추가\n",
        "print( tf.matmul(t, tf.transpose(t)) )\n",
        "\n",
        "# 텐서와 넘파이\n",
        "x = np.array([2,4,6])\n",
        "t = tf.constant(x)\n",
        "print(t.numpy())\n",
        "print( tf.square(x), np.square(t))\n",
        "\n",
        "# 타입 변환\n",
        "t = tf.constant(40., dtype=tf.float64)\n",
        "z = tf.constant(2.0) + tf.cast(t, tf.float32)\n",
        "print(z)"
      ],
      "execution_count": 39,
      "outputs": [
        {
          "output_type": "stream",
          "name": "stdout",
          "text": [
            "tf.Tensor(\n",
            "[[1 2]\n",
            " [3 4]\n",
            " [5 6]], shape=(3, 2), dtype=int64)\n",
            "(3, 2)\n",
            "tf.Tensor(\n",
            "[[2]\n",
            " [4]\n",
            " [6]], shape=(3, 1), dtype=int64)\n",
            "tf.Tensor(\n",
            "[[2]\n",
            " [4]\n",
            " [6]], shape=(3, 1), dtype=int64)\n",
            "tf.Tensor(\n",
            "[[11 12]\n",
            " [13 14]\n",
            " [15 16]], shape=(3, 2), dtype=int64)\n",
            "tf.Tensor(\n",
            "[[ 1  4]\n",
            " [ 9 16]\n",
            " [25 36]], shape=(3, 2), dtype=int64)\n",
            "tf.Tensor(\n",
            "[[ 5 11 17]\n",
            " [11 25 39]\n",
            " [17 39 61]], shape=(3, 3), dtype=int64)\n",
            "tf.Tensor(\n",
            "[[ 5 11 17]\n",
            " [11 25 39]\n",
            " [17 39 61]], shape=(3, 3), dtype=int64)\n",
            "[2 4 6]\n",
            "tf.Tensor([ 4 16 36], shape=(3,), dtype=int64) [ 4 16 36]\n",
            "tf.Tensor(42.0, shape=(), dtype=float32)\n"
          ]
        }
      ]
    },
    {
      "cell_type": "code",
      "metadata": {
        "id": "XGhRu4XXkGm3",
        "colab": {
          "base_uri": "https://localhost:8080/"
        },
        "outputId": "8defd934-8654-4210-a70e-d1d54bca5ebb"
      },
      "source": [
        "# tf.Tensor는 변경이 불가능한 객체\n",
        "# tf.Variable를 변수로 사용\n",
        "v = tf.Variable([[1., 2., 3.],[4.,5.,6.]])\n",
        "print(v)\n",
        "\n",
        "# 값 변경\n",
        "print( v.assign(2 * v) )\n",
        "print( v[0,1].assign(42) )\n",
        "print( v[:,2].assign([0., 1.]) )\n",
        "print( v.scatter_nd_update(indices=[[0,0],[1,2]], updates=[100., 200.]) )"
      ],
      "execution_count": 40,
      "outputs": [
        {
          "output_type": "stream",
          "name": "stdout",
          "text": [
            "<tf.Variable 'Variable:0' shape=(2, 3) dtype=float32, numpy=\n",
            "array([[1., 2., 3.],\n",
            "       [4., 5., 6.]], dtype=float32)>\n",
            "<tf.Variable 'UnreadVariable' shape=(2, 3) dtype=float32, numpy=\n",
            "array([[ 2.,  4.,  6.],\n",
            "       [ 8., 10., 12.]], dtype=float32)>\n",
            "<tf.Variable 'UnreadVariable' shape=(2, 3) dtype=float32, numpy=\n",
            "array([[ 2., 42.,  6.],\n",
            "       [ 8., 10., 12.]], dtype=float32)>\n",
            "<tf.Variable 'UnreadVariable' shape=(2, 3) dtype=float32, numpy=\n",
            "array([[ 2., 42.,  0.],\n",
            "       [ 8., 10.,  1.]], dtype=float32)>\n",
            "<tf.Variable 'UnreadVariable' shape=(2, 3) dtype=float32, numpy=\n",
            "array([[100.,  42.,   0.],\n",
            "       [  8.,  10., 200.]], dtype=float32)>\n"
          ]
        }
      ]
    },
    {
      "cell_type": "code",
      "metadata": {
        "id": "lAb2zieX7Nco"
      },
      "source": [
        "import numpy as np\n",
        "import pandas as pd\n",
        "import matplotlib.pyplot as plt\n",
        "\n",
        "import tensorflow as tf\n",
        "from tensorflow import keras\n",
        "from keras import Sequential\n",
        "from keras.layers import Dense, Dropout, Flatten\n",
        "\n",
        "from sklearn.model_selection import train_test_split, StratifiedKFold\n",
        "from sklearn.preprocessing import LabelEncoder"
      ],
      "execution_count": 41,
      "outputs": []
    },
    {
      "cell_type": "markdown",
      "metadata": {
        "id": "u6TegFc19IzL"
      },
      "source": [
        "### 딥러닝 연습 01 - 분류\n",
        "\n",
        "* 폐암 수술환자의 생존율 예측\n",
        "\n",
        "Data set의 형태 (ThoraricSurgery.csv)\n",
        "* 폴란드 브로츠와프 의과대학에서 2013년 공개한 폐암 수술 환자의 수술 전 데이터와 수술 후 생존 결과를 기록한 의료 기록 데이터\n",
        "* 18개 항목으로 구성된 470개의 데이터로 구성되고 각 항목은 ,로 구분\n",
        "* 종양 유형, 폐활량, 호흡곤란여부, 고통 정도, 기침, 흡연, 천식여부 등 17가지 환자 상태\n",
        "* 18번째 항목은 수술 후 생존 결과 (1 : 생존, 0 : 사망)\n",
        "\n",
        "\n",
        "* https://archive.ics.uci.edu/ml/datasets/Thoracic+Surgery+Data\n"
      ]
    },
    {
      "cell_type": "code",
      "metadata": {
        "id": "1lzRV68UYjhi",
        "colab": {
          "base_uri": "https://localhost:8080/"
        },
        "outputId": "ad0d1a95-992a-4cd8-cf38-e9a1c93ce667"
      },
      "source": [
        "# 딥러닝에 필요한 케라스 함수\n",
        "from keras import Sequential # 한방향\n",
        "from keras.layers import Dense # 밀집 신경망\n",
        "\n",
        "# 추가 라이브러리\n",
        "import numpy as np\n",
        "import tensorflow as tf\n",
        "from sklearn.model_selection import train_test_split\n",
        "\n",
        "# 실행할 때마다 같은 결과를 출력하기 위해 설정\n",
        "seed = 3\n",
        "np.random.seed( seed )\n",
        "tf.random.set_seed( seed )\n",
        "\n",
        "# 수술 환자 데이터 로드\n",
        "data = np.loadtxt(drive_path + 'ThoraricSurgery.csv', delimiter=',') # delimiter 데이터 구분자\n",
        "data\n",
        "\n",
        "# 환자의 기록과 수술 결과를 X와 y로 구분하여 저장\n",
        "# 신경망에 학습시킬 때 사용하는 특성은 총 몇개일까? 모양\n",
        "X = data[:, :-1]\n",
        "y = data[:, -1]\n",
        "X_train, X_test, y_train, y_test = train_test_split(X, y, random_state=0)\n",
        "\n",
        "# 딥러닝 구조를 결정 (모델을 설정하고 실행하는 부분)\n",
        "model = Sequential()\n",
        "model.add( Dense(30, input_dim = 17, activation= 'relu', name = 'Hidden_1') )\n",
        "model.add( Dense(1, activation= 'sigmoid', name = 'Output') )\n",
        "\n",
        "# 딥러닝을 실행\n",
        "model.compile(loss = 'binary_crossentropy',\n",
        "              optimizer = 'adam',\n",
        "              metrics = ['accuracy'] )\n",
        "model.fit(X_train, y_train, epochs =100, batch_size=10, verbose=0) # verbose: 과정 출력\n",
        "\n",
        "# 정확도\n",
        "print(f\"정확도 : {model.evaluate(X_test, y_test)[1]:.4}\")\n",
        "model.evaluate(X_test, y_test)\n"
      ],
      "execution_count": 49,
      "outputs": [
        {
          "output_type": "stream",
          "name": "stdout",
          "text": [
            "4/4 [==============================] - 0s 4ms/step - loss: 0.3908 - accuracy: 0.8644\n",
            "정확도 : 0.8644\n",
            "4/4 [==============================] - 0s 4ms/step - loss: 0.3908 - accuracy: 0.8644\n"
          ]
        },
        {
          "output_type": "execute_result",
          "data": {
            "text/plain": [
              "[0.39083048701286316, 0.8644067645072937]"
            ]
          },
          "metadata": {},
          "execution_count": 49
        }
      ]
    },
    {
      "cell_type": "markdown",
      "source": [
        "딥러닝 구조를 결정 (모델을 설정하고 실행하는 부분)\n",
        "\n",
        "- 층(Layer) : 핵심 구성요소로 일종의 데이터 처리 필터 (어떤 데이터가 들어가면 더 유용한 형태로 출력될까)\n",
        "-  주어진 문제에 더 의미 있는 표현을 입력된 데이터로부터 추출"
      ],
      "metadata": {
        "id": "8hVNY9kNvHBN"
      }
    },
    {
      "cell_type": "markdown",
      "metadata": {
        "id": "uQKUtRSXwVsp"
      },
      "source": [
        "딥러닝을 실행\n",
        "\n",
        "> compile() : 학습 프로세스를 설정하는 기능\n",
        " \n",
        "> fit() : 학습 데이터로 학습하는 기능\n",
        " \n",
        "complie(손실함수 종류, 최적화(오차감소) 방법, 평가 방법)\n",
        " \n",
        "* fit(입력 데이터, 입력 라벨, 학습 반복 횟수(30개 층에 대해 한번씩 계산), 한번에 처리할 데이 터 수)\n",
        "\n",
        "* 손실함수(loss function) : 오차 계산 방법 (MSE (평균제곱오차), CEE (교차 엔트로피 오차) 등)\n",
        "\n",
        "* 최적화 방법(Optimizer) : 정답을 찾아가는 방법 (SGD (확률적 경사하강법), 모멘텀, AdaGrad, Adam 등)\n",
        "\n",
        "* 훈련과 테스트 과정을 모니터링할 지표 : 여기에서는 정확도만 고려"
      ]
    },
    {
      "cell_type": "markdown",
      "metadata": {
        "id": "sLAPX_Zudoft"
      },
      "source": [
        "---\n",
        "#### 모델 저장과 재사용"
      ]
    },
    {
      "cell_type": "code",
      "metadata": {
        "id": "QHEK5CyTZPdX"
      },
      "source": [
        "# Survival rate of lung cancer surgery patients Model\n",
        "model.save(drive_path + 'Survival_rate_cancer_model.h5')"
      ],
      "execution_count": 50,
      "outputs": []
    },
    {
      "cell_type": "code",
      "metadata": {
        "id": "-VA2vRpHdUVr"
      },
      "source": [
        "# 테스트를 위해 메모리 내의 모델을 삭제\n",
        "del model"
      ],
      "execution_count": 51,
      "outputs": []
    },
    {
      "cell_type": "code",
      "metadata": {
        "id": "mSKiQ7mObMAj",
        "colab": {
          "base_uri": "https://localhost:8080/"
        },
        "outputId": "c4e1792e-59ef-41f9-88f0-93d55729a6bc"
      },
      "source": [
        "# load_model\n",
        "from keras.models import load_model\n",
        "model = load_model(drive_path + 'Survival_rate_cancer_model.h5')\n",
        "model.evaluate(X, y)[1]"
      ],
      "execution_count": 52,
      "outputs": [
        {
          "output_type": "stream",
          "name": "stdout",
          "text": [
            "15/15 [==============================] - 0s 3ms/step - loss: 0.3854 - accuracy: 0.8532\n"
          ]
        },
        {
          "output_type": "execute_result",
          "data": {
            "text/plain": [
              "0.8531914949417114"
            ]
          },
          "metadata": {},
          "execution_count": 52
        }
      ]
    },
    {
      "cell_type": "markdown",
      "metadata": {
        "id": "W2_E9GiBDYAv"
      },
      "source": [
        "---\n",
        "#### 모델 설명과 정리"
      ]
    },
    {
      "cell_type": "markdown",
      "metadata": {
        "id": "It-awbpY4CwL"
      },
      "source": [
        "코드 구성\n",
        "\n",
        "1. 데이터 분석과 입력 : 데이터를 불러와서 사용할 수 있게 만들어 주는 부분 <br>(라이브러리 로드, 데이터 셋 로드, 데이터 셋을 변수에 저장)\n",
        "\n",
        "2. 딥러닝 실행(학습) : 실제 딥러닝을 실행하는 부분 <br> Squential(), Dense(), compile(), fit()\n",
        "\n",
        "3. 결과 출력(예측) : 예측 결과를 출력하는 부분 <br>evaluate(), predict()"
      ]
    },
    {
      "cell_type": "markdown",
      "metadata": {
        "id": "xPLdtgyw4HCJ"
      },
      "source": [
        " 실행 순서\n",
        "\n",
        "1. 컴파일 : compile()\n",
        "2. 훈련(학습) : fit()\n",
        "3. 평가 : evaluate()\n",
        "4. 예측 : predict()\n"
      ]
    },
    {
      "cell_type": "markdown",
      "metadata": {
        "id": "l_tgav1-6nzT"
      },
      "source": [
        "모델 기본 구조\n",
        "\n",
        "1. 입력층\n",
        "2. 은닉층\n",
        "3. 출력층"
      ]
    },
    {
      "cell_type": "code",
      "metadata": {
        "id": "V6SGFpj07Vyg",
        "colab": {
          "base_uri": "https://localhost:8080/",
          "height": 272
        },
        "outputId": "ebf13bf5-f8cd-4784-a661-5605fef4a46a"
      },
      "source": [
        "keras.utils.plot_model(model)"
      ],
      "execution_count": 53,
      "outputs": [
        {
          "output_type": "execute_result",
          "data": {
            "text/plain": [
              "<IPython.core.display.Image object>"
            ],
            "image/png": "[encoded data removed]"
          },
          "metadata": {},
          "execution_count": 53
        }
      ]
    },
    {
      "cell_type": "code",
      "metadata": {
        "id": "8mYYg7N_6q3J",
        "colab": {
          "base_uri": "https://localhost:8080/"
        },
        "outputId": "06709ff5-2a93-47b0-ac66-08cd51d6fb44"
      },
      "source": [
        "model.summary()"
      ],
      "execution_count": 54,
      "outputs": [
        {
          "output_type": "stream",
          "name": "stdout",
          "text": [
            "Model: \"sequential_6\"\n",
            "_________________________________________________________________\n",
            " Layer (type)                Output Shape              Param #   \n",
            "=================================================================\n",
            " Hidden_1 (Dense)            (None, 30)                540       \n",
            "                                                                 \n",
            " Output (Dense)              (None, 1)                 31        \n",
            "                                                                 \n",
            "=================================================================\n",
            "Total params: 571\n",
            "Trainable params: 571\n",
            "Non-trainable params: 0\n",
            "_________________________________________________________________\n"
          ]
        }
      ]
    },
    {
      "cell_type": "markdown",
      "metadata": {
        "id": "v98asM_V8Sq1"
      },
      "source": [
        "* 모델 코드\n",
        "\n",
        " ```\n",
        "# 딥러닝 구조를 결정 (모델을 설정하고 실행하는 부분)\n",
        "model = Sequential()\n",
        "model.add(Dense(30, input_dim=17, activation='relu', name='Hidden-1'))\n",
        "model.add(Dense(1, activation='sigmoid', name='Ourput'))\n",
        "```\n",
        "\n",
        " - Sequential() : 신경망을 한층 한층 쌓는 기능 (add() 함수 사용)\n",
        " - Dense() : 신경망 각층의 특성을 설정하는 기능\n",
        " - Dense(출력 뉴런 수, 입력뉴런 수, 활성화 함수 종류)\n",
        " - Dense(출력 뉴런 수, 활성화 함수 종류)\n",
        " - 활성화 함수 : 출력으로 나오게 하는 기준값 <br>\n",
        "(sigmoid, tanh, relu, softmax 등)\n"
      ]
    },
    {
      "cell_type": "markdown",
      "metadata": {
        "id": "lqXJsbPn8jFu"
      },
      "source": [
        " * ![image.png](data:image/png;base64,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)"
      ]
    },
    {
      "cell_type": "markdown",
      "metadata": {
        "id": "K75-jUzw9Zi6"
      },
      "source": [
        "compile()  메소드의 주요 파라미터\n",
        "\n",
        "|compile()|손실함수 | 최적화 도구 |평가도구|\n",
        "|-|-|-|-|\n",
        "|| (loss) |(optimizer)| (metrics)|\n",
        "\n",
        " * 손실함수의 종류\n",
        "\n",
        "|용도|손실함수|\n",
        "|---|---|\n",
        "|회귀|mean_square_error 또는 mse|\n",
        "|이진 분류|binary_crossentropy |\n",
        "|다중 분류|categorical_crossentrop|\n",
        "\n",
        "* 최적화 도구의 종류\n",
        "\n",
        " - rmsprop\n",
        " - adam\n",
        "\n",
        "* 평가도구\n",
        "\n",
        " - 오차율 : ['loss']\n",
        " - 정확도 : ['accuracy']\n"
      ]
    },
    {
      "cell_type": "markdown",
      "metadata": {
        "id": "_e5oCuHa-Efq"
      },
      "source": [
        "fit() 메소드의 주요 파라미터\n",
        "\n",
        "|훈련용 특징데이터|훈련용 라벨데이터| epochs| batch_size|\n",
        "|---|---|---|---|\n",
        "\n",
        "* epochs : 학습 반복 회수 (문제를 몇 번 풀어 볼 것인지 의미)\n",
        "\n",
        "* batch_size : 한 번 반복할 때 사용할 데이터의 수 (몇 문제를 풀고 해답을 확인하는 지를 의미)"
      ]
    },
    {
      "cell_type": "markdown",
      "metadata": {
        "id": "sMdtpxmh-WkX"
      },
      "source": [
        "* 배치사이즈가 10이면 열 문제씩 풀어보고 해답 맞춰보는 것\n",
        "* 100문항을 10문제씩 나누어서 10번 해답을 맞추므로 가중치 갱신은 10번 일어남\n",
        "\n",
        "* 반복 회수 (epoch) 마다 100문제씩 (batch) 푼 경우 틀린 문제의 수\n"
      ]
    },
    {
      "cell_type": "markdown",
      "metadata": {
        "id": "C4xt7Q-I-heo"
      },
      "source": [
        " * ![image.png](data:image/png;base64,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)"
      ]
    },
    {
      "cell_type": "markdown",
      "metadata": {
        "id": "kGJ7sSVx_rUi"
      },
      "source": [
        "* 모델 실행 코드\n",
        "\n",
        " ```\n",
        "# 딥러닝을 실행\n",
        "model.compile(loss='binary_crossentropy', optimizer='adam', metrics=['accuracy'])\n",
        "model.fit(X_train, y_train, epochs=100, batch_size=10, verbose=0)\n",
        "```\n",
        "\n",
        " - compile() : 학습 프로세스를 설정하는 기능\n",
        " - fit() : 학습 데이터로 학습하는 기능\n",
        " - complie(손실함수 종류, 최적화(오차감소) 방법, 평가 방법) \n",
        " - fit(입력 데이터, 입력 라벨, 학습 반복 횟수(30개 층에 대해 한번씩 계산), 한번에 처리할 데이터 수)\n",
        "<br><br>\n",
        " - 손실함수 : 오차 계산 방법 (MSE (최소자승오차), CEE (교차 엔트로피 오차) 등)\n",
        " - 최적화 방법 : 정답을 찾아가는 방법 (SGD (확률적 경사하강법), 모멘텀, AdaGrad, Adam 등)\n",
        "\n"
      ]
    },
    {
      "cell_type": "markdown",
      "metadata": {
        "id": "-Ll7Zti9BhBJ"
      },
      "source": [
        " * ![image.png](data:image/png;base64,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)"
      ]
    },
    {
      "cell_type": "markdown",
      "metadata": {
        "id": "ofbcF4stB3lD"
      },
      "source": [
        "evlauate( 테스트용 특징데이터, 테스트용 라벨데이터 )\n",
        "\n",
        "predict( 예측할 특징데이터 )"
      ]
    },
    {
      "cell_type": "markdown",
      "metadata": {
        "id": "ABrj-TqWCYKs"
      },
      "source": [
        "* 모델 평가 코드\n",
        "```\n",
        "print(\"Accuracy: %.4f\" % model.evaluate(X_test, y_test)[1])\n",
        "```\n",
        "\n",
        " - evaluate() : 출력값과 metrics로 설정한 결과값을 반환\n",
        " - metrics로 설정한 결과 값을 반환\n"
      ]
    },
    {
      "cell_type": "markdown",
      "metadata": {
        "id": "nGENKt1fB9Z6"
      },
      "source": [
        "신경망 층 예시\n",
        "```\n",
        "Conv1D() Conv2D()\n",
        "MaxPool2D() MaxPool1D()\n",
        "GlobalMaxPooling1D() Flatten()\n",
        "Dropout() Embedding()\n",
        "SimpleRNN() LSTM()\n",
        "GRU()\n",
        "```"
      ]
    },
    {
      "cell_type": "markdown",
      "metadata": {
        "id": "slwqbC3WEyHS"
      },
      "source": [
        "![image.png](data:image/png;base64,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)"
      ]
    },
    {
      "cell_type": "markdown",
      "source": [
        "---"
      ],
      "metadata": {
        "id": "q5c7bxt-zo6P"
      }
    },
    {
      "cell_type": "markdown",
      "metadata": {
        "id": "hyMyEnukmG4T"
      },
      "source": [
        "### 텐서(tensor)\n",
        "\n",
        "* 신경망을 위한 데이터 표현\n",
        "\n",
        "* 텐서(tensor)를 기본 구조로 사용\n",
        "\n",
        "* 텐서(tensor) : 데이터를 위한 컨테이너 (숫자를 위한 컨테이너)\n",
        " - 임의의 차원 개수를 가지는 행렬의 일반화된 모습 (다차원 배열)\n",
        " - 차원(dimension)을 축(axis)이라고 부름\n",
        "\n",
        "\n",
        "텐서의 실제 사례\n",
        "* (samples, features) : 벡터 배열 데이터\n",
        "* (samples, timesteps, features) : 시계열 데이터 또는 시퀀스 데이터\n",
        "* (samples, height, width, channels) : 이미지 데이터\n",
        "* (samples, frames, height, width, channels) : 동영상 데이터\n",
        "\n",
        "\n",
        "핵심 속성 3가지\n",
        "* 축의 개수(rank)\n",
        "* 크기(shape) : 텐서의 각 축을 따라 얼마나 많은 차원이 있는지를 나타내는 파이썬의 튜플\n",
        "* 데이터 타입"
      ]
    },
    {
      "cell_type": "markdown",
      "metadata": {
        "id": "RSTDx5vQbG6Z"
      },
      "source": [
        "#### 0D 텐서(0차원 텐서, 스칼라 텐서)\n",
        "\n",
        "* 0개의 축\n",
        "* 하나의 숫자 값\n",
        "* 넘파이의 float32, float64 타입의 숫자 배열\n",
        "* 랭크(rank) : 텐서의 축 개수"
      ]
    },
    {
      "cell_type": "code",
      "metadata": {
        "id": "p3MsB8thbt9p",
        "colab": {
          "base_uri": "https://localhost:8080/"
        },
        "outputId": "c389fdcb-13fd-4639-d45a-dbf1b56d9065"
      },
      "source": [
        "import numpy as np\n",
        "x = np.array(12)\n",
        "x, x.ndim, x.shape, x.dtype"
      ],
      "execution_count": 55,
      "outputs": [
        {
          "output_type": "execute_result",
          "data": {
            "text/plain": [
              "(array(12), 0, (), dtype('int64'))"
            ]
          },
          "metadata": {},
          "execution_count": 55
        }
      ]
    },
    {
      "cell_type": "markdown",
      "metadata": {
        "id": "K2JzSRJ8b9cT"
      },
      "source": [
        "#### 1D 텐서(벡터)\n",
        "\n",
        "* 1개의 축\n",
        "* 숫자의 배열\n",
        "* 벡터의 차원과 텐서의 축 구분을 주의"
      ]
    },
    {
      "cell_type": "code",
      "metadata": {
        "id": "Z8-zUnE0clW3",
        "colab": {
          "base_uri": "https://localhost:8080/"
        },
        "outputId": "043a3b8d-128b-412f-cd32-0b703b1ca8ed"
      },
      "source": [
        "x = np.array([1,2,3,4,5])\n",
        "x, x.ndim, x.shape"
      ],
      "execution_count": 56,
      "outputs": [
        {
          "output_type": "execute_result",
          "data": {
            "text/plain": [
              "(array([1, 2, 3, 4, 5]), 1, (5,))"
            ]
          },
          "metadata": {},
          "execution_count": 56
        }
      ]
    },
    {
      "cell_type": "markdown",
      "metadata": {
        "id": "YLzUB_JecsW1"
      },
      "source": [
        "* 5개의 원소를 가지므로 5차원 벡터라고 부름\n",
        "* 5D 벡터는 하나의 축을 따라 5개의 차원을 가진 것\n",
        "* 5D 텐서는 5개의 축을 가진 것 (각 축을 따라 여러 개의 차원을 가진 벡터가 놓일 수 있음)\n",
        "* 차원수(dimensionality)는 특정 축을 따라 놓인 원소의 개수이거나 텐서의 축 개수를 의미하므로 혼동하기 쉬움\n",
        "* 축의 경우 랭크 5인 텐서라고 말하는 것이 정확"
      ]
    },
    {
      "cell_type": "markdown",
      "metadata": {
        "id": "R3x9c3qpdU5o"
      },
      "source": [
        "#### 2D 텐서(행렬)\n",
        "\n",
        "* 2개의 축\n",
        "* 벡터의 배열\n",
        "* 보통 행(row)과 열(column)으로 지칭 <br>\n",
        "  또는 행(sample) 열(features)\n",
        "* 행: 첫 번째 축에 놓여 있는 원소, 샘플 축\n",
        "* 열: 두 번째 축에 놓여 있는 원소, 특성 축\n",
        "\n",
        "* 예)\n",
        " > 사람의 나이, 우편번호, 소득으로 구성된 10만명의 인구 통계 데이터 (100000, 3)\n",
        "\n",
        " > 공통 단어 2만 개로 만든 사전에서 각 단어가 등장한 횟수로 표현된 텍스트 500개의 문서 데이터셋 (500, 20000) "
      ]
    },
    {
      "cell_type": "code",
      "metadata": {
        "id": "0BZ0nRsKdtC6",
        "colab": {
          "base_uri": "https://localhost:8080/"
        },
        "outputId": "6450961f-905d-4db4-8582-8c3890bc41f7"
      },
      "source": [
        "x = np.array([[1,2,3,4,5],\n",
        "              [6,7,8,9,10],\n",
        "              [11,12,13,14,15]])\n",
        "x, x.ndim, x.shape"
      ],
      "execution_count": 57,
      "outputs": [
        {
          "output_type": "execute_result",
          "data": {
            "text/plain": [
              "(array([[ 1,  2,  3,  4,  5],\n",
              "        [ 6,  7,  8,  9, 10],\n",
              "        [11, 12, 13, 14, 15]]), 2, (3, 5))"
            ]
          },
          "metadata": {},
          "execution_count": 57
        }
      ]
    },
    {
      "cell_type": "markdown",
      "metadata": {
        "id": "RmjFEDRBfOAV"
      },
      "source": [
        "#### 3D 텐서(직육면체, 시계열 또는 시퀀스 데이터)\n",
        "\n",
        "* 3개의 축\n",
        "* 데이터에 시간(또는 연속된 순서)이 중요할 때는 시간 축을 포함하여 3D 텐서로 저장\n",
        "* 각 샘플은 벡터 배열(2D 텐서)의 시퀀스로 배치\n",
        "* 관례 적으로 시간 축은 항상 두 번째 축(인덱스가 1인 축)\n",
        "\n",
        "* 예)\n",
        " > 주식 가격 데이터셋 : 1분마다 현재 주식 가격, 지난 1분 동안 최고 가격, 최소 가격을 하루 거래 시간 390분으로 저장된 250일치의 데이터 (250, 390, 3)\n",
        "\n",
        " > 트윗 데이터셋 : 각 트윗은 128개의 알파벳으로 구성된 280개 문자 시퀀스를 100만개 트윗한 데이터 (1000000, 280, 128)"
      ]
    },
    {
      "cell_type": "code",
      "metadata": {
        "id": "Pbg9lodhg0OQ"
      },
      "source": [
        "from tensorflow import keras\n",
        "import matplotlib.pyplot as plt\n",
        "\n",
        "(X_train, y_train), (X_test, y_test) = keras.datasets.mnist.load_data()\n",
        "digit = X_train[4]\n",
        "\n",
        "plt.imshow(digit, cmap=plt.cm.binary)\n",
        "plt.show()\n",
        "\n",
        "# 28 x 28 크기의 8비트 정수 행렬 6만 개가 있는 3D 텐서\n",
        "digit.ndim, X_train.ndim, X_train.shape, X_train.dtype"
      ],
      "execution_count": null,
      "outputs": []
    },
    {
      "cell_type": "code",
      "metadata": {
        "id": "xZB_YDHXij_t"
      },
      "source": [
        "X_train[10:100].shape\n",
        "X_train[10:100, :, :].shape\n",
        "X_train[10:100, :28, :28].shape"
      ],
      "execution_count": null,
      "outputs": []
    },
    {
      "cell_type": "code",
      "metadata": {
        "id": "hv7FsJYnls_k"
      },
      "source": [
        "# 이미지의 오른쪽 아래 14 x 14픽셀을 선택\n",
        "X_train[:, :14, :14].shape\n",
        "\n",
        "# 정중앙에 위치한 14 x 14픽셀을 이미지에서 잘라냄\n",
        "X_train[:, :-7, :-7].shape"
      ],
      "execution_count": null,
      "outputs": []
    },
    {
      "cell_type": "markdown",
      "metadata": {
        "id": "oOcM-D6tqNKq"
      },
      "source": [
        "#### 4D 텐서(이미지 데이터)\n",
        "\n",
        "* 4개의 축\n",
        "* 높이, 너비, 컬러 채널의 3차원으로 이루어진 이미지에 대한 샘플 데이터셋\n",
        "\n",
        "* 예)\n",
        " > 256 x 256 크기의 흑백 이미지에 대한 128개의 데이터셋 (128, 256, 256, 1)\n",
        "\n",
        " * 텐서플로우는 채널 마지막 방식을 사용 (samples, height, width, color_depth)\n",
        " * 시아노는 채널 우선 방식을 사용 (samples, color_depth, height, width)\n",
        " * 케라스는 모두 지원 (케라스 설정 파일 keras.json의 image_data_format 옵션을 수정 channels_last or channels_first)"
      ]
    },
    {
      "cell_type": "markdown",
      "metadata": {
        "id": "mpEAAuRxm42i"
      },
      "source": [
        "#### 5D 텐서(비디오 데이터)\n",
        "\n",
        "* 5개의 축\n",
        "* 하나의 비디오는 프레임의 연속이고 각 프레임은 하나의 컬러 이미지 (samples, frames, height, width, color_depth)\n",
        "\n",
        "* 예)\n",
        " > 60초짜리 144 x 256 유튜브 비디오 클립을 초당 4프레임으로 샘플링한 240 프레임의 비디오 클립 4개 (4, 240, 144, 256, 3)\n",
        "\n",
        "  * 총 106,168,320개의 값\n",
        "  * float32의 경우 각 값이 32비트로 저장되므로 텐서 크기는 405MB"
      ]
    },
    {
      "cell_type": "markdown",
      "metadata": {
        "id": "L5BzZ5jQDfim"
      },
      "source": [
        "### 딥러닝 연습 02 - 과적합 피하기\n",
        "\n",
        "* 음파탐지기로 광석과 일반 돌을 측정한 데이터\n",
        "sonar 데이터셋 구성\n",
        " - 208개의 데이터\n",
        " - 60개의 정보 (컬럼 수)와 1개의 클래스로 구성\n"
      ]
    },
    {
      "cell_type": "code",
      "metadata": {
        "id": "sIGLbbZwFPQa"
      },
      "source": [
        "seed = 3\n",
        "np.random.seed(seed)\n",
        "tf.random.set_seed(seed)\n",
        "\n",
        "# 데이터 로드\n"
      ],
      "execution_count": null,
      "outputs": []
    },
    {
      "cell_type": "code",
      "metadata": {
        "id": "mb3mwhY-G4HK"
      },
      "source": [
        "# 전처리\n"
      ],
      "execution_count": null,
      "outputs": []
    },
    {
      "cell_type": "code",
      "metadata": {
        "id": "kmWhGYzUHmO5"
      },
      "source": [
        "# 모델 생성\n",
        "\n",
        "\n",
        "# 모델 컴파일\n",
        "\n",
        "\n",
        "# 모델 실행\n"
      ],
      "execution_count": null,
      "outputs": []
    },
    {
      "cell_type": "code",
      "metadata": {
        "id": "My2ltn7UHmMH"
      },
      "source": [
        "# 결과 출력\n"
      ],
      "execution_count": null,
      "outputs": []
    },
    {
      "cell_type": "markdown",
      "metadata": {
        "id": "vEavEBW6I9tY"
      },
      "source": [
        "* 과적합은 층이 너무 많거나 변수가 복잡해서 발생하기도 하고\n",
        "* 테스트셋과 훈련셋이 중복될 때 생기기도 함"
      ]
    },
    {
      "cell_type": "markdown",
      "metadata": {
        "id": "7m1Xv26XJz3L"
      },
      "source": [
        "#### 훈련셋과 평가셋 구분"
      ]
    },
    {
      "cell_type": "code",
      "metadata": {
        "id": "iUjUUU_WHmJ6"
      },
      "source": [
        "X_train, X_test, y_train, y_test = train_test_split(X, y, random_state=0)"
      ],
      "execution_count": null,
      "outputs": []
    },
    {
      "cell_type": "code",
      "metadata": {
        "id": "SmvVkbHnHmGo"
      },
      "source": [
        "# 모델 생성\n",
        "\n",
        "\n",
        "# 모델 컴파일\n",
        "\n",
        "\n",
        "# 모델 실행\n"
      ],
      "execution_count": null,
      "outputs": []
    },
    {
      "cell_type": "code",
      "metadata": {
        "id": "_zk7htoPHmDr"
      },
      "source": [
        "# 결과 출력\n"
      ],
      "execution_count": null,
      "outputs": []
    },
    {
      "cell_type": "markdown",
      "metadata": {
        "id": "0DJEw65oK7cp"
      },
      "source": [
        "#### K겹 교차 검증"
      ]
    },
    {
      "cell_type": "code",
      "metadata": {
        "id": "V3n_OpQ8K73I"
      },
      "source": [
        "# 10개의 파일로 쪼갬\n",
        "# StratifiedKFold\n"
      ],
      "execution_count": null,
      "outputs": []
    },
    {
      "cell_type": "code",
      "metadata": {
        "id": "E9YnbqKpK8ys"
      },
      "source": [
        "# 빈 정확도 배열 준비\n"
      ],
      "execution_count": null,
      "outputs": []
    },
    {
      "cell_type": "code",
      "metadata": {
        "id": "dEXPPPzQXVp1"
      },
      "source": [
        "# X, y"
      ],
      "execution_count": null,
      "outputs": []
    },
    {
      "cell_type": "code",
      "metadata": {
        "id": "Y8pd0c9oK8sL"
      },
      "source": [
        "# 모델 반복 실행\n",
        "#   모델 생성\n",
        "#   모델 컴파일\n",
        "#   모델 실행\n"
      ],
      "execution_count": null,
      "outputs": []
    },
    {
      "cell_type": "code",
      "metadata": {
        "id": "f_q0zN3rK8Y4"
      },
      "source": [
        "# 결과 출력\n"
      ],
      "execution_count": null,
      "outputs": []
    },
    {
      "cell_type": "markdown",
      "metadata": {
        "id": "I23lMLWaHQtP"
      },
      "source": [
        "### 딥러닝 연습 03 - 베스트 모델 만들기\n",
        "\n",
        "* 포트투칼의 비뉴 베르드 지방에서 만들어진 와인을 측정한 데이터\n",
        "* 데이터셋 구성\n",
        " - 1,599개의 레드와인 데이터, 4,898개의 화이트와인 데이터 (총 6,497개 데이터)\n",
        " - 12개의 정보와 1개의 클래스로 구성\n",
        "\n"
      ]
    },
    {
      "cell_type": "code",
      "metadata": {
        "id": "mZcZmn4oaQBp"
      },
      "source": [
        "seed = 3\n",
        "np.random.seed(seed)\n",
        "tf.random.set_seed(seed)\n",
        "\n",
        "# 데이터 로드\n"
      ],
      "execution_count": null,
      "outputs": []
    },
    {
      "cell_type": "code",
      "metadata": {
        "id": "Y3vouwNmaP-4"
      },
      "source": [
        "# 원본 데이터의 50%만 사용\n"
      ],
      "execution_count": null,
      "outputs": []
    },
    {
      "cell_type": "code",
      "metadata": {
        "id": "5QFO31PzaP5G"
      },
      "source": [
        "# X, y"
      ],
      "execution_count": null,
      "outputs": []
    },
    {
      "cell_type": "code",
      "metadata": {
        "id": "1Cs7aQusaP1z"
      },
      "source": [
        "# 이항 분류 문제 binary_crossentropy, adam\n",
        "\n",
        "# 모델 생성\n",
        "\n",
        "\n",
        "# 모델 컴파일\n",
        "\n",
        "\n",
        "# 모델 실행\n"
      ],
      "execution_count": null,
      "outputs": []
    },
    {
      "cell_type": "code",
      "metadata": {
        "id": "y1MxHCjgbIbE"
      },
      "source": [
        "# 결과 출력\n"
      ],
      "execution_count": null,
      "outputs": []
    },
    {
      "cell_type": "markdown",
      "metadata": {
        "id": "SiVYvFW-b_d5"
      },
      "source": [
        "#### 모델 업데이트 저장\n",
        "\n",
        "* Keras 콜백 함수 ModelCheckpoint() 이용"
      ]
    },
    {
      "cell_type": "code",
      "metadata": {
        "id": "VOiOvBYBbIXx"
      },
      "source": [
        "from keras.callbacks import ModelCheckpoint\n",
        "import os\n",
        "\n",
        "# 모델 생성\n",
        "\n",
        "\n",
        "# 모델 컴파일\n",
        "\n",
        "\n",
        "# 모델 저장 폴더 설정\n",
        "\n",
        "\n",
        "# 모델 저장 조건 설정\n",
        "# 에포크와 오차를 파일 이름으로 저장\n",
        "# monitor 옵션 : 테스트오차(val_loss), 테스트셋 정확도(val_acc), \n",
        "#                학습셋 오차(loss), 학습 정확도(acc)\n",
        "# save_best_only=True : 이전 모델 보다 나아졌을 때만 저장\n",
        "\n",
        "# 모델 실행 및 저장\n"
      ],
      "execution_count": null,
      "outputs": []
    },
    {
      "cell_type": "markdown",
      "metadata": {
        "id": "w4cU_OXnenE-"
      },
      "source": [
        "#### 그래프 확인"
      ]
    },
    {
      "cell_type": "code",
      "metadata": {
        "id": "XGSL4F6aeqIe"
      },
      "source": [
        "# 모델 실행 및 저장\n"
      ],
      "execution_count": null,
      "outputs": []
    },
    {
      "cell_type": "code",
      "metadata": {
        "id": "NdUosCSIfHW-"
      },
      "source": [
        "# 학습 곡선 시각화\n",
        "# 에포크마다 측정한 평균적인 훈련 손실과 정확도 및 \n",
        "# 에포크의 종료 시점마다 측정한 평균적인 검증 손실과 정확도\n",
        "import pandas as pd\n",
        "import matplotlib.pyplot as plt\n"
      ],
      "execution_count": null,
      "outputs": []
    },
    {
      "cell_type": "markdown",
      "metadata": {
        "id": "9G11f8IyfoV_"
      },
      "source": [
        "#### 학습 자동 중단\n",
        "\n",
        "* 학습이 진행될수록 훈련셋 정확도는 증가하지만 과적합이 발생하면 테스트셋의 결과는 나빠짐\n",
        "\n",
        "* 학습 진행 중 테스트셋 오차가 줄지 않으면 학습을 중지\n",
        "\n",
        "* Keras 콜백 함수 EarlyStopping() 이용"
      ]
    },
    {
      "cell_type": "code",
      "metadata": {
        "id": "_MBO2mvxgYk8"
      },
      "source": [
        "from keras.callbacks import EarlyStopping\n",
        "\n",
        "# 자동 중단 설정\n",
        "#  patience=100 : 100번까지 모델이 나아지지 않으면 학습 중단\n",
        "\n",
        "\n",
        "# 모델 실행\n",
        "\n",
        "\n",
        "# 결과 출력\n"
      ],
      "execution_count": null,
      "outputs": []
    },
    {
      "cell_type": "markdown",
      "metadata": {
        "id": "7QYSr0SEjRvg"
      },
      "source": [
        "#### 학습 자동 중단과 모델 업데이트 함께 사용"
      ]
    },
    {
      "cell_type": "code",
      "metadata": {
        "id": "Oq9SLAAejYcp"
      },
      "source": [
        "from keras.callbacks import ModelCheckpoint,EarlyStopping\n",
        "\n",
        "# 모델 저장 폴더 만들기\n",
        "\n",
        "\n",
        "# 모델 업데이트 및 저장\n",
        "\n",
        "\n",
        "# 학습 자동 중단 설정\n"
      ],
      "execution_count": null,
      "outputs": []
    },
    {
      "cell_type": "markdown",
      "metadata": {
        "id": "jLlKdy-TbtWO"
      },
      "source": [
        "# 정리"
      ]
    },
    {
      "cell_type": "markdown",
      "metadata": {
        "id": "Lto3PhZdQ356"
      },
      "source": [
        "## 머신러닝의 분류\n",
        "\n",
        "지도학습, 비지도학습, (준지도학습), 자기지도학습, 강화학습"
      ]
    },
    {
      "cell_type": "markdown",
      "metadata": {
        "id": "bitOv3UyQ357"
      },
      "source": [
        "- 지도학습 : 샘플 데이터가 주어지면 알고 있는 타깃에 입력 데이터를 매핑하는 방법을 학습\n",
        " - 분류, 회귀\n",
        " - 시퀀스 생성, 구문트리 예측, 물체 감지, 이미지 분할 등\n",
        "- 비지도학습 : 어떤 타깃도 사용하지 않고 입력 데이터에 대한 흥미로운 변환을 찾음\n",
        " - 차원축소, 군집\n",
        " - 데이터 시각화, 데이터 압축, 데이터의 노이즈 제거, 데이터에 있는 상관관계를 더 잘 이해\n",
        "- (준지도학습: 전체 데이터 중에서 일부에만 레이블되어 있는 경우로 대부분 지도학습과 비지도학습의 조합으로 이루어짐)\n",
        "- 자기지도학습 : 학습 과정에 사람이 개입하지 않는 지도학습\n",
        " - 오토인코더\n",
        " - (학습에 무언가에 지도되어야 하므로) 레이블이 여전히 필요하지만 보통 경험적인 알고리즘을 사용해서 입력 데이터로부터 생성\n",
        "- 강화학습 : 에이전트(agent)는 환경에 대한 정보를 받아 보상을 최대화하는 행동을 선택하도록 학습"
      ]
    },
    {
      "cell_type": "markdown",
      "metadata": {
        "id": "fAm9SwruQ357"
      },
      "source": [
        "## 머신러닝 모델 평가\n",
        "\n",
        "훈련, 검증, 테스트 세트\n",
        "- 가용한 데이터를 항상 3개의 세트로 나누는 것이 모델 평가의 핵심\n",
        "- 정보누설(information leak) : 검증세트의 모델 성능에 기반하여 모델의 하이퍼파라미터를 조정할 때마다 검증 데이터에 관한 정보가 모델로 세는 것\n",
        "\n",
        "대표적인 평가 방법\n",
        "- 단순 홀드아웃 검증(hold-out validation), K-겹 교차검증(K-fold cross-validation), 셔플링(shuffling)을 사용한 반복 K-겹 교차검증(iterated K-fold cross-validation)\n",
        "\n",
        "평가방식 선택시 유념할 사항\n",
        "- 대표성 있는 데이터 : 훈련 세트와 테스트 세트를 나누기 전에 데이터를 무작위로 섞거나 클래스 비율 유지를 고려\n",
        "- 시간의 방향 : 과거로 부터 미래를 예측할 때 미래의 정보를 누설 되지 않게 훈련 세트를 준비\n",
        "- 데이터 중복 : 훈련 세트와 검증 세트가 중복되지 않도록"
      ]
    },
    {
      "cell_type": "markdown",
      "metadata": {
        "id": "qg-tgaZjQ358"
      },
      "source": [
        "## 데이터 전처리, 특성 공학, 특성 학습"
      ]
    },
    {
      "cell_type": "markdown",
      "metadata": {
        "id": "csgqufnwQ358"
      },
      "source": [
        "신경망을 위한 데이터 전처리\n",
        "- 주어진 원본 데이터를 신경망에 적용하기 쉽도록 만드는 것이 목적\n",
        " - 벡터화(vectorization) : 신경망에서 모든 입력과 타깃은 부동 소수(또는 정수) 데이터로 이루어진 텐서여야 함\n",
        " - 정규화(normalization) : 제각각인 특성의 범위를 균일하게 처리\n",
        " - 누락된 값 다루기 : 제외, 0, 평균, 중간 값을 이용하여 교차 검증으로 모두 확인\n",
        " - 특성 추출 등 : 특성을 더 간단한 방식으로 표현하여 문제를 쉽게 만듦(문제 이해도가 중요)\n",
        "\n",
        "신경망이 자동으로 원본 데이터에서 유용한 특성을 추출할 수 있으나 심층 신경망을 사용할 때도 특성 공학에 신경을 써야하는 두 가지 이유\n",
        "- 좋은 특성은 적은 자원을 사용하여 문제를 더 멋지게 풀어낼 수 있음\n",
        "- 좋은 특성은 더 적은 데이터로 문제를 풀 수 있음\n",
        " - 딥러닝 모델이 스스로 특성을 학습하는 능력은 가용한 훈련 데이터가 많을 때 발휘\n",
        " - 샘플의 개수가 적다면 특성에 있는 정보가 매우 중요해짐"
      ]
    },
    {
      "cell_type": "markdown",
      "metadata": {
        "id": "1Eg4jUTvQ359"
      },
      "source": [
        "## 과대적합과 과소적합\n",
        "\n",
        "머신러닝의 근본적인 이슈는 최적화와 일반화 사이의 줄다리기\n",
        "- 최적화(optimization) : 가능한 훈련 데이터에서 최고의 성능을 얻으려고 모델을 조정하는 과정\n",
        "- 일반화(generalization) : 훈련된 모델이 이전에 본 적 없는 데이터에서 얼마나 잘 수행되는지를 의미\n",
        "- 일반화 성능을 제어할 방법은 없고 단지 훈련 데이터를 기반으로 모델을 조정할 수만 있음\n",
        "\n",
        "과소적합(underfitting) : 훈련 데이터의 손실이 낮아질수록 테스트 데이터의 손실도 낮아지는 경우로 모델의 성능이 계속 발전될 여지가 있는 것\n",
        "- 훈련 데이터에 있는 관련 특성을 모두 학습하지 못한 경우\n",
        "\n",
        "과대적합(overfitting) : 훈련 데이터에 특화된 패턴을 학습하기 시작한 경우\n",
        "- 이 패턴은 새로운 데이터와 관련성이 적어 잘못된 판단을 하게 됨\n",
        "- 훈련 데이터에 여러 번 반복 학습하고 나면 어느 시점부터 일반화 성능이 더 이상 높아지지 않고, 검증 세트의 성능이 멈추고 감소되기 시작함"
      ]
    },
    {
      "cell_type": "markdown",
      "metadata": {
        "id": "WQEPBN0fQ359"
      },
      "source": [
        "과대적합을 피하는 방법\n",
        "- 가장 좋은 방법은 더 많은 훈련 데이터를 모으는 것\n",
        "- 규제(regularization) : 차선책으로 모델이 수용할 수 있는 정보의 양을 조절하거나 저장할 수 있는 정보에 제약을 가하는 것\n",
        " - 적은 수의 패턴만 기억할 수 있다면 최적화 과정에서 가장 중요한 패턴에 집중하게 되어 더 나은 일반화 성능을 제공할 수 있음\n",
        "\n",
        "```\n",
        "훈련 데이터를 더 모음\n",
        "모델의 용량을 감소\n",
        "가중치 규제를 추가\n",
        "드롭아웃을 추가\n",
        "```"
      ]
    },
    {
      "cell_type": "markdown",
      "metadata": {
        "id": "u3zUQnS5Q35-"
      },
      "source": [
        "### 학습 파라미터의 수를 축소\n",
        "\n",
        "모델의 용량(capacity) : 딥러닝에서 모델에 있는 학습 파라미터의 수\n",
        "- 파라미터의 수는 층의 수와 각 층의 유닛 수에 의해 결정\n",
        "- 파라미터가 많은 모델이 기억 용량이 더 많음\n",
        " - 유념해야 할 것은 딥러닝 모델은 훈련 데이터에 잘 맞추려는 경향이 있으므로 훈련 샘플에 일대일 매핑으로 완벽하게 학습이 되면 일반화 능력이 없게 됨\n",
        " - 기억 용량에 제한이 있다면 이런 매핑을 쉽게 학습하지 못하기 때문에\n",
        " - 손실을 최소화하기 위해 타깃에 대한 예측 성능을 가진 압축된 표현을 학습하게 됨\n",
        " - 단 과소적합되지 않도록 충분한 파라미터를 가진 모델(기억 용량)을 사용해야 함"
      ]
    },
    {
      "cell_type": "code",
      "metadata": {
        "id": "bd86cFxnQ35-"
      },
      "source": [
        "# 훈련 데이터에서 가장 자주 나타나는 단어 1만 개만 사용\n",
        "imdb = keras.datasets.imdb\n",
        "(X_train, y_train), (X_test, y_test) = keras.datasets.imdb.load_data(num_words=10000)\n",
        "X_train.shape, y_train.shape"
      ],
      "execution_count": null,
      "outputs": []
    },
    {
      "cell_type": "code",
      "metadata": {
        "id": "ppUb9dGNQ35_"
      },
      "source": [
        "# 훈련 리스트를 벡터로 변환 (신경망에 숫자 리스트 사용 안됨)\n",
        "# 10000차원의 원-핫 벡터 생성\n",
        "def vectorize_sequences(sequences, dimension=10000):\n",
        "    results = np.zeros( (len(sequences), dimension) )\n",
        "    for i, sequences in enumerate(sequences):\n",
        "        results[i, sequences] = 1.\n",
        "    return results\n",
        "\n",
        "X_train = vectorize_sequences(X_train)\n",
        "X_test = vectorize_sequences(X_test)\n",
        "pd.DataFrame(X_train).head()"
      ],
      "execution_count": null,
      "outputs": []
    },
    {
      "cell_type": "code",
      "metadata": {
        "id": "jiNCzdfKQ35_"
      },
      "source": [
        "# 레이블을 벡터로 변환\n"
      ],
      "execution_count": null,
      "outputs": []
    },
    {
      "cell_type": "code",
      "metadata": {
        "id": "QnhFGG8oQ36A"
      },
      "source": [
        "# 3가지 모델 정의 : 유닛 개수 16, 6, 1024\n"
      ],
      "execution_count": null,
      "outputs": []
    },
    {
      "cell_type": "code",
      "metadata": {
        "id": "7fZS1Gh2Q36B"
      },
      "source": [
        "# 훈련 검증\n",
        "# 검증 세트 준비\n"
      ],
      "execution_count": null,
      "outputs": []
    },
    {
      "cell_type": "code",
      "metadata": {
        "scrolled": true,
        "id": "kXvx6DtkQ36C"
      },
      "source": [
        "# 3가지 모델 훈련\n"
      ],
      "execution_count": null,
      "outputs": []
    },
    {
      "cell_type": "code",
      "metadata": {
        "id": "6NPnxPfUQ36F"
      },
      "source": [
        "# 검증 손실 시각화\n"
      ],
      "execution_count": null,
      "outputs": []
    },
    {
      "cell_type": "markdown",
      "metadata": {
        "id": "NauAcQewQ36G"
      },
      "source": [
        "### 가중치 규제 추가\n",
        "\n",
        "L1 규제 : 가중치의 절대값에 비례하는 비용이 추가 (가중치의 L1 노름norm)\n",
        "L2 규제 : 가중치의 제곱에 비례하는 비용이 추가 (가중치의 L2 노름norm)\n",
        "- 신경망에서 가중치 감쇠(weight decay)라고도 부름"
      ]
    },
    {
      "cell_type": "code",
      "metadata": {
        "id": "uq2Z4TNVQ36G"
      },
      "source": [
        "# 모델 정의\n"
      ],
      "execution_count": null,
      "outputs": []
    },
    {
      "cell_type": "code",
      "metadata": {
        "id": "cn1iAWYrQ36H"
      },
      "source": [
        "# 모델 훈련\n"
      ],
      "execution_count": null,
      "outputs": []
    },
    {
      "cell_type": "code",
      "metadata": {
        "id": "CxwTEHcdQ36I"
      },
      "source": [
        "# 검증 손실 시각화\n"
      ],
      "execution_count": null,
      "outputs": []
    },
    {
      "cell_type": "markdown",
      "metadata": {
        "id": "EDbxXMlnQ36I"
      },
      "source": [
        "- L2 규제를 사용한 모델이 기본 모델보다 훨씬 더 과대적합을 잘 견디고 있음"
      ]
    },
    {
      "cell_type": "code",
      "metadata": {
        "id": "GsVudh96Q36J"
      },
      "source": [
        "# L1, L2 가중치 규제\n"
      ],
      "execution_count": null,
      "outputs": []
    },
    {
      "cell_type": "markdown",
      "metadata": {
        "id": "ifnrm3ixQ36J"
      },
      "source": [
        "### 드롭아웃 추가\n",
        "\n",
        "드롭아웃(dropout) : 학습 훈련하는 동안 무작위로 층의 일부 출력 특성을 제외시키는 것\n",
        "- 신경망을 위해 사용되는 규제 기법 중에서 가장 효과적이고 널리 사용되는 방법 중 하나\n",
        "- 드롭아웃을 적용하면 벡터(특성)의 일부가 무작위로 0으로 바뀜\n",
        "- 드롭아웃의 비율은 0이 될 특성의 비율(보통 0.2 ~ 0.5 지정)\n",
        "- 테스트 단계에서는 훈련할 때보다 더 많은 유닛이 활성화되기 때문에 층의 출력을 드롭아웃 비율에 비례하여 줄여줌"
      ]
    },
    {
      "cell_type": "code",
      "metadata": {
        "id": "Ze3GstSyQ36K"
      },
      "source": [
        "# 모델 정의\n"
      ],
      "execution_count": null,
      "outputs": []
    },
    {
      "cell_type": "code",
      "metadata": {
        "id": "zDNmQAzbQ36K"
      },
      "source": [
        "# 모델 훈련\n"
      ],
      "execution_count": null,
      "outputs": []
    },
    {
      "cell_type": "code",
      "metadata": {
        "scrolled": true,
        "id": "3_LkguuQQ36L"
      },
      "source": [
        "# 검증 손실 시각화\n"
      ],
      "execution_count": null,
      "outputs": []
    },
    {
      "cell_type": "markdown",
      "metadata": {
        "id": "QA6MosTDQ36L"
      },
      "source": [
        "## 머신러닝 작업 흐름\n",
        "\n",
        "1. 문제 정의와 데이터셋 수집\n",
        "1. 성공 지표 선택\n",
        "1. 평가 방법 선택\n",
        "1. 데이터 준비\n",
        "1. 기존보다 나은 모델 훈련하기\n",
        "1. 몸집 키우기 : 과대적합 모델 구축\n",
        "1. 모델 규제와 하이퍼파라미터 튜닝"
      ]
    },
    {
      "cell_type": "markdown",
      "metadata": {
        "id": "K_VRNF-qQ36L"
      },
      "source": [
        "### 주어진 문제를 정의\n",
        "\n",
        "- 입력 데이터는 무엇인가? \n",
        "- 어떤 것을 예측 하려고 하는가?\n",
        "- 가용한 훈련 데이터가 있는가?\n",
        "\n",
        "- 당면한 문제가 어떤(유형) 종류인가? -> 모델의 구조와 손실 함수 등을 선택하는 데 도움\n",
        "- 이진 분류 또는 다중 분류\n",
        "- 스칼라 회귀 또는 벡터 회귀\n",
        "- 다중 레이블 다중 분류\n",
        "- 군집, 생성, 강화학습\n",
        "\n",
        "주의!\n",
        "- 머신 러닝은 훈련 데이터에 있는 패턴을 기억하기 위해서만 사용한다는 것에 유념\n",
        "- 이미 보았던 것만 인식\n",
        "- 미래가 과거처럼 움직인다고 가정하에 미래를 예측하지만 사실 대부분 그렇지 않음"
      ]
    },
    {
      "cell_type": "markdown",
      "metadata": {
        "id": "9HNvsn7vQ36M"
      },
      "source": [
        "### 성공 지표 선택\n",
        "\n",
        "- 성공 지표 선택은 모델이 최적화할 손실 함수를 선택하는 기준이 됨\n",
        "\n",
        "성공을 정의 \n",
        "- 정확도, 정밀도, 재현율\n",
        "- 고객 재방문율\n",
        "- 비즈니스 성공처럼 고수준의 목표와 직접적으로 연결\n",
        "\n",
        "성공 지표 유형\n",
        "- 정확도와 ROC AUC : 클래스 분포가 균일한 분류 문제\n",
        "- 정밀도와 재현율 : 클래스 분포가 균일하지 않은 문제\n",
        "- 평균 정밀도(정밀도-재현율 곡선의 아랫부분 면적) : 랭킹 문제나 다중 레이블 문제"
      ]
    },
    {
      "cell_type": "markdown",
      "metadata": {
        "id": "KX1zrxc7Q36M"
      },
      "source": [
        "### 평가 방법 선택\n",
        "\n",
        "1. 홀드아웃 검증 세트 분리 : 데이터가 풍부할 때 사용\n",
        "1. K-겹 교차 검증 : 홀드아웃 검증을 사용하기에 샘플 수가 너무 적을 때 사용\n",
        "1. 반복 K-겹 교차 검증 : 데이터가 적고 매우 정확한 모델 평가가 필요할 때 사용\n",
        "\n",
        "- 보통 딥러닝을 사용할 때는 데이터가 풍부한 상황이므로 홀드아웃 방법으로 대체할 수 있음\n",
        "- 대규모 딥러닝 모델은 훈련 비용이 너무 커서 교차 검증을 적용하기 어려울 때가 많음"
      ]
    },
    {
      "cell_type": "markdown",
      "metadata": {
        "id": "bQhT9BFcQ36N"
      },
      "source": [
        "### 데이터 준비\n",
        "\n",
        "- 데이터 표현을 선택하여 인코딩\n",
        "- 스케일링과 정규화\n",
        "- 특성 공학을 수행"
      ]
    },
    {
      "cell_type": "markdown",
      "metadata": {
        "id": "x0I-Z_NbQ36O"
      },
      "source": [
        "### 기존보다 나은 모델 훈련하기\n",
        "\n",
        "목표 : 통계적 검정력(statistical power)을 달성하는 것\n",
        "- 검정력 : 세운 가설이 참일 때 이를 채택할 확률 (예, 모델의 정확도)\n",
        "\n",
        "1. 아주 단순한 모델보다 나은 수준의 작은 모델을 개발\n",
        "\n",
        "2개의 가설 -> 가설이 잘 못되면 기획부터 다시\n",
        "- 주어진 입력으로 출력을 예측할 수 있다고 가설\n",
        "- 가용한 데이터에 입력과 출력 사이의 관계를 학습하는 데 충분한 정보가 있다고 가설\n",
        "\n",
        "첫 번째 모델을 만들기 위한 세 가지 중요한 선택\n",
        "- 마지막 층의 활성화 함수\n",
        "- 손실 함수 : 풀려고 하는 문제의 종류에 적합\n",
        " - 분류에는 binary_crossentropy, 회귀에는 mse\n",
        "- 최적화 설정 : 어떤 옵티마이저를 사용하는가? 학습률은 얼마인가?\n",
        " - 대부분 rmsprop과 기본 학습률을 사용하는 것이 무난\n",
        " - rmsprop, adam 은 기본 학습률이 0.001\n",
        " - sgd, adagrad 는 기본 학습률이 0.01\n",
        "\n",
        "주의!\n",
        "- 손실 함수는 주어진 미니 배치 데이터에서 계산 가능해야 하고, 미분 가능해야 함(역전파 알고리즘 사용을 위해)\n",
        "- 예) 분류 지표인 ROC AUC는 직접 최적화될 수 없음 때문에 분류 작업에서 대신할 지표로 크로스엔트로피 등을 이용\n",
        " - 크로스엔트로피가 낮을 수록 ROC AUC가 높다고 기대\n",
        "\n",
        "\n",
        "모델에 맞는 마지막 층의 활성화 함수와 손실 함수 선택\n",
        "\n",
        "| 문제유형 | 마지막 층의 활성화 함수 | 손실 함수 |\n",
        "|:---|:---|:---|\n",
        "|이진 분류| 시그모이드 |binary_crossentropy|\n",
        "|단일 레이블 다중 분류 | 소프트맥스 | categorical_crossentropy |\n",
        "|다중 레이블 다중 분류 | 시그모이드 | binary_crossentropy |\n",
        "|임의 값에 대한 회귀 | 없음 | mse |\n",
        "|0과 1 사이 값에 대한 회귀 | 시그모이드 | mse 또는 binary_crossentropy |"
      ]
    },
    {
      "cell_type": "markdown",
      "metadata": {
        "id": "-5daFe6xQ36O"
      },
      "source": [
        "### 몸집 키우기 : 과대적합 모델 구축\n",
        "\n",
        "모델이 충분히 성능을 내는가?\n",
        "- 주어진 문제를 적절히 모델링하기에 충분한 층과 파라미터가 있는가?\n",
        "\n",
        "얼마나 큰 모델을 만들어야 하는지 알기 위해서 과대적합된 모델을 만들어 봄\n",
        "- 최적화와 일반화를 위해 과소적합과 과대적합 사이 적절히 위치한 이상적 모델을 찾기 위해\n",
        "1. 층을 추가\n",
        "1. 층의 크기를 키움\n",
        "1. 더 많은 에포크 동안 훈련\n",
        "\n",
        "- 관심 대상인 훈련과 검증 지표는 물론 항상 훈련 손실과 검증 손실을 모니터링\n",
        "- 검증 데이터에서 모델 성능이 감소하기 시작했을 때 과대적합에 도달한 것"
      ]
    },
    {
      "cell_type": "markdown",
      "metadata": {
        "id": "PLG_VDG7Q36O"
      },
      "source": [
        "### 모델 규제와 하이퍼파라미터 튜닝\n",
        "\n",
        "반복적으로 모델을 수정하고 훈련하고 검증 데이터에서 평가\n",
        "- 대부분의 시간을 차지하는 단계\n",
        "\n",
        "적용해 볼 사항\n",
        "- 드롭아웃을 추가\n",
        "- 층을 추가하거나 제거해서 다른 구조를 시도\n",
        "- L1이나 L2 또는 두 가지 모두 추가\n",
        "- 최적의 설정을 찾기 위해 하이퍼파라미터를 바꾸어 시도 (층의 유닛 수, 옵티마이저의 학습률 등)\n",
        "- 선택적으로 특성 공학을 시도 (새로운 특성을 추가하거나 유용하지 않을 것 같은 특성을 제거)\n",
        "\n",
        "주의!\n",
        "- 검증 과정에서 얻은 피드백을 사용하여 모델을 튜닝할 때마다 검증 과정에 대한 정보를 모델에 누설하고 있는 것\n",
        "- 너무 많이 반복하게 되면 결국 모델이 검증 과정에 과대적합 되어 검증 과정의 신뢰도를 감소시킴\n",
        "- 마지막에 딱 한 번 테스트 세트에서 평가\n",
        " - 테스트 세트의 성능이 검증 데이터에서 측정한 것보다 많이 나쁘다면, 검증 과정에 전혀 신뢰성이 없거나 모델의 하이퍼파라미터를 튜닝하는 동안 검증 데이터에 과대적합된 것\n",
        " - 이런 경우 좀더 신뢰할 만한 평가 방법으로 전환 (반복 K-겹 교차 검증 등)"
      ]
    }
  ]
}